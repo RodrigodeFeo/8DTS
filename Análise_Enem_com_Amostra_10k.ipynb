{
  "nbformat": 4,
  "nbformat_minor": 0,
  "metadata": {
    "colab": {
      "provenance": [],
      "include_colab_link": true
    },
    "kernelspec": {
      "name": "python3",
      "display_name": "Python 3"
    },
    "language_info": {
      "name": "python"
    }
  },
  "cells": [
    {
      "cell_type": "markdown",
      "metadata": {
        "id": "view-in-github",
        "colab_type": "text"
      },
      "source": [
        "<a href=\"https://colab.research.google.com/github/RodrigodeFeo/8DTS/blob/main/An%C3%A1lise_Enem_com_Amostra_10k.ipynb\" target=\"_parent\"><img src=\"https://colab.research.google.com/assets/colab-badge.svg\" alt=\"Open In Colab\"/></a>"
      ]
    },
    {
      "cell_type": "markdown",
      "source": [
        "# Bibliotecas"
      ],
      "metadata": {
        "id": "_vkVce0Il2MR"
      }
    },
    {
      "cell_type": "code",
      "execution_count": null,
      "metadata": {
        "id": "3xDtCPFsXQll"
      },
      "outputs": [],
      "source": [
        "import pandas as pd\n",
        "import numpy as np\n",
        "import plotly.express as px\n",
        "import plotly.graph_objects as go"
      ]
    },
    {
      "cell_type": "markdown",
      "source": [
        "# Carregamento dos Dados"
      ],
      "metadata": {
        "id": "0gosJPaAXR96"
      }
    },
    {
      "cell_type": "code",
      "source": [
        "enem_sample = pd.read_excel(\"https://storage.googleapis.com/cloud-based-analytics_public/BI-2022/enem_sample10k.xlsx\")"
      ],
      "metadata": {
        "id": "w41sNUG3mOBq"
      },
      "execution_count": null,
      "outputs": []
    },
    {
      "cell_type": "code",
      "source": [
        "#Prévia\n",
        "enem_sample"
      ],
      "metadata": {
        "id": "tvyOnWSWXfzG"
      },
      "execution_count": null,
      "outputs": []
    },
    {
      "cell_type": "markdown",
      "source": [
        "# Questões"
      ],
      "metadata": {
        "id": "NVdfRqb-rmoD"
      }
    },
    {
      "cell_type": "markdown",
      "source": [
        "## Exercício 1\n",
        "Qual a distribuição dos participantes por estado onde a prova foi realizada em cada ano e no total?"
      ],
      "metadata": {
        "id": "HCTPVH-DruO3"
      }
    },
    {
      "cell_type": "markdown",
      "source": [
        "### Resposta total"
      ],
      "metadata": {
        "id": "-mFXg57oz7lh"
      }
    },
    {
      "cell_type": "code",
      "source": [
        "# Agrupa por UF e faz count de ID's\n",
        "enem_sample_group = enem_sample.groupby([\"SG_UF_PROVA\"]).agg({'HASHID': 'count'}).reset_index()\n",
        "\n",
        "# Calcula o percentual sobre o total e armazena em uma nova coluna HASHID_perc\n",
        "enem_sample_group[\"HASHID_perc\"] = enem_sample_group[\"HASHID\"] / enem_sample_group[\"HASHID\"].sum()\n",
        "\n",
        "# Muda o formato da nova coluna HASHID_perc para ficar percentual\n",
        "enem_sample_group[\"HASHID_perc\"] = enem_sample_group[\"HASHID_perc\"].map(\"{:.2%}\".format)\n",
        "\n",
        "#Exibe os resultados\n",
        "display(enem_sample_group)"
      ],
      "metadata": {
        "id": "aCeUJLmFsXui"
      },
      "execution_count": null,
      "outputs": []
    },
    {
      "cell_type": "code",
      "source": [
        "px.bar(enem_sample_group.sort_values(\"HASHID\"),\n",
        "       y = \"HASHID\",\n",
        "       x = \"SG_UF_PROVA\",\n",
        "       hover_data=[\"HASHID\", \"HASHID_perc\"]\n",
        "       )"
      ],
      "metadata": {
        "id": "EMtWx08dXhwb"
      },
      "execution_count": null,
      "outputs": []
    },
    {
      "cell_type": "code",
      "source": [
        "px.pie(enem_sample_group,\n",
        "       values=\"HASHID\",\n",
        "       names=\"SG_UF_PROVA\")"
      ],
      "metadata": {
        "id": "CUojJto2rs2p"
      },
      "execution_count": null,
      "outputs": []
    },
    {
      "cell_type": "markdown",
      "source": [
        "### Resposta por ano"
      ],
      "metadata": {
        "id": "aVpsItwqz_uS"
      }
    },
    {
      "cell_type": "code",
      "source": [
        "# Agrupa por UF e ano e faz count de ID's\n",
        "enem_sample_group = enem_sample.groupby([\"SG_UF_PROVA\", \"NU_ANO\"]).agg({'HASHID': 'count'}).reset_index()\n",
        "display(enem_sample_group)\n",
        "\n",
        "# Agrupamento por ano\n",
        "enem_sample_group_ano = enem_sample.groupby([\"NU_ANO\"]).agg({'HASHID': 'count'}).reset_index()\n",
        "display(enem_sample_group_ano)"
      ],
      "metadata": {
        "id": "RcwAa6bL1tK2"
      },
      "execution_count": null,
      "outputs": []
    },
    {
      "cell_type": "code",
      "source": [
        "# JOIN / MERGE das duas tabelas, e já converte o ano para string\n",
        "enem_sample_final = pd.merge(enem_sample_group, enem_sample_group_ano, on=\"NU_ANO\", how='left', suffixes = ['', '_ano'])\n",
        "enem_sample_final['NU_ANO'] = enem_sample_final['NU_ANO'].astype(str)\n",
        "display(enem_sample_final)"
      ],
      "metadata": {
        "id": "7T3jxAf913xs"
      },
      "execution_count": null,
      "outputs": []
    },
    {
      "cell_type": "code",
      "source": [
        "# Calcula o percentual sobre o total e armazena em uma nova coluna HASHID_perc\n",
        "enem_sample_final[\"HASHID_perc\"]     = enem_sample_final[\"HASHID\"] / enem_sample_group[\"HASHID\"].sum()\n",
        "enem_sample_final[\"HASHID_perc_ano\"] = enem_sample_final[\"HASHID\"] / enem_sample_final[\"HASHID_ano\"]\n",
        "\n",
        "# Muda o formato da nova coluna HASHID_perc para ficar percentual\n",
        "enem_sample_final[\"HASHID_perc_ano\"] = enem_sample_final[\"HASHID_perc_ano\"].map(\"{:.2%}\".format)\n",
        "enem_sample_final[\"HASHID_perc\"] = enem_sample_final[\"HASHID_perc\"].map(\"{:.2%}\".format)\n",
        "\n",
        "#Exibe os resultados\n",
        "display(enem_sample_final)"
      ],
      "metadata": {
        "id": "FMFDX0D90BdM"
      },
      "execution_count": null,
      "outputs": []
    },
    {
      "cell_type": "code",
      "source": [
        "px.bar(enem_sample_final.sort_values([\"NU_ANO\", \"HASHID\"]),\n",
        "       y = \"HASHID\",\n",
        "       x = \"SG_UF_PROVA\",\n",
        "       color=\"NU_ANO\",\n",
        "       barmode='relative',\n",
        "       hover_data=[\"HASHID\", \"HASHID_perc\", \"HASHID_perc_ano\"]\n",
        "       )"
      ],
      "metadata": {
        "id": "KH2qlHCj5Uoe"
      },
      "execution_count": null,
      "outputs": []
    },
    {
      "cell_type": "code",
      "source": [
        "px.bar(enem_sample_final.sort_values([\"NU_ANO\", \"HASHID\"]),\n",
        "       y = \"HASHID\",\n",
        "       x = \"SG_UF_PROVA\",\n",
        "       color=\"NU_ANO\",\n",
        "       barmode='group',\n",
        "       hover_data=[\"HASHID\", \"HASHID_perc\", \"HASHID_perc_ano\"]\n",
        "       )"
      ],
      "metadata": {
        "id": "ry3aZExq47qb"
      },
      "execution_count": null,
      "outputs": []
    },
    {
      "cell_type": "markdown",
      "source": [
        "## Exercício 2\n",
        "Considerando apenas 2018, quais as métricas globais de média, mediana, primeiro quartil (25%), terceiro quartil (75%) dos participantes em matemática `NU_NOTA_MT`?\n"
      ],
      "metadata": {
        "id": "r5_sXc22zxoT"
      }
    },
    {
      "cell_type": "code",
      "source": [
        "enem_sample_2018 = enem_sample.query(\"NU_ANO == 2018 and TP_PRESENCA_MT == 1\")\n",
        "display( enem_sample_2018 )"
      ],
      "metadata": {
        "id": "7TmSz08lzQGm"
      },
      "execution_count": null,
      "outputs": []
    },
    {
      "cell_type": "code",
      "source": [
        "enem_sample_2018[\"NU_NOTA_MT\"].describe()"
      ],
      "metadata": {
        "id": "rc_SM_E-6uvy"
      },
      "execution_count": null,
      "outputs": []
    },
    {
      "cell_type": "code",
      "source": [
        "fig = px.box(enem_sample_2018, x=\"NU_NOTA_MT\")\n",
        "fig.show()"
      ],
      "metadata": {
        "id": "OTC4ms8a7lj-"
      },
      "execution_count": null,
      "outputs": []
    },
    {
      "cell_type": "markdown",
      "source": [
        "### Adicional: Percentis (decis + quartis)"
      ],
      "metadata": {
        "id": "mmbWelMaPdjW"
      }
    },
    {
      "cell_type": "code",
      "source": [
        "enem_sample_2018[\"NU_NOTA_MT\"].describe(percentiles = [0.1, 0.2, 0.25, 0.3, 0.4, 0.5, 0.6, 0.7, 0.75, 0.8, 0.9,1.0])"
      ],
      "metadata": {
        "id": "OZN4ymWq7yJb"
      },
      "execution_count": null,
      "outputs": []
    },
    {
      "cell_type": "code",
      "source": [
        "quantiles_br = enem_sample_2018[[\"NU_NOTA_MT\"]].quantile([0.1, 0.2, 0.25, 0.3, 0.4, 0.5, 0.6, 0.7, 0.75, 0.8, 0.9,1.0]).reset_index()\n",
        "quantiles_br['index_str'] = quantiles_br['index'].astype(str)\n",
        "quantiles_br"
      ],
      "metadata": {
        "id": "FmK8kpEL9emi"
      },
      "execution_count": null,
      "outputs": []
    },
    {
      "cell_type": "markdown",
      "source": [
        "Observe que nesta amostra, nenhum aluno tirou mais do que 935.600"
      ],
      "metadata": {
        "id": "WeExsEx9RQRn"
      }
    },
    {
      "cell_type": "code",
      "source": [
        "px.bar(quantiles_br,\n",
        "       y = 'NU_NOTA_MT',\n",
        "       x = \"index_str\")"
      ],
      "metadata": {
        "id": "36Yp02Bd8wKT"
      },
      "execution_count": null,
      "outputs": []
    },
    {
      "cell_type": "markdown",
      "source": [
        "### Adicional: Histograma"
      ],
      "metadata": {
        "id": "kcHmjZc-P0VN"
      }
    },
    {
      "cell_type": "markdown",
      "source": [
        "Observe no histograma que apenas 1 aluno desta amostra tirou mais do que 900!"
      ],
      "metadata": {
        "id": "4kbW5rD-UOFh"
      }
    },
    {
      "cell_type": "code",
      "source": [
        "meus_limites = list(range(0, 1001, 100) )\n",
        "display(meus_limites)"
      ],
      "metadata": {
        "id": "NRRglH83Oml6"
      },
      "execution_count": null,
      "outputs": []
    },
    {
      "cell_type": "code",
      "source": [
        "_h = np.histogram( enem_sample_2018[[\"NU_NOTA_MT\"]].fillna(0) , bins=list(range(0, 1001, 100)))\n",
        "meu_histograma = {\"hist\": list(_h[0]),\n",
        "                  \"bin_edges\": list(_h[1])}\n",
        "display(meu_histograma)\n"
      ],
      "metadata": {
        "id": "qIN2qgj1MNZW"
      },
      "execution_count": null,
      "outputs": []
    },
    {
      "cell_type": "code",
      "source": [
        "meu_histograma_df = pd.DataFrame({\"hist\": meu_histograma[\"hist\"],\n",
        "                                  \"bin_edges\": meu_histograma[\"bin_edges\"][:-1]})"
      ],
      "metadata": {
        "id": "lwKTBZupPP5R"
      },
      "execution_count": null,
      "outputs": []
    },
    {
      "cell_type": "code",
      "source": [
        "px.bar(meu_histograma_df,\n",
        "       x = \"bin_edges\",\n",
        "       y = \"hist\")"
      ],
      "metadata": {
        "id": "TVYqrE4FR-hS"
      },
      "execution_count": null,
      "outputs": []
    },
    {
      "cell_type": "markdown",
      "source": [
        "## Exercício 3\n",
        "\n",
        "Faça a mesma análise, porém considerando quebras por estado (local da prova).\n",
        "Indique quais estados tem métricas superiores e inferiores do que as métricas nacionais.\n"
      ],
      "metadata": {
        "id": "Ytpi2SG4Uh4u"
      }
    },
    {
      "cell_type": "code",
      "source": [
        "quantiles = enem_sample_2018.groupby(\"SG_UF_PROVA\")[[\"NU_NOTA_MT\"]].quantile([0.0, 0.25, 0.5, 0.75, 1.0]).reset_index()\n",
        "quantiles = quantiles.rename({\"level_1\": \"quantiles\"}, axis=1)\n",
        "quantiles[\"quantiles\"] = quantiles[\"quantiles\"].map(\"{:.2%}\".format)\n",
        "quantiles"
      ],
      "metadata": {
        "id": "dcMhBiJ1Wbra"
      },
      "execution_count": null,
      "outputs": []
    },
    {
      "cell_type": "code",
      "source": [
        "fig = px.box(enem_sample_2018,\n",
        "             y=\"NU_NOTA_MT\",\n",
        "             color=\"SG_UF_PROVA\", hover_data=[\"SG_UF_PROVA\"])\n",
        "fig.show()"
      ],
      "metadata": {
        "id": "Tv_ZF2HKK3BY"
      },
      "execution_count": null,
      "outputs": []
    },
    {
      "cell_type": "code",
      "source": [
        "fig = go.Figure()\n",
        "boxplot_data = {\"SG_UF_PROVA\":[\"Brasil\"],\n",
        "                \"q1\": [enem_sample_2018[[\"NU_NOTA_MT\"]].quantile(0.25)[0]],\n",
        "                \"median\": [enem_sample_2018[[\"NU_NOTA_MT\"]].quantile(0.50)[0]],\n",
        "                \"q3\": [enem_sample_2018[[\"NU_NOTA_MT\"]].quantile(0.75)[0]],\n",
        "                \"lowerfence\": [enem_sample_2018[[\"NU_NOTA_MT\"]].min()[0]],\n",
        "                \"upperfence\": [enem_sample_2018[[\"NU_NOTA_MT\"]].max()[0]],\n",
        "                }\n",
        "\n",
        "for estado in quantiles.query(\"quantiles == '50.00%'\").sort_values([\"NU_NOTA_MT\"])[\"SG_UF_PROVA\"]:\n",
        "  mydata = enem_sample_2018.query(f\"SG_UF_PROVA == '{estado}'\")\n",
        "\n",
        "  boxplot_data[\"SG_UF_PROVA\"].append(estado)\n",
        "  boxplot_data[\"q1\"].append(mydata[[\"NU_NOTA_MT\"]].quantile(0.25)[0])\n",
        "  boxplot_data[\"median\"].append(mydata[[\"NU_NOTA_MT\"]].quantile(0.50)[0])\n",
        "  boxplot_data[\"q3\"].append(mydata[[\"NU_NOTA_MT\"]].quantile(0.75)[0])\n",
        "  boxplot_data[\"lowerfence\"].append(mydata[[\"NU_NOTA_MT\"]].min()[0])\n",
        "  boxplot_data[\"upperfence\"].append(mydata[[\"NU_NOTA_MT\"]].max()[0])\n",
        "\n",
        "fig.add_trace(go.Box(orientation=\"v\"))\n",
        "fig.update_traces(x=boxplot_data[\"SG_UF_PROVA\"],\n",
        "                  q1=boxplot_data[\"q1\"],\n",
        "                  median=boxplot_data[\"median\"],\n",
        "                  q3=boxplot_data[\"q3\"],\n",
        "                  lowerfence=boxplot_data[\"lowerfence\"],\n",
        "                  upperfence=boxplot_data[\"upperfence\"] )\n",
        "\n",
        "fig.show()"
      ],
      "metadata": {
        "id": "sExvbr0NgMT3"
      },
      "execution_count": null,
      "outputs": []
    },
    {
      "cell_type": "code",
      "source": [],
      "metadata": {
        "id": "j-WQchiNVRY-"
      },
      "execution_count": null,
      "outputs": []
    },
    {
      "cell_type": "markdown",
      "source": [
        "## Exercício 4\n",
        "Faça a mesma análise, porém considerando escolaridade do pai. Indique quais casos possuem métricas superiores e inferiores do que as métricas nacionais."
      ],
      "metadata": {
        "id": "nPbIw2qlmBIC"
      }
    },
    {
      "cell_type": "markdown",
      "source": [
        "![image.png](data:image/png;base64,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)"
      ],
      "metadata": {
        "id": "YbVaYiHWmqVX"
      }
    },
    {
      "cell_type": "code",
      "source": [
        "quantiles = enem_sample_2018.groupby(\"Q001\")[[\"NU_NOTA_MT\"]].quantile([0.0, 0.25, 0.5, 0.75, 1.0]).reset_index()\n",
        "quantiles = quantiles.rename({\"level_1\": \"quantiles\"}, axis=1)\n",
        "quantiles[\"quantiles\"] = quantiles[\"quantiles\"].map(\"{:.2%}\".format)\n",
        "quantiles"
      ],
      "metadata": {
        "id": "pRePg-DimBIC"
      },
      "execution_count": null,
      "outputs": []
    },
    {
      "cell_type": "code",
      "source": [
        "fig = px.box(enem_sample_2018.sort_values([\"Q001\"]),\n",
        "             y=\"NU_NOTA_MT\",\n",
        "             color=\"Q001\", hover_data=[\"Q001\"])\n",
        "fig.show()"
      ],
      "metadata": {
        "id": "NUiPCz2nmBID"
      },
      "execution_count": null,
      "outputs": []
    },
    {
      "cell_type": "code",
      "source": [
        "fig = go.Figure()\n",
        "boxplot_data = {\"Q001\":[\"Brasil\"],\n",
        "                \"q1\": [enem_sample_2018[[\"NU_NOTA_MT\"]].quantile(0.25)[0]],\n",
        "                \"median\": [enem_sample_2018[[\"NU_NOTA_MT\"]].quantile(0.50)[0]],\n",
        "                \"q3\": [enem_sample_2018[[\"NU_NOTA_MT\"]].quantile(0.75)[0]],\n",
        "                \"lowerfence\": [enem_sample_2018[[\"NU_NOTA_MT\"]].min()[0]],\n",
        "                \"upperfence\": [enem_sample_2018[[\"NU_NOTA_MT\"]].max()[0]],\n",
        "                }\n",
        "\n",
        "for estado in quantiles.query(\"quantiles == '50.00%'\").sort_values([\"NU_NOTA_MT\"])[\"Q001\"]:\n",
        "  mydata = enem_sample_2018.query(f\"Q001 == '{estado}'\")\n",
        "\n",
        "  boxplot_data[\"Q001\"].append(estado)\n",
        "  boxplot_data[\"q1\"].append(mydata[[\"NU_NOTA_MT\"]].quantile(0.25)[0])\n",
        "  boxplot_data[\"median\"].append(mydata[[\"NU_NOTA_MT\"]].quantile(0.50)[0])\n",
        "  boxplot_data[\"q3\"].append(mydata[[\"NU_NOTA_MT\"]].quantile(0.75)[0])\n",
        "  boxplot_data[\"lowerfence\"].append(mydata[[\"NU_NOTA_MT\"]].min()[0])\n",
        "  boxplot_data[\"upperfence\"].append(mydata[[\"NU_NOTA_MT\"]].max()[0])\n",
        "\n",
        "fig.add_trace(go.Box())\n",
        "fig.update_traces(x=boxplot_data[\"Q001\"],\n",
        "                  q1=boxplot_data[\"q1\"],\n",
        "                  median=boxplot_data[\"median\"],\n",
        "                  q3=boxplot_data[\"q3\"],\n",
        "                  lowerfence=boxplot_data[\"lowerfence\"],\n",
        "                  upperfence=boxplot_data[\"upperfence\"] )\n",
        "\n",
        "fig.show()"
      ],
      "metadata": {
        "id": "uZHXdVCpmBID"
      },
      "execution_count": null,
      "outputs": []
    },
    {
      "cell_type": "code",
      "source": [],
      "metadata": {
        "id": "g9LPxPR8mBID"
      },
      "execution_count": null,
      "outputs": []
    }
  ]
}