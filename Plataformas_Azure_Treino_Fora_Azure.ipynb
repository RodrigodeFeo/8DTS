{
  "nbformat": 4,
  "nbformat_minor": 0,
  "metadata": {
    "colab": {
      "provenance": [],
      "include_colab_link": true
    },
    "kernelspec": {
      "name": "python3",
      "display_name": "Python 3"
    }
  },
  "cells": [
    {
      "cell_type": "markdown",
      "metadata": {
        "id": "view-in-github",
        "colab_type": "text"
      },
      "source": [
        "<a href=\"https://colab.research.google.com/github/RodrigodeFeo/8DTS/blob/main/Plataformas_Azure_Treino_Fora_Azure.ipynb\" target=\"_parent\"><img src=\"https://colab.research.google.com/assets/colab-badge.svg\" alt=\"Open In Colab\"/></a>"
      ]
    },
    {
      "cell_type": "markdown",
      "metadata": {
        "id": "QHXfLH6mHbdP"
      },
      "source": [
        "#Setup\n",
        "\n",
        "\n",
        "\n",
        "<font color=\"red\">Caso apareça um botão como esse durante o setup, deve ser necessário reiniciar o \"Runtime\"</font>\n",
        "\n",
        "\n",
        "Pode ser feito clicando no botão ou pelo menu do Colab."
      ]
    },
    {
      "cell_type": "markdown",
      "source": [
        "![image.png](data:image/png;base64,iVBORw0KGgoAAAANSUhEUgAAAn8AAAByCAYAAAAiT7cMAAAK02lDQ1BJQ0MgUHJvZmlsZQAASImVlwdQk9kWgO//pzda6FJCb4J0AkgJoYUuHUQlJIGEEmNCELEjiyu4FkREQF3QRRAFV1dA1oJYEGVRUMS+QRYVdV0s2FDZH3iE3X3z3pt3Zk7uNyfnnnLn3pnzA0DxZYtEmbASAFnCbHFkgA8tPiGRhnsMYKAGcMASOLM5EhEjIiIEIDKz/l3e3QLQ5HrDejLWv///X0WFy5NwAICSEE7hSjhZCLcj+pgjEmcDgKpD7EbLs0WT3I2wqhgpEGHZJKdN89tJTpliNH7KJzqSibAOAHgymy1OA4BsjthpOZw0JA45EGFbIVcgRDgXYU8On81FuBXhuVlZSyf5N4TNEX8RABQywvSUv8RM+1v8FHl8NjtNztN9TQneVyARZbJX/J9H878lK1M6k8MUUTJfHBiJrArI+d3OWBosZ2FKWPgMC7hT/lPMlwbGzDBHwkycYS7bN1i+NzMsZIZTBf4seZxsVvQM8yR+UTMsXhopz5UqZjJmmC2ezSvNiJHb+TyWPH4ePzpuhnMEsWEzLMmICp71YcrtYmmkvH6eMMBnNq+/vPcsyV/6FbDke7P50YHy3tmz9fOEjNmYknh5bVyer9+sT4zcX5TtI88lyoyQ+/MyA+R2SU6UfG82cjln90bIzzCdHRQxwyAGOAB7EAScgCtAbmg2Lzd7sgnmUtEKsSCNn01jIC+NR2MJOTZzafa29vYATL7b6avw5vbUe4TU8bO2glIA3H9HwGPWFrQIgOMU5NpUz9rMhgFQxgJwKYwjFedM29CTPxhABIpAFWgBPWAEzIE1Up8zcAfewA+pMxxEgwSwGHAAH2QBMVgOVoH1oBAUg21gJ6gA+8B+UAeOgGOgBZwC58AlcBVcB/3gHpCBYfAcjIJ3YByCIBxEgaiQFqQPmUBWkD1EhzwhPygEioQSoGQoDRJCUmgVtAEqhkqgCqgaqod+hE5C56AuqBe6Aw1CI9Br6BOMgsmwKqwLm8LzYDrMgIPhaHgRnAYvg/PgAngLXA7XwIfhZvgcfBXuh2Xwc3gMBVAklDrKAGWNoqOYqHBUIioVJUatQRWhylA1qEZUG6oTdQMlQ71AfURj0VQ0DW2NdkcHomPQHPQy9Br0ZnQFug7djL6AvoEeRI+iv2IoGB2MFcYNw8LEY9IwyzGFmDJMLeYE5iKmHzOMeYfFYtWxZlgXbCA2AZuOXYndjN2DbcK2Y3uxQ9gxHA6nhbPCeeDCcWxcNq4Qtxt3GHcW14cbxn3Ak/D6eHu8Pz4RL8Tn48vwh/Bn8H34J/hxghLBhOBGCCdwCSsIWwkHCG2Ea4RhwjhRmWhG9CBGE9OJ64nlxEbiReJ94hsSiWRIciUtIAlI60jlpKOky6RB0keyCtmSzCQnkaXkLeSD5HbyHfIbCoViSvGmJFKyKVso9ZTzlIeUDwpUBRsFlgJXYa1CpUKzQp/CS0WCookiQ3GxYp5imeJxxWuKL5QISqZKTCW20hqlSqWTSgNKY8pUZTvlcOUs5c3Kh5S7lJ+q4FRMVfxUuCoFKvtVzqsMUVFUIyqTyqFuoB6gXqQOq2JVzVRZqumqxapHVHtUR9VU1BzVYtVy1SrVTqvJ1FHqpuos9Uz1rerH1G+pf9LQ1WBo8DQ2aTRq9Gm815yj6a3J0yzSbNLs1/ykRdPy08rQ2q7VovVAG61tqb1Ae7n2Xu2L2i/mqM5xn8OZUzTn2Jy7OrCOpU6kzkqd/TrdOmO6eroBuiLd3brndV/oqet566Xrleqd0RvRp+p76gv0S/XP6j+jqdEYtExaOe0CbdRAxyDQQGpQbdBjMG5oZhhjmG/YZPjAiGhEN0o1KjXqMBo11jcONV5l3GB814RgQjfhm+wy6TR5b2pmGme60bTF9KmZphnLLM+swey+OcXcy3yZeY35TQusBd0iw2KPxXVL2NLJkm9ZaXnNCrZythJY7bHqnYuZ6zpXOLdm7oA12ZphnWPdYD1oo24TYpNv02Lzcp7xvMR52+d1zvtq62SbaXvA9p6dil2QXb5dm91re0t7jn2l/U0HioO/w1qHVodXjlaOPMe9jredqE6hThudOpy+OLs4i50bnUdcjF2SXapcBuiq9Aj6ZvplV4yrj+ta11OuH92c3bLdjrn94W7tnuF+yP3pfLP5vPkH5g95GHqwPao9ZJ40z2TP7z1lXgZebK8ar0feRt5c71rvJwwLRjrjMOOlj62P2OeEz3umG3M1s90X5RvgW+Tb46fiF+NX4ffQ39A/zb/BfzTAKWBlQHsgJjA4cHvgAEuXxWHVs0aDXIJWB10IJgdHBVcEPwqxDBGHtIXCoUGhO0Lvh5mECcNawkE4K3xH+IMIs4hlET8vwC6IWFC54HGkXeSqyM4oatSSqENR76J9ordG34sxj5HGdMQqxibF1se+j/ONK4mTxc+LXx1/NUE7QZDQmohLjE2sTRxb6Ldw58LhJKekwqRbi8wW5S7qWqy9OHPx6SWKS9hLjidjkuOSDyV/Zoeza9hjKayUqpRRDpOzi/Oc680t5Y7wPHglvCepHqklqU/TPNJ2pI3wvfhl/BcCpqBC8Co9MH1f+vuM8IyDGROZcZlNWfis5KyTQhVhhvDCUr2luUt7RVaiQpFsmduynctGxcHiWgkkWSRpzVZFBqRuqbn0G+lgjmdOZc6H5bHLj+cq5wpzu1dYrti04kmef94PK9ErOSs7VhmsWr9qcDVjdfUaaE3Kmo61RmsL1g6vC1hXt564PmP9L/m2+SX5bzfEbWgr0C1YVzD0TcA3DYUKheLCgY3uG/d9i/5W8G3PJodNuzd9LeIWXSm2LS4r/ryZs/nKd3bflX83sSV1S89W5617t2G3Cbfd2u61va5EuSSvZGhH6I7mUlppUenbnUt2dpU5lu3bRdwl3SUrDylv3W28e9vuzxX8iv5Kn8qmKp2qTVXv93D39O313tu4T3df8b5P3wu+v10dUN1cY1pTth+7P2f/4wOxBzp/oP9QX6tdW1z75aDwoKwusu5CvUt9/SGdQ1sb4AZpw8jhpMPXj/geaW20bqxuUm8qPgqOSo8++zH5x1vHgo91HKcfb/zJ5KeqE9QTRc1Q84rm0RZ+i6w1obX3ZNDJjjb3thM/2/x88JTBqcrTaqe3niGeKTgzcTbv7Fi7qP3FubRzQx1LOu6djz9/88KCCz0Xgy9evuR/6Xwno/PsZY/Lp7rcuk5eoV9puep8tbnbqfvEL06/nOhx7mm+5nKt9brr9bbe+b1n+rz6zt3wvXHpJuvm1f6w/t5bMbduDyQNyG5zbz+9k3nn1d2cu+P31t3H3C96oPSg7KHOw5pfLX5tkjnLTg/6DnY/inp0b4gz9Pw3yW+fhwseUx6XPdF/Uv/U/umpEf+R688WPht+Lno+/qLwd+Xfq16av/zpD+8/ukfjR4dfiV9NvN78RuvNwbeObzvGIsYevst6N/6+6IPWh7qP9I+dn+I+PRlf/hn3ufyLxZe2r8Ff709kTUyI2GL21CiAQhROTQXg9UFkLk4AgHodAOLC6bl6SqDpb4EpAv+Jp2fvKXEGoGkdAOGI+rRPsymiiohGeAMQ7Q1gBwe5/kskqQ7207FILchoUjYx8QaZG3EWAHwZmJgYb5mY+FKLFHsXgPZ30/P8pIRYI3GdmHFOMfdWd30G/5DpWf8vPf5zBZMVOIJ/rn8CkL4YwK1z/BQAAABWZVhJZk1NACoAAAAIAAGHaQAEAAAAAQAAABoAAAAAAAOShgAHAAAAEgAAAESgAgAEAAAAAQAAAn+gAwAEAAAAAQAAAHIAAAAAQVNDSUkAAABTY3JlZW5zaG90nkBqjgAAAdZpVFh0WE1MOmNvbS5hZG9iZS54bXAAAAAAADx4OnhtcG1ldGEgeG1sbnM6eD0iYWRvYmU6bnM6bWV0YS8iIHg6eG1wdGs9IlhNUCBDb3JlIDYuMC4wIj4KICAgPHJkZjpSREYgeG1sbnM6cmRmPSJodHRwOi8vd3d3LnczLm9yZy8xOTk5LzAyLzIyLXJkZi1zeW50YXgtbnMjIj4KICAgICAgPHJkZjpEZXNjcmlwdGlvbiByZGY6YWJvdXQ9IiIKICAgICAgICAgICAgeG1sbnM6ZXhpZj0iaHR0cDovL25zLmFkb2JlLmNvbS9leGlmLzEuMC8iPgogICAgICAgICA8ZXhpZjpQaXhlbFlEaW1lbnNpb24+MTE0PC9leGlmOlBpeGVsWURpbWVuc2lvbj4KICAgICAgICAgPGV4aWY6UGl4ZWxYRGltZW5zaW9uPjYzOTwvZXhpZjpQaXhlbFhEaW1lbnNpb24+CiAgICAgICAgIDxleGlmOlVzZXJDb21tZW50PlNjcmVlbnNob3Q8L2V4aWY6VXNlckNvbW1lbnQ+CiAgICAgIDwvcmRmOkRlc2NyaXB0aW9uPgogICA8L3JkZjpSREY+CjwveDp4bXBtZXRhPgooxjokAABAAElEQVR4Ae2dB3ycxdHGR+6We5WL3G3cuw22caE4QAIh9BZqaCEk9FBDDyX0EkJLIISQ5CONFjC2MQYDNti4V4x7770XffPf055fnU5370knWbJn9NPdvW3f3WfbszOzuxn9+vXLkRSkQoUK8vLLL+d5Yt++ffLtt9/mOX/ppZfKwIEDJSMjQ3bu3Ck8x////d//yfDhw+Xkk0+W008/3V0nsG3btsmwYcPkww8/dGHXqVNHbr31VmnYsKE75h3Lli2TZ555RjZt2iTlypWTW265Rdq3b++u87F3716ZOnWqvPjii7J//3556aWX3DuJA0IYkyZNctc5/slPfiKnnnoqP6OydetWefLJJ2Xx4sXuWcLwz/ubli9fLnfffbc/lPvvv1+ys7Pd8erVq6Nxvummm6Rz585y+eWXR+/1P3JycuSKK65wh0899ZTUqlXLX4p+f/nll/Laa69Fj8HkiSeekI8//ljefvvt6PkwP4JxDN6/a9cu+cUvfiG///3vpWrVqu7SI488Iueee660bt3aHfv3JcPTh3vXXXdFnyWdS5Yskccff1y2b98uDz/8sGRlZblbKRcbNmyQxo0by9q1a+W2226TX/7yl9KzZ08fVPTbX69YsaLLv9g84cZnn33W5X+vXr3kyiuvlEqVKkWfX7dunfz1r39116tXr+7yr379+u76nj17ZMeOHVKzZk2ZO3euPProo9HnCvpxzDHHyAUXXCDly5d3t8ycOVM6duzoysrTTz8t06dPd/WBMh+U3bt3yzXXXONONWjQQH7zm98I8UGIY7169VxcwOG5556TatWquWv+I/g8584++2w58cQTo2XU4/3888/LvffeGw2bON1www0umBtvvNHVI9L9q1/9Kime/t0FfYfBM1m+EzZ14IEHHojGmfo8ceLEaLuSLIzHHntMSH+VKlVcGPyeM2dONK1FxXP9+vWuzvbu3dvlVaNGjRwk5Bt1eNWqVQVBlOc87WdsuaD8kedBueSSS2Tw4MGu/SSfaNOQNm3ayJ133hm81f2ePXu2q2f+wpAhQ+Siiy6Klo1PP/3U1QF/nW/q2rXXXutOge/8+fODl116+/fv785Rf++44w6hjQwryfKM8nvSSSflC+7999+Xd955x50fMGCAXHzxxULdpw0HK8oc6R0/frxLY2wA7777rrz33nvudKK+gnpK2AhtDPWf9I4dO9a1B7TfhNOsWbOE7ZILIMkH9ZT0+raLPqZ58+buqV//+tcufffcc48rv5xcs2aNq/+ZmZnyxRdfyOuvv+7u7dKli1x33XXRtod8AS/61TDt0h//+EdZsGCB67NoI6lnI0eOlH/+85/uecpMrITF0/e9yepibPixx7RRpDNWaC9XrFjhTifrjyg3yfreRH0Fbbuvk2B09dVXC+0o/QRCnwmfSCZFre+EHzaMhx56SGiX5s2b5/raYNxID9fpd5CMVMkfDx111FEybdo0adGiBYcya9Ys9x37wcsgLFSqgoTCT6NaUINCwSeyixYtihsEDQLxIAz+g1K3bl1HFMmsGjVqOEIXvE6jwD0bN26UJk2aOCKyZcuW4C2hf0OcaNAL+3yYF1H4KKyQNRrBkpZkeAbjQ6NC3kOG6YSDwnnKRqJyEby/sL8pN3QSS5cuFYhOrBAPyheDisJKy5YtHbktSn4QDwY/ELvCCJ0JnRMN1MqVK6MkoTBhFeWZZHiGzXfqKnWJgUGsJAqDDof0Q8SKIonwZMDWrVs31/kW5R1hn6VdgewUVqiHHTp0cHUgtn30YdKGUkcpP/GEes+gBGJUGEmUZ6mER32mzYhtT8KGkaivCBtGUe+jz6G/QoHAwDue0BfRJ0HqEgmDV+6Jd1+idgny99ZbbwmDgaJIIjzTVRcTxS+V/ihROFxL1lckez5d14ta34lHsjDgXNT1QpG/dCXUwgmHAKNFNEBoUtF6opmk8TAxBAyBCAJoCRgUoU1G+48m9ptvvkkrPGio0cBBhNAMQaa8dimtL7LADIFiQmDo0KFy/vnnOw0vg95Ro0blU4oU9dUlUReLGkd7XqScgVC6EUAL0bdvX+nevbvTKjJybNWqVemOtMXOEChhBHr06OE0KdQX6grauXQL2lVG1WhaeAfmXxNDoCwhgNVu8+bNgtaQMoyGMN1SEnUx3XE+HMMzzd/hmOuWZkPAEDAEDAFDwBA4bBEwzd9hm/WWcEPAEDAEDAFDwBA4HBEw8nc45rql2RAwBAwBQ8AQMAQOWwSM/B22WW8JNwQMAUPAEDAEDIHDEQEjf6Ug1+tWriL1q0TW2Cup6NTUJSAaVs2UChmpFQGea6BO7/V0LbV4Qnhc579qzBp38e4vyrmftGorQ7Mjyw0VJZzS+mylcuUdjpkVKpbWKFq8ihEB6s/POnaRjnXqFuNbEgedrL4nfjr81ezqNeTnnbtL7cqVwz9Uhu+sValybjtauHa/T8MsubRD54OCAOWS9j1Mu3Qw41nS4JS1/ijvCrRJ0MrQ6x3r1tNMryC79+2Xaesjay41zqwmTXU9NZZz+37TRtm2d490qlNPKpWPEIsFOrto3c4Da1VBdlrVrKWLXUZeuF8fnKdLmGzaHVn3qLKuAddRny+n12dtWC87dU27TtoAUui415/rULuOVCmfNwkLtmySjbp+Eo1Im5q1ZY8ujDp13Rr3bIfadaW8BhqMO1HoXr+hHKFh7dV7v9u4wTW2/5r3neRdnS4JOAVc7lK3vmRWzBtHd6sGPnvjejm1ZRu54IiO7tQ1n42URVs2FxBSek63q1VHHu4/UKrlEor1u3bKhSMiC2sne8ORWY3kvr4Dordd8slHsiZmDbIXjxkqTatFFi0es3ypPDIxvctt+JeTb1d37ibLt22VkUsX+dOH1PffTzjZldvJa1fLneO+OKTSZolJjgBt5FltjnBtHG1eSUuY+p6uOB3btJmc2qqNTF63WsatjCzim66w0xUOeDSvXlPoG4oi/Ro1lnv6RBbOJpxffv6JzN+8KaUgLzyik+uz/u/7ObKjgPUZUwow5ubTW7fTtn27fLEi7xqo5bXTfvvEHwvfE9eslt98nbhdKu54xkS7WA7D5HtZ7I/isJKC8aMxemLAkOgN14/5VOZu2iCP9h+kI4FMd/7DRQtkipKtO3odGb1vnxK2Sz8ZFiWAt+m1rvUiuytEb9IfdHL3jx8rJzVv5Tp2ro1btULe+m6WPB54759nz3CE7smjj+GWPPKZEo7fKeG4qXsfYdSB/GH6ZDdKCY6UrhszSlbpkg0PHDVA2ispjJVPly2RtQHCGns9zHE1XTz1sQGDC7z1L3Nmylcrl8spSgAZYVOhilsgTBA/iNlcJerblaiHlbm68Cj5S0MNEc/Qv1h5WxujY/R6TyXULLtRXAIxH6vYzUux0Syu+BRHuP+eP1cu1IFB+RS1s8URFwuz5BFYre3TdB1gT1wbbueQdMcwTH1P1ztnaDpp/xepoqC0yuUdu0oz1VD+b9H8IhGuuapgoB2FVGDxKVeIdpJ+ESVHcRC/irqc2JWdurqBdSz5oy//UNP/Y+2zUM4kk+KMZ7J3p+t6mHwvi/1RSuSP0cmzUybK9d17ue/Wuh3TOW2PkKtHj5T//PBU1d5tlBemTXIaM0YNTyk526y7FkBsTmjWQv4+d7bLj9vHjZH3fnSa+33WsPckSzWHLww+XnooYehev4G8u+B76d0gy5G3flmN5Z9KKC4Y8T/52w9Odo0hBAM5U5/lvjt7H+UajgcnjItWhnvHfyX/1ThhOrtCC/IFwz90I5lf9+wrbyh5REMJMYP4QYSemDzBhfnikKHSRDVXaAi9VFcSxwh8t2oGiQvaxDBSs2Jke7F/aLrB5q4+/Vw8n5r8rfxl6A8F1T+Yzt+80aX9V916Oo0o4T8/dZJ8rvHyQkNxaYcuGrdq7v1f6+j45RlTZcuecLtCQNzPa9teOqnmFqmsGtN2tWrLizOm+FfIDzSPztV7yI9tuiPGhNUr5ZWZU10ectMG1RL+XvO3vWpJ2+iz8WTEkkWOVEP+4gkaXQhoS911Zd/+HJcPLyo536haXwYWmBL25uyX2776XFZs3+Y0wLf36isVNR9J67U6Su7VoKH8smtPZ7ImXX/TwYGXQY2bytVdurvDb1atlOOym7n3MAD4ZOlid57G7WfakENiIehT1q5x8SmnZJb0jlbin0jQ5t6qcaLRBiPILmmhoeM9YIdcpvl1dOMmUl9NJJTDOarpfVLzfunWyC4yNbR8/FzjShkmHqs0vZVU6/3ViuXykubLiCULHfkjLHC7o/eRLs2Lt26W28eO4XTSd2Cev75bb+mWu5XdVN0hoa3mHRgTBprT5jVqqsmtm6sLlHu03y9MmxzVQmN2/KlqGrro4sYQUTT0mPfPG/6Bi0Oij/PadXDabe6hPJMuhAFg93qRbYbe1EHQx5rWM1XbcErL1lJXO0Te8cHC+UJdR9uPdeGhfgOdFuwD7Xw26/VztKzStvxj7hz9ny3geXmnLnJkw8ZSQ8+TttdnTw+tSfqN1k8sFhAuMGJAS55QJihLCJ3isU2by35t5Sij13bt4erUJu2If6UDStq7RHgS59PUXQGhDUKLdEvPPg5P6gBaINJ7UftO8kMdBCODGmfnS0NB9WihWg6on7SJ1JlHJn7tLDKUV/KMNnLWhnUuXOr7yS1au7q8T8sD7c4k1eY8/O3X7nqi+g7uDL4ZSILFYxPHyxmaf1hQkNdmTQ+tkf9d/8GOVPFcT63bK5QYIdTzm3r0cZjSBvPOybrlWW8d1C/UdvOxSeO1j2gkZ2vbTFuB5Yb2bYvmwXsL5wlaMb8bSKK2LVnZ+q8Ownjeu+bQF+xSaxRlA2WDl0T5zj1Yo67q1E06aH1CsVAY4kYcULZ4k2tLrbvkORJMB23RgEZNpEqF8jJyyWLXbrubknzgCkS7iNRRCx3lFQynr18XLTcfL17oyB/ppR/jPsrUvd98FU1TongSNnmJmb9XbttHfccieOWnw2WZ1ttkQu/81MBjJKtqNcHa99c5s+Q67T9xH2AQ8dCEr+VpvU4fC594X9uSZwcd68orde4/mqfJ+goskGHynb45Xn9EfsOBaNPXqoWMPpO+pr3u6ET5eVHb2C9VgYGE7d+xFMJP/j3/u3xWNxdQCh+pOXxpwFQyBGCu0Y7raO1se2slRVYp4YMBIxQ8xDckP2wRacg4R2GisUHqaWFuBtnKHf0syd1ejQbQyw3dezuwOKaCe6Hy+ArEiMT/5rp7h3bICB0vjSnmY4R7aUzoxBEKAg0f/09N+dY1/ut0pwAvNNZUArQwNMSpCh1C8N2M2JAD9DISIkR05959roBCWL30VywxtzLqnKGVcI+a3I/Lbi6PaCMQVrtGWgc1ORB3ChvH2dVquNeg5r9RcaZg7dy311VO3vH8oONcp+HjUpRvGr0njx4S7SCoFGiAn1fiTyWmEaHC8F1RrzmfRCUjkAHOU5EhaJU1P2k8ONdISUFQILU0Ivyf1LylI2VoKS/W/PfyC+2wf6ImJsKAqNHJcD/hQQyTCQSJOPLMCc0OvING05tzKmg4Z+vAiPu+VDIH+Sd/r1DSiVDeaZx4hngwWAJ7Gk0GVbEC6edaJI6R/YSTvQNyisYcDTh1AILKb8IgXjwPfn7gBalcrtvMUVZoKEkfwqAFjIYtWugIHPkAWQ0juIjwPv7piCBoPFsn9xznaUsY+Fym/m2Zeo0GkvpJnl2u55DyGte6SmS5/3wllL/o0sOlgXQN1DYIYgOe5AfabDoj6gv5AbkOI75MER647Nb2gjyh7lF2EUglcQCbF4ZEBqzEAaLIQCQZnlU0rTzPPxhU0LLk85X3+zYBnPy7SEdQEtUj3k++BuuML6+8s1blyICU+FLf6ZAYPM1WszJEjnvCCFp/X2f4xsXHp4tv7/ITJiyPO895CxLP0T4QNgSHOgzOtFu0T8R7iLZfnOc5Bii0JVzjmLIDKUSStW3JyhaElvLGuxDKH1YkBjBekud7BXlpyA/cQJF7qWOx+erDSvRNN0ndJY38U0a8RPI9co22j7YMzH6kfS8YhxH66Us0bQjpJZ3Uy2B/5MMhb3y4pKevEnEvieLJPfjHMWhG8QE5ow1APKl1B0k+fPlD0UC/AvGjXaW+V9byyKAbjFBmEB9/P/gjyfqKMPnuwlGMfRn2YXOevoo2y5VhVXYQN9pRhHNnaf+AhO3fGdigLMA9AkVQUSV5TxfzBm8KRUNHwYJwHaskAQn6f+GIj+/fQmXl+LHRwOFvFhTA+OOxJ7jOhfNojTy59PdhFqWSHJ/7Dn8+7DdECw0AnX0wY7xfGuFg/qTQUSApxBNWr5Kjc8kr1xcETIsrd0TIL+eTCWl5UjWKo5ZFNE7+frQukGLMekFBM4o2hTiDl59U4TvAV1XT97qOqO9Xrebu/fuktXY2bfQ/jHygI+HLRg2LEuTLR33stKloOZBLOkTIESb1s4e9LxeN/MiRZBrj/uqjkg7B/wPBV+Ssj94XtL5oPikHJ7Vo6Uz+XP9IR/49VCv05+NPErSn41W7htz4xacu3WPUD+W0D9+NaiTdxdwP/P8IHwFP3gH5Jh10qJDlE5UgII9oHoC39+GZtm6tK4PuYoIPyAllFflG43bWx+8LLhAIHRB5xyCFsG/6crQS9rVCnJFs9Y1F+monBrFAcIn4meYHrggMTLbH+PA0VuJHpUfQdtysYSLJ3gFJ8GUev86zNZ5omxC0bYu1XqKtAX/MO2j7ntLyiuaPuj1UtR1I1Vy/2kYaD9KCn89D345z15J9oAGC+CKvzJjm8pQBxXOq2Uao38MVS58nD44fJ39Wbd0Tkya466fmasnQll6jFgaE+L44fYqc+uE7isVn6g85RvpkZTk8aZ8eVbePV7SuvKOdCsLALYzgcuIF/1vwwl8Y8do6tPbEGWE0/1PFFasEeUK5SIYnrh5eA435cJI+QztJff7ZJx+7/CdsNMiXabmIJ4nq0bnt2rsB4nu5aed54oW2JiiQUAQsIRNcR3PzquZRGEFTc9Xo4e5W4v+ttpn+HVhWMGuGFbB+WgfdsYLvn2+ffj56hMOI+kHbhRyhgymIKwMnBEsIbRfvR8gLJFnblqxszdQB90OqMaUdQZ6dOtHVQ+q2l2T5fqKSMQgCYVDXfR32z4f9po/F4hW0Cvlnl2gd8WnHykDb5+/rlqtl9/cW9I2WkzKOkK+0N7hRPa7fsUJenPfx/5wVkGtY6bwkiif34I+PoPyhv3tYNXXU+WBf624o4CNHz1+i9YM4IljvTv/oXbVCjtByOUItB7td++4u6geDfNq2oCTrK8LkO+EV1B/hT49VAvn91MmOV/D7DrW40E4xWETC9u/wGC/eeuSPC/MdGcqk8CQNHgJbJdMw12AqRHwlhOTBuJF/nHCK++bjRy1baUHZED3mB5nmNVKYeWKFwnyUFqp4I4/Ye+MdY5KgU8NkxMw5L+s17l5QlzO6xBzphYLtVfqoZlFHY/b1afT3Jfv2DX3sfbG+FFz3js6rlGCCH4R0nex0IxeuewLAby9oYcIIlQUfR/BAgiQbUkRnjwxbvMB9M0GHjo9RVUstpJ68uIuF/MDUi2DOhACrklNGqSm2tWo5W9WoJa9uinQ83AexRQbr6B7yT36szNU6uwshPiCNpJaKwqgJTBkde5mwJuJLxX2Ycgoj+B2iZcb3lQ4cHLMyM53p7uVjf+C0KcFw0WYgpBehkV6d23lBzGi8Yv0wIZNefP3jmNFjondkKeFFwI2GCPlW04xJ04s336Pt4j8ovmzhc0v9O1JH9vwjNETj1RRKviSTOUomec9QHcChTeDfa+Pwf2pR44BmC5NWUCAnYAq2XiCn7+tgBvEmzNa5nQlYPafkMiheOxE8l+g3HYqfeDVWCQgdpyfRweeeURcYTKMIbSESBk8GGwxm0Uhh6kXjxrlgGl1gBXwkq0fBx7wmUWHMIxAFBrlogjG184/Qnse20XkeDBxgHfFhYIo9s007Vx4wsaVbNii+WGZ2ajnwFp5Y7SJ1ERmrJk+0V+R7qm1bvLJFmPQBaMAIc8zyZfnqaLJ8r1GpIsFoOMtcfaROMijyz7mLafzATYGaiUl4sH7TVoQRyOmYFUvV3N5btithSuQCQ91D0+rNtGjtw8rb8+Y48z1tu++XKf+0o5TNVMVPLIz3bGzZjxd2vL4CN6Nk+R4vrHjn1u/aodbLve4SbQVmX+/LjWYSSda/8xwKBdq4VCcIuRfEfKRM/sggGnwa5a9Xr3D+SZ78ea3g0GbN3WsogBQO2h0IHiau3+uIP9hhPKojCkx8jBrwfWGEF+xOyAD8eX6aOyM2Jv6hDiepDwCdbHBix1rtcEkLHQtx+8+8uW50h78Y4AY1G2jgMCNA/hiR+8Yn1MtTuMmbwnOt1dEnvT8Eo2NG8Qj4t1VzxERNW1Flq2Ls87Sraj4p8GjImB2NpEp4C4rPSjUp0gh11c7UE2v8PP07ID00PoyImMVNQ4xPD4SJSh0sFwW9I3geMycSLG8btbP2acXfCZOD960KPhv2NwOT4ao1oRH3BBrTKeWVTh0t5AOqUdqjZe1/p5wRDdaT77Y6UMJkCRlG6FwgR55M+AeoS5i87j9ygNMcUCaYJZ7oHX6kCHHBD4x3YioLCvdgMmOCk9cacB2TB74zXh6YMNbVCzTjEHK0ltRZykoygeCJmpMwc/A+GruzlCggNPYeC47xedua6zOJ6RcCGkuKcuKUBJ9Wyuqv1RfPC2mHYKUiYEqntFTjepRijvgOLhiOH0gFz4XBE2JJ480A57quvdzjuJ6ElWT1iHAgSojvWPARDAplDOzfW/i9G4hQz9Bao4H986wZ0ZUXgs/E+w1phUAywY7BFRq/2MFLvOeK4xx1kUGB10BRh1Jt2+KVLR9X345gTly8ZY+rq5RP2qZk+X5u2w4uGD+opX1tFhj0+Hek69vHNeg+FTZs/2ytXAUOz6Eg2bFvb552ybtgJcKsoHdCyp9TDSrxo19mMESZPK11W+fvXtBzqZzfm9v++0Fwh5g6EAwrXl/hr3s84uW7v6co32H7d3gUPtS0vVgA/QC1sO8un52dfV+qD+MXgFbqr9/NlOlqKsO3CRb73/nfuwbkYh114W80Y8NaN5ECrRodPvewVEx1fZaKinAfJqjTdBRM40FDgtbpTNXE4LNAo4XjLmZkjhkxoU1DXXxX736OUOL3QMb0VUdvCBSqYzp0/BEpULz/NdUg4vuAQAZn6qiFJV9wOMWEjb9CjqLbRRtA4vnG7JnRTghy+yMlClRcOhfMxGGFNN3Tt79zHMXXiXj2y2riGmfiiVbhHDXV8M76VTJl855dqhFo644xx6Bxg/wQR0bX+PKA3VWqpTymSTOn1vfmiERxooNnsgt+EQjpHtI0282YpaOgk4TA0LHzfbU6JoMrHe/zqrLG/+l29XFBW8F18q2bxuk4dX5nKR80S2hzbtQRI74cPIuplbiiaWJkxWgH7VI7JRa8H9+FzloeECaeoJnE4ZvlFAj/t2pqYSY0v7/RgQZOzJS7u9WPi/PehEpYNB7MMuddmL7Ak45v4+6dTiPBMcTzc8UT7R8dHe/CfwfNJoIGLuyyMT5d4EmDhcsAAtljNhxhQmwrq59bFS2DaA0os/iZQHbAgxlz5O2prdtIC00zmmfMR5QZzDXkMVhjjsbUClkFV3wx6bjBItE70PJRrnkvM+jRblbXRheZrIMI/EfpIE9s3tIRbtJC3hBXfOfQ7KC1w7F/YONsN/AYv2alm6hBWUZrH2+k7V4Q+IAkEXfiC8nEBMN7ECZTYKKhfOPj2U8tCnSoxJd2ZLCWUUwn1JMbdKIZPjTUC8gK5ZfJMRDnNdpmgCcdFnWY8ny21lvS3FA1sYk0GD6q5IU3ERMW+UpZRHDfQPtEHMh72qLOSoQp6+phHJ11HgZPwsO0T/tE2QDHkdqmeaEM4092guYLaSVNpBfyT7kIU4/woWVJkc716kXrIOE3VR/fEeoagbvIzTqZgnaZNmba+jW5aYn4QPOOZPWd8PDzpvyQL8jDE7+OTnhyJ5J80K5fq5O3sCRRPsCb34RHHM4/ooOry9sUL+ospIEyB3Z19J7xqr1kQEN5pKyTb+QP8qb2TyyRk6xtg3wkKls+Cfh7o9UfoJO4mAiANpy0Uz6T5Tt1kX4TxQLxY/JdzVyrDe0k9SKMMEnifB300W5GymA9rQfN9P07nQn0um69XB2nLpN2tGpgA2FgwA2myQRCBskgfHAmDzhupdp1XJiYQMbSbuTRzPXrtQ3tKLim0L7iFoLJN1E8GUgxkYe8wpLBAJIyzoAL64efXJUontQLJmi10L4doQ9gUimDKm/lyNHz1GHyn7LjJ7LQzmD14dlEfYW3diXK90T9EW3n1Z27RnycFSv6WSbJIE01rbRz9HkMMsP077SBTCzBZQ3svUnfBViIj3KFeEZHPVscKUALBcCjlkYK7ortaBGYEQhH1RksSsbcd25l5DeFloR6wQGSisMsYgRNCP4AkDYEc101/f2nWRGToNeKoSHhWe83hdYFguP9CslsLxQMZod5Xx2vYfuvan0gngidLH49hEPjAhv3gmkD9g8Rwg8gFaGC00FTwRHCR6tCOhEIpdcY0VBz3h+T2QjklxE25ynATKZhYghkO0znSxjgFMQErAgf7QqCRtP7sTFyhoAwmmVGI1hAwOhMeM7nL3Enfxppg4hgjkIz5POEPOR+CD1C4/OqdvZgyXmeR4uKj4nXaDLbEEHrR+Xx2mR/nTAJj+e98Ju00bBCCD1+nA/iSUeHkOfPqBaVQQANpE+3Dy+VbxobHHtJByZsrzHGfE4jR4MIwaSykldgB0YQoFvHfu7uQdMEoYPYQ/T+NDNS1im3iG+wvVM0YWI2TvYOnr1V8w/NOeUWTR5pDgqmG/x6iD+40qlRJmiAfYdEfhFvyOgj/Qa5hpprYbR+vAvfQq+9w93BE2waaT9wYXYe7yRtDNLIz/VK6Hy70Fy1JNRRhLiQt5TfarlraAbxhDwRBp0JprW/5PqAuYdDfIAFZR/tM3l4zzdfuk6FVs0PKAmGRph44HvmJQye3Avh824Mf9P8CUrj3LpK/UB8enHBoEMOU48+V9MdZYm6ALnxZiK06uSv14pQZyB5TGohL15SX0ra4zD13ccZ7TkCwaEzS0XwSwVD4oHQrkfylnakWrQu028w0Q3xLhOkDY2UF/wDmVREucJ3+R1tH5FkbVuysuXDp92gbFBGIQ4oAl6ePtVdTpbvDNZYwYG6RPmkP/CzdEkbeRxG8L8GH98/0tZyzGATMgHRQcDTv4djBsJBTR7nEskfc9sgFCeES/nB/QONpe9HwJ86ySoACHHyyoVE8eRerzVEAYCrB30abX7Q+sB9BYnv//11MIj0RQfKA4P5dxfMc5jTVnh/Z/o2yGqYvoLwE+V7ov6I9sH3+/T5WA4R4unbdM6H7d8pQ769RHlQVMno168f/K1MCBkOe6YCFkaoYJAxlgLwZjbCoaHzE0AgG/HCxzSHBqMwavTCxDXeM1Q8VNiYwunsikPAiIYCwldc76CZQwMKlsFZ1aSHazRodCLkEZWLfE+1UyGsRIL2j/dDqM5Tkwzaa0iJd3ZO9CzXGGEzow5y5Z3S4z3DCJX3BAcTsfcxeoykcZsbTMVeT3ac7B2kEc1tbY0Ly8VAPiF8sdowOjXN/nx5grZjvWoBeQ/asWVKYlNtNEgfdciPyum00aThFhIUyA0NJg237yCC18P8Bs9a+j7IVSrxREPyT13Alk7oBp1cVFQpCE8fLnWNPAkugO+vhflOVI/88+BOe+bNwP48z0IywZk2BXIenLDn7wvzfbdqYNDWMYnhYCxG/YZODKPM/OiD/ySMbrraNuoB5uRYTP3LE+U7fQ14088U9LwP52B/E1dmpOMfj19zOgUCRv2mHYZcMtgqLjwYxDGr3ruTFDYdyfK9sOH658L079RbMEsHVmWK/HmQ7NsQKAoCdAL/zl0DMhgOky3CaFLv0jXU0AB5QTvEhKDSKPj6PT3w2DxRY0LDeR9/4EbEeS4cxgdYDB4/enBU04SG5jGd5ehNP4cxNAUmHdJ3pFoJqE8IWglmlQcH1gU+nIYLDCZYZw4igZBnrBSAps/EEDAEEiOQ8oSPxMHZVUOg9CNAJ/EX9enEjI0vIIu1DtNJG2GIH6nDBIKJ1kvY5Qn8/SX5TVzRaOLrxUgbJ2GWcwADkwMI4Gs7Z8MGN6rmLFitDaz1eeBO++URoGzhT+oFM+i+lHSt/snCfeO+g7kV7amX0lwXfRzt2xAoDQiY5q805ILFwRAwBAwBQ8AQMAQMgRJCoFATPkoobvYaQ8AQMAQMAUPAEDAEDIE0I2DkL82AWnCGgCFgCBgChoAhYAiUZgSM/JXm3LG4GQKGgCFgCBgChoAhkGYEjPylGVALzhAwBAwBQ8AQMAQMgdKMgJG/0pw7FjdDwBAwBAwBQ8AQMATSjMBBXeqFrXpY4ZplolbrNi/sBHC4Cqt+Z+qCxuwxyMr8JbVW1uGKt6XbEDAEDAFDwBA4XBE4qOTvJ7q1C5vTswI925U8qouqHo7CEqk3de/tdtZgwdTbx46RqevWHI5QWJoNAUPAEDAEDAFDoJgROKjkj+1MkMcnj5dxK1dEk8r2U7f26uu2XZugpJDN09GIjVu1wq3eDkFis3n2RGXLtccmjpczWrdzWkQCeW3WdLew7SDd8Jt9VdlOh23CWIT0D7p35dcaDjJId2m4ukt3tzfrU1MmSL+sJm6zeK49rHuNsj3UQ/0Guj0+P1g0X1ew3+U2fmfLJDbzZs9Uts668IhOcmx2M7dNDfuRfqQLBv9T9+O978gBbp9iwntpxhS3ETPxeEZ3XEDriXbvvm++cosGX6E7RFytm3ZDiHNh4TETQ8AQMAQMAUPAEDAE0orAQSV/BaWkvO7Dxz56kLwTmrV0mkFI07FKAtmw+uFvv3aba3MOqVS+nNvix2/zwzFyTpsjhI2p2XB8u+6FCxm8tWdfOXPYe+56Zd3zj30Fec+9urE53156Nmgow5cs0p0cdD9T3cAaEsl1dkbge6ASR8jf/Urw2DQaYXsj9pi8uH0nt+F4bQ07GicNg9Xw9+gemqSBuBMWe5maGAKGgCFgCBgChoAhUFIIlEryN2XtGhmhxOuk5i3lG9X83T9+rLStWVueHXSsdK1X3xGmq0YPlzeH/kjYp/Tb1aukQZVMp/l7Y/YM+VD3d0RuHfu5QMDwp4NkDVDCBuniH1Mz215BFH/ZtacSsf1y61dfyLxNG6V9nToye8N6t3nyNaNHyp+OO9ERvhdVa4gGsEPturJs2xZpocTSE7/rx3wqczdtcFuG3dOnv/ygWQu5YPj/5G8nnOw2rf5Or72p+1ASt9dnT5dfdOkhL+oelHN0E3kTQ8AQMAQMAUPAEDAESgqBUkn+gokfu3K55KiGDGK1W7VmaOGyMjNlxvp1MkFJX5+GWdJb/89s085p0t5fON89jkn5t0cNlI516rpjr7HjgA3BY+Xf8+a6fSI5z4SLWPlOSdr7C+e50+wnifRqkOW+16qpl/ghmK99PLOr13Cm46zMajKgURN3HY0h+4YiczdudN/2YQgYAoaAIWAIGAKGQEkhkJ8FldSbQ77nqKzGgjG2ba3ajvjx2PJt29zT/5r3nfu+qXsfaVKtunysvnbbVROIDNDnIH5oBs8b/oH8+H//lYUJZhNDMBNJTpwNy1ds2+oewYyLHyDSTAkfBBVZs3O7ErwNTmv4oxatBALJff0bNXbXF27Z5L7twxAwBAwBQ8AQMAQMgZJCoNRr/vopiXv7pB+7yR2AMnHNatmwa6fDhxmxaN0gX8g/581x33ywdAxSRf36mAwCOcT/D7mwfUc1uU6RU1u2kbPaHuHOnaK/e6om73vV4HENwaR7Zaeu7nfbWnXcJJOd+/bKg+PHCd/fq4mYSST4+f1FTbrjV61Us29Ew4f5eNX27c6si68hcfz9tElyZ++j3P3Ee0+uBtC9wD4MAUPAEDAEDAFDwBAoAQRKveZv/uZNbjYuPnqjli6Wh74dlweWdxd8746Z1AHZ8oIZ9is1GTM545y27eXIrEZRc27vXHNt9/oNosQRjRyaQn+NcJrXqCFtVOOIEA7XIYTVKkY4M6bk23RZljkb1ztt39Fq0uU+COrd33zpnpuSu2QL92JOHr1siTs/Vf0aTQwBQ8AQMAQMAUPAEChpBEq95u8l1cJNX5/fB88D1alOPffzb9/N8qei37+dMM5N7qiuy6qsVQ1drGH3Qb2eSD5Q/0H+EwnLwdz4xWinYaynM4NX63uCGj00gJd+Mky27NntJpk8N3WSLgPznazQ50wMAUPAEDAEDAFDwBAoaQRKhebvio5d5dIOnaNpv0tNo8z0RR4bMFhePfYE9zv4cXeffvL+yaer/1zEzMpSLfEmcqAxxDQbS/yCYaXjN2bgZeoDGCR+PlwIIfFA9qsGkPv49oJPI2sCspSNiSFgCBgChoAhYAgYAsWJwEHV/GGWZaFmtZQ6QuQTiqm3bq4fH+cW6HGscA/r5nmB4O0rdorn35beb2jgfOcjuM3NWF64+fDd5i69yFpohoAhYAgYAoaAIRCLQEa/fv0OqKBir9qxIWAIGAKGgCFgCBgChsAhhUCpMPseUohaYgwBQ8AQMAQMAUPAECjFCBj5K8WZY1EzBAwBQ8AQMAQMAUMg3QgY+Us3ohZeGUDgwB7OZSCyFkVDwBAwBAwBQyCtCBj5SyucFlhREWC9xQZVq7q9mIsaVuzzNaSW3CgPyJsyXJ6Qv0h7iSzgHXtfSR+zRWFwtntJv9+/7yet2srQ7Bb+sNR+Q92Z7EU5qaV7d5uUbQTYa5285J91UotLeM/POnaJbvlZXO8pSrisWOGxIL7xxLeRLC1WFDlU6lFpaT+LkhcH49n4pStBTCiQLHZcTivphl27ZNnWrdKpbuSYbdeW5255liCIMnWJ9J7froNbnJkZxqVVSiqep+tuKcys/mLFskJBkSienevWk8cHDHHhvjJjqryTu4B3oV4U81BtqSd3KuVrJq3clabSXG6Q++VXcq7slciWgDGPFPkwUVqDgV94RCc5onYd+b/v50SXBApeL4nfdARXd+7m6u/IpYtK4pWFfsc1XXrIKS1bu+dZPJ2tG0tSWDC+efWa4reXLMl3H2rvytTVHv6lOzh5eWbKtzJ8SfGUv1Y1a8lZbY5wa7LO2rDevzJt32Hre6IXvnjMUGmqu1EhY5YvlUcmfpPndsrefbqsmZdLPvlI2+PIblb+XNjvg12PwsYz2X2lof1MFsfSeD1l8kflgQwhNLwvz5giv9DGGGHv3F98NtL9PlQ+utStH20w/jB9cqlNVknEs2K5cm67Owh+Yclfongu0vLDbinta9eV8uWgI+mR+pIld8mT0kiy8wRYW+rqXwNZLcvznE/XQaK0Bt8xbtUK2agDKb8WZPBaSf1myv9YXXppXike4HgsPtdOsVL5cnL8QdJSXq7rkrKH9/8WzT+oeebxKMvf7MUOiWa9VkhPRjFq/lbrDlBsGDBx7apigSxsfU/08rd1AHiMrvfas37DuFjM3bhRPly0wK0JC9nM0L/CysGuR4WNd+xzpaH9jI1TWThOmfy9OWemW0z5bN0T90Nt/MYsX+bI35KtW+SXn38STfMPmrWQc3VbtazMarJtzx6ZsHqlvDJzqmzevVtu6dFHerl9dDfKPboNGos6d1aSNVs7/gfGj42GUdAPyOePdS9edsloU6uW7Ny7TyAOnVRz9O3qVfLwt1/L0GbN5YIjOrogLh/1sfyoRSs5u0172ZuzX36mx3t1X12qzeW6dy/7B7P37zZtiCA47CoybPFCp+E8Lru5C6NLvfpumzgWZ/5s+ZLQo61BuuXb1V26uy3qnpoyQd/VRIY0jZCQhyd8LZPWrpYaugPJ5Z26yJENG0sNNXtCrl6fPV3GrVzh3p2OeLbQfY2v69bLNbCYDSAa/9RG9x9zZ7t3JIsnC1P7RajrVK7isMhRLKavXyezNqxzYST7QGOcCM+tWk6+XLHckT/Mj+dpPpMfHy1a6AYZPvzmmpafq5bKk8TvNm6QF6ZNdmXA3+O/s6Sp3C1Pq96voT914LvKFmlRI0fOadQzT54cr3meqHw21jL9UL+BToNAwzNAO64qFcrLyCWL3f7NvCBZWrmH/Z4f7T9I0H4g7D3NAAoJU8Z379+nWxCGx8IFHOcDbcIvu/Z09RrtSHC3HF8ueOwb3bv6uOxmsm9/jjAQ+kS3WwwrHXUnHjSLLWvWdM+zL/aLGoZPL3toH9u0uezXtTpv++pzubZrD1efNykp/tWYUa7daK/a0Yt1MfhsrauzVXOzT+tyeTWTeUlWj3xaymnNL6gu+rDifVcuX15o1/xe4gyEd+3bp9tKbtM2YWn0kWRpjd4Y5wd7kT898Bhnzmbryvd1h6FnBx3r1kOFJP1n/lz3FPE4uUVrt/0kOLC4/CTdVpK2D8Eyc6Zq6dGQsmbqpt273G5FkIvgAvPu5jgfHisuJcp3ys6lHbpo+1nNxeFrbbNeVq39yfpe9k5HIBkvqZIAua3XkdJdt8hE6Es+WrxAXps13cWJbThjhcXvj9B91RHwIO5YHxDq3nNTJ7rfyT4uat9Jfti8lbttUOPsaNvKiSu07B2nZW/pti2iwbtyx/7x937zVXSNWdrMn3fu7tqFahUrOjzrajt45afD3Rq1Yeo7e7xTr7N0L3iIGxaUP2hf87Wmw8sI1XqyTSnkL54QL/aIpy74rUeD94XJ92T1KBhe7G9wePLoY1x5pK4+NnG8nKH5geUCIS+xHCSri2Hqe7Iynqj99PFOxEPClPFk+e7fUxa/UyZ/JPIf38+WM9q0U0LVOtr4ogH0jQqVk8xFIFQASKffVQnU5aOGS63KlaW2/rfQvXORmuq3w3FzHU2Hkepa+biffx8+YUNoaIza1q7tOlQqJ1JBCQSNKve7Y+0w9mo3wwiLgrt25w55S7eHg9xAAr0fEWrxtrl7+9Ixe7+sStoJBDtIF2gBH5X1vYSHLwu7kAR9Wno2aOj2+6Wx572QPhogRpD39Okvd3/9pbBncTriSeNGA8V2cyyuTaW4WBvEL9V8C3FPFs9uug8yZB6h4fJYYD65+cvR7nyyj1TwhKySt5XKlZeftGqjJtHZTjvWSInXC4OPdziiJSTe4EUH+bNPPpb12jh6yVYTLxo/NHz5pOJOqdbnQ7mnVr98eZKsfFKe6qq/DXFjJxrKHb8ZYPxlzgxHVMKkFSUHRBo8EYi/lzBlfP3OnaGx8OHG+66scaeOkgaRSB3x94Gvr0c+rcSXshOW/HXQcvfk0RFzPoSV+kN9fV7zkc6TLRJJu6+fLww5Pjcuov5PmQIh3aKDxqcHHuuj5c5zgPUBwVcqWT1KVsYZiCUSOjhv5eA+bwHhtyd/YdLK/Ymkvvq+sfg9A2fKCPiDOWUfAZMbu/d2aacdYo9y9hz3+HHPr7r1lBObtXR1aIruI96lXj2XZzW07Xx15jRuSShh8h1tHTstkQdT162RVjVquXa+peYXWPr4MDCCDEAW6uS227wcMp1MagXKRRXFgD7Gh+vrTbIwuM77KWO0v2htgxKsa5ynjEIsTtV259kpEXKJPyzt8GRNF+4/J2q9R/zALUx9P0cHC/QjtOnbdaALGby1Z185c9h7Lqx0fCTL99aaN4nqUbI4oGn05ZF70cCTHz5POA5TF5PVd1zIkpXxRO0ncUvGQ8KU8WT5znvKqhwYNqeQAjo7NEZUJDo8Ru8TddTp5ZIOndzPP8+eIWcPe18uGvmRayBotPo3auxGVP5evu8b/1XwMOlvGi8aHExlN3/5mbt/2rq18kzuKLCdjhQZJaMN9PJ3jS+dTFDY8xehEaFD/+OsafKo+lh4n6fHJ43X0eY8d89M1XA9pseMrBmBhhXCQsOBMEInvqd9+K7cNvZzN/Ltk5XliB8ElHcHfd38SDgd8fyzkhL2GP6rdhbzN290hI84Na0e8S9JFs//qsbhqcnf8ojrUMDidxpfMAorqeAJsTtHy87oZUtc8H0aNHLfkHXKHWZntH1PTZ4gaP4gLkOV0HppKe1U4/dMXOK3WTbJB/UflQq1V8XNE0b8QYktn5DlN7RsI8TzLG280W4gdMJImLTiq0PD7591D+Z+hCnjYbEIhhvv9xjFkjKJVj5WKBe+blOHSCv3UZfpUMMIPjkI4Zz10fsuDDpQ8vHcdpEBBWWLQQmyVnH56YgP5YIR/3MDC8gL2iWEen7Ox+87DYM7kfsRph4lK+PB8OL9pg14SPcD9zg9q+0N9eCmwOAnTFrjhe3PsU3kI7naO85hNaGMB6VKLmkCPwYPH6uVgjL76owIqYOQQPyQB8ePkz+rFeGJSZEwTlUSE0bC5PvlOnkCeVU1fa+rxud+bcchThCMz7TeMtBEXtF4/fn4k+T5Qceppm6SO0deh/HpZd902kZkuKZzZK4/IOZb2p+wgqb6Mm3/4skzSvCIN3Krap2vUAUF0iugfWtTs7Y7x0Qj+h2sNmDqd58KU99v1TYfKxRtGuSYPoy+JxUS6yJRwEeYfE9WjwoIOnoaDfJVo0e4YwbnWNoofwhtIibpMHUxWX1PVsZ5X6L2k+vJeEiYMp4s33lPWZVCaf5ILOYHTL90ulR8L3QIEQ2CqOl0gTu9TisvI0NU2YwKv8xt5P0zhfVboCDu0sYSQR2+S0kpUkmJXFB08OyExjIoZP5P1TSM1sNrtbhOpR61bLEjSIz00Dwt2ro5SkSCYaTy+9/z5kZNpHRiSOvcRoWR5nPaOAaFeCHpiCeaGp9GGh2PRUXNv1iJF8892uGPWbFUburR241aPSmLfTbRMaQpLJ6YvNHpYG5GMrWRRLypY6Ca0/kPitfYtpPOcps8KtUk7wifezfKenlIbpZuDtq6Ei+tmE6Ckqh8YhIjngyABuu315Klktbgu2J/JyrjYbCIDa8ox+PVdYO0LtV8xMWC0f6WPfkJY+w7MPUiI5YsdG4X6qUho9Rk3FqtA2iLYoXOmPqM0NEirdW9A3lPB164B7wz/3s3c9Od1I8w9cjfy3e8fA9ej/ebekPbdZmSHuomLi/4rAUl1bQGn439HVMMo5cpWxO002WWI2ZdP/nlY8X32SkbohYVHsCtICjUe9pnT3aC1wr6XVC+o5lEfq5uLbFCXZyjgzLK6FC1+niS01vdfZC5ei2skFe4DPxY22G/fzuWmuIQSKUXLABe3p43R3or3mgNmTGMgOHcTRtcP5GsvuPL+NujBjrrC88G22CfJs4XRbwljTAKyvdk9SjM++nPGcj1UssVmJypVkDSg4sCkmpdjFffk5XxZPEMw0MY9HopqIwny3f/fFn8LjT5Q/u3QlWzmOdWq++Cl63aGfiC3VXNcTSWFPwO6sSP4OeArxji9+/FB6E4BL8+pKFqKfbu3xY1Ffl3QbggsYuV2OE/hg8A5ldGDJA/BG0d0qBKpvuGFtCgoVXEzyYV8ekOPoOpFwGXX+uo0wsmno1KbpGixhOTtyd+N37xqWuUcVqn0saTePHkPvIVCTaK+L/tUALuO2l3Q4KPsHjim4l4VwIfJHhhvv5UR89e+8Y1THIQy87SS25ReqeGMv9I9HudrJIH5Sb9XCbdpJU7Hy+t/lyY8ukxiY0ngYdNazSCKf5IhkWKwSW9HV8/xKc56QO5N6zUdgJS3FW1ot482iNXq0K5jxXMg7GCto0wMAHTpjTJ1Vj7+8LUI38v3z6Pg+fC/vbpxzy7eEvErQWyQ4eValrjvXNvLs74hiEd1F8yKBApSMd7C7935LlPw0bOjI6278+zZjhfaH8/ftiQZQTzJvFMhfjxXEH5zsCEPHlaZ+iinUUgl221Lk7Uuki7JWoZOkuVBOQPZPGs3DaH+IeV4Upq8cvDyoSPJxYc/76wYYS5z+cr9wZ/cwyZwL+Qek5fgV8w+XBa67byfK42M1F9P1LziHYLbRnaP8rzH4YMdWZgwk+H4APvpaB8T1aP/PPJvv+pZBjyd1P3Pm4QiI+8HwilWhfj1fdkZZyyl0jC8JDg8wWV8TD5TjjUg6t0gAInQMsMPyrtUj47O/u+VCOJaevmnn0cCUJLgv8ODr/ePARxgSANVp8Gvq/u1M35W9DoPD91suxUJ2kmbJDBONaf3qatq9SZ2jgt1UZiccBcGy9uNHL4m+A3AAnrp79piBdt2SKMLBtrXFgugKVDIKd9teL9WEfIOOoiFdUvgbieonFAI1a3clVHJli6hk6JQuxNEqjSf6iNDqSQkfaVmhZ8QShcOJ0nE5yez1HTFuG0UC0H8WaSCiN3ZI2OosACQsWkErA7W33rcCZvmJnptI1FjecMnZAB0aPhhIhTaRlFk3fMsMN3C+fxRPEkrjR8fhLG0UqUzz+igztupdpLT5a5L5EkwpPZeDj6Y+YGb/BFy0K+cTx6+RLnDH1i85aOBGTrKLyddjTcc4KWicrrdSb6tjvUay3/+lcrZak8kHODrMlY6RzRk6U1UfncrA0Pk2eIJ3HA7xFtgI8nBIeJAInSStpwID9fNc+UUya28D1E/Yo2qtYLP8ZkZfwfc+e4TghCFIvFOvUHRPOSTIjj3epfShnLziVU1Ek6tynr1jifV0yzlB067427d0bLEg1ecPRc0LvAAi0teUXY1B/SiryovsI4uN/QvZccpROvIjjUd/5VStGis4/xG+NZCCQTKhigESfKMA3t56qVTlaPktXFguIfe54JA1laNwc0buJ8ZyEmlEnyI0xaY8OLPYb6QipoC2hb/UQrBrET1F+MdeBu7tHHYQH+09avycUrYpFhIIYfIPfTNkL4TtLJDkyWGdw028Uz9p2xx7TxyfId303eg/aHgRL5Rwd4TJNmzpVhg9YT2hXKGIM1TNiUAYTJf2B1trZzTLojb/EBxMd6oOLLIHueuqcgDOLB+wglXeQ3LhGpLLtFmEw0OUHzCDM5bS2EGf9wXC7w6yLuhE2cKJvEh/KFryn16CbFm/KFSwKDD8JAC8jEJbT/SKL6vmDzZtePECaCv7x3EaFs0x/Qd92olhV8C+nbcK0gXsQfzRSY3K7pwJeNfpX44ouNPzfhQ7qS5XuyehR2CRzqLP0ieCK4Q/lBRpg+LVl9b6fpS1TG4RCJ2k8sRsl4CCQ+WRkPk++kn3DIU1weGNDOzXV54FpplUhJTDF2dBJ0Tt50CMHqHvCPgPkyawlhJi3mIQoms/g8Y2eCCKMgRkNUKEZahMdxMumo6woi3N9YSQGCg3RtbeQQKk1V1Xaxbhrv5ZjK6rUM3vTgNYM0sA8edbSbxMD9j6vZ1wuV2/si+dmlEMfRy5b6WxJ+UxndCFjvwlRE+vz7eZAGEV8QCiuVnNEtjQr+Mn/J9Ssrajx5/i+zZzqMIc40YjgdI+QdJCZZPN3N+vHHXGdxHJfpVGiEUzHBJMKTckKFRXzFJe8QiEdtbWiYWYyfFR0+ZJyJK2g0Zs6qJwNXXysVJb8f2hJZIPfL9bIuY7ULK0xaE5VP0u3jSd6Sb8F4UtaQRGnlOv6vlAcGQQgEl2NcI8KUcQZJ8bCgM6KzDSO8GxyD9Y7f1AnSRl33bhycb6v+tP4YIhZGIMOvamdPHScMGkjyD78fNDh0agwmPA4MSLiPzt7Lf9XMiwYIYfCCeF8wOsAw9ShMvruAk3wwS5X4Q36pP7QrL0+f6p5KltYkQbvLWFLwNQYvCALlCKF+MLD1mkHyBzLAum9odFilwGvgH1KfNMoBcaRNIT/X60DTT2BwASb4CJPvtK/4VlMeIKjMemflBfIKLSjl02sZ8dHFfQVhUhbxRXpoXpLX/OZc/QAAFm9JREFU3sWFNHHsSaK7ST/eUzwQcP90abiy7R7QD/oI0k+5Q3w/gxuSH3S5C/oB3sG+zA9SfBvMwAWTKmnF1zhofUhU39F00o/wbny5IZ7e9cf3B7gM0K/SDiDUB7CgfiKQvX65bQbhIKQJF4xGSo6RZPmerB65QEJ+vDYz4u7FrOugP32yuhimvocp44naT5KQjIeEKeNh8p130Z9SXynvYQk0zx1MyejXrx8DzWIRCiidNoSPAhEraKHqaEcanKEZe086jmkAGYXGmnoYadLobNuzVzvvqoIvgx+9xL6Xe6mMvnGNvZ6OY0aOzG6jIgUzJV3xpPHAlISjrDerFibehMOsvfWqYYjFNGx46cCTfNWoSMcdg+WajNtF9UD5Xr9Q5srDagjeopM8UpV0lc90pDVZ3D0WaPxKq9Doo6FHg1zYeIIlaY2tI8E0F1SPgvek4zdaDywA8dw/0pFW3DUq6HqXsW0SYUNoIInUZzqcghb6hdwwMOFe35GlI+3BMKgnxAP/z9h2nvYVnzbfxuMmgoWFiS2pCASW5YiYsBZ2pYVUwk92L8Qb/JgYyOAPJUG8fCecRPWdPoTB9lrNj2Abn+z9qV5Plu9h6lGYd1IHyPeCylZh62IqZTxZPJPxkETPp5LvlPMc/YMElgUpVvJXFgCwOJZtBIbKqfIz3bQt3qSMOTJDHtOpH9sl4ldZtlNqsTcEDj8EMMliVveaLjpW/Ja9NvTwQ8RSbAikB4GIvSk9YVkohkCJInCKbs32U7km7juny0R5Iucu2ZURWSYi7k120hAwBEo1Aqt2bIsuGUNE8cmL1YSW6gRY5AyBUoqAaf5KacZYtBIjcIZcLGerzi+eTJJx8pTcI3sl+TIk8Z63c4aAIWAIGAKGwKGMgGn+DuXcPUTT9lP5uZwi58VN3dfymTyvC7rsU+pnYggYAoaAIWAIGAL5ETDylx8TO1NqEciQy+Q6OUFOjxvDMTJcXsx5VHIyUlt/MW5gdtIQMAQMAUPAEDhEETDyd4hm7KGWrIyccvLzjNt0F40T4yZtpLwnf5KnRTLKxkyruImwk4aAIWAIGAKGQAkgYOSvBEC2VxQNgfJSQX6Z8RvpJ8fEDegDeVvekj/EvWYnDQFDwBAwBAwBQyAvAkb+8uJhR6UMgQq6aPNNukRzT+kfN2b/ljfkX/J63Gt20hAwBAwBQ8AQMATyI1As5K+wC//mj56dKS4EWJi1tEtl3Z/3FvmtdJHecaP6lrwkH8g/4l6zk4aAIWAIGAKGgCEQH4G0kD8je/HBLc1nY/OstJHBTKkut8oj0l665oORVdRfz3lWRmS8k++anTAEDAFDwBAwBAyBxAgUifzFEojEr7KrpRkBn5elgQRWl5pyhzwurZX6xcp+2S8v674dn2cMi71kx4aAIWAIGAKGgCEQAoFCkz9PFmLfUdD52Pvs+OAjEI/okX/xzpdUbGtJXblLnpBmSv1ihbX7fq9m4HEyOvaSHRsChoAhYAgYAoZASAQKRf5iCV7scch3220HGYFgvgUJ38EigPWkoRK/J6WxUr9Y2aO7dTwj9+mmbV/FXrJjQ8AQMAQMAUPAEEgBgZTJX5Aw8J6aNWum8Dq7tTQjsHnz5mj0SpoANpQmcreu01dfsqJx8D92yU7VBd4l0+Vbf8q+DQFDwBAwBAwBQ6CQCKRM/oLv2b/fdlII4lHWf5Of5cqVK/FkZEtLuVM1fnWkXr53b5et8ju5Xb5T6mdiCBgChoAhYAgYAkVHICXyF9T6GfErOvilMYQgASwJ7V8LaavE7wmd4lE7HxybZZMSv1tlvszJd81OGAKGgCFgCBgChkDhEEiJ/MW+IkgGY6/ZcdlDoCTIXhCVttJJblN6V11qBE+73xtlvTwkN8tSWZDvmp0wBAwBQ8AQMAQMgcIjUCjyZ6Sv8ICXhSdLggR2kh7ya3lYqkhmPkjWyWpH/FbIknzX7IQhYAgYAoaAIWAIFA2BQpM/CMK+ffuK9nZ7ulQhQH6WL1/exSk4+zfdkewuR6lO70GpqFu3xcoqWaaLudwka2VV7CU7NgQMAUPAEDAEDIE0IBCa/Jm2Lw1ol8Eg0q0F7CuD5Dq5Ryoo9YuVpbLQafw2yrrYS3ZsCBgChoAhYAgYAmlCoOSndqYY8UaNGkmNGvl9wlIMxm4vBQgMlB/IDXJ/XOK3UL6XB+R6MeJXCjLKomAIGAKGgCFwSCMQWvOXKgpZWVlyxx135HkMs+LkyZPlzTfflGbNmsnNN9+c5zoH27dvlzvvvFN69eolZ599tlStWtXds23bNvdc586dZdCgQfme48Szzz4rCxYskNtvv10gjY8++qisXLnS3XvKKafI0KFD8zy3e/dueeedd6Rx48ZJw/QPPvHEE1KhwgHY0IzxjmeeeUZ27dolTz/9tHz44YcyYsQI/4g88sgjMnPmTPd/0UUXybRp0+RPf/pT9DrPvvDCC3LNNdfEXWpl9erVMnz4cLnwwgvlhhtukKuvvlo6duwow4YNc/8+IJ/uV155RbZs2ZIQX/9MSX0fLz+Wn8mNUk7/YuU7mSG/y7lVtmdsi71kx4aAIWAIGAKGgCGQZgQOsJg0B+yDe+655wTyUrFiRTnttNOkd+/eMnr0aH9ZuA7h8wIhQ84880xZtGiRvPbaa9KkSRO57LLLHPl58MEH5dNPP3X3QB6XL18uf//7393xxo0bpVq1agLxhJSdeOKJ8sYbb7hrfEA+7733XnfMfZAo3gPZTBRmNIDcH1988YUjXfjFdenSRc4991w5+eST5T//+U/srXGPu3btKi1atHDp8zcQ1v333+987rp16+aweuCBB9xlSCVkL1b69u0bJX+VKlVy6Y69pyB8Y+8rzuMfydlykVwb9xUzZJI8nnOn7MrYEfe6nTQEDAFDwBAwBAyB9CKQXw2T3vAdsdu6dats2LBB3nvvPRd6/fr1o29ZtWqV05yhPeN//fr1bm/ZzMxMWbNmjUAGFy5c6EgcGjOIEPfwz5p0XA8eQ/j27NkjU6dOFbSEQYEQEhf+ee8333zjyBb3B8OIDTMYBr937tzpwkC7NnbsWNm7d6/UqlUr9ra4x8Rh3bp1csUVV+S7vmnTJhcP4of4OKH1jBUIc7169RzZ5drAgQNdugk/KPHwDV4v7t9nyMUFEr8p8o1bwNmIX3HngoVvCBgChoAhYAgcQKDYNX+YWiEzlStXdmQMYgWJw9SKXH/99XlmDX/22Wcybtw4GT9+vDPFHnnkkU67h7n47bffPhDzAn6hWZwxY4aMGjVKunfv7jRms2bNcnczkxXtIwJZQwO3ePFiRyLdyZAfHTp0cKZfdsNo3bq1I5BjxowJ+bQIZllMtJiiP/jgg9DPBW8EU95/7LHHujD69esns2fPFrSGQSkI3+A9xfX7fLlKTpUL4ga/TBbJO/JX3cc3W/bKHv3fK/vcJ7/552iP+4wbgJ00BAwBQ8AQMAQMgUIhUOzkD3KEZgziVb16dUGLxbGXJUuWOI2VP0Yrhvztb39zBBDTZrt27eT00093foD41BUkmFIx52LehdihGTz++OPFkz+e69Spk3scMym+e2gkU5W6deu6cDDVQiJ5D1o7JFbz5sMmTl7Qxn311VcubqmQRv+8/4bkQnbxL2zQoIG89dZb+chfQfj6MIrr+0y5tEDixzubSgu5V54L9fr9ohpe2eWooSeEfPMHRYyQxsiZ4PFufWq/XuVvjz7P/Rzzzd2ecPpwDhzvzg2V8CP3cS32GY79u931nD2Sk2FbHobKVLvJEDAEDAFD4KAhUOzkDy2Xn3Rx1FFHyfnnn+8mY/gU4ycXa9aE7J1xxhnyu9/9TubOnetuHTBggJxzzjlSs2ZN2bx5s388z/cPf/hDR/xatmwp/O/YscNp5vx+tRCwhx9+OPrMVVddlc80HL2Y4AfEzWvsiA++eqSNc5hj8VEMClrPpUuXBk/Jv/71L+nRo4dceeWVec6ncjBy5Ei57bbbhHSjUcVHMlbi4Rt7T7qPM3XPDsy96RImiVSRyMSfdIVZLOFkRELdo6STfwghxBWC6M9BRCM0cneUOHItQlEdhXT3Rp6B2OYlqUHyukfJ5v4MwoaE6p2B4736e29GhPa66zkatt7rqK/+3qe/+dPhSrFAYYEaAoaAIWAIlF4Eip38BZM+adIkR/5q164dJXyQp+DsWQga2jjMwkGzqPcTxOcvnqCFgzR+/vnn8u6777pbeM99990nEMd4gpk03kSKePcWdA4iig+gX44GoouvIRpBtIGkAfI5Z84cyc7OjgaDhpAZv9ddd130XKo/VqxY4cjmkCFD3CzqeM/Hw9f7FMa7Px3nKuoafvFm9aYj7LIQBotXx1vAOu1xzyWb0XCDx8Hf3BA8DvyOkMwDGkyO0Zh6ihohq1776b+hjQee4QnORJ6JXINwQnwjJPgAgY1Q1QhZ5XfkP++zhOCvRd4fOYb4mhgChoAhYAgUHYFiJ39BMyjaKY5ZxsWbO9FcBQWT8C233OJMmYMHD5bjjjvOXca0yhIqseTPh9+/f39nWkYb5oXZvxAwJkNMnz7dn45+cw3SCAEMmoZ9mNEbk/wgXRBP5PXXX3dL3KAN9OHgf4ipN0j+uHf+/PnO/xETtb+X88HfHCcS/CfROn7yySdxbysI37g3p+nkJtkg42S09JNj0hSiBVNcCJTXVRf5LwuSo1pKTwqhjZBN/r2W1RNV/En/Ia/ampFlIVMtjoaAIXBQEMjQiQKh7D5BQgIR4xgtndfIFVfsmzZt6nwEIU9lSdD8NWzYUObNm5fyhJKDlc61a9c6Ag0h9qZy4sJxqlI5p6rckfGEtJe8M659OGtkpWzR7rmcUg+0ZBCQSrnf/OYPDWJZISY+XfZdOhBYIvPldrnSGd1LR4wsFoaAIWAIlB4ESv2Qf9myZaUHrRRiglaR/8NVWL7lMblNfiNPSSs5Ih8MEL7ndH9f9vJNJhk55fTuylIxAy1VRUcMIYURcqjHOXqUwZGam3P0ngzuOnBcUa9xN4TSE8sDx9wXOU+c/D3l3ZsOHJfTK5UdOeUKT3MNchoJ0RPYw9ncnSwfS/J6M2mt88hbyWLdOcbEEDAEDAFDIC8CpZ785Y2uHZUlBLbLVnlEfi13y9NCZxyU2lJXzz8l9+b8StZlrA5eyvebGbS7ZIf+FyBBxWTwN7fHHhcQRPpOZzhSGKGUnmxGiKgnnhHyGCGjkMoIkTygAfUElKf8M9zFH5pSrkeOK+VqTg+EXy6jnFTMwecw8uyBd/mwDlBdrmWUPEDpgzpBSJiDN8iaBHfYJUPAEDAEDl8ESr3Z9/DNmpJPeTrNvsHY15Z6uqzLs9JIdTGxslKW6m6/tqdvLC4ldRyhkgcIYUSbGaGX/M5LRP1xRLPqtbBBYupJZ4So+hB4LvIs3xHCe+AdBwjqAbLs7z+ggQ0/iQgvwNe1vI2Swq2hWVLY23sMAUPAEDhYCBj5O1jIl8L3Fhf5I6n1chrK/RnPKw3MypfyJbJADcA3qA/g4WsmzweKnciHgHqiRvWeEep4gFBCFiGK5dUFYE0G/qRWlvIBaCcMAUPAEMhFIDT5434/6aMkJ3xYTpUcAvHIX2EmexQU4yxd2vk+eV4w+cbKAvlOfis3CaZiE0PAEDAEDAFDwBAoPgQKtbevJwT+u/iiZyGXJAI+P/13ut/N5I6H5GbZHEcrw6SQW3Wn38plYTHndANj4RkChoAhYAgYAiWIQKHIXwnGz151iCGwVE28j8gtsk0Nc7HCsjC3KD1k0RcTQ8AQMAQMAUPAECgeBIz8FQ+uFmoCBBbKXNXx3S47dQZvrHSRXmr8fcD5dsVes2NDwBAwBAwBQ8AQKDoCKfn88Tr8/vw/izzj/8euHPxzzDXOmZRuBFjEGfNu+fI617KCus/rP+c45rz/L85UdFaid5s8qq76+TV9X8tn8myO7pKiy7yYGAKGgCFgCBgChkD6ECg0+SMKED0In//3E0F89LhuUroQCPrz8dsTPkifJ37EuCTIH+/pKf3VC/DBuJq+MTJc/qBGYi1p3GpiCBgChoAhYAgYAmlAIGXyxzu95s9r+YLf/noa4mZBFCMCngR6Ahj8Lini55N3lAyR63QlwHi7Y4yQd+U1XSTaxBAwBAwBQ8AQMATSg0ChyB+v9qZdr92LPU5P9CyU4kTAE0C/j2/scXG+OzbsgTknyC8y7oi748T78n/yN3kx9hE7NgQMAUPAEDAEDIFCIFDo7d0gDBC+g0kYCpFeeyQOAj4PueSJYJzbivXUFxnDpYou83K53JjvPT+Wc2W3Tg/5l+7bYGIIGAKGgCFgCBgCRUOg0OSP13qiECSBRYuOPX2wEPB5ebDez3tHqokXAvhT+Xm+aJwpl+jc4O3yP9UCmhgChoAhYAgYAoZA4REoEvnzr40lDt4U7K/bd+lDIKjtK02x+0D+oQs9V5az5LJ80bpQrlEN4C4ZIe/ku2YnDAFDwBAwBAwBQyAcAmkhf7GvKq3EIjaedlw6Efi3vOE0gKfIefkieJlcr/Rvp3wuw/JdsxOGgCFgCBgChoAhkByB8tnZ2fclv83uMARKFoFpMkFq6S7AbaRDnhfrCoTSWwbIclkkS2Vhnmt2YAgYAoaAIWAIGALJETDylxwju+MgITBJvpaG0lhaSNs8MYAA9pWBulHcXFmpFNDEEDAEDAFDwBAwBMIjkHCpl3feMd+q8FDancWBQM4+kd1PZsr+r/LvAiIVcqTS3dukfPe9xfFqC9MQMAQMAUPAEDgkEUjo81e3bt1DMtGWqLKFQM5vRdb/Jkd2fhWz08feDNnzaHWp+USGVO6aUbYSZbE1BAwBQ8AQMAQOEgLlDtJ77bWGQGgEMnSIUucBJXi98z+Ss0Nk3a37ZfecGGKY/1Y7YwgYAoaAIWAIGAKKgJE/KwZlAoFyavWt+3A5qdQ1f3RztmXI2ltyZM+C/NfsjCFgCBgChoAhYAjkRSCh2TfvrSIbNmyQ5cuXy/bt22XvXvOzisXHjosfgXJnVZCGGzpIpaXV8rwsZ5PI8mt3yuprZsne+jvzXLMDQ8AQMAQOZQQqVKggmZmZ0qRJE6lTp86hnFRLW5oQCK35W79+vcyePVs2b95sxC9N4FswqSOwv8peWX35bNmdtS3fwxW2VpKsVztKhY2V812zE4aAIWAIHKoIoIyhb6aPpq82MQSSIRCa/KHxMzEESgMC+zOVAF45R/bUV4e/GCm/sZI0fKW9lNtcMeaKHRoChoAhcOgjYH31oZ/H6UhhaPK3Y0f+jjYdEbAwDIHCILC/xh4lgLNlb+1d+R6vsK6qNHy1g5TblpJXQ75w7IQhYAgYAmUNAeury1qOHZz4hiZ/Byd69lZDoGAE9tXeLauvni37au7Jd1Ol1ZkRArijfL5rdsIQMAQMAUPAEDicEQhN/qpWrXo442RpL6UI7K2rkzyumCX7qsUhgCuqSf3X2kvGLiOApTT7LFqGgCGQZgSsr04zoIdocKHJH7OITAyB0ojAnqwdSgBVA6iTQWKlyuIa0uCNdiJ7Qhf12CDs2BAwBAyBMoOA9dVlJqsOakRD94js9tGhQwepWbOmMK3cxBAoTQjsabJd1lw+R/ZXikMA59WSBm8qAdQdQUwMAUPAEDjUEKBPpm+mj7aduQ613C2e9Pw/yTcAn99JqD8AAAAASUVORK5CYII=)"
      ],
      "metadata": {
        "id": "qDE99ogAFi-D"
      }
    },
    {
      "cell_type": "code",
      "metadata": {
        "id": "g3vQzVdzHczA",
        "colab": {
          "base_uri": "https://localhost:8080/"
        },
        "outputId": "3935347d-c9ff-44cb-c656-c4423d620a05"
      },
      "source": [
        "!git clone https://github.com/elthonf/azure-ml.git"
      ],
      "execution_count": 1,
      "outputs": [
        {
          "output_type": "stream",
          "name": "stdout",
          "text": [
            "Cloning into 'azure-ml'...\n",
            "remote: Enumerating objects: 274, done.\u001b[K\n",
            "remote: Counting objects: 100% (35/35), done.\u001b[K\n",
            "remote: Compressing objects: 100% (31/31), done.\u001b[K\n",
            "remote: Total 274 (delta 20), reused 10 (delta 4), pack-reused 239 (from 1)\u001b[K\n",
            "Receiving objects: 100% (274/274), 11.99 MiB | 9.24 MiB/s, done.\n",
            "Resolving deltas: 100% (147/147), done.\n"
          ]
        }
      ]
    },
    {
      "cell_type": "code",
      "source": [
        "!pip install joblib~=1.2.0"
      ],
      "metadata": {
        "id": "UEiyoFI0x91A",
        "colab": {
          "base_uri": "https://localhost:8080/"
        },
        "outputId": "3602433d-1d66-4f8b-d43d-66a7e5c955c7"
      },
      "execution_count": 2,
      "outputs": [
        {
          "output_type": "stream",
          "name": "stdout",
          "text": [
            "Collecting joblib~=1.2.0\n",
            "  Downloading joblib-1.2.0-py3-none-any.whl.metadata (5.3 kB)\n",
            "Downloading joblib-1.2.0-py3-none-any.whl (297 kB)\n",
            "\u001b[2K   \u001b[90m━━━━━━━━━━━━━━━━━━━━━━━━━━━━━━━━━━━━━━━━\u001b[0m \u001b[32m298.0/298.0 kB\u001b[0m \u001b[31m1.9 MB/s\u001b[0m eta \u001b[36m0:00:00\u001b[0m\n",
            "\u001b[?25hInstalling collected packages: joblib\n",
            "  Attempting uninstall: joblib\n",
            "    Found existing installation: joblib 1.4.2\n",
            "    Uninstalling joblib-1.4.2:\n",
            "      Successfully uninstalled joblib-1.4.2\n",
            "Successfully installed joblib-1.2.0\n"
          ]
        }
      ]
    },
    {
      "cell_type": "code",
      "source": [
        "!pip install scikit-learn~=1.1.0\n",
        "#!pip install scikit-learn~=1.0.0"
      ],
      "metadata": {
        "id": "aoZVF202yIIi",
        "colab": {
          "base_uri": "https://localhost:8080/"
        },
        "outputId": "dd7d993d-fc67-421a-a2a6-b2a9b8f58a41"
      },
      "execution_count": 3,
      "outputs": [
        {
          "output_type": "stream",
          "name": "stdout",
          "text": [
            "Collecting scikit-learn~=1.1.0\n",
            "  Downloading scikit_learn-1.1.3-cp310-cp310-manylinux_2_17_x86_64.manylinux2014_x86_64.whl.metadata (10 kB)\n",
            "Requirement already satisfied: numpy>=1.17.3 in /usr/local/lib/python3.10/dist-packages (from scikit-learn~=1.1.0) (1.26.4)\n",
            "Requirement already satisfied: scipy>=1.3.2 in /usr/local/lib/python3.10/dist-packages (from scikit-learn~=1.1.0) (1.13.1)\n",
            "Requirement already satisfied: joblib>=1.0.0 in /usr/local/lib/python3.10/dist-packages (from scikit-learn~=1.1.0) (1.2.0)\n",
            "Requirement already satisfied: threadpoolctl>=2.0.0 in /usr/local/lib/python3.10/dist-packages (from scikit-learn~=1.1.0) (3.5.0)\n",
            "Downloading scikit_learn-1.1.3-cp310-cp310-manylinux_2_17_x86_64.manylinux2014_x86_64.whl (30.5 MB)\n",
            "\u001b[2K   \u001b[90m━━━━━━━━━━━━━━━━━━━━━━━━━━━━━━━━━━━━━━━━\u001b[0m \u001b[32m30.5/30.5 MB\u001b[0m \u001b[31m14.3 MB/s\u001b[0m eta \u001b[36m0:00:00\u001b[0m\n",
            "\u001b[?25hInstalling collected packages: scikit-learn\n",
            "  Attempting uninstall: scikit-learn\n",
            "    Found existing installation: scikit-learn 1.3.2\n",
            "    Uninstalling scikit-learn-1.3.2:\n",
            "      Successfully uninstalled scikit-learn-1.3.2\n",
            "\u001b[31mERROR: pip's dependency resolver does not currently take into account all the packages that are installed. This behaviour is the source of the following dependency conflicts.\n",
            "bigframes 1.14.0 requires scikit-learn>=1.2.2, but you have scikit-learn 1.1.3 which is incompatible.\u001b[0m\u001b[31m\n",
            "\u001b[0mSuccessfully installed scikit-learn-1.1.3\n"
          ]
        }
      ]
    },
    {
      "cell_type": "code",
      "source": [
        "!pip install azureml-core"
      ],
      "metadata": {
        "id": "xio2cxslyBsC",
        "colab": {
          "base_uri": "https://localhost:8080/"
        },
        "outputId": "6039b76a-a318-463a-ba8d-77001d18f8fc"
      },
      "execution_count": 4,
      "outputs": [
        {
          "output_type": "stream",
          "name": "stdout",
          "text": [
            "Collecting azureml-core\n",
            "  Downloading azureml_core-1.57.0-py3-none-any.whl.metadata (3.1 kB)\n",
            "Requirement already satisfied: pytz in /usr/local/lib/python3.10/dist-packages (from azureml-core) (2024.1)\n",
            "Collecting backports.tempfile (from azureml-core)\n",
            "  Downloading backports.tempfile-1.0-py2.py3-none-any.whl.metadata (2.3 kB)\n",
            "Collecting pathspec<1.0.0 (from azureml-core)\n",
            "  Downloading pathspec-0.12.1-py3-none-any.whl.metadata (21 kB)\n",
            "Requirement already satisfied: requests<3.0.0,>=2.19.1 in /usr/local/lib/python3.10/dist-packages (from requests[socks]<3.0.0,>=2.19.1->azureml-core) (2.32.3)\n",
            "Collecting msal<2.0.0,>=1.15.0 (from azureml-core)\n",
            "  Downloading msal-1.30.0-py3-none-any.whl.metadata (11 kB)\n",
            "Collecting msal-extensions<=2.0.0,>=0.3.0 (from azureml-core)\n",
            "  Downloading msal_extensions-1.2.0-py3-none-any.whl.metadata (7.6 kB)\n",
            "Collecting knack<0.12.0 (from azureml-core)\n",
            "  Downloading knack-0.11.0-py3-none-any.whl.metadata (5.2 kB)\n",
            "Collecting azure-core<2.0.0 (from azureml-core)\n",
            "  Downloading azure_core-1.30.2-py3-none-any.whl.metadata (37 kB)\n",
            "Collecting pkginfo (from azureml-core)\n",
            "  Downloading pkginfo-1.11.1-py3-none-any.whl.metadata (11 kB)\n",
            "Collecting argcomplete<4 (from azureml-core)\n",
            "  Downloading argcomplete-3.5.0-py3-none-any.whl.metadata (16 kB)\n",
            "Collecting humanfriendly<11.0,>=4.7 (from azureml-core)\n",
            "  Downloading humanfriendly-10.0-py2.py3-none-any.whl.metadata (9.2 kB)\n",
            "Collecting paramiko<4.0.0,>=2.0.8 (from azureml-core)\n",
            "  Downloading paramiko-3.4.1-py3-none-any.whl.metadata (4.4 kB)\n",
            "Collecting azure-mgmt-resource<=24.0.0,>=15.0.0 (from azureml-core)\n",
            "  Downloading azure_mgmt_resource-23.1.1-py3-none-any.whl.metadata (37 kB)\n",
            "Collecting azure-mgmt-containerregistry<11,>=8.2.0 (from azureml-core)\n",
            "  Downloading azure_mgmt_containerregistry-10.3.0-py3-none-any.whl.metadata (23 kB)\n",
            "Collecting azure-mgmt-storage<=22.0.0,>=16.0.0 (from azureml-core)\n",
            "  Downloading azure_mgmt_storage-21.2.1-py3-none-any.whl.metadata (31 kB)\n",
            "Collecting azure-mgmt-keyvault<11.0.0,>=0.40.0 (from azureml-core)\n",
            "  Downloading azure_mgmt_keyvault-10.3.1-py3-none-any.whl.metadata (15 kB)\n",
            "Collecting azure-mgmt-authorization<5,>=0.40.0 (from azureml-core)\n",
            "  Downloading azure_mgmt_authorization-4.0.0-py3-none-any.whl.metadata (18 kB)\n",
            "Collecting azure-mgmt-network<=26.0.0 (from azureml-core)\n",
            "  Downloading azure_mgmt_network-26.0.0-py3-none-any.whl.metadata (84 kB)\n",
            "\u001b[2K     \u001b[90m━━━━━━━━━━━━━━━━━━━━━━━━━━━━━━━━━━━━━━━━\u001b[0m \u001b[32m84.4/84.4 kB\u001b[0m \u001b[31m2.9 MB/s\u001b[0m eta \u001b[36m0:00:00\u001b[0m\n",
            "\u001b[?25hCollecting azure-graphrbac<1.0.0,>=0.40.0 (from azureml-core)\n",
            "  Downloading azure_graphrbac-0.61.1-py2.py3-none-any.whl.metadata (10 kB)\n",
            "Collecting azure-common<2.0.0,>=1.1.12 (from azureml-core)\n",
            "  Downloading azure_common-1.1.28-py2.py3-none-any.whl.metadata (5.0 kB)\n",
            "Collecting msrest<=0.7.1,>=0.5.1 (from azureml-core)\n",
            "  Downloading msrest-0.7.1-py3-none-any.whl.metadata (21 kB)\n",
            "Collecting msrestazure<=0.7,>=0.4.33 (from azureml-core)\n",
            "  Downloading msrestazure-0.6.4.post1-py2.py3-none-any.whl.metadata (15 kB)\n",
            "Requirement already satisfied: urllib3<3.0.0,>1.26.17 in /usr/local/lib/python3.10/dist-packages (from azureml-core) (2.0.7)\n",
            "Requirement already satisfied: packaging<=25.0,>=20.0 in /usr/local/lib/python3.10/dist-packages (from azureml-core) (24.1)\n",
            "Requirement already satisfied: python-dateutil<3.0.0,>=2.7.3 in /usr/local/lib/python3.10/dist-packages (from azureml-core) (2.8.2)\n",
            "Collecting ndg-httpsclient<=0.5.1 (from azureml-core)\n",
            "  Downloading ndg_httpsclient-0.5.1-py3-none-any.whl.metadata (6.2 kB)\n",
            "Requirement already satisfied: SecretStorage<4.0.0 in /usr/lib/python3/dist-packages (from azureml-core) (3.3.1)\n",
            "Requirement already satisfied: jsonpickle<4.0.0 in /usr/local/lib/python3.10/dist-packages (from azureml-core) (3.2.2)\n",
            "Requirement already satisfied: contextlib2<22.0.0 in /usr/local/lib/python3.10/dist-packages (from azureml-core) (21.6.0)\n",
            "Collecting docker<8.0.0 (from azureml-core)\n",
            "  Downloading docker-7.1.0-py3-none-any.whl.metadata (3.8 kB)\n",
            "Requirement already satisfied: PyJWT<3.0.0 in /usr/local/lib/python3.10/dist-packages (from azureml-core) (2.9.0)\n",
            "Collecting adal<=1.2.7,>=1.2.0 (from azureml-core)\n",
            "  Downloading adal-1.2.7-py2.py3-none-any.whl.metadata (6.9 kB)\n",
            "Requirement already satisfied: pyopenssl<25.0.0 in /usr/local/lib/python3.10/dist-packages (from azureml-core) (24.2.1)\n",
            "Collecting jmespath<2.0.0 (from azureml-core)\n",
            "  Downloading jmespath-1.0.1-py3-none-any.whl.metadata (7.6 kB)\n",
            "Requirement already satisfied: cryptography>=1.1.0 in /usr/local/lib/python3.10/dist-packages (from adal<=1.2.7,>=1.2.0->azureml-core) (42.0.8)\n",
            "Requirement already satisfied: six>=1.11.0 in /usr/local/lib/python3.10/dist-packages (from azure-core<2.0.0->azureml-core) (1.16.0)\n",
            "Requirement already satisfied: typing-extensions>=4.6.0 in /usr/local/lib/python3.10/dist-packages (from azure-core<2.0.0->azureml-core) (4.12.2)\n",
            "Collecting isodate<1.0.0,>=0.6.1 (from azure-mgmt-authorization<5,>=0.40.0->azureml-core)\n",
            "  Downloading isodate-0.6.1-py2.py3-none-any.whl.metadata (9.6 kB)\n",
            "Collecting azure-mgmt-core<2.0.0,>=1.3.2 (from azure-mgmt-authorization<5,>=0.40.0->azureml-core)\n",
            "  Downloading azure_mgmt_core-1.4.0-py3-none-any.whl.metadata (4.1 kB)\n",
            "Requirement already satisfied: pygments in /usr/local/lib/python3.10/dist-packages (from knack<0.12.0->azureml-core) (2.16.1)\n",
            "Requirement already satisfied: pyyaml in /usr/local/lib/python3.10/dist-packages (from knack<0.12.0->azureml-core) (6.0.2)\n",
            "Requirement already satisfied: tabulate in /usr/local/lib/python3.10/dist-packages (from knack<0.12.0->azureml-core) (0.9.0)\n",
            "Collecting portalocker<3,>=1.4 (from msal-extensions<=2.0.0,>=0.3.0->azureml-core)\n",
            "  Downloading portalocker-2.10.1-py3-none-any.whl.metadata (8.5 kB)\n",
            "Requirement already satisfied: certifi>=2017.4.17 in /usr/local/lib/python3.10/dist-packages (from msrest<=0.7.1,>=0.5.1->azureml-core) (2024.7.4)\n",
            "Requirement already satisfied: requests-oauthlib>=0.5.0 in /usr/local/lib/python3.10/dist-packages (from msrest<=0.7.1,>=0.5.1->azureml-core) (1.3.1)\n",
            "Requirement already satisfied: pyasn1>=0.1.1 in /usr/local/lib/python3.10/dist-packages (from ndg-httpsclient<=0.5.1->azureml-core) (0.6.0)\n",
            "Collecting bcrypt>=3.2 (from paramiko<4.0.0,>=2.0.8->azureml-core)\n",
            "  Downloading bcrypt-4.2.0-cp39-abi3-manylinux_2_28_x86_64.whl.metadata (9.6 kB)\n",
            "Collecting pynacl>=1.5 (from paramiko<4.0.0,>=2.0.8->azureml-core)\n",
            "  Downloading PyNaCl-1.5.0-cp36-abi3-manylinux_2_17_x86_64.manylinux2014_x86_64.manylinux_2_24_x86_64.whl.metadata (8.6 kB)\n",
            "Requirement already satisfied: charset-normalizer<4,>=2 in /usr/local/lib/python3.10/dist-packages (from requests<3.0.0,>=2.19.1->requests[socks]<3.0.0,>=2.19.1->azureml-core) (3.3.2)\n",
            "Requirement already satisfied: idna<4,>=2.5 in /usr/local/lib/python3.10/dist-packages (from requests<3.0.0,>=2.19.1->requests[socks]<3.0.0,>=2.19.1->azureml-core) (3.7)\n",
            "Requirement already satisfied: PySocks!=1.5.7,>=1.5.6 in /usr/local/lib/python3.10/dist-packages (from requests[socks]<3.0.0,>=2.19.1->azureml-core) (1.7.1)\n",
            "Collecting backports.weakref (from backports.tempfile->azureml-core)\n",
            "  Downloading backports.weakref-1.0.post1-py2.py3-none-any.whl.metadata (2.3 kB)\n",
            "Requirement already satisfied: cffi>=1.12 in /usr/local/lib/python3.10/dist-packages (from cryptography>=1.1.0->adal<=1.2.7,>=1.2.0->azureml-core) (1.17.0)\n",
            "Requirement already satisfied: oauthlib>=3.0.0 in /usr/local/lib/python3.10/dist-packages (from requests-oauthlib>=0.5.0->msrest<=0.7.1,>=0.5.1->azureml-core) (3.2.2)\n",
            "Requirement already satisfied: pycparser in /usr/local/lib/python3.10/dist-packages (from cffi>=1.12->cryptography>=1.1.0->adal<=1.2.7,>=1.2.0->azureml-core) (2.22)\n",
            "Downloading azureml_core-1.57.0-py3-none-any.whl (3.3 MB)\n",
            "\u001b[2K   \u001b[90m━━━━━━━━━━━━━━━━━━━━━━━━━━━━━━━━━━━━━━━━\u001b[0m \u001b[32m3.3/3.3 MB\u001b[0m \u001b[31m13.5 MB/s\u001b[0m eta \u001b[36m0:00:00\u001b[0m\n",
            "\u001b[?25hDownloading adal-1.2.7-py2.py3-none-any.whl (55 kB)\n",
            "\u001b[2K   \u001b[90m━━━━━━━━━━━━━━━━━━━━━━━━━━━━━━━━━━━━━━━━\u001b[0m \u001b[32m55.5/55.5 kB\u001b[0m \u001b[31m1.8 MB/s\u001b[0m eta \u001b[36m0:00:00\u001b[0m\n",
            "\u001b[?25hDownloading argcomplete-3.5.0-py3-none-any.whl (43 kB)\n",
            "\u001b[2K   \u001b[90m━━━━━━━━━━━━━━━━━━━━━━━━━━━━━━━━━━━━━━━━\u001b[0m \u001b[32m43.5/43.5 kB\u001b[0m \u001b[31m2.3 MB/s\u001b[0m eta \u001b[36m0:00:00\u001b[0m\n",
            "\u001b[?25hDownloading azure_common-1.1.28-py2.py3-none-any.whl (14 kB)\n",
            "Downloading azure_core-1.30.2-py3-none-any.whl (194 kB)\n",
            "\u001b[2K   \u001b[90m━━━━━━━━━━━━━━━━━━━━━━━━━━━━━━━━━━━━━━━━\u001b[0m \u001b[32m194.3/194.3 kB\u001b[0m \u001b[31m10.8 MB/s\u001b[0m eta \u001b[36m0:00:00\u001b[0m\n",
            "\u001b[?25hDownloading azure_graphrbac-0.61.1-py2.py3-none-any.whl (141 kB)\n",
            "\u001b[2K   \u001b[90m━━━━━━━━━━━━━━━━━━━━━━━━━━━━━━━━━━━━━━━━\u001b[0m \u001b[32m141.4/141.4 kB\u001b[0m \u001b[31m5.9 MB/s\u001b[0m eta \u001b[36m0:00:00\u001b[0m\n",
            "\u001b[?25hDownloading azure_mgmt_authorization-4.0.0-py3-none-any.whl (1.1 MB)\n",
            "\u001b[2K   \u001b[90m━━━━━━━━━━━━━━━━━━━━━━━━━━━━━━━━━━━━━━━━\u001b[0m \u001b[32m1.1/1.1 MB\u001b[0m \u001b[31m11.9 MB/s\u001b[0m eta \u001b[36m0:00:00\u001b[0m\n",
            "\u001b[?25hDownloading azure_mgmt_containerregistry-10.3.0-py3-none-any.whl (2.3 MB)\n",
            "\u001b[2K   \u001b[90m━━━━━━━━━━━━━━━━━━━━━━━━━━━━━━━━━━━━━━━━\u001b[0m \u001b[32m2.3/2.3 MB\u001b[0m \u001b[31m20.0 MB/s\u001b[0m eta \u001b[36m0:00:00\u001b[0m\n",
            "\u001b[?25hDownloading azure_mgmt_keyvault-10.3.1-py3-none-any.whl (901 kB)\n",
            "\u001b[2K   \u001b[90m━━━━━━━━━━━━━━━━━━━━━━━━━━━━━━━━━━━━━━━━\u001b[0m \u001b[32m901.4/901.4 kB\u001b[0m \u001b[31m17.9 MB/s\u001b[0m eta \u001b[36m0:00:00\u001b[0m\n",
            "\u001b[?25hDownloading azure_mgmt_network-26.0.0-py3-none-any.whl (617 kB)\n",
            "\u001b[2K   \u001b[90m━━━━━━━━━━━━━━━━━━━━━━━━━━━━━━━━━━━━━━━━\u001b[0m \u001b[32m617.4/617.4 kB\u001b[0m \u001b[31m18.8 MB/s\u001b[0m eta \u001b[36m0:00:00\u001b[0m\n",
            "\u001b[?25hDownloading azure_mgmt_resource-23.1.1-py3-none-any.whl (2.6 MB)\n",
            "\u001b[2K   \u001b[90m━━━━━━━━━━━━━━━━━━━━━━━━━━━━━━━━━━━━━━━━\u001b[0m \u001b[32m2.6/2.6 MB\u001b[0m \u001b[31m24.0 MB/s\u001b[0m eta \u001b[36m0:00:00\u001b[0m\n",
            "\u001b[?25hDownloading azure_mgmt_storage-21.2.1-py3-none-any.whl (3.2 MB)\n",
            "\u001b[2K   \u001b[90m━━━━━━━━━━━━━━━━━━━━━━━━━━━━━━━━━━━━━━━━\u001b[0m \u001b[32m3.2/3.2 MB\u001b[0m \u001b[31m17.5 MB/s\u001b[0m eta \u001b[36m0:00:00\u001b[0m\n",
            "\u001b[?25hDownloading docker-7.1.0-py3-none-any.whl (147 kB)\n",
            "\u001b[2K   \u001b[90m━━━━━━━━━━━━━━━━━━━━━━━━━━━━━━━━━━━━━━━━\u001b[0m \u001b[32m147.8/147.8 kB\u001b[0m \u001b[31m5.2 MB/s\u001b[0m eta \u001b[36m0:00:00\u001b[0m\n",
            "\u001b[?25hDownloading humanfriendly-10.0-py2.py3-none-any.whl (86 kB)\n",
            "\u001b[2K   \u001b[90m━━━━━━━━━━━━━━━━━━━━━━━━━━━━━━━━━━━━━━━━\u001b[0m \u001b[32m86.8/86.8 kB\u001b[0m \u001b[31m4.1 MB/s\u001b[0m eta \u001b[36m0:00:00\u001b[0m\n",
            "\u001b[?25hDownloading jmespath-1.0.1-py3-none-any.whl (20 kB)\n",
            "Downloading knack-0.11.0-py3-none-any.whl (60 kB)\n",
            "\u001b[2K   \u001b[90m━━━━━━━━━━━━━━━━━━━━━━━━━━━━━━━━━━━━━━━━\u001b[0m \u001b[32m60.8/60.8 kB\u001b[0m \u001b[31m1.6 MB/s\u001b[0m eta \u001b[36m0:00:00\u001b[0m\n",
            "\u001b[?25hDownloading msal-1.30.0-py3-none-any.whl (111 kB)\n",
            "\u001b[2K   \u001b[90m━━━━━━━━━━━━━━━━━━━━━━━━━━━━━━━━━━━━━━━━\u001b[0m \u001b[32m111.8/111.8 kB\u001b[0m \u001b[31m5.9 MB/s\u001b[0m eta \u001b[36m0:00:00\u001b[0m\n",
            "\u001b[?25hDownloading msal_extensions-1.2.0-py3-none-any.whl (19 kB)\n",
            "Downloading msrest-0.7.1-py3-none-any.whl (85 kB)\n",
            "\u001b[2K   \u001b[90m━━━━━━━━━━━━━━━━━━━━━━━━━━━━━━━━━━━━━━━━\u001b[0m \u001b[32m85.4/85.4 kB\u001b[0m \u001b[31m4.4 MB/s\u001b[0m eta \u001b[36m0:00:00\u001b[0m\n",
            "\u001b[?25hDownloading msrestazure-0.6.4.post1-py2.py3-none-any.whl (40 kB)\n",
            "\u001b[2K   \u001b[90m━━━━━━━━━━━━━━━━━━━━━━━━━━━━━━━━━━━━━━━━\u001b[0m \u001b[32m40.8/40.8 kB\u001b[0m \u001b[31m2.2 MB/s\u001b[0m eta \u001b[36m0:00:00\u001b[0m\n",
            "\u001b[?25hDownloading ndg_httpsclient-0.5.1-py3-none-any.whl (34 kB)\n",
            "Downloading paramiko-3.4.1-py3-none-any.whl (226 kB)\n",
            "\u001b[2K   \u001b[90m━━━━━━━━━━━━━━━━━━━━━━━━━━━━━━━━━━━━━━━━\u001b[0m \u001b[32m226.2/226.2 kB\u001b[0m \u001b[31m6.0 MB/s\u001b[0m eta \u001b[36m0:00:00\u001b[0m\n",
            "\u001b[?25hDownloading pathspec-0.12.1-py3-none-any.whl (31 kB)\n",
            "Downloading backports.tempfile-1.0-py2.py3-none-any.whl (4.4 kB)\n",
            "Downloading pkginfo-1.11.1-py3-none-any.whl (31 kB)\n",
            "Downloading azure_mgmt_core-1.4.0-py3-none-any.whl (27 kB)\n",
            "Downloading bcrypt-4.2.0-cp39-abi3-manylinux_2_28_x86_64.whl (273 kB)\n",
            "\u001b[2K   \u001b[90m━━━━━━━━━━━━━━━━━━━━━━━━━━━━━━━━━━━━━━━━\u001b[0m \u001b[32m273.8/273.8 kB\u001b[0m \u001b[31m17.1 MB/s\u001b[0m eta \u001b[36m0:00:00\u001b[0m\n",
            "\u001b[?25hDownloading isodate-0.6.1-py2.py3-none-any.whl (41 kB)\n",
            "\u001b[2K   \u001b[90m━━━━━━━━━━━━━━━━━━━━━━━━━━━━━━━━━━━━━━━━\u001b[0m \u001b[32m41.7/41.7 kB\u001b[0m \u001b[31m2.2 MB/s\u001b[0m eta \u001b[36m0:00:00\u001b[0m\n",
            "\u001b[?25hDownloading portalocker-2.10.1-py3-none-any.whl (18 kB)\n",
            "Downloading PyNaCl-1.5.0-cp36-abi3-manylinux_2_17_x86_64.manylinux2014_x86_64.manylinux_2_24_x86_64.whl (856 kB)\n",
            "\u001b[2K   \u001b[90m━━━━━━━━━━━━━━━━━━━━━━━━━━━━━━━━━━━━━━━━\u001b[0m \u001b[32m856.7/856.7 kB\u001b[0m \u001b[31m19.7 MB/s\u001b[0m eta \u001b[36m0:00:00\u001b[0m\n",
            "\u001b[?25hDownloading backports.weakref-1.0.post1-py2.py3-none-any.whl (5.2 kB)\n",
            "Installing collected packages: backports.weakref, azure-common, portalocker, pkginfo, pathspec, jmespath, isodate, humanfriendly, bcrypt, backports.tempfile, argcomplete, pynacl, knack, docker, azure-core, paramiko, msrest, azure-mgmt-core, adal, ndg-httpsclient, msrestazure, msal, azure-mgmt-storage, azure-mgmt-resource, azure-mgmt-network, azure-mgmt-keyvault, azure-mgmt-containerregistry, azure-mgmt-authorization, msal-extensions, azure-graphrbac, azureml-core\n",
            "Successfully installed adal-1.2.7 argcomplete-3.5.0 azure-common-1.1.28 azure-core-1.30.2 azure-graphrbac-0.61.1 azure-mgmt-authorization-4.0.0 azure-mgmt-containerregistry-10.3.0 azure-mgmt-core-1.4.0 azure-mgmt-keyvault-10.3.1 azure-mgmt-network-26.0.0 azure-mgmt-resource-23.1.1 azure-mgmt-storage-21.2.1 azureml-core-1.57.0 backports.tempfile-1.0 backports.weakref-1.0.post1 bcrypt-4.2.0 docker-7.1.0 humanfriendly-10.0 isodate-0.6.1 jmespath-1.0.1 knack-0.11.0 msal-1.30.0 msal-extensions-1.2.0 msrest-0.7.1 msrestazure-0.6.4.post1 ndg-httpsclient-0.5.1 paramiko-3.4.1 pathspec-0.12.1 pkginfo-1.11.1 portalocker-2.10.1 pynacl-1.5.0\n"
          ]
        }
      ]
    },
    {
      "cell_type": "code",
      "metadata": {
        "id": "DFhjOKPfOsnI",
        "colab": {
          "base_uri": "https://localhost:8080/",
          "height": 1000
        },
        "outputId": "e3f40af1-294e-436a-eb2c-b0165699d981"
      },
      "source": [
        "#!pip install azureml-dataprep\n",
        "!pip install azureml-dataset-runtime"
      ],
      "execution_count": 5,
      "outputs": [
        {
          "output_type": "stream",
          "name": "stdout",
          "text": [
            "Collecting azureml-dataset-runtime\n",
            "  Downloading azureml_dataset_runtime-1.57.0-py3-none-any.whl.metadata (1.2 kB)\n",
            "Collecting azureml-dataprep<5.2.0a,>=5.1.0a (from azureml-dataset-runtime)\n",
            "  Downloading azureml_dataprep-5.1.6-py3-none-any.whl.metadata (2.2 kB)\n",
            "Requirement already satisfied: pyarrow>=0.17.0 in /usr/local/lib/python3.10/dist-packages (from azureml-dataset-runtime) (14.0.2)\n",
            "Collecting numpy!=1.19.3,<1.24 (from azureml-dataset-runtime)\n",
            "  Downloading numpy-1.23.5-cp310-cp310-manylinux_2_17_x86_64.manylinux2014_x86_64.whl.metadata (2.3 kB)\n",
            "Collecting azureml-dataprep-native<42.0.0,>=41.0.0 (from azureml-dataprep<5.2.0a,>=5.1.0a->azureml-dataset-runtime)\n",
            "  Downloading azureml_dataprep_native-41.0.0-cp310-cp310-manylinux1_x86_64.whl.metadata (1.3 kB)\n",
            "Collecting azureml-dataprep-rslex~=2.22.2dev0 (from azureml-dataprep<5.2.0a,>=5.1.0a->azureml-dataset-runtime)\n",
            "  Downloading azureml_dataprep_rslex-2.22.3-cp310-cp310-manylinux1_x86_64.whl.metadata (1.6 kB)\n",
            "Requirement already satisfied: cloudpickle<3.0.0,>=1.1.0 in /usr/local/lib/python3.10/dist-packages (from azureml-dataprep<5.2.0a,>=5.1.0a->azureml-dataset-runtime) (2.2.1)\n",
            "Collecting azure-identity>=1.7.0 (from azureml-dataprep<5.2.0a,>=5.1.0a->azureml-dataset-runtime)\n",
            "  Downloading azure_identity-1.17.1-py3-none-any.whl.metadata (79 kB)\n",
            "\u001b[2K     \u001b[90m━━━━━━━━━━━━━━━━━━━━━━━━━━━━━━━━━━━━━━━━\u001b[0m \u001b[32m79.4/79.4 kB\u001b[0m \u001b[31m924.0 kB/s\u001b[0m eta \u001b[36m0:00:00\u001b[0m\n",
            "\u001b[?25hRequirement already satisfied: jsonschema in /usr/local/lib/python3.10/dist-packages (from azureml-dataprep<5.2.0a,>=5.1.0a->azureml-dataset-runtime) (4.23.0)\n",
            "Requirement already satisfied: pyyaml<7.0.0,>=5.1.0 in /usr/local/lib/python3.10/dist-packages (from azureml-dataprep<5.2.0a,>=5.1.0a->azureml-dataset-runtime) (6.0.2)\n",
            "Requirement already satisfied: azure-core>=1.23.0 in /usr/local/lib/python3.10/dist-packages (from azure-identity>=1.7.0->azureml-dataprep<5.2.0a,>=5.1.0a->azureml-dataset-runtime) (1.30.2)\n",
            "Requirement already satisfied: cryptography>=2.5 in /usr/local/lib/python3.10/dist-packages (from azure-identity>=1.7.0->azureml-dataprep<5.2.0a,>=5.1.0a->azureml-dataset-runtime) (42.0.8)\n",
            "Requirement already satisfied: msal>=1.24.0 in /usr/local/lib/python3.10/dist-packages (from azure-identity>=1.7.0->azureml-dataprep<5.2.0a,>=5.1.0a->azureml-dataset-runtime) (1.30.0)\n",
            "Requirement already satisfied: msal-extensions>=0.3.0 in /usr/local/lib/python3.10/dist-packages (from azure-identity>=1.7.0->azureml-dataprep<5.2.0a,>=5.1.0a->azureml-dataset-runtime) (1.2.0)\n",
            "Requirement already satisfied: typing-extensions>=4.0.0 in /usr/local/lib/python3.10/dist-packages (from azure-identity>=1.7.0->azureml-dataprep<5.2.0a,>=5.1.0a->azureml-dataset-runtime) (4.12.2)\n",
            "Requirement already satisfied: attrs>=22.2.0 in /usr/local/lib/python3.10/dist-packages (from jsonschema->azureml-dataprep<5.2.0a,>=5.1.0a->azureml-dataset-runtime) (24.2.0)\n",
            "Requirement already satisfied: jsonschema-specifications>=2023.03.6 in /usr/local/lib/python3.10/dist-packages (from jsonschema->azureml-dataprep<5.2.0a,>=5.1.0a->azureml-dataset-runtime) (2023.12.1)\n",
            "Requirement already satisfied: referencing>=0.28.4 in /usr/local/lib/python3.10/dist-packages (from jsonschema->azureml-dataprep<5.2.0a,>=5.1.0a->azureml-dataset-runtime) (0.35.1)\n",
            "Requirement already satisfied: rpds-py>=0.7.1 in /usr/local/lib/python3.10/dist-packages (from jsonschema->azureml-dataprep<5.2.0a,>=5.1.0a->azureml-dataset-runtime) (0.20.0)\n",
            "Requirement already satisfied: requests>=2.21.0 in /usr/local/lib/python3.10/dist-packages (from azure-core>=1.23.0->azure-identity>=1.7.0->azureml-dataprep<5.2.0a,>=5.1.0a->azureml-dataset-runtime) (2.32.3)\n",
            "Requirement already satisfied: six>=1.11.0 in /usr/local/lib/python3.10/dist-packages (from azure-core>=1.23.0->azure-identity>=1.7.0->azureml-dataprep<5.2.0a,>=5.1.0a->azureml-dataset-runtime) (1.16.0)\n",
            "Requirement already satisfied: cffi>=1.12 in /usr/local/lib/python3.10/dist-packages (from cryptography>=2.5->azure-identity>=1.7.0->azureml-dataprep<5.2.0a,>=5.1.0a->azureml-dataset-runtime) (1.17.0)\n",
            "Requirement already satisfied: PyJWT<3,>=1.0.0 in /usr/local/lib/python3.10/dist-packages (from PyJWT[crypto]<3,>=1.0.0->msal>=1.24.0->azure-identity>=1.7.0->azureml-dataprep<5.2.0a,>=5.1.0a->azureml-dataset-runtime) (2.9.0)\n",
            "Requirement already satisfied: portalocker<3,>=1.4 in /usr/local/lib/python3.10/dist-packages (from msal-extensions>=0.3.0->azure-identity>=1.7.0->azureml-dataprep<5.2.0a,>=5.1.0a->azureml-dataset-runtime) (2.10.1)\n",
            "Requirement already satisfied: pycparser in /usr/local/lib/python3.10/dist-packages (from cffi>=1.12->cryptography>=2.5->azure-identity>=1.7.0->azureml-dataprep<5.2.0a,>=5.1.0a->azureml-dataset-runtime) (2.22)\n",
            "Requirement already satisfied: charset-normalizer<4,>=2 in /usr/local/lib/python3.10/dist-packages (from requests>=2.21.0->azure-core>=1.23.0->azure-identity>=1.7.0->azureml-dataprep<5.2.0a,>=5.1.0a->azureml-dataset-runtime) (3.3.2)\n",
            "Requirement already satisfied: idna<4,>=2.5 in /usr/local/lib/python3.10/dist-packages (from requests>=2.21.0->azure-core>=1.23.0->azure-identity>=1.7.0->azureml-dataprep<5.2.0a,>=5.1.0a->azureml-dataset-runtime) (3.7)\n",
            "Requirement already satisfied: urllib3<3,>=1.21.1 in /usr/local/lib/python3.10/dist-packages (from requests>=2.21.0->azure-core>=1.23.0->azure-identity>=1.7.0->azureml-dataprep<5.2.0a,>=5.1.0a->azureml-dataset-runtime) (2.0.7)\n",
            "Requirement already satisfied: certifi>=2017.4.17 in /usr/local/lib/python3.10/dist-packages (from requests>=2.21.0->azure-core>=1.23.0->azure-identity>=1.7.0->azureml-dataprep<5.2.0a,>=5.1.0a->azureml-dataset-runtime) (2024.7.4)\n",
            "Downloading azureml_dataset_runtime-1.57.0-py3-none-any.whl (2.2 kB)\n",
            "Downloading azureml_dataprep-5.1.6-py3-none-any.whl (252 kB)\n",
            "\u001b[2K   \u001b[90m━━━━━━━━━━━━━━━━━━━━━━━━━━━━━━━━━━━━━━━━\u001b[0m \u001b[32m252.4/252.4 kB\u001b[0m \u001b[31m3.9 MB/s\u001b[0m eta \u001b[36m0:00:00\u001b[0m\n",
            "\u001b[?25hDownloading numpy-1.23.5-cp310-cp310-manylinux_2_17_x86_64.manylinux2014_x86_64.whl (17.1 MB)\n",
            "\u001b[2K   \u001b[90m━━━━━━━━━━━━━━━━━━━━━━━━━━━━━━━━━━━━━━━━\u001b[0m \u001b[32m17.1/17.1 MB\u001b[0m \u001b[31m29.1 MB/s\u001b[0m eta \u001b[36m0:00:00\u001b[0m\n",
            "\u001b[?25hDownloading azure_identity-1.17.1-py3-none-any.whl (173 kB)\n",
            "\u001b[2K   \u001b[90m━━━━━━━━━━━━━━━━━━━━━━━━━━━━━━━━━━━━━━━━\u001b[0m \u001b[32m173.2/173.2 kB\u001b[0m \u001b[31m10.6 MB/s\u001b[0m eta \u001b[36m0:00:00\u001b[0m\n",
            "\u001b[?25hDownloading azureml_dataprep_native-41.0.0-cp310-cp310-manylinux1_x86_64.whl (187 kB)\n",
            "\u001b[2K   \u001b[90m━━━━━━━━━━━━━━━━━━━━━━━━━━━━━━━━━━━━━━━━\u001b[0m \u001b[32m187.7/187.7 kB\u001b[0m \u001b[31m10.3 MB/s\u001b[0m eta \u001b[36m0:00:00\u001b[0m\n",
            "\u001b[?25hDownloading azureml_dataprep_rslex-2.22.3-cp310-cp310-manylinux1_x86_64.whl (24.8 MB)\n",
            "\u001b[2K   \u001b[90m━━━━━━━━━━━━━━━━━━━━━━━━━━━━━━━━━━━━━━━━\u001b[0m \u001b[32m24.8/24.8 MB\u001b[0m \u001b[31m27.6 MB/s\u001b[0m eta \u001b[36m0:00:00\u001b[0m\n",
            "\u001b[?25hInstalling collected packages: azureml-dataprep-rslex, azureml-dataprep-native, numpy, azure-identity, azureml-dataprep, azureml-dataset-runtime\n",
            "  Attempting uninstall: numpy\n",
            "    Found existing installation: numpy 1.26.4\n",
            "    Uninstalling numpy-1.26.4:\n",
            "      Successfully uninstalled numpy-1.26.4\n",
            "\u001b[31mERROR: pip's dependency resolver does not currently take into account all the packages that are installed. This behaviour is the source of the following dependency conflicts.\n",
            "xgboost 2.1.1 requires nvidia-nccl-cu12; platform_system == \"Linux\" and platform_machine != \"aarch64\", which is not installed.\n",
            "albucore 0.0.13 requires numpy<2,>=1.24.4, but you have numpy 1.23.5 which is incompatible.\n",
            "albumentations 1.4.13 requires numpy>=1.24.4, but you have numpy 1.23.5 which is incompatible.\n",
            "chex 0.1.86 requires numpy>=1.24.1, but you have numpy 1.23.5 which is incompatible.\n",
            "pandas-stubs 2.1.4.231227 requires numpy>=1.26.0; python_version < \"3.13\", but you have numpy 1.23.5 which is incompatible.\u001b[0m\u001b[31m\n",
            "\u001b[0mSuccessfully installed azure-identity-1.17.1 azureml-dataprep-5.1.6 azureml-dataprep-native-41.0.0 azureml-dataprep-rslex-2.22.3 azureml-dataset-runtime-1.57.0 numpy-1.23.5\n"
          ]
        },
        {
          "output_type": "display_data",
          "data": {
            "application/vnd.colab-display-data+json": {
              "pip_warning": {
                "packages": [
                  "numpy"
                ]
              },
              "id": "56267d4f528f4bd18329769f0b597490"
            }
          },
          "metadata": {}
        }
      ]
    },
    {
      "cell_type": "code",
      "source": [
        "!mkdir modelo\n",
        "!mkdir modelo/ambiente\n",
        "!mkdir dadostreino\n",
        "!pip list > modelo/ambiente/bibliotecas.txt\n",
        "!pip freeze > modelo/ambiente/requirements.txt\n",
        "!python --version > modelo/ambiente/python_version.txt"
      ],
      "metadata": {
        "id": "w5Km8TFkJWV8"
      },
      "execution_count": 1,
      "outputs": []
    },
    {
      "cell_type": "code",
      "metadata": {
        "id": "_5B0Q0CjIcSn"
      },
      "source": [
        "import pandas as pd\n",
        "import numpy as np\n",
        "from sklearn.model_selection import train_test_split\n",
        "from sklearn.ensemble import RandomForestClassifier as rfc\n",
        "from sklearn.ensemble import RandomForestRegressor as rfr\n",
        "from sklearn.linear_model import Ridge\n",
        "from sklearn.metrics import mean_squared_error, ConfusionMatrixDisplay, classification_report\n",
        "import sys, math, random, json, sklearn, joblib, uuid, os\n",
        "from azureml.core import Experiment, Workspace, Dataset, Model"
      ],
      "execution_count": 2,
      "outputs": []
    },
    {
      "cell_type": "code",
      "source": [
        "sklearn.__version__"
      ],
      "metadata": {
        "id": "hd2163M0RFh5",
        "colab": {
          "base_uri": "https://localhost:8080/",
          "height": 35
        },
        "outputId": "622f0273-5356-4c62-a790-61912b403b66"
      },
      "execution_count": 3,
      "outputs": [
        {
          "output_type": "execute_result",
          "data": {
            "text/plain": [
              "'1.1.3'"
            ],
            "application/vnd.google.colaboratory.intrinsic+json": {
              "type": "string"
            }
          },
          "metadata": {},
          "execution_count": 3
        }
      ]
    },
    {
      "cell_type": "markdown",
      "source": [
        "Funções auxiliares"
      ],
      "metadata": {
        "id": "2hODDd4vOZoB"
      }
    },
    {
      "cell_type": "code",
      "source": [
        "class NpEncoder(json.JSONEncoder):\n",
        "    def default(self, obj):\n",
        "        if isinstance(obj, np.integer):\n",
        "            return int(obj)\n",
        "        elif isinstance(obj, np.floating):\n",
        "            return float(obj)\n",
        "        elif isinstance(obj, np.ndarray):\n",
        "            return obj.tolist()\n",
        "        else:\n",
        "            return super(NpEncoder, self).default(obj)"
      ],
      "metadata": {
        "id": "f3A6cxIz1Z3j"
      },
      "execution_count": 4,
      "outputs": []
    },
    {
      "cell_type": "code",
      "source": [
        "def describe(df):\n",
        "    return pd.concat([df.describe(include=\"all\", percentiles=[.1, .2, .25, .3, .4, .5, .6, .7, .75, .8, .9]).T,\n",
        "                      df.dtypes.rename('dtypes'),\n",
        "                      #df.mad().rename('mad'),\n",
        "                      #df.skew().rename('skew'),\n",
        "                      #df.kurt().rename('kurt'),\n",
        "                      df.nunique().rename('nunique'),\n",
        "                     ], axis=1)\n",
        "def describe_cols(df, df_summary=None):\n",
        "    if df_summary is None:\n",
        "        df_summary = describe(df)\n",
        "    ret = {}\n",
        "    for i, row in df_summary.iterrows():\n",
        "        if row[\"nunique\"] <= 100:\n",
        "            ret[i] = {\"classes\" : json.loads( df.groupby([i]).size().to_json() ) }\n",
        "        elif np.issubdtype(row[\"dtypes\"], np.number):\n",
        "            _h = np.histogram(df[i])\n",
        "            ret[i] = {\"hist\": list(_h[0]),\n",
        "                      \"bin_edges\": list(_h[1])}\n",
        "        else:\n",
        "            ret[i] = {}\n",
        "    return ret"
      ],
      "metadata": {
        "id": "Ow-o3HTcOYbp"
      },
      "execution_count": 5,
      "outputs": []
    },
    {
      "cell_type": "markdown",
      "metadata": {
        "id": "suK9IqHdI17i"
      },
      "source": [
        "# Conexão com ML Studio"
      ]
    },
    {
      "cell_type": "code",
      "metadata": {
        "id": "OVh5aCvbIZV5",
        "colab": {
          "base_uri": "https://localhost:8080/"
        },
        "outputId": "ca039c8b-668a-442c-b54d-dc53a09797db"
      },
      "source": [
        "#Trocar os códigos abaixo pelos da sua instância!\n",
        "subscription_id = 'd350bc8e-b97f-4c36-a225-3bd3d30fd052'\n",
        "resource_group = '8dts'\n",
        "workspace_name = 'mldefeo'\n",
        "\n",
        "workspace = Workspace(subscription_id, resource_group, workspace_name)"
      ],
      "execution_count": 8,
      "outputs": [
        {
          "output_type": "stream",
          "name": "stderr",
          "text": [
            "WARNING:azureml._vendor.azure_cli_core.auth.identity:To sign in, use a web browser to open the page https://microsoft.com/devicelogin and enter the code EGWY24JJ2 to authenticate.\n"
          ]
        },
        {
          "output_type": "stream",
          "name": "stdout",
          "text": [
            "Performing interactive authentication. Please follow the instructions on the terminal.\n",
            "Interactive authentication successfully completed.\n"
          ]
        }
      ]
    },
    {
      "cell_type": "markdown",
      "metadata": {
        "id": "9env-yrvIo3-"
      },
      "source": [
        "# Carga de dados\n",
        "Inclui métricas dos dados / metadados"
      ]
    },
    {
      "cell_type": "code",
      "metadata": {
        "id": "XZn5hxK3In1W",
        "colab": {
          "base_uri": "https://localhost:8080/",
          "height": 206
        },
        "outputId": "17bf1b73-e050-40ff-b5d9-51dd3ade0ae7"
      },
      "source": [
        "mydf = pd.read_csv('azure-ml/datasets/statistical/BaseDefault01.csv')\n",
        "mydf.head()"
      ],
      "execution_count": 9,
      "outputs": [
        {
          "output_type": "execute_result",
          "data": {
            "text/plain": [
              "                          nome        renda      idade  etnia  sexo  \\\n",
              "0             Simon, Rodriguez  4472.190323  42.036031      0     0   \n",
              "1               Daniel, Castro  4592.774312  48.230662      1     0   \n",
              "2                   Myhue, Lin  2486.538807  56.881709      0     1   \n",
              "3  Destiny, Richardson-Pacheco  2852.340117  51.684021      1     1   \n",
              "4       Brittany, Cohen-Wilson  4703.782812  50.729078      1     1   \n",
              "\n",
              "   casapropria  outrasrendas  estadocivil  escolaridade  default  \n",
              "0            1             0            0             3        0  \n",
              "1            1             0            1             2        0  \n",
              "2            0             0            0             0        1  \n",
              "3            0             0            0             2        1  \n",
              "4            1             0            1             2        0  "
            ],
            "text/html": [
              "\n",
              "  <div id=\"df-c765cbf8-ef7b-412a-8c60-33e0c8a13a68\" class=\"colab-df-container\">\n",
              "    <div>\n",
              "<style scoped>\n",
              "    .dataframe tbody tr th:only-of-type {\n",
              "        vertical-align: middle;\n",
              "    }\n",
              "\n",
              "    .dataframe tbody tr th {\n",
              "        vertical-align: top;\n",
              "    }\n",
              "\n",
              "    .dataframe thead th {\n",
              "        text-align: right;\n",
              "    }\n",
              "</style>\n",
              "<table border=\"1\" class=\"dataframe\">\n",
              "  <thead>\n",
              "    <tr style=\"text-align: right;\">\n",
              "      <th></th>\n",
              "      <th>nome</th>\n",
              "      <th>renda</th>\n",
              "      <th>idade</th>\n",
              "      <th>etnia</th>\n",
              "      <th>sexo</th>\n",
              "      <th>casapropria</th>\n",
              "      <th>outrasrendas</th>\n",
              "      <th>estadocivil</th>\n",
              "      <th>escolaridade</th>\n",
              "      <th>default</th>\n",
              "    </tr>\n",
              "  </thead>\n",
              "  <tbody>\n",
              "    <tr>\n",
              "      <th>0</th>\n",
              "      <td>Simon, Rodriguez</td>\n",
              "      <td>4472.190323</td>\n",
              "      <td>42.036031</td>\n",
              "      <td>0</td>\n",
              "      <td>0</td>\n",
              "      <td>1</td>\n",
              "      <td>0</td>\n",
              "      <td>0</td>\n",
              "      <td>3</td>\n",
              "      <td>0</td>\n",
              "    </tr>\n",
              "    <tr>\n",
              "      <th>1</th>\n",
              "      <td>Daniel, Castro</td>\n",
              "      <td>4592.774312</td>\n",
              "      <td>48.230662</td>\n",
              "      <td>1</td>\n",
              "      <td>0</td>\n",
              "      <td>1</td>\n",
              "      <td>0</td>\n",
              "      <td>1</td>\n",
              "      <td>2</td>\n",
              "      <td>0</td>\n",
              "    </tr>\n",
              "    <tr>\n",
              "      <th>2</th>\n",
              "      <td>Myhue, Lin</td>\n",
              "      <td>2486.538807</td>\n",
              "      <td>56.881709</td>\n",
              "      <td>0</td>\n",
              "      <td>1</td>\n",
              "      <td>0</td>\n",
              "      <td>0</td>\n",
              "      <td>0</td>\n",
              "      <td>0</td>\n",
              "      <td>1</td>\n",
              "    </tr>\n",
              "    <tr>\n",
              "      <th>3</th>\n",
              "      <td>Destiny, Richardson-Pacheco</td>\n",
              "      <td>2852.340117</td>\n",
              "      <td>51.684021</td>\n",
              "      <td>1</td>\n",
              "      <td>1</td>\n",
              "      <td>0</td>\n",
              "      <td>0</td>\n",
              "      <td>0</td>\n",
              "      <td>2</td>\n",
              "      <td>1</td>\n",
              "    </tr>\n",
              "    <tr>\n",
              "      <th>4</th>\n",
              "      <td>Brittany, Cohen-Wilson</td>\n",
              "      <td>4703.782812</td>\n",
              "      <td>50.729078</td>\n",
              "      <td>1</td>\n",
              "      <td>1</td>\n",
              "      <td>1</td>\n",
              "      <td>0</td>\n",
              "      <td>1</td>\n",
              "      <td>2</td>\n",
              "      <td>0</td>\n",
              "    </tr>\n",
              "  </tbody>\n",
              "</table>\n",
              "</div>\n",
              "    <div class=\"colab-df-buttons\">\n",
              "\n",
              "  <div class=\"colab-df-container\">\n",
              "    <button class=\"colab-df-convert\" onclick=\"convertToInteractive('df-c765cbf8-ef7b-412a-8c60-33e0c8a13a68')\"\n",
              "            title=\"Convert this dataframe to an interactive table.\"\n",
              "            style=\"display:none;\">\n",
              "\n",
              "  <svg xmlns=\"http://www.w3.org/2000/svg\" height=\"24px\" viewBox=\"0 -960 960 960\">\n",
              "    <path d=\"M120-120v-720h720v720H120Zm60-500h600v-160H180v160Zm220 220h160v-160H400v160Zm0 220h160v-160H400v160ZM180-400h160v-160H180v160Zm440 0h160v-160H620v160ZM180-180h160v-160H180v160Zm440 0h160v-160H620v160Z\"/>\n",
              "  </svg>\n",
              "    </button>\n",
              "\n",
              "  <style>\n",
              "    .colab-df-container {\n",
              "      display:flex;\n",
              "      gap: 12px;\n",
              "    }\n",
              "\n",
              "    .colab-df-convert {\n",
              "      background-color: #E8F0FE;\n",
              "      border: none;\n",
              "      border-radius: 50%;\n",
              "      cursor: pointer;\n",
              "      display: none;\n",
              "      fill: #1967D2;\n",
              "      height: 32px;\n",
              "      padding: 0 0 0 0;\n",
              "      width: 32px;\n",
              "    }\n",
              "\n",
              "    .colab-df-convert:hover {\n",
              "      background-color: #E2EBFA;\n",
              "      box-shadow: 0px 1px 2px rgba(60, 64, 67, 0.3), 0px 1px 3px 1px rgba(60, 64, 67, 0.15);\n",
              "      fill: #174EA6;\n",
              "    }\n",
              "\n",
              "    .colab-df-buttons div {\n",
              "      margin-bottom: 4px;\n",
              "    }\n",
              "\n",
              "    [theme=dark] .colab-df-convert {\n",
              "      background-color: #3B4455;\n",
              "      fill: #D2E3FC;\n",
              "    }\n",
              "\n",
              "    [theme=dark] .colab-df-convert:hover {\n",
              "      background-color: #434B5C;\n",
              "      box-shadow: 0px 1px 3px 1px rgba(0, 0, 0, 0.15);\n",
              "      filter: drop-shadow(0px 1px 2px rgba(0, 0, 0, 0.3));\n",
              "      fill: #FFFFFF;\n",
              "    }\n",
              "  </style>\n",
              "\n",
              "    <script>\n",
              "      const buttonEl =\n",
              "        document.querySelector('#df-c765cbf8-ef7b-412a-8c60-33e0c8a13a68 button.colab-df-convert');\n",
              "      buttonEl.style.display =\n",
              "        google.colab.kernel.accessAllowed ? 'block' : 'none';\n",
              "\n",
              "      async function convertToInteractive(key) {\n",
              "        const element = document.querySelector('#df-c765cbf8-ef7b-412a-8c60-33e0c8a13a68');\n",
              "        const dataTable =\n",
              "          await google.colab.kernel.invokeFunction('convertToInteractive',\n",
              "                                                    [key], {});\n",
              "        if (!dataTable) return;\n",
              "\n",
              "        const docLinkHtml = 'Like what you see? Visit the ' +\n",
              "          '<a target=\"_blank\" href=https://colab.research.google.com/notebooks/data_table.ipynb>data table notebook</a>'\n",
              "          + ' to learn more about interactive tables.';\n",
              "        element.innerHTML = '';\n",
              "        dataTable['output_type'] = 'display_data';\n",
              "        await google.colab.output.renderOutput(dataTable, element);\n",
              "        const docLink = document.createElement('div');\n",
              "        docLink.innerHTML = docLinkHtml;\n",
              "        element.appendChild(docLink);\n",
              "      }\n",
              "    </script>\n",
              "  </div>\n",
              "\n",
              "\n",
              "<div id=\"df-db126e4c-29ff-46ab-ae29-022884b5c03f\">\n",
              "  <button class=\"colab-df-quickchart\" onclick=\"quickchart('df-db126e4c-29ff-46ab-ae29-022884b5c03f')\"\n",
              "            title=\"Suggest charts\"\n",
              "            style=\"display:none;\">\n",
              "\n",
              "<svg xmlns=\"http://www.w3.org/2000/svg\" height=\"24px\"viewBox=\"0 0 24 24\"\n",
              "     width=\"24px\">\n",
              "    <g>\n",
              "        <path d=\"M19 3H5c-1.1 0-2 .9-2 2v14c0 1.1.9 2 2 2h14c1.1 0 2-.9 2-2V5c0-1.1-.9-2-2-2zM9 17H7v-7h2v7zm4 0h-2V7h2v10zm4 0h-2v-4h2v4z\"/>\n",
              "    </g>\n",
              "</svg>\n",
              "  </button>\n",
              "\n",
              "<style>\n",
              "  .colab-df-quickchart {\n",
              "      --bg-color: #E8F0FE;\n",
              "      --fill-color: #1967D2;\n",
              "      --hover-bg-color: #E2EBFA;\n",
              "      --hover-fill-color: #174EA6;\n",
              "      --disabled-fill-color: #AAA;\n",
              "      --disabled-bg-color: #DDD;\n",
              "  }\n",
              "\n",
              "  [theme=dark] .colab-df-quickchart {\n",
              "      --bg-color: #3B4455;\n",
              "      --fill-color: #D2E3FC;\n",
              "      --hover-bg-color: #434B5C;\n",
              "      --hover-fill-color: #FFFFFF;\n",
              "      --disabled-bg-color: #3B4455;\n",
              "      --disabled-fill-color: #666;\n",
              "  }\n",
              "\n",
              "  .colab-df-quickchart {\n",
              "    background-color: var(--bg-color);\n",
              "    border: none;\n",
              "    border-radius: 50%;\n",
              "    cursor: pointer;\n",
              "    display: none;\n",
              "    fill: var(--fill-color);\n",
              "    height: 32px;\n",
              "    padding: 0;\n",
              "    width: 32px;\n",
              "  }\n",
              "\n",
              "  .colab-df-quickchart:hover {\n",
              "    background-color: var(--hover-bg-color);\n",
              "    box-shadow: 0 1px 2px rgba(60, 64, 67, 0.3), 0 1px 3px 1px rgba(60, 64, 67, 0.15);\n",
              "    fill: var(--button-hover-fill-color);\n",
              "  }\n",
              "\n",
              "  .colab-df-quickchart-complete:disabled,\n",
              "  .colab-df-quickchart-complete:disabled:hover {\n",
              "    background-color: var(--disabled-bg-color);\n",
              "    fill: var(--disabled-fill-color);\n",
              "    box-shadow: none;\n",
              "  }\n",
              "\n",
              "  .colab-df-spinner {\n",
              "    border: 2px solid var(--fill-color);\n",
              "    border-color: transparent;\n",
              "    border-bottom-color: var(--fill-color);\n",
              "    animation:\n",
              "      spin 1s steps(1) infinite;\n",
              "  }\n",
              "\n",
              "  @keyframes spin {\n",
              "    0% {\n",
              "      border-color: transparent;\n",
              "      border-bottom-color: var(--fill-color);\n",
              "      border-left-color: var(--fill-color);\n",
              "    }\n",
              "    20% {\n",
              "      border-color: transparent;\n",
              "      border-left-color: var(--fill-color);\n",
              "      border-top-color: var(--fill-color);\n",
              "    }\n",
              "    30% {\n",
              "      border-color: transparent;\n",
              "      border-left-color: var(--fill-color);\n",
              "      border-top-color: var(--fill-color);\n",
              "      border-right-color: var(--fill-color);\n",
              "    }\n",
              "    40% {\n",
              "      border-color: transparent;\n",
              "      border-right-color: var(--fill-color);\n",
              "      border-top-color: var(--fill-color);\n",
              "    }\n",
              "    60% {\n",
              "      border-color: transparent;\n",
              "      border-right-color: var(--fill-color);\n",
              "    }\n",
              "    80% {\n",
              "      border-color: transparent;\n",
              "      border-right-color: var(--fill-color);\n",
              "      border-bottom-color: var(--fill-color);\n",
              "    }\n",
              "    90% {\n",
              "      border-color: transparent;\n",
              "      border-bottom-color: var(--fill-color);\n",
              "    }\n",
              "  }\n",
              "</style>\n",
              "\n",
              "  <script>\n",
              "    async function quickchart(key) {\n",
              "      const quickchartButtonEl =\n",
              "        document.querySelector('#' + key + ' button');\n",
              "      quickchartButtonEl.disabled = true;  // To prevent multiple clicks.\n",
              "      quickchartButtonEl.classList.add('colab-df-spinner');\n",
              "      try {\n",
              "        const charts = await google.colab.kernel.invokeFunction(\n",
              "            'suggestCharts', [key], {});\n",
              "      } catch (error) {\n",
              "        console.error('Error during call to suggestCharts:', error);\n",
              "      }\n",
              "      quickchartButtonEl.classList.remove('colab-df-spinner');\n",
              "      quickchartButtonEl.classList.add('colab-df-quickchart-complete');\n",
              "    }\n",
              "    (() => {\n",
              "      let quickchartButtonEl =\n",
              "        document.querySelector('#df-db126e4c-29ff-46ab-ae29-022884b5c03f button');\n",
              "      quickchartButtonEl.style.display =\n",
              "        google.colab.kernel.accessAllowed ? 'block' : 'none';\n",
              "    })();\n",
              "  </script>\n",
              "</div>\n",
              "\n",
              "    </div>\n",
              "  </div>\n"
            ],
            "application/vnd.google.colaboratory.intrinsic+json": {
              "type": "dataframe",
              "variable_name": "mydf",
              "summary": "{\n  \"name\": \"mydf\",\n  \"rows\": 100000,\n  \"fields\": [\n    {\n      \"column\": \"nome\",\n      \"properties\": {\n        \"dtype\": \"string\",\n        \"num_unique_values\": 96546,\n        \"samples\": [\n          \"Saabiq, el-Mirza\",\n          \"Fateen, al-Yousif\",\n          \"Laraena, Davidson\"\n        ],\n        \"semantic_type\": \"\",\n        \"description\": \"\"\n      }\n    },\n    {\n      \"column\": \"renda\",\n      \"properties\": {\n        \"dtype\": \"number\",\n        \"std\": 804.7660334832235,\n        \"min\": 1008.1470703741144,\n        \"max\": 5727.1492112785245,\n        \"num_unique_values\": 100000,\n        \"samples\": [\n          3685.5539484654178,\n          4951.326529995367,\n          3646.541573825152\n        ],\n        \"semantic_type\": \"\",\n        \"description\": \"\"\n      }\n    },\n    {\n      \"column\": \"idade\",\n      \"properties\": {\n        \"dtype\": \"number\",\n        \"std\": 11.330192260440478,\n        \"min\": 18.00046033691615,\n        \"max\": 81.85967948237078,\n        \"num_unique_values\": 100000,\n        \"samples\": [\n          53.370649887944815,\n          41.76121953555992,\n          28.563170045670724\n        ],\n        \"semantic_type\": \"\",\n        \"description\": \"\"\n      }\n    },\n    {\n      \"column\": \"etnia\",\n      \"properties\": {\n        \"dtype\": \"number\",\n        \"std\": 0,\n        \"min\": 0,\n        \"max\": 1,\n        \"num_unique_values\": 2,\n        \"samples\": [\n          1,\n          0\n        ],\n        \"semantic_type\": \"\",\n        \"description\": \"\"\n      }\n    },\n    {\n      \"column\": \"sexo\",\n      \"properties\": {\n        \"dtype\": \"number\",\n        \"std\": 0,\n        \"min\": 0,\n        \"max\": 1,\n        \"num_unique_values\": 2,\n        \"samples\": [\n          1,\n          0\n        ],\n        \"semantic_type\": \"\",\n        \"description\": \"\"\n      }\n    },\n    {\n      \"column\": \"casapropria\",\n      \"properties\": {\n        \"dtype\": \"number\",\n        \"std\": 0,\n        \"min\": 0,\n        \"max\": 1,\n        \"num_unique_values\": 2,\n        \"samples\": [\n          0,\n          1\n        ],\n        \"semantic_type\": \"\",\n        \"description\": \"\"\n      }\n    },\n    {\n      \"column\": \"outrasrendas\",\n      \"properties\": {\n        \"dtype\": \"number\",\n        \"std\": 0,\n        \"min\": 0,\n        \"max\": 1,\n        \"num_unique_values\": 2,\n        \"samples\": [\n          1,\n          0\n        ],\n        \"semantic_type\": \"\",\n        \"description\": \"\"\n      }\n    },\n    {\n      \"column\": \"estadocivil\",\n      \"properties\": {\n        \"dtype\": \"number\",\n        \"std\": 0,\n        \"min\": 0,\n        \"max\": 1,\n        \"num_unique_values\": 2,\n        \"samples\": [\n          1,\n          0\n        ],\n        \"semantic_type\": \"\",\n        \"description\": \"\"\n      }\n    },\n    {\n      \"column\": \"escolaridade\",\n      \"properties\": {\n        \"dtype\": \"number\",\n        \"std\": 0,\n        \"min\": 0,\n        \"max\": 3,\n        \"num_unique_values\": 4,\n        \"samples\": [\n          2,\n          1\n        ],\n        \"semantic_type\": \"\",\n        \"description\": \"\"\n      }\n    },\n    {\n      \"column\": \"default\",\n      \"properties\": {\n        \"dtype\": \"number\",\n        \"std\": 0,\n        \"min\": 0,\n        \"max\": 1,\n        \"num_unique_values\": 2,\n        \"samples\": [\n          1,\n          0\n        ],\n        \"semantic_type\": \"\",\n        \"description\": \"\"\n      }\n    }\n  ]\n}"
            }
          },
          "metadata": {},
          "execution_count": 9
        }
      ]
    },
    {
      "cell_type": "code",
      "metadata": {
        "id": "cho9hOmWOVPb",
        "colab": {
          "base_uri": "https://localhost:8080/",
          "height": 241
        },
        "outputId": "b1fa93e1-5b5b-4d3a-d89c-b62fdee18f08"
      },
      "source": [
        "dataset_name, dataset_version = 'Risco-De-Credito', None\n",
        "try:\n",
        "  dataset = Dataset.get_by_name(workspace, name=dataset_name)\n",
        "  dataset_version = dataset.version\n",
        "  df = dataset.to_pandas_dataframe()\n",
        "  display( df.head() )\n",
        "except:\n",
        "  print(\"Dataset não encontrado\")"
      ],
      "execution_count": 10,
      "outputs": [
        {
          "output_type": "stream",
          "name": "stdout",
          "text": [
            "{'infer_column_types': 'False', 'activity': 'to_pandas_dataframe'}\n",
            "{'infer_column_types': 'False', 'activity': 'to_pandas_dataframe', 'activityApp': 'TabularDataset'}\n"
          ]
        },
        {
          "output_type": "display_data",
          "data": {
            "text/plain": [
              "                          nome        renda      idade  etnia  sexo  \\\n",
              "0             Simon, Rodriguez  4472.190323  42.036031      0     0   \n",
              "1               Daniel, Castro  4592.774312  48.230662      1     0   \n",
              "2                   Myhue, Lin  2486.538807  56.881709      0     1   \n",
              "3  Destiny, Richardson-Pacheco  2852.340117  51.684021      1     1   \n",
              "4       Brittany, Cohen-Wilson  4703.782812  50.729078      1     1   \n",
              "\n",
              "   casapropria  outrasrendas  estadocivil  escolaridade  default  \n",
              "0            1             0            0             3        0  \n",
              "1            1             0            1             2        0  \n",
              "2            0             0            0             0        1  \n",
              "3            0             0            0             2        1  \n",
              "4            1             0            1             2        0  "
            ],
            "text/html": [
              "\n",
              "  <div id=\"df-4e140098-479f-4658-a269-dc8a19ab88d4\" class=\"colab-df-container\">\n",
              "    <div>\n",
              "<style scoped>\n",
              "    .dataframe tbody tr th:only-of-type {\n",
              "        vertical-align: middle;\n",
              "    }\n",
              "\n",
              "    .dataframe tbody tr th {\n",
              "        vertical-align: top;\n",
              "    }\n",
              "\n",
              "    .dataframe thead th {\n",
              "        text-align: right;\n",
              "    }\n",
              "</style>\n",
              "<table border=\"1\" class=\"dataframe\">\n",
              "  <thead>\n",
              "    <tr style=\"text-align: right;\">\n",
              "      <th></th>\n",
              "      <th>nome</th>\n",
              "      <th>renda</th>\n",
              "      <th>idade</th>\n",
              "      <th>etnia</th>\n",
              "      <th>sexo</th>\n",
              "      <th>casapropria</th>\n",
              "      <th>outrasrendas</th>\n",
              "      <th>estadocivil</th>\n",
              "      <th>escolaridade</th>\n",
              "      <th>default</th>\n",
              "    </tr>\n",
              "  </thead>\n",
              "  <tbody>\n",
              "    <tr>\n",
              "      <th>0</th>\n",
              "      <td>Simon, Rodriguez</td>\n",
              "      <td>4472.190323</td>\n",
              "      <td>42.036031</td>\n",
              "      <td>0</td>\n",
              "      <td>0</td>\n",
              "      <td>1</td>\n",
              "      <td>0</td>\n",
              "      <td>0</td>\n",
              "      <td>3</td>\n",
              "      <td>0</td>\n",
              "    </tr>\n",
              "    <tr>\n",
              "      <th>1</th>\n",
              "      <td>Daniel, Castro</td>\n",
              "      <td>4592.774312</td>\n",
              "      <td>48.230662</td>\n",
              "      <td>1</td>\n",
              "      <td>0</td>\n",
              "      <td>1</td>\n",
              "      <td>0</td>\n",
              "      <td>1</td>\n",
              "      <td>2</td>\n",
              "      <td>0</td>\n",
              "    </tr>\n",
              "    <tr>\n",
              "      <th>2</th>\n",
              "      <td>Myhue, Lin</td>\n",
              "      <td>2486.538807</td>\n",
              "      <td>56.881709</td>\n",
              "      <td>0</td>\n",
              "      <td>1</td>\n",
              "      <td>0</td>\n",
              "      <td>0</td>\n",
              "      <td>0</td>\n",
              "      <td>0</td>\n",
              "      <td>1</td>\n",
              "    </tr>\n",
              "    <tr>\n",
              "      <th>3</th>\n",
              "      <td>Destiny, Richardson-Pacheco</td>\n",
              "      <td>2852.340117</td>\n",
              "      <td>51.684021</td>\n",
              "      <td>1</td>\n",
              "      <td>1</td>\n",
              "      <td>0</td>\n",
              "      <td>0</td>\n",
              "      <td>0</td>\n",
              "      <td>2</td>\n",
              "      <td>1</td>\n",
              "    </tr>\n",
              "    <tr>\n",
              "      <th>4</th>\n",
              "      <td>Brittany, Cohen-Wilson</td>\n",
              "      <td>4703.782812</td>\n",
              "      <td>50.729078</td>\n",
              "      <td>1</td>\n",
              "      <td>1</td>\n",
              "      <td>1</td>\n",
              "      <td>0</td>\n",
              "      <td>1</td>\n",
              "      <td>2</td>\n",
              "      <td>0</td>\n",
              "    </tr>\n",
              "  </tbody>\n",
              "</table>\n",
              "</div>\n",
              "    <div class=\"colab-df-buttons\">\n",
              "\n",
              "  <div class=\"colab-df-container\">\n",
              "    <button class=\"colab-df-convert\" onclick=\"convertToInteractive('df-4e140098-479f-4658-a269-dc8a19ab88d4')\"\n",
              "            title=\"Convert this dataframe to an interactive table.\"\n",
              "            style=\"display:none;\">\n",
              "\n",
              "  <svg xmlns=\"http://www.w3.org/2000/svg\" height=\"24px\" viewBox=\"0 -960 960 960\">\n",
              "    <path d=\"M120-120v-720h720v720H120Zm60-500h600v-160H180v160Zm220 220h160v-160H400v160Zm0 220h160v-160H400v160ZM180-400h160v-160H180v160Zm440 0h160v-160H620v160ZM180-180h160v-160H180v160Zm440 0h160v-160H620v160Z\"/>\n",
              "  </svg>\n",
              "    </button>\n",
              "\n",
              "  <style>\n",
              "    .colab-df-container {\n",
              "      display:flex;\n",
              "      gap: 12px;\n",
              "    }\n",
              "\n",
              "    .colab-df-convert {\n",
              "      background-color: #E8F0FE;\n",
              "      border: none;\n",
              "      border-radius: 50%;\n",
              "      cursor: pointer;\n",
              "      display: none;\n",
              "      fill: #1967D2;\n",
              "      height: 32px;\n",
              "      padding: 0 0 0 0;\n",
              "      width: 32px;\n",
              "    }\n",
              "\n",
              "    .colab-df-convert:hover {\n",
              "      background-color: #E2EBFA;\n",
              "      box-shadow: 0px 1px 2px rgba(60, 64, 67, 0.3), 0px 1px 3px 1px rgba(60, 64, 67, 0.15);\n",
              "      fill: #174EA6;\n",
              "    }\n",
              "\n",
              "    .colab-df-buttons div {\n",
              "      margin-bottom: 4px;\n",
              "    }\n",
              "\n",
              "    [theme=dark] .colab-df-convert {\n",
              "      background-color: #3B4455;\n",
              "      fill: #D2E3FC;\n",
              "    }\n",
              "\n",
              "    [theme=dark] .colab-df-convert:hover {\n",
              "      background-color: #434B5C;\n",
              "      box-shadow: 0px 1px 3px 1px rgba(0, 0, 0, 0.15);\n",
              "      filter: drop-shadow(0px 1px 2px rgba(0, 0, 0, 0.3));\n",
              "      fill: #FFFFFF;\n",
              "    }\n",
              "  </style>\n",
              "\n",
              "    <script>\n",
              "      const buttonEl =\n",
              "        document.querySelector('#df-4e140098-479f-4658-a269-dc8a19ab88d4 button.colab-df-convert');\n",
              "      buttonEl.style.display =\n",
              "        google.colab.kernel.accessAllowed ? 'block' : 'none';\n",
              "\n",
              "      async function convertToInteractive(key) {\n",
              "        const element = document.querySelector('#df-4e140098-479f-4658-a269-dc8a19ab88d4');\n",
              "        const dataTable =\n",
              "          await google.colab.kernel.invokeFunction('convertToInteractive',\n",
              "                                                    [key], {});\n",
              "        if (!dataTable) return;\n",
              "\n",
              "        const docLinkHtml = 'Like what you see? Visit the ' +\n",
              "          '<a target=\"_blank\" href=https://colab.research.google.com/notebooks/data_table.ipynb>data table notebook</a>'\n",
              "          + ' to learn more about interactive tables.';\n",
              "        element.innerHTML = '';\n",
              "        dataTable['output_type'] = 'display_data';\n",
              "        await google.colab.output.renderOutput(dataTable, element);\n",
              "        const docLink = document.createElement('div');\n",
              "        docLink.innerHTML = docLinkHtml;\n",
              "        element.appendChild(docLink);\n",
              "      }\n",
              "    </script>\n",
              "  </div>\n",
              "\n",
              "\n",
              "<div id=\"df-4ca84bc4-d803-43e7-81fc-48507f0b28ac\">\n",
              "  <button class=\"colab-df-quickchart\" onclick=\"quickchart('df-4ca84bc4-d803-43e7-81fc-48507f0b28ac')\"\n",
              "            title=\"Suggest charts\"\n",
              "            style=\"display:none;\">\n",
              "\n",
              "<svg xmlns=\"http://www.w3.org/2000/svg\" height=\"24px\"viewBox=\"0 0 24 24\"\n",
              "     width=\"24px\">\n",
              "    <g>\n",
              "        <path d=\"M19 3H5c-1.1 0-2 .9-2 2v14c0 1.1.9 2 2 2h14c1.1 0 2-.9 2-2V5c0-1.1-.9-2-2-2zM9 17H7v-7h2v7zm4 0h-2V7h2v10zm4 0h-2v-4h2v4z\"/>\n",
              "    </g>\n",
              "</svg>\n",
              "  </button>\n",
              "\n",
              "<style>\n",
              "  .colab-df-quickchart {\n",
              "      --bg-color: #E8F0FE;\n",
              "      --fill-color: #1967D2;\n",
              "      --hover-bg-color: #E2EBFA;\n",
              "      --hover-fill-color: #174EA6;\n",
              "      --disabled-fill-color: #AAA;\n",
              "      --disabled-bg-color: #DDD;\n",
              "  }\n",
              "\n",
              "  [theme=dark] .colab-df-quickchart {\n",
              "      --bg-color: #3B4455;\n",
              "      --fill-color: #D2E3FC;\n",
              "      --hover-bg-color: #434B5C;\n",
              "      --hover-fill-color: #FFFFFF;\n",
              "      --disabled-bg-color: #3B4455;\n",
              "      --disabled-fill-color: #666;\n",
              "  }\n",
              "\n",
              "  .colab-df-quickchart {\n",
              "    background-color: var(--bg-color);\n",
              "    border: none;\n",
              "    border-radius: 50%;\n",
              "    cursor: pointer;\n",
              "    display: none;\n",
              "    fill: var(--fill-color);\n",
              "    height: 32px;\n",
              "    padding: 0;\n",
              "    width: 32px;\n",
              "  }\n",
              "\n",
              "  .colab-df-quickchart:hover {\n",
              "    background-color: var(--hover-bg-color);\n",
              "    box-shadow: 0 1px 2px rgba(60, 64, 67, 0.3), 0 1px 3px 1px rgba(60, 64, 67, 0.15);\n",
              "    fill: var(--button-hover-fill-color);\n",
              "  }\n",
              "\n",
              "  .colab-df-quickchart-complete:disabled,\n",
              "  .colab-df-quickchart-complete:disabled:hover {\n",
              "    background-color: var(--disabled-bg-color);\n",
              "    fill: var(--disabled-fill-color);\n",
              "    box-shadow: none;\n",
              "  }\n",
              "\n",
              "  .colab-df-spinner {\n",
              "    border: 2px solid var(--fill-color);\n",
              "    border-color: transparent;\n",
              "    border-bottom-color: var(--fill-color);\n",
              "    animation:\n",
              "      spin 1s steps(1) infinite;\n",
              "  }\n",
              "\n",
              "  @keyframes spin {\n",
              "    0% {\n",
              "      border-color: transparent;\n",
              "      border-bottom-color: var(--fill-color);\n",
              "      border-left-color: var(--fill-color);\n",
              "    }\n",
              "    20% {\n",
              "      border-color: transparent;\n",
              "      border-left-color: var(--fill-color);\n",
              "      border-top-color: var(--fill-color);\n",
              "    }\n",
              "    30% {\n",
              "      border-color: transparent;\n",
              "      border-left-color: var(--fill-color);\n",
              "      border-top-color: var(--fill-color);\n",
              "      border-right-color: var(--fill-color);\n",
              "    }\n",
              "    40% {\n",
              "      border-color: transparent;\n",
              "      border-right-color: var(--fill-color);\n",
              "      border-top-color: var(--fill-color);\n",
              "    }\n",
              "    60% {\n",
              "      border-color: transparent;\n",
              "      border-right-color: var(--fill-color);\n",
              "    }\n",
              "    80% {\n",
              "      border-color: transparent;\n",
              "      border-right-color: var(--fill-color);\n",
              "      border-bottom-color: var(--fill-color);\n",
              "    }\n",
              "    90% {\n",
              "      border-color: transparent;\n",
              "      border-bottom-color: var(--fill-color);\n",
              "    }\n",
              "  }\n",
              "</style>\n",
              "\n",
              "  <script>\n",
              "    async function quickchart(key) {\n",
              "      const quickchartButtonEl =\n",
              "        document.querySelector('#' + key + ' button');\n",
              "      quickchartButtonEl.disabled = true;  // To prevent multiple clicks.\n",
              "      quickchartButtonEl.classList.add('colab-df-spinner');\n",
              "      try {\n",
              "        const charts = await google.colab.kernel.invokeFunction(\n",
              "            'suggestCharts', [key], {});\n",
              "      } catch (error) {\n",
              "        console.error('Error during call to suggestCharts:', error);\n",
              "      }\n",
              "      quickchartButtonEl.classList.remove('colab-df-spinner');\n",
              "      quickchartButtonEl.classList.add('colab-df-quickchart-complete');\n",
              "    }\n",
              "    (() => {\n",
              "      let quickchartButtonEl =\n",
              "        document.querySelector('#df-4ca84bc4-d803-43e7-81fc-48507f0b28ac button');\n",
              "      quickchartButtonEl.style.display =\n",
              "        google.colab.kernel.accessAllowed ? 'block' : 'none';\n",
              "    })();\n",
              "  </script>\n",
              "</div>\n",
              "\n",
              "    </div>\n",
              "  </div>\n"
            ],
            "application/vnd.google.colaboratory.intrinsic+json": {
              "type": "dataframe",
              "summary": "{\n  \"name\": \"  print(\\\"Dataset n\\u00e3o encontrado\\\")\",\n  \"rows\": 5,\n  \"fields\": [\n    {\n      \"column\": \"nome\",\n      \"properties\": {\n        \"dtype\": \"string\",\n        \"num_unique_values\": 5,\n        \"samples\": [\n          \"Daniel, Castro\",\n          \"Brittany, Cohen-Wilson\",\n          \"Myhue, Lin\"\n        ],\n        \"semantic_type\": \"\",\n        \"description\": \"\"\n      }\n    },\n    {\n      \"column\": \"renda\",\n      \"properties\": {\n        \"dtype\": \"number\",\n        \"std\": 1062.7884529698222,\n        \"min\": 2486.538807306123,\n        \"max\": 4703.782811945571,\n        \"num_unique_values\": 5,\n        \"samples\": [\n          4592.77431186845,\n          4703.782811945571,\n          2486.538807306123\n        ],\n        \"semantic_type\": \"\",\n        \"description\": \"\"\n      }\n    },\n    {\n      \"column\": \"idade\",\n      \"properties\": {\n        \"dtype\": \"number\",\n        \"std\": 5.413924442813857,\n        \"min\": 42.03603083719228,\n        \"max\": 56.881709387467794,\n        \"num_unique_values\": 5,\n        \"samples\": [\n          48.23066229574363,\n          50.72907816841617,\n          56.881709387467794\n        ],\n        \"semantic_type\": \"\",\n        \"description\": \"\"\n      }\n    },\n    {\n      \"column\": \"etnia\",\n      \"properties\": {\n        \"dtype\": \"number\",\n        \"std\": 0,\n        \"min\": 0,\n        \"max\": 1,\n        \"num_unique_values\": 2,\n        \"samples\": [\n          1,\n          0\n        ],\n        \"semantic_type\": \"\",\n        \"description\": \"\"\n      }\n    },\n    {\n      \"column\": \"sexo\",\n      \"properties\": {\n        \"dtype\": \"number\",\n        \"std\": 0,\n        \"min\": 0,\n        \"max\": 1,\n        \"num_unique_values\": 2,\n        \"samples\": [\n          1,\n          0\n        ],\n        \"semantic_type\": \"\",\n        \"description\": \"\"\n      }\n    },\n    {\n      \"column\": \"casapropria\",\n      \"properties\": {\n        \"dtype\": \"number\",\n        \"std\": 0,\n        \"min\": 0,\n        \"max\": 1,\n        \"num_unique_values\": 2,\n        \"samples\": [\n          0,\n          1\n        ],\n        \"semantic_type\": \"\",\n        \"description\": \"\"\n      }\n    },\n    {\n      \"column\": \"outrasrendas\",\n      \"properties\": {\n        \"dtype\": \"number\",\n        \"std\": 0,\n        \"min\": 0,\n        \"max\": 0,\n        \"num_unique_values\": 1,\n        \"samples\": [\n          0\n        ],\n        \"semantic_type\": \"\",\n        \"description\": \"\"\n      }\n    },\n    {\n      \"column\": \"estadocivil\",\n      \"properties\": {\n        \"dtype\": \"number\",\n        \"std\": 0,\n        \"min\": 0,\n        \"max\": 1,\n        \"num_unique_values\": 2,\n        \"samples\": [\n          1\n        ],\n        \"semantic_type\": \"\",\n        \"description\": \"\"\n      }\n    },\n    {\n      \"column\": \"escolaridade\",\n      \"properties\": {\n        \"dtype\": \"number\",\n        \"std\": 1,\n        \"min\": 0,\n        \"max\": 3,\n        \"num_unique_values\": 3,\n        \"samples\": [\n          3\n        ],\n        \"semantic_type\": \"\",\n        \"description\": \"\"\n      }\n    },\n    {\n      \"column\": \"default\",\n      \"properties\": {\n        \"dtype\": \"number\",\n        \"std\": 0,\n        \"min\": 0,\n        \"max\": 1,\n        \"num_unique_values\": 2,\n        \"samples\": [\n          1\n        ],\n        \"semantic_type\": \"\",\n        \"description\": \"\"\n      }\n    }\n  ]\n}"
            }
          },
          "metadata": {}
        }
      ]
    },
    {
      "cell_type": "code",
      "source": [
        "mydf.to_csv(\"./dadostreino/original_data.csv\")"
      ],
      "metadata": {
        "id": "9oR4YrUWKmqG"
      },
      "execution_count": 11,
      "outputs": []
    },
    {
      "cell_type": "code",
      "source": [
        "mydf_metadata = describe(mydf)\n",
        "#mydf_metadata.to_json(\"./dadostreino/metadata.json\", indent=4, orient='index')\n",
        "mydf_metadata.to_markdown(\"./dadostreino/metadata.md\")\n",
        "mydf_metadata.to_csv(\"./dadostreino/metadata.csv\")\n",
        "mydf_metadata"
      ],
      "metadata": {
        "id": "6agEoXFfOeyA",
        "colab": {
          "base_uri": "https://localhost:8080/",
          "height": 430
        },
        "outputId": "9d03d609-ad4e-4e01-9274-2b0eee573e77"
      },
      "execution_count": 12,
      "outputs": [
        {
          "output_type": "execute_result",
          "data": {
            "text/plain": [
              "                 count unique             top freq         mean         std  \\\n",
              "nome            100000  96546  Andrew, Nguyen   10          NaN         NaN   \n",
              "renda         100000.0    NaN             NaN  NaN  3549.511518  804.766033   \n",
              "idade         100000.0    NaN             NaN  NaN    38.819483   11.330192   \n",
              "etnia         100000.0    NaN             NaN  NaN       0.4766    0.499455   \n",
              "sexo          100000.0    NaN             NaN  NaN      0.47714     0.49948   \n",
              "casapropria   100000.0    NaN             NaN  NaN       0.4744    0.499347   \n",
              "outrasrendas  100000.0    NaN             NaN  NaN      0.23312     0.42282   \n",
              "estadocivil   100000.0    NaN             NaN  NaN      0.58106    0.493388   \n",
              "escolaridade  100000.0    NaN             NaN  NaN      1.72235     0.87798   \n",
              "default       100000.0    NaN             NaN  NaN      0.45068    0.497564   \n",
              "\n",
              "                     min          10%          20%          25%  ...  \\\n",
              "nome                 NaN          NaN          NaN          NaN  ...   \n",
              "renda         1008.14707  2433.267828  2847.749606  2999.406891  ...   \n",
              "idade           18.00046    22.506054    28.118952    30.203688  ...   \n",
              "etnia                0.0          0.0          0.0          0.0  ...   \n",
              "sexo                 0.0          0.0          0.0          0.0  ...   \n",
              "casapropria          0.0          0.0          0.0          0.0  ...   \n",
              "outrasrendas         0.0          0.0          0.0          0.0  ...   \n",
              "estadocivil          0.0          0.0          0.0          0.0  ...   \n",
              "escolaridade         0.0          1.0          1.0          1.0  ...   \n",
              "default              0.0          0.0          0.0          0.0  ...   \n",
              "\n",
              "                      40%          50%         60%          70%          75%  \\\n",
              "nome                  NaN          NaN         NaN          NaN          NaN   \n",
              "renda         3345.294497  3553.223201  3764.81879  4003.569725  4143.017046   \n",
              "idade           35.500646    38.829486   42.125037    45.451067     47.23245   \n",
              "etnia                 0.0          0.0         1.0          1.0          1.0   \n",
              "sexo                  0.0          0.0         1.0          1.0          1.0   \n",
              "casapropria           0.0          0.0         1.0          1.0          1.0   \n",
              "outrasrendas          0.0          0.0         0.0          0.0          0.0   \n",
              "estadocivil           0.0          1.0         1.0          1.0          1.0   \n",
              "escolaridade          2.0          2.0         2.0          2.0          2.0   \n",
              "default               0.0          0.0         1.0          1.0          1.0   \n",
              "\n",
              "                      80%          90%          max   dtypes nunique  \n",
              "nome                  NaN          NaN          NaN   object   96546  \n",
              "renda         4292.027575  4641.554209  5727.149211  float64  100000  \n",
              "idade            49.19211    54.128594    81.859679  float64  100000  \n",
              "etnia                 1.0          1.0          1.0    int64       2  \n",
              "sexo                  1.0          1.0          1.0    int64       2  \n",
              "casapropria           1.0          1.0          1.0    int64       2  \n",
              "outrasrendas          1.0          1.0          1.0    int64       2  \n",
              "estadocivil           1.0          1.0          1.0    int64       2  \n",
              "escolaridade          2.0          3.0          3.0    int64       4  \n",
              "default               1.0          1.0          1.0    int64       2  \n",
              "\n",
              "[10 rows x 21 columns]"
            ],
            "text/html": [
              "\n",
              "  <div id=\"df-640fa4e1-1088-47b6-b99f-549664844589\" class=\"colab-df-container\">\n",
              "    <div>\n",
              "<style scoped>\n",
              "    .dataframe tbody tr th:only-of-type {\n",
              "        vertical-align: middle;\n",
              "    }\n",
              "\n",
              "    .dataframe tbody tr th {\n",
              "        vertical-align: top;\n",
              "    }\n",
              "\n",
              "    .dataframe thead th {\n",
              "        text-align: right;\n",
              "    }\n",
              "</style>\n",
              "<table border=\"1\" class=\"dataframe\">\n",
              "  <thead>\n",
              "    <tr style=\"text-align: right;\">\n",
              "      <th></th>\n",
              "      <th>count</th>\n",
              "      <th>unique</th>\n",
              "      <th>top</th>\n",
              "      <th>freq</th>\n",
              "      <th>mean</th>\n",
              "      <th>std</th>\n",
              "      <th>min</th>\n",
              "      <th>10%</th>\n",
              "      <th>20%</th>\n",
              "      <th>25%</th>\n",
              "      <th>...</th>\n",
              "      <th>40%</th>\n",
              "      <th>50%</th>\n",
              "      <th>60%</th>\n",
              "      <th>70%</th>\n",
              "      <th>75%</th>\n",
              "      <th>80%</th>\n",
              "      <th>90%</th>\n",
              "      <th>max</th>\n",
              "      <th>dtypes</th>\n",
              "      <th>nunique</th>\n",
              "    </tr>\n",
              "  </thead>\n",
              "  <tbody>\n",
              "    <tr>\n",
              "      <th>nome</th>\n",
              "      <td>100000</td>\n",
              "      <td>96546</td>\n",
              "      <td>Andrew, Nguyen</td>\n",
              "      <td>10</td>\n",
              "      <td>NaN</td>\n",
              "      <td>NaN</td>\n",
              "      <td>NaN</td>\n",
              "      <td>NaN</td>\n",
              "      <td>NaN</td>\n",
              "      <td>NaN</td>\n",
              "      <td>...</td>\n",
              "      <td>NaN</td>\n",
              "      <td>NaN</td>\n",
              "      <td>NaN</td>\n",
              "      <td>NaN</td>\n",
              "      <td>NaN</td>\n",
              "      <td>NaN</td>\n",
              "      <td>NaN</td>\n",
              "      <td>NaN</td>\n",
              "      <td>object</td>\n",
              "      <td>96546</td>\n",
              "    </tr>\n",
              "    <tr>\n",
              "      <th>renda</th>\n",
              "      <td>100000.0</td>\n",
              "      <td>NaN</td>\n",
              "      <td>NaN</td>\n",
              "      <td>NaN</td>\n",
              "      <td>3549.511518</td>\n",
              "      <td>804.766033</td>\n",
              "      <td>1008.14707</td>\n",
              "      <td>2433.267828</td>\n",
              "      <td>2847.749606</td>\n",
              "      <td>2999.406891</td>\n",
              "      <td>...</td>\n",
              "      <td>3345.294497</td>\n",
              "      <td>3553.223201</td>\n",
              "      <td>3764.81879</td>\n",
              "      <td>4003.569725</td>\n",
              "      <td>4143.017046</td>\n",
              "      <td>4292.027575</td>\n",
              "      <td>4641.554209</td>\n",
              "      <td>5727.149211</td>\n",
              "      <td>float64</td>\n",
              "      <td>100000</td>\n",
              "    </tr>\n",
              "    <tr>\n",
              "      <th>idade</th>\n",
              "      <td>100000.0</td>\n",
              "      <td>NaN</td>\n",
              "      <td>NaN</td>\n",
              "      <td>NaN</td>\n",
              "      <td>38.819483</td>\n",
              "      <td>11.330192</td>\n",
              "      <td>18.00046</td>\n",
              "      <td>22.506054</td>\n",
              "      <td>28.118952</td>\n",
              "      <td>30.203688</td>\n",
              "      <td>...</td>\n",
              "      <td>35.500646</td>\n",
              "      <td>38.829486</td>\n",
              "      <td>42.125037</td>\n",
              "      <td>45.451067</td>\n",
              "      <td>47.23245</td>\n",
              "      <td>49.19211</td>\n",
              "      <td>54.128594</td>\n",
              "      <td>81.859679</td>\n",
              "      <td>float64</td>\n",
              "      <td>100000</td>\n",
              "    </tr>\n",
              "    <tr>\n",
              "      <th>etnia</th>\n",
              "      <td>100000.0</td>\n",
              "      <td>NaN</td>\n",
              "      <td>NaN</td>\n",
              "      <td>NaN</td>\n",
              "      <td>0.4766</td>\n",
              "      <td>0.499455</td>\n",
              "      <td>0.0</td>\n",
              "      <td>0.0</td>\n",
              "      <td>0.0</td>\n",
              "      <td>0.0</td>\n",
              "      <td>...</td>\n",
              "      <td>0.0</td>\n",
              "      <td>0.0</td>\n",
              "      <td>1.0</td>\n",
              "      <td>1.0</td>\n",
              "      <td>1.0</td>\n",
              "      <td>1.0</td>\n",
              "      <td>1.0</td>\n",
              "      <td>1.0</td>\n",
              "      <td>int64</td>\n",
              "      <td>2</td>\n",
              "    </tr>\n",
              "    <tr>\n",
              "      <th>sexo</th>\n",
              "      <td>100000.0</td>\n",
              "      <td>NaN</td>\n",
              "      <td>NaN</td>\n",
              "      <td>NaN</td>\n",
              "      <td>0.47714</td>\n",
              "      <td>0.49948</td>\n",
              "      <td>0.0</td>\n",
              "      <td>0.0</td>\n",
              "      <td>0.0</td>\n",
              "      <td>0.0</td>\n",
              "      <td>...</td>\n",
              "      <td>0.0</td>\n",
              "      <td>0.0</td>\n",
              "      <td>1.0</td>\n",
              "      <td>1.0</td>\n",
              "      <td>1.0</td>\n",
              "      <td>1.0</td>\n",
              "      <td>1.0</td>\n",
              "      <td>1.0</td>\n",
              "      <td>int64</td>\n",
              "      <td>2</td>\n",
              "    </tr>\n",
              "    <tr>\n",
              "      <th>casapropria</th>\n",
              "      <td>100000.0</td>\n",
              "      <td>NaN</td>\n",
              "      <td>NaN</td>\n",
              "      <td>NaN</td>\n",
              "      <td>0.4744</td>\n",
              "      <td>0.499347</td>\n",
              "      <td>0.0</td>\n",
              "      <td>0.0</td>\n",
              "      <td>0.0</td>\n",
              "      <td>0.0</td>\n",
              "      <td>...</td>\n",
              "      <td>0.0</td>\n",
              "      <td>0.0</td>\n",
              "      <td>1.0</td>\n",
              "      <td>1.0</td>\n",
              "      <td>1.0</td>\n",
              "      <td>1.0</td>\n",
              "      <td>1.0</td>\n",
              "      <td>1.0</td>\n",
              "      <td>int64</td>\n",
              "      <td>2</td>\n",
              "    </tr>\n",
              "    <tr>\n",
              "      <th>outrasrendas</th>\n",
              "      <td>100000.0</td>\n",
              "      <td>NaN</td>\n",
              "      <td>NaN</td>\n",
              "      <td>NaN</td>\n",
              "      <td>0.23312</td>\n",
              "      <td>0.42282</td>\n",
              "      <td>0.0</td>\n",
              "      <td>0.0</td>\n",
              "      <td>0.0</td>\n",
              "      <td>0.0</td>\n",
              "      <td>...</td>\n",
              "      <td>0.0</td>\n",
              "      <td>0.0</td>\n",
              "      <td>0.0</td>\n",
              "      <td>0.0</td>\n",
              "      <td>0.0</td>\n",
              "      <td>1.0</td>\n",
              "      <td>1.0</td>\n",
              "      <td>1.0</td>\n",
              "      <td>int64</td>\n",
              "      <td>2</td>\n",
              "    </tr>\n",
              "    <tr>\n",
              "      <th>estadocivil</th>\n",
              "      <td>100000.0</td>\n",
              "      <td>NaN</td>\n",
              "      <td>NaN</td>\n",
              "      <td>NaN</td>\n",
              "      <td>0.58106</td>\n",
              "      <td>0.493388</td>\n",
              "      <td>0.0</td>\n",
              "      <td>0.0</td>\n",
              "      <td>0.0</td>\n",
              "      <td>0.0</td>\n",
              "      <td>...</td>\n",
              "      <td>0.0</td>\n",
              "      <td>1.0</td>\n",
              "      <td>1.0</td>\n",
              "      <td>1.0</td>\n",
              "      <td>1.0</td>\n",
              "      <td>1.0</td>\n",
              "      <td>1.0</td>\n",
              "      <td>1.0</td>\n",
              "      <td>int64</td>\n",
              "      <td>2</td>\n",
              "    </tr>\n",
              "    <tr>\n",
              "      <th>escolaridade</th>\n",
              "      <td>100000.0</td>\n",
              "      <td>NaN</td>\n",
              "      <td>NaN</td>\n",
              "      <td>NaN</td>\n",
              "      <td>1.72235</td>\n",
              "      <td>0.87798</td>\n",
              "      <td>0.0</td>\n",
              "      <td>1.0</td>\n",
              "      <td>1.0</td>\n",
              "      <td>1.0</td>\n",
              "      <td>...</td>\n",
              "      <td>2.0</td>\n",
              "      <td>2.0</td>\n",
              "      <td>2.0</td>\n",
              "      <td>2.0</td>\n",
              "      <td>2.0</td>\n",
              "      <td>2.0</td>\n",
              "      <td>3.0</td>\n",
              "      <td>3.0</td>\n",
              "      <td>int64</td>\n",
              "      <td>4</td>\n",
              "    </tr>\n",
              "    <tr>\n",
              "      <th>default</th>\n",
              "      <td>100000.0</td>\n",
              "      <td>NaN</td>\n",
              "      <td>NaN</td>\n",
              "      <td>NaN</td>\n",
              "      <td>0.45068</td>\n",
              "      <td>0.497564</td>\n",
              "      <td>0.0</td>\n",
              "      <td>0.0</td>\n",
              "      <td>0.0</td>\n",
              "      <td>0.0</td>\n",
              "      <td>...</td>\n",
              "      <td>0.0</td>\n",
              "      <td>0.0</td>\n",
              "      <td>1.0</td>\n",
              "      <td>1.0</td>\n",
              "      <td>1.0</td>\n",
              "      <td>1.0</td>\n",
              "      <td>1.0</td>\n",
              "      <td>1.0</td>\n",
              "      <td>int64</td>\n",
              "      <td>2</td>\n",
              "    </tr>\n",
              "  </tbody>\n",
              "</table>\n",
              "<p>10 rows × 21 columns</p>\n",
              "</div>\n",
              "    <div class=\"colab-df-buttons\">\n",
              "\n",
              "  <div class=\"colab-df-container\">\n",
              "    <button class=\"colab-df-convert\" onclick=\"convertToInteractive('df-640fa4e1-1088-47b6-b99f-549664844589')\"\n",
              "            title=\"Convert this dataframe to an interactive table.\"\n",
              "            style=\"display:none;\">\n",
              "\n",
              "  <svg xmlns=\"http://www.w3.org/2000/svg\" height=\"24px\" viewBox=\"0 -960 960 960\">\n",
              "    <path d=\"M120-120v-720h720v720H120Zm60-500h600v-160H180v160Zm220 220h160v-160H400v160Zm0 220h160v-160H400v160ZM180-400h160v-160H180v160Zm440 0h160v-160H620v160ZM180-180h160v-160H180v160Zm440 0h160v-160H620v160Z\"/>\n",
              "  </svg>\n",
              "    </button>\n",
              "\n",
              "  <style>\n",
              "    .colab-df-container {\n",
              "      display:flex;\n",
              "      gap: 12px;\n",
              "    }\n",
              "\n",
              "    .colab-df-convert {\n",
              "      background-color: #E8F0FE;\n",
              "      border: none;\n",
              "      border-radius: 50%;\n",
              "      cursor: pointer;\n",
              "      display: none;\n",
              "      fill: #1967D2;\n",
              "      height: 32px;\n",
              "      padding: 0 0 0 0;\n",
              "      width: 32px;\n",
              "    }\n",
              "\n",
              "    .colab-df-convert:hover {\n",
              "      background-color: #E2EBFA;\n",
              "      box-shadow: 0px 1px 2px rgba(60, 64, 67, 0.3), 0px 1px 3px 1px rgba(60, 64, 67, 0.15);\n",
              "      fill: #174EA6;\n",
              "    }\n",
              "\n",
              "    .colab-df-buttons div {\n",
              "      margin-bottom: 4px;\n",
              "    }\n",
              "\n",
              "    [theme=dark] .colab-df-convert {\n",
              "      background-color: #3B4455;\n",
              "      fill: #D2E3FC;\n",
              "    }\n",
              "\n",
              "    [theme=dark] .colab-df-convert:hover {\n",
              "      background-color: #434B5C;\n",
              "      box-shadow: 0px 1px 3px 1px rgba(0, 0, 0, 0.15);\n",
              "      filter: drop-shadow(0px 1px 2px rgba(0, 0, 0, 0.3));\n",
              "      fill: #FFFFFF;\n",
              "    }\n",
              "  </style>\n",
              "\n",
              "    <script>\n",
              "      const buttonEl =\n",
              "        document.querySelector('#df-640fa4e1-1088-47b6-b99f-549664844589 button.colab-df-convert');\n",
              "      buttonEl.style.display =\n",
              "        google.colab.kernel.accessAllowed ? 'block' : 'none';\n",
              "\n",
              "      async function convertToInteractive(key) {\n",
              "        const element = document.querySelector('#df-640fa4e1-1088-47b6-b99f-549664844589');\n",
              "        const dataTable =\n",
              "          await google.colab.kernel.invokeFunction('convertToInteractive',\n",
              "                                                    [key], {});\n",
              "        if (!dataTable) return;\n",
              "\n",
              "        const docLinkHtml = 'Like what you see? Visit the ' +\n",
              "          '<a target=\"_blank\" href=https://colab.research.google.com/notebooks/data_table.ipynb>data table notebook</a>'\n",
              "          + ' to learn more about interactive tables.';\n",
              "        element.innerHTML = '';\n",
              "        dataTable['output_type'] = 'display_data';\n",
              "        await google.colab.output.renderOutput(dataTable, element);\n",
              "        const docLink = document.createElement('div');\n",
              "        docLink.innerHTML = docLinkHtml;\n",
              "        element.appendChild(docLink);\n",
              "      }\n",
              "    </script>\n",
              "  </div>\n",
              "\n",
              "\n",
              "<div id=\"df-a928fd09-87a9-4a13-93a4-20f82c056d10\">\n",
              "  <button class=\"colab-df-quickchart\" onclick=\"quickchart('df-a928fd09-87a9-4a13-93a4-20f82c056d10')\"\n",
              "            title=\"Suggest charts\"\n",
              "            style=\"display:none;\">\n",
              "\n",
              "<svg xmlns=\"http://www.w3.org/2000/svg\" height=\"24px\"viewBox=\"0 0 24 24\"\n",
              "     width=\"24px\">\n",
              "    <g>\n",
              "        <path d=\"M19 3H5c-1.1 0-2 .9-2 2v14c0 1.1.9 2 2 2h14c1.1 0 2-.9 2-2V5c0-1.1-.9-2-2-2zM9 17H7v-7h2v7zm4 0h-2V7h2v10zm4 0h-2v-4h2v4z\"/>\n",
              "    </g>\n",
              "</svg>\n",
              "  </button>\n",
              "\n",
              "<style>\n",
              "  .colab-df-quickchart {\n",
              "      --bg-color: #E8F0FE;\n",
              "      --fill-color: #1967D2;\n",
              "      --hover-bg-color: #E2EBFA;\n",
              "      --hover-fill-color: #174EA6;\n",
              "      --disabled-fill-color: #AAA;\n",
              "      --disabled-bg-color: #DDD;\n",
              "  }\n",
              "\n",
              "  [theme=dark] .colab-df-quickchart {\n",
              "      --bg-color: #3B4455;\n",
              "      --fill-color: #D2E3FC;\n",
              "      --hover-bg-color: #434B5C;\n",
              "      --hover-fill-color: #FFFFFF;\n",
              "      --disabled-bg-color: #3B4455;\n",
              "      --disabled-fill-color: #666;\n",
              "  }\n",
              "\n",
              "  .colab-df-quickchart {\n",
              "    background-color: var(--bg-color);\n",
              "    border: none;\n",
              "    border-radius: 50%;\n",
              "    cursor: pointer;\n",
              "    display: none;\n",
              "    fill: var(--fill-color);\n",
              "    height: 32px;\n",
              "    padding: 0;\n",
              "    width: 32px;\n",
              "  }\n",
              "\n",
              "  .colab-df-quickchart:hover {\n",
              "    background-color: var(--hover-bg-color);\n",
              "    box-shadow: 0 1px 2px rgba(60, 64, 67, 0.3), 0 1px 3px 1px rgba(60, 64, 67, 0.15);\n",
              "    fill: var(--button-hover-fill-color);\n",
              "  }\n",
              "\n",
              "  .colab-df-quickchart-complete:disabled,\n",
              "  .colab-df-quickchart-complete:disabled:hover {\n",
              "    background-color: var(--disabled-bg-color);\n",
              "    fill: var(--disabled-fill-color);\n",
              "    box-shadow: none;\n",
              "  }\n",
              "\n",
              "  .colab-df-spinner {\n",
              "    border: 2px solid var(--fill-color);\n",
              "    border-color: transparent;\n",
              "    border-bottom-color: var(--fill-color);\n",
              "    animation:\n",
              "      spin 1s steps(1) infinite;\n",
              "  }\n",
              "\n",
              "  @keyframes spin {\n",
              "    0% {\n",
              "      border-color: transparent;\n",
              "      border-bottom-color: var(--fill-color);\n",
              "      border-left-color: var(--fill-color);\n",
              "    }\n",
              "    20% {\n",
              "      border-color: transparent;\n",
              "      border-left-color: var(--fill-color);\n",
              "      border-top-color: var(--fill-color);\n",
              "    }\n",
              "    30% {\n",
              "      border-color: transparent;\n",
              "      border-left-color: var(--fill-color);\n",
              "      border-top-color: var(--fill-color);\n",
              "      border-right-color: var(--fill-color);\n",
              "    }\n",
              "    40% {\n",
              "      border-color: transparent;\n",
              "      border-right-color: var(--fill-color);\n",
              "      border-top-color: var(--fill-color);\n",
              "    }\n",
              "    60% {\n",
              "      border-color: transparent;\n",
              "      border-right-color: var(--fill-color);\n",
              "    }\n",
              "    80% {\n",
              "      border-color: transparent;\n",
              "      border-right-color: var(--fill-color);\n",
              "      border-bottom-color: var(--fill-color);\n",
              "    }\n",
              "    90% {\n",
              "      border-color: transparent;\n",
              "      border-bottom-color: var(--fill-color);\n",
              "    }\n",
              "  }\n",
              "</style>\n",
              "\n",
              "  <script>\n",
              "    async function quickchart(key) {\n",
              "      const quickchartButtonEl =\n",
              "        document.querySelector('#' + key + ' button');\n",
              "      quickchartButtonEl.disabled = true;  // To prevent multiple clicks.\n",
              "      quickchartButtonEl.classList.add('colab-df-spinner');\n",
              "      try {\n",
              "        const charts = await google.colab.kernel.invokeFunction(\n",
              "            'suggestCharts', [key], {});\n",
              "      } catch (error) {\n",
              "        console.error('Error during call to suggestCharts:', error);\n",
              "      }\n",
              "      quickchartButtonEl.classList.remove('colab-df-spinner');\n",
              "      quickchartButtonEl.classList.add('colab-df-quickchart-complete');\n",
              "    }\n",
              "    (() => {\n",
              "      let quickchartButtonEl =\n",
              "        document.querySelector('#df-a928fd09-87a9-4a13-93a4-20f82c056d10 button');\n",
              "      quickchartButtonEl.style.display =\n",
              "        google.colab.kernel.accessAllowed ? 'block' : 'none';\n",
              "    })();\n",
              "  </script>\n",
              "</div>\n",
              "\n",
              "  <div id=\"id_412cf134-cfbe-4d8d-9f4d-7b4e2f62eb23\">\n",
              "    <style>\n",
              "      .colab-df-generate {\n",
              "        background-color: #E8F0FE;\n",
              "        border: none;\n",
              "        border-radius: 50%;\n",
              "        cursor: pointer;\n",
              "        display: none;\n",
              "        fill: #1967D2;\n",
              "        height: 32px;\n",
              "        padding: 0 0 0 0;\n",
              "        width: 32px;\n",
              "      }\n",
              "\n",
              "      .colab-df-generate:hover {\n",
              "        background-color: #E2EBFA;\n",
              "        box-shadow: 0px 1px 2px rgba(60, 64, 67, 0.3), 0px 1px 3px 1px rgba(60, 64, 67, 0.15);\n",
              "        fill: #174EA6;\n",
              "      }\n",
              "\n",
              "      [theme=dark] .colab-df-generate {\n",
              "        background-color: #3B4455;\n",
              "        fill: #D2E3FC;\n",
              "      }\n",
              "\n",
              "      [theme=dark] .colab-df-generate:hover {\n",
              "        background-color: #434B5C;\n",
              "        box-shadow: 0px 1px 3px 1px rgba(0, 0, 0, 0.15);\n",
              "        filter: drop-shadow(0px 1px 2px rgba(0, 0, 0, 0.3));\n",
              "        fill: #FFFFFF;\n",
              "      }\n",
              "    </style>\n",
              "    <button class=\"colab-df-generate\" onclick=\"generateWithVariable('mydf_metadata')\"\n",
              "            title=\"Generate code using this dataframe.\"\n",
              "            style=\"display:none;\">\n",
              "\n",
              "  <svg xmlns=\"http://www.w3.org/2000/svg\" height=\"24px\"viewBox=\"0 0 24 24\"\n",
              "       width=\"24px\">\n",
              "    <path d=\"M7,19H8.4L18.45,9,17,7.55,7,17.6ZM5,21V16.75L18.45,3.32a2,2,0,0,1,2.83,0l1.4,1.43a1.91,1.91,0,0,1,.58,1.4,1.91,1.91,0,0,1-.58,1.4L9.25,21ZM18.45,9,17,7.55Zm-12,3A5.31,5.31,0,0,0,4.9,8.1,5.31,5.31,0,0,0,1,6.5,5.31,5.31,0,0,0,4.9,4.9,5.31,5.31,0,0,0,6.5,1,5.31,5.31,0,0,0,8.1,4.9,5.31,5.31,0,0,0,12,6.5,5.46,5.46,0,0,0,6.5,12Z\"/>\n",
              "  </svg>\n",
              "    </button>\n",
              "    <script>\n",
              "      (() => {\n",
              "      const buttonEl =\n",
              "        document.querySelector('#id_412cf134-cfbe-4d8d-9f4d-7b4e2f62eb23 button.colab-df-generate');\n",
              "      buttonEl.style.display =\n",
              "        google.colab.kernel.accessAllowed ? 'block' : 'none';\n",
              "\n",
              "      buttonEl.onclick = () => {\n",
              "        google.colab.notebook.generateWithVariable('mydf_metadata');\n",
              "      }\n",
              "      })();\n",
              "    </script>\n",
              "  </div>\n",
              "\n",
              "    </div>\n",
              "  </div>\n"
            ],
            "application/vnd.google.colaboratory.intrinsic+json": {
              "type": "dataframe",
              "variable_name": "mydf_metadata"
            }
          },
          "metadata": {},
          "execution_count": 12
        }
      ]
    },
    {
      "cell_type": "code",
      "source": [
        "# gera arquivo de quantidade por classes\n",
        "mycounts = describe_cols(mydf, mydf_metadata)\n",
        "\n",
        "with open('dadostreino/classes.json', 'w', encoding='utf-8') as f:\n",
        "    json.dump(mycounts, f, ensure_ascii=False, indent=4, cls=NpEncoder)"
      ],
      "metadata": {
        "id": "f-pL2efxRD6P"
      },
      "execution_count": 13,
      "outputs": []
    },
    {
      "cell_type": "code",
      "source": [
        "display(mycounts)"
      ],
      "metadata": {
        "id": "i29aNe7Y0wyl",
        "colab": {
          "base_uri": "https://localhost:8080/",
          "height": 885
        },
        "outputId": "6517b736-7c5f-4b5c-e47a-5dd40f666a9b"
      },
      "execution_count": 14,
      "outputs": [
        {
          "output_type": "display_data",
          "data": {
            "text/plain": [
              "{'nome': {},\n",
              " 'renda': {'hist': [92,\n",
              "   1998,\n",
              "   7710,\n",
              "   11636,\n",
              "   19607,\n",
              "   22277,\n",
              "   17291,\n",
              "   12827,\n",
              "   6175,\n",
              "   387],\n",
              "  'bin_edges': [1008.1470703741144,\n",
              "   1480.0472844645553,\n",
              "   1951.9474985549964,\n",
              "   2423.8477126454372,\n",
              "   2895.7479267358785,\n",
              "   3367.6481408263194,\n",
              "   3839.54835491676,\n",
              "   4311.4485690072015,\n",
              "   4783.348783097643,\n",
              "   5255.248997188083,\n",
              "   5727.1492112785245]},\n",
              " 'idade': {'hist': [12845,\n",
              "   13666,\n",
              "   18505,\n",
              "   19278,\n",
              "   17438,\n",
              "   11678,\n",
              "   5602,\n",
              "   946,\n",
              "   41,\n",
              "   1],\n",
              "  'bin_edges': [18.00046033691615,\n",
              "   24.38638225146161,\n",
              "   30.772304166007075,\n",
              "   37.15822608055254,\n",
              "   43.544147995098,\n",
              "   49.930069909643464,\n",
              "   56.31599182418893,\n",
              "   62.70191373873439,\n",
              "   69.08783565327985,\n",
              "   75.47375756782532,\n",
              "   81.85967948237078]},\n",
              " 'etnia': {'classes': {'0': 52340, '1': 47660}},\n",
              " 'sexo': {'classes': {'0': 52286, '1': 47714}},\n",
              " 'casapropria': {'classes': {'0': 52560, '1': 47440}},\n",
              " 'outrasrendas': {'classes': {'0': 76688, '1': 23312}},\n",
              " 'estadocivil': {'classes': {'0': 41894, '1': 58106}},\n",
              " 'escolaridade': {'classes': {'0': 9072, '1': 29063, '2': 42423, '3': 19442}},\n",
              " 'default': {'classes': {'0': 54932, '1': 45068}}}"
            ]
          },
          "metadata": {}
        }
      ]
    },
    {
      "cell_type": "markdown",
      "metadata": {
        "id": "Z0R5epW7ImaD"
      },
      "source": [
        "# Treinamento"
      ]
    },
    {
      "cell_type": "markdown",
      "metadata": {
        "id": "t8GQvfh7KtBR"
      },
      "source": [
        "Identifica no dataset as variáveis independentes e a variavel alvo"
      ]
    },
    {
      "cell_type": "code",
      "metadata": {
        "id": "heZL--aQIuBj"
      },
      "source": [
        "targetcol = 'default'\n",
        "y = mydf[targetcol]"
      ],
      "execution_count": 15,
      "outputs": []
    },
    {
      "cell_type": "markdown",
      "metadata": {
        "id": "vfA2s7A2KvJz"
      },
      "source": [
        "Cria experimento"
      ]
    },
    {
      "cell_type": "code",
      "metadata": {
        "id": "Vdok5L_BJO36"
      },
      "source": [
        "experiment = Experiment(workspace=workspace, name=\"Experimento_MLStudio\")"
      ],
      "execution_count": 21,
      "outputs": []
    },
    {
      "cell_type": "markdown",
      "metadata": {
        "id": "vONEcCfCKzcs"
      },
      "source": [
        "## Treina modelo 01 (Classificador)"
      ]
    },
    {
      "cell_type": "markdown",
      "metadata": {
        "id": "jaWEEOzXL48l"
      },
      "source": [
        "Cria uma execução para o experimento"
      ]
    },
    {
      "cell_type": "code",
      "metadata": {
        "id": "7cqi3jgrL9Os"
      },
      "source": [
        "myrunid = str(uuid.uuid1())\n",
        "run = experiment.start_logging(run_id=myrunid,\n",
        "                               display_name=f\"My Run {myrunid} feito em aula\",\n",
        "                               outputs=\"modelo\",\n",
        "                               snapshot_directory=\"dadostreino\")\n",
        "run.log(\"Tipo\", \"Classificador\")"
      ],
      "execution_count": 22,
      "outputs": []
    },
    {
      "cell_type": "code",
      "metadata": {
        "id": "rmNQYJTiJTMo"
      },
      "source": [
        "independentcols = ['renda', 'idade', 'etnia', 'sexo', 'casapropria', 'outrasrendas', 'estadocivil', 'escolaridade']\n",
        "X = mydf[independentcols]\n",
        "X_train, X_test, y_train, y_test = train_test_split(X, y, test_size=0.20, random_state=10)\n",
        "clf = rfc(n_estimators=10)\n",
        "clf.fit(X=X_train[independentcols], y=y_train)\n",
        "clf.independentcols = independentcols"
      ],
      "execution_count": 23,
      "outputs": []
    },
    {
      "cell_type": "markdown",
      "metadata": {
        "id": "O3iiNudfK4mD"
      },
      "source": [
        "Avaliações e Logs"
      ]
    },
    {
      "cell_type": "code",
      "metadata": {
        "id": "B0eStUJMKfKJ",
        "colab": {
          "base_uri": "https://localhost:8080/"
        },
        "outputId": "92aa5e24-b40f-4a2e-c522-ef76c7383b6d"
      },
      "source": [
        "clf_acuracia = clf.score(X=X_test[independentcols], y=y_test)\n",
        "print(\"Modelo 01 (classificador), criado com acurácia de: [{0}]\".format(clf_acuracia))\n",
        "run.log(\"acuracia\", clf_acuracia)"
      ],
      "execution_count": 24,
      "outputs": [
        {
          "output_type": "stream",
          "name": "stdout",
          "text": [
            "Modelo 01 (classificador), criado com acurácia de: [0.8566]\n"
          ]
        }
      ]
    },
    {
      "cell_type": "code",
      "metadata": {
        "id": "u9kTVxugK-ry"
      },
      "source": [
        "#Demais logs (não serão comparados)\n",
        "run.log(\"language\", \"python\")\n",
        "run.log(\"python\", sys.version)\n",
        "run.log(\"Versao sklearn\", sklearn.__version__)\n",
        "run.log(\"criterion\", clf.criterion)\n",
        "run.log(\"n_estimators\", clf.n_estimators)\n",
        "run.log(\"min_samples_leaf\", clf.min_samples_leaf)\n",
        "run.log(\"max_depth\",  str(clf.max_depth))\n",
        "run.log(\"dataset_name\",  dataset_name)\n",
        "run.log(\"dataset_version\",  dataset_version)\n",
        "run.log_list(\"Inputs\", independentcols)"
      ],
      "execution_count": 25,
      "outputs": []
    },
    {
      "cell_type": "code",
      "source": [
        "#Exibe Matriz de confusão e grava em arquivo\n",
        "display(f\"Matriz de confusão do modelo:\")\n",
        "ConfusionMatrixDisplay.from_estimator(clf, X_test[independentcols], y_test).figure_.savefig('modelo/confusion_matrix.png')"
      ],
      "metadata": {
        "id": "QcxejO1VkGyF",
        "colab": {
          "base_uri": "https://localhost:8080/",
          "height": 467
        },
        "outputId": "a68a7e87-e9e3-4524-e517-b0bfa69a678d"
      },
      "execution_count": 26,
      "outputs": [
        {
          "output_type": "display_data",
          "data": {
            "text/plain": [
              "'Matriz de confusão do modelo:'"
            ],
            "application/vnd.google.colaboratory.intrinsic+json": {
              "type": "string"
            }
          },
          "metadata": {}
        },
        {
          "output_type": "display_data",
          "data": {
            "text/plain": [
              "<Figure size 640x480 with 2 Axes>"
            ],
            "image/png": "[encoded data removed]"
          },
          "metadata": {}
        }
      ]
    },
    {
      "cell_type": "code",
      "source": [
        "#Exibe Classification Report e grava em arquivo\n",
        "c_report = classification_report(y_test, clf.predict(X_test[independentcols]))\n",
        "print(f\"Classification Report:\\n{c_report}\")\n",
        "with open(\"modelo/classification_report.txt\", \"w\") as text_file:\n",
        "    text_file.write(c_report)"
      ],
      "metadata": {
        "id": "x6g7kwY8mf8j",
        "colab": {
          "base_uri": "https://localhost:8080/"
        },
        "outputId": "f4292cd0-50cc-40dc-be55-58289bf9688a"
      },
      "execution_count": 27,
      "outputs": [
        {
          "output_type": "stream",
          "name": "stdout",
          "text": [
            "Classification Report:\n",
            "              precision    recall  f1-score   support\n",
            "\n",
            "           0       0.86      0.89      0.87     11087\n",
            "           1       0.85      0.82      0.84      8913\n",
            "\n",
            "    accuracy                           0.86     20000\n",
            "   macro avg       0.86      0.85      0.85     20000\n",
            "weighted avg       0.86      0.86      0.86     20000\n",
            "\n"
          ]
        }
      ]
    },
    {
      "cell_type": "markdown",
      "metadata": {
        "id": "cInn2_XSLBcX"
      },
      "source": [
        "Exporta o modelo\n",
        "\n",
        "Dica: Após a exportação, é possível consultar o modelo e demais artefatos pelo explorador de arquivos, ou com a instrução:\n",
        "\n",
        "```\n",
        "!ls -l modelo\n",
        "```"
      ]
    },
    {
      "cell_type": "code",
      "metadata": {
        "id": "YcDgH7oqK_tj"
      },
      "source": [
        "model_name = \"modelo_bin.pkl\"\n",
        "filename = \"modelo/\" + model_name\n",
        "joblib.dump(value=clf, filename=filename)\n",
        "run.log(\"model_binary\", filename)"
      ],
      "execution_count": 31,
      "outputs": []
    },
    {
      "cell_type": "markdown",
      "metadata": {
        "id": "ffJHmvWdLqzt"
      },
      "source": [
        "Finaliza o experimento\n",
        "Obs.:pode demorar alguns segundos/minutos para os arquivos da pasta \"modelo\" aparecerem no Azure ML Studio."
      ]
    },
    {
      "cell_type": "code",
      "metadata": {
        "id": "v-TI9v7CLPpc"
      },
      "source": [
        "run.complete()\n",
        "run.wait_for_completion()\n",
        "os.remove(\"./modelo/modelo_bin.pkl\")\n",
        "os.remove(\"./modelo/confusion_matrix.png\")\n",
        "os.remove(\"./modelo/classification_report.txt\")"
      ],
      "execution_count": 32,
      "outputs": []
    },
    {
      "cell_type": "markdown",
      "metadata": {
        "id": "DwH7a5fqeS_d"
      },
      "source": [
        "# Atividade 1 : Análise na Azure"
      ]
    },
    {
      "cell_type": "markdown",
      "metadata": {
        "id": "OMxbK7gHf64b"
      },
      "source": [
        "Crie n modelos em experimentos para nosso problema de risco de crédito, e envie para a Azure. Em seguida, compare os resultados dentro da plataforma Azure.  \n",
        "\n",
        "Cada experimento deve ter seus parâmetros alterados conforme vetores.  \n",
        "Observe que o nomes dos parâmetros são respectivamente n_estimators, max_depth e min_samples_leaf.\n",
        "\n",
        "|n_estimators|max_depth|min_samples_leaf|\n",
        "|---|---|---|\n",
        "|1|1|10|\n",
        "|2|2|5|\n",
        "|3|3|1|\n",
        "|5|None|\n",
        "|10|\n",
        "|20|\n",
        "|30|\n",
        "\n",
        "Obs.:  \n",
        "n = 8 $\\times$ 4 $\\times$ 3"
      ]
    },
    {
      "cell_type": "code",
      "metadata": {
        "id": "CSCs0xhSuEW_"
      },
      "source": [
        "experiment = Experiment(workspace=workspace, name=\"Experimento_RiscoCredito\")"
      ],
      "execution_count": 33,
      "outputs": []
    },
    {
      "cell_type": "code",
      "metadata": {
        "id": "6I7iB9wDeVCw"
      },
      "source": [
        "lst_n_estimators = [1, 2, 3, 5, 10, 20, 30]\n",
        "lst_max_depth = [1, 2, 3, None]\n",
        "lst_min_samples_leaf = [10, 5, 1]"
      ],
      "execution_count": 34,
      "outputs": []
    },
    {
      "cell_type": "code",
      "source": [
        "i = 0"
      ],
      "metadata": {
        "id": "SweCDCsYbp23"
      },
      "execution_count": 36,
      "outputs": []
    },
    {
      "cell_type": "code",
      "source": [
        "for n_estimators in lst_n_estimators:\n",
        "  for max_depth in lst_max_depth:\n",
        "    for min_samples_leaf in lst_min_samples_leaf:\n",
        "\n",
        "      myrunid = str(uuid.uuid1())\n",
        "      run = experiment.start_logging(run_id=myrunid,\n",
        "                               display_name=f\"Meu Modelo {i} feito para o trabalho, run {myrunid}\",\n",
        "                               outputs=\"modelo\",\n",
        "                               snapshot_directory=\"dadostreino\")\n",
        "\n",
        "      independentcols = ['renda', 'idade', 'etnia', 'sexo', 'casapropria', 'outrasrendas', 'estadocivil', 'escolaridade']\n",
        "      X = mydf[independentcols]\n",
        "      X_train, X_test, y_train, y_test = train_test_split(X, y, test_size=0.20, random_state=10)\n",
        "      clf = rfc(n_estimators=n_estimators,max_depth=max_depth,min_samples_leaf=min_samples_leaf)\n",
        "      clf.fit(X=X_train[independentcols], y=y_train)\n",
        "      clf.independentcols = independentcols\n",
        "\n",
        "      clf_acuracia = clf.score(X=X_test[independentcols], y=y_test)\n",
        "      print(\"Modelo [{0}] (classificador), criado com acurácia de: [{1}]\".format(i,clf_acuracia))\n",
        "      run.log(\"acuracia\", clf_acuracia)\n",
        "\n",
        "      #Demais logs (não serão comparados)\n",
        "      run.log(\"language\", \"python\")\n",
        "      run.log(\"python\", sys.version)\n",
        "      run.log(\"Versao sklearn\", sklearn.__version__)\n",
        "      run.log(\"criterion\", clf.criterion)\n",
        "      run.log(\"n_estimators\", clf.n_estimators)\n",
        "      run.log(\"min_samples_leaf\", clf.min_samples_leaf)\n",
        "      run.log(\"max_depth\",  str(clf.max_depth))\n",
        "      run.log(\"dataset_name\",  dataset_name)\n",
        "      run.log(\"dataset_version\",  dataset_version)\n",
        "      run.log_list(\"Inputs\", independentcols)\n",
        "\n",
        "      #Exibe Matriz de confusão e grava em arquivo\n",
        "      display(f\"Matriz de confusão do modelo:\")\n",
        "      ConfusionMatrixDisplay.from_estimator(clf, X_test[independentcols], y_test).figure_.savefig('modelo/confusion_matrix.png')\n",
        "\n",
        "      #Exibe Classification Report e grava em arquivo\n",
        "      c_report = classification_report(y_test, clf.predict(X_test[independentcols]))\n",
        "      print(f\"Classification Report:\\n{c_report}\")\n",
        "      with open(\"modelo/classification_report.txt\", \"w\") as text_file:\n",
        "          text_file.write(c_report)\n",
        "\n",
        "      model_name = \"modelo_bin.pkl\"\n",
        "      filename = \"modelo/\" + model_name\n",
        "      joblib.dump(value=clf, filename=filename)\n",
        "      run.log(\"model_binary\", filename)\n",
        "\n",
        "      run.complete()\n",
        "      run.wait_for_completion()\n",
        "      os.remove(\"./modelo/modelo_bin.pkl\")\n",
        "      os.remove(\"./modelo/confusion_matrix.png\")\n",
        "      os.remove(\"./modelo/classification_report.txt\")\n",
        "\n",
        "      i = i+1\n"
      ],
      "metadata": {
        "colab": {
          "base_uri": "https://localhost:8080/",
          "height": 1000
        },
        "id": "YERNHnb4ViO0",
        "outputId": "0298f4c1-131f-4891-f8bd-f696d9b7217a"
      },
      "execution_count": 37,
      "outputs": [
        {
          "output_type": "stream",
          "name": "stdout",
          "text": [
            "Modelo [0] (classificador), criado com acurácia de: [0.66875]\n"
          ]
        },
        {
          "output_type": "display_data",
          "data": {
            "text/plain": [
              "'Matriz de confusão do modelo:'"
            ],
            "application/vnd.google.colaboratory.intrinsic+json": {
              "type": "string"
            }
          },
          "metadata": {}
        },
        {
          "output_type": "stream",
          "name": "stdout",
          "text": [
            "Classification Report:\n",
            "              precision    recall  f1-score   support\n",
            "\n",
            "           0       0.71      0.67      0.69     11087\n",
            "           1       0.62      0.66      0.64      8913\n",
            "\n",
            "    accuracy                           0.67     20000\n",
            "   macro avg       0.67      0.67      0.67     20000\n",
            "weighted avg       0.67      0.67      0.67     20000\n",
            "\n",
            "Modelo [1] (classificador), criado com acurácia de: [0.75775]\n"
          ]
        },
        {
          "output_type": "display_data",
          "data": {
            "text/plain": [
              "'Matriz de confusão do modelo:'"
            ],
            "application/vnd.google.colaboratory.intrinsic+json": {
              "type": "string"
            }
          },
          "metadata": {}
        },
        {
          "output_type": "stream",
          "name": "stdout",
          "text": [
            "Classification Report:\n",
            "              precision    recall  f1-score   support\n",
            "\n",
            "           0       0.71      0.94      0.81     11087\n",
            "           1       0.88      0.53      0.66      8913\n",
            "\n",
            "    accuracy                           0.76     20000\n",
            "   macro avg       0.79      0.74      0.74     20000\n",
            "weighted avg       0.79      0.76      0.74     20000\n",
            "\n",
            "Modelo [2] (classificador), criado com acurácia de: [0.7539]\n"
          ]
        },
        {
          "output_type": "display_data",
          "data": {
            "text/plain": [
              "'Matriz de confusão do modelo:'"
            ],
            "application/vnd.google.colaboratory.intrinsic+json": {
              "type": "string"
            }
          },
          "metadata": {}
        },
        {
          "output_type": "stream",
          "name": "stdout",
          "text": [
            "Classification Report:\n",
            "              precision    recall  f1-score   support\n",
            "\n",
            "           0       0.71      0.95      0.81     11087\n",
            "           1       0.90      0.51      0.65      8913\n",
            "\n",
            "    accuracy                           0.75     20000\n",
            "   macro avg       0.80      0.73      0.73     20000\n",
            "weighted avg       0.79      0.75      0.74     20000\n",
            "\n",
            "Modelo [3] (classificador), criado com acurácia de: [0.7551]\n"
          ]
        },
        {
          "output_type": "display_data",
          "data": {
            "text/plain": [
              "'Matriz de confusão do modelo:'"
            ],
            "application/vnd.google.colaboratory.intrinsic+json": {
              "type": "string"
            }
          },
          "metadata": {}
        },
        {
          "output_type": "stream",
          "name": "stdout",
          "text": [
            "Classification Report:\n",
            "              precision    recall  f1-score   support\n",
            "\n",
            "           0       0.71      0.95      0.81     11087\n",
            "           1       0.89      0.51      0.65      8913\n",
            "\n",
            "    accuracy                           0.76     20000\n",
            "   macro avg       0.80      0.73      0.73     20000\n",
            "weighted avg       0.79      0.76      0.74     20000\n",
            "\n",
            "Modelo [4] (classificador), criado com acurácia de: [0.8077]\n"
          ]
        },
        {
          "output_type": "display_data",
          "data": {
            "text/plain": [
              "'Matriz de confusão do modelo:'"
            ],
            "application/vnd.google.colaboratory.intrinsic+json": {
              "type": "string"
            }
          },
          "metadata": {}
        },
        {
          "output_type": "stream",
          "name": "stdout",
          "text": [
            "Classification Report:\n",
            "              precision    recall  f1-score   support\n",
            "\n",
            "           0       0.82      0.84      0.83     11087\n",
            "           1       0.79      0.77      0.78      8913\n",
            "\n",
            "    accuracy                           0.81     20000\n",
            "   macro avg       0.81      0.80      0.80     20000\n",
            "weighted avg       0.81      0.81      0.81     20000\n",
            "\n",
            "Modelo [5] (classificador), criado com acurácia de: [0.74035]\n"
          ]
        },
        {
          "output_type": "display_data",
          "data": {
            "text/plain": [
              "'Matriz de confusão do modelo:'"
            ],
            "application/vnd.google.colaboratory.intrinsic+json": {
              "type": "string"
            }
          },
          "metadata": {}
        },
        {
          "output_type": "stream",
          "name": "stdout",
          "text": [
            "Classification Report:\n",
            "              precision    recall  f1-score   support\n",
            "\n",
            "           0       0.81      0.69      0.75     11087\n",
            "           1       0.68      0.80      0.73      8913\n",
            "\n",
            "    accuracy                           0.74     20000\n",
            "   macro avg       0.74      0.75      0.74     20000\n",
            "weighted avg       0.75      0.74      0.74     20000\n",
            "\n"
          ]
        },
        {
          "output_type": "error",
          "ename": "KeyboardInterrupt",
          "evalue": "",
          "traceback": [
            "\u001b[0;31m---------------------------------------------------------------------------\u001b[0m",
            "\u001b[0;31mKeyboardInterrupt\u001b[0m                         Traceback (most recent call last)",
            "\u001b[0;32m<ipython-input-37-dbde24801b4d>\u001b[0m in \u001b[0;36m<cell line: 1>\u001b[0;34m()\u001b[0m\n\u001b[1;32m      4\u001b[0m \u001b[0;34m\u001b[0m\u001b[0m\n\u001b[1;32m      5\u001b[0m       \u001b[0mmyrunid\u001b[0m \u001b[0;34m=\u001b[0m \u001b[0mstr\u001b[0m\u001b[0;34m(\u001b[0m\u001b[0muuid\u001b[0m\u001b[0;34m.\u001b[0m\u001b[0muuid1\u001b[0m\u001b[0;34m(\u001b[0m\u001b[0;34m)\u001b[0m\u001b[0;34m)\u001b[0m\u001b[0;34m\u001b[0m\u001b[0;34m\u001b[0m\u001b[0m\n\u001b[0;32m----> 6\u001b[0;31m       run = experiment.start_logging(run_id=myrunid,\n\u001b[0m\u001b[1;32m      7\u001b[0m                                \u001b[0mdisplay_name\u001b[0m\u001b[0;34m=\u001b[0m\u001b[0;34mf\"Meu Modelo {i} feito para o trabalho, run {myrunid}\"\u001b[0m\u001b[0;34m,\u001b[0m\u001b[0;34m\u001b[0m\u001b[0;34m\u001b[0m\u001b[0m\n\u001b[1;32m      8\u001b[0m                                \u001b[0moutputs\u001b[0m\u001b[0;34m=\u001b[0m\u001b[0;34m\"modelo\"\u001b[0m\u001b[0;34m,\u001b[0m\u001b[0;34m\u001b[0m\u001b[0;34m\u001b[0m\u001b[0m\n",
            "\u001b[0;32m/usr/local/lib/python3.10/dist-packages/azureml/core/experiment.py\u001b[0m in \u001b[0;36mstart_logging\u001b[0;34m(self, *args, **kwargs)\u001b[0m\n\u001b[1;32m    277\u001b[0m         \"\"\"\n\u001b[1;32m    278\u001b[0m         \u001b[0;32mfrom\u001b[0m \u001b[0mazureml\u001b[0m\u001b[0;34m.\u001b[0m\u001b[0mcore\u001b[0m\u001b[0;34m.\u001b[0m\u001b[0mrun\u001b[0m \u001b[0;32mimport\u001b[0m \u001b[0mRun\u001b[0m\u001b[0;34m\u001b[0m\u001b[0;34m\u001b[0m\u001b[0m\n\u001b[0;32m--> 279\u001b[0;31m         \u001b[0;32mreturn\u001b[0m \u001b[0mRun\u001b[0m\u001b[0;34m.\u001b[0m\u001b[0m_start_logging\u001b[0m\u001b[0;34m(\u001b[0m\u001b[0mself\u001b[0m\u001b[0;34m,\u001b[0m \u001b[0;34m*\u001b[0m\u001b[0margs\u001b[0m\u001b[0;34m,\u001b[0m \u001b[0m_parent_logger\u001b[0m\u001b[0;34m=\u001b[0m\u001b[0mself\u001b[0m\u001b[0;34m.\u001b[0m\u001b[0m_logger\u001b[0m\u001b[0;34m,\u001b[0m \u001b[0;34m**\u001b[0m\u001b[0mkwargs\u001b[0m\u001b[0;34m)\u001b[0m\u001b[0;34m\u001b[0m\u001b[0;34m\u001b[0m\u001b[0m\n\u001b[0m\u001b[1;32m    280\u001b[0m \u001b[0;34m\u001b[0m\u001b[0m\n\u001b[1;32m    281\u001b[0m     \u001b[0;34m@\u001b[0m\u001b[0m_check_for_experiment_id\u001b[0m\u001b[0;34m\u001b[0m\u001b[0;34m\u001b[0m\u001b[0m\n",
            "\u001b[0;32m/usr/local/lib/python3.10/dist-packages/azureml/core/run.py\u001b[0m in \u001b[0;36m_start_logging\u001b[0;34m(experiment, name, run_id, outputs, snapshot_directory, **kwargs)\u001b[0m\n\u001b[1;32m    613\u001b[0m         \u001b[0;32mif\u001b[0m \u001b[0msnapshot_directory\u001b[0m\u001b[0;34m:\u001b[0m\u001b[0;34m\u001b[0m\u001b[0;34m\u001b[0m\u001b[0m\n\u001b[1;32m    614\u001b[0m             \u001b[0;32mtry\u001b[0m\u001b[0;34m:\u001b[0m\u001b[0;34m\u001b[0m\u001b[0;34m\u001b[0m\u001b[0m\n\u001b[0;32m--> 615\u001b[0;31m                 \u001b[0mrun\u001b[0m\u001b[0;34m.\u001b[0m\u001b[0mtake_snapshot\u001b[0m\u001b[0;34m(\u001b[0m\u001b[0msnapshot_directory\u001b[0m\u001b[0;34m)\u001b[0m\u001b[0;34m\u001b[0m\u001b[0;34m\u001b[0m\u001b[0m\n\u001b[0m\u001b[1;32m    616\u001b[0m             \u001b[0;32mexcept\u001b[0m \u001b[0mSnapshotException\u001b[0m \u001b[0;32mas\u001b[0m \u001b[0msnapshot_ex\u001b[0m\u001b[0;34m:\u001b[0m\u001b[0;34m\u001b[0m\u001b[0;34m\u001b[0m\u001b[0m\n\u001b[1;32m    617\u001b[0m                 \u001b[0merror_msg\u001b[0m \u001b[0;34m=\u001b[0m \u001b[0;34m\"Failed to take a snapshot of {}. Pass snapshot_directory=None to start_logging \"\u001b[0m\u001b[0;31m \u001b[0m\u001b[0;31m\\\u001b[0m\u001b[0;34m\u001b[0m\u001b[0;34m\u001b[0m\u001b[0m\n",
            "\u001b[0;32m/usr/local/lib/python3.10/dist-packages/azureml/core/run.py\u001b[0m in \u001b[0;36mtake_snapshot\u001b[0;34m(self, file_or_folder_path)\u001b[0m\n\u001b[1;32m   2205\u001b[0m         \u001b[0;34m:\u001b[0m\u001b[0mrtype\u001b[0m\u001b[0;34m:\u001b[0m \u001b[0mstr\u001b[0m\u001b[0;34m\u001b[0m\u001b[0;34m\u001b[0m\u001b[0m\n\u001b[1;32m   2206\u001b[0m         \"\"\"\n\u001b[0;32m-> 2207\u001b[0;31m         \u001b[0;32mreturn\u001b[0m \u001b[0mself\u001b[0m\u001b[0;34m.\u001b[0m\u001b[0m_client\u001b[0m\u001b[0;34m.\u001b[0m\u001b[0mtake_snapshot\u001b[0m\u001b[0;34m(\u001b[0m\u001b[0mfile_or_folder_path\u001b[0m\u001b[0;34m)\u001b[0m\u001b[0;34m\u001b[0m\u001b[0;34m\u001b[0m\u001b[0m\n\u001b[0m\u001b[1;32m   2208\u001b[0m \u001b[0;34m\u001b[0m\u001b[0m\n\u001b[1;32m   2209\u001b[0m     \u001b[0;32mdef\u001b[0m \u001b[0mrestore_snapshot\u001b[0m\u001b[0;34m(\u001b[0m\u001b[0mself\u001b[0m\u001b[0;34m,\u001b[0m \u001b[0msnapshot_id\u001b[0m\u001b[0;34m=\u001b[0m\u001b[0;32mNone\u001b[0m\u001b[0;34m,\u001b[0m \u001b[0mpath\u001b[0m\u001b[0;34m=\u001b[0m\u001b[0;32mNone\u001b[0m\u001b[0;34m)\u001b[0m\u001b[0;34m:\u001b[0m\u001b[0;34m\u001b[0m\u001b[0;34m\u001b[0m\u001b[0m\n",
            "\u001b[0;32m/usr/local/lib/python3.10/dist-packages/azureml/_run_impl/run_history_facade.py\u001b[0m in \u001b[0;36mtake_snapshot\u001b[0;34m(self, file_or_folder_path, _raise_on_validation_failure)\u001b[0m\n\u001b[1;32m    697\u001b[0m         \"\"\"\n\u001b[1;32m    698\u001b[0m         \u001b[0;31m# Ensure we don't already have one\u001b[0m\u001b[0;34m\u001b[0m\u001b[0;34m\u001b[0m\u001b[0m\n\u001b[0;32m--> 699\u001b[0;31m         \u001b[0mexisting_snapshot\u001b[0m \u001b[0;34m=\u001b[0m \u001b[0mself\u001b[0m\u001b[0;34m.\u001b[0m\u001b[0mget_snapshot_id\u001b[0m\u001b[0;34m(\u001b[0m\u001b[0;34m)\u001b[0m\u001b[0;34m\u001b[0m\u001b[0;34m\u001b[0m\u001b[0m\n\u001b[0m\u001b[1;32m    700\u001b[0m         \u001b[0;32mif\u001b[0m \u001b[0mexisting_snapshot\u001b[0m \u001b[0;32mis\u001b[0m \u001b[0;32mnot\u001b[0m \u001b[0;32mNone\u001b[0m\u001b[0;34m:\u001b[0m\u001b[0;34m\u001b[0m\u001b[0;34m\u001b[0m\u001b[0m\n\u001b[1;32m    701\u001b[0m             \u001b[0;32mraise\u001b[0m \u001b[0mSnapshotException\u001b[0m\u001b[0;34m(\u001b[0m\u001b[0;34m\"Cannot take snapshot as the run already has one: {}\"\u001b[0m\u001b[0;34m.\u001b[0m\u001b[0mformat\u001b[0m\u001b[0;34m(\u001b[0m\u001b[0mexisting_snapshot\u001b[0m\u001b[0;34m)\u001b[0m\u001b[0;34m)\u001b[0m\u001b[0;34m\u001b[0m\u001b[0;34m\u001b[0m\u001b[0m\n",
            "\u001b[0;32m/usr/local/lib/python3.10/dist-packages/azureml/_run_impl/run_history_facade.py\u001b[0m in \u001b[0;36mget_snapshot_id\u001b[0;34m(self)\u001b[0m\n\u001b[1;32m    713\u001b[0m \u001b[0;34m\u001b[0m\u001b[0m\n\u001b[1;32m    714\u001b[0m     \u001b[0;32mdef\u001b[0m \u001b[0mget_snapshot_id\u001b[0m\u001b[0;34m(\u001b[0m\u001b[0mself\u001b[0m\u001b[0;34m)\u001b[0m\u001b[0;34m:\u001b[0m\u001b[0;34m\u001b[0m\u001b[0;34m\u001b[0m\u001b[0m\n\u001b[0;32m--> 715\u001b[0;31m         \u001b[0mproperties\u001b[0m \u001b[0;34m=\u001b[0m \u001b[0mself\u001b[0m\u001b[0;34m.\u001b[0m\u001b[0mget_properties\u001b[0m\u001b[0;34m(\u001b[0m\u001b[0;34m)\u001b[0m\u001b[0;34m\u001b[0m\u001b[0;34m\u001b[0m\u001b[0m\n\u001b[0m\u001b[1;32m    716\u001b[0m         \u001b[0;32mreturn\u001b[0m \u001b[0mproperties\u001b[0m\u001b[0;34m.\u001b[0m\u001b[0mget\u001b[0m\u001b[0;34m(\u001b[0m\u001b[0mPropertyKeys\u001b[0m\u001b[0;34m.\u001b[0m\u001b[0mSNAPSHOT_ID\u001b[0m\u001b[0;34m,\u001b[0m \u001b[0;32mNone\u001b[0m\u001b[0;34m)\u001b[0m\u001b[0;34m\u001b[0m\u001b[0;34m\u001b[0m\u001b[0m\n\u001b[1;32m    717\u001b[0m \u001b[0;34m\u001b[0m\u001b[0m\n",
            "\u001b[0;32m/usr/local/lib/python3.10/dist-packages/azureml/_run_impl/run_history_facade.py\u001b[0m in \u001b[0;36mget_properties\u001b[0;34m(self)\u001b[0m\n\u001b[1;32m    245\u001b[0m \u001b[0;34m\u001b[0m\u001b[0m\n\u001b[1;32m    246\u001b[0m     \u001b[0;32mdef\u001b[0m \u001b[0mget_properties\u001b[0m\u001b[0;34m(\u001b[0m\u001b[0mself\u001b[0m\u001b[0;34m)\u001b[0m\u001b[0;34m:\u001b[0m\u001b[0;34m\u001b[0m\u001b[0;34m\u001b[0m\u001b[0m\n\u001b[0;32m--> 247\u001b[0;31m         \u001b[0mself\u001b[0m\u001b[0;34m.\u001b[0m\u001b[0mrun_dto\u001b[0m \u001b[0;34m=\u001b[0m \u001b[0mself\u001b[0m\u001b[0;34m.\u001b[0m\u001b[0mrun\u001b[0m\u001b[0;34m.\u001b[0m\u001b[0mget_run\u001b[0m\u001b[0;34m(\u001b[0m\u001b[0;34m)\u001b[0m\u001b[0;34m\u001b[0m\u001b[0;34m\u001b[0m\u001b[0m\n\u001b[0m\u001b[1;32m    248\u001b[0m         \u001b[0;32mreturn\u001b[0m \u001b[0mself\u001b[0m\u001b[0;34m.\u001b[0m\u001b[0mrun_dto\u001b[0m\u001b[0;34m.\u001b[0m\u001b[0mproperties\u001b[0m\u001b[0;34m\u001b[0m\u001b[0;34m\u001b[0m\u001b[0m\n\u001b[1;32m    249\u001b[0m \u001b[0;34m\u001b[0m\u001b[0m\n",
            "\u001b[0;32m/usr/local/lib/python3.10/dist-packages/azureml/_restclient/run_client.py\u001b[0m in \u001b[0;36mget_run\u001b[0;34m(self, **kwargs)\u001b[0m\n\u001b[1;32m     76\u001b[0m         \u001b[0mExperimentClient\u001b[0m\u001b[0;34m,\u001b[0m \u001b[0;32mfor\u001b[0m \u001b[0ma\u001b[0m \u001b[0mspecific\u001b[0m \u001b[0mrun_id\u001b[0m\u001b[0;34m\u001b[0m\u001b[0;34m\u001b[0m\u001b[0m\n\u001b[1;32m     77\u001b[0m         \"\"\"\n\u001b[0;32m---> 78\u001b[0;31m         \u001b[0;32mreturn\u001b[0m \u001b[0msuper\u001b[0m\u001b[0;34m(\u001b[0m\u001b[0mRunClient\u001b[0m\u001b[0;34m,\u001b[0m \u001b[0mself\u001b[0m\u001b[0;34m)\u001b[0m\u001b[0;34m.\u001b[0m\u001b[0mget_run\u001b[0m\u001b[0;34m(\u001b[0m\u001b[0mself\u001b[0m\u001b[0;34m.\u001b[0m\u001b[0m_run_id\u001b[0m\u001b[0;34m,\u001b[0m \u001b[0;34m**\u001b[0m\u001b[0mkwargs\u001b[0m\u001b[0;34m)\u001b[0m\u001b[0;34m\u001b[0m\u001b[0;34m\u001b[0m\u001b[0m\n\u001b[0m\u001b[1;32m     79\u001b[0m \u001b[0;34m\u001b[0m\u001b[0m\n\u001b[1;32m     80\u001b[0m     \u001b[0;32mdef\u001b[0m \u001b[0mget_token\u001b[0m\u001b[0;34m(\u001b[0m\u001b[0mself\u001b[0m\u001b[0;34m)\u001b[0m\u001b[0;34m:\u001b[0m\u001b[0;34m\u001b[0m\u001b[0;34m\u001b[0m\u001b[0m\n",
            "\u001b[0;32m/usr/local/lib/python3.10/dist-packages/azureml/_restclient/experiment_client.py\u001b[0m in \u001b[0;36mget_run\u001b[0;34m(self, run_id, caller, custom_headers, is_async)\u001b[0m\n\u001b[1;32m    124\u001b[0m \u001b[0;34m\u001b[0m\u001b[0m\n\u001b[1;32m    125\u001b[0m         \u001b[0;32mif\u001b[0m \u001b[0mself\u001b[0m\u001b[0;34m.\u001b[0m\u001b[0m_experiment_id\u001b[0m\u001b[0;34m:\u001b[0m\u001b[0;34m\u001b[0m\u001b[0;34m\u001b[0m\u001b[0m\n\u001b[0;32m--> 126\u001b[0;31m             return self._execute_with_experimentid_arguments(self._client.run.get_by_exp_id,\n\u001b[0m\u001b[1;32m    127\u001b[0m                                                              \u001b[0mrun_id\u001b[0m\u001b[0;34m=\u001b[0m\u001b[0mrun_id\u001b[0m\u001b[0;34m,\u001b[0m\u001b[0;34m\u001b[0m\u001b[0;34m\u001b[0m\u001b[0m\n\u001b[1;32m    128\u001b[0m                                                              **kwargs)\n",
            "\u001b[0;32m/usr/local/lib/python3.10/dist-packages/azureml/_restclient/experiment_client.py\u001b[0m in \u001b[0;36m_execute_with_experimentid_arguments\u001b[0;34m(self, func, *args, **kwargs)\u001b[0m\n\u001b[1;32m    263\u001b[0m         \u001b[0;32mif\u001b[0m \u001b[0mself\u001b[0m\u001b[0;34m.\u001b[0m\u001b[0m_experiment_id\u001b[0m \u001b[0;32mis\u001b[0m \u001b[0;32mNone\u001b[0m\u001b[0;34m:\u001b[0m\u001b[0;34m\u001b[0m\u001b[0;34m\u001b[0m\u001b[0m\n\u001b[1;32m    264\u001b[0m             \u001b[0;32mraise\u001b[0m \u001b[0mValueError\u001b[0m\u001b[0;34m(\u001b[0m\u001b[0;34m\"experiment_id should not be None.\"\u001b[0m\u001b[0;34m)\u001b[0m\u001b[0;34m\u001b[0m\u001b[0;34m\u001b[0m\u001b[0m\n\u001b[0;32m--> 265\u001b[0;31m         return self._execute_with_arguments(func,\n\u001b[0m\u001b[1;32m    266\u001b[0m                                             copy.deepcopy(\n\u001b[1;32m    267\u001b[0m                                                 self._experiment_arguments_with_experiment_id),\n",
            "\u001b[0;32m/usr/local/lib/python3.10/dist-packages/azureml/_restclient/clientbase.py\u001b[0m in \u001b[0;36m_execute_with_arguments\u001b[0;34m(self, func, args_list, *args, **kwargs)\u001b[0m\n\u001b[1;32m    588\u001b[0m                 \u001b[0;32mreturn\u001b[0m \u001b[0mself\u001b[0m\u001b[0;34m.\u001b[0m\u001b[0m_call_paginated_api\u001b[0m\u001b[0;34m(\u001b[0m\u001b[0mfunc\u001b[0m\u001b[0;34m,\u001b[0m \u001b[0;34m*\u001b[0m\u001b[0margs_list\u001b[0m\u001b[0;34m,\u001b[0m \u001b[0;34m**\u001b[0m\u001b[0mkwargs\u001b[0m\u001b[0;34m)\u001b[0m\u001b[0;34m\u001b[0m\u001b[0;34m\u001b[0m\u001b[0m\n\u001b[1;32m    589\u001b[0m             \u001b[0;32melse\u001b[0m\u001b[0;34m:\u001b[0m\u001b[0;34m\u001b[0m\u001b[0;34m\u001b[0m\u001b[0m\n\u001b[0;32m--> 590\u001b[0;31m                 \u001b[0;32mreturn\u001b[0m \u001b[0mself\u001b[0m\u001b[0;34m.\u001b[0m\u001b[0m_call_api\u001b[0m\u001b[0;34m(\u001b[0m\u001b[0mfunc\u001b[0m\u001b[0;34m,\u001b[0m \u001b[0;34m*\u001b[0m\u001b[0margs_list\u001b[0m\u001b[0;34m,\u001b[0m \u001b[0;34m**\u001b[0m\u001b[0mkwargs\u001b[0m\u001b[0;34m)\u001b[0m\u001b[0;34m\u001b[0m\u001b[0;34m\u001b[0m\u001b[0m\n\u001b[0m\u001b[1;32m    591\u001b[0m         \u001b[0;32mexcept\u001b[0m \u001b[0mErrorResponseException\u001b[0m \u001b[0;32mas\u001b[0m \u001b[0me\u001b[0m\u001b[0;34m:\u001b[0m\u001b[0;34m\u001b[0m\u001b[0;34m\u001b[0m\u001b[0m\n\u001b[1;32m    592\u001b[0m             \u001b[0;32mraise\u001b[0m \u001b[0mServiceException\u001b[0m\u001b[0;34m(\u001b[0m\u001b[0me\u001b[0m\u001b[0;34m)\u001b[0m\u001b[0;34m\u001b[0m\u001b[0;34m\u001b[0m\u001b[0m\n",
            "\u001b[0;32m/usr/local/lib/python3.10/dist-packages/azureml/_restclient/clientbase.py\u001b[0m in \u001b[0;36m_call_api\u001b[0;34m(self, func, *args, **kwargs)\u001b[0m\n\u001b[1;32m    243\u001b[0m                 \u001b[0;32mreturn\u001b[0m \u001b[0mAsyncTask\u001b[0m\u001b[0;34m(\u001b[0m\u001b[0mfuture\u001b[0m\u001b[0;34m,\u001b[0m \u001b[0m_ident\u001b[0m\u001b[0;34m=\u001b[0m\u001b[0mident\u001b[0m\u001b[0;34m,\u001b[0m \u001b[0m_parent_logger\u001b[0m\u001b[0;34m=\u001b[0m\u001b[0mself\u001b[0m\u001b[0;34m.\u001b[0m\u001b[0m_logger\u001b[0m\u001b[0;34m)\u001b[0m\u001b[0;34m\u001b[0m\u001b[0;34m\u001b[0m\u001b[0m\n\u001b[1;32m    244\u001b[0m             \u001b[0;32melse\u001b[0m\u001b[0;34m:\u001b[0m\u001b[0;34m\u001b[0m\u001b[0;34m\u001b[0m\u001b[0m\n\u001b[0;32m--> 245\u001b[0;31m                 \u001b[0;32mreturn\u001b[0m \u001b[0mself\u001b[0m\u001b[0;34m.\u001b[0m\u001b[0m_execute_with_base_arguments\u001b[0m\u001b[0;34m(\u001b[0m\u001b[0mfunc\u001b[0m\u001b[0;34m,\u001b[0m \u001b[0;34m*\u001b[0m\u001b[0margs\u001b[0m\u001b[0;34m,\u001b[0m \u001b[0;34m**\u001b[0m\u001b[0mkwargs\u001b[0m\u001b[0;34m)\u001b[0m\u001b[0;34m\u001b[0m\u001b[0;34m\u001b[0m\u001b[0m\n\u001b[0m\u001b[1;32m    246\u001b[0m \u001b[0;34m\u001b[0m\u001b[0m\n\u001b[1;32m    247\u001b[0m     \u001b[0;32mdef\u001b[0m \u001b[0m_call_paginated_api\u001b[0m\u001b[0;34m(\u001b[0m\u001b[0mself\u001b[0m\u001b[0;34m,\u001b[0m \u001b[0mfunc\u001b[0m\u001b[0;34m,\u001b[0m \u001b[0;34m*\u001b[0m\u001b[0margs\u001b[0m\u001b[0;34m,\u001b[0m \u001b[0;34m**\u001b[0m\u001b[0mkwargs\u001b[0m\u001b[0;34m)\u001b[0m\u001b[0;34m:\u001b[0m\u001b[0;34m\u001b[0m\u001b[0;34m\u001b[0m\u001b[0m\n",
            "\u001b[0;32m/usr/local/lib/python3.10/dist-packages/azureml/_restclient/clientbase.py\u001b[0m in \u001b[0;36m_execute_with_base_arguments\u001b[0;34m(self, func, *args, **kwargs)\u001b[0m\n\u001b[1;32m    332\u001b[0m         \u001b[0mback_off\u001b[0m \u001b[0;34m=\u001b[0m \u001b[0mself\u001b[0m\u001b[0;34m.\u001b[0m\u001b[0mbackoff_factor\u001b[0m\u001b[0;34m\u001b[0m\u001b[0;34m\u001b[0m\u001b[0m\n\u001b[1;32m    333\u001b[0m         \u001b[0mtotal_retry\u001b[0m \u001b[0;34m=\u001b[0m \u001b[0;36m0\u001b[0m \u001b[0;32mif\u001b[0m \u001b[0mself\u001b[0m\u001b[0;34m.\u001b[0m\u001b[0mretries\u001b[0m \u001b[0;34m<\u001b[0m \u001b[0;36m0\u001b[0m \u001b[0;32melse\u001b[0m \u001b[0mself\u001b[0m\u001b[0;34m.\u001b[0m\u001b[0mretries\u001b[0m\u001b[0;34m\u001b[0m\u001b[0;34m\u001b[0m\u001b[0m\n\u001b[0;32m--> 334\u001b[0;31m         return ClientBase._execute_func_internal(\n\u001b[0m\u001b[1;32m    335\u001b[0m             back_off, total_retry, self._logger, func, _noop_reset, *args, **kwargs)\n\u001b[1;32m    336\u001b[0m \u001b[0;34m\u001b[0m\u001b[0m\n",
            "\u001b[0;32m/usr/local/lib/python3.10/dist-packages/azureml/_restclient/clientbase.py\u001b[0m in \u001b[0;36m_execute_func_internal\u001b[0;34m(cls, back_off, total_retry, logger, func, reset_func, *args, **kwargs)\u001b[0m\n\u001b[1;32m    357\u001b[0m             \u001b[0;32mtry\u001b[0m\u001b[0;34m:\u001b[0m\u001b[0;34m\u001b[0m\u001b[0;34m\u001b[0m\u001b[0m\n\u001b[1;32m    358\u001b[0m                 \u001b[0mlogger\u001b[0m\u001b[0;34m.\u001b[0m\u001b[0mdebug\u001b[0m\u001b[0;34m(\u001b[0m\u001b[0;34m\"ClientBase: Calling {} with url {}\"\u001b[0m\u001b[0;34m.\u001b[0m\u001b[0mformat\u001b[0m\u001b[0;34m(\u001b[0m\u001b[0mfunc_name\u001b[0m\u001b[0;34m,\u001b[0m \u001b[0mfunc_url\u001b[0m\u001b[0;34m)\u001b[0m\u001b[0;34m)\u001b[0m\u001b[0;34m\u001b[0m\u001b[0;34m\u001b[0m\u001b[0m\n\u001b[0;32m--> 359\u001b[0;31m                 \u001b[0mresponse\u001b[0m \u001b[0;34m=\u001b[0m \u001b[0mfunc\u001b[0m\u001b[0;34m(\u001b[0m\u001b[0;34m*\u001b[0m\u001b[0margs\u001b[0m\u001b[0;34m,\u001b[0m \u001b[0;34m**\u001b[0m\u001b[0mkwargs\u001b[0m\u001b[0;34m)\u001b[0m\u001b[0;34m\u001b[0m\u001b[0;34m\u001b[0m\u001b[0m\n\u001b[0m\u001b[1;32m    360\u001b[0m                 if (isinstance(response, Response) and cls._is_retryable_status_code(response.status_code)\n\u001b[1;32m    361\u001b[0m                         and left_retry > 0):\n",
            "\u001b[0;32m/usr/local/lib/python3.10/dist-packages/azureml/_restclient/operations/run_operations.py\u001b[0m in \u001b[0;36mget_by_exp_id\u001b[0;34m(self, subscription_id, resource_group_name, workspace_name, experiment_id, run_id, custom_headers, raw, **operation_config)\u001b[0m\n\u001b[1;32m    501\u001b[0m         \u001b[0;31m# Construct and send request\u001b[0m\u001b[0;34m\u001b[0m\u001b[0;34m\u001b[0m\u001b[0m\n\u001b[1;32m    502\u001b[0m         \u001b[0mrequest\u001b[0m \u001b[0;34m=\u001b[0m \u001b[0mself\u001b[0m\u001b[0;34m.\u001b[0m\u001b[0m_client\u001b[0m\u001b[0;34m.\u001b[0m\u001b[0mget\u001b[0m\u001b[0;34m(\u001b[0m\u001b[0murl\u001b[0m\u001b[0;34m,\u001b[0m \u001b[0mquery_parameters\u001b[0m\u001b[0;34m)\u001b[0m\u001b[0;34m\u001b[0m\u001b[0;34m\u001b[0m\u001b[0m\n\u001b[0;32m--> 503\u001b[0;31m         \u001b[0mresponse\u001b[0m \u001b[0;34m=\u001b[0m \u001b[0mself\u001b[0m\u001b[0;34m.\u001b[0m\u001b[0m_client\u001b[0m\u001b[0;34m.\u001b[0m\u001b[0msend\u001b[0m\u001b[0;34m(\u001b[0m\u001b[0mrequest\u001b[0m\u001b[0;34m,\u001b[0m \u001b[0mheader_parameters\u001b[0m\u001b[0;34m,\u001b[0m \u001b[0mstream\u001b[0m\u001b[0;34m=\u001b[0m\u001b[0;32mFalse\u001b[0m\u001b[0;34m,\u001b[0m \u001b[0;34m**\u001b[0m\u001b[0moperation_config\u001b[0m\u001b[0;34m)\u001b[0m\u001b[0;34m\u001b[0m\u001b[0;34m\u001b[0m\u001b[0m\n\u001b[0m\u001b[1;32m    504\u001b[0m \u001b[0;34m\u001b[0m\u001b[0m\n\u001b[1;32m    505\u001b[0m         \u001b[0;32mif\u001b[0m \u001b[0mresponse\u001b[0m\u001b[0;34m.\u001b[0m\u001b[0mstatus_code\u001b[0m \u001b[0;32mnot\u001b[0m \u001b[0;32min\u001b[0m \u001b[0;34m[\u001b[0m\u001b[0;36m200\u001b[0m\u001b[0;34m]\u001b[0m\u001b[0;34m:\u001b[0m\u001b[0;34m\u001b[0m\u001b[0;34m\u001b[0m\u001b[0m\n",
            "\u001b[0;32m/usr/local/lib/python3.10/dist-packages/msrest/service_client.py\u001b[0m in \u001b[0;36msend\u001b[0;34m(self, request, headers, content, **kwargs)\u001b[0m\n\u001b[1;32m    334\u001b[0m         \u001b[0mkwargs\u001b[0m\u001b[0;34m.\u001b[0m\u001b[0msetdefault\u001b[0m\u001b[0;34m(\u001b[0m\u001b[0;34m'stream'\u001b[0m\u001b[0;34m,\u001b[0m \u001b[0;32mTrue\u001b[0m\u001b[0;34m)\u001b[0m\u001b[0;34m\u001b[0m\u001b[0;34m\u001b[0m\u001b[0m\n\u001b[1;32m    335\u001b[0m         \u001b[0;32mtry\u001b[0m\u001b[0;34m:\u001b[0m\u001b[0;34m\u001b[0m\u001b[0;34m\u001b[0m\u001b[0m\n\u001b[0;32m--> 336\u001b[0;31m             \u001b[0mpipeline_response\u001b[0m \u001b[0;34m=\u001b[0m \u001b[0mself\u001b[0m\u001b[0;34m.\u001b[0m\u001b[0mconfig\u001b[0m\u001b[0;34m.\u001b[0m\u001b[0mpipeline\u001b[0m\u001b[0;34m.\u001b[0m\u001b[0mrun\u001b[0m\u001b[0;34m(\u001b[0m\u001b[0mrequest\u001b[0m\u001b[0;34m,\u001b[0m \u001b[0;34m**\u001b[0m\u001b[0mkwargs\u001b[0m\u001b[0;34m)\u001b[0m\u001b[0;34m\u001b[0m\u001b[0;34m\u001b[0m\u001b[0m\n\u001b[0m\u001b[1;32m    337\u001b[0m             \u001b[0;31m# There is too much thing that expects this method to return a \"requests.Response\"\u001b[0m\u001b[0;34m\u001b[0m\u001b[0;34m\u001b[0m\u001b[0m\n\u001b[1;32m    338\u001b[0m             \u001b[0;31m# to break it in a compatible release.\u001b[0m\u001b[0;34m\u001b[0m\u001b[0;34m\u001b[0m\u001b[0m\n",
            "\u001b[0;32m/usr/local/lib/python3.10/dist-packages/msrest/pipeline/__init__.py\u001b[0m in \u001b[0;36mrun\u001b[0;34m(self, request, **kwargs)\u001b[0m\n\u001b[1;32m    195\u001b[0m         \u001b[0mpipeline_request\u001b[0m \u001b[0;34m=\u001b[0m \u001b[0mRequest\u001b[0m\u001b[0;34m(\u001b[0m\u001b[0mrequest\u001b[0m\u001b[0;34m,\u001b[0m \u001b[0mcontext\u001b[0m\u001b[0;34m)\u001b[0m  \u001b[0;31m# type: Request[HTTPRequestType]\u001b[0m\u001b[0;34m\u001b[0m\u001b[0;34m\u001b[0m\u001b[0m\n\u001b[1;32m    196\u001b[0m         \u001b[0mfirst_node\u001b[0m \u001b[0;34m=\u001b[0m \u001b[0mself\u001b[0m\u001b[0;34m.\u001b[0m\u001b[0m_impl_policies\u001b[0m\u001b[0;34m[\u001b[0m\u001b[0;36m0\u001b[0m\u001b[0;34m]\u001b[0m \u001b[0;32mif\u001b[0m \u001b[0mself\u001b[0m\u001b[0;34m.\u001b[0m\u001b[0m_impl_policies\u001b[0m \u001b[0;32melse\u001b[0m \u001b[0mself\u001b[0m\u001b[0;34m.\u001b[0m\u001b[0m_sender\u001b[0m\u001b[0;34m\u001b[0m\u001b[0;34m\u001b[0m\u001b[0m\n\u001b[0;32m--> 197\u001b[0;31m         \u001b[0;32mreturn\u001b[0m \u001b[0mfirst_node\u001b[0m\u001b[0;34m.\u001b[0m\u001b[0msend\u001b[0m\u001b[0;34m(\u001b[0m\u001b[0mpipeline_request\u001b[0m\u001b[0;34m,\u001b[0m \u001b[0;34m**\u001b[0m\u001b[0mkwargs\u001b[0m\u001b[0;34m)\u001b[0m  \u001b[0;31m# type: ignore\u001b[0m\u001b[0;34m\u001b[0m\u001b[0;34m\u001b[0m\u001b[0m\n\u001b[0m\u001b[1;32m    198\u001b[0m \u001b[0;34m\u001b[0m\u001b[0m\n\u001b[1;32m    199\u001b[0m \u001b[0;32mclass\u001b[0m \u001b[0mHTTPSender\u001b[0m\u001b[0;34m(\u001b[0m\u001b[0mAbstractContextManager\u001b[0m\u001b[0;34m,\u001b[0m \u001b[0mABC\u001b[0m\u001b[0;34m,\u001b[0m \u001b[0mGeneric\u001b[0m\u001b[0;34m[\u001b[0m\u001b[0mHTTPRequestType\u001b[0m\u001b[0;34m,\u001b[0m \u001b[0mHTTPResponseType\u001b[0m\u001b[0;34m]\u001b[0m\u001b[0;34m)\u001b[0m\u001b[0;34m:\u001b[0m\u001b[0;34m\u001b[0m\u001b[0;34m\u001b[0m\u001b[0m\n",
            "\u001b[0;32m/usr/local/lib/python3.10/dist-packages/msrest/pipeline/__init__.py\u001b[0m in \u001b[0;36msend\u001b[0;34m(self, request, **kwargs)\u001b[0m\n\u001b[1;32m    148\u001b[0m         \u001b[0mself\u001b[0m\u001b[0;34m.\u001b[0m\u001b[0m_policy\u001b[0m\u001b[0;34m.\u001b[0m\u001b[0mon_request\u001b[0m\u001b[0;34m(\u001b[0m\u001b[0mrequest\u001b[0m\u001b[0;34m,\u001b[0m \u001b[0;34m**\u001b[0m\u001b[0mkwargs\u001b[0m\u001b[0;34m)\u001b[0m\u001b[0;34m\u001b[0m\u001b[0;34m\u001b[0m\u001b[0m\n\u001b[1;32m    149\u001b[0m         \u001b[0;32mtry\u001b[0m\u001b[0;34m:\u001b[0m\u001b[0;34m\u001b[0m\u001b[0;34m\u001b[0m\u001b[0m\n\u001b[0;32m--> 150\u001b[0;31m             \u001b[0mresponse\u001b[0m \u001b[0;34m=\u001b[0m \u001b[0mself\u001b[0m\u001b[0;34m.\u001b[0m\u001b[0mnext\u001b[0m\u001b[0;34m.\u001b[0m\u001b[0msend\u001b[0m\u001b[0;34m(\u001b[0m\u001b[0mrequest\u001b[0m\u001b[0;34m,\u001b[0m \u001b[0;34m**\u001b[0m\u001b[0mkwargs\u001b[0m\u001b[0;34m)\u001b[0m\u001b[0;34m\u001b[0m\u001b[0;34m\u001b[0m\u001b[0m\n\u001b[0m\u001b[1;32m    151\u001b[0m         \u001b[0;32mexcept\u001b[0m \u001b[0mException\u001b[0m\u001b[0;34m:\u001b[0m\u001b[0;34m\u001b[0m\u001b[0;34m\u001b[0m\u001b[0m\n\u001b[1;32m    152\u001b[0m             \u001b[0;32mif\u001b[0m \u001b[0;32mnot\u001b[0m \u001b[0mself\u001b[0m\u001b[0;34m.\u001b[0m\u001b[0m_policy\u001b[0m\u001b[0;34m.\u001b[0m\u001b[0mon_exception\u001b[0m\u001b[0;34m(\u001b[0m\u001b[0mrequest\u001b[0m\u001b[0;34m,\u001b[0m \u001b[0;34m**\u001b[0m\u001b[0mkwargs\u001b[0m\u001b[0;34m)\u001b[0m\u001b[0;34m:\u001b[0m\u001b[0;34m\u001b[0m\u001b[0;34m\u001b[0m\u001b[0m\n",
            "\u001b[0;32m/usr/local/lib/python3.10/dist-packages/msrest/pipeline/requests.py\u001b[0m in \u001b[0;36msend\u001b[0;34m(self, request, **kwargs)\u001b[0m\n\u001b[1;32m     63\u001b[0m         \u001b[0msession\u001b[0m \u001b[0;34m=\u001b[0m \u001b[0mrequest\u001b[0m\u001b[0;34m.\u001b[0m\u001b[0mcontext\u001b[0m\u001b[0;34m.\u001b[0m\u001b[0msession\u001b[0m\u001b[0;34m\u001b[0m\u001b[0;34m\u001b[0m\u001b[0m\n\u001b[1;32m     64\u001b[0m         \u001b[0;32mtry\u001b[0m\u001b[0;34m:\u001b[0m\u001b[0;34m\u001b[0m\u001b[0;34m\u001b[0m\u001b[0m\n\u001b[0;32m---> 65\u001b[0;31m             \u001b[0mself\u001b[0m\u001b[0;34m.\u001b[0m\u001b[0m_creds\u001b[0m\u001b[0;34m.\u001b[0m\u001b[0msigned_session\u001b[0m\u001b[0;34m(\u001b[0m\u001b[0msession\u001b[0m\u001b[0;34m)\u001b[0m\u001b[0;34m\u001b[0m\u001b[0;34m\u001b[0m\u001b[0m\n\u001b[0m\u001b[1;32m     66\u001b[0m         \u001b[0;32mexcept\u001b[0m \u001b[0mTypeError\u001b[0m\u001b[0;34m:\u001b[0m \u001b[0;31m# Credentials does not support session injection\u001b[0m\u001b[0;34m\u001b[0m\u001b[0;34m\u001b[0m\u001b[0m\n\u001b[1;32m     67\u001b[0m             \u001b[0m_LOGGER\u001b[0m\u001b[0;34m.\u001b[0m\u001b[0mwarning\u001b[0m\u001b[0;34m(\u001b[0m\u001b[0;34m\"Your credentials class does not support session injection. Performance will not be at the maximum.\"\u001b[0m\u001b[0;34m)\u001b[0m\u001b[0;34m\u001b[0m\u001b[0;34m\u001b[0m\u001b[0m\n",
            "\u001b[0;32m/usr/local/lib/python3.10/dist-packages/azureml/core/authentication.py\u001b[0m in \u001b[0;36msigned_session\u001b[0;34m(self, session)\u001b[0m\n\u001b[1;32m    249\u001b[0m         \"\"\"\n\u001b[1;32m    250\u001b[0m         \u001b[0msession\u001b[0m \u001b[0;34m=\u001b[0m \u001b[0msession\u001b[0m \u001b[0;32mor\u001b[0m \u001b[0mSession\u001b[0m\u001b[0;34m(\u001b[0m\u001b[0;34m)\u001b[0m\u001b[0;34m\u001b[0m\u001b[0;34m\u001b[0m\u001b[0m\n\u001b[0;32m--> 251\u001b[0;31m         \u001b[0msession\u001b[0m\u001b[0;34m.\u001b[0m\u001b[0mheaders\u001b[0m\u001b[0;34m.\u001b[0m\u001b[0mupdate\u001b[0m\u001b[0;34m(\u001b[0m\u001b[0mself\u001b[0m\u001b[0;34m.\u001b[0m\u001b[0mget_authentication_header\u001b[0m\u001b[0;34m(\u001b[0m\u001b[0;34m)\u001b[0m\u001b[0;34m)\u001b[0m\u001b[0;34m\u001b[0m\u001b[0;34m\u001b[0m\u001b[0m\n\u001b[0m\u001b[1;32m    252\u001b[0m         \u001b[0;32mreturn\u001b[0m \u001b[0msession\u001b[0m\u001b[0;34m\u001b[0m\u001b[0;34m\u001b[0m\u001b[0m\n\u001b[1;32m    253\u001b[0m \u001b[0;34m\u001b[0m\u001b[0m\n",
            "\u001b[0;32m/usr/local/lib/python3.10/dist-packages/azureml/core/authentication.py\u001b[0m in \u001b[0;36mget_authentication_header\u001b[0;34m(self)\u001b[0m\n\u001b[1;32m    126\u001b[0m         \u001b[0;31m# We return a new dictionary each time, as some functions modify the headers returned\u001b[0m\u001b[0;34m\u001b[0m\u001b[0;34m\u001b[0m\u001b[0m\n\u001b[1;32m    127\u001b[0m         \u001b[0;31m# by this function.\u001b[0m\u001b[0;34m\u001b[0m\u001b[0;34m\u001b[0m\u001b[0m\n\u001b[0;32m--> 128\u001b[0;31m         \u001b[0mauth_header\u001b[0m \u001b[0;34m=\u001b[0m \u001b[0;34m{\u001b[0m\u001b[0;34m\"Authorization\"\u001b[0m\u001b[0;34m:\u001b[0m \u001b[0;34m\"Bearer \"\u001b[0m \u001b[0;34m+\u001b[0m \u001b[0mself\u001b[0m\u001b[0;34m.\u001b[0m\u001b[0m_get_arm_token\u001b[0m\u001b[0;34m(\u001b[0m\u001b[0;34m)\u001b[0m\u001b[0;34m}\u001b[0m\u001b[0;34m\u001b[0m\u001b[0;34m\u001b[0m\u001b[0m\n\u001b[0m\u001b[1;32m    129\u001b[0m         \u001b[0;32mreturn\u001b[0m \u001b[0mauth_header\u001b[0m\u001b[0;34m\u001b[0m\u001b[0;34m\u001b[0m\u001b[0m\n\u001b[1;32m    130\u001b[0m \u001b[0;34m\u001b[0m\u001b[0m\n",
            "\u001b[0;32m/usr/local/lib/python3.10/dist-packages/azureml/core/authentication.py\u001b[0m in \u001b[0;36mwrapper\u001b[0;34m(self, *args, **kwargs)\u001b[0m\n\u001b[1;32m    388\u001b[0m                 \u001b[0;32mif\u001b[0m \u001b[0mduration\u001b[0m \u001b[0;34m>\u001b[0m \u001b[0mACQUIRE_DURATION_THRESHOLD\u001b[0m\u001b[0;34m:\u001b[0m\u001b[0;34m\u001b[0m\u001b[0;34m\u001b[0m\u001b[0m\n\u001b[1;32m    389\u001b[0m                     \u001b[0mmodule_logger\u001b[0m\u001b[0;34m.\u001b[0m\u001b[0mdebug\u001b[0m\u001b[0;34m(\u001b[0m\u001b[0;34m\"{} acquired lock in {} s.\"\u001b[0m\u001b[0;34m.\u001b[0m\u001b[0mformat\u001b[0m\u001b[0;34m(\u001b[0m\u001b[0mtype\u001b[0m\u001b[0;34m(\u001b[0m\u001b[0mself\u001b[0m\u001b[0;34m)\u001b[0m\u001b[0;34m.\u001b[0m\u001b[0m__name__\u001b[0m\u001b[0;34m,\u001b[0m \u001b[0mduration\u001b[0m\u001b[0;34m)\u001b[0m\u001b[0;34m)\u001b[0m\u001b[0;34m\u001b[0m\u001b[0;34m\u001b[0m\u001b[0m\n\u001b[0;32m--> 390\u001b[0;31m                 \u001b[0;32mreturn\u001b[0m \u001b[0mtest_function\u001b[0m\u001b[0;34m(\u001b[0m\u001b[0mself\u001b[0m\u001b[0;34m,\u001b[0m \u001b[0;34m*\u001b[0m\u001b[0margs\u001b[0m\u001b[0;34m,\u001b[0m \u001b[0;34m**\u001b[0m\u001b[0mkwargs\u001b[0m\u001b[0;34m)\u001b[0m\u001b[0;34m\u001b[0m\u001b[0;34m\u001b[0m\u001b[0m\n\u001b[0m\u001b[1;32m    391\u001b[0m             \u001b[0;32mexcept\u001b[0m \u001b[0mException\u001b[0m \u001b[0;32mas\u001b[0m \u001b[0me\u001b[0m\u001b[0;34m:\u001b[0m\u001b[0;34m\u001b[0m\u001b[0;34m\u001b[0m\u001b[0m\n\u001b[1;32m    392\u001b[0m                 \u001b[0;32mif\u001b[0m \u001b[0mtype\u001b[0m\u001b[0;34m(\u001b[0m\u001b[0mself\u001b[0m\u001b[0;34m)\u001b[0m \u001b[0;34m==\u001b[0m \u001b[0mInteractiveLoginAuthentication\u001b[0m\u001b[0;34m:\u001b[0m\u001b[0;34m\u001b[0m\u001b[0;34m\u001b[0m\u001b[0m\n",
            "\u001b[0;32m/usr/local/lib/python3.10/dist-packages/azureml/core/authentication.py\u001b[0m in \u001b[0;36m_get_arm_token\u001b[0;34m(self)\u001b[0m\n\u001b[1;32m    597\u001b[0m             \u001b[0;32mreturn\u001b[0m \u001b[0mself\u001b[0m\u001b[0;34m.\u001b[0m\u001b[0m_ambient_auth\u001b[0m\u001b[0;34m.\u001b[0m\u001b[0m_get_arm_token\u001b[0m\u001b[0;34m(\u001b[0m\u001b[0;34m)\u001b[0m\u001b[0;34m\u001b[0m\u001b[0;34m\u001b[0m\u001b[0m\n\u001b[1;32m    598\u001b[0m         \u001b[0;32melse\u001b[0m\u001b[0;34m:\u001b[0m\u001b[0;34m\u001b[0m\u001b[0;34m\u001b[0m\u001b[0m\n\u001b[0;32m--> 599\u001b[0;31m             \u001b[0;32mreturn\u001b[0m \u001b[0mself\u001b[0m\u001b[0;34m.\u001b[0m\u001b[0m_get_arm_token_using_interactive_auth\u001b[0m\u001b[0;34m(\u001b[0m\u001b[0;34m)\u001b[0m\u001b[0;34m\u001b[0m\u001b[0;34m\u001b[0m\u001b[0m\n\u001b[0m\u001b[1;32m    600\u001b[0m \u001b[0;34m\u001b[0m\u001b[0m\n\u001b[1;32m    601\u001b[0m     \u001b[0;34m@\u001b[0m\u001b[0m_login_on_failure_decorator\u001b[0m\u001b[0;34m(\u001b[0m\u001b[0m_interactive_auth_lock\u001b[0m\u001b[0;34m)\u001b[0m\u001b[0;34m\u001b[0m\u001b[0;34m\u001b[0m\u001b[0m\n",
            "\u001b[0;32m/usr/local/lib/python3.10/dist-packages/azureml/core/authentication.py\u001b[0m in \u001b[0;36m_get_arm_token_using_interactive_auth\u001b[0;34m(self, force_reload, resource)\u001b[0m\n\u001b[1;32m    724\u001b[0m \u001b[0;34m\u001b[0m\u001b[0m\n\u001b[1;32m    725\u001b[0m         \u001b[0;31m# If we can get a valid ARM token, then we don't need to login.\u001b[0m\u001b[0;34m\u001b[0m\u001b[0;34m\u001b[0m\u001b[0m\n\u001b[0;32m--> 726\u001b[0;31m         arm_token = _get_arm_token_with_refresh(\n\u001b[0m\u001b[1;32m    727\u001b[0m             \u001b[0mprofile_object\u001b[0m\u001b[0;34m,\u001b[0m \u001b[0mACCOUNT\u001b[0m\u001b[0;34m,\u001b[0m \u001b[0mCONFIG\u001b[0m\u001b[0;34m,\u001b[0m \u001b[0mSESSION\u001b[0m\u001b[0;34m,\u001b[0m \u001b[0mget_config_dir\u001b[0m\u001b[0;34m(\u001b[0m\u001b[0;34m)\u001b[0m\u001b[0;34m,\u001b[0m\u001b[0;34m\u001b[0m\u001b[0;34m\u001b[0m\u001b[0m\n\u001b[1;32m    728\u001b[0m             \u001b[0mforce_reload\u001b[0m\u001b[0;34m=\u001b[0m\u001b[0mforce_reload\u001b[0m\u001b[0;34m,\u001b[0m \u001b[0mresource\u001b[0m\u001b[0;34m=\u001b[0m\u001b[0mresource\u001b[0m\u001b[0;34m\u001b[0m\u001b[0;34m\u001b[0m\u001b[0m\n",
            "\u001b[0;32m/usr/local/lib/python3.10/dist-packages/azureml/core/authentication.py\u001b[0m in \u001b[0;36mconnection_aborted_wrapper\u001b[0;34m(*args, **kwargs)\u001b[0m\n\u001b[1;32m    425\u001b[0m             \u001b[0;32mwhile\u001b[0m \u001b[0;32mTrue\u001b[0m\u001b[0;34m:\u001b[0m\u001b[0;34m\u001b[0m\u001b[0;34m\u001b[0m\u001b[0m\n\u001b[1;32m    426\u001b[0m                 \u001b[0;32mtry\u001b[0m\u001b[0;34m:\u001b[0m\u001b[0;34m\u001b[0m\u001b[0;34m\u001b[0m\u001b[0m\n\u001b[0;32m--> 427\u001b[0;31m                     \u001b[0;32mreturn\u001b[0m \u001b[0mfunction\u001b[0m\u001b[0;34m(\u001b[0m\u001b[0;34m*\u001b[0m\u001b[0margs\u001b[0m\u001b[0;34m,\u001b[0m \u001b[0;34m**\u001b[0m\u001b[0mkwargs\u001b[0m\u001b[0;34m)\u001b[0m\u001b[0;34m\u001b[0m\u001b[0;34m\u001b[0m\u001b[0m\n\u001b[0m\u001b[1;32m    428\u001b[0m                 \u001b[0;32mexcept\u001b[0m \u001b[0mAuthenticationException\u001b[0m \u001b[0;32mas\u001b[0m \u001b[0me\u001b[0m\u001b[0;34m:\u001b[0m\u001b[0;34m\u001b[0m\u001b[0;34m\u001b[0m\u001b[0m\n\u001b[1;32m    429\u001b[0m                     \u001b[0;32mif\u001b[0m \u001b[0;34m\"Connection aborted.\"\u001b[0m \u001b[0;32min\u001b[0m \u001b[0mstr\u001b[0m\u001b[0;34m(\u001b[0m\u001b[0me\u001b[0m\u001b[0;34m)\u001b[0m \u001b[0;32mand\u001b[0m \u001b[0mattempt\u001b[0m \u001b[0;34m<=\u001b[0m \u001b[0mretries\u001b[0m\u001b[0;34m:\u001b[0m\u001b[0;34m\u001b[0m\u001b[0;34m\u001b[0m\u001b[0m\n",
            "\u001b[0;32m/usr/local/lib/python3.10/dist-packages/azureml/core/authentication.py\u001b[0m in \u001b[0;36m_get_arm_token_with_refresh\u001b[0;34m(profile_object, account_object, config_object, session_object, config_directory, force_reload, resource)\u001b[0m\n\u001b[1;32m   2252\u001b[0m         \u001b[0;31m# profile_object.get_raw_token is being used as per the suggestion\u001b[0m\u001b[0;34m\u001b[0m\u001b[0;34m\u001b[0m\u001b[0m\n\u001b[1;32m   2253\u001b[0m         \u001b[0;31m# https://github.com/Azure/azure-cli/issues/15805#issuecomment-722914070\u001b[0m\u001b[0;34m\u001b[0m\u001b[0;34m\u001b[0m\u001b[0m\n\u001b[0;32m-> 2254\u001b[0;31m         \u001b[0maccess_token\u001b[0m \u001b[0;34m=\u001b[0m \u001b[0mprofile_object\u001b[0m\u001b[0;34m.\u001b[0m\u001b[0mget_raw_token\u001b[0m\u001b[0;34m(\u001b[0m\u001b[0mresource\u001b[0m\u001b[0;34m=\u001b[0m\u001b[0mresource\u001b[0m\u001b[0;34m)\u001b[0m\u001b[0;34m[\u001b[0m\u001b[0;36m0\u001b[0m\u001b[0;34m]\u001b[0m\u001b[0;34m[\u001b[0m\u001b[0;36m1\u001b[0m\u001b[0;34m]\u001b[0m\u001b[0;34m\u001b[0m\u001b[0;34m\u001b[0m\u001b[0m\n\u001b[0m\u001b[1;32m   2255\u001b[0m         \"\"\"\n\u001b[1;32m   2256\u001b[0m         \u001b[0mAccording\u001b[0m \u001b[0mto\u001b[0m \u001b[0mbelow\u001b[0m \u001b[0mdocumentation\u001b[0m\u001b[0;34m,\u001b[0m \u001b[0mMSAL\u001b[0m \u001b[0mtakes\u001b[0m \u001b[0mcare\u001b[0m \u001b[0mof\u001b[0m \u001b[0mrefreshing\u001b[0m \u001b[0mold\u001b[0m \u001b[0mtokens\u001b[0m\u001b[0;34m.\u001b[0m \u001b[0mIn\u001b[0m \u001b[0mthat\u001b[0m \u001b[0mcase\u001b[0m\u001b[0;34m,\u001b[0m \u001b[0mwe\u001b[0m \u001b[0mdo\u001b[0m \u001b[0;32mnot\u001b[0m\u001b[0;34m\u001b[0m\u001b[0;34m\u001b[0m\u001b[0m\n",
            "\u001b[0;32m/usr/local/lib/python3.10/dist-packages/azureml/_vendor/azure_cli_core/_profile.py\u001b[0m in \u001b[0;36mget_raw_token\u001b[0;34m(self, resource, scopes, subscription, tenant)\u001b[0m\n\u001b[1;32m    379\u001b[0m             \u001b[0mcreds\u001b[0m \u001b[0;34m=\u001b[0m \u001b[0mself\u001b[0m\u001b[0;34m.\u001b[0m\u001b[0m_get_token_from_cloud_shell\u001b[0m\u001b[0;34m(\u001b[0m\u001b[0mresource\u001b[0m\u001b[0;34m)\u001b[0m\u001b[0;34m\u001b[0m\u001b[0;34m\u001b[0m\u001b[0m\n\u001b[1;32m    380\u001b[0m         \u001b[0;32melse\u001b[0m\u001b[0;34m:\u001b[0m\u001b[0;34m\u001b[0m\u001b[0;34m\u001b[0m\u001b[0m\n\u001b[0;32m--> 381\u001b[0;31m             \u001b[0mcredential\u001b[0m \u001b[0;34m=\u001b[0m \u001b[0mself\u001b[0m\u001b[0;34m.\u001b[0m\u001b[0m_create_credential\u001b[0m\u001b[0;34m(\u001b[0m\u001b[0maccount\u001b[0m\u001b[0;34m,\u001b[0m \u001b[0mtenant\u001b[0m\u001b[0;34m)\u001b[0m\u001b[0;34m\u001b[0m\u001b[0;34m\u001b[0m\u001b[0m\n\u001b[0m\u001b[1;32m    382\u001b[0m             \u001b[0mtoken\u001b[0m \u001b[0;34m=\u001b[0m \u001b[0mcredential\u001b[0m\u001b[0;34m.\u001b[0m\u001b[0mget_token\u001b[0m\u001b[0;34m(\u001b[0m\u001b[0;34m*\u001b[0m\u001b[0mscopes\u001b[0m\u001b[0;34m)\u001b[0m\u001b[0;34m\u001b[0m\u001b[0;34m\u001b[0m\u001b[0m\n\u001b[1;32m    383\u001b[0m \u001b[0;34m\u001b[0m\u001b[0m\n",
            "\u001b[0;32m/usr/local/lib/python3.10/dist-packages/azureml/_vendor/azure_cli_core/_profile.py\u001b[0m in \u001b[0;36m_create_credential\u001b[0;34m(self, account, tenant_id, client_id)\u001b[0m\n\u001b[1;32m    586\u001b[0m         \u001b[0;31m# User\u001b[0m\u001b[0;34m\u001b[0m\u001b[0;34m\u001b[0m\u001b[0m\n\u001b[1;32m    587\u001b[0m         \u001b[0;32mif\u001b[0m \u001b[0muser_type\u001b[0m \u001b[0;34m==\u001b[0m \u001b[0m_USER\u001b[0m\u001b[0;34m:\u001b[0m\u001b[0;34m\u001b[0m\u001b[0;34m\u001b[0m\u001b[0m\n\u001b[0;32m--> 588\u001b[0;31m             \u001b[0;32mreturn\u001b[0m \u001b[0midentity\u001b[0m\u001b[0;34m.\u001b[0m\u001b[0mget_user_credential\u001b[0m\u001b[0;34m(\u001b[0m\u001b[0musername_or_sp_id\u001b[0m\u001b[0;34m)\u001b[0m\u001b[0;34m\u001b[0m\u001b[0;34m\u001b[0m\u001b[0m\n\u001b[0m\u001b[1;32m    589\u001b[0m \u001b[0;34m\u001b[0m\u001b[0m\n\u001b[1;32m    590\u001b[0m         \u001b[0;31m# Service Principal\u001b[0m\u001b[0;34m\u001b[0m\u001b[0;34m\u001b[0m\u001b[0m\n",
            "\u001b[0;32m/usr/local/lib/python3.10/dist-packages/azureml/_vendor/azure_cli_core/auth/identity.py\u001b[0m in \u001b[0;36mget_user_credential\u001b[0;34m(self, username)\u001b[0m\n\u001b[1;32m    180\u001b[0m \u001b[0;34m\u001b[0m\u001b[0m\n\u001b[1;32m    181\u001b[0m     \u001b[0;32mdef\u001b[0m \u001b[0mget_user_credential\u001b[0m\u001b[0;34m(\u001b[0m\u001b[0mself\u001b[0m\u001b[0;34m,\u001b[0m \u001b[0musername\u001b[0m\u001b[0;34m)\u001b[0m\u001b[0;34m:\u001b[0m\u001b[0;34m\u001b[0m\u001b[0;34m\u001b[0m\u001b[0m\n\u001b[0;32m--> 182\u001b[0;31m         \u001b[0;32mreturn\u001b[0m \u001b[0mUserCredential\u001b[0m\u001b[0;34m(\u001b[0m\u001b[0mself\u001b[0m\u001b[0;34m.\u001b[0m\u001b[0mclient_id\u001b[0m\u001b[0;34m,\u001b[0m \u001b[0musername\u001b[0m\u001b[0;34m,\u001b[0m \u001b[0;34m**\u001b[0m\u001b[0mself\u001b[0m\u001b[0;34m.\u001b[0m\u001b[0m_msal_app_kwargs\u001b[0m\u001b[0;34m)\u001b[0m\u001b[0;34m\u001b[0m\u001b[0;34m\u001b[0m\u001b[0m\n\u001b[0m\u001b[1;32m    183\u001b[0m \u001b[0;34m\u001b[0m\u001b[0m\n\u001b[1;32m    184\u001b[0m     \u001b[0;32mdef\u001b[0m \u001b[0mget_service_principal_credential\u001b[0m\u001b[0;34m(\u001b[0m\u001b[0mself\u001b[0m\u001b[0;34m,\u001b[0m \u001b[0mclient_id\u001b[0m\u001b[0;34m)\u001b[0m\u001b[0;34m:\u001b[0m\u001b[0;34m\u001b[0m\u001b[0;34m\u001b[0m\u001b[0m\n",
            "\u001b[0;32m/usr/local/lib/python3.10/dist-packages/azureml/_vendor/azure_cli_core/auth/msal_authentication.py\u001b[0m in \u001b[0;36m__init__\u001b[0;34m(self, client_id, username, **kwargs)\u001b[0m\n\u001b[1;32m     36\u001b[0m         \u001b[0;34m:\u001b[0m\u001b[0mparam\u001b[0m \u001b[0musername\u001b[0m\u001b[0;34m:\u001b[0m \u001b[0mThe\u001b[0m \u001b[0musername\u001b[0m \u001b[0;32mfor\u001b[0m \u001b[0muser\u001b[0m \u001b[0mcredential\u001b[0m\u001b[0;34m.\u001b[0m\u001b[0;34m\u001b[0m\u001b[0;34m\u001b[0m\u001b[0m\n\u001b[1;32m     37\u001b[0m         \"\"\"\n\u001b[0;32m---> 38\u001b[0;31m         \u001b[0msuper\u001b[0m\u001b[0;34m(\u001b[0m\u001b[0;34m)\u001b[0m\u001b[0;34m.\u001b[0m\u001b[0m__init__\u001b[0m\u001b[0;34m(\u001b[0m\u001b[0mclient_id\u001b[0m\u001b[0;34m,\u001b[0m \u001b[0;34m**\u001b[0m\u001b[0mkwargs\u001b[0m\u001b[0;34m)\u001b[0m\u001b[0;34m\u001b[0m\u001b[0;34m\u001b[0m\u001b[0m\n\u001b[0m\u001b[1;32m     39\u001b[0m \u001b[0;34m\u001b[0m\u001b[0m\n\u001b[1;32m     40\u001b[0m         \u001b[0maccounts\u001b[0m \u001b[0;34m=\u001b[0m \u001b[0mself\u001b[0m\u001b[0;34m.\u001b[0m\u001b[0mget_accounts\u001b[0m\u001b[0;34m(\u001b[0m\u001b[0musername\u001b[0m\u001b[0;34m)\u001b[0m\u001b[0;34m\u001b[0m\u001b[0;34m\u001b[0m\u001b[0m\n",
            "\u001b[0;32m/usr/local/lib/python3.10/dist-packages/msal/application.py\u001b[0m in \u001b[0;36m__init__\u001b[0;34m(self, client_id, client_credential, **kwargs)\u001b[0m\n\u001b[1;32m   1946\u001b[0m         \u001b[0menable_broker_on_windows\u001b[0m \u001b[0;34m=\u001b[0m \u001b[0mkwargs\u001b[0m\u001b[0;34m.\u001b[0m\u001b[0mpop\u001b[0m\u001b[0;34m(\u001b[0m\u001b[0;34m\"enable_broker_on_windows\"\u001b[0m\u001b[0;34m,\u001b[0m \u001b[0;32mFalse\u001b[0m\u001b[0;34m)\u001b[0m\u001b[0;34m\u001b[0m\u001b[0;34m\u001b[0m\u001b[0m\n\u001b[1;32m   1947\u001b[0m         \u001b[0mself\u001b[0m\u001b[0;34m.\u001b[0m\u001b[0m_enable_broker\u001b[0m \u001b[0;34m=\u001b[0m \u001b[0menable_broker_on_windows\u001b[0m \u001b[0;32mand\u001b[0m \u001b[0msys\u001b[0m\u001b[0;34m.\u001b[0m\u001b[0mplatform\u001b[0m \u001b[0;34m==\u001b[0m \u001b[0;34m\"win32\"\u001b[0m\u001b[0;34m\u001b[0m\u001b[0;34m\u001b[0m\u001b[0m\n\u001b[0;32m-> 1948\u001b[0;31m         super(PublicClientApplication, self).__init__(\n\u001b[0m\u001b[1;32m   1949\u001b[0m             client_id, client_credential=None, **kwargs)\n\u001b[1;32m   1950\u001b[0m \u001b[0;34m\u001b[0m\u001b[0m\n",
            "\u001b[0;32m/usr/local/lib/python3.10/dist-packages/msal/application.py\u001b[0m in \u001b[0;36m__init__\u001b[0;34m(self, client_id, client_credential, authority, validate_authority, token_cache, http_client, verify, proxies, timeout, client_claims, app_name, app_version, client_capabilities, azure_region, exclude_scopes, http_cache, instance_discovery, allow_broker, enable_pii_log, oidc_authority)\u001b[0m\n\u001b[1;32m    599\u001b[0m         \u001b[0;32mtry\u001b[0m\u001b[0;34m:\u001b[0m\u001b[0;34m\u001b[0m\u001b[0;34m\u001b[0m\u001b[0m\n\u001b[1;32m    600\u001b[0m             \u001b[0mauthority_to_use\u001b[0m \u001b[0;34m=\u001b[0m \u001b[0mauthority\u001b[0m \u001b[0;32mor\u001b[0m \u001b[0;34m\"https://{}/common/\"\u001b[0m\u001b[0;34m.\u001b[0m\u001b[0mformat\u001b[0m\u001b[0;34m(\u001b[0m\u001b[0mWORLD_WIDE\u001b[0m\u001b[0;34m)\u001b[0m\u001b[0;34m\u001b[0m\u001b[0;34m\u001b[0m\u001b[0m\n\u001b[0;32m--> 601\u001b[0;31m             self.authority = Authority(\n\u001b[0m\u001b[1;32m    602\u001b[0m                 \u001b[0mauthority_to_use\u001b[0m\u001b[0;34m,\u001b[0m\u001b[0;34m\u001b[0m\u001b[0;34m\u001b[0m\u001b[0m\n\u001b[1;32m    603\u001b[0m                 \u001b[0mself\u001b[0m\u001b[0;34m.\u001b[0m\u001b[0mhttp_client\u001b[0m\u001b[0;34m,\u001b[0m\u001b[0;34m\u001b[0m\u001b[0;34m\u001b[0m\u001b[0m\n",
            "\u001b[0;32m/usr/local/lib/python3.10/dist-packages/msal/authority.py\u001b[0m in \u001b[0;36m__init__\u001b[0;34m(self, authority_url, http_client, validate_authority, instance_discovery, oidc_authority_url)\u001b[0m\n\u001b[1;32m     77\u001b[0m                 authority_url, validate_authority, instance_discovery)\n\u001b[1;32m     78\u001b[0m         \u001b[0;32mtry\u001b[0m\u001b[0;34m:\u001b[0m\u001b[0;34m\u001b[0m\u001b[0;34m\u001b[0m\u001b[0m\n\u001b[0;32m---> 79\u001b[0;31m             openid_config = tenant_discovery(\n\u001b[0m\u001b[1;32m     80\u001b[0m                 \u001b[0mtenant_discovery_endpoint\u001b[0m\u001b[0;34m,\u001b[0m\u001b[0;34m\u001b[0m\u001b[0;34m\u001b[0m\u001b[0m\n\u001b[1;32m     81\u001b[0m                 self._http_client)\n",
            "\u001b[0;32m/usr/local/lib/python3.10/dist-packages/msal/authority.py\u001b[0m in \u001b[0;36mtenant_discovery\u001b[0;34m(tenant_discovery_endpoint, http_client, **kwargs)\u001b[0m\n\u001b[1;32m    208\u001b[0m \u001b[0;32mdef\u001b[0m \u001b[0mtenant_discovery\u001b[0m\u001b[0;34m(\u001b[0m\u001b[0mtenant_discovery_endpoint\u001b[0m\u001b[0;34m,\u001b[0m \u001b[0mhttp_client\u001b[0m\u001b[0;34m,\u001b[0m \u001b[0;34m**\u001b[0m\u001b[0mkwargs\u001b[0m\u001b[0;34m)\u001b[0m\u001b[0;34m:\u001b[0m\u001b[0;34m\u001b[0m\u001b[0;34m\u001b[0m\u001b[0m\n\u001b[1;32m    209\u001b[0m     \u001b[0;31m# Returns Openid Configuration\u001b[0m\u001b[0;34m\u001b[0m\u001b[0;34m\u001b[0m\u001b[0m\n\u001b[0;32m--> 210\u001b[0;31m     \u001b[0mresp\u001b[0m \u001b[0;34m=\u001b[0m \u001b[0mhttp_client\u001b[0m\u001b[0;34m.\u001b[0m\u001b[0mget\u001b[0m\u001b[0;34m(\u001b[0m\u001b[0mtenant_discovery_endpoint\u001b[0m\u001b[0;34m,\u001b[0m \u001b[0;34m**\u001b[0m\u001b[0mkwargs\u001b[0m\u001b[0;34m)\u001b[0m\u001b[0;34m\u001b[0m\u001b[0;34m\u001b[0m\u001b[0m\n\u001b[0m\u001b[1;32m    211\u001b[0m     \u001b[0;32mif\u001b[0m \u001b[0mresp\u001b[0m\u001b[0;34m.\u001b[0m\u001b[0mstatus_code\u001b[0m \u001b[0;34m==\u001b[0m \u001b[0;36m200\u001b[0m\u001b[0;34m:\u001b[0m\u001b[0;34m\u001b[0m\u001b[0;34m\u001b[0m\u001b[0m\n\u001b[1;32m    212\u001b[0m         \u001b[0;32mreturn\u001b[0m \u001b[0mjson\u001b[0m\u001b[0;34m.\u001b[0m\u001b[0mloads\u001b[0m\u001b[0;34m(\u001b[0m\u001b[0mresp\u001b[0m\u001b[0;34m.\u001b[0m\u001b[0mtext\u001b[0m\u001b[0;34m)\u001b[0m  \u001b[0;31m# It could raise ValueError\u001b[0m\u001b[0;34m\u001b[0m\u001b[0;34m\u001b[0m\u001b[0m\n",
            "\u001b[0;32m/usr/local/lib/python3.10/dist-packages/msal/individual_cache.py\u001b[0m in \u001b[0;36mwrapper\u001b[0;34m(*args, **kwargs)\u001b[0m\n\u001b[1;32m    267\u001b[0m                 \u001b[0;31m# \"During handling of the above exception, another exception occurred\"\u001b[0m\u001b[0;34m\u001b[0m\u001b[0;34m\u001b[0m\u001b[0m\n\u001b[1;32m    268\u001b[0m                 \u001b[0;32mpass\u001b[0m\u001b[0;34m\u001b[0m\u001b[0;34m\u001b[0m\u001b[0m\n\u001b[0;32m--> 269\u001b[0;31m             \u001b[0mvalue\u001b[0m \u001b[0;34m=\u001b[0m \u001b[0mfunction\u001b[0m\u001b[0;34m(\u001b[0m\u001b[0;34m*\u001b[0m\u001b[0margs\u001b[0m\u001b[0;34m,\u001b[0m \u001b[0;34m**\u001b[0m\u001b[0mkwargs\u001b[0m\u001b[0;34m)\u001b[0m\u001b[0;34m\u001b[0m\u001b[0;34m\u001b[0m\u001b[0m\n\u001b[0m\u001b[1;32m    270\u001b[0m \u001b[0;34m\u001b[0m\u001b[0m\n\u001b[1;32m    271\u001b[0m             expires_in = self._expires_in(\n",
            "\u001b[0;32m/usr/local/lib/python3.10/dist-packages/requests/sessions.py\u001b[0m in \u001b[0;36mget\u001b[0;34m(self, url, **kwargs)\u001b[0m\n\u001b[1;32m    600\u001b[0m \u001b[0;34m\u001b[0m\u001b[0m\n\u001b[1;32m    601\u001b[0m         \u001b[0mkwargs\u001b[0m\u001b[0;34m.\u001b[0m\u001b[0msetdefault\u001b[0m\u001b[0;34m(\u001b[0m\u001b[0;34m\"allow_redirects\"\u001b[0m\u001b[0;34m,\u001b[0m \u001b[0;32mTrue\u001b[0m\u001b[0;34m)\u001b[0m\u001b[0;34m\u001b[0m\u001b[0;34m\u001b[0m\u001b[0m\n\u001b[0;32m--> 602\u001b[0;31m         \u001b[0;32mreturn\u001b[0m \u001b[0mself\u001b[0m\u001b[0;34m.\u001b[0m\u001b[0mrequest\u001b[0m\u001b[0;34m(\u001b[0m\u001b[0;34m\"GET\"\u001b[0m\u001b[0;34m,\u001b[0m \u001b[0murl\u001b[0m\u001b[0;34m,\u001b[0m \u001b[0;34m**\u001b[0m\u001b[0mkwargs\u001b[0m\u001b[0;34m)\u001b[0m\u001b[0;34m\u001b[0m\u001b[0;34m\u001b[0m\u001b[0m\n\u001b[0m\u001b[1;32m    603\u001b[0m \u001b[0;34m\u001b[0m\u001b[0m\n\u001b[1;32m    604\u001b[0m     \u001b[0;32mdef\u001b[0m \u001b[0moptions\u001b[0m\u001b[0;34m(\u001b[0m\u001b[0mself\u001b[0m\u001b[0;34m,\u001b[0m \u001b[0murl\u001b[0m\u001b[0;34m,\u001b[0m \u001b[0;34m**\u001b[0m\u001b[0mkwargs\u001b[0m\u001b[0;34m)\u001b[0m\u001b[0;34m:\u001b[0m\u001b[0;34m\u001b[0m\u001b[0;34m\u001b[0m\u001b[0m\n",
            "\u001b[0;32m/usr/local/lib/python3.10/dist-packages/requests/sessions.py\u001b[0m in \u001b[0;36mrequest\u001b[0;34m(self, method, url, params, data, headers, cookies, files, auth, timeout, allow_redirects, proxies, hooks, stream, verify, cert, json)\u001b[0m\n\u001b[1;32m    587\u001b[0m         }\n\u001b[1;32m    588\u001b[0m         \u001b[0msend_kwargs\u001b[0m\u001b[0;34m.\u001b[0m\u001b[0mupdate\u001b[0m\u001b[0;34m(\u001b[0m\u001b[0msettings\u001b[0m\u001b[0;34m)\u001b[0m\u001b[0;34m\u001b[0m\u001b[0;34m\u001b[0m\u001b[0m\n\u001b[0;32m--> 589\u001b[0;31m         \u001b[0mresp\u001b[0m \u001b[0;34m=\u001b[0m \u001b[0mself\u001b[0m\u001b[0;34m.\u001b[0m\u001b[0msend\u001b[0m\u001b[0;34m(\u001b[0m\u001b[0mprep\u001b[0m\u001b[0;34m,\u001b[0m \u001b[0;34m**\u001b[0m\u001b[0msend_kwargs\u001b[0m\u001b[0;34m)\u001b[0m\u001b[0;34m\u001b[0m\u001b[0;34m\u001b[0m\u001b[0m\n\u001b[0m\u001b[1;32m    590\u001b[0m \u001b[0;34m\u001b[0m\u001b[0m\n\u001b[1;32m    591\u001b[0m         \u001b[0;32mreturn\u001b[0m \u001b[0mresp\u001b[0m\u001b[0;34m\u001b[0m\u001b[0;34m\u001b[0m\u001b[0m\n",
            "\u001b[0;32m/usr/local/lib/python3.10/dist-packages/requests/sessions.py\u001b[0m in \u001b[0;36msend\u001b[0;34m(self, request, **kwargs)\u001b[0m\n\u001b[1;32m    701\u001b[0m \u001b[0;34m\u001b[0m\u001b[0m\n\u001b[1;32m    702\u001b[0m         \u001b[0;31m# Send the request\u001b[0m\u001b[0;34m\u001b[0m\u001b[0;34m\u001b[0m\u001b[0m\n\u001b[0;32m--> 703\u001b[0;31m         \u001b[0mr\u001b[0m \u001b[0;34m=\u001b[0m \u001b[0madapter\u001b[0m\u001b[0;34m.\u001b[0m\u001b[0msend\u001b[0m\u001b[0;34m(\u001b[0m\u001b[0mrequest\u001b[0m\u001b[0;34m,\u001b[0m \u001b[0;34m**\u001b[0m\u001b[0mkwargs\u001b[0m\u001b[0;34m)\u001b[0m\u001b[0;34m\u001b[0m\u001b[0;34m\u001b[0m\u001b[0m\n\u001b[0m\u001b[1;32m    704\u001b[0m \u001b[0;34m\u001b[0m\u001b[0m\n\u001b[1;32m    705\u001b[0m         \u001b[0;31m# Total elapsed time of the request (approximately)\u001b[0m\u001b[0;34m\u001b[0m\u001b[0;34m\u001b[0m\u001b[0m\n",
            "\u001b[0;32m/usr/local/lib/python3.10/dist-packages/requests/adapters.py\u001b[0m in \u001b[0;36msend\u001b[0;34m(self, request, stream, timeout, verify, cert, proxies)\u001b[0m\n\u001b[1;32m    665\u001b[0m \u001b[0;34m\u001b[0m\u001b[0m\n\u001b[1;32m    666\u001b[0m         \u001b[0;32mtry\u001b[0m\u001b[0;34m:\u001b[0m\u001b[0;34m\u001b[0m\u001b[0;34m\u001b[0m\u001b[0m\n\u001b[0;32m--> 667\u001b[0;31m             resp = conn.urlopen(\n\u001b[0m\u001b[1;32m    668\u001b[0m                 \u001b[0mmethod\u001b[0m\u001b[0;34m=\u001b[0m\u001b[0mrequest\u001b[0m\u001b[0;34m.\u001b[0m\u001b[0mmethod\u001b[0m\u001b[0;34m,\u001b[0m\u001b[0;34m\u001b[0m\u001b[0;34m\u001b[0m\u001b[0m\n\u001b[1;32m    669\u001b[0m                 \u001b[0murl\u001b[0m\u001b[0;34m=\u001b[0m\u001b[0murl\u001b[0m\u001b[0;34m,\u001b[0m\u001b[0;34m\u001b[0m\u001b[0;34m\u001b[0m\u001b[0m\n",
            "\u001b[0;32m/usr/local/lib/python3.10/dist-packages/urllib3/connectionpool.py\u001b[0m in \u001b[0;36murlopen\u001b[0;34m(self, method, url, body, headers, retries, redirect, assert_same_host, timeout, pool_timeout, release_conn, chunked, body_pos, preload_content, decode_content, **response_kw)\u001b[0m\n\u001b[1;32m    789\u001b[0m \u001b[0;34m\u001b[0m\u001b[0m\n\u001b[1;32m    790\u001b[0m             \u001b[0;31m# Make the request on the HTTPConnection object\u001b[0m\u001b[0;34m\u001b[0m\u001b[0;34m\u001b[0m\u001b[0m\n\u001b[0;32m--> 791\u001b[0;31m             response = self._make_request(\n\u001b[0m\u001b[1;32m    792\u001b[0m                 \u001b[0mconn\u001b[0m\u001b[0;34m,\u001b[0m\u001b[0;34m\u001b[0m\u001b[0;34m\u001b[0m\u001b[0m\n\u001b[1;32m    793\u001b[0m                 \u001b[0mmethod\u001b[0m\u001b[0;34m,\u001b[0m\u001b[0;34m\u001b[0m\u001b[0;34m\u001b[0m\u001b[0m\n",
            "\u001b[0;32m/usr/local/lib/python3.10/dist-packages/urllib3/connectionpool.py\u001b[0m in \u001b[0;36m_make_request\u001b[0;34m(self, conn, method, url, body, headers, retries, timeout, chunked, response_conn, preload_content, decode_content, enforce_content_length)\u001b[0m\n\u001b[1;32m    535\u001b[0m         \u001b[0;31m# Receive the response from the server\u001b[0m\u001b[0;34m\u001b[0m\u001b[0;34m\u001b[0m\u001b[0m\n\u001b[1;32m    536\u001b[0m         \u001b[0;32mtry\u001b[0m\u001b[0;34m:\u001b[0m\u001b[0;34m\u001b[0m\u001b[0;34m\u001b[0m\u001b[0m\n\u001b[0;32m--> 537\u001b[0;31m             \u001b[0mresponse\u001b[0m \u001b[0;34m=\u001b[0m \u001b[0mconn\u001b[0m\u001b[0;34m.\u001b[0m\u001b[0mgetresponse\u001b[0m\u001b[0;34m(\u001b[0m\u001b[0;34m)\u001b[0m\u001b[0;34m\u001b[0m\u001b[0;34m\u001b[0m\u001b[0m\n\u001b[0m\u001b[1;32m    538\u001b[0m         \u001b[0;32mexcept\u001b[0m \u001b[0;34m(\u001b[0m\u001b[0mBaseSSLError\u001b[0m\u001b[0;34m,\u001b[0m \u001b[0mOSError\u001b[0m\u001b[0;34m)\u001b[0m \u001b[0;32mas\u001b[0m \u001b[0me\u001b[0m\u001b[0;34m:\u001b[0m\u001b[0;34m\u001b[0m\u001b[0;34m\u001b[0m\u001b[0m\n\u001b[1;32m    539\u001b[0m             \u001b[0mself\u001b[0m\u001b[0;34m.\u001b[0m\u001b[0m_raise_timeout\u001b[0m\u001b[0;34m(\u001b[0m\u001b[0merr\u001b[0m\u001b[0;34m=\u001b[0m\u001b[0me\u001b[0m\u001b[0;34m,\u001b[0m \u001b[0murl\u001b[0m\u001b[0;34m=\u001b[0m\u001b[0murl\u001b[0m\u001b[0;34m,\u001b[0m \u001b[0mtimeout_value\u001b[0m\u001b[0;34m=\u001b[0m\u001b[0mread_timeout\u001b[0m\u001b[0;34m)\u001b[0m\u001b[0;34m\u001b[0m\u001b[0;34m\u001b[0m\u001b[0m\n",
            "\u001b[0;32m/usr/local/lib/python3.10/dist-packages/urllib3/connection.py\u001b[0m in \u001b[0;36mgetresponse\u001b[0;34m(self)\u001b[0m\n\u001b[1;32m    459\u001b[0m \u001b[0;34m\u001b[0m\u001b[0m\n\u001b[1;32m    460\u001b[0m         \u001b[0;31m# Get the response from http.client.HTTPConnection\u001b[0m\u001b[0;34m\u001b[0m\u001b[0;34m\u001b[0m\u001b[0m\n\u001b[0;32m--> 461\u001b[0;31m         \u001b[0mhttplib_response\u001b[0m \u001b[0;34m=\u001b[0m \u001b[0msuper\u001b[0m\u001b[0;34m(\u001b[0m\u001b[0;34m)\u001b[0m\u001b[0;34m.\u001b[0m\u001b[0mgetresponse\u001b[0m\u001b[0;34m(\u001b[0m\u001b[0;34m)\u001b[0m\u001b[0;34m\u001b[0m\u001b[0;34m\u001b[0m\u001b[0m\n\u001b[0m\u001b[1;32m    462\u001b[0m \u001b[0;34m\u001b[0m\u001b[0m\n\u001b[1;32m    463\u001b[0m         \u001b[0;32mtry\u001b[0m\u001b[0;34m:\u001b[0m\u001b[0;34m\u001b[0m\u001b[0;34m\u001b[0m\u001b[0m\n",
            "\u001b[0;32m/usr/lib/python3.10/http/client.py\u001b[0m in \u001b[0;36mgetresponse\u001b[0;34m(self)\u001b[0m\n\u001b[1;32m   1373\u001b[0m         \u001b[0;32mtry\u001b[0m\u001b[0;34m:\u001b[0m\u001b[0;34m\u001b[0m\u001b[0;34m\u001b[0m\u001b[0m\n\u001b[1;32m   1374\u001b[0m             \u001b[0;32mtry\u001b[0m\u001b[0;34m:\u001b[0m\u001b[0;34m\u001b[0m\u001b[0;34m\u001b[0m\u001b[0m\n\u001b[0;32m-> 1375\u001b[0;31m                 \u001b[0mresponse\u001b[0m\u001b[0;34m.\u001b[0m\u001b[0mbegin\u001b[0m\u001b[0;34m(\u001b[0m\u001b[0;34m)\u001b[0m\u001b[0;34m\u001b[0m\u001b[0;34m\u001b[0m\u001b[0m\n\u001b[0m\u001b[1;32m   1376\u001b[0m             \u001b[0;32mexcept\u001b[0m \u001b[0mConnectionError\u001b[0m\u001b[0;34m:\u001b[0m\u001b[0;34m\u001b[0m\u001b[0;34m\u001b[0m\u001b[0m\n\u001b[1;32m   1377\u001b[0m                 \u001b[0mself\u001b[0m\u001b[0;34m.\u001b[0m\u001b[0mclose\u001b[0m\u001b[0;34m(\u001b[0m\u001b[0;34m)\u001b[0m\u001b[0;34m\u001b[0m\u001b[0;34m\u001b[0m\u001b[0m\n",
            "\u001b[0;32m/usr/lib/python3.10/http/client.py\u001b[0m in \u001b[0;36mbegin\u001b[0;34m(self)\u001b[0m\n\u001b[1;32m    316\u001b[0m         \u001b[0;31m# read until we get a non-100 response\u001b[0m\u001b[0;34m\u001b[0m\u001b[0;34m\u001b[0m\u001b[0m\n\u001b[1;32m    317\u001b[0m         \u001b[0;32mwhile\u001b[0m \u001b[0;32mTrue\u001b[0m\u001b[0;34m:\u001b[0m\u001b[0;34m\u001b[0m\u001b[0;34m\u001b[0m\u001b[0m\n\u001b[0;32m--> 318\u001b[0;31m             \u001b[0mversion\u001b[0m\u001b[0;34m,\u001b[0m \u001b[0mstatus\u001b[0m\u001b[0;34m,\u001b[0m \u001b[0mreason\u001b[0m \u001b[0;34m=\u001b[0m \u001b[0mself\u001b[0m\u001b[0;34m.\u001b[0m\u001b[0m_read_status\u001b[0m\u001b[0;34m(\u001b[0m\u001b[0;34m)\u001b[0m\u001b[0;34m\u001b[0m\u001b[0;34m\u001b[0m\u001b[0m\n\u001b[0m\u001b[1;32m    319\u001b[0m             \u001b[0;32mif\u001b[0m \u001b[0mstatus\u001b[0m \u001b[0;34m!=\u001b[0m \u001b[0mCONTINUE\u001b[0m\u001b[0;34m:\u001b[0m\u001b[0;34m\u001b[0m\u001b[0;34m\u001b[0m\u001b[0m\n\u001b[1;32m    320\u001b[0m                 \u001b[0;32mbreak\u001b[0m\u001b[0;34m\u001b[0m\u001b[0;34m\u001b[0m\u001b[0m\n",
            "\u001b[0;32m/usr/lib/python3.10/http/client.py\u001b[0m in \u001b[0;36m_read_status\u001b[0;34m(self)\u001b[0m\n\u001b[1;32m    277\u001b[0m \u001b[0;34m\u001b[0m\u001b[0m\n\u001b[1;32m    278\u001b[0m     \u001b[0;32mdef\u001b[0m \u001b[0m_read_status\u001b[0m\u001b[0;34m(\u001b[0m\u001b[0mself\u001b[0m\u001b[0;34m)\u001b[0m\u001b[0;34m:\u001b[0m\u001b[0;34m\u001b[0m\u001b[0;34m\u001b[0m\u001b[0m\n\u001b[0;32m--> 279\u001b[0;31m         \u001b[0mline\u001b[0m \u001b[0;34m=\u001b[0m \u001b[0mstr\u001b[0m\u001b[0;34m(\u001b[0m\u001b[0mself\u001b[0m\u001b[0;34m.\u001b[0m\u001b[0mfp\u001b[0m\u001b[0;34m.\u001b[0m\u001b[0mreadline\u001b[0m\u001b[0;34m(\u001b[0m\u001b[0m_MAXLINE\u001b[0m \u001b[0;34m+\u001b[0m \u001b[0;36m1\u001b[0m\u001b[0;34m)\u001b[0m\u001b[0;34m,\u001b[0m \u001b[0;34m\"iso-8859-1\"\u001b[0m\u001b[0;34m)\u001b[0m\u001b[0;34m\u001b[0m\u001b[0;34m\u001b[0m\u001b[0m\n\u001b[0m\u001b[1;32m    280\u001b[0m         \u001b[0;32mif\u001b[0m \u001b[0mlen\u001b[0m\u001b[0;34m(\u001b[0m\u001b[0mline\u001b[0m\u001b[0;34m)\u001b[0m \u001b[0;34m>\u001b[0m \u001b[0m_MAXLINE\u001b[0m\u001b[0;34m:\u001b[0m\u001b[0;34m\u001b[0m\u001b[0;34m\u001b[0m\u001b[0m\n\u001b[1;32m    281\u001b[0m             \u001b[0;32mraise\u001b[0m \u001b[0mLineTooLong\u001b[0m\u001b[0;34m(\u001b[0m\u001b[0;34m\"status line\"\u001b[0m\u001b[0;34m)\u001b[0m\u001b[0;34m\u001b[0m\u001b[0;34m\u001b[0m\u001b[0m\n",
            "\u001b[0;32m/usr/lib/python3.10/socket.py\u001b[0m in \u001b[0;36mreadinto\u001b[0;34m(self, b)\u001b[0m\n\u001b[1;32m    703\u001b[0m         \u001b[0;32mwhile\u001b[0m \u001b[0;32mTrue\u001b[0m\u001b[0;34m:\u001b[0m\u001b[0;34m\u001b[0m\u001b[0;34m\u001b[0m\u001b[0m\n\u001b[1;32m    704\u001b[0m             \u001b[0;32mtry\u001b[0m\u001b[0;34m:\u001b[0m\u001b[0;34m\u001b[0m\u001b[0;34m\u001b[0m\u001b[0m\n\u001b[0;32m--> 705\u001b[0;31m                 \u001b[0;32mreturn\u001b[0m \u001b[0mself\u001b[0m\u001b[0;34m.\u001b[0m\u001b[0m_sock\u001b[0m\u001b[0;34m.\u001b[0m\u001b[0mrecv_into\u001b[0m\u001b[0;34m(\u001b[0m\u001b[0mb\u001b[0m\u001b[0;34m)\u001b[0m\u001b[0;34m\u001b[0m\u001b[0;34m\u001b[0m\u001b[0m\n\u001b[0m\u001b[1;32m    706\u001b[0m             \u001b[0;32mexcept\u001b[0m \u001b[0mtimeout\u001b[0m\u001b[0;34m:\u001b[0m\u001b[0;34m\u001b[0m\u001b[0;34m\u001b[0m\u001b[0m\n\u001b[1;32m    707\u001b[0m                 \u001b[0mself\u001b[0m\u001b[0;34m.\u001b[0m\u001b[0m_timeout_occurred\u001b[0m \u001b[0;34m=\u001b[0m \u001b[0;32mTrue\u001b[0m\u001b[0;34m\u001b[0m\u001b[0;34m\u001b[0m\u001b[0m\n",
            "\u001b[0;32m/usr/lib/python3.10/ssl.py\u001b[0m in \u001b[0;36mrecv_into\u001b[0;34m(self, buffer, nbytes, flags)\u001b[0m\n\u001b[1;32m   1301\u001b[0m                   \u001b[0;34m\"non-zero flags not allowed in calls to recv_into() on %s\"\u001b[0m \u001b[0;34m%\u001b[0m\u001b[0;34m\u001b[0m\u001b[0;34m\u001b[0m\u001b[0m\n\u001b[1;32m   1302\u001b[0m                   self.__class__)\n\u001b[0;32m-> 1303\u001b[0;31m             \u001b[0;32mreturn\u001b[0m \u001b[0mself\u001b[0m\u001b[0;34m.\u001b[0m\u001b[0mread\u001b[0m\u001b[0;34m(\u001b[0m\u001b[0mnbytes\u001b[0m\u001b[0;34m,\u001b[0m \u001b[0mbuffer\u001b[0m\u001b[0;34m)\u001b[0m\u001b[0;34m\u001b[0m\u001b[0;34m\u001b[0m\u001b[0m\n\u001b[0m\u001b[1;32m   1304\u001b[0m         \u001b[0;32melse\u001b[0m\u001b[0;34m:\u001b[0m\u001b[0;34m\u001b[0m\u001b[0;34m\u001b[0m\u001b[0m\n\u001b[1;32m   1305\u001b[0m             \u001b[0;32mreturn\u001b[0m \u001b[0msuper\u001b[0m\u001b[0;34m(\u001b[0m\u001b[0;34m)\u001b[0m\u001b[0;34m.\u001b[0m\u001b[0mrecv_into\u001b[0m\u001b[0;34m(\u001b[0m\u001b[0mbuffer\u001b[0m\u001b[0;34m,\u001b[0m \u001b[0mnbytes\u001b[0m\u001b[0;34m,\u001b[0m \u001b[0mflags\u001b[0m\u001b[0;34m)\u001b[0m\u001b[0;34m\u001b[0m\u001b[0;34m\u001b[0m\u001b[0m\n",
            "\u001b[0;32m/usr/lib/python3.10/ssl.py\u001b[0m in \u001b[0;36mread\u001b[0;34m(self, len, buffer)\u001b[0m\n\u001b[1;32m   1157\u001b[0m         \u001b[0;32mtry\u001b[0m\u001b[0;34m:\u001b[0m\u001b[0;34m\u001b[0m\u001b[0;34m\u001b[0m\u001b[0m\n\u001b[1;32m   1158\u001b[0m             \u001b[0;32mif\u001b[0m \u001b[0mbuffer\u001b[0m \u001b[0;32mis\u001b[0m \u001b[0;32mnot\u001b[0m \u001b[0;32mNone\u001b[0m\u001b[0;34m:\u001b[0m\u001b[0;34m\u001b[0m\u001b[0;34m\u001b[0m\u001b[0m\n\u001b[0;32m-> 1159\u001b[0;31m                 \u001b[0;32mreturn\u001b[0m \u001b[0mself\u001b[0m\u001b[0;34m.\u001b[0m\u001b[0m_sslobj\u001b[0m\u001b[0;34m.\u001b[0m\u001b[0mread\u001b[0m\u001b[0;34m(\u001b[0m\u001b[0mlen\u001b[0m\u001b[0;34m,\u001b[0m \u001b[0mbuffer\u001b[0m\u001b[0;34m)\u001b[0m\u001b[0;34m\u001b[0m\u001b[0;34m\u001b[0m\u001b[0m\n\u001b[0m\u001b[1;32m   1160\u001b[0m             \u001b[0;32melse\u001b[0m\u001b[0;34m:\u001b[0m\u001b[0;34m\u001b[0m\u001b[0;34m\u001b[0m\u001b[0m\n\u001b[1;32m   1161\u001b[0m                 \u001b[0;32mreturn\u001b[0m \u001b[0mself\u001b[0m\u001b[0;34m.\u001b[0m\u001b[0m_sslobj\u001b[0m\u001b[0;34m.\u001b[0m\u001b[0mread\u001b[0m\u001b[0;34m(\u001b[0m\u001b[0mlen\u001b[0m\u001b[0;34m)\u001b[0m\u001b[0;34m\u001b[0m\u001b[0;34m\u001b[0m\u001b[0m\n",
            "\u001b[0;31mKeyboardInterrupt\u001b[0m: "
          ]
        },
        {
          "output_type": "display_data",
          "data": {
            "text/plain": [
              "<Figure size 640x480 with 2 Axes>"
            ],
            "image/png": "[encoded data removed]"
          },
          "metadata": {}
        },
        {
          "output_type": "display_data",
          "data": {
            "text/plain": [
              "<Figure size 640x480 with 2 Axes>"
            ],
            "image/png": "[encoded data removed]"
          },
          "metadata": {}
        },
        {
          "output_type": "display_data",
          "data": {
            "text/plain": [
              "<Figure size 640x480 with 2 Axes>"
            ],
            "image/png": "[encoded data removed]"
          },
          "metadata": {}
        },
        {
          "output_type": "display_data",
          "data": {
            "text/plain": [
              "<Figure size 640x480 with 2 Axes>"
            ],
            "image/png": "[encoded data removed]"
          },
          "metadata": {}
        },
        {
          "output_type": "display_data",
          "data": {
            "text/plain": [
              "<Figure size 640x480 with 2 Axes>"
            ],
            "image/png": "[encoded data removed]"
          },
          "metadata": {}
        },
        {
          "output_type": "display_data",
          "data": {
            "text/plain": [
              "<Figure size 640x480 with 2 Axes>"
            ],
            "image/png": "[encoded data removed]"
          },
          "metadata": {}
        }
      ]
    }
  ]
}