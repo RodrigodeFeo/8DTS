{
  "nbformat": 4,
  "nbformat_minor": 0,
  "metadata": {
    "colab": {
      "provenance": [],
      "include_colab_link": true
    },
    "kernelspec": {
      "name": "python3",
      "display_name": "Python 3"
    }
  },
  "cells": [
    {
      "cell_type": "markdown",
      "metadata": {
        "id": "view-in-github",
        "colab_type": "text"
      },
      "source": [
        "<a href=\"https://colab.research.google.com/github/RodrigodeFeo/8DTS/blob/main/Plataformas_Azure_Treino_Fora_Azure.ipynb\" target=\"_parent\"><img src=\"https://colab.research.google.com/assets/colab-badge.svg\" alt=\"Open In Colab\"/></a>"
      ]
    },
    {
      "cell_type": "markdown",
      "metadata": {
        "id": "QHXfLH6mHbdP"
      },
      "source": [
        "#Setup\n",
        "\n",
        "\n",
        "\n",
        "<font color=\"red\">Caso apareça um botão como esse durante o setup, deve ser necessário reiniciar o \"Runtime\"</font>\n",
        "\n",
        "\n",
        "Pode ser feito clicando no botão ou pelo menu do Colab."
      ]
    },
    {
      "cell_type": "markdown",
      "source": [
        "![image.png](data:image/png;base64,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)"
      ],
      "metadata": {
        "id": "qDE99ogAFi-D"
      }
    },
    {
      "cell_type": "code",
      "metadata": {
        "id": "g3vQzVdzHczA"
      },
      "source": [
        "!git clone https://github.com/elthonf/azure-ml.git"
      ],
      "execution_count": null,
      "outputs": []
    },
    {
      "cell_type": "code",
      "source": [
        "!pip install joblib~=1.2.0"
      ],
      "metadata": {
        "id": "UEiyoFI0x91A"
      },
      "execution_count": null,
      "outputs": []
    },
    {
      "cell_type": "code",
      "source": [
        "!pip install scikit-learn~=1.1.0\n",
        "#!pip install scikit-learn~=1.0.0"
      ],
      "metadata": {
        "id": "aoZVF202yIIi"
      },
      "execution_count": null,
      "outputs": []
    },
    {
      "cell_type": "code",
      "source": [
        "!pip install azureml-core"
      ],
      "metadata": {
        "id": "xio2cxslyBsC"
      },
      "execution_count": null,
      "outputs": []
    },
    {
      "cell_type": "code",
      "metadata": {
        "id": "DFhjOKPfOsnI"
      },
      "source": [
        "#!pip install azureml-dataprep\n",
        "!pip install azureml-dataset-runtime"
      ],
      "execution_count": null,
      "outputs": []
    },
    {
      "cell_type": "code",
      "source": [
        "!mkdir modelo\n",
        "!mkdir modelo/ambiente\n",
        "!mkdir dadostreino\n",
        "!pip list > modelo/ambiente/bibliotecas.txt\n",
        "!pip freeze > modelo/ambiente/requirements.txt\n",
        "!python --version > modelo/ambiente/python_version.txt"
      ],
      "metadata": {
        "id": "w5Km8TFkJWV8"
      },
      "execution_count": null,
      "outputs": []
    },
    {
      "cell_type": "code",
      "metadata": {
        "id": "_5B0Q0CjIcSn"
      },
      "source": [
        "import pandas as pd\n",
        "import numpy as np\n",
        "from sklearn.model_selection import train_test_split\n",
        "from sklearn.ensemble import RandomForestClassifier as rfc\n",
        "from sklearn.ensemble import RandomForestRegressor as rfr\n",
        "from sklearn.linear_model import Ridge\n",
        "from sklearn.metrics import mean_squared_error, ConfusionMatrixDisplay, classification_report\n",
        "import sys, math, random, json, sklearn, joblib, uuid, os\n",
        "from azureml.core import Experiment, Workspace, Dataset, Model"
      ],
      "execution_count": null,
      "outputs": []
    },
    {
      "cell_type": "code",
      "source": [
        "sklearn.__version__"
      ],
      "metadata": {
        "id": "hd2163M0RFh5"
      },
      "execution_count": null,
      "outputs": []
    },
    {
      "cell_type": "markdown",
      "source": [
        "Funções auxiliares"
      ],
      "metadata": {
        "id": "2hODDd4vOZoB"
      }
    },
    {
      "cell_type": "code",
      "source": [
        "class NpEncoder(json.JSONEncoder):\n",
        "    def default(self, obj):\n",
        "        if isinstance(obj, np.integer):\n",
        "            return int(obj)\n",
        "        elif isinstance(obj, np.floating):\n",
        "            return float(obj)\n",
        "        elif isinstance(obj, np.ndarray):\n",
        "            return obj.tolist()\n",
        "        else:\n",
        "            return super(NpEncoder, self).default(obj)"
      ],
      "metadata": {
        "id": "f3A6cxIz1Z3j"
      },
      "execution_count": null,
      "outputs": []
    },
    {
      "cell_type": "code",
      "source": [
        "def describe(df):\n",
        "    return pd.concat([df.describe(include=\"all\", percentiles=[.1, .2, .25, .3, .4, .5, .6, .7, .75, .8, .9]).T,\n",
        "                      df.dtypes.rename('dtypes'),\n",
        "                      #df.mad().rename('mad'),\n",
        "                      #df.skew().rename('skew'),\n",
        "                      #df.kurt().rename('kurt'),\n",
        "                      df.nunique().rename('nunique'),\n",
        "                     ], axis=1)\n",
        "def describe_cols(df, df_summary=None):\n",
        "    if df_summary is None:\n",
        "        df_summary = describe(df)\n",
        "    ret = {}\n",
        "    for i, row in df_summary.iterrows():\n",
        "        if row[\"nunique\"] <= 100:\n",
        "            ret[i] = {\"classes\" : json.loads( df.groupby([i]).size().to_json() ) }\n",
        "        elif np.issubdtype(row[\"dtypes\"], np.number):\n",
        "            _h = np.histogram(df[i])\n",
        "            ret[i] = {\"hist\": list(_h[0]),\n",
        "                      \"bin_edges\": list(_h[1])}\n",
        "        else:\n",
        "            ret[i] = {}\n",
        "    return ret"
      ],
      "metadata": {
        "id": "Ow-o3HTcOYbp"
      },
      "execution_count": null,
      "outputs": []
    },
    {
      "cell_type": "markdown",
      "metadata": {
        "id": "suK9IqHdI17i"
      },
      "source": [
        "# Conexão com ML Studio"
      ]
    },
    {
      "cell_type": "code",
      "metadata": {
        "id": "OVh5aCvbIZV5"
      },
      "source": [
        "#Trocar os códigos abaixo pelos da sua instância!\n",
        "subscription_id = 'f7c59076-7117-4e47-bf2a-86f2ac61b485'\n",
        "resource_group = 'Santander'\n",
        "workspace_name = 'AreaParaOSantander'\n",
        "\n",
        "workspace = Workspace(subscription_id, resource_group, workspace_name)"
      ],
      "execution_count": null,
      "outputs": []
    },
    {
      "cell_type": "markdown",
      "metadata": {
        "id": "9env-yrvIo3-"
      },
      "source": [
        "# Carga de dados\n",
        "Inclui métricas dos dados / metadados"
      ]
    },
    {
      "cell_type": "code",
      "metadata": {
        "id": "XZn5hxK3In1W"
      },
      "source": [
        "mydf = pd.read_csv('azure-ml/datasets/statistical/BaseDefault01.csv')\n",
        "mydf.head()"
      ],
      "execution_count": null,
      "outputs": []
    },
    {
      "cell_type": "code",
      "metadata": {
        "id": "cho9hOmWOVPb"
      },
      "source": [
        "dataset_name, dataset_version = 'Risco-De-Credito', None\n",
        "try:\n",
        "  dataset = Dataset.get_by_name(workspace, name=dataset_name)\n",
        "  dataset_version = dataset.version\n",
        "  df = dataset.to_pandas_dataframe()\n",
        "  display( df.head() )\n",
        "except:\n",
        "  print(\"Dataset não encontrado\")"
      ],
      "execution_count": null,
      "outputs": []
    },
    {
      "cell_type": "code",
      "source": [
        "mydf.to_csv(\"./dadostreino/original_data.csv\")"
      ],
      "metadata": {
        "id": "9oR4YrUWKmqG"
      },
      "execution_count": null,
      "outputs": []
    },
    {
      "cell_type": "code",
      "source": [
        "mydf_metadata = describe(mydf)\n",
        "#mydf_metadata.to_json(\"./dadostreino/metadata.json\", indent=4, orient='index')\n",
        "mydf_metadata.to_markdown(\"./dadostreino/metadata.md\")\n",
        "mydf_metadata.to_csv(\"./dadostreino/metadata.csv\")\n",
        "mydf_metadata"
      ],
      "metadata": {
        "id": "6agEoXFfOeyA"
      },
      "execution_count": null,
      "outputs": []
    },
    {
      "cell_type": "code",
      "source": [
        "# gera arquivo de quantidade por classes\n",
        "mycounts = describe_cols(mydf, mydf_metadata)\n",
        "\n",
        "with open('dadostreino/classes.json', 'w', encoding='utf-8') as f:\n",
        "    json.dump(mycounts, f, ensure_ascii=False, indent=4, cls=NpEncoder)"
      ],
      "metadata": {
        "id": "f-pL2efxRD6P"
      },
      "execution_count": null,
      "outputs": []
    },
    {
      "cell_type": "code",
      "source": [
        "display(mycounts)"
      ],
      "metadata": {
        "id": "i29aNe7Y0wyl"
      },
      "execution_count": null,
      "outputs": []
    },
    {
      "cell_type": "markdown",
      "metadata": {
        "id": "Z0R5epW7ImaD"
      },
      "source": [
        "# Treinamento"
      ]
    },
    {
      "cell_type": "markdown",
      "metadata": {
        "id": "t8GQvfh7KtBR"
      },
      "source": [
        "Identifica no dataset as variáveis independentes e a variavel alvo"
      ]
    },
    {
      "cell_type": "code",
      "metadata": {
        "id": "heZL--aQIuBj"
      },
      "source": [
        "targetcol = 'default'\n",
        "y = mydf[targetcol]"
      ],
      "execution_count": null,
      "outputs": []
    },
    {
      "cell_type": "markdown",
      "metadata": {
        "id": "vfA2s7A2KvJz"
      },
      "source": [
        "Cria experimento"
      ]
    },
    {
      "cell_type": "code",
      "metadata": {
        "id": "Vdok5L_BJO36"
      },
      "source": [
        "experiment = Experiment(workspace=workspace, name=\"Experimento_MLStudio\")"
      ],
      "execution_count": null,
      "outputs": []
    },
    {
      "cell_type": "markdown",
      "metadata": {
        "id": "vONEcCfCKzcs"
      },
      "source": [
        "## Treina modelo 01 (Classificador)"
      ]
    },
    {
      "cell_type": "markdown",
      "metadata": {
        "id": "jaWEEOzXL48l"
      },
      "source": [
        "Cria uma execução para o experimento"
      ]
    },
    {
      "cell_type": "code",
      "metadata": {
        "id": "7cqi3jgrL9Os"
      },
      "source": [
        "myrunid = str(uuid.uuid1())\n",
        "run = experiment.start_logging(run_id=myrunid,\n",
        "                               display_name=f\"My Run {myrunid} feito em aula\",\n",
        "                               outputs=\"modelo\",\n",
        "                               snapshot_directory=\"dadostreino\")\n",
        "run.log(\"Tipo\", \"Classificador\")"
      ],
      "execution_count": null,
      "outputs": []
    },
    {
      "cell_type": "code",
      "metadata": {
        "id": "rmNQYJTiJTMo"
      },
      "source": [
        "independentcols = ['renda', 'idade', 'etnia', 'sexo', 'casapropria', 'outrasrendas', 'estadocivil', 'escolaridade']\n",
        "X = mydf[independentcols]\n",
        "X_train, X_test, y_train, y_test = train_test_split(X, y, test_size=0.20, random_state=10)\n",
        "clf = rfc(n_estimators=10)\n",
        "clf.fit(X=X_train[independentcols], y=y_train)\n",
        "clf.independentcols = independentcols"
      ],
      "execution_count": null,
      "outputs": []
    },
    {
      "cell_type": "markdown",
      "metadata": {
        "id": "O3iiNudfK4mD"
      },
      "source": [
        "Avaliações e Logs"
      ]
    },
    {
      "cell_type": "code",
      "metadata": {
        "id": "B0eStUJMKfKJ"
      },
      "source": [
        "clf_acuracia = clf.score(X=X_test[independentcols], y=y_test)\n",
        "print(\"Modelo 01 (classificador), criado com acurácia de: [{0}]\".format(clf_acuracia))\n",
        "run.log(\"acuracia\", clf_acuracia)"
      ],
      "execution_count": null,
      "outputs": []
    },
    {
      "cell_type": "code",
      "metadata": {
        "id": "u9kTVxugK-ry"
      },
      "source": [
        "#Demais logs (não serão comparados)\n",
        "run.log(\"language\", \"python\")\n",
        "run.log(\"python\", sys.version)\n",
        "run.log(\"Versao sklearn\", sklearn.__version__)\n",
        "run.log(\"criterion\", clf.criterion)\n",
        "run.log(\"n_estimators\", clf.n_estimators)\n",
        "run.log(\"min_samples_leaf\", clf.min_samples_leaf)\n",
        "run.log(\"max_depth\",  str(clf.max_depth))\n",
        "run.log(\"dataset_name\",  dataset_name)\n",
        "run.log(\"dataset_version\",  dataset_version)\n",
        "run.log_list(\"Inputs\", independentcols)"
      ],
      "execution_count": null,
      "outputs": []
    },
    {
      "cell_type": "code",
      "source": [
        "#Exibe Matriz de confusão e grava em arquivo\n",
        "display(f\"Matriz de confusão do modelo:\")\n",
        "ConfusionMatrixDisplay.from_estimator(clf, X_test[independentcols], y_test).figure_.savefig('modelo/confusion_matrix.png')"
      ],
      "metadata": {
        "id": "QcxejO1VkGyF"
      },
      "execution_count": null,
      "outputs": []
    },
    {
      "cell_type": "code",
      "source": [
        "#Exibe Classification Report e grava em arquivo\n",
        "c_report = classification_report(y_test, clf.predict(X_test[independentcols]))\n",
        "print(f\"Classification Report:\\n{c_report}\")\n",
        "with open(\"modelo/classification_report.txt\", \"w\") as text_file:\n",
        "    text_file.write(c_report)"
      ],
      "metadata": {
        "id": "x6g7kwY8mf8j"
      },
      "execution_count": null,
      "outputs": []
    },
    {
      "cell_type": "markdown",
      "metadata": {
        "id": "cInn2_XSLBcX"
      },
      "source": [
        "Exporta o modelo\n",
        "\n",
        "Dica: Após a exportação, é possível consultar o modelo e demais artefatos pelo explorador de arquivos, ou com a instrução:\n",
        "\n",
        "```\n",
        "!ls -l modelo\n",
        "```"
      ]
    },
    {
      "cell_type": "code",
      "metadata": {
        "id": "YcDgH7oqK_tj"
      },
      "source": [
        "model_name = \"modelo_bin.pkl\"\n",
        "filename = \"modelo/\" + model_name\n",
        "joblib.dump(value=clf, filename=filename)\n",
        "run.log(\"model_binary\": filename)"
      ],
      "execution_count": null,
      "outputs": []
    },
    {
      "cell_type": "markdown",
      "metadata": {
        "id": "ffJHmvWdLqzt"
      },
      "source": [
        "Finaliza o experimento\n",
        "Obs.:pode demorar alguns segundos/minutos para os arquivos da pasta \"modelo\" aparecerem no Azure ML Studio."
      ]
    },
    {
      "cell_type": "code",
      "metadata": {
        "id": "v-TI9v7CLPpc"
      },
      "source": [
        "run.complete()\n",
        "run.wait_for_completion()\n",
        "os.remove(\"./modelo/modelo_bin.pkl\")\n",
        "os.remove(\"./modelo/confusion_matrix.png\")\n",
        "os.remove(\"./modelo/classification_report.txt\")"
      ],
      "execution_count": null,
      "outputs": []
    },
    {
      "cell_type": "markdown",
      "metadata": {
        "id": "DwH7a5fqeS_d"
      },
      "source": [
        "# Atividade 1 : Análise na Azure"
      ]
    },
    {
      "cell_type": "markdown",
      "metadata": {
        "id": "OMxbK7gHf64b"
      },
      "source": [
        "Crie n modelos em experimentos para nosso problema de risco de crédito, e envie para a Azure. Em seguida, compare os resultados dentro da plataforma Azure.  \n",
        "\n",
        "Cada experimento deve ter seus parâmetros alterados conforme vetores.  \n",
        "Observe que o nomes dos parâmetros são respectivamente n_estimators, max_depth e min_samples_leaf.\n",
        "\n",
        "|n_estimators|max_depth|min_samples_leaf|\n",
        "|---|---|---|\n",
        "|1|1|10|\n",
        "|2|2|5|\n",
        "|3|3|1|\n",
        "|5|None|\n",
        "|10|\n",
        "|20|\n",
        "|30|\n",
        "\n",
        "Obs.:  \n",
        "n = 8 $\\times$ 4 $\\times$ 3"
      ]
    },
    {
      "cell_type": "code",
      "metadata": {
        "id": "CSCs0xhSuEW_"
      },
      "source": [
        "experiment = Experiment(workspace=workspace, name=\"Experimento_RiscoCredito\")"
      ],
      "execution_count": null,
      "outputs": []
    },
    {
      "cell_type": "code",
      "metadata": {
        "id": "6I7iB9wDeVCw"
      },
      "source": [
        "lst_n_estimators = [1, 2, 3, 5, 10, 20, 30]\n",
        "lst_max_depth = [1, 2, 3, None]\n",
        "lst_min_samples_leaf = [10, 5, 1]"
      ],
      "execution_count": null,
      "outputs": []
    },
    {
      "cell_type": "code",
      "metadata": {
        "id": "XctN9Z7At7NF"
      },
      "source": [],
      "execution_count": null,
      "outputs": []
    }
  ]
}