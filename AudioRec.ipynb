{
  "nbformat": 4,
  "nbformat_minor": 0,
  "metadata": {
    "colab": {
      "provenance": [],
      "authorship_tag": "ABX9TyMwZ+gu9fysQnP5GBiz0o8s",
      "include_colab_link": true
    },
    "kernelspec": {
      "name": "python3",
      "display_name": "Python 3"
    },
    "language_info": {
      "name": "python"
    }
  },
  "cells": [
    {
      "cell_type": "markdown",
      "metadata": {
        "id": "view-in-github",
        "colab_type": "text"
      },
      "source": [
        "<a href=\"https://colab.research.google.com/github/RodrigodeFeo/8DTS/blob/main/AudioRec.ipynb\" target=\"_parent\"><img src=\"https://colab.research.google.com/assets/colab-badge.svg\" alt=\"Open In Colab\"/></a>"
      ]
    },
    {
      "cell_type": "code",
      "execution_count": 1,
      "metadata": {
        "colab": {
          "base_uri": "https://localhost:8080/"
        },
        "id": "8fXq_ojRIqu8",
        "outputId": "6bbb7325-6601-476d-dffe-8d3d712bc7e0"
      },
      "outputs": [
        {
          "output_type": "stream",
          "name": "stdout",
          "text": [
            "Reading package lists... Done\n",
            "Building dependency tree... Done\n",
            "Reading state information... Done\n",
            "The following additional packages will be installed:\n",
            "  espeak-data libespeak1 libportaudio2 libsonic0\n",
            "The following NEW packages will be installed:\n",
            "  espeak espeak-data libespeak1 libportaudio2 libsonic0\n",
            "0 upgraded, 5 newly installed, 0 to remove and 45 not upgraded.\n",
            "Need to get 1,382 kB of archives.\n",
            "After this operation, 3,178 kB of additional disk space will be used.\n",
            "Get:1 http://archive.ubuntu.com/ubuntu jammy/universe amd64 libportaudio2 amd64 19.6.0-1.1 [65.3 kB]\n",
            "Get:2 http://archive.ubuntu.com/ubuntu jammy/main amd64 libsonic0 amd64 0.2.0-11build1 [10.3 kB]\n",
            "Get:3 http://archive.ubuntu.com/ubuntu jammy/universe amd64 espeak-data amd64 1.48.15+dfsg-3 [1,085 kB]\n",
            "Get:4 http://archive.ubuntu.com/ubuntu jammy/universe amd64 libespeak1 amd64 1.48.15+dfsg-3 [156 kB]\n",
            "Get:5 http://archive.ubuntu.com/ubuntu jammy/universe amd64 espeak amd64 1.48.15+dfsg-3 [64.2 kB]\n",
            "Fetched 1,382 kB in 2s (608 kB/s)\n",
            "debconf: unable to initialize frontend: Dialog\n",
            "debconf: (No usable dialog-like program is installed, so the dialog based frontend cannot be used. at /usr/share/perl5/Debconf/FrontEnd/Dialog.pm line 78, <> line 5.)\n",
            "debconf: falling back to frontend: Readline\n",
            "debconf: unable to initialize frontend: Readline\n",
            "debconf: (This frontend requires a controlling tty.)\n",
            "debconf: falling back to frontend: Teletype\n",
            "dpkg-preconfigure: unable to re-open stdin: \n",
            "Selecting previously unselected package libportaudio2:amd64.\n",
            "(Reading database ... 121913 files and directories currently installed.)\n",
            "Preparing to unpack .../libportaudio2_19.6.0-1.1_amd64.deb ...\n",
            "Unpacking libportaudio2:amd64 (19.6.0-1.1) ...\n",
            "Selecting previously unselected package libsonic0:amd64.\n",
            "Preparing to unpack .../libsonic0_0.2.0-11build1_amd64.deb ...\n",
            "Unpacking libsonic0:amd64 (0.2.0-11build1) ...\n",
            "Selecting previously unselected package espeak-data:amd64.\n",
            "Preparing to unpack .../espeak-data_1.48.15+dfsg-3_amd64.deb ...\n",
            "Unpacking espeak-data:amd64 (1.48.15+dfsg-3) ...\n",
            "Selecting previously unselected package libespeak1:amd64.\n",
            "Preparing to unpack .../libespeak1_1.48.15+dfsg-3_amd64.deb ...\n",
            "Unpacking libespeak1:amd64 (1.48.15+dfsg-3) ...\n",
            "Selecting previously unselected package espeak.\n",
            "Preparing to unpack .../espeak_1.48.15+dfsg-3_amd64.deb ...\n",
            "Unpacking espeak (1.48.15+dfsg-3) ...\n",
            "Setting up libportaudio2:amd64 (19.6.0-1.1) ...\n",
            "Setting up libsonic0:amd64 (0.2.0-11build1) ...\n",
            "Setting up espeak-data:amd64 (1.48.15+dfsg-3) ...\n",
            "Setting up libespeak1:amd64 (1.48.15+dfsg-3) ...\n",
            "Setting up espeak (1.48.15+dfsg-3) ...\n",
            "Processing triggers for man-db (2.10.2-1) ...\n",
            "Processing triggers for libc-bin (2.35-0ubuntu3.4) ...\n",
            "/sbin/ldconfig.real: /usr/local/lib/libtbbbind_2_0.so.3 is not a symbolic link\n",
            "\n",
            "/sbin/ldconfig.real: /usr/local/lib/libtbbbind_2_5.so.3 is not a symbolic link\n",
            "\n",
            "/sbin/ldconfig.real: /usr/local/lib/libtbb.so.12 is not a symbolic link\n",
            "\n",
            "/sbin/ldconfig.real: /usr/local/lib/libtbbbind.so.3 is not a symbolic link\n",
            "\n",
            "/sbin/ldconfig.real: /usr/local/lib/libtbbmalloc_proxy.so.2 is not a symbolic link\n",
            "\n",
            "/sbin/ldconfig.real: /usr/local/lib/libtbbmalloc.so.2 is not a symbolic link\n",
            "\n"
          ]
        }
      ],
      "source": [
        "!sudo apt install espeak\n"
      ]
    },
    {
      "cell_type": "code",
      "source": [
        "!pip install pyttsx3"
      ],
      "metadata": {
        "colab": {
          "base_uri": "https://localhost:8080/"
        },
        "id": "7HqulfnuJDiR",
        "outputId": "979a9be5-170a-4078-b931-80e81a176fe2"
      },
      "execution_count": 2,
      "outputs": [
        {
          "output_type": "stream",
          "name": "stdout",
          "text": [
            "Collecting pyttsx3\n",
            "  Downloading pyttsx3-2.90-py3-none-any.whl (39 kB)\n",
            "Installing collected packages: pyttsx3\n",
            "Successfully installed pyttsx3-2.90\n"
          ]
        }
      ]
    },
    {
      "cell_type": "code",
      "source": [
        "import pyttsx3\n",
        "engine = pyttsx3.init()\n",
        "engine.setProperty('voice', 'brazil')\n",
        "engine.setProperty('rate', 140)\n",
        "engine.say(\"É bolacha e não biscoito\")\n",
        "engine.runAndWait()\n",
        "engine.stop()"
      ],
      "metadata": {
        "id": "cKY20782JSRQ"
      },
      "execution_count": 16,
      "outputs": []
    },
    {
      "cell_type": "code",
      "source": [
        "engine.save_to_file(\"Ainda to fazendo e voces estao me atrapalhando!\", \"hello.mp3\")\n",
        "#engine.runAndWait()"
      ],
      "metadata": {
        "id": "R8netKX0J6c_"
      },
      "execution_count": 28,
      "outputs": []
    },
    {
      "cell_type": "code",
      "source": [
        "from IPython.display import Audio\n",
        "Audio(\"hello.mp3\")"
      ],
      "metadata": {
        "colab": {
          "base_uri": "https://localhost:8080/",
          "height": 75
        },
        "id": "_9Nw19vmKAQf",
        "outputId": "9aabc4a5-d988-494c-ee80-8bdebd1ebeb1"
      },
      "execution_count": 29,
      "outputs": [
        {
          "output_type": "execute_result",
          "data": {
            "text/plain": [
              "<IPython.lib.display.Audio object>"
            ],
            "text/html": [
              "\n",
              "                <audio  controls=\"controls\" >\n",
              "                    <source src=\"data:audio/mpeg;base64,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\" type=\"audio/mpeg\" />\n",
              "                    Your browser does not support the audio element.\n",
              "                </audio>\n",
              "              "
            ]
          },
          "metadata": {},
          "execution_count": 29
        }
      ]
    },
    {
      "cell_type": "code",
      "source": [
        "!pip install filetype"
      ],
      "metadata": {
        "colab": {
          "base_uri": "https://localhost:8080/"
        },
        "id": "ITyi8IcgMmH8",
        "outputId": "a4774def-fc3e-492b-a709-5f87fcf67c53"
      },
      "execution_count": 25,
      "outputs": [
        {
          "output_type": "stream",
          "name": "stdout",
          "text": [
            "Requirement already satisfied: filetype in /usr/local/lib/python3.10/dist-packages (1.2.0)\n"
          ]
        }
      ]
    },
    {
      "cell_type": "code",
      "source": [
        "import filetype\n",
        "\n",
        "whatis = filetype.guess('hello.mp3')\n",
        "print(f'File extension: {whatis.extension}; File MIME type: {whatis.mime}')\n"
      ],
      "metadata": {
        "colab": {
          "base_uri": "https://localhost:8080/"
        },
        "id": "3DWXZF2xMs50",
        "outputId": "33690f26-1cbe-4633-eaa2-f31df9b758cf"
      },
      "execution_count": 26,
      "outputs": [
        {
          "output_type": "stream",
          "name": "stdout",
          "text": [
            "File extension: mp3; File MIME type: audio/mpeg\n"
          ]
        }
      ]
    },
    {
      "cell_type": "code",
      "source": [
        "import pyttsx3\n",
        "pyttseng = pyttsx3.init()\n",
        "pyttseng.setProperty('voice', 'brazil')\n",
        "pyttseng.setProperty('rate', 140)\n",
        "pyttseng.say(\"É bolacha e não biscoito\")\n",
        "#pyttseng.runAndWait()"
      ],
      "metadata": {
        "id": "wLVvChH6Ohg6"
      },
      "execution_count": 27,
      "outputs": []
    },
    {
      "cell_type": "code",
      "source": [
        "!pip install gTTS\n"
      ],
      "metadata": {
        "colab": {
          "base_uri": "https://localhost:8080/"
        },
        "id": "fZsa19y2PzNa",
        "outputId": "bfa6f120-a540-4aea-b128-b97d101875b4"
      },
      "execution_count": 30,
      "outputs": [
        {
          "output_type": "stream",
          "name": "stdout",
          "text": [
            "Collecting gTTS\n",
            "  Downloading gTTS-2.5.1-py3-none-any.whl (29 kB)\n",
            "Requirement already satisfied: requests<3,>=2.27 in /usr/local/lib/python3.10/dist-packages (from gTTS) (2.31.0)\n",
            "Requirement already satisfied: click<8.2,>=7.1 in /usr/local/lib/python3.10/dist-packages (from gTTS) (8.1.7)\n",
            "Requirement already satisfied: charset-normalizer<4,>=2 in /usr/local/lib/python3.10/dist-packages (from requests<3,>=2.27->gTTS) (3.3.2)\n",
            "Requirement already satisfied: idna<4,>=2.5 in /usr/local/lib/python3.10/dist-packages (from requests<3,>=2.27->gTTS) (3.7)\n",
            "Requirement already satisfied: urllib3<3,>=1.21.1 in /usr/local/lib/python3.10/dist-packages (from requests<3,>=2.27->gTTS) (2.0.7)\n",
            "Requirement already satisfied: certifi>=2017.4.17 in /usr/local/lib/python3.10/dist-packages (from requests<3,>=2.27->gTTS) (2024.6.2)\n",
            "Installing collected packages: gTTS\n",
            "Successfully installed gTTS-2.5.1\n"
          ]
        }
      ]
    },
    {
      "cell_type": "code",
      "source": [
        "from gtts import gTTS\n",
        "\n",
        "texto = \"Fala seus Burgues to com fome e quero ir almocar!\"\n",
        "\n",
        "tts = gTTS(text=texto, lang='pt')\n",
        "tts.save('hello.mp3')\n",
        "#Audio('hello.mp3')\n"
      ],
      "metadata": {
        "id": "VRdHYQiGPKSq"
      },
      "execution_count": 60,
      "outputs": []
    },
    {
      "cell_type": "code",
      "source": [
        "!pip install pydub"
      ],
      "metadata": {
        "colab": {
          "base_uri": "https://localhost:8080/"
        },
        "id": "hUCJj3sqQ3CY",
        "outputId": "c84ff2bb-44cd-41b2-b6c9-006c327e497e"
      },
      "execution_count": 37,
      "outputs": [
        {
          "output_type": "stream",
          "name": "stdout",
          "text": [
            "Collecting pydub\n",
            "  Downloading pydub-0.25.1-py2.py3-none-any.whl (32 kB)\n",
            "Installing collected packages: pydub\n",
            "Successfully installed pydub-0.25.1\n"
          ]
        }
      ]
    },
    {
      "cell_type": "code",
      "source": [
        "from pydub import AudioSegment\n",
        "from pydub.playback import play\n",
        "\n",
        "aus = AudioSegment.(\"hello_dub.mp3\")\n",
        "Audio(hello_dub.mp3)\n",
        "#"
      ],
      "metadata": {
        "colab": {
          "base_uri": "https://localhost:8080/",
          "height": 211
        },
        "id": "CVGWFV7LQhsR",
        "outputId": "ffff18b6-502e-4b3f-eb78-587072f0034c"
      },
      "execution_count": 40,
      "outputs": [
        {
          "output_type": "error",
          "ename": "AttributeError",
          "evalue": "type object 'AudioSegment' has no attribute 'save_to_file'",
          "traceback": [
            "\u001b[0;31m---------------------------------------------------------------------------\u001b[0m",
            "\u001b[0;31mAttributeError\u001b[0m                            Traceback (most recent call last)",
            "\u001b[0;32m<ipython-input-40-810a9ce7a52b>\u001b[0m in \u001b[0;36m<cell line: 4>\u001b[0;34m()\u001b[0m\n\u001b[1;32m      2\u001b[0m \u001b[0;32mfrom\u001b[0m \u001b[0mpydub\u001b[0m\u001b[0;34m.\u001b[0m\u001b[0mplayback\u001b[0m \u001b[0;32mimport\u001b[0m \u001b[0mplay\u001b[0m\u001b[0;34m\u001b[0m\u001b[0;34m\u001b[0m\u001b[0m\n\u001b[1;32m      3\u001b[0m \u001b[0;34m\u001b[0m\u001b[0m\n\u001b[0;32m----> 4\u001b[0;31m \u001b[0maus\u001b[0m \u001b[0;34m=\u001b[0m \u001b[0mAudioSegment\u001b[0m\u001b[0;34m.\u001b[0m\u001b[0msave_to_file\u001b[0m\u001b[0;34m(\u001b[0m\u001b[0;34m\"hello_dub.mp3\"\u001b[0m\u001b[0;34m)\u001b[0m\u001b[0;34m\u001b[0m\u001b[0;34m\u001b[0m\u001b[0m\n\u001b[0m\u001b[1;32m      5\u001b[0m \u001b[0mAudio\u001b[0m\u001b[0;34m(\u001b[0m\u001b[0;34m'hello_dub.mp3'\u001b[0m\u001b[0;34m)\u001b[0m\u001b[0;34m\u001b[0m\u001b[0;34m\u001b[0m\u001b[0m\n\u001b[1;32m      6\u001b[0m \u001b[0;31m#\u001b[0m\u001b[0;34m\u001b[0m\u001b[0;34m\u001b[0m\u001b[0m\n",
            "\u001b[0;31mAttributeError\u001b[0m: type object 'AudioSegment' has no attribute 'save_to_file'"
          ]
        }
      ]
    },
    {
      "cell_type": "code",
      "source": [
        "import io\n",
        "bytesfile = io.BytesIO()\n",
        "textoInMem = \"Henrique deixa de ser nerdola!\"\n",
        "audio = gTTS(text=textoInMem, lang='pt')\n",
        "audio.write_to_fp(bytesfile)\n",
        "bytesfile.seek(0)\n",
        "Audio(bytesfile.read(),autoplay=True)\n"
      ],
      "metadata": {
        "colab": {
          "base_uri": "https://localhost:8080/",
          "height": 75
        },
        "id": "1Tzd3tV7SFxY",
        "outputId": "0e976f8a-177a-44c8-9520-44709b5a37ee"
      },
      "execution_count": 55,
      "outputs": [
        {
          "output_type": "execute_result",
          "data": {
            "text/plain": [
              "<IPython.lib.display.Audio object>"
            ],
            "text/html": [
              "\n",
              "                <audio  controls=\"controls\" autoplay=\"autoplay\">\n",
              "                    <source src=\"data:audio/wav;base64,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\" type=\"audio/wav\" />\n",
              "                    Your browser does not support the audio element.\n",
              "                </audio>\n",
              "              "
            ]
          },
          "metadata": {},
          "execution_count": 55
        }
      ]
    },
    {
      "cell_type": "code",
      "source": [
        "import io\n",
        "from gtts import gTTS\n",
        "from pydub import AudioSegment\n",
        "from IPython.display import Audio\n",
        "\n",
        "def speak(texto, lang, voz='default'):\n",
        "    bytesfile = io.BytesIO()\n",
        "    if voz == 'male':\n",
        "        lang += '_male'\n",
        "    audio = gTTS(text=texto, lang=lang, )\n",
        "    audio.write_to_fp(bytesfile)\n",
        "    bytesfile.seek(0)\n",
        "    return Audio(bytesfile.read(), autoplay=True)\n"
      ],
      "metadata": {
        "id": "J4_iJoNdSmjQ"
      },
      "execution_count": 67,
      "outputs": []
    },
    {
      "cell_type": "code",
      "source": [
        "lang = 'pt'\n",
        "texto = \"Oi mundo!\"\n",
        "speak(texto,lang)"
      ],
      "metadata": {
        "colab": {
          "base_uri": "https://localhost:8080/",
          "height": 75
        },
        "id": "rDm1LbIZS1UO",
        "outputId": "a0f07040-f925-4e57-b763-4491f20b0984"
      },
      "execution_count": 68,
      "outputs": [
        {
          "output_type": "execute_result",
          "data": {
            "text/plain": [
              "<IPython.lib.display.Audio object>"
            ],
            "text/html": [
              "\n",
              "                <audio  controls=\"controls\" autoplay=\"autoplay\">\n",
              "                    <source src=\"data:audio/wav;base64,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\" type=\"audio/wav\" />\n",
              "                    Your browser does not support the audio element.\n",
              "                </audio>\n",
              "              "
            ]
          },
          "metadata": {},
          "execution_count": 68
        }
      ]
    }
  ]
}