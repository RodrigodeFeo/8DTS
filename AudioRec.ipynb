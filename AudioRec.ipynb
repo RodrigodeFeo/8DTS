{
  "nbformat": 4,
  "nbformat_minor": 0,
  "metadata": {
    "colab": {
      "provenance": [],
      "authorship_tag": "ABX9TyOEVmNOi13tb+wtigUit98i",
      "include_colab_link": true
    },
    "kernelspec": {
      "name": "python3",
      "display_name": "Python 3"
    },
    "language_info": {
      "name": "python"
    }
  },
  "cells": [
    {
      "cell_type": "markdown",
      "metadata": {
        "id": "view-in-github",
        "colab_type": "text"
      },
      "source": [
        "<a href=\"https://colab.research.google.com/github/RodrigodeFeo/8DTS/blob/main/AudioRec.ipynb\" target=\"_parent\"><img src=\"https://colab.research.google.com/assets/colab-badge.svg\" alt=\"Open In Colab\"/></a>"
      ]
    },
    {
      "cell_type": "code",
      "execution_count": 1,
      "metadata": {
        "colab": {
          "base_uri": "https://localhost:8080/"
        },
        "id": "8fXq_ojRIqu8",
        "outputId": "edb1dfa1-ae7d-4f8b-ea8a-070360a8fcd1"
      },
      "outputs": [
        {
          "output_type": "stream",
          "name": "stdout",
          "text": [
            "Reading package lists... Done\n",
            "Building dependency tree... Done\n",
            "Reading state information... Done\n",
            "espeak is already the newest version (1.48.15+dfsg-3).\n",
            "0 upgraded, 0 newly installed, 0 to remove and 45 not upgraded.\n"
          ]
        }
      ],
      "source": [
        "!sudo apt install espeak\n"
      ]
    },
    {
      "cell_type": "code",
      "source": [
        "!pip install pyttsx3"
      ],
      "metadata": {
        "colab": {
          "base_uri": "https://localhost:8080/"
        },
        "id": "7HqulfnuJDiR",
        "outputId": "993eee21-52bb-4c29-ef0c-8fa20d8ada22"
      },
      "execution_count": 2,
      "outputs": [
        {
          "output_type": "stream",
          "name": "stdout",
          "text": [
            "Requirement already satisfied: pyttsx3 in /usr/local/lib/python3.10/dist-packages (2.90)\n"
          ]
        }
      ]
    },
    {
      "cell_type": "code",
      "source": [
        "import pyttsx3\n",
        "engine = pyttsx3.init()\n",
        "engine.setProperty('voice', 'brazil')\n",
        "engine.setProperty('rate', 140)\n",
        "#engine.say(\"É bolacha e não biscoito\")\n",
        "#engine.runAndWait()\n",
        "engine.stop()"
      ],
      "metadata": {
        "id": "cKY20782JSRQ"
      },
      "execution_count": 19,
      "outputs": []
    },
    {
      "cell_type": "code",
      "source": [
        "engine.save_to_file(\"Falta muito pro almoço? To com fome!\", \"hello.mp3\")\n",
        "#engine.runAndWait()"
      ],
      "metadata": {
        "id": "R8netKX0J6c_"
      },
      "execution_count": 20,
      "outputs": []
    },
    {
      "cell_type": "code",
      "source": [
        "from IPython.display import Audio\n",
        "Audio(\"hello.mp3\")"
      ],
      "metadata": {
        "colab": {
          "base_uri": "https://localhost:8080/",
          "height": 75
        },
        "id": "_9Nw19vmKAQf",
        "outputId": "027c5784-a761-4457-d4c8-6405f0de52f5"
      },
      "execution_count": 21,
      "outputs": [
        {
          "output_type": "execute_result",
          "data": {
            "text/plain": [
              "<IPython.lib.display.Audio object>"
            ],
            "text/html": [
              "\n",
              "                <audio  controls=\"controls\" >\n",
              "                    <source src=\"data:audio/mpeg;base64,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\" type=\"audio/mpeg\" />\n",
              "                    Your browser does not support the audio element.\n",
              "                </audio>\n",
              "              "
            ]
          },
          "metadata": {},
          "execution_count": 21
        }
      ]
    },
    {
      "cell_type": "code",
      "source": [
        "!pip install filetype"
      ],
      "metadata": {
        "colab": {
          "base_uri": "https://localhost:8080/"
        },
        "id": "ITyi8IcgMmH8",
        "outputId": "50b42374-609d-4f26-bfef-b5d5a08480f3"
      },
      "execution_count": 22,
      "outputs": [
        {
          "output_type": "stream",
          "name": "stdout",
          "text": [
            "Collecting filetype\n",
            "  Downloading filetype-1.2.0-py2.py3-none-any.whl (19 kB)\n",
            "Installing collected packages: filetype\n",
            "Successfully installed filetype-1.2.0\n"
          ]
        }
      ]
    },
    {
      "cell_type": "code",
      "source": [
        "import filetype\n",
        "\n",
        "whatis = filetype.guess('hello.mp3')\n",
        "print(f'File extension: {whatis.extension}; File MIME type: {whatis.mime}')\n"
      ],
      "metadata": {
        "colab": {
          "base_uri": "https://localhost:8080/"
        },
        "id": "3DWXZF2xMs50",
        "outputId": "cb36aa07-4d36-4e8f-aa30-308c5c53ee48"
      },
      "execution_count": 24,
      "outputs": [
        {
          "output_type": "stream",
          "name": "stdout",
          "text": [
            "File extension: mp3; File MIME type: audio/mpeg\n"
          ]
        }
      ]
    }
  ]
}