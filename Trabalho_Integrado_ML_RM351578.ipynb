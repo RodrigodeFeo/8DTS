{
  "nbformat": 4,
  "nbformat_minor": 0,
  "metadata": {
    "colab": {
      "provenance": [],
      "authorship_tag": "ABX9TyOO3p7Y3K+86BucichIusyL",
      "include_colab_link": true
    },
    "kernelspec": {
      "name": "python3",
      "display_name": "Python 3"
    },
    "language_info": {
      "name": "python"
    }
  },
  "cells": [
    {
      "cell_type": "markdown",
      "metadata": {
        "id": "view-in-github",
        "colab_type": "text"
      },
      "source": [
        "<a href=\"https://colab.research.google.com/github/RodrigodeFeo/8DTS/blob/main/Trabalho_Integrado_ML_RM351578.ipynb\" target=\"_parent\"><img src=\"https://colab.research.google.com/assets/colab-badge.svg\" alt=\"Open In Colab\"/></a>"
      ]
    },
    {
      "cell_type": "markdown",
      "source": [
        "Trabalho Integrado Machine Learn\n",
        "1.   RM351578 - Rodrigo de Feo Vieira\n",
        "2.   RM\n",
        "3.   RM\n",
        "4.   RM"
      ],
      "metadata": {
        "id": "fsdV8Uys8pxy"
      }
    },
    {
      "cell_type": "markdown",
      "source": [
        "Vamos iniciar com os imports"
      ],
      "metadata": {
        "id": "1KzEQIGz8yzy"
      }
    },
    {
      "cell_type": "code",
      "source": [
        "#Importando as bibliotecas\n",
        "import pandas as pd\n",
        "import matplotlib.pyplot as plt\n",
        "from sklearn.model_selection import train_test_split\n",
        "from sklearn.preprocessing import StandardScaler\n",
        "from sklearn.metrics import classification_report, confusion_matrix\n",
        "from sklearn.ensemble import RandomForestClassifier\n",
        "from sklearn.preprocessing import StandardScaler, OneHotEncoder\n",
        "from sklearn.compose import ColumnTransformer\n",
        "from sklearn.pipeline import Pipeline"
      ],
      "metadata": {
        "id": "eCJfkO2x9D-Y"
      },
      "execution_count": 1,
      "outputs": []
    },
    {
      "cell_type": "markdown",
      "source": [
        "Efetuando a leitura da base"
      ],
      "metadata": {
        "id": "n1kQXdaZ9iax"
      }
    },
    {
      "cell_type": "code",
      "source": [
        "#Efetuando a leitura da base\n",
        "# Carregar um arquivo CSV do sistema local\n",
        "from google.colab import files\n",
        "uploaded = files.upload()\n",
        "\n",
        "# Selecione o nome do arquivo CSV que você carregou\n",
        "filename = list(uploaded.keys())[0]\n",
        "\n",
        "# Carregar o arquivo CSV em um DataFrame do pandas\n",
        "df_cliente_score = pd.read_csv(filename)\n",
        "\n",
        "# Exibir as primeiras linhas do DataFrame\n",
        "print(df_cliente_score.head())\n"
      ],
      "metadata": {
        "colab": {
          "base_uri": "https://localhost:8080/",
          "height": 820
        },
        "id": "NYm0oWxy9NLJ",
        "outputId": "b2622a2a-06e3-4d19-97d9-07583e4c616d"
      },
      "execution_count": 2,
      "outputs": [
        {
          "output_type": "display_data",
          "data": {
            "text/plain": [
              "<IPython.core.display.HTML object>"
            ],
            "text/html": [
              "\n",
              "     <input type=\"file\" id=\"files-ad67fa3b-bb6d-4058-8024-b9ebb4afbbf4\" name=\"files[]\" multiple disabled\n",
              "        style=\"border:none\" />\n",
              "     <output id=\"result-ad67fa3b-bb6d-4058-8024-b9ebb4afbbf4\">\n",
              "      Upload widget is only available when the cell has been executed in the\n",
              "      current browser session. Please rerun this cell to enable.\n",
              "      </output>\n",
              "      <script>// Copyright 2017 Google LLC\n",
              "//\n",
              "// Licensed under the Apache License, Version 2.0 (the \"License\");\n",
              "// you may not use this file except in compliance with the License.\n",
              "// You may obtain a copy of the License at\n",
              "//\n",
              "//      http://www.apache.org/licenses/LICENSE-2.0\n",
              "//\n",
              "// Unless required by applicable law or agreed to in writing, software\n",
              "// distributed under the License is distributed on an \"AS IS\" BASIS,\n",
              "// WITHOUT WARRANTIES OR CONDITIONS OF ANY KIND, either express or implied.\n",
              "// See the License for the specific language governing permissions and\n",
              "// limitations under the License.\n",
              "\n",
              "/**\n",
              " * @fileoverview Helpers for google.colab Python module.\n",
              " */\n",
              "(function(scope) {\n",
              "function span(text, styleAttributes = {}) {\n",
              "  const element = document.createElement('span');\n",
              "  element.textContent = text;\n",
              "  for (const key of Object.keys(styleAttributes)) {\n",
              "    element.style[key] = styleAttributes[key];\n",
              "  }\n",
              "  return element;\n",
              "}\n",
              "\n",
              "// Max number of bytes which will be uploaded at a time.\n",
              "const MAX_PAYLOAD_SIZE = 100 * 1024;\n",
              "\n",
              "function _uploadFiles(inputId, outputId) {\n",
              "  const steps = uploadFilesStep(inputId, outputId);\n",
              "  const outputElement = document.getElementById(outputId);\n",
              "  // Cache steps on the outputElement to make it available for the next call\n",
              "  // to uploadFilesContinue from Python.\n",
              "  outputElement.steps = steps;\n",
              "\n",
              "  return _uploadFilesContinue(outputId);\n",
              "}\n",
              "\n",
              "// This is roughly an async generator (not supported in the browser yet),\n",
              "// where there are multiple asynchronous steps and the Python side is going\n",
              "// to poll for completion of each step.\n",
              "// This uses a Promise to block the python side on completion of each step,\n",
              "// then passes the result of the previous step as the input to the next step.\n",
              "function _uploadFilesContinue(outputId) {\n",
              "  const outputElement = document.getElementById(outputId);\n",
              "  const steps = outputElement.steps;\n",
              "\n",
              "  const next = steps.next(outputElement.lastPromiseValue);\n",
              "  return Promise.resolve(next.value.promise).then((value) => {\n",
              "    // Cache the last promise value to make it available to the next\n",
              "    // step of the generator.\n",
              "    outputElement.lastPromiseValue = value;\n",
              "    return next.value.response;\n",
              "  });\n",
              "}\n",
              "\n",
              "/**\n",
              " * Generator function which is called between each async step of the upload\n",
              " * process.\n",
              " * @param {string} inputId Element ID of the input file picker element.\n",
              " * @param {string} outputId Element ID of the output display.\n",
              " * @return {!Iterable<!Object>} Iterable of next steps.\n",
              " */\n",
              "function* uploadFilesStep(inputId, outputId) {\n",
              "  const inputElement = document.getElementById(inputId);\n",
              "  inputElement.disabled = false;\n",
              "\n",
              "  const outputElement = document.getElementById(outputId);\n",
              "  outputElement.innerHTML = '';\n",
              "\n",
              "  const pickedPromise = new Promise((resolve) => {\n",
              "    inputElement.addEventListener('change', (e) => {\n",
              "      resolve(e.target.files);\n",
              "    });\n",
              "  });\n",
              "\n",
              "  const cancel = document.createElement('button');\n",
              "  inputElement.parentElement.appendChild(cancel);\n",
              "  cancel.textContent = 'Cancel upload';\n",
              "  const cancelPromise = new Promise((resolve) => {\n",
              "    cancel.onclick = () => {\n",
              "      resolve(null);\n",
              "    };\n",
              "  });\n",
              "\n",
              "  // Wait for the user to pick the files.\n",
              "  const files = yield {\n",
              "    promise: Promise.race([pickedPromise, cancelPromise]),\n",
              "    response: {\n",
              "      action: 'starting',\n",
              "    }\n",
              "  };\n",
              "\n",
              "  cancel.remove();\n",
              "\n",
              "  // Disable the input element since further picks are not allowed.\n",
              "  inputElement.disabled = true;\n",
              "\n",
              "  if (!files) {\n",
              "    return {\n",
              "      response: {\n",
              "        action: 'complete',\n",
              "      }\n",
              "    };\n",
              "  }\n",
              "\n",
              "  for (const file of files) {\n",
              "    const li = document.createElement('li');\n",
              "    li.append(span(file.name, {fontWeight: 'bold'}));\n",
              "    li.append(span(\n",
              "        `(${file.type || 'n/a'}) - ${file.size} bytes, ` +\n",
              "        `last modified: ${\n",
              "            file.lastModifiedDate ? file.lastModifiedDate.toLocaleDateString() :\n",
              "                                    'n/a'} - `));\n",
              "    const percent = span('0% done');\n",
              "    li.appendChild(percent);\n",
              "\n",
              "    outputElement.appendChild(li);\n",
              "\n",
              "    const fileDataPromise = new Promise((resolve) => {\n",
              "      const reader = new FileReader();\n",
              "      reader.onload = (e) => {\n",
              "        resolve(e.target.result);\n",
              "      };\n",
              "      reader.readAsArrayBuffer(file);\n",
              "    });\n",
              "    // Wait for the data to be ready.\n",
              "    let fileData = yield {\n",
              "      promise: fileDataPromise,\n",
              "      response: {\n",
              "        action: 'continue',\n",
              "      }\n",
              "    };\n",
              "\n",
              "    // Use a chunked sending to avoid message size limits. See b/62115660.\n",
              "    let position = 0;\n",
              "    do {\n",
              "      const length = Math.min(fileData.byteLength - position, MAX_PAYLOAD_SIZE);\n",
              "      const chunk = new Uint8Array(fileData, position, length);\n",
              "      position += length;\n",
              "\n",
              "      const base64 = btoa(String.fromCharCode.apply(null, chunk));\n",
              "      yield {\n",
              "        response: {\n",
              "          action: 'append',\n",
              "          file: file.name,\n",
              "          data: base64,\n",
              "        },\n",
              "      };\n",
              "\n",
              "      let percentDone = fileData.byteLength === 0 ?\n",
              "          100 :\n",
              "          Math.round((position / fileData.byteLength) * 100);\n",
              "      percent.textContent = `${percentDone}% done`;\n",
              "\n",
              "    } while (position < fileData.byteLength);\n",
              "  }\n",
              "\n",
              "  // All done.\n",
              "  yield {\n",
              "    response: {\n",
              "      action: 'complete',\n",
              "    }\n",
              "  };\n",
              "}\n",
              "\n",
              "scope.google = scope.google || {};\n",
              "scope.google.colab = scope.google.colab || {};\n",
              "scope.google.colab._files = {\n",
              "  _uploadFiles,\n",
              "  _uploadFilesContinue,\n",
              "};\n",
              "})(self);\n",
              "</script> "
            ]
          },
          "metadata": {}
        },
        {
          "output_type": "stream",
          "name": "stdout",
          "text": [
            "Saving test.csv to test.csv\n",
            "       ID Customer_ID      Month             Name  Age          SSN  \\\n",
            "0  0x160a   CUS_0xd40  September    Aaron Maashoh   23  821-00-0265   \n",
            "1  0x160b   CUS_0xd40    October    Aaron Maashoh   24  821-00-0265   \n",
            "2  0x160c   CUS_0xd40   November    Aaron Maashoh   24  821-00-0265   \n",
            "3  0x160d   CUS_0xd40   December    Aaron Maashoh  24_  821-00-0265   \n",
            "4  0x1616  CUS_0x21b1  September  Rick Rothackerj   28  004-07-5839   \n",
            "\n",
            "  Occupation Annual_Income  Monthly_Inhand_Salary  Num_Bank_Accounts  ...  \\\n",
            "0  Scientist      19114.12            1824.843333                  3  ...   \n",
            "1  Scientist      19114.12            1824.843333                  3  ...   \n",
            "2  Scientist      19114.12            1824.843333                  3  ...   \n",
            "3  Scientist      19114.12                    NaN                  3  ...   \n",
            "4    _______      34847.84            3037.986667                  2  ...   \n",
            "\n",
            "   Num_Credit_Inquiries  Credit_Mix Outstanding_Debt Credit_Utilization_Ratio  \\\n",
            "0                2022.0        Good           809.98                35.030402   \n",
            "1                   4.0        Good           809.98                33.053114   \n",
            "2                   4.0        Good           809.98                33.811894   \n",
            "3                   4.0        Good           809.98                32.430559   \n",
            "4                   5.0        Good           605.03                25.926822   \n",
            "\n",
            "       Credit_History_Age Payment_of_Min_Amount Total_EMI_per_month  \\\n",
            "0   22 Years and 9 Months                    No           49.574949   \n",
            "1  22 Years and 10 Months                    No           49.574949   \n",
            "2                     NaN                    No           49.574949   \n",
            "3   23 Years and 0 Months                    No           49.574949   \n",
            "4   27 Years and 3 Months                    No           18.816215   \n",
            "\n",
            "   Amount_invested_monthly                 Payment_Behaviour  \\\n",
            "0       236.64268203272135    Low_spent_Small_value_payments   \n",
            "1       21.465380264657146  High_spent_Medium_value_payments   \n",
            "2       148.23393788500925   Low_spent_Medium_value_payments   \n",
            "3        39.08251089460281  High_spent_Medium_value_payments   \n",
            "4       39.684018417945296   High_spent_Large_value_payments   \n",
            "\n",
            "      Monthly_Balance  \n",
            "0  186.26670208571772  \n",
            "1  361.44400385378196  \n",
            "2  264.67544623342997  \n",
            "3  343.82687322383634  \n",
            "4   485.2984336755923  \n",
            "\n",
            "[5 rows x 27 columns]\n"
          ]
        }
      ]
    },
    {
      "cell_type": "markdown",
      "source": [
        "Agora iremos comecar a nossa analise do dataset"
      ],
      "metadata": {
        "id": "5xp-kl_0_MCQ"
      }
    },
    {
      "cell_type": "code",
      "source": [
        "#Exibindo os dados\n",
        "df_cliente_score.head()"
      ],
      "metadata": {
        "id": "RvenI52j_Pnn",
        "colab": {
          "base_uri": "https://localhost:8080/",
          "height": 429
        },
        "outputId": "5f718e44-2096-42b5-ca38-ea52322ca16a"
      },
      "execution_count": 3,
      "outputs": [
        {
          "output_type": "execute_result",
          "data": {
            "text/plain": [
              "       ID Customer_ID      Month             Name  Age          SSN  \\\n",
              "0  0x160a   CUS_0xd40  September    Aaron Maashoh   23  821-00-0265   \n",
              "1  0x160b   CUS_0xd40    October    Aaron Maashoh   24  821-00-0265   \n",
              "2  0x160c   CUS_0xd40   November    Aaron Maashoh   24  821-00-0265   \n",
              "3  0x160d   CUS_0xd40   December    Aaron Maashoh  24_  821-00-0265   \n",
              "4  0x1616  CUS_0x21b1  September  Rick Rothackerj   28  004-07-5839   \n",
              "\n",
              "  Occupation Annual_Income  Monthly_Inhand_Salary  Num_Bank_Accounts  ...  \\\n",
              "0  Scientist      19114.12            1824.843333                  3  ...   \n",
              "1  Scientist      19114.12            1824.843333                  3  ...   \n",
              "2  Scientist      19114.12            1824.843333                  3  ...   \n",
              "3  Scientist      19114.12                    NaN                  3  ...   \n",
              "4    _______      34847.84            3037.986667                  2  ...   \n",
              "\n",
              "   Num_Credit_Inquiries  Credit_Mix Outstanding_Debt Credit_Utilization_Ratio  \\\n",
              "0                2022.0        Good           809.98                35.030402   \n",
              "1                   4.0        Good           809.98                33.053114   \n",
              "2                   4.0        Good           809.98                33.811894   \n",
              "3                   4.0        Good           809.98                32.430559   \n",
              "4                   5.0        Good           605.03                25.926822   \n",
              "\n",
              "       Credit_History_Age Payment_of_Min_Amount Total_EMI_per_month  \\\n",
              "0   22 Years and 9 Months                    No           49.574949   \n",
              "1  22 Years and 10 Months                    No           49.574949   \n",
              "2                     NaN                    No           49.574949   \n",
              "3   23 Years and 0 Months                    No           49.574949   \n",
              "4   27 Years and 3 Months                    No           18.816215   \n",
              "\n",
              "   Amount_invested_monthly                 Payment_Behaviour  \\\n",
              "0       236.64268203272135    Low_spent_Small_value_payments   \n",
              "1       21.465380264657146  High_spent_Medium_value_payments   \n",
              "2       148.23393788500925   Low_spent_Medium_value_payments   \n",
              "3        39.08251089460281  High_spent_Medium_value_payments   \n",
              "4       39.684018417945296   High_spent_Large_value_payments   \n",
              "\n",
              "      Monthly_Balance  \n",
              "0  186.26670208571772  \n",
              "1  361.44400385378196  \n",
              "2  264.67544623342997  \n",
              "3  343.82687322383634  \n",
              "4   485.2984336755923  \n",
              "\n",
              "[5 rows x 27 columns]"
            ],
            "text/html": [
              "\n",
              "  <div id=\"df-d0914d73-ac66-4e52-9e59-276a3d9e49fc\" class=\"colab-df-container\">\n",
              "    <div>\n",
              "<style scoped>\n",
              "    .dataframe tbody tr th:only-of-type {\n",
              "        vertical-align: middle;\n",
              "    }\n",
              "\n",
              "    .dataframe tbody tr th {\n",
              "        vertical-align: top;\n",
              "    }\n",
              "\n",
              "    .dataframe thead th {\n",
              "        text-align: right;\n",
              "    }\n",
              "</style>\n",
              "<table border=\"1\" class=\"dataframe\">\n",
              "  <thead>\n",
              "    <tr style=\"text-align: right;\">\n",
              "      <th></th>\n",
              "      <th>ID</th>\n",
              "      <th>Customer_ID</th>\n",
              "      <th>Month</th>\n",
              "      <th>Name</th>\n",
              "      <th>Age</th>\n",
              "      <th>SSN</th>\n",
              "      <th>Occupation</th>\n",
              "      <th>Annual_Income</th>\n",
              "      <th>Monthly_Inhand_Salary</th>\n",
              "      <th>Num_Bank_Accounts</th>\n",
              "      <th>...</th>\n",
              "      <th>Num_Credit_Inquiries</th>\n",
              "      <th>Credit_Mix</th>\n",
              "      <th>Outstanding_Debt</th>\n",
              "      <th>Credit_Utilization_Ratio</th>\n",
              "      <th>Credit_History_Age</th>\n",
              "      <th>Payment_of_Min_Amount</th>\n",
              "      <th>Total_EMI_per_month</th>\n",
              "      <th>Amount_invested_monthly</th>\n",
              "      <th>Payment_Behaviour</th>\n",
              "      <th>Monthly_Balance</th>\n",
              "    </tr>\n",
              "  </thead>\n",
              "  <tbody>\n",
              "    <tr>\n",
              "      <th>0</th>\n",
              "      <td>0x160a</td>\n",
              "      <td>CUS_0xd40</td>\n",
              "      <td>September</td>\n",
              "      <td>Aaron Maashoh</td>\n",
              "      <td>23</td>\n",
              "      <td>821-00-0265</td>\n",
              "      <td>Scientist</td>\n",
              "      <td>19114.12</td>\n",
              "      <td>1824.843333</td>\n",
              "      <td>3</td>\n",
              "      <td>...</td>\n",
              "      <td>2022.0</td>\n",
              "      <td>Good</td>\n",
              "      <td>809.98</td>\n",
              "      <td>35.030402</td>\n",
              "      <td>22 Years and 9 Months</td>\n",
              "      <td>No</td>\n",
              "      <td>49.574949</td>\n",
              "      <td>236.64268203272135</td>\n",
              "      <td>Low_spent_Small_value_payments</td>\n",
              "      <td>186.26670208571772</td>\n",
              "    </tr>\n",
              "    <tr>\n",
              "      <th>1</th>\n",
              "      <td>0x160b</td>\n",
              "      <td>CUS_0xd40</td>\n",
              "      <td>October</td>\n",
              "      <td>Aaron Maashoh</td>\n",
              "      <td>24</td>\n",
              "      <td>821-00-0265</td>\n",
              "      <td>Scientist</td>\n",
              "      <td>19114.12</td>\n",
              "      <td>1824.843333</td>\n",
              "      <td>3</td>\n",
              "      <td>...</td>\n",
              "      <td>4.0</td>\n",
              "      <td>Good</td>\n",
              "      <td>809.98</td>\n",
              "      <td>33.053114</td>\n",
              "      <td>22 Years and 10 Months</td>\n",
              "      <td>No</td>\n",
              "      <td>49.574949</td>\n",
              "      <td>21.465380264657146</td>\n",
              "      <td>High_spent_Medium_value_payments</td>\n",
              "      <td>361.44400385378196</td>\n",
              "    </tr>\n",
              "    <tr>\n",
              "      <th>2</th>\n",
              "      <td>0x160c</td>\n",
              "      <td>CUS_0xd40</td>\n",
              "      <td>November</td>\n",
              "      <td>Aaron Maashoh</td>\n",
              "      <td>24</td>\n",
              "      <td>821-00-0265</td>\n",
              "      <td>Scientist</td>\n",
              "      <td>19114.12</td>\n",
              "      <td>1824.843333</td>\n",
              "      <td>3</td>\n",
              "      <td>...</td>\n",
              "      <td>4.0</td>\n",
              "      <td>Good</td>\n",
              "      <td>809.98</td>\n",
              "      <td>33.811894</td>\n",
              "      <td>NaN</td>\n",
              "      <td>No</td>\n",
              "      <td>49.574949</td>\n",
              "      <td>148.23393788500925</td>\n",
              "      <td>Low_spent_Medium_value_payments</td>\n",
              "      <td>264.67544623342997</td>\n",
              "    </tr>\n",
              "    <tr>\n",
              "      <th>3</th>\n",
              "      <td>0x160d</td>\n",
              "      <td>CUS_0xd40</td>\n",
              "      <td>December</td>\n",
              "      <td>Aaron Maashoh</td>\n",
              "      <td>24_</td>\n",
              "      <td>821-00-0265</td>\n",
              "      <td>Scientist</td>\n",
              "      <td>19114.12</td>\n",
              "      <td>NaN</td>\n",
              "      <td>3</td>\n",
              "      <td>...</td>\n",
              "      <td>4.0</td>\n",
              "      <td>Good</td>\n",
              "      <td>809.98</td>\n",
              "      <td>32.430559</td>\n",
              "      <td>23 Years and 0 Months</td>\n",
              "      <td>No</td>\n",
              "      <td>49.574949</td>\n",
              "      <td>39.08251089460281</td>\n",
              "      <td>High_spent_Medium_value_payments</td>\n",
              "      <td>343.82687322383634</td>\n",
              "    </tr>\n",
              "    <tr>\n",
              "      <th>4</th>\n",
              "      <td>0x1616</td>\n",
              "      <td>CUS_0x21b1</td>\n",
              "      <td>September</td>\n",
              "      <td>Rick Rothackerj</td>\n",
              "      <td>28</td>\n",
              "      <td>004-07-5839</td>\n",
              "      <td>_______</td>\n",
              "      <td>34847.84</td>\n",
              "      <td>3037.986667</td>\n",
              "      <td>2</td>\n",
              "      <td>...</td>\n",
              "      <td>5.0</td>\n",
              "      <td>Good</td>\n",
              "      <td>605.03</td>\n",
              "      <td>25.926822</td>\n",
              "      <td>27 Years and 3 Months</td>\n",
              "      <td>No</td>\n",
              "      <td>18.816215</td>\n",
              "      <td>39.684018417945296</td>\n",
              "      <td>High_spent_Large_value_payments</td>\n",
              "      <td>485.2984336755923</td>\n",
              "    </tr>\n",
              "  </tbody>\n",
              "</table>\n",
              "<p>5 rows × 27 columns</p>\n",
              "</div>\n",
              "    <div class=\"colab-df-buttons\">\n",
              "\n",
              "  <div class=\"colab-df-container\">\n",
              "    <button class=\"colab-df-convert\" onclick=\"convertToInteractive('df-d0914d73-ac66-4e52-9e59-276a3d9e49fc')\"\n",
              "            title=\"Convert this dataframe to an interactive table.\"\n",
              "            style=\"display:none;\">\n",
              "\n",
              "  <svg xmlns=\"http://www.w3.org/2000/svg\" height=\"24px\" viewBox=\"0 -960 960 960\">\n",
              "    <path d=\"M120-120v-720h720v720H120Zm60-500h600v-160H180v160Zm220 220h160v-160H400v160Zm0 220h160v-160H400v160ZM180-400h160v-160H180v160Zm440 0h160v-160H620v160ZM180-180h160v-160H180v160Zm440 0h160v-160H620v160Z\"/>\n",
              "  </svg>\n",
              "    </button>\n",
              "\n",
              "  <style>\n",
              "    .colab-df-container {\n",
              "      display:flex;\n",
              "      gap: 12px;\n",
              "    }\n",
              "\n",
              "    .colab-df-convert {\n",
              "      background-color: #E8F0FE;\n",
              "      border: none;\n",
              "      border-radius: 50%;\n",
              "      cursor: pointer;\n",
              "      display: none;\n",
              "      fill: #1967D2;\n",
              "      height: 32px;\n",
              "      padding: 0 0 0 0;\n",
              "      width: 32px;\n",
              "    }\n",
              "\n",
              "    .colab-df-convert:hover {\n",
              "      background-color: #E2EBFA;\n",
              "      box-shadow: 0px 1px 2px rgba(60, 64, 67, 0.3), 0px 1px 3px 1px rgba(60, 64, 67, 0.15);\n",
              "      fill: #174EA6;\n",
              "    }\n",
              "\n",
              "    .colab-df-buttons div {\n",
              "      margin-bottom: 4px;\n",
              "    }\n",
              "\n",
              "    [theme=dark] .colab-df-convert {\n",
              "      background-color: #3B4455;\n",
              "      fill: #D2E3FC;\n",
              "    }\n",
              "\n",
              "    [theme=dark] .colab-df-convert:hover {\n",
              "      background-color: #434B5C;\n",
              "      box-shadow: 0px 1px 3px 1px rgba(0, 0, 0, 0.15);\n",
              "      filter: drop-shadow(0px 1px 2px rgba(0, 0, 0, 0.3));\n",
              "      fill: #FFFFFF;\n",
              "    }\n",
              "  </style>\n",
              "\n",
              "    <script>\n",
              "      const buttonEl =\n",
              "        document.querySelector('#df-d0914d73-ac66-4e52-9e59-276a3d9e49fc button.colab-df-convert');\n",
              "      buttonEl.style.display =\n",
              "        google.colab.kernel.accessAllowed ? 'block' : 'none';\n",
              "\n",
              "      async function convertToInteractive(key) {\n",
              "        const element = document.querySelector('#df-d0914d73-ac66-4e52-9e59-276a3d9e49fc');\n",
              "        const dataTable =\n",
              "          await google.colab.kernel.invokeFunction('convertToInteractive',\n",
              "                                                    [key], {});\n",
              "        if (!dataTable) return;\n",
              "\n",
              "        const docLinkHtml = 'Like what you see? Visit the ' +\n",
              "          '<a target=\"_blank\" href=https://colab.research.google.com/notebooks/data_table.ipynb>data table notebook</a>'\n",
              "          + ' to learn more about interactive tables.';\n",
              "        element.innerHTML = '';\n",
              "        dataTable['output_type'] = 'display_data';\n",
              "        await google.colab.output.renderOutput(dataTable, element);\n",
              "        const docLink = document.createElement('div');\n",
              "        docLink.innerHTML = docLinkHtml;\n",
              "        element.appendChild(docLink);\n",
              "      }\n",
              "    </script>\n",
              "  </div>\n",
              "\n",
              "\n",
              "<div id=\"df-756fb92b-fe25-4fa1-8075-ce7c003cebe2\">\n",
              "  <button class=\"colab-df-quickchart\" onclick=\"quickchart('df-756fb92b-fe25-4fa1-8075-ce7c003cebe2')\"\n",
              "            title=\"Suggest charts\"\n",
              "            style=\"display:none;\">\n",
              "\n",
              "<svg xmlns=\"http://www.w3.org/2000/svg\" height=\"24px\"viewBox=\"0 0 24 24\"\n",
              "     width=\"24px\">\n",
              "    <g>\n",
              "        <path d=\"M19 3H5c-1.1 0-2 .9-2 2v14c0 1.1.9 2 2 2h14c1.1 0 2-.9 2-2V5c0-1.1-.9-2-2-2zM9 17H7v-7h2v7zm4 0h-2V7h2v10zm4 0h-2v-4h2v4z\"/>\n",
              "    </g>\n",
              "</svg>\n",
              "  </button>\n",
              "\n",
              "<style>\n",
              "  .colab-df-quickchart {\n",
              "      --bg-color: #E8F0FE;\n",
              "      --fill-color: #1967D2;\n",
              "      --hover-bg-color: #E2EBFA;\n",
              "      --hover-fill-color: #174EA6;\n",
              "      --disabled-fill-color: #AAA;\n",
              "      --disabled-bg-color: #DDD;\n",
              "  }\n",
              "\n",
              "  [theme=dark] .colab-df-quickchart {\n",
              "      --bg-color: #3B4455;\n",
              "      --fill-color: #D2E3FC;\n",
              "      --hover-bg-color: #434B5C;\n",
              "      --hover-fill-color: #FFFFFF;\n",
              "      --disabled-bg-color: #3B4455;\n",
              "      --disabled-fill-color: #666;\n",
              "  }\n",
              "\n",
              "  .colab-df-quickchart {\n",
              "    background-color: var(--bg-color);\n",
              "    border: none;\n",
              "    border-radius: 50%;\n",
              "    cursor: pointer;\n",
              "    display: none;\n",
              "    fill: var(--fill-color);\n",
              "    height: 32px;\n",
              "    padding: 0;\n",
              "    width: 32px;\n",
              "  }\n",
              "\n",
              "  .colab-df-quickchart:hover {\n",
              "    background-color: var(--hover-bg-color);\n",
              "    box-shadow: 0 1px 2px rgba(60, 64, 67, 0.3), 0 1px 3px 1px rgba(60, 64, 67, 0.15);\n",
              "    fill: var(--button-hover-fill-color);\n",
              "  }\n",
              "\n",
              "  .colab-df-quickchart-complete:disabled,\n",
              "  .colab-df-quickchart-complete:disabled:hover {\n",
              "    background-color: var(--disabled-bg-color);\n",
              "    fill: var(--disabled-fill-color);\n",
              "    box-shadow: none;\n",
              "  }\n",
              "\n",
              "  .colab-df-spinner {\n",
              "    border: 2px solid var(--fill-color);\n",
              "    border-color: transparent;\n",
              "    border-bottom-color: var(--fill-color);\n",
              "    animation:\n",
              "      spin 1s steps(1) infinite;\n",
              "  }\n",
              "\n",
              "  @keyframes spin {\n",
              "    0% {\n",
              "      border-color: transparent;\n",
              "      border-bottom-color: var(--fill-color);\n",
              "      border-left-color: var(--fill-color);\n",
              "    }\n",
              "    20% {\n",
              "      border-color: transparent;\n",
              "      border-left-color: var(--fill-color);\n",
              "      border-top-color: var(--fill-color);\n",
              "    }\n",
              "    30% {\n",
              "      border-color: transparent;\n",
              "      border-left-color: var(--fill-color);\n",
              "      border-top-color: var(--fill-color);\n",
              "      border-right-color: var(--fill-color);\n",
              "    }\n",
              "    40% {\n",
              "      border-color: transparent;\n",
              "      border-right-color: var(--fill-color);\n",
              "      border-top-color: var(--fill-color);\n",
              "    }\n",
              "    60% {\n",
              "      border-color: transparent;\n",
              "      border-right-color: var(--fill-color);\n",
              "    }\n",
              "    80% {\n",
              "      border-color: transparent;\n",
              "      border-right-color: var(--fill-color);\n",
              "      border-bottom-color: var(--fill-color);\n",
              "    }\n",
              "    90% {\n",
              "      border-color: transparent;\n",
              "      border-bottom-color: var(--fill-color);\n",
              "    }\n",
              "  }\n",
              "</style>\n",
              "\n",
              "  <script>\n",
              "    async function quickchart(key) {\n",
              "      const quickchartButtonEl =\n",
              "        document.querySelector('#' + key + ' button');\n",
              "      quickchartButtonEl.disabled = true;  // To prevent multiple clicks.\n",
              "      quickchartButtonEl.classList.add('colab-df-spinner');\n",
              "      try {\n",
              "        const charts = await google.colab.kernel.invokeFunction(\n",
              "            'suggestCharts', [key], {});\n",
              "      } catch (error) {\n",
              "        console.error('Error during call to suggestCharts:', error);\n",
              "      }\n",
              "      quickchartButtonEl.classList.remove('colab-df-spinner');\n",
              "      quickchartButtonEl.classList.add('colab-df-quickchart-complete');\n",
              "    }\n",
              "    (() => {\n",
              "      let quickchartButtonEl =\n",
              "        document.querySelector('#df-756fb92b-fe25-4fa1-8075-ce7c003cebe2 button');\n",
              "      quickchartButtonEl.style.display =\n",
              "        google.colab.kernel.accessAllowed ? 'block' : 'none';\n",
              "    })();\n",
              "  </script>\n",
              "</div>\n",
              "\n",
              "    </div>\n",
              "  </div>\n"
            ],
            "application/vnd.google.colaboratory.intrinsic+json": {
              "type": "dataframe",
              "variable_name": "df_cliente_score"
            }
          },
          "metadata": {},
          "execution_count": 3
        }
      ]
    },
    {
      "cell_type": "code",
      "source": [
        "#Vamos avaliar os tipos e nulos\n",
        "df_cliente_score.info()"
      ],
      "metadata": {
        "colab": {
          "base_uri": "https://localhost:8080/"
        },
        "id": "w8VEEzo0AY_3",
        "outputId": "aabd322b-672c-4513-81c0-36125169c6f0"
      },
      "execution_count": 4,
      "outputs": [
        {
          "output_type": "stream",
          "name": "stdout",
          "text": [
            "<class 'pandas.core.frame.DataFrame'>\n",
            "RangeIndex: 50000 entries, 0 to 49999\n",
            "Data columns (total 27 columns):\n",
            " #   Column                    Non-Null Count  Dtype  \n",
            "---  ------                    --------------  -----  \n",
            " 0   ID                        50000 non-null  object \n",
            " 1   Customer_ID               50000 non-null  object \n",
            " 2   Month                     50000 non-null  object \n",
            " 3   Name                      44985 non-null  object \n",
            " 4   Age                       50000 non-null  object \n",
            " 5   SSN                       50000 non-null  object \n",
            " 6   Occupation                50000 non-null  object \n",
            " 7   Annual_Income             50000 non-null  object \n",
            " 8   Monthly_Inhand_Salary     42502 non-null  float64\n",
            " 9   Num_Bank_Accounts         50000 non-null  int64  \n",
            " 10  Num_Credit_Card           50000 non-null  int64  \n",
            " 11  Interest_Rate             50000 non-null  int64  \n",
            " 12  Num_of_Loan               50000 non-null  object \n",
            " 13  Type_of_Loan              44296 non-null  object \n",
            " 14  Delay_from_due_date       50000 non-null  int64  \n",
            " 15  Num_of_Delayed_Payment    46502 non-null  object \n",
            " 16  Changed_Credit_Limit      50000 non-null  object \n",
            " 17  Num_Credit_Inquiries      48965 non-null  float64\n",
            " 18  Credit_Mix                50000 non-null  object \n",
            " 19  Outstanding_Debt          50000 non-null  object \n",
            " 20  Credit_Utilization_Ratio  50000 non-null  float64\n",
            " 21  Credit_History_Age        45530 non-null  object \n",
            " 22  Payment_of_Min_Amount     50000 non-null  object \n",
            " 23  Total_EMI_per_month       50000 non-null  float64\n",
            " 24  Amount_invested_monthly   47729 non-null  object \n",
            " 25  Payment_Behaviour         50000 non-null  object \n",
            " 26  Monthly_Balance           49438 non-null  object \n",
            "dtypes: float64(4), int64(4), object(19)\n",
            "memory usage: 10.3+ MB\n"
          ]
        }
      ]
    },
    {
      "cell_type": "markdown",
      "source": [
        "Para iniciarmos a analise da base primeiro vamos remover as colunas que nao agregam informacoes relevantes para o nosso modelo apenas avaliando o conteudo da variavel"
      ],
      "metadata": {
        "id": "_3ePDpJQBwJd"
      }
    },
    {
      "cell_type": "code",
      "source": [
        "#Removendo as colunas\n",
        "df_cliente_score_rev = df_cliente_score\n",
        "df_cliente_score_rev = df_cliente_score_rev.drop('ID',axis=1) #Feature ID com valor unico por linha\n",
        "df_cliente_score_rev = df_cliente_score_rev.drop('Customer_ID',axis=1) #Feature ID do Cliente com valor unico por cliente\n",
        "df_cliente_score_rev = df_cliente_score_rev.drop('Month',axis=1)#Feature Mes representa o mes do cadastro\n",
        "df_cliente_score_rev = df_cliente_score_rev.drop('Name',axis=1)#Feature Nome representa o nome cliente no cadastro\n",
        "df_cliente_score_rev = df_cliente_score_rev.drop('SSN',axis=1)#Feature Cadastro Social Americano representa o numero social do cliente no cadastro\n",
        "df_cliente_score_rev.info()"
      ],
      "metadata": {
        "colab": {
          "base_uri": "https://localhost:8080/"
        },
        "id": "9tgx5Vi-B8O8",
        "outputId": "2cfbeb48-ea89-41a2-a5af-b4bd23503b52"
      },
      "execution_count": 5,
      "outputs": [
        {
          "output_type": "stream",
          "name": "stdout",
          "text": [
            "<class 'pandas.core.frame.DataFrame'>\n",
            "RangeIndex: 50000 entries, 0 to 49999\n",
            "Data columns (total 22 columns):\n",
            " #   Column                    Non-Null Count  Dtype  \n",
            "---  ------                    --------------  -----  \n",
            " 0   Age                       50000 non-null  object \n",
            " 1   Occupation                50000 non-null  object \n",
            " 2   Annual_Income             50000 non-null  object \n",
            " 3   Monthly_Inhand_Salary     42502 non-null  float64\n",
            " 4   Num_Bank_Accounts         50000 non-null  int64  \n",
            " 5   Num_Credit_Card           50000 non-null  int64  \n",
            " 6   Interest_Rate             50000 non-null  int64  \n",
            " 7   Num_of_Loan               50000 non-null  object \n",
            " 8   Type_of_Loan              44296 non-null  object \n",
            " 9   Delay_from_due_date       50000 non-null  int64  \n",
            " 10  Num_of_Delayed_Payment    46502 non-null  object \n",
            " 11  Changed_Credit_Limit      50000 non-null  object \n",
            " 12  Num_Credit_Inquiries      48965 non-null  float64\n",
            " 13  Credit_Mix                50000 non-null  object \n",
            " 14  Outstanding_Debt          50000 non-null  object \n",
            " 15  Credit_Utilization_Ratio  50000 non-null  float64\n",
            " 16  Credit_History_Age        45530 non-null  object \n",
            " 17  Payment_of_Min_Amount     50000 non-null  object \n",
            " 18  Total_EMI_per_month       50000 non-null  float64\n",
            " 19  Amount_invested_monthly   47729 non-null  object \n",
            " 20  Payment_Behaviour         50000 non-null  object \n",
            " 21  Monthly_Balance           49438 non-null  object \n",
            "dtypes: float64(4), int64(4), object(14)\n",
            "memory usage: 8.4+ MB\n"
          ]
        }
      ]
    },
    {
      "cell_type": "markdown",
      "source": [
        "Vamos iniciar o tratamento das colunas que possuem nulos"
      ],
      "metadata": {
        "id": "q0VDwOw4E-8D"
      }
    },
    {
      "cell_type": "markdown",
      "source": [
        "Vamos trabalhar nos dados de Salario Mensal\n"
      ],
      "metadata": {
        "id": "mSuCirzFG-NJ"
      }
    },
    {
      "cell_type": "code",
      "source": [
        "#Funcao para calcular o valor do salario mensal atraves do salario anual\n",
        "def sal_mes(cols):\n",
        "    Anual = cols[0]\n",
        "    Mensal = cols[1]\n",
        "\n",
        "    if pd.isnull(Mensal):\n",
        "        return Anual / 12\n",
        "    else:\n",
        "        return Mensal"
      ],
      "metadata": {
        "id": "hZ1E1eawFCAK"
      },
      "execution_count": 6,
      "outputs": []
    },
    {
      "cell_type": "code",
      "source": [
        "#Antes de aplicarmos a funcao vamos garantir que a coluna de valor anual seja numerica\n",
        "df_cliente_score_rev['Annual_Income'] = df_cliente_score_rev['Annual_Income'].str.replace('_', '')\n",
        "df_cliente_score_rev['Annual_Income'] = df_cliente_score_rev['Annual_Income'].astype(float)\n",
        "df_cliente_score_rev.info()"
      ],
      "metadata": {
        "colab": {
          "base_uri": "https://localhost:8080/"
        },
        "id": "N-sNxvwFFXLb",
        "outputId": "4cbe96ae-6e22-400d-90bd-b19b19f0c5b1"
      },
      "execution_count": 7,
      "outputs": [
        {
          "output_type": "stream",
          "name": "stdout",
          "text": [
            "<class 'pandas.core.frame.DataFrame'>\n",
            "RangeIndex: 50000 entries, 0 to 49999\n",
            "Data columns (total 22 columns):\n",
            " #   Column                    Non-Null Count  Dtype  \n",
            "---  ------                    --------------  -----  \n",
            " 0   Age                       50000 non-null  object \n",
            " 1   Occupation                50000 non-null  object \n",
            " 2   Annual_Income             50000 non-null  float64\n",
            " 3   Monthly_Inhand_Salary     42502 non-null  float64\n",
            " 4   Num_Bank_Accounts         50000 non-null  int64  \n",
            " 5   Num_Credit_Card           50000 non-null  int64  \n",
            " 6   Interest_Rate             50000 non-null  int64  \n",
            " 7   Num_of_Loan               50000 non-null  object \n",
            " 8   Type_of_Loan              44296 non-null  object \n",
            " 9   Delay_from_due_date       50000 non-null  int64  \n",
            " 10  Num_of_Delayed_Payment    46502 non-null  object \n",
            " 11  Changed_Credit_Limit      50000 non-null  object \n",
            " 12  Num_Credit_Inquiries      48965 non-null  float64\n",
            " 13  Credit_Mix                50000 non-null  object \n",
            " 14  Outstanding_Debt          50000 non-null  object \n",
            " 15  Credit_Utilization_Ratio  50000 non-null  float64\n",
            " 16  Credit_History_Age        45530 non-null  object \n",
            " 17  Payment_of_Min_Amount     50000 non-null  object \n",
            " 18  Total_EMI_per_month       50000 non-null  float64\n",
            " 19  Amount_invested_monthly   47729 non-null  object \n",
            " 20  Payment_Behaviour         50000 non-null  object \n",
            " 21  Monthly_Balance           49438 non-null  object \n",
            "dtypes: float64(5), int64(4), object(13)\n",
            "memory usage: 8.4+ MB\n"
          ]
        }
      ]
    },
    {
      "cell_type": "code",
      "source": [
        "#Vamos agora aplicar no dataset para calcular o valor do salario mensal a partir do valor anual\n",
        "df_cliente_score_rev['Monthly_Inhand_Salary'] = df_cliente_score_rev[['Annual_Income','Monthly_Inhand_Salary']].apply(sal_mes,axis=1)\n",
        "\n",
        "#Verificando se nao existe mais nan no salario mensal\n",
        "df_cliente_score_rev.info()"
      ],
      "metadata": {
        "colab": {
          "base_uri": "https://localhost:8080/"
        },
        "id": "B6RTpVUdGPuz",
        "outputId": "1c4dad85-042d-4f1f-d0d0-531b8ac1175c"
      },
      "execution_count": 8,
      "outputs": [
        {
          "output_type": "stream",
          "name": "stdout",
          "text": [
            "<class 'pandas.core.frame.DataFrame'>\n",
            "RangeIndex: 50000 entries, 0 to 49999\n",
            "Data columns (total 22 columns):\n",
            " #   Column                    Non-Null Count  Dtype  \n",
            "---  ------                    --------------  -----  \n",
            " 0   Age                       50000 non-null  object \n",
            " 1   Occupation                50000 non-null  object \n",
            " 2   Annual_Income             50000 non-null  float64\n",
            " 3   Monthly_Inhand_Salary     50000 non-null  float64\n",
            " 4   Num_Bank_Accounts         50000 non-null  int64  \n",
            " 5   Num_Credit_Card           50000 non-null  int64  \n",
            " 6   Interest_Rate             50000 non-null  int64  \n",
            " 7   Num_of_Loan               50000 non-null  object \n",
            " 8   Type_of_Loan              44296 non-null  object \n",
            " 9   Delay_from_due_date       50000 non-null  int64  \n",
            " 10  Num_of_Delayed_Payment    46502 non-null  object \n",
            " 11  Changed_Credit_Limit      50000 non-null  object \n",
            " 12  Num_Credit_Inquiries      48965 non-null  float64\n",
            " 13  Credit_Mix                50000 non-null  object \n",
            " 14  Outstanding_Debt          50000 non-null  object \n",
            " 15  Credit_Utilization_Ratio  50000 non-null  float64\n",
            " 16  Credit_History_Age        45530 non-null  object \n",
            " 17  Payment_of_Min_Amount     50000 non-null  object \n",
            " 18  Total_EMI_per_month       50000 non-null  float64\n",
            " 19  Amount_invested_monthly   47729 non-null  object \n",
            " 20  Payment_Behaviour         50000 non-null  object \n",
            " 21  Monthly_Balance           49438 non-null  object \n",
            "dtypes: float64(5), int64(4), object(13)\n",
            "memory usage: 8.4+ MB\n"
          ]
        }
      ]
    },
    {
      "cell_type": "markdown",
      "source": [
        "Vamos trabalhar o tipo de emprestimo"
      ],
      "metadata": {
        "id": "gfvDLuyMHC_h"
      }
    },
    {
      "cell_type": "code",
      "source": [
        "#vamos avaliar o tipo de dado desta Feature\n",
        "df_cliente_score_rev.Type_of_Loan.unique()"
      ],
      "metadata": {
        "colab": {
          "base_uri": "https://localhost:8080/"
        },
        "id": "1ayY1SwEHGgp",
        "outputId": "435e7fd9-ae5e-4fc5-a4f5-3303a82542aa"
      },
      "execution_count": 9,
      "outputs": [
        {
          "output_type": "execute_result",
          "data": {
            "text/plain": [
              "array(['Auto Loan, Credit-Builder Loan, Personal Loan, and Home Equity Loan',\n",
              "       'Credit-Builder Loan', 'Auto Loan, Auto Loan, and Not Specified',\n",
              "       ..., 'Home Equity Loan, Auto Loan, Auto Loan, and Auto Loan',\n",
              "       'Payday Loan, Student Loan, Mortgage Loan, and Not Specified',\n",
              "       'Personal Loan, Auto Loan, Mortgage Loan, Student Loan, and Student Loan'],\n",
              "      dtype=object)"
            ]
          },
          "metadata": {},
          "execution_count": 9
        }
      ]
    },
    {
      "cell_type": "code",
      "source": [
        "#Como a propria coluna possui um Valor para os itens nao especificados vamos substituir os nulos por Nao especificado\n",
        "df_cliente_score_rev['Type_of_Loan'] = df_cliente_score_rev['Type_of_Loan'].fillna('Not Specified')"
      ],
      "metadata": {
        "id": "EXZsJwx9HbKo"
      },
      "execution_count": 10,
      "outputs": []
    },
    {
      "cell_type": "code",
      "source": [
        "#Vamos visualizar a distribuicao dos dados\n",
        "contagem = df_cliente_score_rev['Type_of_Loan'].value_counts()\n",
        "print(contagem)\n"
      ],
      "metadata": {
        "colab": {
          "base_uri": "https://localhost:8080/"
        },
        "id": "ToT0qLV0IJZR",
        "outputId": "fa18e456-7165-4dc7-94a7-cc784dbd3fef"
      },
      "execution_count": 11,
      "outputs": [
        {
          "output_type": "stream",
          "name": "stdout",
          "text": [
            "Type_of_Loan\n",
            "Not Specified                                                                                                                         6408\n",
            "Credit-Builder Loan                                                                                                                    640\n",
            "Personal Loan                                                                                                                          636\n",
            "Debt Consolidation Loan                                                                                                                632\n",
            "Student Loan                                                                                                                           620\n",
            "                                                                                                                                      ... \n",
            "Not Specified, Mortgage Loan, Auto Loan, and Payday Loan                                                                                 4\n",
            "Payday Loan, Mortgage Loan, Debt Consolidation Loan, and Student Loan                                                                    4\n",
            "Debt Consolidation Loan, Auto Loan, Personal Loan, Debt Consolidation Loan, Student Loan, and Credit-Builder Loan                        4\n",
            "Student Loan, Auto Loan, Student Loan, Credit-Builder Loan, Home Equity Loan, Debt Consolidation Loan, and Debt Consolidation Loan       4\n",
            "Personal Loan, Auto Loan, Mortgage Loan, Student Loan, and Student Loan                                                                  4\n",
            "Name: count, Length: 6260, dtype: int64\n"
          ]
        }
      ]
    },
    {
      "cell_type": "code",
      "source": [
        "#Verificando se os nulos do tipo de emprestimo foram removidos\n",
        "df_cliente_score_rev.info()"
      ],
      "metadata": {
        "colab": {
          "base_uri": "https://localhost:8080/"
        },
        "id": "4Z-g6DKvJduf",
        "outputId": "7b5ee2eb-8d0b-4fbd-89db-4f291af6e1fa"
      },
      "execution_count": 12,
      "outputs": [
        {
          "output_type": "stream",
          "name": "stdout",
          "text": [
            "<class 'pandas.core.frame.DataFrame'>\n",
            "RangeIndex: 50000 entries, 0 to 49999\n",
            "Data columns (total 22 columns):\n",
            " #   Column                    Non-Null Count  Dtype  \n",
            "---  ------                    --------------  -----  \n",
            " 0   Age                       50000 non-null  object \n",
            " 1   Occupation                50000 non-null  object \n",
            " 2   Annual_Income             50000 non-null  float64\n",
            " 3   Monthly_Inhand_Salary     50000 non-null  float64\n",
            " 4   Num_Bank_Accounts         50000 non-null  int64  \n",
            " 5   Num_Credit_Card           50000 non-null  int64  \n",
            " 6   Interest_Rate             50000 non-null  int64  \n",
            " 7   Num_of_Loan               50000 non-null  object \n",
            " 8   Type_of_Loan              50000 non-null  object \n",
            " 9   Delay_from_due_date       50000 non-null  int64  \n",
            " 10  Num_of_Delayed_Payment    46502 non-null  object \n",
            " 11  Changed_Credit_Limit      50000 non-null  object \n",
            " 12  Num_Credit_Inquiries      48965 non-null  float64\n",
            " 13  Credit_Mix                50000 non-null  object \n",
            " 14  Outstanding_Debt          50000 non-null  object \n",
            " 15  Credit_Utilization_Ratio  50000 non-null  float64\n",
            " 16  Credit_History_Age        45530 non-null  object \n",
            " 17  Payment_of_Min_Amount     50000 non-null  object \n",
            " 18  Total_EMI_per_month       50000 non-null  float64\n",
            " 19  Amount_invested_monthly   47729 non-null  object \n",
            " 20  Payment_Behaviour         50000 non-null  object \n",
            " 21  Monthly_Balance           49438 non-null  object \n",
            "dtypes: float64(5), int64(4), object(13)\n",
            "memory usage: 8.4+ MB\n"
          ]
        }
      ]
    },
    {
      "cell_type": "markdown",
      "source": [
        "Vamos avaliar o numero de atrasos nos pagamentos assumindo que os nulos nao houveram atrasos entao vamos setar com 0"
      ],
      "metadata": {
        "id": "aqrCWoLCJuaG"
      }
    },
    {
      "cell_type": "code",
      "source": [
        "#Ajustando o tipo e setando o zero para o numero de atraso\n",
        "df_cliente_score_rev['Num_of_Delayed_Payment'] = df_cliente_score_rev['Num_of_Delayed_Payment'].fillna('0')\n",
        "df_cliente_score_rev['Num_of_Delayed_Payment'] = df_cliente_score_rev['Num_of_Delayed_Payment'].str.replace('_', '')\n",
        "df_cliente_score_rev['Num_of_Delayed_Payment'] = df_cliente_score_rev['Num_of_Delayed_Payment'].astype(float)\n",
        "df_cliente_score_rev.info()"
      ],
      "metadata": {
        "colab": {
          "base_uri": "https://localhost:8080/"
        },
        "id": "ZEtc2TkrJx2-",
        "outputId": "ff537b2b-8aa8-4216-d675-8dd50fce9b9c"
      },
      "execution_count": 13,
      "outputs": [
        {
          "output_type": "stream",
          "name": "stdout",
          "text": [
            "<class 'pandas.core.frame.DataFrame'>\n",
            "RangeIndex: 50000 entries, 0 to 49999\n",
            "Data columns (total 22 columns):\n",
            " #   Column                    Non-Null Count  Dtype  \n",
            "---  ------                    --------------  -----  \n",
            " 0   Age                       50000 non-null  object \n",
            " 1   Occupation                50000 non-null  object \n",
            " 2   Annual_Income             50000 non-null  float64\n",
            " 3   Monthly_Inhand_Salary     50000 non-null  float64\n",
            " 4   Num_Bank_Accounts         50000 non-null  int64  \n",
            " 5   Num_Credit_Card           50000 non-null  int64  \n",
            " 6   Interest_Rate             50000 non-null  int64  \n",
            " 7   Num_of_Loan               50000 non-null  object \n",
            " 8   Type_of_Loan              50000 non-null  object \n",
            " 9   Delay_from_due_date       50000 non-null  int64  \n",
            " 10  Num_of_Delayed_Payment    50000 non-null  float64\n",
            " 11  Changed_Credit_Limit      50000 non-null  object \n",
            " 12  Num_Credit_Inquiries      48965 non-null  float64\n",
            " 13  Credit_Mix                50000 non-null  object \n",
            " 14  Outstanding_Debt          50000 non-null  object \n",
            " 15  Credit_Utilization_Ratio  50000 non-null  float64\n",
            " 16  Credit_History_Age        45530 non-null  object \n",
            " 17  Payment_of_Min_Amount     50000 non-null  object \n",
            " 18  Total_EMI_per_month       50000 non-null  float64\n",
            " 19  Amount_invested_monthly   47729 non-null  object \n",
            " 20  Payment_Behaviour         50000 non-null  object \n",
            " 21  Monthly_Balance           49438 non-null  object \n",
            "dtypes: float64(6), int64(4), object(12)\n",
            "memory usage: 8.4+ MB\n"
          ]
        }
      ]
    },
    {
      "cell_type": "markdown",
      "source": [
        "Vamos assumir a mesma logica para o numero de solicitacao de credito, caso seja nulo vamos assumir o valor 0"
      ],
      "metadata": {
        "id": "5x8GfC5qT1me"
      }
    },
    {
      "cell_type": "code",
      "source": [
        "#Ajustando o tipo e setando o zero para o numero de solicitacao de credito\n",
        "df_cliente_score_rev['Num_Credit_Inquiries'] = df_cliente_score_rev['Num_Credit_Inquiries'].fillna('0')\n",
        "df_cliente_score_rev['Num_Credit_Inquiries'] = df_cliente_score_rev['Num_Credit_Inquiries'].astype(float)\n",
        "df_cliente_score_rev.info()"
      ],
      "metadata": {
        "colab": {
          "base_uri": "https://localhost:8080/"
        },
        "id": "Y0Ru74tIS0bu",
        "outputId": "02ac880d-4b23-406a-93ce-8612b4b02ea7"
      },
      "execution_count": 14,
      "outputs": [
        {
          "output_type": "stream",
          "name": "stdout",
          "text": [
            "<class 'pandas.core.frame.DataFrame'>\n",
            "RangeIndex: 50000 entries, 0 to 49999\n",
            "Data columns (total 22 columns):\n",
            " #   Column                    Non-Null Count  Dtype  \n",
            "---  ------                    --------------  -----  \n",
            " 0   Age                       50000 non-null  object \n",
            " 1   Occupation                50000 non-null  object \n",
            " 2   Annual_Income             50000 non-null  float64\n",
            " 3   Monthly_Inhand_Salary     50000 non-null  float64\n",
            " 4   Num_Bank_Accounts         50000 non-null  int64  \n",
            " 5   Num_Credit_Card           50000 non-null  int64  \n",
            " 6   Interest_Rate             50000 non-null  int64  \n",
            " 7   Num_of_Loan               50000 non-null  object \n",
            " 8   Type_of_Loan              50000 non-null  object \n",
            " 9   Delay_from_due_date       50000 non-null  int64  \n",
            " 10  Num_of_Delayed_Payment    50000 non-null  float64\n",
            " 11  Changed_Credit_Limit      50000 non-null  object \n",
            " 12  Num_Credit_Inquiries      50000 non-null  float64\n",
            " 13  Credit_Mix                50000 non-null  object \n",
            " 14  Outstanding_Debt          50000 non-null  object \n",
            " 15  Credit_Utilization_Ratio  50000 non-null  float64\n",
            " 16  Credit_History_Age        45530 non-null  object \n",
            " 17  Payment_of_Min_Amount     50000 non-null  object \n",
            " 18  Total_EMI_per_month       50000 non-null  float64\n",
            " 19  Amount_invested_monthly   47729 non-null  object \n",
            " 20  Payment_Behaviour         50000 non-null  object \n",
            " 21  Monthly_Balance           49438 non-null  object \n",
            "dtypes: float64(6), int64(4), object(12)\n",
            "memory usage: 8.4+ MB\n"
          ]
        }
      ]
    },
    {
      "cell_type": "markdown",
      "source": [
        "Vamos valiar os nulos do Historico de Credito"
      ],
      "metadata": {
        "id": "EU-XUdZtVSNs"
      }
    },
    {
      "cell_type": "code",
      "source": [
        "#Vamos vializar os dados\n",
        "df_cliente_score_rev.Credit_History_Age.unique()"
      ],
      "metadata": {
        "colab": {
          "base_uri": "https://localhost:8080/"
        },
        "id": "4p4puOXFSsH_",
        "outputId": "225e1f18-a9c7-4735-c6b1-23abd4e13549"
      },
      "execution_count": 15,
      "outputs": [
        {
          "output_type": "execute_result",
          "data": {
            "text/plain": [
              "array(['22 Years and 9 Months', '22 Years and 10 Months', nan,\n",
              "       '23 Years and 0 Months', '27 Years and 3 Months',\n",
              "       '27 Years and 4 Months', '27 Years and 5 Months',\n",
              "       '27 Years and 6 Months', '18 Years and 5 Months',\n",
              "       '18 Years and 6 Months', '18 Years and 7 Months',\n",
              "       '17 Years and 11 Months', '18 Years and 0 Months',\n",
              "       '18 Years and 1 Months', '18 Years and 2 Months',\n",
              "       '31 Years and 4 Months', '31 Years and 5 Months',\n",
              "       '31 Years and 7 Months', '32 Years and 7 Months',\n",
              "       '32 Years and 8 Months', '32 Years and 9 Months',\n",
              "       '32 Years and 10 Months', '31 Years and 6 Months',\n",
              "       '15 Years and 3 Months', '15 Years and 4 Months',\n",
              "       '15 Years and 5 Months', '15 Years and 6 Months',\n",
              "       '22 Years and 0 Months', '22 Years and 1 Months',\n",
              "       '22 Years and 2 Months', '22 Years and 3 Months',\n",
              "       '27 Years and 1 Months', '27 Years and 2 Months',\n",
              "       '19 Years and 10 Months', '19 Years and 11 Months',\n",
              "       '20 Years and 0 Months', '26 Years and 2 Months',\n",
              "       '26 Years and 3 Months', '26 Years and 4 Months',\n",
              "       '27 Years and 7 Months', '27 Years and 8 Months',\n",
              "       '27 Years and 9 Months', '9 Years and 7 Months',\n",
              "       '9 Years and 8 Months', '9 Years and 9 Months',\n",
              "       '9 Years and 10 Months', '18 Years and 10 Months',\n",
              "       '18 Years and 11 Months', '19 Years and 0 Months',\n",
              "       '19 Years and 1 Months', '17 Years and 6 Months',\n",
              "       '17 Years and 7 Months', '17 Years and 8 Months',\n",
              "       '17 Years and 9 Months', '29 Years and 10 Months',\n",
              "       '29 Years and 11 Months', '30 Years and 0 Months',\n",
              "       '30 Years and 1 Months', '7 Years and 1 Months',\n",
              "       '7 Years and 2 Months', '7 Years and 3 Months',\n",
              "       '27 Years and 10 Months', '27 Years and 11 Months',\n",
              "       '28 Years and 0 Months', '28 Years and 1 Months',\n",
              "       '20 Years and 1 Months', '20 Years and 2 Months',\n",
              "       '10 Years and 9 Months', '10 Years and 10 Months',\n",
              "       '10 Years and 11 Months', '11 Years and 0 Months',\n",
              "       '33 Years and 5 Months', '33 Years and 6 Months',\n",
              "       '33 Years and 7 Months', '33 Years and 8 Months',\n",
              "       '12 Years and 11 Months', '13 Years and 0 Months',\n",
              "       '13 Years and 1 Months', '13 Years and 2 Months',\n",
              "       '12 Years and 10 Months', '18 Years and 8 Months',\n",
              "       '18 Years and 9 Months', '14 Years and 4 Months',\n",
              "       '14 Years and 5 Months', '14 Years and 6 Months',\n",
              "       '14 Years and 7 Months', '30 Years and 11 Months',\n",
              "       '31 Years and 0 Months', '31 Years and 1 Months',\n",
              "       '31 Years and 2 Months', '9 Years and 4 Months',\n",
              "       '9 Years and 6 Months', '19 Years and 2 Months',\n",
              "       '19 Years and 5 Months', '19 Years and 6 Months',\n",
              "       '19 Years and 7 Months', '19 Years and 8 Months',\n",
              "       '9 Years and 5 Months', '13 Years and 9 Months',\n",
              "       '13 Years and 10 Months', '13 Years and 11 Months',\n",
              "       '22 Years and 4 Months', '26 Years and 6 Months',\n",
              "       '14 Years and 0 Months', '14 Years and 1 Months',\n",
              "       '28 Years and 7 Months', '28 Years and 8 Months',\n",
              "       '28 Years and 9 Months', '28 Years and 10 Months',\n",
              "       '8 Years and 7 Months', '8 Years and 8 Months',\n",
              "       '8 Years and 9 Months', '24 Years and 11 Months',\n",
              "       '25 Years and 0 Months', '25 Years and 1 Months',\n",
              "       '25 Years and 2 Months', '17 Years and 10 Months',\n",
              "       '1 Years and 10 Months', '1 Years and 11 Months',\n",
              "       '2 Years and 0 Months', '2 Years and 1 Months',\n",
              "       '11 Years and 7 Months', '11 Years and 8 Months',\n",
              "       '11 Years and 9 Months', '11 Years and 10 Months',\n",
              "       '31 Years and 3 Months', '20 Years and 3 Months',\n",
              "       '20 Years and 4 Months', '20 Years and 5 Months',\n",
              "       '20 Years and 6 Months', '11 Years and 1 Months',\n",
              "       '11 Years and 2 Months', '11 Years and 3 Months',\n",
              "       '11 Years and 4 Months', '14 Years and 8 Months',\n",
              "       '14 Years and 9 Months', '14 Years and 10 Months',\n",
              "       '21 Years and 4 Months', '21 Years and 5 Months',\n",
              "       '21 Years and 6 Months', '21 Years and 7 Months',\n",
              "       '1 Years and 0 Months', '1 Years and 1 Months',\n",
              "       '1 Years and 2 Months', '1 Years and 3 Months',\n",
              "       '32 Years and 4 Months', '32 Years and 5 Months',\n",
              "       '32 Years and 6 Months', '13 Years and 3 Months',\n",
              "       '13 Years and 4 Months', '13 Years and 5 Months',\n",
              "       '13 Years and 6 Months', '28 Years and 2 Months',\n",
              "       '12 Years and 0 Months', '12 Years and 1 Months',\n",
              "       '12 Years and 2 Months', '12 Years and 3 Months',\n",
              "       '25 Years and 4 Months', '25 Years and 5 Months',\n",
              "       '25 Years and 6 Months', '25 Years and 7 Months',\n",
              "       '18 Years and 3 Months', '18 Years and 4 Months',\n",
              "       '13 Years and 7 Months', '19 Years and 9 Months',\n",
              "       '31 Years and 9 Months', '31 Years and 10 Months',\n",
              "       '31 Years and 11 Months', '32 Years and 0 Months',\n",
              "       '5 Years and 10 Months', '5 Years and 11 Months',\n",
              "       '6 Years and 0 Months', '6 Years and 1 Months',\n",
              "       '3 Years and 7 Months', '3 Years and 8 Months',\n",
              "       '3 Years and 9 Months', '3 Years and 10 Months',\n",
              "       '17 Years and 1 Months', '17 Years and 2 Months',\n",
              "       '17 Years and 3 Months', '23 Years and 7 Months',\n",
              "       '23 Years and 8 Months', '23 Years and 9 Months',\n",
              "       '23 Years and 10 Months', '9 Years and 0 Months',\n",
              "       '9 Years and 2 Months', '9 Years and 3 Months',\n",
              "       '31 Years and 8 Months', '5 Years and 1 Months',\n",
              "       '5 Years and 2 Months', '5 Years and 3 Months',\n",
              "       '5 Years and 4 Months', '33 Years and 4 Months',\n",
              "       '13 Years and 8 Months', '30 Years and 5 Months',\n",
              "       '30 Years and 6 Months', '30 Years and 7 Months',\n",
              "       '30 Years and 8 Months', '26 Years and 5 Months',\n",
              "       '33 Years and 9 Months', '26 Years and 10 Months',\n",
              "       '26 Years and 11 Months', '27 Years and 0 Months',\n",
              "       '8 Years and 1 Months', '8 Years and 2 Months',\n",
              "       '8 Years and 3 Months', '8 Years and 4 Months',\n",
              "       '28 Years and 11 Months', '29 Years and 0 Months',\n",
              "       '29 Years and 1 Months', '29 Years and 2 Months',\n",
              "       '20 Years and 7 Months', '20 Years and 8 Months',\n",
              "       '20 Years and 9 Months', '20 Years and 10 Months',\n",
              "       '20 Years and 11 Months', '21 Years and 0 Months',\n",
              "       '29 Years and 3 Months', '29 Years and 4 Months',\n",
              "       '29 Years and 5 Months', '29 Years and 6 Months',\n",
              "       '14 Years and 2 Months', '14 Years and 3 Months',\n",
              "       '2 Years and 2 Months', '2 Years and 3 Months',\n",
              "       '33 Years and 10 Months', '33 Years and 11 Months',\n",
              "       '34 Years and 0 Months', '26 Years and 7 Months',\n",
              "       '26 Years and 8 Months', '29 Years and 7 Months',\n",
              "       '29 Years and 8 Months', '5 Years and 5 Months',\n",
              "       '5 Years and 6 Months', '5 Years and 7 Months',\n",
              "       '5 Years and 8 Months', '32 Years and 3 Months',\n",
              "       '6 Years and 5 Months', '6 Years and 6 Months',\n",
              "       '6 Years and 7 Months', '6 Years and 8 Months',\n",
              "       '23 Years and 1 Months', '23 Years and 2 Months',\n",
              "       '23 Years and 3 Months', '17 Years and 0 Months',\n",
              "       '23 Years and 5 Months', '23 Years and 6 Months',\n",
              "       '22 Years and 5 Months', '22 Years and 6 Months',\n",
              "       '21 Years and 1 Months', '16 Years and 0 Months',\n",
              "       '16 Years and 1 Months', '16 Years and 2 Months',\n",
              "       '16 Years and 3 Months', '21 Years and 2 Months',\n",
              "       '2 Years and 11 Months', '3 Years and 0 Months',\n",
              "       '3 Years and 1 Months', '3 Years and 2 Months',\n",
              "       '5 Years and 9 Months', '2 Years and 4 Months',\n",
              "       '16 Years and 10 Months', '16 Years and 11 Months',\n",
              "       '22 Years and 11 Months', '9 Years and 11 Months',\n",
              "       '10 Years and 0 Months', '10 Years and 1 Months',\n",
              "       '28 Years and 4 Months', '28 Years and 5 Months',\n",
              "       '28 Years and 6 Months', '19 Years and 3 Months',\n",
              "       '25 Years and 3 Months', '8 Years and 10 Months',\n",
              "       '6 Years and 3 Months', '6 Years and 4 Months',\n",
              "       '17 Years and 4 Months', '17 Years and 5 Months',\n",
              "       '12 Years and 5 Months', '12 Years and 6 Months',\n",
              "       '12 Years and 7 Months', '12 Years and 8 Months',\n",
              "       '26 Years and 9 Months', '29 Years and 9 Months',\n",
              "       '32 Years and 1 Months', '32 Years and 2 Months',\n",
              "       '21 Years and 10 Months', '21 Years and 11 Months',\n",
              "       '24 Years and 10 Months', '16 Years and 6 Months',\n",
              "       '16 Years and 7 Months', '16 Years and 8 Months',\n",
              "       '16 Years and 9 Months', '15 Years and 1 Months',\n",
              "       '15 Years and 2 Months', '23 Years and 11 Months',\n",
              "       '24 Years and 0 Months', '25 Years and 10 Months',\n",
              "       '25 Years and 11 Months', '26 Years and 0 Months',\n",
              "       '26 Years and 1 Months', '8 Years and 11 Months',\n",
              "       '19 Years and 4 Months', '6 Years and 2 Months',\n",
              "       '25 Years and 8 Months', '25 Years and 9 Months',\n",
              "       '15 Years and 11 Months', '8 Years and 5 Months',\n",
              "       '8 Years and 6 Months', '7 Years and 6 Months',\n",
              "       '7 Years and 7 Months', '7 Years and 8 Months',\n",
              "       '7 Years and 9 Months', '16 Years and 4 Months',\n",
              "       '16 Years and 5 Months', '24 Years and 1 Months',\n",
              "       '22 Years and 7 Months', '15 Years and 7 Months',\n",
              "       '15 Years and 8 Months', '15 Years and 9 Months',\n",
              "       '21 Years and 8 Months', '21 Years and 9 Months',\n",
              "       '30 Years and 9 Months', '7 Years and 11 Months',\n",
              "       '8 Years and 0 Months', '10 Years and 5 Months',\n",
              "       '10 Years and 6 Months', '10 Years and 7 Months',\n",
              "       '10 Years and 8 Months', '9 Years and 1 Months',\n",
              "       '24 Years and 4 Months', '24 Years and 5 Months',\n",
              "       '24 Years and 6 Months', '24 Years and 7 Months',\n",
              "       '3 Years and 4 Months', '3 Years and 5 Months',\n",
              "       '15 Years and 0 Months', '10 Years and 2 Months',\n",
              "       '12 Years and 4 Months', '24 Years and 3 Months',\n",
              "       '28 Years and 3 Months', '6 Years and 9 Months',\n",
              "       '6 Years and 10 Months', '0 Years and 10 Months',\n",
              "       '10 Years and 3 Months', '12 Years and 9 Months',\n",
              "       '30 Years and 2 Months', '30 Years and 4 Months',\n",
              "       '30 Years and 3 Months', '0 Years and 11 Months',\n",
              "       '11 Years and 6 Months', '7 Years and 10 Months',\n",
              "       '10 Years and 4 Months', '4 Years and 0 Months',\n",
              "       '32 Years and 11 Months', '33 Years and 0 Months',\n",
              "       '21 Years and 3 Months', '30 Years and 10 Months',\n",
              "       '23 Years and 4 Months', '3 Years and 11 Months',\n",
              "       '4 Years and 1 Months', '4 Years and 2 Months',\n",
              "       '6 Years and 11 Months', '7 Years and 0 Months',\n",
              "       '11 Years and 5 Months', '15 Years and 10 Months',\n",
              "       '11 Years and 11 Months', '14 Years and 11 Months',\n",
              "       '22 Years and 8 Months', '1 Years and 6 Months',\n",
              "       '1 Years and 7 Months', '1 Years and 8 Months',\n",
              "       '1 Years and 9 Months', '24 Years and 9 Months',\n",
              "       '5 Years and 0 Months', '7 Years and 4 Months',\n",
              "       '4 Years and 7 Months', '4 Years and 8 Months',\n",
              "       '4 Years and 9 Months', '4 Years and 10 Months',\n",
              "       '7 Years and 5 Months', '2 Years and 5 Months',\n",
              "       '2 Years and 7 Months', '2 Years and 8 Months',\n",
              "       '2 Years and 6 Months', '24 Years and 2 Months',\n",
              "       '33 Years and 1 Months', '33 Years and 2 Months',\n",
              "       '1 Years and 4 Months', '1 Years and 5 Months',\n",
              "       '24 Years and 8 Months', '4 Years and 3 Months',\n",
              "       '4 Years and 4 Months', '2 Years and 9 Months',\n",
              "       '2 Years and 10 Months', '3 Years and 3 Months',\n",
              "       '4 Years and 5 Months', '4 Years and 11 Months',\n",
              "       '33 Years and 3 Months', '3 Years and 6 Months',\n",
              "       '4 Years and 6 Months'], dtype=object)"
            ]
          },
          "metadata": {},
          "execution_count": 15
        }
      ]
    },
    {
      "cell_type": "markdown",
      "source": [
        "Percebemos que o valor é informado pelo ano seguido do mes, vou assumir que os nulos o cliente nao tem historico informando o seguinte valor para os nulos '0 Years and 0 Months'"
      ],
      "metadata": {
        "id": "iY4l9pkZVsPM"
      }
    },
    {
      "cell_type": "code",
      "source": [
        "#Ajustando o tipo e setando o zero para o numero de solicitacao de credito\n",
        "df_cliente_score_rev['Credit_History_Age'] = df_cliente_score_rev['Credit_History_Age'].fillna('0 Years and 0 Months')\n",
        "df_cliente_score_rev.info()"
      ],
      "metadata": {
        "colab": {
          "base_uri": "https://localhost:8080/"
        },
        "id": "LjJy3htqWMgs",
        "outputId": "902fa486-9350-4dfd-aa95-64695953291e"
      },
      "execution_count": 16,
      "outputs": [
        {
          "output_type": "stream",
          "name": "stdout",
          "text": [
            "<class 'pandas.core.frame.DataFrame'>\n",
            "RangeIndex: 50000 entries, 0 to 49999\n",
            "Data columns (total 22 columns):\n",
            " #   Column                    Non-Null Count  Dtype  \n",
            "---  ------                    --------------  -----  \n",
            " 0   Age                       50000 non-null  object \n",
            " 1   Occupation                50000 non-null  object \n",
            " 2   Annual_Income             50000 non-null  float64\n",
            " 3   Monthly_Inhand_Salary     50000 non-null  float64\n",
            " 4   Num_Bank_Accounts         50000 non-null  int64  \n",
            " 5   Num_Credit_Card           50000 non-null  int64  \n",
            " 6   Interest_Rate             50000 non-null  int64  \n",
            " 7   Num_of_Loan               50000 non-null  object \n",
            " 8   Type_of_Loan              50000 non-null  object \n",
            " 9   Delay_from_due_date       50000 non-null  int64  \n",
            " 10  Num_of_Delayed_Payment    50000 non-null  float64\n",
            " 11  Changed_Credit_Limit      50000 non-null  object \n",
            " 12  Num_Credit_Inquiries      50000 non-null  float64\n",
            " 13  Credit_Mix                50000 non-null  object \n",
            " 14  Outstanding_Debt          50000 non-null  object \n",
            " 15  Credit_Utilization_Ratio  50000 non-null  float64\n",
            " 16  Credit_History_Age        50000 non-null  object \n",
            " 17  Payment_of_Min_Amount     50000 non-null  object \n",
            " 18  Total_EMI_per_month       50000 non-null  float64\n",
            " 19  Amount_invested_monthly   47729 non-null  object \n",
            " 20  Payment_Behaviour         50000 non-null  object \n",
            " 21  Monthly_Balance           49438 non-null  object \n",
            "dtypes: float64(6), int64(4), object(12)\n",
            "memory usage: 8.4+ MB\n"
          ]
        }
      ]
    },
    {
      "cell_type": "markdown",
      "source": [
        "Para o total investido no mes vamos considerar que os nulos nao possuem investimentos entao vamos setar 0 no valor e converter a variavel para numerico"
      ],
      "metadata": {
        "id": "ocNVOsrxWbQc"
      }
    },
    {
      "cell_type": "code",
      "source": [
        "#Ajustando o tipo e setando o zero para o numero de solicitacao de credito\n",
        "df_cliente_score_rev['Amount_invested_monthly'] = df_cliente_score_rev['Amount_invested_monthly'].fillna('0')\n",
        "df_cliente_score_rev['Amount_invested_monthly'] = df_cliente_score_rev['Amount_invested_monthly'].str.replace('_', '')\n",
        "df_cliente_score_rev['Amount_invested_monthly'] = df_cliente_score_rev['Amount_invested_monthly'].astype(float)\n",
        "df_cliente_score_rev.info()"
      ],
      "metadata": {
        "colab": {
          "base_uri": "https://localhost:8080/"
        },
        "id": "wcnpPFqkWl6D",
        "outputId": "46e2a195-ee82-460d-a9b1-5c9711b70c22"
      },
      "execution_count": 17,
      "outputs": [
        {
          "output_type": "stream",
          "name": "stdout",
          "text": [
            "<class 'pandas.core.frame.DataFrame'>\n",
            "RangeIndex: 50000 entries, 0 to 49999\n",
            "Data columns (total 22 columns):\n",
            " #   Column                    Non-Null Count  Dtype  \n",
            "---  ------                    --------------  -----  \n",
            " 0   Age                       50000 non-null  object \n",
            " 1   Occupation                50000 non-null  object \n",
            " 2   Annual_Income             50000 non-null  float64\n",
            " 3   Monthly_Inhand_Salary     50000 non-null  float64\n",
            " 4   Num_Bank_Accounts         50000 non-null  int64  \n",
            " 5   Num_Credit_Card           50000 non-null  int64  \n",
            " 6   Interest_Rate             50000 non-null  int64  \n",
            " 7   Num_of_Loan               50000 non-null  object \n",
            " 8   Type_of_Loan              50000 non-null  object \n",
            " 9   Delay_from_due_date       50000 non-null  int64  \n",
            " 10  Num_of_Delayed_Payment    50000 non-null  float64\n",
            " 11  Changed_Credit_Limit      50000 non-null  object \n",
            " 12  Num_Credit_Inquiries      50000 non-null  float64\n",
            " 13  Credit_Mix                50000 non-null  object \n",
            " 14  Outstanding_Debt          50000 non-null  object \n",
            " 15  Credit_Utilization_Ratio  50000 non-null  float64\n",
            " 16  Credit_History_Age        50000 non-null  object \n",
            " 17  Payment_of_Min_Amount     50000 non-null  object \n",
            " 18  Total_EMI_per_month       50000 non-null  float64\n",
            " 19  Amount_invested_monthly   50000 non-null  float64\n",
            " 20  Payment_Behaviour         50000 non-null  object \n",
            " 21  Monthly_Balance           49438 non-null  object \n",
            "dtypes: float64(7), int64(4), object(11)\n",
            "memory usage: 8.4+ MB\n"
          ]
        }
      ]
    },
    {
      "cell_type": "markdown",
      "source": [
        "Agora para o balanco mensal vamos assumir que os nulos serao compostos pelo vamos de salario mensa e o total investido por ano"
      ],
      "metadata": {
        "id": "63qgHlzfXNqD"
      }
    },
    {
      "cell_type": "code",
      "source": [
        "#Funcao para calcular o balanco mensal atraves do salario e total investido mensal menos o total de emprestimo por mes\n",
        "def bal_mes(cols):\n",
        "    TEmensal = cols[0]\n",
        "    TInvmensal = cols[1]\n",
        "    TSalario = cols[2]\n",
        "    TBalance =  cols[3]\n",
        "\n",
        "    if pd.isnull(TBalance):\n",
        "        return TEmensal - (TInvmensal + TSalario)\n",
        "    else:\n",
        "        return TBalance"
      ],
      "metadata": {
        "id": "BoLFxeS7W8QM"
      },
      "execution_count": 18,
      "outputs": []
    },
    {
      "cell_type": "code",
      "source": [
        "#Antes de ajustarmos os nulos vamos converter o balanco para numerico\n",
        "df_cliente_score_rev['Monthly_Balance'] = df_cliente_score_rev['Monthly_Balance'].str.replace('_', '')\n",
        "df_cliente_score_rev['Monthly_Balance'] = df_cliente_score_rev['Monthly_Balance'].astype(float)"
      ],
      "metadata": {
        "id": "QyvWFx99Yu0T"
      },
      "execution_count": 19,
      "outputs": []
    },
    {
      "cell_type": "code",
      "source": [
        "#Vamos agora aplicar no dataset para calcular o valor do salario mensal a partir do valor anual\n",
        "df_cliente_score_rev['Monthly_Balance'] = df_cliente_score_rev[['Total_EMI_per_month','Amount_invested_monthly','Monthly_Inhand_Salary','Monthly_Balance']].apply(bal_mes,axis=1)\n",
        "\n",
        "#Verificando se nao existe mais nan no salario mensal\n",
        "df_cliente_score_rev.info()"
      ],
      "metadata": {
        "colab": {
          "base_uri": "https://localhost:8080/"
        },
        "id": "muS1btWLYRCT",
        "outputId": "2c5751ea-b4e8-4737-a511-d4bc38c45254"
      },
      "execution_count": 20,
      "outputs": [
        {
          "output_type": "stream",
          "name": "stdout",
          "text": [
            "<class 'pandas.core.frame.DataFrame'>\n",
            "RangeIndex: 50000 entries, 0 to 49999\n",
            "Data columns (total 22 columns):\n",
            " #   Column                    Non-Null Count  Dtype  \n",
            "---  ------                    --------------  -----  \n",
            " 0   Age                       50000 non-null  object \n",
            " 1   Occupation                50000 non-null  object \n",
            " 2   Annual_Income             50000 non-null  float64\n",
            " 3   Monthly_Inhand_Salary     50000 non-null  float64\n",
            " 4   Num_Bank_Accounts         50000 non-null  int64  \n",
            " 5   Num_Credit_Card           50000 non-null  int64  \n",
            " 6   Interest_Rate             50000 non-null  int64  \n",
            " 7   Num_of_Loan               50000 non-null  object \n",
            " 8   Type_of_Loan              50000 non-null  object \n",
            " 9   Delay_from_due_date       50000 non-null  int64  \n",
            " 10  Num_of_Delayed_Payment    50000 non-null  float64\n",
            " 11  Changed_Credit_Limit      50000 non-null  object \n",
            " 12  Num_Credit_Inquiries      50000 non-null  float64\n",
            " 13  Credit_Mix                50000 non-null  object \n",
            " 14  Outstanding_Debt          50000 non-null  object \n",
            " 15  Credit_Utilization_Ratio  50000 non-null  float64\n",
            " 16  Credit_History_Age        50000 non-null  object \n",
            " 17  Payment_of_Min_Amount     50000 non-null  object \n",
            " 18  Total_EMI_per_month       50000 non-null  float64\n",
            " 19  Amount_invested_monthly   50000 non-null  float64\n",
            " 20  Payment_Behaviour         50000 non-null  object \n",
            " 21  Monthly_Balance           50000 non-null  float64\n",
            "dtypes: float64(8), int64(4), object(10)\n",
            "memory usage: 8.4+ MB\n"
          ]
        }
      ]
    },
    {
      "cell_type": "markdown",
      "source": [
        "Antes de montarmos o modelo vamos converter as variaveis obejct para numeric e dummieficar as variveis categoricas"
      ],
      "metadata": {
        "id": "TxGxvE0AeKTm"
      }
    },
    {
      "cell_type": "code",
      "source": [
        "#Convertendo de object para numeric\n",
        "df_cliente_score_rev_n = df_cliente_score_rev\n",
        "df_cliente_score_rev_n['Age'] = df_cliente_score_rev_n['Age'].str.replace('_', '')\n",
        "df_cliente_score_rev_n['Num_of_Loan'] = df_cliente_score_rev_n['Num_of_Loan'].str.replace('_', '')\n",
        "df_cliente_score_rev_n['Changed_Credit_Limit'] = df_cliente_score_rev_n['Changed_Credit_Limit'].str.replace('_', '')\n",
        "df_cliente_score_rev_n['Changed_Credit_Limit'] = df_cliente_score_rev_n['Changed_Credit_Limit'].str.replace('', '0')\n",
        "df_cliente_score_rev_n['Changed_Credit_Limit'] = df_cliente_score_rev_n['Changed_Credit_Limit'].str.replace('-', '')\n",
        "df_cliente_score_rev_n['Outstanding_Debt'] = df_cliente_score_rev_n['Outstanding_Debt'].str.replace('_', '')\n",
        "\n",
        "df_cliente_score_rev_n['Age'] = df_cliente_score_rev_n['Age'].astype(int)\n",
        "df_cliente_score_rev_n['Num_of_Loan'] = df_cliente_score_rev_n['Num_of_Loan'].astype(int)\n",
        "df_cliente_score_rev_n['Changed_Credit_Limit'] = df_cliente_score_rev_n['Changed_Credit_Limit'].astype(float)\n",
        "df_cliente_score_rev_n['Outstanding_Debt'] = df_cliente_score_rev_n['Outstanding_Debt'].astype(float)\n",
        "df_cliente_score_rev_n.info()\n"
      ],
      "metadata": {
        "id": "-iy4CkM6eTHV",
        "outputId": "77009f4d-6139-42ff-cea2-1566a7489f36",
        "colab": {
          "base_uri": "https://localhost:8080/"
        }
      },
      "execution_count": 21,
      "outputs": [
        {
          "output_type": "stream",
          "name": "stdout",
          "text": [
            "<class 'pandas.core.frame.DataFrame'>\n",
            "RangeIndex: 50000 entries, 0 to 49999\n",
            "Data columns (total 22 columns):\n",
            " #   Column                    Non-Null Count  Dtype  \n",
            "---  ------                    --------------  -----  \n",
            " 0   Age                       50000 non-null  int64  \n",
            " 1   Occupation                50000 non-null  object \n",
            " 2   Annual_Income             50000 non-null  float64\n",
            " 3   Monthly_Inhand_Salary     50000 non-null  float64\n",
            " 4   Num_Bank_Accounts         50000 non-null  int64  \n",
            " 5   Num_Credit_Card           50000 non-null  int64  \n",
            " 6   Interest_Rate             50000 non-null  int64  \n",
            " 7   Num_of_Loan               50000 non-null  int64  \n",
            " 8   Type_of_Loan              50000 non-null  object \n",
            " 9   Delay_from_due_date       50000 non-null  int64  \n",
            " 10  Num_of_Delayed_Payment    50000 non-null  float64\n",
            " 11  Changed_Credit_Limit      50000 non-null  float64\n",
            " 12  Num_Credit_Inquiries      50000 non-null  float64\n",
            " 13  Credit_Mix                50000 non-null  object \n",
            " 14  Outstanding_Debt          50000 non-null  float64\n",
            " 15  Credit_Utilization_Ratio  50000 non-null  float64\n",
            " 16  Credit_History_Age        50000 non-null  object \n",
            " 17  Payment_of_Min_Amount     50000 non-null  object \n",
            " 18  Total_EMI_per_month       50000 non-null  float64\n",
            " 19  Amount_invested_monthly   50000 non-null  float64\n",
            " 20  Payment_Behaviour         50000 non-null  object \n",
            " 21  Monthly_Balance           50000 non-null  float64\n",
            "dtypes: float64(10), int64(6), object(6)\n",
            "memory usage: 8.4+ MB\n"
          ]
        }
      ]
    },
    {
      "cell_type": "code",
      "source": [
        "#Vamos dumieficar as variaveis categoricas\n",
        "\n",
        "#gerando dummy\n",
        "dummy = pd.get_dummies(df_cliente_score_rev_n['Occupation'],drop_first = True)\n",
        "\n",
        "# Concatenar as variáveis dummy com o dataframe original\n",
        "df_cliente_score_rev_n_d = pd.concat([df_cliente_score_rev_n, dummy], axis=1)\n",
        "\n",
        "#removendo varivel original\n",
        "df_cliente_score_rev_n_d = df_cliente_score_rev_n_d.drop('Occupation',axis=1)\n",
        "\n",
        "df_cliente_score_rev_n_d.info()"
      ],
      "metadata": {
        "id": "anfrfUAAf8qd",
        "outputId": "847210dd-60c1-4fcc-e5d0-ec770f8c928a",
        "colab": {
          "base_uri": "https://localhost:8080/"
        }
      },
      "execution_count": 22,
      "outputs": [
        {
          "output_type": "stream",
          "name": "stdout",
          "text": [
            "<class 'pandas.core.frame.DataFrame'>\n",
            "RangeIndex: 50000 entries, 0 to 49999\n",
            "Data columns (total 36 columns):\n",
            " #   Column                    Non-Null Count  Dtype  \n",
            "---  ------                    --------------  -----  \n",
            " 0   Age                       50000 non-null  int64  \n",
            " 1   Annual_Income             50000 non-null  float64\n",
            " 2   Monthly_Inhand_Salary     50000 non-null  float64\n",
            " 3   Num_Bank_Accounts         50000 non-null  int64  \n",
            " 4   Num_Credit_Card           50000 non-null  int64  \n",
            " 5   Interest_Rate             50000 non-null  int64  \n",
            " 6   Num_of_Loan               50000 non-null  int64  \n",
            " 7   Type_of_Loan              50000 non-null  object \n",
            " 8   Delay_from_due_date       50000 non-null  int64  \n",
            " 9   Num_of_Delayed_Payment    50000 non-null  float64\n",
            " 10  Changed_Credit_Limit      50000 non-null  float64\n",
            " 11  Num_Credit_Inquiries      50000 non-null  float64\n",
            " 12  Credit_Mix                50000 non-null  object \n",
            " 13  Outstanding_Debt          50000 non-null  float64\n",
            " 14  Credit_Utilization_Ratio  50000 non-null  float64\n",
            " 15  Credit_History_Age        50000 non-null  object \n",
            " 16  Payment_of_Min_Amount     50000 non-null  object \n",
            " 17  Total_EMI_per_month       50000 non-null  float64\n",
            " 18  Amount_invested_monthly   50000 non-null  float64\n",
            " 19  Payment_Behaviour         50000 non-null  object \n",
            " 20  Monthly_Balance           50000 non-null  float64\n",
            " 21  Architect                 50000 non-null  bool   \n",
            " 22  Developer                 50000 non-null  bool   \n",
            " 23  Doctor                    50000 non-null  bool   \n",
            " 24  Engineer                  50000 non-null  bool   \n",
            " 25  Entrepreneur              50000 non-null  bool   \n",
            " 26  Journalist                50000 non-null  bool   \n",
            " 27  Lawyer                    50000 non-null  bool   \n",
            " 28  Manager                   50000 non-null  bool   \n",
            " 29  Mechanic                  50000 non-null  bool   \n",
            " 30  Media_Manager             50000 non-null  bool   \n",
            " 31  Musician                  50000 non-null  bool   \n",
            " 32  Scientist                 50000 non-null  bool   \n",
            " 33  Teacher                   50000 non-null  bool   \n",
            " 34  Writer                    50000 non-null  bool   \n",
            " 35  _______                   50000 non-null  bool   \n",
            "dtypes: bool(15), float64(10), int64(6), object(5)\n",
            "memory usage: 8.7+ MB\n"
          ]
        }
      ]
    },
    {
      "cell_type": "code",
      "source": [
        "#gerando dummy\n",
        "dummy = pd.get_dummies(df_cliente_score_rev_n_d['Payment_Behaviour'],drop_first = True)\n",
        "\n",
        "# Concatenar as variáveis dummy com o dataframe original\n",
        "df_cliente_score_rev_n_d = pd.concat([df_cliente_score_rev_n_d, dummy], axis=1)\n",
        "\n",
        "#removendo varivel original\n",
        "df_cliente_score_rev_n_d = df_cliente_score_rev_n_d.drop('Payment_Behaviour',axis=1)\n",
        "\n",
        "df_cliente_score_rev_n_d.info()"
      ],
      "metadata": {
        "id": "oTfPayNujVWy",
        "outputId": "d8ab4954-e417-47d2-bba7-25b22a1d031e",
        "colab": {
          "base_uri": "https://localhost:8080/"
        }
      },
      "execution_count": 23,
      "outputs": [
        {
          "output_type": "stream",
          "name": "stdout",
          "text": [
            "<class 'pandas.core.frame.DataFrame'>\n",
            "RangeIndex: 50000 entries, 0 to 49999\n",
            "Data columns (total 41 columns):\n",
            " #   Column                            Non-Null Count  Dtype  \n",
            "---  ------                            --------------  -----  \n",
            " 0   Age                               50000 non-null  int64  \n",
            " 1   Annual_Income                     50000 non-null  float64\n",
            " 2   Monthly_Inhand_Salary             50000 non-null  float64\n",
            " 3   Num_Bank_Accounts                 50000 non-null  int64  \n",
            " 4   Num_Credit_Card                   50000 non-null  int64  \n",
            " 5   Interest_Rate                     50000 non-null  int64  \n",
            " 6   Num_of_Loan                       50000 non-null  int64  \n",
            " 7   Type_of_Loan                      50000 non-null  object \n",
            " 8   Delay_from_due_date               50000 non-null  int64  \n",
            " 9   Num_of_Delayed_Payment            50000 non-null  float64\n",
            " 10  Changed_Credit_Limit              50000 non-null  float64\n",
            " 11  Num_Credit_Inquiries              50000 non-null  float64\n",
            " 12  Credit_Mix                        50000 non-null  object \n",
            " 13  Outstanding_Debt                  50000 non-null  float64\n",
            " 14  Credit_Utilization_Ratio          50000 non-null  float64\n",
            " 15  Credit_History_Age                50000 non-null  object \n",
            " 16  Payment_of_Min_Amount             50000 non-null  object \n",
            " 17  Total_EMI_per_month               50000 non-null  float64\n",
            " 18  Amount_invested_monthly           50000 non-null  float64\n",
            " 19  Monthly_Balance                   50000 non-null  float64\n",
            " 20  Architect                         50000 non-null  bool   \n",
            " 21  Developer                         50000 non-null  bool   \n",
            " 22  Doctor                            50000 non-null  bool   \n",
            " 23  Engineer                          50000 non-null  bool   \n",
            " 24  Entrepreneur                      50000 non-null  bool   \n",
            " 25  Journalist                        50000 non-null  bool   \n",
            " 26  Lawyer                            50000 non-null  bool   \n",
            " 27  Manager                           50000 non-null  bool   \n",
            " 28  Mechanic                          50000 non-null  bool   \n",
            " 29  Media_Manager                     50000 non-null  bool   \n",
            " 30  Musician                          50000 non-null  bool   \n",
            " 31  Scientist                         50000 non-null  bool   \n",
            " 32  Teacher                           50000 non-null  bool   \n",
            " 33  Writer                            50000 non-null  bool   \n",
            " 34  _______                           50000 non-null  bool   \n",
            " 35  High_spent_Large_value_payments   50000 non-null  bool   \n",
            " 36  High_spent_Medium_value_payments  50000 non-null  bool   \n",
            " 37  High_spent_Small_value_payments   50000 non-null  bool   \n",
            " 38  Low_spent_Large_value_payments    50000 non-null  bool   \n",
            " 39  Low_spent_Medium_value_payments   50000 non-null  bool   \n",
            " 40  Low_spent_Small_value_payments    50000 non-null  bool   \n",
            "dtypes: bool(21), float64(10), int64(6), object(4)\n",
            "memory usage: 8.6+ MB\n"
          ]
        }
      ]
    },
    {
      "cell_type": "code",
      "source": [
        "#gerando dummy\n",
        "dummy = pd.get_dummies(df_cliente_score_rev_n_d['Payment_of_Min_Amount'],drop_first = True)\n",
        "\n",
        "# Concatenar as variáveis dummy com o dataframe original\n",
        "df_cliente_score_rev_n_d = pd.concat([df_cliente_score_rev_n_d, dummy], axis=1)\n",
        "\n",
        "#removendo varivel original\n",
        "df_cliente_score_rev_n_d = df_cliente_score_rev_n_d.drop('Payment_of_Min_Amount',axis=1)\n",
        "\n",
        "df_cliente_score_rev_n_d.info()"
      ],
      "metadata": {
        "id": "v8RRfGRnkvPQ",
        "outputId": "baa59f90-7035-4fc4-bd52-14bdc4d081c3",
        "colab": {
          "base_uri": "https://localhost:8080/"
        }
      },
      "execution_count": 24,
      "outputs": [
        {
          "output_type": "stream",
          "name": "stdout",
          "text": [
            "<class 'pandas.core.frame.DataFrame'>\n",
            "RangeIndex: 50000 entries, 0 to 49999\n",
            "Data columns (total 42 columns):\n",
            " #   Column                            Non-Null Count  Dtype  \n",
            "---  ------                            --------------  -----  \n",
            " 0   Age                               50000 non-null  int64  \n",
            " 1   Annual_Income                     50000 non-null  float64\n",
            " 2   Monthly_Inhand_Salary             50000 non-null  float64\n",
            " 3   Num_Bank_Accounts                 50000 non-null  int64  \n",
            " 4   Num_Credit_Card                   50000 non-null  int64  \n",
            " 5   Interest_Rate                     50000 non-null  int64  \n",
            " 6   Num_of_Loan                       50000 non-null  int64  \n",
            " 7   Type_of_Loan                      50000 non-null  object \n",
            " 8   Delay_from_due_date               50000 non-null  int64  \n",
            " 9   Num_of_Delayed_Payment            50000 non-null  float64\n",
            " 10  Changed_Credit_Limit              50000 non-null  float64\n",
            " 11  Num_Credit_Inquiries              50000 non-null  float64\n",
            " 12  Credit_Mix                        50000 non-null  object \n",
            " 13  Outstanding_Debt                  50000 non-null  float64\n",
            " 14  Credit_Utilization_Ratio          50000 non-null  float64\n",
            " 15  Credit_History_Age                50000 non-null  object \n",
            " 16  Total_EMI_per_month               50000 non-null  float64\n",
            " 17  Amount_invested_monthly           50000 non-null  float64\n",
            " 18  Monthly_Balance                   50000 non-null  float64\n",
            " 19  Architect                         50000 non-null  bool   \n",
            " 20  Developer                         50000 non-null  bool   \n",
            " 21  Doctor                            50000 non-null  bool   \n",
            " 22  Engineer                          50000 non-null  bool   \n",
            " 23  Entrepreneur                      50000 non-null  bool   \n",
            " 24  Journalist                        50000 non-null  bool   \n",
            " 25  Lawyer                            50000 non-null  bool   \n",
            " 26  Manager                           50000 non-null  bool   \n",
            " 27  Mechanic                          50000 non-null  bool   \n",
            " 28  Media_Manager                     50000 non-null  bool   \n",
            " 29  Musician                          50000 non-null  bool   \n",
            " 30  Scientist                         50000 non-null  bool   \n",
            " 31  Teacher                           50000 non-null  bool   \n",
            " 32  Writer                            50000 non-null  bool   \n",
            " 33  _______                           50000 non-null  bool   \n",
            " 34  High_spent_Large_value_payments   50000 non-null  bool   \n",
            " 35  High_spent_Medium_value_payments  50000 non-null  bool   \n",
            " 36  High_spent_Small_value_payments   50000 non-null  bool   \n",
            " 37  Low_spent_Large_value_payments    50000 non-null  bool   \n",
            " 38  Low_spent_Medium_value_payments   50000 non-null  bool   \n",
            " 39  Low_spent_Small_value_payments    50000 non-null  bool   \n",
            " 40  No                                50000 non-null  bool   \n",
            " 41  Yes                               50000 non-null  bool   \n",
            "dtypes: bool(23), float64(10), int64(6), object(3)\n",
            "memory usage: 8.3+ MB\n"
          ]
        }
      ]
    },
    {
      "cell_type": "code",
      "source": [
        "#Metodo para retornar o mes da data\n",
        "#Exemplo 1:'33 Years and 3 Months'\n",
        "#Exemplo 2:'1 Years and 3 Months'\n",
        "def get_mes(cols):\n",
        "    CredtitHA = cols[0]\n",
        "    CredtitHA = str(CredtitHA)\n",
        "\n",
        "    if len(CredtitHA) > 21 :\n",
        "        return CredtitHA[13:15]\n",
        "    else:\n",
        "        return CredtitHA[12:14]"
      ],
      "metadata": {
        "id": "RsIjlbq2T6ds"
      },
      "execution_count": 39,
      "outputs": []
    },
    {
      "cell_type": "code",
      "source": [
        "df_cliente_score_rev_n_d['Month_Credit_History_Age'] = df_cliente_score_rev_n_d[['Credit_History_Age']].apply(get_mes,axis=1)\n",
        "df_cliente_score_rev_n_d['Month_Credit_History_Age'] = df_cliente_score_rev_n_d['Month_Credit_History_Age'].astype(int)\n",
        "\n",
        "df_cliente_score_rev_n_d.Month_Credit_History_Age.unique()"
      ],
      "metadata": {
        "id": "VvyGg9KMVMWs",
        "outputId": "37a24a99-ed41-456e-c4a8-1621c6c22f5e",
        "colab": {
          "base_uri": "https://localhost:8080/"
        }
      },
      "execution_count": 40,
      "outputs": [
        {
          "output_type": "execute_result",
          "data": {
            "text/plain": [
              "array([ 9, 10,  0,  3,  4,  5,  6,  7, 11,  1,  2,  8])"
            ]
          },
          "metadata": {},
          "execution_count": 40
        }
      ]
    },
    {
      "cell_type": "code",
      "source": [
        "#Para a variavel Historico de credito vamos gerar duas colunas onde teremos o numero de anos e meses\n",
        "df_cliente_score_rev_n_d['Year_Credit_History_Age'] = df_cliente_score_rev_n_d['Credit_History_Age'].str.slice(0, 2)\n",
        "df_cliente_score_rev_n_d['Year_Credit_History_Age'] = df_cliente_score_rev_n_d['Year_Credit_History_Age'].astype(int)\n",
        "\n",
        "df_cliente_score_rev_n_d.Year_Credit_History_Age.unique()"
      ],
      "metadata": {
        "id": "hdNECr2qlEzX",
        "outputId": "7d908062-2792-4e45-93ce-783e4544c2a0",
        "colab": {
          "base_uri": "https://localhost:8080/"
        }
      },
      "execution_count": 41,
      "outputs": [
        {
          "output_type": "execute_result",
          "data": {
            "text/plain": [
              "array([22,  0, 23, 27, 18, 17, 31, 32, 15, 19, 20, 26,  9, 29, 30,  7, 28,\n",
              "       10, 11, 33, 12, 13, 14,  8, 24, 25,  1,  2, 21,  5,  6,  3, 34, 16,\n",
              "        4])"
            ]
          },
          "metadata": {},
          "execution_count": 41
        }
      ]
    },
    {
      "cell_type": "code",
      "source": [
        "#removendo as variveis originais\n",
        "df_cliente_score_rev_n_d = df_cliente_score_rev_n_d.drop('Credit_History_Age',axis=1)\n",
        "\n",
        "df_cliente_score_rev_n_d.info()"
      ],
      "metadata": {
        "id": "rSfTzF1kn4Du",
        "outputId": "6779fe49-4a81-4009-d109-09b47462e760",
        "colab": {
          "base_uri": "https://localhost:8080/"
        }
      },
      "execution_count": 42,
      "outputs": [
        {
          "output_type": "stream",
          "name": "stdout",
          "text": [
            "<class 'pandas.core.frame.DataFrame'>\n",
            "RangeIndex: 50000 entries, 0 to 49999\n",
            "Data columns (total 43 columns):\n",
            " #   Column                            Non-Null Count  Dtype  \n",
            "---  ------                            --------------  -----  \n",
            " 0   Age                               50000 non-null  int64  \n",
            " 1   Annual_Income                     50000 non-null  float64\n",
            " 2   Monthly_Inhand_Salary             50000 non-null  float64\n",
            " 3   Num_Bank_Accounts                 50000 non-null  int64  \n",
            " 4   Num_Credit_Card                   50000 non-null  int64  \n",
            " 5   Interest_Rate                     50000 non-null  int64  \n",
            " 6   Num_of_Loan                       50000 non-null  int64  \n",
            " 7   Type_of_Loan                      50000 non-null  object \n",
            " 8   Delay_from_due_date               50000 non-null  int64  \n",
            " 9   Num_of_Delayed_Payment            50000 non-null  float64\n",
            " 10  Changed_Credit_Limit              50000 non-null  float64\n",
            " 11  Num_Credit_Inquiries              50000 non-null  float64\n",
            " 12  Credit_Mix                        50000 non-null  object \n",
            " 13  Outstanding_Debt                  50000 non-null  float64\n",
            " 14  Credit_Utilization_Ratio          50000 non-null  float64\n",
            " 15  Total_EMI_per_month               50000 non-null  float64\n",
            " 16  Amount_invested_monthly           50000 non-null  float64\n",
            " 17  Monthly_Balance                   50000 non-null  float64\n",
            " 18  Architect                         50000 non-null  bool   \n",
            " 19  Developer                         50000 non-null  bool   \n",
            " 20  Doctor                            50000 non-null  bool   \n",
            " 21  Engineer                          50000 non-null  bool   \n",
            " 22  Entrepreneur                      50000 non-null  bool   \n",
            " 23  Journalist                        50000 non-null  bool   \n",
            " 24  Lawyer                            50000 non-null  bool   \n",
            " 25  Manager                           50000 non-null  bool   \n",
            " 26  Mechanic                          50000 non-null  bool   \n",
            " 27  Media_Manager                     50000 non-null  bool   \n",
            " 28  Musician                          50000 non-null  bool   \n",
            " 29  Scientist                         50000 non-null  bool   \n",
            " 30  Teacher                           50000 non-null  bool   \n",
            " 31  Writer                            50000 non-null  bool   \n",
            " 32  _______                           50000 non-null  bool   \n",
            " 33  High_spent_Large_value_payments   50000 non-null  bool   \n",
            " 34  High_spent_Medium_value_payments  50000 non-null  bool   \n",
            " 35  High_spent_Small_value_payments   50000 non-null  bool   \n",
            " 36  Low_spent_Large_value_payments    50000 non-null  bool   \n",
            " 37  Low_spent_Medium_value_payments   50000 non-null  bool   \n",
            " 38  Low_spent_Small_value_payments    50000 non-null  bool   \n",
            " 39  No                                50000 non-null  bool   \n",
            " 40  Yes                               50000 non-null  bool   \n",
            " 41  Year_Credit_History_Age           50000 non-null  int64  \n",
            " 42  Month_Credit_History_Age          50000 non-null  int64  \n",
            "dtypes: bool(23), float64(10), int64(8), object(2)\n",
            "memory usage: 8.7+ MB\n"
          ]
        }
      ]
    },
    {
      "cell_type": "markdown",
      "source": [
        "Agora temos o desafio da variavel tipo de emprestimo que possui muitas categorias vamos analisar a quantidade de categorias para verificar se temos alguma maneira de agrupalas"
      ],
      "metadata": {
        "id": "Rmjmyx4YX5of"
      }
    },
    {
      "cell_type": "code",
      "source": [
        "# Número de categorias usando nunique() para um DataFrame\n",
        "num_categorias_df = df_cliente_score_rev_n_d['Type_of_Loan'].nunique()\n",
        "print(\"Número de categorias no DataFrame:\", num_categorias_df)"
      ],
      "metadata": {
        "id": "UdFq1dVkYFEA",
        "outputId": "4088fdb3-6bfc-4d10-ed07-e85b6b106af3",
        "colab": {
          "base_uri": "https://localhost:8080/"
        }
      },
      "execution_count": 43,
      "outputs": [
        {
          "output_type": "stream",
          "name": "stdout",
          "text": [
            "Número de categorias no DataFrame: 6260\n"
          ]
        }
      ]
    },
    {
      "cell_type": "code",
      "source": [
        "#Vamos analisar algumas opcoes de dados\n",
        "print(df_cliente_score_rev_n_d.Type_of_Loan.head(100))"
      ],
      "metadata": {
        "id": "YAI8Otk4YX6X",
        "outputId": "351086a5-db60-4a84-df17-f60d33516187",
        "colab": {
          "base_uri": "https://localhost:8080/"
        }
      },
      "execution_count": 45,
      "outputs": [
        {
          "output_type": "stream",
          "name": "stdout",
          "text": [
            "0     Auto Loan, Credit-Builder Loan, Personal Loan,...\n",
            "1     Auto Loan, Credit-Builder Loan, Personal Loan,...\n",
            "2     Auto Loan, Credit-Builder Loan, Personal Loan,...\n",
            "3     Auto Loan, Credit-Builder Loan, Personal Loan,...\n",
            "4                                   Credit-Builder Loan\n",
            "                            ...                        \n",
            "95        Not Specified, Student Loan, and Student Loan\n",
            "96    Payday Loan, Not Specified, Credit-Builder Loa...\n",
            "97    Payday Loan, Not Specified, Credit-Builder Loa...\n",
            "98    Payday Loan, Not Specified, Credit-Builder Loa...\n",
            "99    Payday Loan, Not Specified, Credit-Builder Loa...\n",
            "Name: Type_of_Loan, Length: 100, dtype: object\n"
          ]
        }
      ]
    },
    {
      "cell_type": "code",
      "source": [],
      "metadata": {
        "id": "7fVV04BsX3XJ"
      },
      "execution_count": null,
      "outputs": []
    },
    {
      "cell_type": "markdown",
      "source": [
        "Verificando o Dado da Variavel entendemos que é uma informacao compilada com o tipo de varios emprestimos realizados vou entao apenas contar quantos tipos e gerar uma coluna com o numero de tipo de emprestimos"
      ],
      "metadata": {
        "id": "3T5gT8kAZPpw"
      }
    },
    {
      "cell_type": "code",
      "source": [
        "#Vamos gerar a coluna Count_Type_loan e despresar a coluna Type_Loan\n",
        "df_cliente_score_rev_n_d['Count_Type_loan'] = df_cliente_score_rev_n_d['Type_of_Loan'].str.count(',')\n",
        "\n",
        "#removendo as variveis originais\n",
        "df_cliente_score_rev_n_d = df_cliente_score_rev_n_d.drop('Type_of_Loan',axis=1)\n",
        "\n",
        "df_cliente_score_rev_n_d.info()"
      ],
      "metadata": {
        "id": "hYHBXBqmZiCH",
        "outputId": "88afbf51-917b-4062-a459-ad8b02bef8d2",
        "colab": {
          "base_uri": "https://localhost:8080/"
        }
      },
      "execution_count": 46,
      "outputs": [
        {
          "output_type": "stream",
          "name": "stdout",
          "text": [
            "<class 'pandas.core.frame.DataFrame'>\n",
            "RangeIndex: 50000 entries, 0 to 49999\n",
            "Data columns (total 43 columns):\n",
            " #   Column                            Non-Null Count  Dtype  \n",
            "---  ------                            --------------  -----  \n",
            " 0   Age                               50000 non-null  int64  \n",
            " 1   Annual_Income                     50000 non-null  float64\n",
            " 2   Monthly_Inhand_Salary             50000 non-null  float64\n",
            " 3   Num_Bank_Accounts                 50000 non-null  int64  \n",
            " 4   Num_Credit_Card                   50000 non-null  int64  \n",
            " 5   Interest_Rate                     50000 non-null  int64  \n",
            " 6   Num_of_Loan                       50000 non-null  int64  \n",
            " 7   Delay_from_due_date               50000 non-null  int64  \n",
            " 8   Num_of_Delayed_Payment            50000 non-null  float64\n",
            " 9   Changed_Credit_Limit              50000 non-null  float64\n",
            " 10  Num_Credit_Inquiries              50000 non-null  float64\n",
            " 11  Credit_Mix                        50000 non-null  object \n",
            " 12  Outstanding_Debt                  50000 non-null  float64\n",
            " 13  Credit_Utilization_Ratio          50000 non-null  float64\n",
            " 14  Total_EMI_per_month               50000 non-null  float64\n",
            " 15  Amount_invested_monthly           50000 non-null  float64\n",
            " 16  Monthly_Balance                   50000 non-null  float64\n",
            " 17  Architect                         50000 non-null  bool   \n",
            " 18  Developer                         50000 non-null  bool   \n",
            " 19  Doctor                            50000 non-null  bool   \n",
            " 20  Engineer                          50000 non-null  bool   \n",
            " 21  Entrepreneur                      50000 non-null  bool   \n",
            " 22  Journalist                        50000 non-null  bool   \n",
            " 23  Lawyer                            50000 non-null  bool   \n",
            " 24  Manager                           50000 non-null  bool   \n",
            " 25  Mechanic                          50000 non-null  bool   \n",
            " 26  Media_Manager                     50000 non-null  bool   \n",
            " 27  Musician                          50000 non-null  bool   \n",
            " 28  Scientist                         50000 non-null  bool   \n",
            " 29  Teacher                           50000 non-null  bool   \n",
            " 30  Writer                            50000 non-null  bool   \n",
            " 31  _______                           50000 non-null  bool   \n",
            " 32  High_spent_Large_value_payments   50000 non-null  bool   \n",
            " 33  High_spent_Medium_value_payments  50000 non-null  bool   \n",
            " 34  High_spent_Small_value_payments   50000 non-null  bool   \n",
            " 35  Low_spent_Large_value_payments    50000 non-null  bool   \n",
            " 36  Low_spent_Medium_value_payments   50000 non-null  bool   \n",
            " 37  Low_spent_Small_value_payments    50000 non-null  bool   \n",
            " 38  No                                50000 non-null  bool   \n",
            " 39  Yes                               50000 non-null  bool   \n",
            " 40  Year_Credit_History_Age           50000 non-null  int64  \n",
            " 41  Month_Credit_History_Age          50000 non-null  int64  \n",
            " 42  Count_Type_loan                   50000 non-null  int64  \n",
            "dtypes: bool(23), float64(10), int64(9), object(1)\n",
            "memory usage: 8.7+ MB\n"
          ]
        }
      ]
    },
    {
      "cell_type": "code",
      "source": [
        "df_cliente_score_rev_n_d.Count_Type_loan.head()"
      ],
      "metadata": {
        "id": "tKr9u214aV0e",
        "outputId": "6a186497-1c85-4ef4-b908-c71b695aea16",
        "colab": {
          "base_uri": "https://localhost:8080/"
        }
      },
      "execution_count": 47,
      "outputs": [
        {
          "output_type": "execute_result",
          "data": {
            "text/plain": [
              "0    3\n",
              "1    3\n",
              "2    3\n",
              "3    3\n",
              "4    0\n",
              "Name: Count_Type_loan, dtype: int64"
            ]
          },
          "metadata": {},
          "execution_count": 47
        }
      ]
    },
    {
      "cell_type": "markdown",
      "source": [
        "Agora vamos apenas transformar a coluna Cred_mix em numerico antes de montarmos nosso modelo, vamos considerar 0 para mau pagador e 1 pra bom pagador"
      ],
      "metadata": {
        "id": "k7KC-HLvafOl"
      }
    },
    {
      "cell_type": "code",
      "source": [
        "#Vamos verificar se existe apenas Bad e Good na varivael\n",
        "df_cliente_score_rev_n_d.Credit_Mix.unique()"
      ],
      "metadata": {
        "id": "fVRigYW4ao7y",
        "outputId": "69b125e7-258f-4d9c-a475-ab2221cdf6e0",
        "colab": {
          "base_uri": "https://localhost:8080/"
        }
      },
      "execution_count": 48,
      "outputs": [
        {
          "output_type": "execute_result",
          "data": {
            "text/plain": [
              "array(['Good', '_', 'Standard', 'Bad'], dtype=object)"
            ]
          },
          "metadata": {},
          "execution_count": 48
        }
      ]
    },
    {
      "cell_type": "markdown",
      "source": [
        "Verificamos que a variavel nao é binaria como esperavamos e tambem existe um valor \"_\" que nao identifica o cliente vamos agora avaliar quantas ocorencias deste tipo temos na base"
      ],
      "metadata": {
        "id": "iP7q_3CabBg9"
      }
    },
    {
      "cell_type": "code",
      "source": [
        "# Contando as ocorrências de cada valor na coluna 'coluna'\n",
        "contagem_ocorrencias = df_cliente_score_rev_n_d.Credit_Mix.value_counts()\n",
        "print(contagem_ocorrencias)"
      ],
      "metadata": {
        "id": "XLzRcSrzbVC9",
        "outputId": "9720993f-bd37-4a18-f7b9-00e65b5502a1",
        "colab": {
          "base_uri": "https://localhost:8080/"
        }
      },
      "execution_count": 49,
      "outputs": [
        {
          "output_type": "stream",
          "name": "stdout",
          "text": [
            "Credit_Mix\n",
            "Standard    18379\n",
            "Good        12260\n",
            "_            9805\n",
            "Bad          9556\n",
            "Name: count, dtype: int64\n"
          ]
        }
      ]
    },
    {
      "cell_type": "code",
      "source": [
        "#Como existe muitas ocorrencias do valor \"_\" vamos mantelos na base porem substituir por \"undefined\"\n",
        "df_cliente_score_rev_n_d['Credit_Mix'] = df_cliente_score_rev_n_d['Credit_Mix'].replace(\"_\", \"Undefined\")\n",
        "contagem_ocorrencias = df_cliente_score_rev_n_d.Credit_Mix.value_counts()\n",
        "print(contagem_ocorrencias)"
      ],
      "metadata": {
        "id": "YJnALJvAbss9",
        "outputId": "2891cc92-fa98-4e77-8b14-b0e8e49e1be0",
        "colab": {
          "base_uri": "https://localhost:8080/"
        }
      },
      "execution_count": 50,
      "outputs": [
        {
          "output_type": "stream",
          "name": "stdout",
          "text": [
            "Credit_Mix\n",
            "Standard     18379\n",
            "Good         12260\n",
            "Undefined     9805\n",
            "Bad           9556\n",
            "Name: count, dtype: int64\n"
          ]
        }
      ]
    },
    {
      "cell_type": "code",
      "source": [
        "#Vamos agora dumieficar a variavel\n",
        "#gerando dummy\n",
        "dummy = pd.get_dummies(df_cliente_score_rev_n_d['Credit_Mix'],drop_first = True)\n",
        "\n",
        "# Concatenar as variáveis dummy com o dataframe original\n",
        "df_cliente_score_rev_n_d = pd.concat([df_cliente_score_rev_n_d, dummy], axis=1)\n",
        "\n",
        "#removendo varivel original\n",
        "df_cliente_score_rev_n_d = df_cliente_score_rev_n_d.drop('Credit_Mix',axis=1)\n",
        "\n",
        "df_cliente_score_rev_n_d.info()"
      ],
      "metadata": {
        "id": "TsemDLMqcQZE",
        "outputId": "fb8bf019-abe8-4222-dcd6-87e8507bc46a",
        "colab": {
          "base_uri": "https://localhost:8080/"
        }
      },
      "execution_count": 51,
      "outputs": [
        {
          "output_type": "stream",
          "name": "stdout",
          "text": [
            "<class 'pandas.core.frame.DataFrame'>\n",
            "RangeIndex: 50000 entries, 0 to 49999\n",
            "Data columns (total 45 columns):\n",
            " #   Column                            Non-Null Count  Dtype  \n",
            "---  ------                            --------------  -----  \n",
            " 0   Age                               50000 non-null  int64  \n",
            " 1   Annual_Income                     50000 non-null  float64\n",
            " 2   Monthly_Inhand_Salary             50000 non-null  float64\n",
            " 3   Num_Bank_Accounts                 50000 non-null  int64  \n",
            " 4   Num_Credit_Card                   50000 non-null  int64  \n",
            " 5   Interest_Rate                     50000 non-null  int64  \n",
            " 6   Num_of_Loan                       50000 non-null  int64  \n",
            " 7   Delay_from_due_date               50000 non-null  int64  \n",
            " 8   Num_of_Delayed_Payment            50000 non-null  float64\n",
            " 9   Changed_Credit_Limit              50000 non-null  float64\n",
            " 10  Num_Credit_Inquiries              50000 non-null  float64\n",
            " 11  Outstanding_Debt                  50000 non-null  float64\n",
            " 12  Credit_Utilization_Ratio          50000 non-null  float64\n",
            " 13  Total_EMI_per_month               50000 non-null  float64\n",
            " 14  Amount_invested_monthly           50000 non-null  float64\n",
            " 15  Monthly_Balance                   50000 non-null  float64\n",
            " 16  Architect                         50000 non-null  bool   \n",
            " 17  Developer                         50000 non-null  bool   \n",
            " 18  Doctor                            50000 non-null  bool   \n",
            " 19  Engineer                          50000 non-null  bool   \n",
            " 20  Entrepreneur                      50000 non-null  bool   \n",
            " 21  Journalist                        50000 non-null  bool   \n",
            " 22  Lawyer                            50000 non-null  bool   \n",
            " 23  Manager                           50000 non-null  bool   \n",
            " 24  Mechanic                          50000 non-null  bool   \n",
            " 25  Media_Manager                     50000 non-null  bool   \n",
            " 26  Musician                          50000 non-null  bool   \n",
            " 27  Scientist                         50000 non-null  bool   \n",
            " 28  Teacher                           50000 non-null  bool   \n",
            " 29  Writer                            50000 non-null  bool   \n",
            " 30  _______                           50000 non-null  bool   \n",
            " 31  High_spent_Large_value_payments   50000 non-null  bool   \n",
            " 32  High_spent_Medium_value_payments  50000 non-null  bool   \n",
            " 33  High_spent_Small_value_payments   50000 non-null  bool   \n",
            " 34  Low_spent_Large_value_payments    50000 non-null  bool   \n",
            " 35  Low_spent_Medium_value_payments   50000 non-null  bool   \n",
            " 36  Low_spent_Small_value_payments    50000 non-null  bool   \n",
            " 37  No                                50000 non-null  bool   \n",
            " 38  Yes                               50000 non-null  bool   \n",
            " 39  Year_Credit_History_Age           50000 non-null  int64  \n",
            " 40  Month_Credit_History_Age          50000 non-null  int64  \n",
            " 41  Count_Type_loan                   50000 non-null  int64  \n",
            " 42  Good                              50000 non-null  bool   \n",
            " 43  Standard                          50000 non-null  bool   \n",
            " 44  Undefined                         50000 non-null  bool   \n",
            "dtypes: bool(26), float64(10), int64(9)\n",
            "memory usage: 8.5 MB\n"
          ]
        }
      ]
    },
    {
      "cell_type": "markdown",
      "source": [
        "Agora com a reducao de dimensionalidade e os nulos tratados vamos montar nosso modelo de classificacao de random forest"
      ],
      "metadata": {
        "id": "VrtNkzY0ZNxJ"
      }
    },
    {
      "cell_type": "code",
      "source": [
        "# Pré-processamento dos dados\n",
        "X = df_cliente_score_rev.drop('Credit_Mix', axis=1)\n",
        "y = df_cliente_score_rev['Credit_Mix']"
      ],
      "metadata": {
        "id": "wThgBpjJZVDR"
      },
      "execution_count": null,
      "outputs": []
    },
    {
      "cell_type": "code",
      "source": [
        "X"
      ],
      "metadata": {
        "id": "Qr9rDMbZaK34",
        "outputId": "406b17d7-d141-4ecf-f9a6-b1a3de0ed096",
        "colab": {
          "base_uri": "https://localhost:8080/",
          "height": 791
        }
      },
      "execution_count": null,
      "outputs": [
        {
          "output_type": "execute_result",
          "data": {
            "text/plain": [
              "        Age Occupation  Annual_Income  Monthly_Inhand_Salary  \\\n",
              "0        23  Scientist       19114.12            1824.843333   \n",
              "1        24  Scientist       19114.12            1824.843333   \n",
              "2        24  Scientist       19114.12            1824.843333   \n",
              "3       24_  Scientist       19114.12            1592.843333   \n",
              "4        28    _______       34847.84            3037.986667   \n",
              "...     ...        ...            ...                    ...   \n",
              "49995  4975  Architect       20002.88            1929.906667   \n",
              "49996    25   Mechanic       39628.99            3302.415833   \n",
              "49997    25   Mechanic       39628.99            3359.415833   \n",
              "49998    25   Mechanic       39628.99            3302.415833   \n",
              "49999    25   Mechanic       39628.99            3359.415833   \n",
              "\n",
              "       Num_Bank_Accounts  Num_Credit_Card  Interest_Rate Num_of_Loan  \\\n",
              "0                      3                4              3           4   \n",
              "1                      3                4              3           4   \n",
              "2                      3                4              3           4   \n",
              "3                      3                4              3           4   \n",
              "4                      2                4              6           1   \n",
              "...                  ...              ...            ...         ...   \n",
              "49995                 10                8             29           5   \n",
              "49996                  4                6              7          2_   \n",
              "49997                  4                6              7           2   \n",
              "49998                  4                6              7          2_   \n",
              "49999                  4                6              7           2   \n",
              "\n",
              "                                            Type_of_Loan  Delay_from_due_date  \\\n",
              "0      Auto Loan, Credit-Builder Loan, Personal Loan,...                    3   \n",
              "1      Auto Loan, Credit-Builder Loan, Personal Loan,...                    3   \n",
              "2      Auto Loan, Credit-Builder Loan, Personal Loan,...                   -1   \n",
              "3      Auto Loan, Credit-Builder Loan, Personal Loan,...                    4   \n",
              "4                                    Credit-Builder Loan                    3   \n",
              "...                                                  ...                  ...   \n",
              "49995  Personal Loan, Auto Loan, Mortgage Loan, Stude...                   33   \n",
              "49996                        Auto Loan, and Student Loan                   20   \n",
              "49997                        Auto Loan, and Student Loan                   23   \n",
              "49998                        Auto Loan, and Student Loan                   21   \n",
              "49999                        Auto Loan, and Student Loan                   22   \n",
              "\n",
              "       ...  Num_Credit_Inquiries Outstanding_Debt  Credit_Utilization_Ratio  \\\n",
              "0      ...                2022.0           809.98                 35.030402   \n",
              "1      ...                   4.0           809.98                 33.053114   \n",
              "2      ...                   4.0           809.98                 33.811894   \n",
              "3      ...                   4.0           809.98                 32.430559   \n",
              "4      ...                   5.0           605.03                 25.926822   \n",
              "...    ...                   ...              ...                       ...   \n",
              "49995  ...                  12.0           3571.7                 34.780553   \n",
              "49996  ...                   7.0           502.38                 27.758522   \n",
              "49997  ...                   7.0           502.38                 36.858542   \n",
              "49998  ...                   7.0           502.38                 39.139840   \n",
              "49999  ...                   7.0           502.38                 34.108530   \n",
              "\n",
              "           Credit_History_Age  Payment_of_Min_Amount Total_EMI_per_month  \\\n",
              "0       22 Years and 9 Months                     No           49.574949   \n",
              "1      22 Years and 10 Months                     No           49.574949   \n",
              "2        0 Years and 0 Months                     No           49.574949   \n",
              "3       23 Years and 0 Months                     No           49.574949   \n",
              "4       27 Years and 3 Months                     No           18.816215   \n",
              "...                       ...                    ...                 ...   \n",
              "49995    0 Years and 0 Months                    Yes           60.964772   \n",
              "49996  31 Years and 11 Months                     NM           35.104023   \n",
              "49997   32 Years and 0 Months                     No           35.104023   \n",
              "49998   32 Years and 1 Months                     No           35.104023   \n",
              "49999   32 Years and 2 Months                     No           35.104023   \n",
              "\n",
              "      Amount_invested_monthly                 Payment_Behaviour  \\\n",
              "0                  236.642682    Low_spent_Small_value_payments   \n",
              "1                   21.465380  High_spent_Medium_value_payments   \n",
              "2                  148.233938   Low_spent_Medium_value_payments   \n",
              "3                   39.082511  High_spent_Medium_value_payments   \n",
              "4                   39.684018   High_spent_Large_value_payments   \n",
              "...                       ...                               ...   \n",
              "49995              146.486325    Low_spent_Small_value_payments   \n",
              "49996              181.442999    Low_spent_Small_value_payments   \n",
              "49997            10000.000000    Low_spent_Large_value_payments   \n",
              "49998               97.598580   High_spent_Small_value_payments   \n",
              "49999              220.457878   Low_spent_Medium_value_payments   \n",
              "\n",
              "       Monthly_Balance Monthly_Balance   \n",
              "0           186.266702       186.266702  \n",
              "1           361.444004       361.444004  \n",
              "2           264.675446       264.675446  \n",
              "3           343.826873       343.826873  \n",
              "4           485.298434       485.298434  \n",
              "...                ...              ...  \n",
              "49995       275.539570       275.539570  \n",
              "49996       409.394562       409.394562  \n",
              "49997       349.726332       349.726332  \n",
              "49998       463.238981       463.238981  \n",
              "49999       360.379683       360.379683  \n",
              "\n",
              "[50000 rows x 22 columns]"
            ],
            "text/html": [
              "\n",
              "  <div id=\"df-af2aff80-ceb0-4633-bccd-64c50acbd500\" class=\"colab-df-container\">\n",
              "    <div>\n",
              "<style scoped>\n",
              "    .dataframe tbody tr th:only-of-type {\n",
              "        vertical-align: middle;\n",
              "    }\n",
              "\n",
              "    .dataframe tbody tr th {\n",
              "        vertical-align: top;\n",
              "    }\n",
              "\n",
              "    .dataframe thead th {\n",
              "        text-align: right;\n",
              "    }\n",
              "</style>\n",
              "<table border=\"1\" class=\"dataframe\">\n",
              "  <thead>\n",
              "    <tr style=\"text-align: right;\">\n",
              "      <th></th>\n",
              "      <th>Age</th>\n",
              "      <th>Occupation</th>\n",
              "      <th>Annual_Income</th>\n",
              "      <th>Monthly_Inhand_Salary</th>\n",
              "      <th>Num_Bank_Accounts</th>\n",
              "      <th>Num_Credit_Card</th>\n",
              "      <th>Interest_Rate</th>\n",
              "      <th>Num_of_Loan</th>\n",
              "      <th>Type_of_Loan</th>\n",
              "      <th>Delay_from_due_date</th>\n",
              "      <th>...</th>\n",
              "      <th>Num_Credit_Inquiries</th>\n",
              "      <th>Outstanding_Debt</th>\n",
              "      <th>Credit_Utilization_Ratio</th>\n",
              "      <th>Credit_History_Age</th>\n",
              "      <th>Payment_of_Min_Amount</th>\n",
              "      <th>Total_EMI_per_month</th>\n",
              "      <th>Amount_invested_monthly</th>\n",
              "      <th>Payment_Behaviour</th>\n",
              "      <th>Monthly_Balance</th>\n",
              "      <th>Monthly_Balance</th>\n",
              "    </tr>\n",
              "  </thead>\n",
              "  <tbody>\n",
              "    <tr>\n",
              "      <th>0</th>\n",
              "      <td>23</td>\n",
              "      <td>Scientist</td>\n",
              "      <td>19114.12</td>\n",
              "      <td>1824.843333</td>\n",
              "      <td>3</td>\n",
              "      <td>4</td>\n",
              "      <td>3</td>\n",
              "      <td>4</td>\n",
              "      <td>Auto Loan, Credit-Builder Loan, Personal Loan,...</td>\n",
              "      <td>3</td>\n",
              "      <td>...</td>\n",
              "      <td>2022.0</td>\n",
              "      <td>809.98</td>\n",
              "      <td>35.030402</td>\n",
              "      <td>22 Years and 9 Months</td>\n",
              "      <td>No</td>\n",
              "      <td>49.574949</td>\n",
              "      <td>236.642682</td>\n",
              "      <td>Low_spent_Small_value_payments</td>\n",
              "      <td>186.266702</td>\n",
              "      <td>186.266702</td>\n",
              "    </tr>\n",
              "    <tr>\n",
              "      <th>1</th>\n",
              "      <td>24</td>\n",
              "      <td>Scientist</td>\n",
              "      <td>19114.12</td>\n",
              "      <td>1824.843333</td>\n",
              "      <td>3</td>\n",
              "      <td>4</td>\n",
              "      <td>3</td>\n",
              "      <td>4</td>\n",
              "      <td>Auto Loan, Credit-Builder Loan, Personal Loan,...</td>\n",
              "      <td>3</td>\n",
              "      <td>...</td>\n",
              "      <td>4.0</td>\n",
              "      <td>809.98</td>\n",
              "      <td>33.053114</td>\n",
              "      <td>22 Years and 10 Months</td>\n",
              "      <td>No</td>\n",
              "      <td>49.574949</td>\n",
              "      <td>21.465380</td>\n",
              "      <td>High_spent_Medium_value_payments</td>\n",
              "      <td>361.444004</td>\n",
              "      <td>361.444004</td>\n",
              "    </tr>\n",
              "    <tr>\n",
              "      <th>2</th>\n",
              "      <td>24</td>\n",
              "      <td>Scientist</td>\n",
              "      <td>19114.12</td>\n",
              "      <td>1824.843333</td>\n",
              "      <td>3</td>\n",
              "      <td>4</td>\n",
              "      <td>3</td>\n",
              "      <td>4</td>\n",
              "      <td>Auto Loan, Credit-Builder Loan, Personal Loan,...</td>\n",
              "      <td>-1</td>\n",
              "      <td>...</td>\n",
              "      <td>4.0</td>\n",
              "      <td>809.98</td>\n",
              "      <td>33.811894</td>\n",
              "      <td>0 Years and 0 Months</td>\n",
              "      <td>No</td>\n",
              "      <td>49.574949</td>\n",
              "      <td>148.233938</td>\n",
              "      <td>Low_spent_Medium_value_payments</td>\n",
              "      <td>264.675446</td>\n",
              "      <td>264.675446</td>\n",
              "    </tr>\n",
              "    <tr>\n",
              "      <th>3</th>\n",
              "      <td>24_</td>\n",
              "      <td>Scientist</td>\n",
              "      <td>19114.12</td>\n",
              "      <td>1592.843333</td>\n",
              "      <td>3</td>\n",
              "      <td>4</td>\n",
              "      <td>3</td>\n",
              "      <td>4</td>\n",
              "      <td>Auto Loan, Credit-Builder Loan, Personal Loan,...</td>\n",
              "      <td>4</td>\n",
              "      <td>...</td>\n",
              "      <td>4.0</td>\n",
              "      <td>809.98</td>\n",
              "      <td>32.430559</td>\n",
              "      <td>23 Years and 0 Months</td>\n",
              "      <td>No</td>\n",
              "      <td>49.574949</td>\n",
              "      <td>39.082511</td>\n",
              "      <td>High_spent_Medium_value_payments</td>\n",
              "      <td>343.826873</td>\n",
              "      <td>343.826873</td>\n",
              "    </tr>\n",
              "    <tr>\n",
              "      <th>4</th>\n",
              "      <td>28</td>\n",
              "      <td>_______</td>\n",
              "      <td>34847.84</td>\n",
              "      <td>3037.986667</td>\n",
              "      <td>2</td>\n",
              "      <td>4</td>\n",
              "      <td>6</td>\n",
              "      <td>1</td>\n",
              "      <td>Credit-Builder Loan</td>\n",
              "      <td>3</td>\n",
              "      <td>...</td>\n",
              "      <td>5.0</td>\n",
              "      <td>605.03</td>\n",
              "      <td>25.926822</td>\n",
              "      <td>27 Years and 3 Months</td>\n",
              "      <td>No</td>\n",
              "      <td>18.816215</td>\n",
              "      <td>39.684018</td>\n",
              "      <td>High_spent_Large_value_payments</td>\n",
              "      <td>485.298434</td>\n",
              "      <td>485.298434</td>\n",
              "    </tr>\n",
              "    <tr>\n",
              "      <th>...</th>\n",
              "      <td>...</td>\n",
              "      <td>...</td>\n",
              "      <td>...</td>\n",
              "      <td>...</td>\n",
              "      <td>...</td>\n",
              "      <td>...</td>\n",
              "      <td>...</td>\n",
              "      <td>...</td>\n",
              "      <td>...</td>\n",
              "      <td>...</td>\n",
              "      <td>...</td>\n",
              "      <td>...</td>\n",
              "      <td>...</td>\n",
              "      <td>...</td>\n",
              "      <td>...</td>\n",
              "      <td>...</td>\n",
              "      <td>...</td>\n",
              "      <td>...</td>\n",
              "      <td>...</td>\n",
              "      <td>...</td>\n",
              "      <td>...</td>\n",
              "    </tr>\n",
              "    <tr>\n",
              "      <th>49995</th>\n",
              "      <td>4975</td>\n",
              "      <td>Architect</td>\n",
              "      <td>20002.88</td>\n",
              "      <td>1929.906667</td>\n",
              "      <td>10</td>\n",
              "      <td>8</td>\n",
              "      <td>29</td>\n",
              "      <td>5</td>\n",
              "      <td>Personal Loan, Auto Loan, Mortgage Loan, Stude...</td>\n",
              "      <td>33</td>\n",
              "      <td>...</td>\n",
              "      <td>12.0</td>\n",
              "      <td>3571.7</td>\n",
              "      <td>34.780553</td>\n",
              "      <td>0 Years and 0 Months</td>\n",
              "      <td>Yes</td>\n",
              "      <td>60.964772</td>\n",
              "      <td>146.486325</td>\n",
              "      <td>Low_spent_Small_value_payments</td>\n",
              "      <td>275.539570</td>\n",
              "      <td>275.539570</td>\n",
              "    </tr>\n",
              "    <tr>\n",
              "      <th>49996</th>\n",
              "      <td>25</td>\n",
              "      <td>Mechanic</td>\n",
              "      <td>39628.99</td>\n",
              "      <td>3302.415833</td>\n",
              "      <td>4</td>\n",
              "      <td>6</td>\n",
              "      <td>7</td>\n",
              "      <td>2_</td>\n",
              "      <td>Auto Loan, and Student Loan</td>\n",
              "      <td>20</td>\n",
              "      <td>...</td>\n",
              "      <td>7.0</td>\n",
              "      <td>502.38</td>\n",
              "      <td>27.758522</td>\n",
              "      <td>31 Years and 11 Months</td>\n",
              "      <td>NM</td>\n",
              "      <td>35.104023</td>\n",
              "      <td>181.442999</td>\n",
              "      <td>Low_spent_Small_value_payments</td>\n",
              "      <td>409.394562</td>\n",
              "      <td>409.394562</td>\n",
              "    </tr>\n",
              "    <tr>\n",
              "      <th>49997</th>\n",
              "      <td>25</td>\n",
              "      <td>Mechanic</td>\n",
              "      <td>39628.99</td>\n",
              "      <td>3359.415833</td>\n",
              "      <td>4</td>\n",
              "      <td>6</td>\n",
              "      <td>7</td>\n",
              "      <td>2</td>\n",
              "      <td>Auto Loan, and Student Loan</td>\n",
              "      <td>23</td>\n",
              "      <td>...</td>\n",
              "      <td>7.0</td>\n",
              "      <td>502.38</td>\n",
              "      <td>36.858542</td>\n",
              "      <td>32 Years and 0 Months</td>\n",
              "      <td>No</td>\n",
              "      <td>35.104023</td>\n",
              "      <td>10000.000000</td>\n",
              "      <td>Low_spent_Large_value_payments</td>\n",
              "      <td>349.726332</td>\n",
              "      <td>349.726332</td>\n",
              "    </tr>\n",
              "    <tr>\n",
              "      <th>49998</th>\n",
              "      <td>25</td>\n",
              "      <td>Mechanic</td>\n",
              "      <td>39628.99</td>\n",
              "      <td>3302.415833</td>\n",
              "      <td>4</td>\n",
              "      <td>6</td>\n",
              "      <td>7</td>\n",
              "      <td>2_</td>\n",
              "      <td>Auto Loan, and Student Loan</td>\n",
              "      <td>21</td>\n",
              "      <td>...</td>\n",
              "      <td>7.0</td>\n",
              "      <td>502.38</td>\n",
              "      <td>39.139840</td>\n",
              "      <td>32 Years and 1 Months</td>\n",
              "      <td>No</td>\n",
              "      <td>35.104023</td>\n",
              "      <td>97.598580</td>\n",
              "      <td>High_spent_Small_value_payments</td>\n",
              "      <td>463.238981</td>\n",
              "      <td>463.238981</td>\n",
              "    </tr>\n",
              "    <tr>\n",
              "      <th>49999</th>\n",
              "      <td>25</td>\n",
              "      <td>Mechanic</td>\n",
              "      <td>39628.99</td>\n",
              "      <td>3359.415833</td>\n",
              "      <td>4</td>\n",
              "      <td>6</td>\n",
              "      <td>7</td>\n",
              "      <td>2</td>\n",
              "      <td>Auto Loan, and Student Loan</td>\n",
              "      <td>22</td>\n",
              "      <td>...</td>\n",
              "      <td>7.0</td>\n",
              "      <td>502.38</td>\n",
              "      <td>34.108530</td>\n",
              "      <td>32 Years and 2 Months</td>\n",
              "      <td>No</td>\n",
              "      <td>35.104023</td>\n",
              "      <td>220.457878</td>\n",
              "      <td>Low_spent_Medium_value_payments</td>\n",
              "      <td>360.379683</td>\n",
              "      <td>360.379683</td>\n",
              "    </tr>\n",
              "  </tbody>\n",
              "</table>\n",
              "<p>50000 rows × 22 columns</p>\n",
              "</div>\n",
              "    <div class=\"colab-df-buttons\">\n",
              "\n",
              "  <div class=\"colab-df-container\">\n",
              "    <button class=\"colab-df-convert\" onclick=\"convertToInteractive('df-af2aff80-ceb0-4633-bccd-64c50acbd500')\"\n",
              "            title=\"Convert this dataframe to an interactive table.\"\n",
              "            style=\"display:none;\">\n",
              "\n",
              "  <svg xmlns=\"http://www.w3.org/2000/svg\" height=\"24px\" viewBox=\"0 -960 960 960\">\n",
              "    <path d=\"M120-120v-720h720v720H120Zm60-500h600v-160H180v160Zm220 220h160v-160H400v160Zm0 220h160v-160H400v160ZM180-400h160v-160H180v160Zm440 0h160v-160H620v160ZM180-180h160v-160H180v160Zm440 0h160v-160H620v160Z\"/>\n",
              "  </svg>\n",
              "    </button>\n",
              "\n",
              "  <style>\n",
              "    .colab-df-container {\n",
              "      display:flex;\n",
              "      gap: 12px;\n",
              "    }\n",
              "\n",
              "    .colab-df-convert {\n",
              "      background-color: #E8F0FE;\n",
              "      border: none;\n",
              "      border-radius: 50%;\n",
              "      cursor: pointer;\n",
              "      display: none;\n",
              "      fill: #1967D2;\n",
              "      height: 32px;\n",
              "      padding: 0 0 0 0;\n",
              "      width: 32px;\n",
              "    }\n",
              "\n",
              "    .colab-df-convert:hover {\n",
              "      background-color: #E2EBFA;\n",
              "      box-shadow: 0px 1px 2px rgba(60, 64, 67, 0.3), 0px 1px 3px 1px rgba(60, 64, 67, 0.15);\n",
              "      fill: #174EA6;\n",
              "    }\n",
              "\n",
              "    .colab-df-buttons div {\n",
              "      margin-bottom: 4px;\n",
              "    }\n",
              "\n",
              "    [theme=dark] .colab-df-convert {\n",
              "      background-color: #3B4455;\n",
              "      fill: #D2E3FC;\n",
              "    }\n",
              "\n",
              "    [theme=dark] .colab-df-convert:hover {\n",
              "      background-color: #434B5C;\n",
              "      box-shadow: 0px 1px 3px 1px rgba(0, 0, 0, 0.15);\n",
              "      filter: drop-shadow(0px 1px 2px rgba(0, 0, 0, 0.3));\n",
              "      fill: #FFFFFF;\n",
              "    }\n",
              "  </style>\n",
              "\n",
              "    <script>\n",
              "      const buttonEl =\n",
              "        document.querySelector('#df-af2aff80-ceb0-4633-bccd-64c50acbd500 button.colab-df-convert');\n",
              "      buttonEl.style.display =\n",
              "        google.colab.kernel.accessAllowed ? 'block' : 'none';\n",
              "\n",
              "      async function convertToInteractive(key) {\n",
              "        const element = document.querySelector('#df-af2aff80-ceb0-4633-bccd-64c50acbd500');\n",
              "        const dataTable =\n",
              "          await google.colab.kernel.invokeFunction('convertToInteractive',\n",
              "                                                    [key], {});\n",
              "        if (!dataTable) return;\n",
              "\n",
              "        const docLinkHtml = 'Like what you see? Visit the ' +\n",
              "          '<a target=\"_blank\" href=https://colab.research.google.com/notebooks/data_table.ipynb>data table notebook</a>'\n",
              "          + ' to learn more about interactive tables.';\n",
              "        element.innerHTML = '';\n",
              "        dataTable['output_type'] = 'display_data';\n",
              "        await google.colab.output.renderOutput(dataTable, element);\n",
              "        const docLink = document.createElement('div');\n",
              "        docLink.innerHTML = docLinkHtml;\n",
              "        element.appendChild(docLink);\n",
              "      }\n",
              "    </script>\n",
              "  </div>\n",
              "\n",
              "\n",
              "<div id=\"df-c00a2d97-452d-4833-ba3f-c9274300e93b\">\n",
              "  <button class=\"colab-df-quickchart\" onclick=\"quickchart('df-c00a2d97-452d-4833-ba3f-c9274300e93b')\"\n",
              "            title=\"Suggest charts\"\n",
              "            style=\"display:none;\">\n",
              "\n",
              "<svg xmlns=\"http://www.w3.org/2000/svg\" height=\"24px\"viewBox=\"0 0 24 24\"\n",
              "     width=\"24px\">\n",
              "    <g>\n",
              "        <path d=\"M19 3H5c-1.1 0-2 .9-2 2v14c0 1.1.9 2 2 2h14c1.1 0 2-.9 2-2V5c0-1.1-.9-2-2-2zM9 17H7v-7h2v7zm4 0h-2V7h2v10zm4 0h-2v-4h2v4z\"/>\n",
              "    </g>\n",
              "</svg>\n",
              "  </button>\n",
              "\n",
              "<style>\n",
              "  .colab-df-quickchart {\n",
              "      --bg-color: #E8F0FE;\n",
              "      --fill-color: #1967D2;\n",
              "      --hover-bg-color: #E2EBFA;\n",
              "      --hover-fill-color: #174EA6;\n",
              "      --disabled-fill-color: #AAA;\n",
              "      --disabled-bg-color: #DDD;\n",
              "  }\n",
              "\n",
              "  [theme=dark] .colab-df-quickchart {\n",
              "      --bg-color: #3B4455;\n",
              "      --fill-color: #D2E3FC;\n",
              "      --hover-bg-color: #434B5C;\n",
              "      --hover-fill-color: #FFFFFF;\n",
              "      --disabled-bg-color: #3B4455;\n",
              "      --disabled-fill-color: #666;\n",
              "  }\n",
              "\n",
              "  .colab-df-quickchart {\n",
              "    background-color: var(--bg-color);\n",
              "    border: none;\n",
              "    border-radius: 50%;\n",
              "    cursor: pointer;\n",
              "    display: none;\n",
              "    fill: var(--fill-color);\n",
              "    height: 32px;\n",
              "    padding: 0;\n",
              "    width: 32px;\n",
              "  }\n",
              "\n",
              "  .colab-df-quickchart:hover {\n",
              "    background-color: var(--hover-bg-color);\n",
              "    box-shadow: 0 1px 2px rgba(60, 64, 67, 0.3), 0 1px 3px 1px rgba(60, 64, 67, 0.15);\n",
              "    fill: var(--button-hover-fill-color);\n",
              "  }\n",
              "\n",
              "  .colab-df-quickchart-complete:disabled,\n",
              "  .colab-df-quickchart-complete:disabled:hover {\n",
              "    background-color: var(--disabled-bg-color);\n",
              "    fill: var(--disabled-fill-color);\n",
              "    box-shadow: none;\n",
              "  }\n",
              "\n",
              "  .colab-df-spinner {\n",
              "    border: 2px solid var(--fill-color);\n",
              "    border-color: transparent;\n",
              "    border-bottom-color: var(--fill-color);\n",
              "    animation:\n",
              "      spin 1s steps(1) infinite;\n",
              "  }\n",
              "\n",
              "  @keyframes spin {\n",
              "    0% {\n",
              "      border-color: transparent;\n",
              "      border-bottom-color: var(--fill-color);\n",
              "      border-left-color: var(--fill-color);\n",
              "    }\n",
              "    20% {\n",
              "      border-color: transparent;\n",
              "      border-left-color: var(--fill-color);\n",
              "      border-top-color: var(--fill-color);\n",
              "    }\n",
              "    30% {\n",
              "      border-color: transparent;\n",
              "      border-left-color: var(--fill-color);\n",
              "      border-top-color: var(--fill-color);\n",
              "      border-right-color: var(--fill-color);\n",
              "    }\n",
              "    40% {\n",
              "      border-color: transparent;\n",
              "      border-right-color: var(--fill-color);\n",
              "      border-top-color: var(--fill-color);\n",
              "    }\n",
              "    60% {\n",
              "      border-color: transparent;\n",
              "      border-right-color: var(--fill-color);\n",
              "    }\n",
              "    80% {\n",
              "      border-color: transparent;\n",
              "      border-right-color: var(--fill-color);\n",
              "      border-bottom-color: var(--fill-color);\n",
              "    }\n",
              "    90% {\n",
              "      border-color: transparent;\n",
              "      border-bottom-color: var(--fill-color);\n",
              "    }\n",
              "  }\n",
              "</style>\n",
              "\n",
              "  <script>\n",
              "    async function quickchart(key) {\n",
              "      const quickchartButtonEl =\n",
              "        document.querySelector('#' + key + ' button');\n",
              "      quickchartButtonEl.disabled = true;  // To prevent multiple clicks.\n",
              "      quickchartButtonEl.classList.add('colab-df-spinner');\n",
              "      try {\n",
              "        const charts = await google.colab.kernel.invokeFunction(\n",
              "            'suggestCharts', [key], {});\n",
              "      } catch (error) {\n",
              "        console.error('Error during call to suggestCharts:', error);\n",
              "      }\n",
              "      quickchartButtonEl.classList.remove('colab-df-spinner');\n",
              "      quickchartButtonEl.classList.add('colab-df-quickchart-complete');\n",
              "    }\n",
              "    (() => {\n",
              "      let quickchartButtonEl =\n",
              "        document.querySelector('#df-c00a2d97-452d-4833-ba3f-c9274300e93b button');\n",
              "      quickchartButtonEl.style.display =\n",
              "        google.colab.kernel.accessAllowed ? 'block' : 'none';\n",
              "    })();\n",
              "  </script>\n",
              "</div>\n",
              "\n",
              "  <div id=\"id_a11738c1-f7d3-408f-8f5c-62e10b960914\">\n",
              "    <style>\n",
              "      .colab-df-generate {\n",
              "        background-color: #E8F0FE;\n",
              "        border: none;\n",
              "        border-radius: 50%;\n",
              "        cursor: pointer;\n",
              "        display: none;\n",
              "        fill: #1967D2;\n",
              "        height: 32px;\n",
              "        padding: 0 0 0 0;\n",
              "        width: 32px;\n",
              "      }\n",
              "\n",
              "      .colab-df-generate:hover {\n",
              "        background-color: #E2EBFA;\n",
              "        box-shadow: 0px 1px 2px rgba(60, 64, 67, 0.3), 0px 1px 3px 1px rgba(60, 64, 67, 0.15);\n",
              "        fill: #174EA6;\n",
              "      }\n",
              "\n",
              "      [theme=dark] .colab-df-generate {\n",
              "        background-color: #3B4455;\n",
              "        fill: #D2E3FC;\n",
              "      }\n",
              "\n",
              "      [theme=dark] .colab-df-generate:hover {\n",
              "        background-color: #434B5C;\n",
              "        box-shadow: 0px 1px 3px 1px rgba(0, 0, 0, 0.15);\n",
              "        filter: drop-shadow(0px 1px 2px rgba(0, 0, 0, 0.3));\n",
              "        fill: #FFFFFF;\n",
              "      }\n",
              "    </style>\n",
              "    <button class=\"colab-df-generate\" onclick=\"generateWithVariable('X')\"\n",
              "            title=\"Generate code using this dataframe.\"\n",
              "            style=\"display:none;\">\n",
              "\n",
              "  <svg xmlns=\"http://www.w3.org/2000/svg\" height=\"24px\"viewBox=\"0 0 24 24\"\n",
              "       width=\"24px\">\n",
              "    <path d=\"M7,19H8.4L18.45,9,17,7.55,7,17.6ZM5,21V16.75L18.45,3.32a2,2,0,0,1,2.83,0l1.4,1.43a1.91,1.91,0,0,1,.58,1.4,1.91,1.91,0,0,1-.58,1.4L9.25,21ZM18.45,9,17,7.55Zm-12,3A5.31,5.31,0,0,0,4.9,8.1,5.31,5.31,0,0,0,1,6.5,5.31,5.31,0,0,0,4.9,4.9,5.31,5.31,0,0,0,6.5,1,5.31,5.31,0,0,0,8.1,4.9,5.31,5.31,0,0,0,12,6.5,5.46,5.46,0,0,0,6.5,12Z\"/>\n",
              "  </svg>\n",
              "    </button>\n",
              "    <script>\n",
              "      (() => {\n",
              "      const buttonEl =\n",
              "        document.querySelector('#id_a11738c1-f7d3-408f-8f5c-62e10b960914 button.colab-df-generate');\n",
              "      buttonEl.style.display =\n",
              "        google.colab.kernel.accessAllowed ? 'block' : 'none';\n",
              "\n",
              "      buttonEl.onclick = () => {\n",
              "        google.colab.notebook.generateWithVariable('X');\n",
              "      }\n",
              "      })();\n",
              "    </script>\n",
              "  </div>\n",
              "\n",
              "    </div>\n",
              "  </div>\n"
            ],
            "application/vnd.google.colaboratory.intrinsic+json": {
              "type": "dataframe",
              "variable_name": "X"
            }
          },
          "metadata": {},
          "execution_count": 64
        }
      ]
    },
    {
      "cell_type": "code",
      "source": [
        "y"
      ],
      "metadata": {
        "id": "Sdt_r8aIaLhx",
        "outputId": "d4e46000-5763-414e-d367-1a6229073556",
        "colab": {
          "base_uri": "https://localhost:8080/"
        }
      },
      "execution_count": null,
      "outputs": [
        {
          "output_type": "execute_result",
          "data": {
            "text/plain": [
              "0        Good\n",
              "1        Good\n",
              "2        Good\n",
              "3        Good\n",
              "4        Good\n",
              "         ... \n",
              "49995       _\n",
              "49996    Good\n",
              "49997    Good\n",
              "49998    Good\n",
              "49999       _\n",
              "Name: Credit_Mix, Length: 50000, dtype: object"
            ]
          },
          "metadata": {},
          "execution_count": 65
        }
      ]
    },
    {
      "cell_type": "code",
      "source": [
        "# Dividir os dados em conjuntos de treinamento e teste\n",
        "X_train, X_test, y_train, y_test = train_test_split(X, y, test_size=0.2, random_state=42)"
      ],
      "metadata": {
        "id": "566VjeDIZ3DB"
      },
      "execution_count": null,
      "outputs": []
    },
    {
      "cell_type": "code",
      "source": [
        "# Normalizar os dados (opcional)\n",
        "scaler = StandardScaler()\n",
        "X_train = scaler.fit_transform(X_train)\n",
        "X_test = scaler.transform(X_test)"
      ],
      "metadata": {
        "id": "bI0hgKWYZ515",
        "outputId": "7c45708a-bb53-4fc9-d07c-76972d3c2b55",
        "colab": {
          "base_uri": "https://localhost:8080/",
          "height": 339
        }
      },
      "execution_count": null,
      "outputs": [
        {
          "output_type": "error",
          "ename": "ValueError",
          "evalue": "could not convert string to float: '21_'",
          "traceback": [
            "\u001b[0;31m---------------------------------------------------------------------------\u001b[0m",
            "\u001b[0;31mValueError\u001b[0m                                Traceback (most recent call last)",
            "\u001b[0;32m<ipython-input-76-3479677bd52a>\u001b[0m in \u001b[0;36m<cell line: 3>\u001b[0;34m()\u001b[0m\n\u001b[1;32m      1\u001b[0m \u001b[0;31m# Normalizar os dados (opcional)\u001b[0m\u001b[0;34m\u001b[0m\u001b[0;34m\u001b[0m\u001b[0m\n\u001b[1;32m      2\u001b[0m \u001b[0mscaler\u001b[0m \u001b[0;34m=\u001b[0m \u001b[0mStandardScaler\u001b[0m\u001b[0;34m(\u001b[0m\u001b[0;34m)\u001b[0m\u001b[0;34m\u001b[0m\u001b[0;34m\u001b[0m\u001b[0m\n\u001b[0;32m----> 3\u001b[0;31m \u001b[0mX_train\u001b[0m \u001b[0;34m=\u001b[0m \u001b[0mscaler\u001b[0m\u001b[0;34m.\u001b[0m\u001b[0mfit_transform\u001b[0m\u001b[0;34m(\u001b[0m\u001b[0mX_train\u001b[0m\u001b[0;34m)\u001b[0m\u001b[0;34m\u001b[0m\u001b[0;34m\u001b[0m\u001b[0m\n\u001b[0m\u001b[1;32m      4\u001b[0m \u001b[0mX_test\u001b[0m \u001b[0;34m=\u001b[0m \u001b[0mscaler\u001b[0m\u001b[0;34m.\u001b[0m\u001b[0mtransform\u001b[0m\u001b[0;34m(\u001b[0m\u001b[0mX_test\u001b[0m\u001b[0;34m)\u001b[0m\u001b[0;34m\u001b[0m\u001b[0;34m\u001b[0m\u001b[0m\n",
            "\u001b[0;32m/usr/local/lib/python3.10/dist-packages/sklearn/utils/_set_output.py\u001b[0m in \u001b[0;36mwrapped\u001b[0;34m(self, X, *args, **kwargs)\u001b[0m\n\u001b[1;32m    138\u001b[0m     \u001b[0;34m@\u001b[0m\u001b[0mwraps\u001b[0m\u001b[0;34m(\u001b[0m\u001b[0mf\u001b[0m\u001b[0;34m)\u001b[0m\u001b[0;34m\u001b[0m\u001b[0;34m\u001b[0m\u001b[0m\n\u001b[1;32m    139\u001b[0m     \u001b[0;32mdef\u001b[0m \u001b[0mwrapped\u001b[0m\u001b[0;34m(\u001b[0m\u001b[0mself\u001b[0m\u001b[0;34m,\u001b[0m \u001b[0mX\u001b[0m\u001b[0;34m,\u001b[0m \u001b[0;34m*\u001b[0m\u001b[0margs\u001b[0m\u001b[0;34m,\u001b[0m \u001b[0;34m**\u001b[0m\u001b[0mkwargs\u001b[0m\u001b[0;34m)\u001b[0m\u001b[0;34m:\u001b[0m\u001b[0;34m\u001b[0m\u001b[0;34m\u001b[0m\u001b[0m\n\u001b[0;32m--> 140\u001b[0;31m         \u001b[0mdata_to_wrap\u001b[0m \u001b[0;34m=\u001b[0m \u001b[0mf\u001b[0m\u001b[0;34m(\u001b[0m\u001b[0mself\u001b[0m\u001b[0;34m,\u001b[0m \u001b[0mX\u001b[0m\u001b[0;34m,\u001b[0m \u001b[0;34m*\u001b[0m\u001b[0margs\u001b[0m\u001b[0;34m,\u001b[0m \u001b[0;34m**\u001b[0m\u001b[0mkwargs\u001b[0m\u001b[0;34m)\u001b[0m\u001b[0;34m\u001b[0m\u001b[0;34m\u001b[0m\u001b[0m\n\u001b[0m\u001b[1;32m    141\u001b[0m         \u001b[0;32mif\u001b[0m \u001b[0misinstance\u001b[0m\u001b[0;34m(\u001b[0m\u001b[0mdata_to_wrap\u001b[0m\u001b[0;34m,\u001b[0m \u001b[0mtuple\u001b[0m\u001b[0;34m)\u001b[0m\u001b[0;34m:\u001b[0m\u001b[0;34m\u001b[0m\u001b[0;34m\u001b[0m\u001b[0m\n\u001b[1;32m    142\u001b[0m             \u001b[0;31m# only wrap the first output for cross decomposition\u001b[0m\u001b[0;34m\u001b[0m\u001b[0;34m\u001b[0m\u001b[0m\n",
            "\u001b[0;32m/usr/local/lib/python3.10/dist-packages/sklearn/base.py\u001b[0m in \u001b[0;36mfit_transform\u001b[0;34m(self, X, y, **fit_params)\u001b[0m\n\u001b[1;32m    876\u001b[0m         \u001b[0;32mif\u001b[0m \u001b[0my\u001b[0m \u001b[0;32mis\u001b[0m \u001b[0;32mNone\u001b[0m\u001b[0;34m:\u001b[0m\u001b[0;34m\u001b[0m\u001b[0;34m\u001b[0m\u001b[0m\n\u001b[1;32m    877\u001b[0m             \u001b[0;31m# fit method of arity 1 (unsupervised transformation)\u001b[0m\u001b[0;34m\u001b[0m\u001b[0;34m\u001b[0m\u001b[0m\n\u001b[0;32m--> 878\u001b[0;31m             \u001b[0;32mreturn\u001b[0m \u001b[0mself\u001b[0m\u001b[0;34m.\u001b[0m\u001b[0mfit\u001b[0m\u001b[0;34m(\u001b[0m\u001b[0mX\u001b[0m\u001b[0;34m,\u001b[0m \u001b[0;34m**\u001b[0m\u001b[0mfit_params\u001b[0m\u001b[0;34m)\u001b[0m\u001b[0;34m.\u001b[0m\u001b[0mtransform\u001b[0m\u001b[0;34m(\u001b[0m\u001b[0mX\u001b[0m\u001b[0;34m)\u001b[0m\u001b[0;34m\u001b[0m\u001b[0;34m\u001b[0m\u001b[0m\n\u001b[0m\u001b[1;32m    879\u001b[0m         \u001b[0;32melse\u001b[0m\u001b[0;34m:\u001b[0m\u001b[0;34m\u001b[0m\u001b[0;34m\u001b[0m\u001b[0m\n\u001b[1;32m    880\u001b[0m             \u001b[0;31m# fit method of arity 2 (supervised transformation)\u001b[0m\u001b[0;34m\u001b[0m\u001b[0;34m\u001b[0m\u001b[0m\n",
            "\u001b[0;32m/usr/local/lib/python3.10/dist-packages/sklearn/preprocessing/_data.py\u001b[0m in \u001b[0;36mfit\u001b[0;34m(self, X, y, sample_weight)\u001b[0m\n\u001b[1;32m    822\u001b[0m         \u001b[0;31m# Reset internal state before fitting\u001b[0m\u001b[0;34m\u001b[0m\u001b[0;34m\u001b[0m\u001b[0m\n\u001b[1;32m    823\u001b[0m         \u001b[0mself\u001b[0m\u001b[0;34m.\u001b[0m\u001b[0m_reset\u001b[0m\u001b[0;34m(\u001b[0m\u001b[0;34m)\u001b[0m\u001b[0;34m\u001b[0m\u001b[0;34m\u001b[0m\u001b[0m\n\u001b[0;32m--> 824\u001b[0;31m         \u001b[0;32mreturn\u001b[0m \u001b[0mself\u001b[0m\u001b[0;34m.\u001b[0m\u001b[0mpartial_fit\u001b[0m\u001b[0;34m(\u001b[0m\u001b[0mX\u001b[0m\u001b[0;34m,\u001b[0m \u001b[0my\u001b[0m\u001b[0;34m,\u001b[0m \u001b[0msample_weight\u001b[0m\u001b[0;34m)\u001b[0m\u001b[0;34m\u001b[0m\u001b[0;34m\u001b[0m\u001b[0m\n\u001b[0m\u001b[1;32m    825\u001b[0m \u001b[0;34m\u001b[0m\u001b[0m\n\u001b[1;32m    826\u001b[0m     \u001b[0;32mdef\u001b[0m \u001b[0mpartial_fit\u001b[0m\u001b[0;34m(\u001b[0m\u001b[0mself\u001b[0m\u001b[0;34m,\u001b[0m \u001b[0mX\u001b[0m\u001b[0;34m,\u001b[0m \u001b[0my\u001b[0m\u001b[0;34m=\u001b[0m\u001b[0;32mNone\u001b[0m\u001b[0;34m,\u001b[0m \u001b[0msample_weight\u001b[0m\u001b[0;34m=\u001b[0m\u001b[0;32mNone\u001b[0m\u001b[0;34m)\u001b[0m\u001b[0;34m:\u001b[0m\u001b[0;34m\u001b[0m\u001b[0;34m\u001b[0m\u001b[0m\n",
            "\u001b[0;32m/usr/local/lib/python3.10/dist-packages/sklearn/preprocessing/_data.py\u001b[0m in \u001b[0;36mpartial_fit\u001b[0;34m(self, X, y, sample_weight)\u001b[0m\n\u001b[1;32m    859\u001b[0m \u001b[0;34m\u001b[0m\u001b[0m\n\u001b[1;32m    860\u001b[0m         \u001b[0mfirst_call\u001b[0m \u001b[0;34m=\u001b[0m \u001b[0;32mnot\u001b[0m \u001b[0mhasattr\u001b[0m\u001b[0;34m(\u001b[0m\u001b[0mself\u001b[0m\u001b[0;34m,\u001b[0m \u001b[0;34m\"n_samples_seen_\"\u001b[0m\u001b[0;34m)\u001b[0m\u001b[0;34m\u001b[0m\u001b[0;34m\u001b[0m\u001b[0m\n\u001b[0;32m--> 861\u001b[0;31m         X = self._validate_data(\n\u001b[0m\u001b[1;32m    862\u001b[0m             \u001b[0mX\u001b[0m\u001b[0;34m,\u001b[0m\u001b[0;34m\u001b[0m\u001b[0;34m\u001b[0m\u001b[0m\n\u001b[1;32m    863\u001b[0m             \u001b[0maccept_sparse\u001b[0m\u001b[0;34m=\u001b[0m\u001b[0;34m(\u001b[0m\u001b[0;34m\"csr\"\u001b[0m\u001b[0;34m,\u001b[0m \u001b[0;34m\"csc\"\u001b[0m\u001b[0;34m)\u001b[0m\u001b[0;34m,\u001b[0m\u001b[0;34m\u001b[0m\u001b[0;34m\u001b[0m\u001b[0m\n",
            "\u001b[0;32m/usr/local/lib/python3.10/dist-packages/sklearn/base.py\u001b[0m in \u001b[0;36m_validate_data\u001b[0;34m(self, X, y, reset, validate_separately, **check_params)\u001b[0m\n\u001b[1;32m    563\u001b[0m             \u001b[0;32mraise\u001b[0m \u001b[0mValueError\u001b[0m\u001b[0;34m(\u001b[0m\u001b[0;34m\"Validation should be done on X, y or both.\"\u001b[0m\u001b[0;34m)\u001b[0m\u001b[0;34m\u001b[0m\u001b[0;34m\u001b[0m\u001b[0m\n\u001b[1;32m    564\u001b[0m         \u001b[0;32melif\u001b[0m \u001b[0;32mnot\u001b[0m \u001b[0mno_val_X\u001b[0m \u001b[0;32mand\u001b[0m \u001b[0mno_val_y\u001b[0m\u001b[0;34m:\u001b[0m\u001b[0;34m\u001b[0m\u001b[0;34m\u001b[0m\u001b[0m\n\u001b[0;32m--> 565\u001b[0;31m             \u001b[0mX\u001b[0m \u001b[0;34m=\u001b[0m \u001b[0mcheck_array\u001b[0m\u001b[0;34m(\u001b[0m\u001b[0mX\u001b[0m\u001b[0;34m,\u001b[0m \u001b[0minput_name\u001b[0m\u001b[0;34m=\u001b[0m\u001b[0;34m\"X\"\u001b[0m\u001b[0;34m,\u001b[0m \u001b[0;34m**\u001b[0m\u001b[0mcheck_params\u001b[0m\u001b[0;34m)\u001b[0m\u001b[0;34m\u001b[0m\u001b[0;34m\u001b[0m\u001b[0m\n\u001b[0m\u001b[1;32m    566\u001b[0m             \u001b[0mout\u001b[0m \u001b[0;34m=\u001b[0m \u001b[0mX\u001b[0m\u001b[0;34m\u001b[0m\u001b[0;34m\u001b[0m\u001b[0m\n\u001b[1;32m    567\u001b[0m         \u001b[0;32melif\u001b[0m \u001b[0mno_val_X\u001b[0m \u001b[0;32mand\u001b[0m \u001b[0;32mnot\u001b[0m \u001b[0mno_val_y\u001b[0m\u001b[0;34m:\u001b[0m\u001b[0;34m\u001b[0m\u001b[0;34m\u001b[0m\u001b[0m\n",
            "\u001b[0;32m/usr/local/lib/python3.10/dist-packages/sklearn/utils/validation.py\u001b[0m in \u001b[0;36mcheck_array\u001b[0;34m(array, accept_sparse, accept_large_sparse, dtype, order, copy, force_all_finite, ensure_2d, allow_nd, ensure_min_samples, ensure_min_features, estimator, input_name)\u001b[0m\n\u001b[1;32m    877\u001b[0m                     \u001b[0marray\u001b[0m \u001b[0;34m=\u001b[0m \u001b[0mxp\u001b[0m\u001b[0;34m.\u001b[0m\u001b[0mastype\u001b[0m\u001b[0;34m(\u001b[0m\u001b[0marray\u001b[0m\u001b[0;34m,\u001b[0m \u001b[0mdtype\u001b[0m\u001b[0;34m,\u001b[0m \u001b[0mcopy\u001b[0m\u001b[0;34m=\u001b[0m\u001b[0;32mFalse\u001b[0m\u001b[0;34m)\u001b[0m\u001b[0;34m\u001b[0m\u001b[0;34m\u001b[0m\u001b[0m\n\u001b[1;32m    878\u001b[0m                 \u001b[0;32melse\u001b[0m\u001b[0;34m:\u001b[0m\u001b[0;34m\u001b[0m\u001b[0;34m\u001b[0m\u001b[0m\n\u001b[0;32m--> 879\u001b[0;31m                     \u001b[0marray\u001b[0m \u001b[0;34m=\u001b[0m \u001b[0m_asarray_with_order\u001b[0m\u001b[0;34m(\u001b[0m\u001b[0marray\u001b[0m\u001b[0;34m,\u001b[0m \u001b[0morder\u001b[0m\u001b[0;34m=\u001b[0m\u001b[0morder\u001b[0m\u001b[0;34m,\u001b[0m \u001b[0mdtype\u001b[0m\u001b[0;34m=\u001b[0m\u001b[0mdtype\u001b[0m\u001b[0;34m,\u001b[0m \u001b[0mxp\u001b[0m\u001b[0;34m=\u001b[0m\u001b[0mxp\u001b[0m\u001b[0;34m)\u001b[0m\u001b[0;34m\u001b[0m\u001b[0;34m\u001b[0m\u001b[0m\n\u001b[0m\u001b[1;32m    880\u001b[0m             \u001b[0;32mexcept\u001b[0m \u001b[0mComplexWarning\u001b[0m \u001b[0;32mas\u001b[0m \u001b[0mcomplex_warning\u001b[0m\u001b[0;34m:\u001b[0m\u001b[0;34m\u001b[0m\u001b[0;34m\u001b[0m\u001b[0m\n\u001b[1;32m    881\u001b[0m                 raise ValueError(\n",
            "\u001b[0;32m/usr/local/lib/python3.10/dist-packages/sklearn/utils/_array_api.py\u001b[0m in \u001b[0;36m_asarray_with_order\u001b[0;34m(array, dtype, order, copy, xp)\u001b[0m\n\u001b[1;32m    183\u001b[0m     \u001b[0;32mif\u001b[0m \u001b[0mxp\u001b[0m\u001b[0;34m.\u001b[0m\u001b[0m__name__\u001b[0m \u001b[0;32min\u001b[0m \u001b[0;34m{\u001b[0m\u001b[0;34m\"numpy\"\u001b[0m\u001b[0;34m,\u001b[0m \u001b[0;34m\"numpy.array_api\"\u001b[0m\u001b[0;34m}\u001b[0m\u001b[0;34m:\u001b[0m\u001b[0;34m\u001b[0m\u001b[0;34m\u001b[0m\u001b[0m\n\u001b[1;32m    184\u001b[0m         \u001b[0;31m# Use NumPy API to support order\u001b[0m\u001b[0;34m\u001b[0m\u001b[0;34m\u001b[0m\u001b[0m\n\u001b[0;32m--> 185\u001b[0;31m         \u001b[0marray\u001b[0m \u001b[0;34m=\u001b[0m \u001b[0mnumpy\u001b[0m\u001b[0;34m.\u001b[0m\u001b[0masarray\u001b[0m\u001b[0;34m(\u001b[0m\u001b[0marray\u001b[0m\u001b[0;34m,\u001b[0m \u001b[0morder\u001b[0m\u001b[0;34m=\u001b[0m\u001b[0morder\u001b[0m\u001b[0;34m,\u001b[0m \u001b[0mdtype\u001b[0m\u001b[0;34m=\u001b[0m\u001b[0mdtype\u001b[0m\u001b[0;34m)\u001b[0m\u001b[0;34m\u001b[0m\u001b[0;34m\u001b[0m\u001b[0m\n\u001b[0m\u001b[1;32m    186\u001b[0m         \u001b[0;32mreturn\u001b[0m \u001b[0mxp\u001b[0m\u001b[0;34m.\u001b[0m\u001b[0masarray\u001b[0m\u001b[0;34m(\u001b[0m\u001b[0marray\u001b[0m\u001b[0;34m,\u001b[0m \u001b[0mcopy\u001b[0m\u001b[0;34m=\u001b[0m\u001b[0mcopy\u001b[0m\u001b[0;34m)\u001b[0m\u001b[0;34m\u001b[0m\u001b[0;34m\u001b[0m\u001b[0m\n\u001b[1;32m    187\u001b[0m     \u001b[0;32melse\u001b[0m\u001b[0;34m:\u001b[0m\u001b[0;34m\u001b[0m\u001b[0;34m\u001b[0m\u001b[0m\n",
            "\u001b[0;32m/usr/local/lib/python3.10/dist-packages/pandas/core/generic.py\u001b[0m in \u001b[0;36m__array__\u001b[0;34m(self, dtype)\u001b[0m\n\u001b[1;32m   2068\u001b[0m \u001b[0;34m\u001b[0m\u001b[0m\n\u001b[1;32m   2069\u001b[0m     \u001b[0;32mdef\u001b[0m \u001b[0m__array__\u001b[0m\u001b[0;34m(\u001b[0m\u001b[0mself\u001b[0m\u001b[0;34m,\u001b[0m \u001b[0mdtype\u001b[0m\u001b[0;34m:\u001b[0m \u001b[0mnpt\u001b[0m\u001b[0;34m.\u001b[0m\u001b[0mDTypeLike\u001b[0m \u001b[0;34m|\u001b[0m \u001b[0;32mNone\u001b[0m \u001b[0;34m=\u001b[0m \u001b[0;32mNone\u001b[0m\u001b[0;34m)\u001b[0m \u001b[0;34m->\u001b[0m \u001b[0mnp\u001b[0m\u001b[0;34m.\u001b[0m\u001b[0mndarray\u001b[0m\u001b[0;34m:\u001b[0m\u001b[0;34m\u001b[0m\u001b[0;34m\u001b[0m\u001b[0m\n\u001b[0;32m-> 2070\u001b[0;31m         \u001b[0;32mreturn\u001b[0m \u001b[0mnp\u001b[0m\u001b[0;34m.\u001b[0m\u001b[0masarray\u001b[0m\u001b[0;34m(\u001b[0m\u001b[0mself\u001b[0m\u001b[0;34m.\u001b[0m\u001b[0m_values\u001b[0m\u001b[0;34m,\u001b[0m \u001b[0mdtype\u001b[0m\u001b[0;34m=\u001b[0m\u001b[0mdtype\u001b[0m\u001b[0;34m)\u001b[0m\u001b[0;34m\u001b[0m\u001b[0;34m\u001b[0m\u001b[0m\n\u001b[0m\u001b[1;32m   2071\u001b[0m \u001b[0;34m\u001b[0m\u001b[0m\n\u001b[1;32m   2072\u001b[0m     def __array_wrap__(\n",
            "\u001b[0;31mValueError\u001b[0m: could not convert string to float: '21_'"
          ]
        }
      ]
    },
    {
      "cell_type": "code",
      "source": [
        "# Treinar o modelo (exemplo com RandomForestClassifier)\n",
        "model = RandomForestClassifier()\n",
        "model.fit(X_train, y_train)"
      ],
      "metadata": {
        "id": "08A5bpIuaBVZ",
        "outputId": "be230448-ad17-4c54-fada-567dec88c930",
        "colab": {
          "base_uri": "https://localhost:8080/",
          "height": 321
        }
      },
      "execution_count": null,
      "outputs": [
        {
          "output_type": "error",
          "ename": "ValueError",
          "evalue": "could not convert string to float: '21_'",
          "traceback": [
            "\u001b[0;31m---------------------------------------------------------------------------\u001b[0m",
            "\u001b[0;31mValueError\u001b[0m                                Traceback (most recent call last)",
            "\u001b[0;32m<ipython-input-73-d4f37a4f15ef>\u001b[0m in \u001b[0;36m<cell line: 3>\u001b[0;34m()\u001b[0m\n\u001b[1;32m      1\u001b[0m \u001b[0;31m# Treinar o modelo (exemplo com RandomForestClassifier)\u001b[0m\u001b[0;34m\u001b[0m\u001b[0;34m\u001b[0m\u001b[0m\n\u001b[1;32m      2\u001b[0m \u001b[0mmodel\u001b[0m \u001b[0;34m=\u001b[0m \u001b[0mRandomForestClassifier\u001b[0m\u001b[0;34m(\u001b[0m\u001b[0;34m)\u001b[0m\u001b[0;34m\u001b[0m\u001b[0;34m\u001b[0m\u001b[0m\n\u001b[0;32m----> 3\u001b[0;31m \u001b[0mmodel\u001b[0m\u001b[0;34m.\u001b[0m\u001b[0mfit\u001b[0m\u001b[0;34m(\u001b[0m\u001b[0mX_train\u001b[0m\u001b[0;34m,\u001b[0m \u001b[0my_train\u001b[0m\u001b[0;34m)\u001b[0m\u001b[0;34m\u001b[0m\u001b[0;34m\u001b[0m\u001b[0m\n\u001b[0m",
            "\u001b[0;32m/usr/local/lib/python3.10/dist-packages/sklearn/ensemble/_forest.py\u001b[0m in \u001b[0;36mfit\u001b[0;34m(self, X, y, sample_weight)\u001b[0m\n\u001b[1;32m    343\u001b[0m         \u001b[0;32mif\u001b[0m \u001b[0missparse\u001b[0m\u001b[0;34m(\u001b[0m\u001b[0my\u001b[0m\u001b[0;34m)\u001b[0m\u001b[0;34m:\u001b[0m\u001b[0;34m\u001b[0m\u001b[0;34m\u001b[0m\u001b[0m\n\u001b[1;32m    344\u001b[0m             \u001b[0;32mraise\u001b[0m \u001b[0mValueError\u001b[0m\u001b[0;34m(\u001b[0m\u001b[0;34m\"sparse multilabel-indicator for y is not supported.\"\u001b[0m\u001b[0;34m)\u001b[0m\u001b[0;34m\u001b[0m\u001b[0;34m\u001b[0m\u001b[0m\n\u001b[0;32m--> 345\u001b[0;31m         X, y = self._validate_data(\n\u001b[0m\u001b[1;32m    346\u001b[0m             \u001b[0mX\u001b[0m\u001b[0;34m,\u001b[0m \u001b[0my\u001b[0m\u001b[0;34m,\u001b[0m \u001b[0mmulti_output\u001b[0m\u001b[0;34m=\u001b[0m\u001b[0;32mTrue\u001b[0m\u001b[0;34m,\u001b[0m \u001b[0maccept_sparse\u001b[0m\u001b[0;34m=\u001b[0m\u001b[0;34m\"csc\"\u001b[0m\u001b[0;34m,\u001b[0m \u001b[0mdtype\u001b[0m\u001b[0;34m=\u001b[0m\u001b[0mDTYPE\u001b[0m\u001b[0;34m\u001b[0m\u001b[0;34m\u001b[0m\u001b[0m\n\u001b[1;32m    347\u001b[0m         )\n",
            "\u001b[0;32m/usr/local/lib/python3.10/dist-packages/sklearn/base.py\u001b[0m in \u001b[0;36m_validate_data\u001b[0;34m(self, X, y, reset, validate_separately, **check_params)\u001b[0m\n\u001b[1;32m    582\u001b[0m                 \u001b[0my\u001b[0m \u001b[0;34m=\u001b[0m \u001b[0mcheck_array\u001b[0m\u001b[0;34m(\u001b[0m\u001b[0my\u001b[0m\u001b[0;34m,\u001b[0m \u001b[0minput_name\u001b[0m\u001b[0;34m=\u001b[0m\u001b[0;34m\"y\"\u001b[0m\u001b[0;34m,\u001b[0m \u001b[0;34m**\u001b[0m\u001b[0mcheck_y_params\u001b[0m\u001b[0;34m)\u001b[0m\u001b[0;34m\u001b[0m\u001b[0;34m\u001b[0m\u001b[0m\n\u001b[1;32m    583\u001b[0m             \u001b[0;32melse\u001b[0m\u001b[0;34m:\u001b[0m\u001b[0;34m\u001b[0m\u001b[0;34m\u001b[0m\u001b[0m\n\u001b[0;32m--> 584\u001b[0;31m                 \u001b[0mX\u001b[0m\u001b[0;34m,\u001b[0m \u001b[0my\u001b[0m \u001b[0;34m=\u001b[0m \u001b[0mcheck_X_y\u001b[0m\u001b[0;34m(\u001b[0m\u001b[0mX\u001b[0m\u001b[0;34m,\u001b[0m \u001b[0my\u001b[0m\u001b[0;34m,\u001b[0m \u001b[0;34m**\u001b[0m\u001b[0mcheck_params\u001b[0m\u001b[0;34m)\u001b[0m\u001b[0;34m\u001b[0m\u001b[0;34m\u001b[0m\u001b[0m\n\u001b[0m\u001b[1;32m    585\u001b[0m             \u001b[0mout\u001b[0m \u001b[0;34m=\u001b[0m \u001b[0mX\u001b[0m\u001b[0;34m,\u001b[0m \u001b[0my\u001b[0m\u001b[0;34m\u001b[0m\u001b[0;34m\u001b[0m\u001b[0m\n\u001b[1;32m    586\u001b[0m \u001b[0;34m\u001b[0m\u001b[0m\n",
            "\u001b[0;32m/usr/local/lib/python3.10/dist-packages/sklearn/utils/validation.py\u001b[0m in \u001b[0;36mcheck_X_y\u001b[0;34m(X, y, accept_sparse, accept_large_sparse, dtype, order, copy, force_all_finite, ensure_2d, allow_nd, multi_output, ensure_min_samples, ensure_min_features, y_numeric, estimator)\u001b[0m\n\u001b[1;32m   1104\u001b[0m         )\n\u001b[1;32m   1105\u001b[0m \u001b[0;34m\u001b[0m\u001b[0m\n\u001b[0;32m-> 1106\u001b[0;31m     X = check_array(\n\u001b[0m\u001b[1;32m   1107\u001b[0m         \u001b[0mX\u001b[0m\u001b[0;34m,\u001b[0m\u001b[0;34m\u001b[0m\u001b[0;34m\u001b[0m\u001b[0m\n\u001b[1;32m   1108\u001b[0m         \u001b[0maccept_sparse\u001b[0m\u001b[0;34m=\u001b[0m\u001b[0maccept_sparse\u001b[0m\u001b[0;34m,\u001b[0m\u001b[0;34m\u001b[0m\u001b[0;34m\u001b[0m\u001b[0m\n",
            "\u001b[0;32m/usr/local/lib/python3.10/dist-packages/sklearn/utils/validation.py\u001b[0m in \u001b[0;36mcheck_array\u001b[0;34m(array, accept_sparse, accept_large_sparse, dtype, order, copy, force_all_finite, ensure_2d, allow_nd, ensure_min_samples, ensure_min_features, estimator, input_name)\u001b[0m\n\u001b[1;32m    877\u001b[0m                     \u001b[0marray\u001b[0m \u001b[0;34m=\u001b[0m \u001b[0mxp\u001b[0m\u001b[0;34m.\u001b[0m\u001b[0mastype\u001b[0m\u001b[0;34m(\u001b[0m\u001b[0marray\u001b[0m\u001b[0;34m,\u001b[0m \u001b[0mdtype\u001b[0m\u001b[0;34m,\u001b[0m \u001b[0mcopy\u001b[0m\u001b[0;34m=\u001b[0m\u001b[0;32mFalse\u001b[0m\u001b[0;34m)\u001b[0m\u001b[0;34m\u001b[0m\u001b[0;34m\u001b[0m\u001b[0m\n\u001b[1;32m    878\u001b[0m                 \u001b[0;32melse\u001b[0m\u001b[0;34m:\u001b[0m\u001b[0;34m\u001b[0m\u001b[0;34m\u001b[0m\u001b[0m\n\u001b[0;32m--> 879\u001b[0;31m                     \u001b[0marray\u001b[0m \u001b[0;34m=\u001b[0m \u001b[0m_asarray_with_order\u001b[0m\u001b[0;34m(\u001b[0m\u001b[0marray\u001b[0m\u001b[0;34m,\u001b[0m \u001b[0morder\u001b[0m\u001b[0;34m=\u001b[0m\u001b[0morder\u001b[0m\u001b[0;34m,\u001b[0m \u001b[0mdtype\u001b[0m\u001b[0;34m=\u001b[0m\u001b[0mdtype\u001b[0m\u001b[0;34m,\u001b[0m \u001b[0mxp\u001b[0m\u001b[0;34m=\u001b[0m\u001b[0mxp\u001b[0m\u001b[0;34m)\u001b[0m\u001b[0;34m\u001b[0m\u001b[0;34m\u001b[0m\u001b[0m\n\u001b[0m\u001b[1;32m    880\u001b[0m             \u001b[0;32mexcept\u001b[0m \u001b[0mComplexWarning\u001b[0m \u001b[0;32mas\u001b[0m \u001b[0mcomplex_warning\u001b[0m\u001b[0;34m:\u001b[0m\u001b[0;34m\u001b[0m\u001b[0;34m\u001b[0m\u001b[0m\n\u001b[1;32m    881\u001b[0m                 raise ValueError(\n",
            "\u001b[0;32m/usr/local/lib/python3.10/dist-packages/sklearn/utils/_array_api.py\u001b[0m in \u001b[0;36m_asarray_with_order\u001b[0;34m(array, dtype, order, copy, xp)\u001b[0m\n\u001b[1;32m    183\u001b[0m     \u001b[0;32mif\u001b[0m \u001b[0mxp\u001b[0m\u001b[0;34m.\u001b[0m\u001b[0m__name__\u001b[0m \u001b[0;32min\u001b[0m \u001b[0;34m{\u001b[0m\u001b[0;34m\"numpy\"\u001b[0m\u001b[0;34m,\u001b[0m \u001b[0;34m\"numpy.array_api\"\u001b[0m\u001b[0;34m}\u001b[0m\u001b[0;34m:\u001b[0m\u001b[0;34m\u001b[0m\u001b[0;34m\u001b[0m\u001b[0m\n\u001b[1;32m    184\u001b[0m         \u001b[0;31m# Use NumPy API to support order\u001b[0m\u001b[0;34m\u001b[0m\u001b[0;34m\u001b[0m\u001b[0m\n\u001b[0;32m--> 185\u001b[0;31m         \u001b[0marray\u001b[0m \u001b[0;34m=\u001b[0m \u001b[0mnumpy\u001b[0m\u001b[0;34m.\u001b[0m\u001b[0masarray\u001b[0m\u001b[0;34m(\u001b[0m\u001b[0marray\u001b[0m\u001b[0;34m,\u001b[0m \u001b[0morder\u001b[0m\u001b[0;34m=\u001b[0m\u001b[0morder\u001b[0m\u001b[0;34m,\u001b[0m \u001b[0mdtype\u001b[0m\u001b[0;34m=\u001b[0m\u001b[0mdtype\u001b[0m\u001b[0;34m)\u001b[0m\u001b[0;34m\u001b[0m\u001b[0;34m\u001b[0m\u001b[0m\n\u001b[0m\u001b[1;32m    186\u001b[0m         \u001b[0;32mreturn\u001b[0m \u001b[0mxp\u001b[0m\u001b[0;34m.\u001b[0m\u001b[0masarray\u001b[0m\u001b[0;34m(\u001b[0m\u001b[0marray\u001b[0m\u001b[0;34m,\u001b[0m \u001b[0mcopy\u001b[0m\u001b[0;34m=\u001b[0m\u001b[0mcopy\u001b[0m\u001b[0;34m)\u001b[0m\u001b[0;34m\u001b[0m\u001b[0;34m\u001b[0m\u001b[0m\n\u001b[1;32m    187\u001b[0m     \u001b[0;32melse\u001b[0m\u001b[0;34m:\u001b[0m\u001b[0;34m\u001b[0m\u001b[0;34m\u001b[0m\u001b[0m\n",
            "\u001b[0;32m/usr/local/lib/python3.10/dist-packages/pandas/core/generic.py\u001b[0m in \u001b[0;36m__array__\u001b[0;34m(self, dtype)\u001b[0m\n\u001b[1;32m   2068\u001b[0m \u001b[0;34m\u001b[0m\u001b[0m\n\u001b[1;32m   2069\u001b[0m     \u001b[0;32mdef\u001b[0m \u001b[0m__array__\u001b[0m\u001b[0;34m(\u001b[0m\u001b[0mself\u001b[0m\u001b[0;34m,\u001b[0m \u001b[0mdtype\u001b[0m\u001b[0;34m:\u001b[0m \u001b[0mnpt\u001b[0m\u001b[0;34m.\u001b[0m\u001b[0mDTypeLike\u001b[0m \u001b[0;34m|\u001b[0m \u001b[0;32mNone\u001b[0m \u001b[0;34m=\u001b[0m \u001b[0;32mNone\u001b[0m\u001b[0;34m)\u001b[0m \u001b[0;34m->\u001b[0m \u001b[0mnp\u001b[0m\u001b[0;34m.\u001b[0m\u001b[0mndarray\u001b[0m\u001b[0;34m:\u001b[0m\u001b[0;34m\u001b[0m\u001b[0;34m\u001b[0m\u001b[0m\n\u001b[0;32m-> 2070\u001b[0;31m         \u001b[0;32mreturn\u001b[0m \u001b[0mnp\u001b[0m\u001b[0;34m.\u001b[0m\u001b[0masarray\u001b[0m\u001b[0;34m(\u001b[0m\u001b[0mself\u001b[0m\u001b[0;34m.\u001b[0m\u001b[0m_values\u001b[0m\u001b[0;34m,\u001b[0m \u001b[0mdtype\u001b[0m\u001b[0;34m=\u001b[0m\u001b[0mdtype\u001b[0m\u001b[0;34m)\u001b[0m\u001b[0;34m\u001b[0m\u001b[0;34m\u001b[0m\u001b[0m\n\u001b[0m\u001b[1;32m   2071\u001b[0m \u001b[0;34m\u001b[0m\u001b[0m\n\u001b[1;32m   2072\u001b[0m     def __array_wrap__(\n",
            "\u001b[0;31mValueError\u001b[0m: could not convert string to float: '21_'"
          ]
        }
      ]
    },
    {
      "cell_type": "code",
      "source": [
        "# Fazer previsões\n",
        "predictions = model.predict(X_test)"
      ],
      "metadata": {
        "id": "FYbDLbvZaDGJ"
      },
      "execution_count": null,
      "outputs": []
    },
    {
      "cell_type": "code",
      "source": [
        "# Avaliar o modelo\n",
        "print(\"Matriz de Confusão:\")\n",
        "print(confusion_matrix(y_test, predictions))\n",
        "print(\"\\nRelatório de Classificação:\")\n",
        "print(classification_report(y_test, predictions))"
      ],
      "metadata": {
        "id": "OqqXqaQ2aFDx"
      },
      "execution_count": null,
      "outputs": []
    }
  ]
}