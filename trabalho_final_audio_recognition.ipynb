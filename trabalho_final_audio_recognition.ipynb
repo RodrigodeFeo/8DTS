{
  "cells": [
    {
      "cell_type": "markdown",
      "metadata": {
        "id": "view-in-github",
        "colab_type": "text"
      },
      "source": [
        "<a href=\"https://colab.research.google.com/github/RodrigodeFeo/8DTS/blob/main/trabalho_final_audio_recognition.ipynb\" target=\"_parent\"><img src=\"https://colab.research.google.com/assets/colab-badge.svg\" alt=\"Open In Colab\"/></a>"
      ]
    },
    {
      "cell_type": "code",
      "execution_count": 1,
      "id": "305de938-56c3-4df6-a8d7-356a9830815a",
      "metadata": {
        "tags": [],
        "colab": {
          "base_uri": "https://localhost:8080/"
        },
        "id": "305de938-56c3-4df6-a8d7-356a9830815a",
        "outputId": "81e99697-d5fc-4205-84bb-45c149e015fd"
      },
      "outputs": [
        {
          "output_type": "stream",
          "name": "stdout",
          "text": [
            "Collecting SpeechRecognition\n",
            "  Downloading SpeechRecognition-3.10.4-py2.py3-none-any.whl.metadata (28 kB)\n",
            "Requirement already satisfied: requests>=2.26.0 in /usr/local/lib/python3.10/dist-packages (from SpeechRecognition) (2.31.0)\n",
            "Requirement already satisfied: typing-extensions in /usr/local/lib/python3.10/dist-packages (from SpeechRecognition) (4.12.2)\n",
            "Requirement already satisfied: charset-normalizer<4,>=2 in /usr/local/lib/python3.10/dist-packages (from requests>=2.26.0->SpeechRecognition) (3.3.2)\n",
            "Requirement already satisfied: idna<4,>=2.5 in /usr/local/lib/python3.10/dist-packages (from requests>=2.26.0->SpeechRecognition) (3.7)\n",
            "Requirement already satisfied: urllib3<3,>=1.21.1 in /usr/local/lib/python3.10/dist-packages (from requests>=2.26.0->SpeechRecognition) (2.0.7)\n",
            "Requirement already satisfied: certifi>=2017.4.17 in /usr/local/lib/python3.10/dist-packages (from requests>=2.26.0->SpeechRecognition) (2024.7.4)\n",
            "Downloading SpeechRecognition-3.10.4-py2.py3-none-any.whl (32.8 MB)\n",
            "\u001b[2K   \u001b[90m━━━━━━━━━━━━━━━━━━━━━━━━━━━━━━━━━━━━━━━━\u001b[0m \u001b[32m32.8/32.8 MB\u001b[0m \u001b[31m9.9 MB/s\u001b[0m eta \u001b[36m0:00:00\u001b[0m\n",
            "\u001b[?25hInstalling collected packages: SpeechRecognition\n",
            "Successfully installed SpeechRecognition-3.10.4\n",
            "Collecting gtts\n",
            "  Downloading gTTS-2.5.2-py3-none-any.whl.metadata (4.1 kB)\n",
            "Requirement already satisfied: requests<3,>=2.27 in /usr/local/lib/python3.10/dist-packages (from gtts) (2.31.0)\n",
            "Requirement already satisfied: click<8.2,>=7.1 in /usr/local/lib/python3.10/dist-packages (from gtts) (8.1.7)\n",
            "Requirement already satisfied: charset-normalizer<4,>=2 in /usr/local/lib/python3.10/dist-packages (from requests<3,>=2.27->gtts) (3.3.2)\n",
            "Requirement already satisfied: idna<4,>=2.5 in /usr/local/lib/python3.10/dist-packages (from requests<3,>=2.27->gtts) (3.7)\n",
            "Requirement already satisfied: urllib3<3,>=1.21.1 in /usr/local/lib/python3.10/dist-packages (from requests<3,>=2.27->gtts) (2.0.7)\n",
            "Requirement already satisfied: certifi>=2017.4.17 in /usr/local/lib/python3.10/dist-packages (from requests<3,>=2.27->gtts) (2024.7.4)\n",
            "Downloading gTTS-2.5.2-py3-none-any.whl (29 kB)\n",
            "Installing collected packages: gtts\n",
            "Successfully installed gtts-2.5.2\n",
            "Collecting pydub\n",
            "  Downloading pydub-0.25.1-py2.py3-none-any.whl.metadata (1.4 kB)\n",
            "Downloading pydub-0.25.1-py2.py3-none-any.whl (32 kB)\n",
            "Installing collected packages: pydub\n",
            "Successfully installed pydub-0.25.1\n",
            "Collecting sounddevice\n",
            "  Downloading sounddevice-0.4.7-py3-none-any.whl.metadata (1.4 kB)\n",
            "Requirement already satisfied: CFFI>=1.0 in /usr/local/lib/python3.10/dist-packages (from sounddevice) (1.16.0)\n",
            "Requirement already satisfied: pycparser in /usr/local/lib/python3.10/dist-packages (from CFFI>=1.0->sounddevice) (2.22)\n",
            "Downloading sounddevice-0.4.7-py3-none-any.whl (32 kB)\n",
            "Installing collected packages: sounddevice\n",
            "Successfully installed sounddevice-0.4.7\n",
            "Collecting pyaudio\n",
            "  Downloading PyAudio-0.2.14.tar.gz (47 kB)\n",
            "\u001b[2K     \u001b[90m━━━━━━━━━━━━━━━━━━━━━━━━━━━━━━━━━━━━━━━━\u001b[0m \u001b[32m47.1/47.1 kB\u001b[0m \u001b[31m1.5 MB/s\u001b[0m eta \u001b[36m0:00:00\u001b[0m\n",
            "\u001b[?25h  Installing build dependencies ... \u001b[?25l\u001b[?25hdone\n",
            "  Getting requirements to build wheel ... \u001b[?25l\u001b[?25hdone\n",
            "  Preparing metadata (pyproject.toml) ... \u001b[?25l\u001b[?25hdone\n",
            "Building wheels for collected packages: pyaudio\n",
            "  \u001b[1;31merror\u001b[0m: \u001b[1msubprocess-exited-with-error\u001b[0m\n",
            "  \n",
            "  \u001b[31m×\u001b[0m \u001b[32mBuilding wheel for pyaudio \u001b[0m\u001b[1;32m(\u001b[0m\u001b[32mpyproject.toml\u001b[0m\u001b[1;32m)\u001b[0m did not run successfully.\n",
            "  \u001b[31m│\u001b[0m exit code: \u001b[1;36m1\u001b[0m\n",
            "  \u001b[31m╰─>\u001b[0m See above for output.\n",
            "  \n",
            "  \u001b[1;35mnote\u001b[0m: This error originates from a subprocess, and is likely not a problem with pip.\n",
            "  Building wheel for pyaudio (pyproject.toml) ... \u001b[?25l\u001b[?25herror\n",
            "\u001b[31m  ERROR: Failed building wheel for pyaudio\u001b[0m\u001b[31m\n",
            "\u001b[0mFailed to build pyaudio\n",
            "\u001b[31mERROR: ERROR: Failed to build installable wheels for some pyproject.toml based projects (pyaudio)\u001b[0m\u001b[31m\n",
            "\u001b[0m/bin/bash: line 1: brew: command not found\n"
          ]
        }
      ],
      "source": [
        "# Instalar as bibliotecas necessárias\n",
        "!pip install SpeechRecognition\n",
        "!pip install gtts\n",
        "!pip install pydub\n",
        "!pip install sounddevice\n",
        "!pip install pyaudio\n",
        "\n",
        "!brew install ffmpeg\n",
        "#!sudo apt-get install ffmeg\n",
        "\n"
      ]
    },
    {
      "cell_type": "code",
      "execution_count": 2,
      "id": "ee36a93f-475f-41ae-9375-7e54e8e96623",
      "metadata": {
        "tags": [],
        "colab": {
          "base_uri": "https://localhost:8080/",
          "height": 332
        },
        "id": "ee36a93f-475f-41ae-9375-7e54e8e96623",
        "outputId": "91c31668-2ce8-4393-bfe0-56579a77687b"
      },
      "outputs": [
        {
          "output_type": "error",
          "ename": "OSError",
          "evalue": "PortAudio library not found",
          "traceback": [
            "\u001b[0;31m---------------------------------------------------------------------------\u001b[0m",
            "\u001b[0;31mOSError\u001b[0m                                   Traceback (most recent call last)",
            "\u001b[0;32m<ipython-input-2-8ad8d112990d>\u001b[0m in \u001b[0;36m<cell line: 2>\u001b[0;34m()\u001b[0m\n\u001b[1;32m      1\u001b[0m \u001b[0;31m# Importar as bibliotecas\u001b[0m\u001b[0;34m\u001b[0m\u001b[0;34m\u001b[0m\u001b[0m\n\u001b[0;32m----> 2\u001b[0;31m \u001b[0;32mimport\u001b[0m \u001b[0msounddevice\u001b[0m \u001b[0;32mas\u001b[0m \u001b[0msd\u001b[0m\u001b[0;34m\u001b[0m\u001b[0;34m\u001b[0m\u001b[0m\n\u001b[0m\u001b[1;32m      3\u001b[0m \u001b[0;32mfrom\u001b[0m \u001b[0mscipy\u001b[0m\u001b[0;34m.\u001b[0m\u001b[0mio\u001b[0m\u001b[0;34m.\u001b[0m\u001b[0mwavfile\u001b[0m \u001b[0;32mimport\u001b[0m \u001b[0mwrite\u001b[0m\u001b[0;34m\u001b[0m\u001b[0;34m\u001b[0m\u001b[0m\n\u001b[1;32m      4\u001b[0m \u001b[0;32mimport\u001b[0m \u001b[0mspeech_recognition\u001b[0m \u001b[0;32mas\u001b[0m \u001b[0msr\u001b[0m\u001b[0;34m\u001b[0m\u001b[0;34m\u001b[0m\u001b[0m\n\u001b[1;32m      5\u001b[0m \u001b[0;32mfrom\u001b[0m \u001b[0mgtts\u001b[0m \u001b[0;32mimport\u001b[0m \u001b[0mgTTS\u001b[0m\u001b[0;34m\u001b[0m\u001b[0;34m\u001b[0m\u001b[0m\n",
            "\u001b[0;32m/usr/local/lib/python3.10/dist-packages/sounddevice.py\u001b[0m in \u001b[0;36m<module>\u001b[0;34m\u001b[0m\n\u001b[1;32m     69\u001b[0m             \u001b[0;32mbreak\u001b[0m\u001b[0;34m\u001b[0m\u001b[0;34m\u001b[0m\u001b[0m\n\u001b[1;32m     70\u001b[0m     \u001b[0;32melse\u001b[0m\u001b[0;34m:\u001b[0m\u001b[0;34m\u001b[0m\u001b[0;34m\u001b[0m\u001b[0m\n\u001b[0;32m---> 71\u001b[0;31m         \u001b[0;32mraise\u001b[0m \u001b[0mOSError\u001b[0m\u001b[0;34m(\u001b[0m\u001b[0;34m'PortAudio library not found'\u001b[0m\u001b[0;34m)\u001b[0m\u001b[0;34m\u001b[0m\u001b[0;34m\u001b[0m\u001b[0m\n\u001b[0m\u001b[1;32m     72\u001b[0m     \u001b[0m_lib\u001b[0m \u001b[0;34m=\u001b[0m \u001b[0m_ffi\u001b[0m\u001b[0;34m.\u001b[0m\u001b[0mdlopen\u001b[0m\u001b[0;34m(\u001b[0m\u001b[0m_libname\u001b[0m\u001b[0;34m)\u001b[0m\u001b[0;34m\u001b[0m\u001b[0;34m\u001b[0m\u001b[0m\n\u001b[1;32m     73\u001b[0m \u001b[0;32mexcept\u001b[0m \u001b[0mOSError\u001b[0m\u001b[0;34m:\u001b[0m\u001b[0;34m\u001b[0m\u001b[0;34m\u001b[0m\u001b[0m\n",
            "\u001b[0;31mOSError\u001b[0m: PortAudio library not found"
          ]
        }
      ],
      "source": [
        "# Importar as bibliotecas\n",
        "import sounddevice as sd\n",
        "from scipy.io.wavfile import write\n",
        "import speech_recognition as sr\n",
        "from gtts import gTTS\n",
        "from pydub import AudioSegment\n",
        "from pydub.playback import play\n",
        "from datetime import datetime\n",
        "import pyaudio\n",
        "\n",
        "\n",
        "\n"
      ]
    },
    {
      "cell_type": "code",
      "execution_count": null,
      "id": "7bcdee50-c415-40d7-b6ad-2eabba6111ce",
      "metadata": {
        "tags": [],
        "id": "7bcdee50-c415-40d7-b6ad-2eabba6111ce"
      },
      "outputs": [],
      "source": [
        "# Função para capturar áudio\n",
        "def capture_audio(filename='output.wav', duration=5, fs=44100):\n",
        "    print(\"Gravando...\")\n",
        "    recording = sd.rec(int(duration * fs), samplerate=fs, channels=1)\n",
        "    sd.wait()  # Esperar a gravação terminar\n",
        "    write(filename, fs, recording)\n",
        "    print(\"Gravação concluída\")\n",
        "\n",
        "def convert_to_wav(input_file, output_file):\n",
        "    try:\n",
        "        audio = AudioSegment.from_file(input_file)\n",
        "        audio.export(output_file, format=\"wav\")\n",
        "        print(f\"Arquivo convertido para {output_file}\")\n",
        "    except Exception as e:\n",
        "        print(f\"Erro ao converter arquivo: {e}\")\n",
        "\n",
        "# Função para reconhecer fala\n",
        "def recognize_speech(filename='output.wav'):\n",
        "    recognizer = sr.Recognizer()\n",
        "    with sr.AudioFile(filename) as source:\n",
        "        audio_data = recognizer.record(source)\n",
        "        try:\n",
        "            text = recognizer.recognize_google(audio_data, language='pt-BR')\n",
        "            print(\"Você disse: \" + text)\n",
        "            return text\n",
        "        except sr.UnknownValueError:\n",
        "            print(\"Não consegui entender o áudio\")\n",
        "            return \"\"\n",
        "        except sr.RequestError as e:\n",
        "            print(\"Erro no serviço de reconhecimento de fala; {0}\".format(e))\n",
        "            return \"\"\n",
        "\n",
        "# Função para gerar e salvar frases com TTS\n",
        "def generate_and_save_tts(text, filename):\n",
        "    tts = gTTS(text=text, lang='pt')\n",
        "    tts.save(filename)\n",
        "\n",
        "# Função para responder com áudio\n",
        "def respond_with_audio(response_text):\n",
        "    tts = gTTS(text=response_text, lang='pt')\n",
        "    tts.save(\"response.mp3\")\n",
        "    response_audio = AudioSegment.from_file(\"response.mp3\", format=\"mp3\")\n",
        "    play(response_audio)\n",
        "\n",
        "# Função principal da URA\n",
        "def ura():\n",
        "    audio_files = {\n",
        "        1: 'option_1.mp3',\n",
        "        2: 'option_2.mp3',\n",
        "        3: 'option_3.mp3',\n",
        "        4: 'option_4.mp3'\n",
        "    }\n",
        "    # Loop principal\n",
        "    while True:\n",
        "        # Reproduzir boas-vindas e opções\n",
        "        play(AudioSegment.from_file('welcome.mp3'))\n",
        "        for i in range(1, 5):\n",
        "            play(AudioSegment.from_file(audio_files[i]))\n",
        "\n",
        "        # Capturar áudio do usuário e reconhecer escolha\n",
        "        print(\"Aguardando sua escolha...\")\n",
        "        capture_audio()\n",
        "        convert_to_wav('output.wav', 'output.wav')\n",
        "        user_choice = recognize_speech('output.wav')  # Arquivo de áudio capturado pelo usuário\n",
        "\n",
        "        # Identificar e responder à escolha do usuário\n",
        "        if 'saldo' in user_choice:\n",
        "            play(AudioSegment.from_file('confirmation_1.mp3'))\n",
        "        elif 'simulação' in user_choice:\n",
        "            play(AudioSegment.from_file('confirmation_2.mp3'))\n",
        "        elif 'atendente' in user_choice:\n",
        "            play(AudioSegment.from_file('confirmation_3.mp3'))\n",
        "        elif 'sair' in user_choice:\n",
        "            play(AudioSegment.from_file('confirmation_4.mp3'))\n",
        "            break  # Encerra o loop quando o usuário escolhe sair do atendimento\n",
        "        else:\n",
        "            print(\"Opção não reconhecida. Por favor, tente novamente.\")\n",
        "            play(AudioSegment.from_file('retry_option.mp3'))\n",
        "\n",
        "    # Fim do atendimento\n",
        "    print(\"Atendimento encerrado.\")"
      ]
    },
    {
      "cell_type": "code",
      "execution_count": null,
      "id": "0c4f49c2-39b6-4411-a828-a07c7abcbc2f",
      "metadata": {
        "tags": [],
        "id": "0c4f49c2-39b6-4411-a828-a07c7abcbc2f"
      },
      "outputs": [],
      "source": [
        "# Frases de boas-vindas e opções\n",
        "welcome_text = \"Bem-vindo ao atendimento da Empresa Quantum Finance. Por favor, escolha uma das opções a seguir:\"\n",
        "option_texts = [\n",
        "    \"Para consulta ao saldo da conta, diga Saldo da Conta.\",\n",
        "    \"Para simulação de compra internacional, diga simulação de compra.\",\n",
        "    \"Para falar com um atendente, diga falar com um atendente.\",\n",
        "    \"Para sair do atendimento, diga sair.\"\n",
        "]\n",
        "\n",
        "# Frases de confirmação de escolha\n",
        "confirmation_texts = [\n",
        "    \"Você escolheu a opção 'Consulta ao saldo da conta'. Seu saldo atual é de 2 milhões e zero centavos.\",\n",
        "    \"Você escolheu a opção 'Simulação de compra internacional'. No momento não estamos realizando comprars internacionais.\",\n",
        "    \"Você escolheu a opção 'Falar com um atendente'. No momento todos os atendentes estão ocupados, tente novamente mais tarde.\",\n",
        "    \"Você escolheu a opção 'Sair do atendimento'. Seu atendimento será encerrado.\"\n",
        "]\n",
        "\n",
        "# Frases de confirmação de escolha\n",
        "retry_text = \"Opção não reconhecida. Por favor, tente novamente.\"\n",
        "\n",
        "\n",
        "\n",
        "# Gerar e salvar áudios\n",
        "generate_and_save_tts(welcome_text, 'welcome.mp3')\n",
        "generate_and_save_tts(retry_text, 'retry_option.mp3')\n",
        "\n",
        "for idx, text in enumerate(option_texts):\n",
        "    generate_and_save_tts(text, f'option_{idx+1}.mp3')\n",
        "for idx, text in enumerate(confirmation_texts):\n",
        "    generate_and_save_tts(text, f'confirmation_{idx+1}.mp3')"
      ]
    },
    {
      "cell_type": "code",
      "execution_count": null,
      "id": "4cc27cd5-98b9-45aa-8c0a-8ae007f96487",
      "metadata": {
        "tags": [],
        "id": "4cc27cd5-98b9-45aa-8c0a-8ae007f96487",
        "outputId": "2f90a5e2-707b-4e5f-8b9c-36fca6c8243e"
      },
      "outputs": [
        {
          "name": "stdout",
          "output_type": "stream",
          "text": [
            "Aguardando sua escolha...\n",
            "Gravando...\n",
            "Gravação concluída\n",
            "Arquivo convertido para output.wav\n",
            "Você disse: falar com um atendente\n"
          ]
        },
        {
          "ename": "KeyboardInterrupt",
          "evalue": "",
          "output_type": "error",
          "traceback": [
            "\u001b[0;31m---------------------------------------------------------------------------\u001b[0m",
            "\u001b[0;31mKeyboardInterrupt\u001b[0m                         Traceback (most recent call last)",
            "Cell \u001b[0;32mIn[55], line 2\u001b[0m\n\u001b[1;32m      1\u001b[0m \u001b[38;5;66;03m# Executar a URA\u001b[39;00m\n\u001b[0;32m----> 2\u001b[0m ura()\n",
            "Cell \u001b[0;32mIn[49], line 56\u001b[0m, in \u001b[0;36mura\u001b[0;34m()\u001b[0m\n\u001b[1;32m     53\u001b[0m \u001b[38;5;66;03m# Loop principal\u001b[39;00m\n\u001b[1;32m     54\u001b[0m \u001b[38;5;28;01mwhile\u001b[39;00m \u001b[38;5;28;01mTrue\u001b[39;00m:\n\u001b[1;32m     55\u001b[0m     \u001b[38;5;66;03m# Reproduzir boas-vindas e opções\u001b[39;00m\n\u001b[0;32m---> 56\u001b[0m     play(AudioSegment\u001b[38;5;241m.\u001b[39mfrom_file(\u001b[38;5;124m'\u001b[39m\u001b[38;5;124mwelcome.mp3\u001b[39m\u001b[38;5;124m'\u001b[39m))\n\u001b[1;32m     57\u001b[0m     \u001b[38;5;28;01mfor\u001b[39;00m i \u001b[38;5;129;01min\u001b[39;00m \u001b[38;5;28mrange\u001b[39m(\u001b[38;5;241m1\u001b[39m, \u001b[38;5;241m5\u001b[39m):\n\u001b[1;32m     58\u001b[0m         play(AudioSegment\u001b[38;5;241m.\u001b[39mfrom_file(audio_files[i]))\n",
            "File \u001b[0;32m~/anaconda3/lib/python3.11/site-packages/pydub/playback.py:64\u001b[0m, in \u001b[0;36mplay\u001b[0;34m(audio_segment)\u001b[0m\n\u001b[1;32m     61\u001b[0m     \u001b[38;5;28;01mreturn\u001b[39;00m\n\u001b[1;32m     63\u001b[0m \u001b[38;5;28;01mtry\u001b[39;00m:\n\u001b[0;32m---> 64\u001b[0m     _play_with_pyaudio(audio_segment)\n\u001b[1;32m     65\u001b[0m     \u001b[38;5;28;01mreturn\u001b[39;00m\n\u001b[1;32m     66\u001b[0m \u001b[38;5;28;01mexcept\u001b[39;00m \u001b[38;5;167;01mImportError\u001b[39;00m:\n",
            "File \u001b[0;32m~/anaconda3/lib/python3.11/site-packages/pydub/playback.py:33\u001b[0m, in \u001b[0;36m_play_with_pyaudio\u001b[0;34m(seg)\u001b[0m\n\u001b[1;32m     30\u001b[0m \u001b[38;5;28;01mtry\u001b[39;00m:\n\u001b[1;32m     31\u001b[0m     \u001b[38;5;66;03m# break audio into half-second chunks (to allows keyboard interrupts)\u001b[39;00m\n\u001b[1;32m     32\u001b[0m     \u001b[38;5;28;01mfor\u001b[39;00m chunk \u001b[38;5;129;01min\u001b[39;00m make_chunks(seg, \u001b[38;5;241m500\u001b[39m):\n\u001b[0;32m---> 33\u001b[0m         stream\u001b[38;5;241m.\u001b[39mwrite(chunk\u001b[38;5;241m.\u001b[39m_data)\n\u001b[1;32m     34\u001b[0m \u001b[38;5;28;01mfinally\u001b[39;00m:\n\u001b[1;32m     35\u001b[0m     stream\u001b[38;5;241m.\u001b[39mstop_stream()\n",
            "File \u001b[0;32m~/anaconda3/lib/python3.11/site-packages/pyaudio/__init__.py:550\u001b[0m, in \u001b[0;36mPyAudio.Stream.write\u001b[0;34m(self, frames, num_frames, exception_on_underflow)\u001b[0m\n\u001b[1;32m    547\u001b[0m     width \u001b[38;5;241m=\u001b[39m get_sample_size(\u001b[38;5;28mself\u001b[39m\u001b[38;5;241m.\u001b[39m_format)\n\u001b[1;32m    548\u001b[0m     num_frames \u001b[38;5;241m=\u001b[39m \u001b[38;5;28mint\u001b[39m(\u001b[38;5;28mlen\u001b[39m(frames) \u001b[38;5;241m/\u001b[39m (\u001b[38;5;28mself\u001b[39m\u001b[38;5;241m.\u001b[39m_channels \u001b[38;5;241m*\u001b[39m width))\n\u001b[0;32m--> 550\u001b[0m pa\u001b[38;5;241m.\u001b[39mwrite_stream(\u001b[38;5;28mself\u001b[39m\u001b[38;5;241m.\u001b[39m_stream, frames, num_frames,\n\u001b[1;32m    551\u001b[0m                 exception_on_underflow)\n",
            "\u001b[0;31mKeyboardInterrupt\u001b[0m: "
          ]
        }
      ],
      "source": [
        "# Executar a URA\n",
        "ura()"
      ]
    },
    {
      "cell_type": "code",
      "execution_count": null,
      "id": "4a5f14ab-a489-4ae1-a432-761ee0109112",
      "metadata": {
        "id": "4a5f14ab-a489-4ae1-a432-761ee0109112"
      },
      "outputs": [],
      "source": []
    }
  ],
  "metadata": {
    "kernelspec": {
      "display_name": "Python 3 (ipykernel)",
      "language": "python",
      "name": "python3"
    },
    "language_info": {
      "codemirror_mode": {
        "name": "ipython",
        "version": 3
      },
      "file_extension": ".py",
      "mimetype": "text/x-python",
      "name": "python",
      "nbconvert_exporter": "python",
      "pygments_lexer": "ipython3",
      "version": "3.11.5"
    },
    "colab": {
      "provenance": [],
      "include_colab_link": true
    }
  },
  "nbformat": 4,
  "nbformat_minor": 5
}