{
  "nbformat": 4,
  "nbformat_minor": 0,
  "metadata": {
    "colab": {
      "provenance": [],
      "authorship_tag": "ABX9TyN0GG8ogY8Vb/F1G9WaU7Sl",
      "include_colab_link": true
    },
    "kernelspec": {
      "name": "python3",
      "display_name": "Python 3"
    },
    "language_info": {
      "name": "python"
    }
  },
  "cells": [
    {
      "cell_type": "markdown",
      "metadata": {
        "id": "view-in-github",
        "colab_type": "text"
      },
      "source": [
        "<a href=\"https://colab.research.google.com/github/RodrigodeFeo/8DTS/blob/main/Trabalho_Integrado_RL_RM351578.ipynb\" target=\"_parent\"><img src=\"https://colab.research.google.com/assets/colab-badge.svg\" alt=\"Open In Colab\"/></a>"
      ]
    },
    {
      "cell_type": "markdown",
      "source": [
        "Exemplo de solução de problema de sugestao de conteudo com o algoritmo Q-Learning\n"
      ],
      "metadata": {
        "id": "atbsmt7WkhYR"
      }
    },
    {
      "cell_type": "code",
      "source": [
        "import numpy as np\n",
        "\n",
        "# Definindo o ambiente e as recompensas\n",
        "num_estados = 3  # número de estados (representando o histórico de interações)\n",
        "num_acoes = 2  # número de ações possíveis (sugestões de conteúdo)\n",
        "\n",
        "recompensas = np.array([\n",
        "    [0, 1],  # Estado 0: Programação, Matemática\n",
        "    [1, 0],  # Estado 1: Matemática, Programação\n",
        "    [1, 1]   # Estado 2: Matemática, Matemática\n",
        "])\n",
        "\n",
        "# Inicializando a tabela Q com zeros\n",
        "Q = np.zeros((num_estados, num_acoes))\n",
        "\n",
        "# Definindo os parâmetros do algoritmo\n",
        "gamma = 0.8  # fator de desconto\n",
        "alfa = 0.1   # taxa de aprendizagem\n",
        "num_episodios = 1000\n",
        "\n",
        "# Função de seleção de ação epsilon-greedy\n",
        "def selecionar_acao(Q, estado, epsilon):\n",
        "    if np.random.rand() < epsilon:\n",
        "        return np.random.choice(num_acoes)  # ação aleatória\n",
        "    else:\n",
        "        return np.argmax(Q[estado, :])  # ação com maior valor Q\n",
        "\n",
        "# Algoritmo Q-Learning\n",
        "for episodio in range(num_episodios):\n",
        "    estado = np.random.randint(0, num_estados)  # estado inicial aleatório\n",
        "\n",
        "    while True:\n",
        "        acao = selecionar_acao(Q, estado, epsilon=0.1)  # seleção de ação epsilon-greedy\n",
        "\n",
        "        # Executar a ação e observar a recompensa e o próximo estado\n",
        "        proximo_estado = np.random.randint(0, num_estados)  # estado seguinte aleatório\n",
        "        recompensa = recompensas[estado, acao]\n",
        "\n",
        "        # Atualizar o valor Q do estado atual e da ação selecionada\n",
        "        Q[estado, acao] = Q[estado, acao] + alfa * (recompensa + gamma * np.max(Q[proximo_estado, :]) - Q[estado, acao])\n",
        "\n",
        "        estado = proximo_estado\n",
        "\n",
        "        if estado == num_estados - 1:  # estado final\n",
        "            break\n",
        "\n",
        "# Testando o agente\n",
        "estado_atual = 0  # estado inicial\n",
        "print(\"Estado inicial:\", estado_atual)\n",
        "while True:\n",
        "    acao = np.argmax(Q[estado_atual, :])  # escolha da melhor ação com base nos valores Q aprendidos\n",
        "    print(\"Ação selecionada:\", acao)\n",
        "    estado_atual = np.random.randint(0, num_estados)  # transição para um próximo estado aleatório\n",
        "    print(\"Próximo estado:\", estado_atual)\n",
        "    if estado_atual == num_estados - 1:  # estado final\n",
        "        break\n"
      ],
      "metadata": {
        "colab": {
          "base_uri": "https://localhost:8080/"
        },
        "id": "BwK9q4o6kimP",
        "outputId": "4511e22b-f311-4357-830b-51d81e33a3c7"
      },
      "execution_count": null,
      "outputs": [
        {
          "output_type": "stream",
          "name": "stdout",
          "text": [
            "Estado inicial: 0\n",
            "Ação selecionada: 1\n",
            "Próximo estado: 0\n",
            "Ação selecionada: 1\n",
            "Próximo estado: 1\n",
            "Ação selecionada: 0\n",
            "Próximo estado: 0\n",
            "Ação selecionada: 1\n",
            "Próximo estado: 0\n",
            "Ação selecionada: 1\n",
            "Próximo estado: 0\n",
            "Ação selecionada: 1\n",
            "Próximo estado: 2\n"
          ]
        }
      ]
    }
  ]
}