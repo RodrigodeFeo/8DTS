{
  "nbformat": 4,
  "nbformat_minor": 0,
  "metadata": {
    "colab": {
      "provenance": [],
      "gpuType": "A100",
      "include_colab_link": true
    },
    "kernelspec": {
      "name": "python3",
      "display_name": "Python 3"
    },
    "accelerator": "GPU",
    "widgets": {
      "application/vnd.jupyter.widget-state+json": {
        "bd68449b423a40a5874ade07ecd91bdb": {
          "model_module": "@jupyter-widgets/controls",
          "model_name": "HBoxModel",
          "model_module_version": "1.5.0",
          "state": {
            "_dom_classes": [],
            "_model_module": "@jupyter-widgets/controls",
            "_model_module_version": "1.5.0",
            "_model_name": "HBoxModel",
            "_view_count": null,
            "_view_module": "@jupyter-widgets/controls",
            "_view_module_version": "1.5.0",
            "_view_name": "HBoxView",
            "box_style": "",
            "children": [
              "IPY_MODEL_2b2533a0de2f4ed7b6f1f30b5ccd6640",
              "IPY_MODEL_05cfe054dff845ef928628a94dd0ca29",
              "IPY_MODEL_48a1b0f921c145c083b2d6a1ec309d85"
            ],
            "layout": "IPY_MODEL_dc1bbfea9e9648adb19fcc10a446cf68"
          }
        },
        "2b2533a0de2f4ed7b6f1f30b5ccd6640": {
          "model_module": "@jupyter-widgets/controls",
          "model_name": "HTMLModel",
          "model_module_version": "1.5.0",
          "state": {
            "_dom_classes": [],
            "_model_module": "@jupyter-widgets/controls",
            "_model_module_version": "1.5.0",
            "_model_name": "HTMLModel",
            "_view_count": null,
            "_view_module": "@jupyter-widgets/controls",
            "_view_module_version": "1.5.0",
            "_view_name": "HTMLView",
            "description": "",
            "description_tooltip": null,
            "layout": "IPY_MODEL_9b80b663f3f94fd0801292474fa73c60",
            "placeholder": "​",
            "style": "IPY_MODEL_e4036d00f99d4f33a1293b235ef57e99",
            "value": "pytorch_model.bin: 100%"
          }
        },
        "05cfe054dff845ef928628a94dd0ca29": {
          "model_module": "@jupyter-widgets/controls",
          "model_name": "FloatProgressModel",
          "model_module_version": "1.5.0",
          "state": {
            "_dom_classes": [],
            "_model_module": "@jupyter-widgets/controls",
            "_model_module_version": "1.5.0",
            "_model_name": "FloatProgressModel",
            "_view_count": null,
            "_view_module": "@jupyter-widgets/controls",
            "_view_module_version": "1.5.0",
            "_view_name": "ProgressView",
            "bar_style": "success",
            "description": "",
            "description_tooltip": null,
            "layout": "IPY_MODEL_35620615b63e4da7af34e3c48c56cfcc",
            "max": 438235074,
            "min": 0,
            "orientation": "horizontal",
            "style": "IPY_MODEL_d2c43e21e8ad44bab78c5e75fe652732",
            "value": 438235074
          }
        },
        "48a1b0f921c145c083b2d6a1ec309d85": {
          "model_module": "@jupyter-widgets/controls",
          "model_name": "HTMLModel",
          "model_module_version": "1.5.0",
          "state": {
            "_dom_classes": [],
            "_model_module": "@jupyter-widgets/controls",
            "_model_module_version": "1.5.0",
            "_model_name": "HTMLModel",
            "_view_count": null,
            "_view_module": "@jupyter-widgets/controls",
            "_view_module_version": "1.5.0",
            "_view_name": "HTMLView",
            "description": "",
            "description_tooltip": null,
            "layout": "IPY_MODEL_332b6285c9144d3da2ff7187c4082a58",
            "placeholder": "​",
            "style": "IPY_MODEL_c23c4f4a64c14e29b8eaf09b4f0875b5",
            "value": " 438M/438M [00:01&lt;00:00, 460MB/s]"
          }
        },
        "dc1bbfea9e9648adb19fcc10a446cf68": {
          "model_module": "@jupyter-widgets/base",
          "model_name": "LayoutModel",
          "model_module_version": "1.2.0",
          "state": {
            "_model_module": "@jupyter-widgets/base",
            "_model_module_version": "1.2.0",
            "_model_name": "LayoutModel",
            "_view_count": null,
            "_view_module": "@jupyter-widgets/base",
            "_view_module_version": "1.2.0",
            "_view_name": "LayoutView",
            "align_content": null,
            "align_items": null,
            "align_self": null,
            "border": null,
            "bottom": null,
            "display": null,
            "flex": null,
            "flex_flow": null,
            "grid_area": null,
            "grid_auto_columns": null,
            "grid_auto_flow": null,
            "grid_auto_rows": null,
            "grid_column": null,
            "grid_gap": null,
            "grid_row": null,
            "grid_template_areas": null,
            "grid_template_columns": null,
            "grid_template_rows": null,
            "height": null,
            "justify_content": null,
            "justify_items": null,
            "left": null,
            "margin": null,
            "max_height": null,
            "max_width": null,
            "min_height": null,
            "min_width": null,
            "object_fit": null,
            "object_position": null,
            "order": null,
            "overflow": null,
            "overflow_x": null,
            "overflow_y": null,
            "padding": null,
            "right": null,
            "top": null,
            "visibility": null,
            "width": null
          }
        },
        "9b80b663f3f94fd0801292474fa73c60": {
          "model_module": "@jupyter-widgets/base",
          "model_name": "LayoutModel",
          "model_module_version": "1.2.0",
          "state": {
            "_model_module": "@jupyter-widgets/base",
            "_model_module_version": "1.2.0",
            "_model_name": "LayoutModel",
            "_view_count": null,
            "_view_module": "@jupyter-widgets/base",
            "_view_module_version": "1.2.0",
            "_view_name": "LayoutView",
            "align_content": null,
            "align_items": null,
            "align_self": null,
            "border": null,
            "bottom": null,
            "display": null,
            "flex": null,
            "flex_flow": null,
            "grid_area": null,
            "grid_auto_columns": null,
            "grid_auto_flow": null,
            "grid_auto_rows": null,
            "grid_column": null,
            "grid_gap": null,
            "grid_row": null,
            "grid_template_areas": null,
            "grid_template_columns": null,
            "grid_template_rows": null,
            "height": null,
            "justify_content": null,
            "justify_items": null,
            "left": null,
            "margin": null,
            "max_height": null,
            "max_width": null,
            "min_height": null,
            "min_width": null,
            "object_fit": null,
            "object_position": null,
            "order": null,
            "overflow": null,
            "overflow_x": null,
            "overflow_y": null,
            "padding": null,
            "right": null,
            "top": null,
            "visibility": null,
            "width": null
          }
        },
        "e4036d00f99d4f33a1293b235ef57e99": {
          "model_module": "@jupyter-widgets/controls",
          "model_name": "DescriptionStyleModel",
          "model_module_version": "1.5.0",
          "state": {
            "_model_module": "@jupyter-widgets/controls",
            "_model_module_version": "1.5.0",
            "_model_name": "DescriptionStyleModel",
            "_view_count": null,
            "_view_module": "@jupyter-widgets/base",
            "_view_module_version": "1.2.0",
            "_view_name": "StyleView",
            "description_width": ""
          }
        },
        "35620615b63e4da7af34e3c48c56cfcc": {
          "model_module": "@jupyter-widgets/base",
          "model_name": "LayoutModel",
          "model_module_version": "1.2.0",
          "state": {
            "_model_module": "@jupyter-widgets/base",
            "_model_module_version": "1.2.0",
            "_model_name": "LayoutModel",
            "_view_count": null,
            "_view_module": "@jupyter-widgets/base",
            "_view_module_version": "1.2.0",
            "_view_name": "LayoutView",
            "align_content": null,
            "align_items": null,
            "align_self": null,
            "border": null,
            "bottom": null,
            "display": null,
            "flex": null,
            "flex_flow": null,
            "grid_area": null,
            "grid_auto_columns": null,
            "grid_auto_flow": null,
            "grid_auto_rows": null,
            "grid_column": null,
            "grid_gap": null,
            "grid_row": null,
            "grid_template_areas": null,
            "grid_template_columns": null,
            "grid_template_rows": null,
            "height": null,
            "justify_content": null,
            "justify_items": null,
            "left": null,
            "margin": null,
            "max_height": null,
            "max_width": null,
            "min_height": null,
            "min_width": null,
            "object_fit": null,
            "object_position": null,
            "order": null,
            "overflow": null,
            "overflow_x": null,
            "overflow_y": null,
            "padding": null,
            "right": null,
            "top": null,
            "visibility": null,
            "width": null
          }
        },
        "d2c43e21e8ad44bab78c5e75fe652732": {
          "model_module": "@jupyter-widgets/controls",
          "model_name": "ProgressStyleModel",
          "model_module_version": "1.5.0",
          "state": {
            "_model_module": "@jupyter-widgets/controls",
            "_model_module_version": "1.5.0",
            "_model_name": "ProgressStyleModel",
            "_view_count": null,
            "_view_module": "@jupyter-widgets/base",
            "_view_module_version": "1.2.0",
            "_view_name": "StyleView",
            "bar_color": null,
            "description_width": ""
          }
        },
        "332b6285c9144d3da2ff7187c4082a58": {
          "model_module": "@jupyter-widgets/base",
          "model_name": "LayoutModel",
          "model_module_version": "1.2.0",
          "state": {
            "_model_module": "@jupyter-widgets/base",
            "_model_module_version": "1.2.0",
            "_model_name": "LayoutModel",
            "_view_count": null,
            "_view_module": "@jupyter-widgets/base",
            "_view_module_version": "1.2.0",
            "_view_name": "LayoutView",
            "align_content": null,
            "align_items": null,
            "align_self": null,
            "border": null,
            "bottom": null,
            "display": null,
            "flex": null,
            "flex_flow": null,
            "grid_area": null,
            "grid_auto_columns": null,
            "grid_auto_flow": null,
            "grid_auto_rows": null,
            "grid_column": null,
            "grid_gap": null,
            "grid_row": null,
            "grid_template_areas": null,
            "grid_template_columns": null,
            "grid_template_rows": null,
            "height": null,
            "justify_content": null,
            "justify_items": null,
            "left": null,
            "margin": null,
            "max_height": null,
            "max_width": null,
            "min_height": null,
            "min_width": null,
            "object_fit": null,
            "object_position": null,
            "order": null,
            "overflow": null,
            "overflow_x": null,
            "overflow_y": null,
            "padding": null,
            "right": null,
            "top": null,
            "visibility": null,
            "width": null
          }
        },
        "c23c4f4a64c14e29b8eaf09b4f0875b5": {
          "model_module": "@jupyter-widgets/controls",
          "model_name": "DescriptionStyleModel",
          "model_module_version": "1.5.0",
          "state": {
            "_model_module": "@jupyter-widgets/controls",
            "_model_module_version": "1.5.0",
            "_model_name": "DescriptionStyleModel",
            "_view_count": null,
            "_view_module": "@jupyter-widgets/base",
            "_view_module_version": "1.2.0",
            "_view_name": "StyleView",
            "description_width": ""
          }
        }
      }
    }
  },
  "cells": [
    {
      "cell_type": "markdown",
      "metadata": {
        "id": "view-in-github",
        "colab_type": "text"
      },
      "source": [
        "<a href=\"https://colab.research.google.com/github/RodrigodeFeo/8DTS/blob/main/trabalho_PNL_8DTS.ipynb\" target=\"_parent\"><img src=\"https://colab.research.google.com/assets/colab-badge.svg\" alt=\"Open In Colab\"/></a>"
      ]
    },
    {
      "cell_type": "markdown",
      "source": [
        "# **Case QuantumFinance - Disciplina NLP - Classificador de chamados**"
      ],
      "metadata": {
        "id": "IJiFwDqtf6eE"
      }
    },
    {
      "cell_type": "markdown",
      "metadata": {
        "id": "VDbi6PDS9MYO"
      },
      "source": [
        "***Participantes (RM - NOME):***<br>\n",
        "351070 - Danilo Fonte<br>\n",
        "350640 - Felipe Fiorim<br>\n",
        "351578  - Rodrigo Viera<br>\n",
        "xxxx - Gabriel<br>"
      ]
    },
    {
      "cell_type": "markdown",
      "metadata": {
        "id": "7xw6WhaNo4k3"
      },
      "source": [
        "###**Crie um classificador de chamados aplicando técnicas de PLN**\n",
        "---\n",
        "\n",
        "A **QuantumFinance** tem um canal de atendimento via chat e precisar classificar os assuntos dos atendimentos para melhorar as tratativas dos chamados dos clientes. O canal recebe textos abertos dos clientes relatando o problema e/ou dúvida e depois é direcionado para alguma área especialista no assunto para uma melhor tratativa.​\n",
        "\n",
        "1. Crie um modelo classificador de assuntos aplicando técnicas de PLN, que consiga classificar através de um texto o assunto conforme disponível na base de dados [1] para treinamento e validação do seu modelo.​\n",
        "\n",
        "  O modelo precisar atingir um score na **métrica F1 Score superior a 75%**. Utilize o dataset [1] para treinar e testar o modelo, separe o dataset em duas amostras (75% para treinamento e 25% para teste com o randon_state igual a 42).​\n",
        "\n",
        "2. Utilizar ao menos uma aplicação de modelos de GenAI (LLM´s) para criar o modelo classificador com os mesmos critérios do item 1.\n",
        "\n",
        "Fique à vontade para testar e explorar as técnicas de pré-processamento, abordagens de NLP, algoritmos e bibliotecas, mas explique e justifique as suas decisões durante o desenvolvimento.​\n",
        "\n",
        "**Composição da nota:​**\n",
        "\n",
        "**50%** - Demonstrações das aplicações das técnicas de PLN (regras, pré-processamentos, tratamentos, variedade de modelos aplicados, aplicações de GenIA, organização do pipeline, etc.)​\n",
        "\n",
        "**50%** - Baseado na performance (score) obtida com a amostra de teste no pipeline do modelo campeão (validar com  a Métrica F1 Score). **Separar o pipeline completo do modelo campeão conforme template.​**\n",
        "\n",
        "O trabalho poderá ser feito em grupo de 2 até 4 pessoas (mesmo grupo do Startup One) e trabalhos iguais serão descontado nota e passível de reprovação.\n",
        "\n",
        "**[1] = ​https://dados-ml-pln.s3.sa-east-1.amazonaws.com/tickets_reclamacoes_classificados.csv**\n",
        "\n",
        "**[F1 Score](https://scikit-learn.org/stable/modules/generated/sklearn.metrics.f1_score.html)** com average='weighted'"
      ]
    },
    {
      "cell_type": "code",
      "metadata": {
        "id": "DMBI8SQtps1n"
      },
      "source": [
        "# CARREGANDO O DATA FRAME\n",
        "import pandas as pd\n",
        "df = pd.read_csv('https://dados-ml-pln.s3.sa-east-1.amazonaws.com/tickets_reclamacoes_classificados.csv', delimiter=';')\n",
        "\n",
        "# Façam o download do arquivo e utilizem localmente durante os testes"
      ],
      "execution_count": null,
      "outputs": []
    },
    {
      "cell_type": "code",
      "metadata": {
        "colab": {
          "base_uri": "https://localhost:8080/"
        },
        "id": "s__lBzDQwrcG",
        "outputId": "4c268e59-d425-4a75-b7cd-16a7a9b7208f"
      },
      "source": [
        "df.info()"
      ],
      "execution_count": null,
      "outputs": [
        {
          "output_type": "stream",
          "name": "stdout",
          "text": [
            "<class 'pandas.core.frame.DataFrame'>\n",
            "RangeIndex: 21072 entries, 0 to 21071\n",
            "Data columns (total 4 columns):\n",
            " #   Column                Non-Null Count  Dtype \n",
            "---  ------                --------------  ----- \n",
            " 0   id_reclamacao         21072 non-null  int64 \n",
            " 1   data_abertura         21072 non-null  object\n",
            " 2   categoria             21072 non-null  object\n",
            " 3   descricao_reclamacao  21072 non-null  object\n",
            "dtypes: int64(1), object(3)\n",
            "memory usage: 658.6+ KB\n"
          ]
        }
      ]
    },
    {
      "cell_type": "markdown",
      "metadata": {
        "id": "FyKC9Vhkp0BK"
      },
      "source": [
        "Bom desenvolvimento!"
      ]
    },
    {
      "cell_type": "markdown",
      "source": [
        "###**Area de desenvolvimento e validações**"
      ],
      "metadata": {
        "id": "hlxCSMk-iAdk"
      }
    },
    {
      "cell_type": "markdown",
      "source": [
        "Faça aqui as demonstrações das aplicações das técnicas de PLN (regras, pré-processamentos, tratamentos, variedade de modelos aplicados, organização do pipeline, etc.)​\n",
        "\n",
        "Fique à vontade para testar e explorar as técnicas de pré-processamento, abordagens de NLP, algoritmos e bibliotecas, mas explique e justifique as suas decisões durante o desenvolvimento.​"
      ],
      "metadata": {
        "id": "2O5PedDdiZLb"
      }
    },
    {
      "cell_type": "markdown",
      "source": [
        "**Import e instalação das principais libs**"
      ],
      "metadata": {
        "id": "vCekKc5jp76z"
      }
    },
    {
      "cell_type": "code",
      "source": [
        "!pip install sentence-transformers --quiet"
      ],
      "metadata": {
        "id": "OCUmGtjA_XmY"
      },
      "execution_count": null,
      "outputs": []
    },
    {
      "cell_type": "code",
      "source": [
        "!pip install transformers\n",
        "!pip install torch"
      ],
      "metadata": {
        "colab": {
          "base_uri": "https://localhost:8080/"
        },
        "id": "ISjoCaL1L3vs",
        "outputId": "01431db6-22ca-4ab8-d521-76d02e7428f4"
      },
      "execution_count": null,
      "outputs": [
        {
          "output_type": "stream",
          "name": "stdout",
          "text": [
            "Requirement already satisfied: transformers in /usr/local/lib/python3.10/dist-packages (4.41.2)\n",
            "Requirement already satisfied: filelock in /usr/local/lib/python3.10/dist-packages (from transformers) (3.14.0)\n",
            "Requirement already satisfied: huggingface-hub<1.0,>=0.23.0 in /usr/local/lib/python3.10/dist-packages (from transformers) (0.23.3)\n",
            "Requirement already satisfied: numpy>=1.17 in /usr/local/lib/python3.10/dist-packages (from transformers) (1.25.2)\n",
            "Requirement already satisfied: packaging>=20.0 in /usr/local/lib/python3.10/dist-packages (from transformers) (24.1)\n",
            "Requirement already satisfied: pyyaml>=5.1 in /usr/local/lib/python3.10/dist-packages (from transformers) (6.0.1)\n",
            "Requirement already satisfied: regex!=2019.12.17 in /usr/local/lib/python3.10/dist-packages (from transformers) (2024.5.15)\n",
            "Requirement already satisfied: requests in /usr/local/lib/python3.10/dist-packages (from transformers) (2.31.0)\n",
            "Requirement already satisfied: tokenizers<0.20,>=0.19 in /usr/local/lib/python3.10/dist-packages (from transformers) (0.19.1)\n",
            "Requirement already satisfied: safetensors>=0.4.1 in /usr/local/lib/python3.10/dist-packages (from transformers) (0.4.3)\n",
            "Requirement already satisfied: tqdm>=4.27 in /usr/local/lib/python3.10/dist-packages (from transformers) (4.66.4)\n",
            "Requirement already satisfied: fsspec>=2023.5.0 in /usr/local/lib/python3.10/dist-packages (from huggingface-hub<1.0,>=0.23.0->transformers) (2023.6.0)\n",
            "Requirement already satisfied: typing-extensions>=3.7.4.3 in /usr/local/lib/python3.10/dist-packages (from huggingface-hub<1.0,>=0.23.0->transformers) (4.12.2)\n",
            "Requirement already satisfied: charset-normalizer<4,>=2 in /usr/local/lib/python3.10/dist-packages (from requests->transformers) (3.3.2)\n",
            "Requirement already satisfied: idna<4,>=2.5 in /usr/local/lib/python3.10/dist-packages (from requests->transformers) (3.7)\n",
            "Requirement already satisfied: urllib3<3,>=1.21.1 in /usr/local/lib/python3.10/dist-packages (from requests->transformers) (2.0.7)\n",
            "Requirement already satisfied: certifi>=2017.4.17 in /usr/local/lib/python3.10/dist-packages (from requests->transformers) (2024.6.2)\n",
            "Requirement already satisfied: torch in /usr/local/lib/python3.10/dist-packages (2.3.0+cu121)\n",
            "Requirement already satisfied: filelock in /usr/local/lib/python3.10/dist-packages (from torch) (3.14.0)\n",
            "Requirement already satisfied: typing-extensions>=4.8.0 in /usr/local/lib/python3.10/dist-packages (from torch) (4.12.2)\n",
            "Requirement already satisfied: sympy in /usr/local/lib/python3.10/dist-packages (from torch) (1.12.1)\n",
            "Requirement already satisfied: networkx in /usr/local/lib/python3.10/dist-packages (from torch) (3.3)\n",
            "Requirement already satisfied: jinja2 in /usr/local/lib/python3.10/dist-packages (from torch) (3.1.4)\n",
            "Requirement already satisfied: fsspec in /usr/local/lib/python3.10/dist-packages (from torch) (2023.6.0)\n",
            "Requirement already satisfied: nvidia-cuda-nvrtc-cu12==12.1.105 in /usr/local/lib/python3.10/dist-packages (from torch) (12.1.105)\n",
            "Requirement already satisfied: nvidia-cuda-runtime-cu12==12.1.105 in /usr/local/lib/python3.10/dist-packages (from torch) (12.1.105)\n",
            "Requirement already satisfied: nvidia-cuda-cupti-cu12==12.1.105 in /usr/local/lib/python3.10/dist-packages (from torch) (12.1.105)\n",
            "Requirement already satisfied: nvidia-cudnn-cu12==8.9.2.26 in /usr/local/lib/python3.10/dist-packages (from torch) (8.9.2.26)\n",
            "Requirement already satisfied: nvidia-cublas-cu12==12.1.3.1 in /usr/local/lib/python3.10/dist-packages (from torch) (12.1.3.1)\n",
            "Requirement already satisfied: nvidia-cufft-cu12==11.0.2.54 in /usr/local/lib/python3.10/dist-packages (from torch) (11.0.2.54)\n",
            "Requirement already satisfied: nvidia-curand-cu12==10.3.2.106 in /usr/local/lib/python3.10/dist-packages (from torch) (10.3.2.106)\n",
            "Requirement already satisfied: nvidia-cusolver-cu12==11.4.5.107 in /usr/local/lib/python3.10/dist-packages (from torch) (11.4.5.107)\n",
            "Requirement already satisfied: nvidia-cusparse-cu12==12.1.0.106 in /usr/local/lib/python3.10/dist-packages (from torch) (12.1.0.106)\n",
            "Requirement already satisfied: nvidia-nccl-cu12==2.20.5 in /usr/local/lib/python3.10/dist-packages (from torch) (2.20.5)\n",
            "Requirement already satisfied: nvidia-nvtx-cu12==12.1.105 in /usr/local/lib/python3.10/dist-packages (from torch) (12.1.105)\n",
            "Requirement already satisfied: triton==2.3.0 in /usr/local/lib/python3.10/dist-packages (from torch) (2.3.0)\n",
            "Requirement already satisfied: nvidia-nvjitlink-cu12 in /usr/local/lib/python3.10/dist-packages (from nvidia-cusolver-cu12==11.4.5.107->torch) (12.5.40)\n",
            "Requirement already satisfied: MarkupSafe>=2.0 in /usr/local/lib/python3.10/dist-packages (from jinja2->torch) (2.1.5)\n",
            "Requirement already satisfied: mpmath<1.4.0,>=1.1.0 in /usr/local/lib/python3.10/dist-packages (from sympy->torch) (1.3.0)\n"
          ]
        }
      ]
    },
    {
      "cell_type": "code",
      "source": [
        "!pip install accelerate -U\n",
        "!pip install transformers[torch]"
      ],
      "metadata": {
        "colab": {
          "base_uri": "https://localhost:8080/"
        },
        "id": "Ffm6mzAJQJu1",
        "outputId": "eb56adc6-4896-4e57-d77e-301b332e7ae0"
      },
      "execution_count": null,
      "outputs": [
        {
          "output_type": "stream",
          "name": "stdout",
          "text": [
            "Requirement already satisfied: accelerate in /usr/local/lib/python3.10/dist-packages (0.31.0)\n",
            "Requirement already satisfied: numpy>=1.17 in /usr/local/lib/python3.10/dist-packages (from accelerate) (1.25.2)\n",
            "Requirement already satisfied: packaging>=20.0 in /usr/local/lib/python3.10/dist-packages (from accelerate) (24.1)\n",
            "Requirement already satisfied: psutil in /usr/local/lib/python3.10/dist-packages (from accelerate) (5.9.5)\n",
            "Requirement already satisfied: pyyaml in /usr/local/lib/python3.10/dist-packages (from accelerate) (6.0.1)\n",
            "Requirement already satisfied: torch>=1.10.0 in /usr/local/lib/python3.10/dist-packages (from accelerate) (2.3.0+cu121)\n",
            "Requirement already satisfied: huggingface-hub in /usr/local/lib/python3.10/dist-packages (from accelerate) (0.23.3)\n",
            "Requirement already satisfied: safetensors>=0.3.1 in /usr/local/lib/python3.10/dist-packages (from accelerate) (0.4.3)\n",
            "Requirement already satisfied: filelock in /usr/local/lib/python3.10/dist-packages (from torch>=1.10.0->accelerate) (3.14.0)\n",
            "Requirement already satisfied: typing-extensions>=4.8.0 in /usr/local/lib/python3.10/dist-packages (from torch>=1.10.0->accelerate) (4.12.2)\n",
            "Requirement already satisfied: sympy in /usr/local/lib/python3.10/dist-packages (from torch>=1.10.0->accelerate) (1.12.1)\n",
            "Requirement already satisfied: networkx in /usr/local/lib/python3.10/dist-packages (from torch>=1.10.0->accelerate) (3.3)\n",
            "Requirement already satisfied: jinja2 in /usr/local/lib/python3.10/dist-packages (from torch>=1.10.0->accelerate) (3.1.4)\n",
            "Requirement already satisfied: fsspec in /usr/local/lib/python3.10/dist-packages (from torch>=1.10.0->accelerate) (2023.6.0)\n",
            "Requirement already satisfied: nvidia-cuda-nvrtc-cu12==12.1.105 in /usr/local/lib/python3.10/dist-packages (from torch>=1.10.0->accelerate) (12.1.105)\n",
            "Requirement already satisfied: nvidia-cuda-runtime-cu12==12.1.105 in /usr/local/lib/python3.10/dist-packages (from torch>=1.10.0->accelerate) (12.1.105)\n",
            "Requirement already satisfied: nvidia-cuda-cupti-cu12==12.1.105 in /usr/local/lib/python3.10/dist-packages (from torch>=1.10.0->accelerate) (12.1.105)\n",
            "Requirement already satisfied: nvidia-cudnn-cu12==8.9.2.26 in /usr/local/lib/python3.10/dist-packages (from torch>=1.10.0->accelerate) (8.9.2.26)\n",
            "Requirement already satisfied: nvidia-cublas-cu12==12.1.3.1 in /usr/local/lib/python3.10/dist-packages (from torch>=1.10.0->accelerate) (12.1.3.1)\n",
            "Requirement already satisfied: nvidia-cufft-cu12==11.0.2.54 in /usr/local/lib/python3.10/dist-packages (from torch>=1.10.0->accelerate) (11.0.2.54)\n",
            "Requirement already satisfied: nvidia-curand-cu12==10.3.2.106 in /usr/local/lib/python3.10/dist-packages (from torch>=1.10.0->accelerate) (10.3.2.106)\n",
            "Requirement already satisfied: nvidia-cusolver-cu12==11.4.5.107 in /usr/local/lib/python3.10/dist-packages (from torch>=1.10.0->accelerate) (11.4.5.107)\n",
            "Requirement already satisfied: nvidia-cusparse-cu12==12.1.0.106 in /usr/local/lib/python3.10/dist-packages (from torch>=1.10.0->accelerate) (12.1.0.106)\n",
            "Requirement already satisfied: nvidia-nccl-cu12==2.20.5 in /usr/local/lib/python3.10/dist-packages (from torch>=1.10.0->accelerate) (2.20.5)\n",
            "Requirement already satisfied: nvidia-nvtx-cu12==12.1.105 in /usr/local/lib/python3.10/dist-packages (from torch>=1.10.0->accelerate) (12.1.105)\n",
            "Requirement already satisfied: triton==2.3.0 in /usr/local/lib/python3.10/dist-packages (from torch>=1.10.0->accelerate) (2.3.0)\n",
            "Requirement already satisfied: nvidia-nvjitlink-cu12 in /usr/local/lib/python3.10/dist-packages (from nvidia-cusolver-cu12==11.4.5.107->torch>=1.10.0->accelerate) (12.5.40)\n",
            "Requirement already satisfied: requests in /usr/local/lib/python3.10/dist-packages (from huggingface-hub->accelerate) (2.31.0)\n",
            "Requirement already satisfied: tqdm>=4.42.1 in /usr/local/lib/python3.10/dist-packages (from huggingface-hub->accelerate) (4.66.4)\n",
            "Requirement already satisfied: MarkupSafe>=2.0 in /usr/local/lib/python3.10/dist-packages (from jinja2->torch>=1.10.0->accelerate) (2.1.5)\n",
            "Requirement already satisfied: charset-normalizer<4,>=2 in /usr/local/lib/python3.10/dist-packages (from requests->huggingface-hub->accelerate) (3.3.2)\n",
            "Requirement already satisfied: idna<4,>=2.5 in /usr/local/lib/python3.10/dist-packages (from requests->huggingface-hub->accelerate) (3.7)\n",
            "Requirement already satisfied: urllib3<3,>=1.21.1 in /usr/local/lib/python3.10/dist-packages (from requests->huggingface-hub->accelerate) (2.0.7)\n",
            "Requirement already satisfied: certifi>=2017.4.17 in /usr/local/lib/python3.10/dist-packages (from requests->huggingface-hub->accelerate) (2024.6.2)\n",
            "Requirement already satisfied: mpmath<1.4.0,>=1.1.0 in /usr/local/lib/python3.10/dist-packages (from sympy->torch>=1.10.0->accelerate) (1.3.0)\n",
            "Requirement already satisfied: transformers[torch] in /usr/local/lib/python3.10/dist-packages (4.41.2)\n",
            "Requirement already satisfied: filelock in /usr/local/lib/python3.10/dist-packages (from transformers[torch]) (3.14.0)\n",
            "Requirement already satisfied: huggingface-hub<1.0,>=0.23.0 in /usr/local/lib/python3.10/dist-packages (from transformers[torch]) (0.23.3)\n",
            "Requirement already satisfied: numpy>=1.17 in /usr/local/lib/python3.10/dist-packages (from transformers[torch]) (1.25.2)\n",
            "Requirement already satisfied: packaging>=20.0 in /usr/local/lib/python3.10/dist-packages (from transformers[torch]) (24.1)\n",
            "Requirement already satisfied: pyyaml>=5.1 in /usr/local/lib/python3.10/dist-packages (from transformers[torch]) (6.0.1)\n",
            "Requirement already satisfied: regex!=2019.12.17 in /usr/local/lib/python3.10/dist-packages (from transformers[torch]) (2024.5.15)\n",
            "Requirement already satisfied: requests in /usr/local/lib/python3.10/dist-packages (from transformers[torch]) (2.31.0)\n",
            "Requirement already satisfied: tokenizers<0.20,>=0.19 in /usr/local/lib/python3.10/dist-packages (from transformers[torch]) (0.19.1)\n",
            "Requirement already satisfied: safetensors>=0.4.1 in /usr/local/lib/python3.10/dist-packages (from transformers[torch]) (0.4.3)\n",
            "Requirement already satisfied: tqdm>=4.27 in /usr/local/lib/python3.10/dist-packages (from transformers[torch]) (4.66.4)\n",
            "Requirement already satisfied: torch in /usr/local/lib/python3.10/dist-packages (from transformers[torch]) (2.3.0+cu121)\n",
            "Requirement already satisfied: accelerate>=0.21.0 in /usr/local/lib/python3.10/dist-packages (from transformers[torch]) (0.31.0)\n",
            "Requirement already satisfied: psutil in /usr/local/lib/python3.10/dist-packages (from accelerate>=0.21.0->transformers[torch]) (5.9.5)\n",
            "Requirement already satisfied: fsspec>=2023.5.0 in /usr/local/lib/python3.10/dist-packages (from huggingface-hub<1.0,>=0.23.0->transformers[torch]) (2023.6.0)\n",
            "Requirement already satisfied: typing-extensions>=3.7.4.3 in /usr/local/lib/python3.10/dist-packages (from huggingface-hub<1.0,>=0.23.0->transformers[torch]) (4.12.2)\n",
            "Requirement already satisfied: sympy in /usr/local/lib/python3.10/dist-packages (from torch->transformers[torch]) (1.12.1)\n",
            "Requirement already satisfied: networkx in /usr/local/lib/python3.10/dist-packages (from torch->transformers[torch]) (3.3)\n",
            "Requirement already satisfied: jinja2 in /usr/local/lib/python3.10/dist-packages (from torch->transformers[torch]) (3.1.4)\n",
            "Requirement already satisfied: nvidia-cuda-nvrtc-cu12==12.1.105 in /usr/local/lib/python3.10/dist-packages (from torch->transformers[torch]) (12.1.105)\n",
            "Requirement already satisfied: nvidia-cuda-runtime-cu12==12.1.105 in /usr/local/lib/python3.10/dist-packages (from torch->transformers[torch]) (12.1.105)\n",
            "Requirement already satisfied: nvidia-cuda-cupti-cu12==12.1.105 in /usr/local/lib/python3.10/dist-packages (from torch->transformers[torch]) (12.1.105)\n",
            "Requirement already satisfied: nvidia-cudnn-cu12==8.9.2.26 in /usr/local/lib/python3.10/dist-packages (from torch->transformers[torch]) (8.9.2.26)\n",
            "Requirement already satisfied: nvidia-cublas-cu12==12.1.3.1 in /usr/local/lib/python3.10/dist-packages (from torch->transformers[torch]) (12.1.3.1)\n",
            "Requirement already satisfied: nvidia-cufft-cu12==11.0.2.54 in /usr/local/lib/python3.10/dist-packages (from torch->transformers[torch]) (11.0.2.54)\n",
            "Requirement already satisfied: nvidia-curand-cu12==10.3.2.106 in /usr/local/lib/python3.10/dist-packages (from torch->transformers[torch]) (10.3.2.106)\n",
            "Requirement already satisfied: nvidia-cusolver-cu12==11.4.5.107 in /usr/local/lib/python3.10/dist-packages (from torch->transformers[torch]) (11.4.5.107)\n",
            "Requirement already satisfied: nvidia-cusparse-cu12==12.1.0.106 in /usr/local/lib/python3.10/dist-packages (from torch->transformers[torch]) (12.1.0.106)\n",
            "Requirement already satisfied: nvidia-nccl-cu12==2.20.5 in /usr/local/lib/python3.10/dist-packages (from torch->transformers[torch]) (2.20.5)\n",
            "Requirement already satisfied: nvidia-nvtx-cu12==12.1.105 in /usr/local/lib/python3.10/dist-packages (from torch->transformers[torch]) (12.1.105)\n",
            "Requirement already satisfied: triton==2.3.0 in /usr/local/lib/python3.10/dist-packages (from torch->transformers[torch]) (2.3.0)\n",
            "Requirement already satisfied: nvidia-nvjitlink-cu12 in /usr/local/lib/python3.10/dist-packages (from nvidia-cusolver-cu12==11.4.5.107->torch->transformers[torch]) (12.5.40)\n",
            "Requirement already satisfied: charset-normalizer<4,>=2 in /usr/local/lib/python3.10/dist-packages (from requests->transformers[torch]) (3.3.2)\n",
            "Requirement already satisfied: idna<4,>=2.5 in /usr/local/lib/python3.10/dist-packages (from requests->transformers[torch]) (3.7)\n",
            "Requirement already satisfied: urllib3<3,>=1.21.1 in /usr/local/lib/python3.10/dist-packages (from requests->transformers[torch]) (2.0.7)\n",
            "Requirement already satisfied: certifi>=2017.4.17 in /usr/local/lib/python3.10/dist-packages (from requests->transformers[torch]) (2024.6.2)\n",
            "Requirement already satisfied: MarkupSafe>=2.0 in /usr/local/lib/python3.10/dist-packages (from jinja2->torch->transformers[torch]) (2.1.5)\n",
            "Requirement already satisfied: mpmath<1.4.0,>=1.1.0 in /usr/local/lib/python3.10/dist-packages (from sympy->torch->transformers[torch]) (1.3.0)\n"
          ]
        }
      ]
    },
    {
      "cell_type": "code",
      "source": [
        "!python -m spacy download pt_core_news_sm"
      ],
      "metadata": {
        "colab": {
          "base_uri": "https://localhost:8080/"
        },
        "id": "gc34MX3i0CxW",
        "outputId": "332380c7-81e9-46d0-a869-5a28918908e1"
      },
      "execution_count": null,
      "outputs": [
        {
          "output_type": "stream",
          "name": "stdout",
          "text": [
            "Collecting pt-core-news-sm==3.7.0\n",
            "  Downloading https://github.com/explosion/spacy-models/releases/download/pt_core_news_sm-3.7.0/pt_core_news_sm-3.7.0-py3-none-any.whl (13.0 MB)\n",
            "\u001b[2K     \u001b[90m━━━━━━━━━━━━━━━━━━━━━━━━━━━━━━━━━━━━━━━━\u001b[0m \u001b[32m13.0/13.0 MB\u001b[0m \u001b[31m84.3 MB/s\u001b[0m eta \u001b[36m0:00:00\u001b[0m\n",
            "\u001b[?25hRequirement already satisfied: spacy<3.8.0,>=3.7.0 in /usr/local/lib/python3.10/dist-packages (from pt-core-news-sm==3.7.0) (3.7.5)\n",
            "Requirement already satisfied: spacy-legacy<3.1.0,>=3.0.11 in /usr/local/lib/python3.10/dist-packages (from spacy<3.8.0,>=3.7.0->pt-core-news-sm==3.7.0) (3.0.12)\n",
            "Requirement already satisfied: spacy-loggers<2.0.0,>=1.0.0 in /usr/local/lib/python3.10/dist-packages (from spacy<3.8.0,>=3.7.0->pt-core-news-sm==3.7.0) (1.0.5)\n",
            "Requirement already satisfied: murmurhash<1.1.0,>=0.28.0 in /usr/local/lib/python3.10/dist-packages (from spacy<3.8.0,>=3.7.0->pt-core-news-sm==3.7.0) (1.0.10)\n",
            "Requirement already satisfied: cymem<2.1.0,>=2.0.2 in /usr/local/lib/python3.10/dist-packages (from spacy<3.8.0,>=3.7.0->pt-core-news-sm==3.7.0) (2.0.8)\n",
            "Requirement already satisfied: preshed<3.1.0,>=3.0.2 in /usr/local/lib/python3.10/dist-packages (from spacy<3.8.0,>=3.7.0->pt-core-news-sm==3.7.0) (3.0.9)\n",
            "Requirement already satisfied: thinc<8.3.0,>=8.2.2 in /usr/local/lib/python3.10/dist-packages (from spacy<3.8.0,>=3.7.0->pt-core-news-sm==3.7.0) (8.2.4)\n",
            "Requirement already satisfied: wasabi<1.2.0,>=0.9.1 in /usr/local/lib/python3.10/dist-packages (from spacy<3.8.0,>=3.7.0->pt-core-news-sm==3.7.0) (1.1.3)\n",
            "Requirement already satisfied: srsly<3.0.0,>=2.4.3 in /usr/local/lib/python3.10/dist-packages (from spacy<3.8.0,>=3.7.0->pt-core-news-sm==3.7.0) (2.4.8)\n",
            "Requirement already satisfied: catalogue<2.1.0,>=2.0.6 in /usr/local/lib/python3.10/dist-packages (from spacy<3.8.0,>=3.7.0->pt-core-news-sm==3.7.0) (2.0.10)\n",
            "Requirement already satisfied: weasel<0.5.0,>=0.1.0 in /usr/local/lib/python3.10/dist-packages (from spacy<3.8.0,>=3.7.0->pt-core-news-sm==3.7.0) (0.4.1)\n",
            "Requirement already satisfied: typer<1.0.0,>=0.3.0 in /usr/local/lib/python3.10/dist-packages (from spacy<3.8.0,>=3.7.0->pt-core-news-sm==3.7.0) (0.12.3)\n",
            "Requirement already satisfied: tqdm<5.0.0,>=4.38.0 in /usr/local/lib/python3.10/dist-packages (from spacy<3.8.0,>=3.7.0->pt-core-news-sm==3.7.0) (4.66.4)\n",
            "Requirement already satisfied: requests<3.0.0,>=2.13.0 in /usr/local/lib/python3.10/dist-packages (from spacy<3.8.0,>=3.7.0->pt-core-news-sm==3.7.0) (2.31.0)\n",
            "Requirement already satisfied: pydantic!=1.8,!=1.8.1,<3.0.0,>=1.7.4 in /usr/local/lib/python3.10/dist-packages (from spacy<3.8.0,>=3.7.0->pt-core-news-sm==3.7.0) (2.7.3)\n",
            "Requirement already satisfied: jinja2 in /usr/local/lib/python3.10/dist-packages (from spacy<3.8.0,>=3.7.0->pt-core-news-sm==3.7.0) (3.1.4)\n",
            "Requirement already satisfied: setuptools in /usr/local/lib/python3.10/dist-packages (from spacy<3.8.0,>=3.7.0->pt-core-news-sm==3.7.0) (67.7.2)\n",
            "Requirement already satisfied: packaging>=20.0 in /usr/local/lib/python3.10/dist-packages (from spacy<3.8.0,>=3.7.0->pt-core-news-sm==3.7.0) (24.1)\n",
            "Requirement already satisfied: langcodes<4.0.0,>=3.2.0 in /usr/local/lib/python3.10/dist-packages (from spacy<3.8.0,>=3.7.0->pt-core-news-sm==3.7.0) (3.4.0)\n",
            "Requirement already satisfied: numpy>=1.19.0 in /usr/local/lib/python3.10/dist-packages (from spacy<3.8.0,>=3.7.0->pt-core-news-sm==3.7.0) (1.25.2)\n",
            "Requirement already satisfied: language-data>=1.2 in /usr/local/lib/python3.10/dist-packages (from langcodes<4.0.0,>=3.2.0->spacy<3.8.0,>=3.7.0->pt-core-news-sm==3.7.0) (1.2.0)\n",
            "Requirement already satisfied: annotated-types>=0.4.0 in /usr/local/lib/python3.10/dist-packages (from pydantic!=1.8,!=1.8.1,<3.0.0,>=1.7.4->spacy<3.8.0,>=3.7.0->pt-core-news-sm==3.7.0) (0.7.0)\n",
            "Requirement already satisfied: pydantic-core==2.18.4 in /usr/local/lib/python3.10/dist-packages (from pydantic!=1.8,!=1.8.1,<3.0.0,>=1.7.4->spacy<3.8.0,>=3.7.0->pt-core-news-sm==3.7.0) (2.18.4)\n",
            "Requirement already satisfied: typing-extensions>=4.6.1 in /usr/local/lib/python3.10/dist-packages (from pydantic!=1.8,!=1.8.1,<3.0.0,>=1.7.4->spacy<3.8.0,>=3.7.0->pt-core-news-sm==3.7.0) (4.12.2)\n",
            "Requirement already satisfied: charset-normalizer<4,>=2 in /usr/local/lib/python3.10/dist-packages (from requests<3.0.0,>=2.13.0->spacy<3.8.0,>=3.7.0->pt-core-news-sm==3.7.0) (3.3.2)\n",
            "Requirement already satisfied: idna<4,>=2.5 in /usr/local/lib/python3.10/dist-packages (from requests<3.0.0,>=2.13.0->spacy<3.8.0,>=3.7.0->pt-core-news-sm==3.7.0) (3.7)\n",
            "Requirement already satisfied: urllib3<3,>=1.21.1 in /usr/local/lib/python3.10/dist-packages (from requests<3.0.0,>=2.13.0->spacy<3.8.0,>=3.7.0->pt-core-news-sm==3.7.0) (2.0.7)\n",
            "Requirement already satisfied: certifi>=2017.4.17 in /usr/local/lib/python3.10/dist-packages (from requests<3.0.0,>=2.13.0->spacy<3.8.0,>=3.7.0->pt-core-news-sm==3.7.0) (2024.6.2)\n",
            "Requirement already satisfied: blis<0.8.0,>=0.7.8 in /usr/local/lib/python3.10/dist-packages (from thinc<8.3.0,>=8.2.2->spacy<3.8.0,>=3.7.0->pt-core-news-sm==3.7.0) (0.7.11)\n",
            "Requirement already satisfied: confection<1.0.0,>=0.0.1 in /usr/local/lib/python3.10/dist-packages (from thinc<8.3.0,>=8.2.2->spacy<3.8.0,>=3.7.0->pt-core-news-sm==3.7.0) (0.1.5)\n",
            "Requirement already satisfied: click>=8.0.0 in /usr/local/lib/python3.10/dist-packages (from typer<1.0.0,>=0.3.0->spacy<3.8.0,>=3.7.0->pt-core-news-sm==3.7.0) (8.1.7)\n",
            "Requirement already satisfied: shellingham>=1.3.0 in /usr/local/lib/python3.10/dist-packages (from typer<1.0.0,>=0.3.0->spacy<3.8.0,>=3.7.0->pt-core-news-sm==3.7.0) (1.5.4)\n",
            "Requirement already satisfied: rich>=10.11.0 in /usr/local/lib/python3.10/dist-packages (from typer<1.0.0,>=0.3.0->spacy<3.8.0,>=3.7.0->pt-core-news-sm==3.7.0) (13.7.1)\n",
            "Requirement already satisfied: cloudpathlib<1.0.0,>=0.7.0 in /usr/local/lib/python3.10/dist-packages (from weasel<0.5.0,>=0.1.0->spacy<3.8.0,>=3.7.0->pt-core-news-sm==3.7.0) (0.18.1)\n",
            "Requirement already satisfied: smart-open<8.0.0,>=5.2.1 in /usr/local/lib/python3.10/dist-packages (from weasel<0.5.0,>=0.1.0->spacy<3.8.0,>=3.7.0->pt-core-news-sm==3.7.0) (7.0.4)\n",
            "Requirement already satisfied: MarkupSafe>=2.0 in /usr/local/lib/python3.10/dist-packages (from jinja2->spacy<3.8.0,>=3.7.0->pt-core-news-sm==3.7.0) (2.1.5)\n",
            "Requirement already satisfied: marisa-trie>=0.7.7 in /usr/local/lib/python3.10/dist-packages (from language-data>=1.2->langcodes<4.0.0,>=3.2.0->spacy<3.8.0,>=3.7.0->pt-core-news-sm==3.7.0) (1.2.0)\n",
            "Requirement already satisfied: markdown-it-py>=2.2.0 in /usr/local/lib/python3.10/dist-packages (from rich>=10.11.0->typer<1.0.0,>=0.3.0->spacy<3.8.0,>=3.7.0->pt-core-news-sm==3.7.0) (3.0.0)\n",
            "Requirement already satisfied: pygments<3.0.0,>=2.13.0 in /usr/local/lib/python3.10/dist-packages (from rich>=10.11.0->typer<1.0.0,>=0.3.0->spacy<3.8.0,>=3.7.0->pt-core-news-sm==3.7.0) (2.16.1)\n",
            "Requirement already satisfied: wrapt in /usr/local/lib/python3.10/dist-packages (from smart-open<8.0.0,>=5.2.1->weasel<0.5.0,>=0.1.0->spacy<3.8.0,>=3.7.0->pt-core-news-sm==3.7.0) (1.14.1)\n",
            "Requirement already satisfied: mdurl~=0.1 in /usr/local/lib/python3.10/dist-packages (from markdown-it-py>=2.2.0->rich>=10.11.0->typer<1.0.0,>=0.3.0->spacy<3.8.0,>=3.7.0->pt-core-news-sm==3.7.0) (0.1.2)\n",
            "\u001b[38;5;2m✔ Download and installation successful\u001b[0m\n",
            "You can now load the package via spacy.load('pt_core_news_sm')\n",
            "\u001b[38;5;3m⚠ Restart to reload dependencies\u001b[0m\n",
            "If you are in a Jupyter or Colab notebook, you may need to restart Python in\n",
            "order to load all the package's dependencies. You can do this by selecting the\n",
            "'Restart kernel' or 'Restart runtime' option.\n"
          ]
        }
      ]
    },
    {
      "cell_type": "code",
      "source": [
        "from sklearn.feature_extraction.text import CountVectorizer\n",
        "from sklearn.tree import DecisionTreeClassifier\n",
        "from sklearn.feature_extraction.text import TfidfVectorizer\n",
        "from sklearn.model_selection import train_test_split\n",
        "from sklearn.metrics import accuracy_score, precision_score, recall_score, f1_score, confusion_matrix, classification_report\n",
        "from gensim.models import KeyedVectors\n",
        "from nltk.tokenize import word_tokenize\n",
        "from sklearn.ensemble import RandomForestClassifier\n",
        "from sklearn.linear_model import LogisticRegression\n",
        "from sentence_transformers import SentenceTransformer\n",
        "from sklearn.ensemble import GradientBoostingClassifier\n",
        "from transformers import BertTokenizer, BertForSequenceClassification\n",
        "from transformers import pipeline, Trainer, TrainingArguments\n",
        "from torch.utils.data import Dataset\n",
        "from sklearn.metrics import precision_recall_fscore_support\n",
        "from transformers import AutoTokenizer  # Or BertTokenizer\n",
        "from transformers import AutoModelForPreTraining  # Or BertForPreTraining for loading pretraining heads\n",
        "from transformers import AutoModel\n",
        "from transformers import AutoModelForSequenceClassification\n",
        "\n",
        "import torch\n",
        "import seaborn as sns\n",
        "import matplotlib.pyplot as plt\n",
        "import nltk\n",
        "import spacy\n",
        "import joblib\n",
        "import string\n",
        "import numpy as np\n",
        "import gc"
      ],
      "metadata": {
        "id": "Balph1eFqBVy",
        "colab": {
          "base_uri": "https://localhost:8080/"
        },
        "outputId": "72e8e694-e6bd-4897-c9ab-2b89ed6d43c2"
      },
      "execution_count": null,
      "outputs": [
        {
          "output_type": "stream",
          "name": "stderr",
          "text": [
            "/usr/local/lib/python3.10/dist-packages/sentence_transformers/cross_encoder/CrossEncoder.py:11: TqdmExperimentalWarning: Using `tqdm.autonotebook.tqdm` in notebook mode. Use `tqdm.tqdm` instead to force console mode (e.g. in jupyter console)\n",
            "  from tqdm.autonotebook import tqdm, trange\n"
          ]
        }
      ]
    },
    {
      "cell_type": "markdown",
      "source": [
        "**Ajustando configuração das libs**"
      ],
      "metadata": {
        "id": "L39FtEu0ucMC"
      }
    },
    {
      "cell_type": "code",
      "source": [
        "# Download do arquivo no repositório do professor\n",
        "!wget 'https://dados-ml-pln.s3-sa-east-1.amazonaws.com/skip_s300.zip'\n",
        "\n",
        "# Descompactação do arquivo\n",
        "!unzip 'skip_s300.zip' # subistitua com nome do arquivo\n",
        "!ls -la"
      ],
      "metadata": {
        "colab": {
          "base_uri": "https://localhost:8080/"
        },
        "id": "k9EIWGtZ6_nn",
        "outputId": "d78c81c5-4c95-46f8-d07b-63c5fbc3693b"
      },
      "execution_count": null,
      "outputs": [
        {
          "output_type": "stream",
          "name": "stdout",
          "text": [
            "--2024-06-16 13:01:04--  https://dados-ml-pln.s3-sa-east-1.amazonaws.com/skip_s300.zip\n",
            "Resolving dados-ml-pln.s3-sa-east-1.amazonaws.com (dados-ml-pln.s3-sa-east-1.amazonaws.com)... 3.5.234.137, 16.12.2.54, 52.95.165.110, ...\n",
            "Connecting to dados-ml-pln.s3-sa-east-1.amazonaws.com (dados-ml-pln.s3-sa-east-1.amazonaws.com)|3.5.234.137|:443... connected.\n",
            "HTTP request sent, awaiting response... 200 OK\n",
            "Length: 958619745 (914M) [application/zip]\n",
            "Saving to: ‘skip_s300.zip.1’\n",
            "\n",
            "skip_s300.zip.1     100%[===================>] 914.21M  10.5MB/s    in 90s     \n",
            "\n",
            "2024-06-16 13:02:36 (10.1 MB/s) - ‘skip_s300.zip.1’ saved [958619745/958619745]\n",
            "\n",
            "Archive:  skip_s300.zip\n",
            "replace skip_s300.txt? [y]es, [n]o, [A]ll, [N]one, [r]ename: y\n",
            "  inflating: skip_s300.txt           \n",
            "total 4465752\n",
            "drwxr-xr-x 1 root root       4096 Jun 16 13:03 .\n",
            "drwxr-xr-x 1 root root       4096 Jun 16 12:29 ..\n",
            "drwxr-xr-x 4 root root       4096 Jun 13 13:27 .config\n",
            "drwxr-xr-x 2 root root       4096 Jun 16 12:59 logs\n",
            "drwxr-xr-x 2 root root       4096 Jun 16 12:48 results\n",
            "drwxr-xr-x 1 root root       4096 Jun 13 13:28 sample_data\n",
            "-rw-r--r-- 1 root root 2655642222 Oct  4  2018 skip_s300.txt\n",
            "-rw-r--r-- 1 root root  958619745 Nov 30  2023 skip_s300.zip\n",
            "-rw-r--r-- 1 root root  958619745 Nov 30  2023 skip_s300.zip.1\n"
          ]
        }
      ]
    },
    {
      "cell_type": "code",
      "source": [
        "nltk.download('stopwords')\n",
        "nltk.download('punkt')\n",
        "\n",
        "stops = nltk.corpus.stopwords.words('portuguese')\n",
        "nlp = spacy.load('pt_core_news_sm')"
      ],
      "metadata": {
        "colab": {
          "base_uri": "https://localhost:8080/"
        },
        "id": "cnN_Qd0dulPI",
        "outputId": "dce68dc4-af97-46bc-ffdc-2112296d6ae2"
      },
      "execution_count": null,
      "outputs": [
        {
          "output_type": "stream",
          "name": "stderr",
          "text": [
            "[nltk_data] Downloading package stopwords to /root/nltk_data...\n",
            "[nltk_data]   Package stopwords is already up-to-date!\n",
            "[nltk_data] Downloading package punkt to /root/nltk_data...\n",
            "[nltk_data]   Package punkt is already up-to-date!\n"
          ]
        }
      ]
    },
    {
      "cell_type": "code",
      "source": [
        "model_skip = KeyedVectors.load_word2vec_format('skip_s300.txt')"
      ],
      "metadata": {
        "id": "SoxtMmdR-EOJ"
      },
      "execution_count": null,
      "outputs": []
    },
    {
      "cell_type": "markdown",
      "source": [
        "**Análise dos principais aspectos do data set**"
      ],
      "metadata": {
        "id": "lOvGYwGvpI2n"
      }
    },
    {
      "cell_type": "code",
      "metadata": {
        "id": "nze8UbKhosm9",
        "colab": {
          "base_uri": "https://localhost:8080/",
          "height": 300
        },
        "outputId": "3825d96a-6198-42c4-d30e-a429e0e9aad4"
      },
      "source": [
        "df.describe()"
      ],
      "execution_count": null,
      "outputs": [
        {
          "output_type": "execute_result",
          "data": {
            "text/plain": [
              "       id_reclamacao        labels\n",
              "count   2.107200e+04  21072.000000\n",
              "mean    2.861670e+06      1.960659\n",
              "std     7.709328e+05      1.410053\n",
              "min     1.290253e+06      0.000000\n",
              "25%     2.265054e+06      1.000000\n",
              "50%     2.933378e+06      2.000000\n",
              "75%     3.475881e+06      3.000000\n",
              "max     4.213007e+06      4.000000"
            ],
            "text/html": [
              "\n",
              "  <div id=\"df-6521e035-78f7-4f29-8c1f-deb0068d68ad\" class=\"colab-df-container\">\n",
              "    <div>\n",
              "<style scoped>\n",
              "    .dataframe tbody tr th:only-of-type {\n",
              "        vertical-align: middle;\n",
              "    }\n",
              "\n",
              "    .dataframe tbody tr th {\n",
              "        vertical-align: top;\n",
              "    }\n",
              "\n",
              "    .dataframe thead th {\n",
              "        text-align: right;\n",
              "    }\n",
              "</style>\n",
              "<table border=\"1\" class=\"dataframe\">\n",
              "  <thead>\n",
              "    <tr style=\"text-align: right;\">\n",
              "      <th></th>\n",
              "      <th>id_reclamacao</th>\n",
              "      <th>labels</th>\n",
              "    </tr>\n",
              "  </thead>\n",
              "  <tbody>\n",
              "    <tr>\n",
              "      <th>count</th>\n",
              "      <td>2.107200e+04</td>\n",
              "      <td>21072.000000</td>\n",
              "    </tr>\n",
              "    <tr>\n",
              "      <th>mean</th>\n",
              "      <td>2.861670e+06</td>\n",
              "      <td>1.960659</td>\n",
              "    </tr>\n",
              "    <tr>\n",
              "      <th>std</th>\n",
              "      <td>7.709328e+05</td>\n",
              "      <td>1.410053</td>\n",
              "    </tr>\n",
              "    <tr>\n",
              "      <th>min</th>\n",
              "      <td>1.290253e+06</td>\n",
              "      <td>0.000000</td>\n",
              "    </tr>\n",
              "    <tr>\n",
              "      <th>25%</th>\n",
              "      <td>2.265054e+06</td>\n",
              "      <td>1.000000</td>\n",
              "    </tr>\n",
              "    <tr>\n",
              "      <th>50%</th>\n",
              "      <td>2.933378e+06</td>\n",
              "      <td>2.000000</td>\n",
              "    </tr>\n",
              "    <tr>\n",
              "      <th>75%</th>\n",
              "      <td>3.475881e+06</td>\n",
              "      <td>3.000000</td>\n",
              "    </tr>\n",
              "    <tr>\n",
              "      <th>max</th>\n",
              "      <td>4.213007e+06</td>\n",
              "      <td>4.000000</td>\n",
              "    </tr>\n",
              "  </tbody>\n",
              "</table>\n",
              "</div>\n",
              "    <div class=\"colab-df-buttons\">\n",
              "\n",
              "  <div class=\"colab-df-container\">\n",
              "    <button class=\"colab-df-convert\" onclick=\"convertToInteractive('df-6521e035-78f7-4f29-8c1f-deb0068d68ad')\"\n",
              "            title=\"Convert this dataframe to an interactive table.\"\n",
              "            style=\"display:none;\">\n",
              "\n",
              "  <svg xmlns=\"http://www.w3.org/2000/svg\" height=\"24px\" viewBox=\"0 -960 960 960\">\n",
              "    <path d=\"M120-120v-720h720v720H120Zm60-500h600v-160H180v160Zm220 220h160v-160H400v160Zm0 220h160v-160H400v160ZM180-400h160v-160H180v160Zm440 0h160v-160H620v160ZM180-180h160v-160H180v160Zm440 0h160v-160H620v160Z\"/>\n",
              "  </svg>\n",
              "    </button>\n",
              "\n",
              "  <style>\n",
              "    .colab-df-container {\n",
              "      display:flex;\n",
              "      gap: 12px;\n",
              "    }\n",
              "\n",
              "    .colab-df-convert {\n",
              "      background-color: #E8F0FE;\n",
              "      border: none;\n",
              "      border-radius: 50%;\n",
              "      cursor: pointer;\n",
              "      display: none;\n",
              "      fill: #1967D2;\n",
              "      height: 32px;\n",
              "      padding: 0 0 0 0;\n",
              "      width: 32px;\n",
              "    }\n",
              "\n",
              "    .colab-df-convert:hover {\n",
              "      background-color: #E2EBFA;\n",
              "      box-shadow: 0px 1px 2px rgba(60, 64, 67, 0.3), 0px 1px 3px 1px rgba(60, 64, 67, 0.15);\n",
              "      fill: #174EA6;\n",
              "    }\n",
              "\n",
              "    .colab-df-buttons div {\n",
              "      margin-bottom: 4px;\n",
              "    }\n",
              "\n",
              "    [theme=dark] .colab-df-convert {\n",
              "      background-color: #3B4455;\n",
              "      fill: #D2E3FC;\n",
              "    }\n",
              "\n",
              "    [theme=dark] .colab-df-convert:hover {\n",
              "      background-color: #434B5C;\n",
              "      box-shadow: 0px 1px 3px 1px rgba(0, 0, 0, 0.15);\n",
              "      filter: drop-shadow(0px 1px 2px rgba(0, 0, 0, 0.3));\n",
              "      fill: #FFFFFF;\n",
              "    }\n",
              "  </style>\n",
              "\n",
              "    <script>\n",
              "      const buttonEl =\n",
              "        document.querySelector('#df-6521e035-78f7-4f29-8c1f-deb0068d68ad button.colab-df-convert');\n",
              "      buttonEl.style.display =\n",
              "        google.colab.kernel.accessAllowed ? 'block' : 'none';\n",
              "\n",
              "      async function convertToInteractive(key) {\n",
              "        const element = document.querySelector('#df-6521e035-78f7-4f29-8c1f-deb0068d68ad');\n",
              "        const dataTable =\n",
              "          await google.colab.kernel.invokeFunction('convertToInteractive',\n",
              "                                                    [key], {});\n",
              "        if (!dataTable) return;\n",
              "\n",
              "        const docLinkHtml = 'Like what you see? Visit the ' +\n",
              "          '<a target=\"_blank\" href=https://colab.research.google.com/notebooks/data_table.ipynb>data table notebook</a>'\n",
              "          + ' to learn more about interactive tables.';\n",
              "        element.innerHTML = '';\n",
              "        dataTable['output_type'] = 'display_data';\n",
              "        await google.colab.output.renderOutput(dataTable, element);\n",
              "        const docLink = document.createElement('div');\n",
              "        docLink.innerHTML = docLinkHtml;\n",
              "        element.appendChild(docLink);\n",
              "      }\n",
              "    </script>\n",
              "  </div>\n",
              "\n",
              "\n",
              "<div id=\"df-71adce2e-bfb2-4940-ad88-e6005f13f93f\">\n",
              "  <button class=\"colab-df-quickchart\" onclick=\"quickchart('df-71adce2e-bfb2-4940-ad88-e6005f13f93f')\"\n",
              "            title=\"Suggest charts\"\n",
              "            style=\"display:none;\">\n",
              "\n",
              "<svg xmlns=\"http://www.w3.org/2000/svg\" height=\"24px\"viewBox=\"0 0 24 24\"\n",
              "     width=\"24px\">\n",
              "    <g>\n",
              "        <path d=\"M19 3H5c-1.1 0-2 .9-2 2v14c0 1.1.9 2 2 2h14c1.1 0 2-.9 2-2V5c0-1.1-.9-2-2-2zM9 17H7v-7h2v7zm4 0h-2V7h2v10zm4 0h-2v-4h2v4z\"/>\n",
              "    </g>\n",
              "</svg>\n",
              "  </button>\n",
              "\n",
              "<style>\n",
              "  .colab-df-quickchart {\n",
              "      --bg-color: #E8F0FE;\n",
              "      --fill-color: #1967D2;\n",
              "      --hover-bg-color: #E2EBFA;\n",
              "      --hover-fill-color: #174EA6;\n",
              "      --disabled-fill-color: #AAA;\n",
              "      --disabled-bg-color: #DDD;\n",
              "  }\n",
              "\n",
              "  [theme=dark] .colab-df-quickchart {\n",
              "      --bg-color: #3B4455;\n",
              "      --fill-color: #D2E3FC;\n",
              "      --hover-bg-color: #434B5C;\n",
              "      --hover-fill-color: #FFFFFF;\n",
              "      --disabled-bg-color: #3B4455;\n",
              "      --disabled-fill-color: #666;\n",
              "  }\n",
              "\n",
              "  .colab-df-quickchart {\n",
              "    background-color: var(--bg-color);\n",
              "    border: none;\n",
              "    border-radius: 50%;\n",
              "    cursor: pointer;\n",
              "    display: none;\n",
              "    fill: var(--fill-color);\n",
              "    height: 32px;\n",
              "    padding: 0;\n",
              "    width: 32px;\n",
              "  }\n",
              "\n",
              "  .colab-df-quickchart:hover {\n",
              "    background-color: var(--hover-bg-color);\n",
              "    box-shadow: 0 1px 2px rgba(60, 64, 67, 0.3), 0 1px 3px 1px rgba(60, 64, 67, 0.15);\n",
              "    fill: var(--button-hover-fill-color);\n",
              "  }\n",
              "\n",
              "  .colab-df-quickchart-complete:disabled,\n",
              "  .colab-df-quickchart-complete:disabled:hover {\n",
              "    background-color: var(--disabled-bg-color);\n",
              "    fill: var(--disabled-fill-color);\n",
              "    box-shadow: none;\n",
              "  }\n",
              "\n",
              "  .colab-df-spinner {\n",
              "    border: 2px solid var(--fill-color);\n",
              "    border-color: transparent;\n",
              "    border-bottom-color: var(--fill-color);\n",
              "    animation:\n",
              "      spin 1s steps(1) infinite;\n",
              "  }\n",
              "\n",
              "  @keyframes spin {\n",
              "    0% {\n",
              "      border-color: transparent;\n",
              "      border-bottom-color: var(--fill-color);\n",
              "      border-left-color: var(--fill-color);\n",
              "    }\n",
              "    20% {\n",
              "      border-color: transparent;\n",
              "      border-left-color: var(--fill-color);\n",
              "      border-top-color: var(--fill-color);\n",
              "    }\n",
              "    30% {\n",
              "      border-color: transparent;\n",
              "      border-left-color: var(--fill-color);\n",
              "      border-top-color: var(--fill-color);\n",
              "      border-right-color: var(--fill-color);\n",
              "    }\n",
              "    40% {\n",
              "      border-color: transparent;\n",
              "      border-right-color: var(--fill-color);\n",
              "      border-top-color: var(--fill-color);\n",
              "    }\n",
              "    60% {\n",
              "      border-color: transparent;\n",
              "      border-right-color: var(--fill-color);\n",
              "    }\n",
              "    80% {\n",
              "      border-color: transparent;\n",
              "      border-right-color: var(--fill-color);\n",
              "      border-bottom-color: var(--fill-color);\n",
              "    }\n",
              "    90% {\n",
              "      border-color: transparent;\n",
              "      border-bottom-color: var(--fill-color);\n",
              "    }\n",
              "  }\n",
              "</style>\n",
              "\n",
              "  <script>\n",
              "    async function quickchart(key) {\n",
              "      const quickchartButtonEl =\n",
              "        document.querySelector('#' + key + ' button');\n",
              "      quickchartButtonEl.disabled = true;  // To prevent multiple clicks.\n",
              "      quickchartButtonEl.classList.add('colab-df-spinner');\n",
              "      try {\n",
              "        const charts = await google.colab.kernel.invokeFunction(\n",
              "            'suggestCharts', [key], {});\n",
              "      } catch (error) {\n",
              "        console.error('Error during call to suggestCharts:', error);\n",
              "      }\n",
              "      quickchartButtonEl.classList.remove('colab-df-spinner');\n",
              "      quickchartButtonEl.classList.add('colab-df-quickchart-complete');\n",
              "    }\n",
              "    (() => {\n",
              "      let quickchartButtonEl =\n",
              "        document.querySelector('#df-71adce2e-bfb2-4940-ad88-e6005f13f93f button');\n",
              "      quickchartButtonEl.style.display =\n",
              "        google.colab.kernel.accessAllowed ? 'block' : 'none';\n",
              "    })();\n",
              "  </script>\n",
              "</div>\n",
              "\n",
              "    </div>\n",
              "  </div>\n"
            ],
            "application/vnd.google.colaboratory.intrinsic+json": {
              "type": "dataframe",
              "summary": "{\n  \"name\": \"df\",\n  \"rows\": 8,\n  \"fields\": [\n    {\n      \"column\": \"id_reclamacao\",\n      \"properties\": {\n        \"dtype\": \"number\",\n        \"std\": 1427828.9692489533,\n        \"min\": 21072.0,\n        \"max\": 4213007.0,\n        \"num_unique_values\": 8,\n        \"samples\": [\n          2861670.1540907365,\n          2933378.5,\n          21072.0\n        ],\n        \"semantic_type\": \"\",\n        \"description\": \"\"\n      }\n    },\n    {\n      \"column\": \"labels\",\n      \"properties\": {\n        \"dtype\": \"number\",\n        \"std\": 7449.401822369608,\n        \"min\": 0.0,\n        \"max\": 21072.0,\n        \"num_unique_values\": 8,\n        \"samples\": [\n          1.9606586940015187,\n          2.0,\n          21072.0\n        ],\n        \"semantic_type\": \"\",\n        \"description\": \"\"\n      }\n    }\n  ]\n}"
            }
          },
          "metadata": {},
          "execution_count": 25
        }
      ]
    },
    {
      "cell_type": "code",
      "metadata": {
        "id": "ue0nV0uVo3OZ",
        "colab": {
          "base_uri": "https://localhost:8080/",
          "height": 380
        },
        "outputId": "925492e4-a059-46ad-e514-bc9b83f2743c"
      },
      "source": [
        "df.head()"
      ],
      "execution_count": null,
      "outputs": [
        {
          "output_type": "execute_result",
          "data": {
            "text/plain": [
              "   id_reclamacao              data_abertura  \\\n",
              "0        3229299  2019-05-01T12:00:00-05:00   \n",
              "1        3199379  2019-04-02T12:00:00-05:00   \n",
              "2        3233499  2019-05-06T12:00:00-05:00   \n",
              "3        3180294  2019-03-14T12:00:00-05:00   \n",
              "4        3224980  2019-04-27T12:00:00-05:00   \n",
              "\n",
              "                             categoria  \\\n",
              "0              Hipotecas / Empréstimos   \n",
              "1  Cartão de crédito / Cartão pré-pago   \n",
              "2  Cartão de crédito / Cartão pré-pago   \n",
              "3  Cartão de crédito / Cartão pré-pago   \n",
              "4           Serviços de conta bancária   \n",
              "\n",
              "                                descricao_reclamacao  \\\n",
              "0  Bom dia, meu nome é xxxx xxxx e agradeço se vo...   \n",
              "1  Atualizei meu cartão xxxx xxxx em xx/xx/2018 e...   \n",
              "2  O cartão Chase foi relatado em xx/xx/2019. No ...   \n",
              "3  Em xx/xx/2018, enquanto tentava reservar um ti...   \n",
              "4  Meu neto me dê cheque por {$ 1600,00} Eu depos...   \n",
              "\n",
              "                                           text_norm  labels  \n",
              "0  bom dia nome xxxx xxxx agradeço puder ajudar a...       0  \n",
              "1  atualizei cartão xxxx xxxx informado agente fe...       1  \n",
              "2  cartão chase relatado entanto pedido fraudulen...       1  \n",
              "3  enquanto tentava reservar ticket xxxx xxxx dep...       1  \n",
              "4  neto cheque depositei conta chase fundo limpo ...       2  "
            ],
            "text/html": [
              "\n",
              "  <div id=\"df-ecb7d126-4857-4a9b-a883-7f41e671668c\" class=\"colab-df-container\">\n",
              "    <div>\n",
              "<style scoped>\n",
              "    .dataframe tbody tr th:only-of-type {\n",
              "        vertical-align: middle;\n",
              "    }\n",
              "\n",
              "    .dataframe tbody tr th {\n",
              "        vertical-align: top;\n",
              "    }\n",
              "\n",
              "    .dataframe thead th {\n",
              "        text-align: right;\n",
              "    }\n",
              "</style>\n",
              "<table border=\"1\" class=\"dataframe\">\n",
              "  <thead>\n",
              "    <tr style=\"text-align: right;\">\n",
              "      <th></th>\n",
              "      <th>id_reclamacao</th>\n",
              "      <th>data_abertura</th>\n",
              "      <th>categoria</th>\n",
              "      <th>descricao_reclamacao</th>\n",
              "      <th>text_norm</th>\n",
              "      <th>labels</th>\n",
              "    </tr>\n",
              "  </thead>\n",
              "  <tbody>\n",
              "    <tr>\n",
              "      <th>0</th>\n",
              "      <td>3229299</td>\n",
              "      <td>2019-05-01T12:00:00-05:00</td>\n",
              "      <td>Hipotecas / Empréstimos</td>\n",
              "      <td>Bom dia, meu nome é xxxx xxxx e agradeço se vo...</td>\n",
              "      <td>bom dia nome xxxx xxxx agradeço puder ajudar a...</td>\n",
              "      <td>0</td>\n",
              "    </tr>\n",
              "    <tr>\n",
              "      <th>1</th>\n",
              "      <td>3199379</td>\n",
              "      <td>2019-04-02T12:00:00-05:00</td>\n",
              "      <td>Cartão de crédito / Cartão pré-pago</td>\n",
              "      <td>Atualizei meu cartão xxxx xxxx em xx/xx/2018 e...</td>\n",
              "      <td>atualizei cartão xxxx xxxx informado agente fe...</td>\n",
              "      <td>1</td>\n",
              "    </tr>\n",
              "    <tr>\n",
              "      <th>2</th>\n",
              "      <td>3233499</td>\n",
              "      <td>2019-05-06T12:00:00-05:00</td>\n",
              "      <td>Cartão de crédito / Cartão pré-pago</td>\n",
              "      <td>O cartão Chase foi relatado em xx/xx/2019. No ...</td>\n",
              "      <td>cartão chase relatado entanto pedido fraudulen...</td>\n",
              "      <td>1</td>\n",
              "    </tr>\n",
              "    <tr>\n",
              "      <th>3</th>\n",
              "      <td>3180294</td>\n",
              "      <td>2019-03-14T12:00:00-05:00</td>\n",
              "      <td>Cartão de crédito / Cartão pré-pago</td>\n",
              "      <td>Em xx/xx/2018, enquanto tentava reservar um ti...</td>\n",
              "      <td>enquanto tentava reservar ticket xxxx xxxx dep...</td>\n",
              "      <td>1</td>\n",
              "    </tr>\n",
              "    <tr>\n",
              "      <th>4</th>\n",
              "      <td>3224980</td>\n",
              "      <td>2019-04-27T12:00:00-05:00</td>\n",
              "      <td>Serviços de conta bancária</td>\n",
              "      <td>Meu neto me dê cheque por {$ 1600,00} Eu depos...</td>\n",
              "      <td>neto cheque depositei conta chase fundo limpo ...</td>\n",
              "      <td>2</td>\n",
              "    </tr>\n",
              "  </tbody>\n",
              "</table>\n",
              "</div>\n",
              "    <div class=\"colab-df-buttons\">\n",
              "\n",
              "  <div class=\"colab-df-container\">\n",
              "    <button class=\"colab-df-convert\" onclick=\"convertToInteractive('df-ecb7d126-4857-4a9b-a883-7f41e671668c')\"\n",
              "            title=\"Convert this dataframe to an interactive table.\"\n",
              "            style=\"display:none;\">\n",
              "\n",
              "  <svg xmlns=\"http://www.w3.org/2000/svg\" height=\"24px\" viewBox=\"0 -960 960 960\">\n",
              "    <path d=\"M120-120v-720h720v720H120Zm60-500h600v-160H180v160Zm220 220h160v-160H400v160Zm0 220h160v-160H400v160ZM180-400h160v-160H180v160Zm440 0h160v-160H620v160ZM180-180h160v-160H180v160Zm440 0h160v-160H620v160Z\"/>\n",
              "  </svg>\n",
              "    </button>\n",
              "\n",
              "  <style>\n",
              "    .colab-df-container {\n",
              "      display:flex;\n",
              "      gap: 12px;\n",
              "    }\n",
              "\n",
              "    .colab-df-convert {\n",
              "      background-color: #E8F0FE;\n",
              "      border: none;\n",
              "      border-radius: 50%;\n",
              "      cursor: pointer;\n",
              "      display: none;\n",
              "      fill: #1967D2;\n",
              "      height: 32px;\n",
              "      padding: 0 0 0 0;\n",
              "      width: 32px;\n",
              "    }\n",
              "\n",
              "    .colab-df-convert:hover {\n",
              "      background-color: #E2EBFA;\n",
              "      box-shadow: 0px 1px 2px rgba(60, 64, 67, 0.3), 0px 1px 3px 1px rgba(60, 64, 67, 0.15);\n",
              "      fill: #174EA6;\n",
              "    }\n",
              "\n",
              "    .colab-df-buttons div {\n",
              "      margin-bottom: 4px;\n",
              "    }\n",
              "\n",
              "    [theme=dark] .colab-df-convert {\n",
              "      background-color: #3B4455;\n",
              "      fill: #D2E3FC;\n",
              "    }\n",
              "\n",
              "    [theme=dark] .colab-df-convert:hover {\n",
              "      background-color: #434B5C;\n",
              "      box-shadow: 0px 1px 3px 1px rgba(0, 0, 0, 0.15);\n",
              "      filter: drop-shadow(0px 1px 2px rgba(0, 0, 0, 0.3));\n",
              "      fill: #FFFFFF;\n",
              "    }\n",
              "  </style>\n",
              "\n",
              "    <script>\n",
              "      const buttonEl =\n",
              "        document.querySelector('#df-ecb7d126-4857-4a9b-a883-7f41e671668c button.colab-df-convert');\n",
              "      buttonEl.style.display =\n",
              "        google.colab.kernel.accessAllowed ? 'block' : 'none';\n",
              "\n",
              "      async function convertToInteractive(key) {\n",
              "        const element = document.querySelector('#df-ecb7d126-4857-4a9b-a883-7f41e671668c');\n",
              "        const dataTable =\n",
              "          await google.colab.kernel.invokeFunction('convertToInteractive',\n",
              "                                                    [key], {});\n",
              "        if (!dataTable) return;\n",
              "\n",
              "        const docLinkHtml = 'Like what you see? Visit the ' +\n",
              "          '<a target=\"_blank\" href=https://colab.research.google.com/notebooks/data_table.ipynb>data table notebook</a>'\n",
              "          + ' to learn more about interactive tables.';\n",
              "        element.innerHTML = '';\n",
              "        dataTable['output_type'] = 'display_data';\n",
              "        await google.colab.output.renderOutput(dataTable, element);\n",
              "        const docLink = document.createElement('div');\n",
              "        docLink.innerHTML = docLinkHtml;\n",
              "        element.appendChild(docLink);\n",
              "      }\n",
              "    </script>\n",
              "  </div>\n",
              "\n",
              "\n",
              "<div id=\"df-d6c2a3b6-10b8-446d-b3c2-2ef0adaa3dd8\">\n",
              "  <button class=\"colab-df-quickchart\" onclick=\"quickchart('df-d6c2a3b6-10b8-446d-b3c2-2ef0adaa3dd8')\"\n",
              "            title=\"Suggest charts\"\n",
              "            style=\"display:none;\">\n",
              "\n",
              "<svg xmlns=\"http://www.w3.org/2000/svg\" height=\"24px\"viewBox=\"0 0 24 24\"\n",
              "     width=\"24px\">\n",
              "    <g>\n",
              "        <path d=\"M19 3H5c-1.1 0-2 .9-2 2v14c0 1.1.9 2 2 2h14c1.1 0 2-.9 2-2V5c0-1.1-.9-2-2-2zM9 17H7v-7h2v7zm4 0h-2V7h2v10zm4 0h-2v-4h2v4z\"/>\n",
              "    </g>\n",
              "</svg>\n",
              "  </button>\n",
              "\n",
              "<style>\n",
              "  .colab-df-quickchart {\n",
              "      --bg-color: #E8F0FE;\n",
              "      --fill-color: #1967D2;\n",
              "      --hover-bg-color: #E2EBFA;\n",
              "      --hover-fill-color: #174EA6;\n",
              "      --disabled-fill-color: #AAA;\n",
              "      --disabled-bg-color: #DDD;\n",
              "  }\n",
              "\n",
              "  [theme=dark] .colab-df-quickchart {\n",
              "      --bg-color: #3B4455;\n",
              "      --fill-color: #D2E3FC;\n",
              "      --hover-bg-color: #434B5C;\n",
              "      --hover-fill-color: #FFFFFF;\n",
              "      --disabled-bg-color: #3B4455;\n",
              "      --disabled-fill-color: #666;\n",
              "  }\n",
              "\n",
              "  .colab-df-quickchart {\n",
              "    background-color: var(--bg-color);\n",
              "    border: none;\n",
              "    border-radius: 50%;\n",
              "    cursor: pointer;\n",
              "    display: none;\n",
              "    fill: var(--fill-color);\n",
              "    height: 32px;\n",
              "    padding: 0;\n",
              "    width: 32px;\n",
              "  }\n",
              "\n",
              "  .colab-df-quickchart:hover {\n",
              "    background-color: var(--hover-bg-color);\n",
              "    box-shadow: 0 1px 2px rgba(60, 64, 67, 0.3), 0 1px 3px 1px rgba(60, 64, 67, 0.15);\n",
              "    fill: var(--button-hover-fill-color);\n",
              "  }\n",
              "\n",
              "  .colab-df-quickchart-complete:disabled,\n",
              "  .colab-df-quickchart-complete:disabled:hover {\n",
              "    background-color: var(--disabled-bg-color);\n",
              "    fill: var(--disabled-fill-color);\n",
              "    box-shadow: none;\n",
              "  }\n",
              "\n",
              "  .colab-df-spinner {\n",
              "    border: 2px solid var(--fill-color);\n",
              "    border-color: transparent;\n",
              "    border-bottom-color: var(--fill-color);\n",
              "    animation:\n",
              "      spin 1s steps(1) infinite;\n",
              "  }\n",
              "\n",
              "  @keyframes spin {\n",
              "    0% {\n",
              "      border-color: transparent;\n",
              "      border-bottom-color: var(--fill-color);\n",
              "      border-left-color: var(--fill-color);\n",
              "    }\n",
              "    20% {\n",
              "      border-color: transparent;\n",
              "      border-left-color: var(--fill-color);\n",
              "      border-top-color: var(--fill-color);\n",
              "    }\n",
              "    30% {\n",
              "      border-color: transparent;\n",
              "      border-left-color: var(--fill-color);\n",
              "      border-top-color: var(--fill-color);\n",
              "      border-right-color: var(--fill-color);\n",
              "    }\n",
              "    40% {\n",
              "      border-color: transparent;\n",
              "      border-right-color: var(--fill-color);\n",
              "      border-top-color: var(--fill-color);\n",
              "    }\n",
              "    60% {\n",
              "      border-color: transparent;\n",
              "      border-right-color: var(--fill-color);\n",
              "    }\n",
              "    80% {\n",
              "      border-color: transparent;\n",
              "      border-right-color: var(--fill-color);\n",
              "      border-bottom-color: var(--fill-color);\n",
              "    }\n",
              "    90% {\n",
              "      border-color: transparent;\n",
              "      border-bottom-color: var(--fill-color);\n",
              "    }\n",
              "  }\n",
              "</style>\n",
              "\n",
              "  <script>\n",
              "    async function quickchart(key) {\n",
              "      const quickchartButtonEl =\n",
              "        document.querySelector('#' + key + ' button');\n",
              "      quickchartButtonEl.disabled = true;  // To prevent multiple clicks.\n",
              "      quickchartButtonEl.classList.add('colab-df-spinner');\n",
              "      try {\n",
              "        const charts = await google.colab.kernel.invokeFunction(\n",
              "            'suggestCharts', [key], {});\n",
              "      } catch (error) {\n",
              "        console.error('Error during call to suggestCharts:', error);\n",
              "      }\n",
              "      quickchartButtonEl.classList.remove('colab-df-spinner');\n",
              "      quickchartButtonEl.classList.add('colab-df-quickchart-complete');\n",
              "    }\n",
              "    (() => {\n",
              "      let quickchartButtonEl =\n",
              "        document.querySelector('#df-d6c2a3b6-10b8-446d-b3c2-2ef0adaa3dd8 button');\n",
              "      quickchartButtonEl.style.display =\n",
              "        google.colab.kernel.accessAllowed ? 'block' : 'none';\n",
              "    })();\n",
              "  </script>\n",
              "</div>\n",
              "\n",
              "    </div>\n",
              "  </div>\n"
            ],
            "application/vnd.google.colaboratory.intrinsic+json": {
              "type": "dataframe",
              "variable_name": "df",
              "summary": "{\n  \"name\": \"df\",\n  \"rows\": 21072,\n  \"fields\": [\n    {\n      \"column\": \"id_reclamacao\",\n      \"properties\": {\n        \"dtype\": \"number\",\n        \"std\": 770932,\n        \"min\": 1290253,\n        \"max\": 4213007,\n        \"num_unique_values\": 21072,\n        \"samples\": [\n          2505290,\n          3625355,\n          1405636\n        ],\n        \"semantic_type\": \"\",\n        \"description\": \"\"\n      }\n    },\n    {\n      \"column\": \"data_abertura\",\n      \"properties\": {\n        \"dtype\": \"object\",\n        \"num_unique_values\": 2182,\n        \"samples\": [\n          \"2015-08-31T12:00:00-05:00\",\n          \"2017-09-12T12:00:00-05:00\",\n          \"2020-01-21T12:00:00-05:00\"\n        ],\n        \"semantic_type\": \"\",\n        \"description\": \"\"\n      }\n    },\n    {\n      \"column\": \"categoria\",\n      \"properties\": {\n        \"dtype\": \"category\",\n        \"num_unique_values\": 5,\n        \"samples\": [\n          \"Cart\\u00e3o de cr\\u00e9dito / Cart\\u00e3o pr\\u00e9-pago\",\n          \"Roubo / Relat\\u00f3rio de disputa\",\n          \"Servi\\u00e7os de conta banc\\u00e1ria\"\n        ],\n        \"semantic_type\": \"\",\n        \"description\": \"\"\n      }\n    },\n    {\n      \"column\": \"descricao_reclamacao\",\n      \"properties\": {\n        \"dtype\": \"string\",\n        \"num_unique_values\": 20903,\n        \"samples\": [\n          \"Em xxxx e xx/xx/xxxx, algu\\u00e9m havia tirado meu cart\\u00e3o da minha carteira enquanto eu estava em um hospital e subia meu cart\\u00e3o. Essa pessoa, xxxx xxxx xxxx, me convenceu a dar a ela minha procura\\u00e7\\u00e3o m\\u00e9dica apenas mais tarde para descobrir que era de fato uma procura\\u00e7\\u00e3o dur\\u00e1vel. Ela aumenta {$ 10000,00} d\\u00f3lares, que inclu\\u00edram alguns avan\\u00e7os em dinheiro. Assim que tomei conhecimento disso, entrei em contato com o Chase Bank. Eles inicialmente creditaram tudo de volta para mim. Em seguida, arquivei um relat\\u00f3rio policial no Departamento de Pol\\u00edcia XXXX do Arizona, caso # XXXX. Eles come\\u00e7aram a falar com a Sra. XXXX, que alimentou uma s\\u00e9rie de mentiras. Ela ent\\u00e3o lhes deu c\\u00f3pias dos advogados. Ent\\u00e3o Chase voltou e colocou todas essas acusa\\u00e7\\u00f5es de volta no meu cart\\u00e3o e disse por causa dos POA, eu fui respons\\u00e1vel pelas acusa\\u00e7\\u00f5es. Nesse momento, entrei em contato com meu advogado xxxx xxxx de xxxx xxxx xxxx. Enviamos uma peti\\u00e7\\u00e3o para anular os poderes de advogado devido \\u00e0 falta de capacidade do diretor. Em xx/xx/xxxx, ap\\u00f3s mais de um ano de batalha, o juiz emitiu uma ordem anulada de lado os poderes porque o principal n\\u00e3o tinha capacidade. No par\\u00e1grafo d, a p\\u00e1gina 2 afirma que i xxxx xxxx n\\u00e3o autorizou xxxx xxxx xxxx como um agente na minha conta banc\\u00e1ria Chase e a autoriza\\u00e7\\u00e3o \\u00e9 nula. Em seguida, entrei em contato com Chase, enviei o documento do tribunal e esperei at\\u00e9 saber que eles o haviam recebido. Quando liguei para Chase, o representante no departamento de fraude discutiu comigo que o POA era v\\u00e1lido, portanto, eles n\\u00e3o podiam aceit\\u00e1 -lo. Eu at\\u00e9 expliquei que todos os meus outros bancos e meus propriet\\u00e1rios de casas o aceitaram. Eles recusaram. Por isso, voltamos aos tribunais e, em XX/XX/XXXX, o par\\u00e1grafo d P\\u00e1gina 2 foi alterado para ler \\\"xxxx xxxx n\\u00e3o autorizou xxxx xxxx xxxx como agente em suas contas banc\\u00e1rias Chase e a autoriza\\u00e7\\u00e3o \\u00e9 inv\\u00e1lida e nula de todas as tempos devido \\u00e0 falta de capacidade dos peticion\\u00e1rios. Enviei essas informa\\u00e7\\u00f5es a um XXXX XXXX XXXX no Chase, que me aconselhou que ele era o supervisor do departamento de fraude. Ent\\u00e3o esperei algumas semanas para permitir que eles fizessem algumas pesquisas. ligou de volta e foi dito mais uma vez que os poderes de advogado eram v\\u00e1lidos no momento em que foram assinados para que n\\u00e3o me reembolsem de volta o que paguei e que ainda sou respons\\u00e1vel pelo saldo restante. Na semana passada, sob o conselho de Conselheiro jur\\u00eddico, enviei um e -mail ao CEO do Chase Bank. N\\u00e3o estou pedindo muito, apenas para ser reembolsado o que \\u00e9 devido a mim. E para que os funcion\\u00e1rios sejam treinados para que, quando houver um POA e seja governado nulo e vazio porque a pessoa foi considerada incapacitada, isso significa que elas eram n OT na mente certa para assinar qualquer documenta\\u00e7\\u00e3o legal. Estou lutando com isso h\\u00e1 2 anos e quero que isso seja resolvido da maneira que deve ser feita. Como afirmado anteriormente, meus outros bancos e meus seguros de propriet\\u00e1rios homenagearam os documentos judiciais legais sem qualquer d\\u00favida ou hesita\\u00e7\\u00e3o. Chase \\u00e9 o \\u00fanico banco que est\\u00e1 se recusando repetidamente a fazer a coisa certa. Al\\u00e9m disso, na semana passada, veio \\u00e0 tona que a Sra. XXXX teve 20 acusa\\u00e7\\u00f5es criminais trazidas contra ela em xxxx por fraude e planejamento para obter dinheiro do estado do Arizona e \\u00e9 um pouco estranho descobrir que um funcion\\u00e1rio da Chase em uma filial local foi agendado Para testemunhar como testemunha de personagem por ela. Isso me parece que ela trabalha com algu\\u00e9m na Chase h\\u00e1 anos e sabia exatamente o que fazer para tirar vantagem de mim durante um tempo muito vulner\\u00e1vel na minha vida.\",\n          \"O n\\u00famero da conta do empr\\u00e9stimo do Chase Auto XXX tinha um saldo listado de {$ 930,00} a partir de xx/xx/xxxx em um empr\\u00e9stimo que amadureceu o Onxx/XX/XXXX, que deveria ter sido o \\u00faltimo pagamento. As cota\\u00e7\\u00f5es de pagamento declaradas projetaram pagamentos de {$ 1200,00} se o pagamento foi feito em xx/xx/xxxx, e uma recompensa separada de {$ 1200.00} se paga em xx/xx/xxxx <p/> o empr\\u00e9stimo foi criado na concession\\u00e1ria com a Um pagamento mensal {$ 320,00}, mas uma amortiza\\u00e7\\u00e3o calculada mostra o pagamento de {$ 320,00} por m\\u00eas. Foi feita uma solicita\\u00e7\\u00e3o para perseguir o Auto Finance em 6 ocasi\\u00f5es diferentes para obter uma c\\u00f3pia de um cronograma oficial de amortiza\\u00e7\\u00e3o para confirmar os c\\u00e1lculos da aloca\\u00e7\\u00e3o de pagamento e juros durante a vida \\u00fatil do empr\\u00e9stimo. Cada c\\u00f3pia recebida tinha {$ 0,00} em cada linha e coluna para o principal, juros e saldo.\\r\\n<P/>\\r\\nEntrei em contato com o Chase para resolver o equil\\u00edbrio contingente de um cronograma de amortiza\\u00e7\\u00e3o. Desde ent\\u00e3o, eles enviaram o saldo da conta a uma ag\\u00eancia de cobran\\u00e7a que tentou liquidar o saldo, mas n\\u00e3o querendo corrigir os 3 Lates no meu relat\\u00f3rio de cr\\u00e9dito. Eu acredito que \\u00e9 a responsabilidade de Chase validar a d\\u00edvida que eles dizem que devo. Fiz todos os 60 pagamentos no meu empr\\u00e9stimo e n\\u00e3o devo ter um saldo pendente de mais de {$ 900,00}. O hist\\u00f3rico de pagamentos mostrar\\u00e1 que, mesmo em pagamentos posteriores, paguei mais do que o m\\u00ednimo e os pagamentos que estavam dentro do prazo.\",\n          \"O Sr. XXXX em XXXX abriu uma conta no JP Morgan Stanly Chase Bank (Chase) com o objetivo de receber dep\\u00f3sito direto atrav\\u00e9s de um ex -empregador XXXX XXXX localizado em XXXX XXXX XXXX XXXX XXXX, Oklahoma xxxx. \\u00c9 indiscut\\u00edvel que, neste per\\u00edodo (Chase), tivesse uma institui\\u00e7\\u00e3o financeira localizada em XXXX e XXXX, onde \\u00e9 o MRXXXX XXXX abriu uma conta banc\\u00e1ria. No entanto, o Sr. XXXX em torno do final do XXXX visitou o Banco Chase Localizado no XXXX XXX XXXX, XXXX, XXXX XXXX para abrir uma conta banc\\u00e1ria e perguntar sobre produtos, ou seja, cart\\u00f5es de cr\\u00e9dito garantidos. No entanto, Chase se recusou a permitir que o Sr. XXXX abra uma conta atribu\\u00edda a atividades suspeitas da XXXX. Posteriormente, atribu\\u00eddo ao manuseio da informa\\u00e7\\u00e3o da conta de email xxxx xxxx xxxx, o Sr. XXXX, foi Spear Phish, levando \\u00e0 apropria\\u00e7\\u00e3o indevida e viola\\u00e7\\u00e3o dos direitos de privacidade. Al\\u00e9m disso, devido ao manuseio da informa\\u00e7\\u00e3o, o Sr. XXXX foi planejado, resultando em um instrumento forjado sendo descontado inconscientemente. Consequentemente, depois de perceber a provoca\\u00e7\\u00e3o que estava ocorrendo nos bastidores, o Sr. XXXX apresentou um congelamento de seguran\\u00e7a atrav\\u00e9s do XXXX XXXX, dada a a\\u00e7\\u00e3o adversa tomada contra o Sr. XXXX como resultado de fraude. Posteriormente, depois de colocar um congelamento de seguran\\u00e7a atribu\\u00eddo ao roubo de identidade, o Chase Bank enviou a comunica\\u00e7\\u00e3o que oferecem ferramentas de monitoramento de identidade gratuitas do Sr. XXXX, mesmo que nenhuma acusa\\u00e7\\u00e3o tenha sido alegado contra a institui\\u00e7\\u00e3o financeira. Al\\u00e9m disso, a institui\\u00e7\\u00e3o financeira mencionou os motivos associados a reclama\\u00e7\\u00f5es apresentadas contra o XXXX XXXX XXXX, que resultou em phishing Spear. Al\\u00e9m disso, acredita -se que o Chase Bank e o xxxx xxxx xxxx conspirem contra o Sr. XXXX para negar a ele a oportunidade de estabelecer o valor do cr\\u00e9dito. Al\\u00e9m disso, Chase se recusou a permitir que o Sr. XXXX o direito de utilizar seu servi\\u00e7o mesmo depois que o Sr. XXXX tentou trazer a conta em boa posi\\u00e7\\u00e3o. Chase, apesar da atividade suspeita arquivada para fornecer ao consumidor um motivo por escrito sob a (FCRA) sobre sua decis\\u00e3o de permitir que o Sr. XXXX utilize seu produto. Al\\u00e9m disso, a determina\\u00e7\\u00e3o da institui\\u00e7\\u00e3o financeira para negar o acesso ao servi\\u00e7o banc\\u00e1rio foi desaprovar o acesso ao Sr. XXXX a ferramentas de constru\\u00e7\\u00e3o de cr\\u00e9dito, dada a mudan\\u00e7a de pol\\u00edtica que enfatiza o acesso a ferramentas de cr\\u00e9dito agora \\u00e9 baseado no consumidor que possui uma conta banc\\u00e1ria. Como o consumidor n\\u00e3o pode acessar longos uma conta com a institui\\u00e7\\u00e3o financeira, certas ferramentas de cr\\u00e9dito n\\u00e3o podem mais ser acessadas. Como XXXX XXXX, uma vez ignorante da institui\\u00e7\\u00e3o financeira, \\u00e9 uma farsa que XXXX-XXXX pode utilizar esses bancos para armazenar seu dinheiro para a utiliza\\u00e7\\u00e3o de fundos nos bancos caprichosos, apenas para ter esses fundos dispon\\u00edveis para outros de uma classifica\\u00e7\\u00e3o diferente para Empregue \\u00e0 sua disposi\\u00e7\\u00e3o, enquanto outro indiv\\u00edduo sem instru\\u00e7\\u00e3o ou n\\u00e3o tem conhecimento das oportunidades que essas ferramentas criam. Al\\u00e9m disso, o verdadeiro predador e criminosos subterf\\u00fage o processo de certos indiv\\u00edduos clandestinamente em posse de informa\\u00e7\\u00f5es privadas. Acredita -se que o Chase Bank seja parcialmente respons\\u00e1vel pelo phishing Spear, que levou \\u00e0 circunst\\u00e2ncia infeliz do Sr. XXXX. No entanto, o Chase Bank possu\\u00eda o poder de registrar acusa\\u00e7\\u00f5es criminais por fraude deposit\\u00e1ria, mas apresentou a busca dessas op\\u00e7\\u00f5es, mas, em vez disso, afiliados de persegui\\u00e7\\u00e3o sendo mantidos em um padr\\u00e3o mais alto usado de identificar roubo para desqualificar o Sr. XXXX. \\u00c9 evidente como essas institui\\u00e7\\u00f5es foram estabelecidas em mais de quatrocentos anos de compensa\\u00e7\\u00e3o, portanto, se o banco estiver preocupado com qualquer coisa que ocorrer, o assunto deveria ter sido lidar com jurisdi\\u00e7\\u00e3o, em vez de ser sutilada. \\u00c9 evidente que essas institui\\u00e7\\u00f5es negam xxxx xxxx as mesmas igualidades que desfrutam. Se a institui\\u00e7\\u00e3o estiver mantendo registros, as repara\\u00e7\\u00f5es de 400 anos de trabalho for\\u00e7ado devem ser exigidas. \\u00c9 muito incr\\u00e9dulo que as pessoas que trabalham nessas institui\\u00e7\\u00f5es ou at\\u00e9 oficiais de alto n\\u00edvel se apropriem de informa\\u00e7\\u00f5es e processem a porta fechada para negar as pessoas de uma certa ra\\u00e7a uma oportunidade de se redimir. De fato, o pr\\u00f3prio fundamento deste pa\\u00eds foi constru\\u00eddo com um XXXX de miseric\\u00f3rdia, por\\u00e9m, pelo amor \\u00e0 vingan\\u00e7a do dinheiro, \\u00e9 exigido sem justificar. Em conclus\\u00e3o, a reputa\\u00e7\\u00e3o Mrxxxx XXXX foi diminu\\u00edda e negou as mesmas igualidades que outras. Acredita -se que essas a\\u00e7\\u00f5es foram tomadas por causa de ra\\u00e7a, cor e religi\\u00e3o [sic] sofreram les\\u00f5es graves por causa das a\\u00e7\\u00f5es de Chase. Obrigada\"\n        ],\n        \"semantic_type\": \"\",\n        \"description\": \"\"\n      }\n    },\n    {\n      \"column\": \"text_norm\",\n      \"properties\": {\n        \"dtype\": \"string\",\n        \"num_unique_values\": 20867,\n        \"samples\": [\n          \"acredito big bank morgan chase nenhum adiamento assinado ainda mostrou nenhum tipo adiamento papelada corresponde declara\\u00e7\\u00e3o paguei\",\n          \"resumo r\\u00e1pido fundos transfer\\u00eancia fio aprox presos conta banc\\u00e1ria intermedi\\u00e1ria correspondente chase bank xxxx xxxx xxxx xxxx xxxx xxxx receptor acesso fundos preciso fundos reembolsados \\u200b\\u200bpara possa envi\\u00e1 los conta benefici\\u00e1rio receptor base xxxx xxxx xxxx xxxx tanto chase bank conta intermedi\\u00e1ria quais fundos enviados xxxx xxxx xxxx xxxx conta fundos recebidos direcionaram repetidamente afirmando lidarem falado funcion\\u00e1rios diferentes ambos bancos desde ningu\\u00e9m conseguiu fornecer etapas concretas desse processo fornecer qualquer assist\\u00eancia concreta detalhes fundos transferidos via xxxx xxxx xxxx rastreando xxxx xxxx xxxx conta xxxx xxxx conta remetente fundos levados conta chase conta intermedi\\u00e1ria banco receptor onde fundos depositados conta benefici\\u00e1rio receptor xxxx xxxx xxxx localizada xxxx pode iniciar transfer\\u00eancia chase conta correspondente rejeit\\u00e1 devolvida mim neste ponto fundos completamente presos conta banc\\u00e1ria correspondente empresas envolvidas etapas tomadas xxxx xxxx fundos transferidos remetente conta intermedi\\u00e1ria receptor atrav\\u00e9s servi\\u00e7o fia\\u00e7\\u00e3o xxxx xxxx afirmaram conseguem reembolsar fundos depositados chase bank conta intermedi\\u00e1ria receptor tanto departamento transfer\\u00eancia arame quanto departamento contabilidade continuam direcionando xxxx xxxx dizem nada possam fazer final xxxx xxxx conta remetente tanto departamento transfer\\u00eancia arame quanto departamento contabilidade continuam direcionando perseguir dizem nada possam fazer final recusaram procurar nome envolver teleconfer\\u00eancia funcion\\u00e1rios feito antes mim xxxx xxxx xxxx conta benefici\\u00e1ria receptor afirmaram t\\u00eam acesso conta intermedi\\u00e1ria chase possam iniciar rejeitar transfer\\u00eancia\",\n          \"atualmente jpmcb auto finance relatando relat\\u00f3rios consumidores relat\\u00f3rios atrasados \\u200b\\u200bde dias m\\u00eas durante per\\u00edodo problemas pagamento conta autom\\u00f3veis banco pois enviaram pagamento eletronicamente programado enviado correio sabia pagamento recebido contatado jpmcb auto pagamento vencido sinceramente pensei pagamento feito percebi fundos nunca limparam conta fiz pagamento imediatamente entrei contato atendimento cliente jpmcb auto descobrir nunca contatado discutir solu\\u00e7\\u00e3o assunto disseram reportaria pagamento perdido cr\\u00e9dito fato relatou dias atrasado hist\\u00f3rico pagamentos estelares dessa ocorr\\u00eancia atualmente ritmo pagar ve\\u00edculo cedo pois feito constantemente pagamentos principais empr\\u00e9stimo \\u00faltimos anos conclus\\u00e3o marca negativa atrasada dias cr\\u00e9dito afetando hist\\u00f3rico geral pagamentos impedindo comprar hipoteca dom\\u00e9stica sinto fortemente realmente injusto nunca contactado informado pagamento perdido enganado acreditar afetaria relat\\u00f3rios cr\\u00e9dito consumidor\"\n        ],\n        \"semantic_type\": \"\",\n        \"description\": \"\"\n      }\n    },\n    {\n      \"column\": \"labels\",\n      \"properties\": {\n        \"dtype\": \"number\",\n        \"std\": 1,\n        \"min\": 0,\n        \"max\": 4,\n        \"num_unique_values\": 5,\n        \"samples\": [\n          1,\n          4,\n          2\n        ],\n        \"semantic_type\": \"\",\n        \"description\": \"\"\n      }\n    }\n  ]\n}"
            }
          },
          "metadata": {},
          "execution_count": 26
        }
      ]
    },
    {
      "cell_type": "code",
      "metadata": {
        "id": "FziwgqJmw9OD",
        "colab": {
          "base_uri": "https://localhost:8080/"
        },
        "outputId": "fc03bdfc-fee1-4d44-cf42-afbc1a291571"
      },
      "source": [
        "df.count()"
      ],
      "execution_count": null,
      "outputs": [
        {
          "output_type": "execute_result",
          "data": {
            "text/plain": [
              "id_reclamacao           21072\n",
              "data_abertura           21072\n",
              "categoria               21072\n",
              "descricao_reclamacao    21072\n",
              "text_norm               21072\n",
              "labels                  21072\n",
              "dtype: int64"
            ]
          },
          "metadata": {},
          "execution_count": 27
        }
      ]
    },
    {
      "cell_type": "code",
      "metadata": {
        "id": "25cBRwGAw8-1",
        "colab": {
          "base_uri": "https://localhost:8080/"
        },
        "outputId": "44f800e8-1f84-456d-a96b-4fff6ab3ca23"
      },
      "source": [
        "### verificando dimenão de linhas do data set\n",
        "df.shape[0]"
      ],
      "execution_count": null,
      "outputs": [
        {
          "output_type": "execute_result",
          "data": {
            "text/plain": [
              "21072"
            ]
          },
          "metadata": {},
          "execution_count": 28
        }
      ]
    },
    {
      "cell_type": "code",
      "source": [
        "### verificando dimensão de linhas e colunas do data set\n",
        "print(df.shape[0], df.shape[1])"
      ],
      "metadata": {
        "colab": {
          "base_uri": "https://localhost:8080/"
        },
        "id": "DVPJg4cYo4Wk",
        "outputId": "bc4ae50e-d4a6-40c3-c5fa-f0072ee64a77"
      },
      "execution_count": null,
      "outputs": [
        {
          "output_type": "stream",
          "name": "stdout",
          "text": [
            "21072 6\n"
          ]
        }
      ]
    },
    {
      "cell_type": "code",
      "source": [
        "### verificando se o data set possui valores nulos\n",
        "df.isnull().sum()"
      ],
      "metadata": {
        "colab": {
          "base_uri": "https://localhost:8080/"
        },
        "id": "BUsvvRrFozdG",
        "outputId": "0e7bd18e-3fc7-444e-8849-d664a771e312"
      },
      "execution_count": null,
      "outputs": [
        {
          "output_type": "execute_result",
          "data": {
            "text/plain": [
              "id_reclamacao           0\n",
              "data_abertura           0\n",
              "categoria               0\n",
              "descricao_reclamacao    0\n",
              "text_norm               0\n",
              "labels                  0\n",
              "dtype: int64"
            ]
          },
          "metadata": {},
          "execution_count": 30
        }
      ]
    },
    {
      "cell_type": "markdown",
      "source": [
        "**Analisando distribuição de categorias**"
      ],
      "metadata": {
        "id": "QHsxSdozpi4z"
      }
    },
    {
      "cell_type": "code",
      "source": [
        "df.categoria.value_counts()"
      ],
      "metadata": {
        "colab": {
          "base_uri": "https://localhost:8080/"
        },
        "id": "rIS-rAdoppP_",
        "outputId": "1a22da6e-ff8a-48da-9eef-e8145ff20fe7"
      },
      "execution_count": null,
      "outputs": [
        {
          "output_type": "execute_result",
          "data": {
            "text/plain": [
              "categoria\n",
              "Serviços de conta bancária             5161\n",
              "Cartão de crédito / Cartão pré-pago    5006\n",
              "Roubo / Relatório de disputa           4822\n",
              "Hipotecas / Empréstimos                3850\n",
              "Outros                                 2233\n",
              "Name: count, dtype: int64"
            ]
          },
          "metadata": {},
          "execution_count": 31
        }
      ]
    },
    {
      "cell_type": "code",
      "source": [
        "def melhorar_visualizacao():\n",
        "    plt.xticks(rotation=45, ha='right')\n",
        "    plt.tight_layout()\n",
        "    plt.show()"
      ],
      "metadata": {
        "id": "JE5EGCYFq4ta"
      },
      "execution_count": null,
      "outputs": []
    },
    {
      "cell_type": "code",
      "source": [
        "### plotando gráfico com as categorias\n",
        "sns.countplot(x='categoria', data=df)\n",
        "plt.ylabel('Contagem')\n",
        "plt.title('Contagem por Categoria')\n",
        "melhorar_visualizacao()\n",
        "plt.show()"
      ],
      "metadata": {
        "colab": {
          "base_uri": "https://localhost:8080/",
          "height": 487
        },
        "id": "Hwd0bbYnqUHn",
        "outputId": "88072f55-1856-4e42-fc00-1b0203ad9c34"
      },
      "execution_count": null,
      "outputs": [
        {
          "output_type": "display_data",
          "data": {
            "text/plain": [
              "<Figure size 640x480 with 1 Axes>"
            ],
            "image/png": "[encoded data removed]"
          },
          "metadata": {}
        }
      ]
    },
    {
      "cell_type": "code",
      "source": [
        "### criando data set apenas com categoria e descrição\n",
        "df_reduzido = df[['descricao_reclamacao','categoria']]\n"
      ],
      "metadata": {
        "id": "0zH2PDDWvQcL"
      },
      "execution_count": null,
      "outputs": []
    },
    {
      "cell_type": "markdown",
      "source": [
        "**Treinando modelos**"
      ],
      "metadata": {
        "id": "X1BvhK_5u9UC"
      }
    },
    {
      "cell_type": "markdown",
      "source": [
        "**treinando utilizando TF-IDF - decisiontreeclassifier**"
      ],
      "metadata": {
        "id": "PVREWGmB8d4n"
      }
    },
    {
      "cell_type": "code",
      "source": [
        "# divisão da amostra entre treino e teste\n",
        "df_train, df_test = train_test_split(\n",
        "      df_reduzido,\n",
        "      test_size = 0.25,\n",
        "      random_state = 42\n",
        "  )"
      ],
      "metadata": {
        "id": "bN0RSsEY0ycr"
      },
      "execution_count": null,
      "outputs": []
    },
    {
      "cell_type": "code",
      "source": [
        "def lemmatizer_text(text):\n",
        "  sent = []\n",
        "  doc = nlp(text)\n",
        "  for word in doc:\n",
        "      sent.append(word.lemma_)\n",
        "  return \" \".join(sent)\n",
        "\n",
        "# função que remove pontuação\n",
        "def remove_punctuation(text):\n",
        "    punctuations = string.punctuation\n",
        "    table = str.maketrans({key: \" \" for key in punctuations})\n",
        "    text = text.translate(table)\n",
        "    return text\n",
        "\n",
        "# função que normaliza o texto e remove stopwords\n",
        "def norm_tokenize(text):\n",
        "    text = text.lower()\n",
        "    text = remove_punctuation(text)\n",
        "    text = \"\".join([w for w in text if not w.isdigit()])\n",
        "    text = word_tokenize(text)\n",
        "    text = [x for x in text if x not in stops]\n",
        "    text = [y for y in text if len(y) > 2]\n",
        "    #return \" \".join([t for t in text])\n",
        "    return text"
      ],
      "metadata": {
        "id": "d4qglpu30WvW"
      },
      "execution_count": null,
      "outputs": []
    },
    {
      "cell_type": "code",
      "source": [
        "### TF-IDF com unigrama e sem stop-words em textos lematizados (Dica: crie uma função para lematizar o texto usando o Spacy).\n",
        "\n",
        "# aplica a lematização no dataframe de treino criando um nova coluna\n",
        "df_train['text_lemma'] = df_train.descricao_reclamacao.apply(lemmatizer_text)\n",
        "\n",
        "# vetorização\n",
        "vect = TfidfVectorizer(ngram_range=(1,1), use_idf=True, stop_words=stops)\n",
        "vect.fit(df_train.text_lemma)\n",
        "text_vect_train = vect.transform(df_train.text_lemma)\n",
        "\n",
        "x_train = text_vect_train\n",
        "y_train = df_train[\"categoria\"]\n",
        "\n",
        "from sklearn.tree import DecisionTreeClassifier\n",
        "\n",
        "# treinamento do modelo\n",
        "model = DecisionTreeClassifier(random_state=42)\n",
        "model.fit(x_train, y_train)\n",
        "\n",
        "# teste do modelo\n",
        "# aplica a lematização no dataframe de treino criando um nova coluna\n",
        "df_test['text_lemma'] = df_test.descricao_reclamacao.apply(lemmatizer_text)\n",
        "x_test = vect.transform(df_test.text_lemma)\n",
        "y_test = df_test[\"categoria\"]\n",
        "\n",
        "model.score(x_test, y_test)"
      ],
      "metadata": {
        "colab": {
          "base_uri": "https://localhost:8080/"
        },
        "id": "-L9DFoMQvKhU",
        "outputId": "1306f92d-6d8d-4987-805c-5c7e4c9af933"
      },
      "execution_count": null,
      "outputs": [
        {
          "output_type": "execute_result",
          "data": {
            "text/plain": [
              "0.774677296886864"
            ]
          },
          "metadata": {},
          "execution_count": 37
        }
      ]
    },
    {
      "cell_type": "code",
      "source": [
        "### salvando o modelo\n",
        "joblib.dump(model, 'modelo_decision_tree.joblib')\n"
      ],
      "metadata": {
        "colab": {
          "base_uri": "https://localhost:8080/"
        },
        "id": "6OyBOjbE5Rwm",
        "outputId": "8eec74c0-c45d-41d3-9bf1-4e36388904d7"
      },
      "execution_count": null,
      "outputs": [
        {
          "output_type": "execute_result",
          "data": {
            "text/plain": [
              "['modelo_decision_tree.joblib']"
            ]
          },
          "metadata": {},
          "execution_count": 38
        }
      ]
    },
    {
      "cell_type": "code",
      "source": [
        "# Relatório de classificação\n",
        "y_pred = model.predict(x_test)\n",
        "\n",
        "class_report = classification_report(y_test, y_pred)\n",
        "print('Relatório de Classificação:')\n",
        "print(class_report)\n",
        "\n",
        "# Calcular precisão, recall e F1-score\n",
        "precision = precision_score(y_test, y_pred, average='weighted')\n",
        "recall = recall_score(y_test, y_pred, average='weighted')\n",
        "f1 = f1_score(y_test, y_pred, average='weighted')\n",
        "print(f'Precisão: {precision:.2f}')\n",
        "print(f'Recall: {recall:.2f}')\n",
        "print(f'F1-score: {f1:.2f}')"
      ],
      "metadata": {
        "colab": {
          "base_uri": "https://localhost:8080/"
        },
        "id": "dIR1TTON5dOG",
        "outputId": "3913cee1-0678-4368-d6b0-e6a2cafc72aa"
      },
      "execution_count": null,
      "outputs": [
        {
          "output_type": "stream",
          "name": "stdout",
          "text": [
            "Relatório de Classificação:\n",
            "                                     precision    recall  f1-score   support\n",
            "\n",
            "Cartão de crédito / Cartão pré-pago       0.80      0.80      0.80      1290\n",
            "            Hipotecas / Empréstimos       0.81      0.81      0.81       922\n",
            "                             Outros       0.74      0.76      0.75       549\n",
            "       Roubo / Relatório de disputa       0.72      0.71      0.71      1204\n",
            "         Serviços de conta bancária       0.79      0.79      0.79      1303\n",
            "\n",
            "                           accuracy                           0.77      5268\n",
            "                          macro avg       0.77      0.77      0.77      5268\n",
            "                       weighted avg       0.77      0.77      0.77      5268\n",
            "\n",
            "Precisão: 0.77\n",
            "Recall: 0.77\n",
            "F1-score: 0.77\n"
          ]
        }
      ]
    },
    {
      "cell_type": "markdown",
      "source": [
        "**treinando utilizando Word2Vec - LogisticRegression**"
      ],
      "metadata": {
        "id": "A_YASVUg8nm2"
      }
    },
    {
      "cell_type": "code",
      "source": [
        "# Tokenizando e normalizando o texto\n",
        "df['tokens'] = df['descricao_reclamacao'].apply(norm_tokenize)"
      ],
      "metadata": {
        "id": "7dQ1MPKy8miZ"
      },
      "execution_count": null,
      "outputs": []
    },
    {
      "cell_type": "code",
      "source": [
        "# divisão da amostra entre treino e teste\n",
        "df_train, df_test = train_test_split(\n",
        "      df,\n",
        "      test_size = 0.25,\n",
        "      random_state = 42\n",
        "  )"
      ],
      "metadata": {
        "id": "s8d_s_T2-TI7"
      },
      "execution_count": null,
      "outputs": []
    },
    {
      "cell_type": "code",
      "source": [
        "# Função para obter embeddings médios para cada texto\n",
        "vectorizer = model_skip\n",
        "\n",
        "def average_vector(words):\n",
        "  vectors = [vectorizer[word] for word in words if word in vectorizer]\n",
        "  if vectors:\n",
        "    return sum(vectors) / len(vectors)\n",
        "  else:\n",
        "    vector_size = vectorizer.vector_size\n",
        "    wv_res = np.zeros(vector_size)\n",
        "    return wv_res"
      ],
      "metadata": {
        "id": "3O5JSQ3W-WK_"
      },
      "execution_count": null,
      "outputs": []
    },
    {
      "cell_type": "code",
      "source": [
        "# Converter textos para embeddings com Word2Vec\n",
        "df_train[\"vetor\"] = df_train[\"tokens\"].apply(average_vector)"
      ],
      "metadata": {
        "id": "IqR_G4L2-Z3S"
      },
      "execution_count": null,
      "outputs": []
    },
    {
      "cell_type": "code",
      "source": [
        "# variáveis\n",
        "x_train = df_train[\"vetor\"]\n",
        "y_train = df_train[\"categoria\"]\n",
        "\n",
        "# Treinar Classificador\n",
        "model = LogisticRegression(random_state=42)\n",
        "#model = RandomForestClassifier(random_state=42)\n",
        "model.fit(list(x_train), y_train)\n",
        "\n",
        "# Avaliação do modelo\n",
        "df_test[\"vetor\"] = df_test[\"tokens\"].apply(average_vector)\n",
        "x_test = df_test[\"vetor\"]\n",
        "y_test = df_test[\"categoria\"]\n",
        "\n",
        "y_pred = model.predict(list(x_test))\n",
        "\n",
        "class_report = classification_report(y_test, y_pred)\n",
        "print('Relatório de Classificação:')\n",
        "print(class_report)\n",
        "\n",
        "# Calcular precisão, recall e F1-score\n",
        "precision = precision_score(y_test, y_pred, average='weighted')\n",
        "recall = recall_score(y_test, y_pred, average='weighted')\n",
        "f1 = f1_score(y_test, y_pred, average='weighted')\n",
        "print(f'Precisão: {precision:.2f}')\n",
        "print(f'Recall: {recall:.2f}')\n",
        "print(f'F1-score: {f1:.2f}')"
      ],
      "metadata": {
        "colab": {
          "base_uri": "https://localhost:8080/"
        },
        "id": "0zL1hkMt-dCb",
        "outputId": "e2ff19a2-1200-4799-8f1f-85d195f5bbc5"
      },
      "execution_count": null,
      "outputs": [
        {
          "output_type": "stream",
          "name": "stderr",
          "text": [
            "/usr/local/lib/python3.10/dist-packages/sklearn/linear_model/_logistic.py:458: ConvergenceWarning: lbfgs failed to converge (status=1):\n",
            "STOP: TOTAL NO. of ITERATIONS REACHED LIMIT.\n",
            "\n",
            "Increase the number of iterations (max_iter) or scale the data as shown in:\n",
            "    https://scikit-learn.org/stable/modules/preprocessing.html\n",
            "Please also refer to the documentation for alternative solver options:\n",
            "    https://scikit-learn.org/stable/modules/linear_model.html#logistic-regression\n",
            "  n_iter_i = _check_optimize_result(\n"
          ]
        },
        {
          "output_type": "stream",
          "name": "stdout",
          "text": [
            "Relatório de Classificação:\n",
            "                                     precision    recall  f1-score   support\n",
            "\n",
            "Cartão de crédito / Cartão pré-pago       0.87      0.85      0.86      1290\n",
            "            Hipotecas / Empréstimos       0.84      0.87      0.85       922\n",
            "                             Outros       0.85      0.71      0.78       549\n",
            "       Roubo / Relatório de disputa       0.79      0.82      0.80      1204\n",
            "         Serviços de conta bancária       0.86      0.90      0.88      1303\n",
            "\n",
            "                           accuracy                           0.84      5268\n",
            "                          macro avg       0.84      0.83      0.83      5268\n",
            "                       weighted avg       0.84      0.84      0.84      5268\n",
            "\n",
            "Precisão: 0.84\n",
            "Recall: 0.84\n",
            "F1-score: 0.84\n"
          ]
        }
      ]
    },
    {
      "cell_type": "code",
      "source": [
        "### salvando o modelo\n",
        "joblib.dump(model, 'modelo_logistic_regression_word2vec.joblib')"
      ],
      "metadata": {
        "colab": {
          "base_uri": "https://localhost:8080/"
        },
        "id": "5_spBD7L-80c",
        "outputId": "21799cb7-0e8d-4f7e-c147-a98d17e72d5e"
      },
      "execution_count": null,
      "outputs": [
        {
          "output_type": "execute_result",
          "data": {
            "text/plain": [
              "['modelo_logistic_regression_word2vec.joblib']"
            ]
          },
          "metadata": {},
          "execution_count": 45
        }
      ]
    },
    {
      "cell_type": "markdown",
      "source": [
        "**Treinando utilizando sentence transformers**"
      ],
      "metadata": {
        "id": "n3Ze99lq_yAp"
      }
    },
    {
      "cell_type": "code",
      "source": [
        "stopwords = nltk.corpus.stopwords.words('portuguese')\n"
      ],
      "metadata": {
        "id": "0Dyp5J21Kly2"
      },
      "execution_count": null,
      "outputs": []
    },
    {
      "cell_type": "code",
      "source": [
        "# função que normaliza o texto e remove stopwords\n",
        "def norm_tokenize(text):\n",
        "    text = text.lower()\n",
        "    text = remove_punctuation(text)\n",
        "    text = \"\".join([w for w in text if not w.isdigit()])\n",
        "    text = word_tokenize(text)\n",
        "    text = [x for x in text if x not in stopwords]\n",
        "    text = [y for y in text if len(y) > 2]\n",
        "    return \" \".join([t for t in text])"
      ],
      "metadata": {
        "id": "qDhelVtgJREb"
      },
      "execution_count": null,
      "outputs": []
    },
    {
      "cell_type": "code",
      "source": [
        "df['tokens'] = df['descricao_reclamacao'].apply(norm_tokenize)"
      ],
      "metadata": {
        "id": "Dp1KYyvV_wav"
      },
      "execution_count": null,
      "outputs": []
    },
    {
      "cell_type": "code",
      "source": [
        "st = SentenceTransformer('sentence-transformers/distiluse-base-multilingual-cased-v2')\n",
        "vetor_embedding = st.encode(df['tokens'].to_list())"
      ],
      "metadata": {
        "colab": {
          "base_uri": "https://localhost:8080/"
        },
        "id": "YVBnVPXABbHD",
        "outputId": "05479db5-e41d-4c2a-b3c3-2dbea3cb9fd6"
      },
      "execution_count": null,
      "outputs": [
        {
          "output_type": "stream",
          "name": "stderr",
          "text": [
            "/usr/local/lib/python3.10/dist-packages/huggingface_hub/file_download.py:1132: FutureWarning: `resume_download` is deprecated and will be removed in version 1.0.0. Downloads always resume when possible. If you want to force a new download, use `force_download=True`.\n",
            "  warnings.warn(\n"
          ]
        }
      ]
    },
    {
      "cell_type": "code",
      "source": [
        "df['vetor_st'] = list(vetor_embedding)\n"
      ],
      "metadata": {
        "id": "m4bqpQd_BgqP"
      },
      "execution_count": null,
      "outputs": []
    },
    {
      "cell_type": "code",
      "source": [
        "# divisão da amostra entre treino e teste\n",
        "df_train, df_test = train_test_split(\n",
        "      df,\n",
        "      test_size = 0.25,\n",
        "      random_state = 42\n",
        "  )"
      ],
      "metadata": {
        "id": "W_ihNIzCBh6L"
      },
      "execution_count": null,
      "outputs": []
    },
    {
      "cell_type": "code",
      "source": [
        "# variáveis\n",
        "x_train = df_train['vetor_st'].to_list()\n",
        "y_train = df_train['categoria'].to_list()\n",
        "\n",
        "# Treinar Classificador\n",
        "model = LogisticRegression(random_state=42)\n",
        "model.fit(x_train, y_train)\n",
        "\n",
        "# Avaliação do modelo\n",
        "x_test = df_test['vetor_st'].to_list()\n",
        "y_test = df_test['categoria'].to_list()\n",
        "\n",
        "y_pred = model.predict(x_test)"
      ],
      "metadata": {
        "colab": {
          "base_uri": "https://localhost:8080/"
        },
        "id": "WUOlDlUEBoCi",
        "outputId": "ca7c459f-0157-47dd-91b2-e5d848d87c80"
      },
      "execution_count": null,
      "outputs": [
        {
          "output_type": "stream",
          "name": "stderr",
          "text": [
            "/usr/local/lib/python3.10/dist-packages/sklearn/linear_model/_logistic.py:458: ConvergenceWarning: lbfgs failed to converge (status=1):\n",
            "STOP: TOTAL NO. of ITERATIONS REACHED LIMIT.\n",
            "\n",
            "Increase the number of iterations (max_iter) or scale the data as shown in:\n",
            "    https://scikit-learn.org/stable/modules/preprocessing.html\n",
            "Please also refer to the documentation for alternative solver options:\n",
            "    https://scikit-learn.org/stable/modules/linear_model.html#logistic-regression\n",
            "  n_iter_i = _check_optimize_result(\n"
          ]
        }
      ]
    },
    {
      "cell_type": "code",
      "source": [
        "class_report = classification_report(y_test, y_pred)\n",
        "print('Relatório de Classificação:')\n",
        "print(class_report)\n",
        "\n",
        "# Calcular precisão, recall e F1-score\n",
        "precision = precision_score(y_test, y_pred, average='weighted')\n",
        "recall = recall_score(y_test, y_pred, average='weighted')\n",
        "f1 = f1_score(y_test, y_pred, average='weighted')\n",
        "print(f'Precisão: {precision:.2f}')\n",
        "print(f'Recall: {recall:.2f}')\n",
        "print(f'F1-score: {f1:.2f}')"
      ],
      "metadata": {
        "colab": {
          "base_uri": "https://localhost:8080/"
        },
        "id": "Ez1WcFlMBq9W",
        "outputId": "e01deedc-de08-41c9-a6a5-48b6c3123a51"
      },
      "execution_count": null,
      "outputs": [
        {
          "output_type": "stream",
          "name": "stdout",
          "text": [
            "Relatório de Classificação:\n",
            "                                     precision    recall  f1-score   support\n",
            "\n",
            "Cartão de crédito / Cartão pré-pago       0.79      0.80      0.79      1290\n",
            "            Hipotecas / Empréstimos       0.82      0.85      0.83       922\n",
            "                             Outros       0.74      0.66      0.70       549\n",
            "       Roubo / Relatório de disputa       0.72      0.72      0.72      1204\n",
            "         Serviços de conta bancária       0.82      0.84      0.83      1303\n",
            "\n",
            "                           accuracy                           0.78      5268\n",
            "                          macro avg       0.78      0.77      0.77      5268\n",
            "                       weighted avg       0.78      0.78      0.78      5268\n",
            "\n",
            "Precisão: 0.78\n",
            "Recall: 0.78\n",
            "F1-score: 0.78\n"
          ]
        }
      ]
    },
    {
      "cell_type": "code",
      "source": [
        "### salvando o modelo\n",
        "joblib.dump(model, 'modelo_logistic_regression_st.joblib')"
      ],
      "metadata": {
        "colab": {
          "base_uri": "https://localhost:8080/"
        },
        "id": "kpa8ZQzvB3aB",
        "outputId": "1bd86fb6-d3d5-4344-f10a-fdc75dff0cb6"
      },
      "execution_count": null,
      "outputs": [
        {
          "output_type": "execute_result",
          "data": {
            "text/plain": [
              "['modelo_logistic_regression_st.joblib']"
            ]
          },
          "metadata": {},
          "execution_count": 54
        }
      ]
    },
    {
      "cell_type": "code",
      "source": [
        "# variáveis\n",
        "x_train = df_train['vetor_st'].to_list()\n",
        "y_train = df_train['categoria'].to_list()\n",
        "\n",
        "# Treinar Classificador\n",
        "model = RandomForestClassifier(random_state=42)\n",
        "model.fit(x_train, y_train)\n",
        "\n",
        "# Avaliação do modelo\n",
        "x_test = df_test['vetor_st'].to_list()\n",
        "y_test = df_test['categoria'].to_list()\n",
        "\n",
        "y_pred = model.predict(x_test)"
      ],
      "metadata": {
        "id": "4G_qrrAeCAKI"
      },
      "execution_count": null,
      "outputs": []
    },
    {
      "cell_type": "code",
      "source": [
        "class_report = classification_report(y_test, y_pred)\n",
        "print('Relatório de Classificação:')\n",
        "print(class_report)\n",
        "\n",
        "# Calcular precisão, recall e F1-score\n",
        "precision = precision_score(y_test, y_pred, average='weighted')\n",
        "recall = recall_score(y_test, y_pred, average='weighted')\n",
        "f1 = f1_score(y_test, y_pred, average='weighted')\n",
        "print(f'Precisão: {precision:.2f}')\n",
        "print(f'Recall: {recall:.2f}')\n",
        "print(f'F1-score: {f1:.2f}')"
      ],
      "metadata": {
        "colab": {
          "base_uri": "https://localhost:8080/"
        },
        "id": "kO1OicF3CFLr",
        "outputId": "31c807da-8661-4781-86b7-e6d1ccfe3f3b"
      },
      "execution_count": null,
      "outputs": [
        {
          "output_type": "stream",
          "name": "stdout",
          "text": [
            "Relatório de Classificação:\n",
            "                                     precision    recall  f1-score   support\n",
            "\n",
            "Cartão de crédito / Cartão pré-pago       0.71      0.80      0.75      1290\n",
            "            Hipotecas / Empréstimos       0.76      0.80      0.78       922\n",
            "                             Outros       0.82      0.42      0.55       549\n",
            "       Roubo / Relatório de disputa       0.67      0.63      0.65      1204\n",
            "         Serviços de conta bancária       0.74      0.82      0.78      1303\n",
            "\n",
            "                           accuracy                           0.72      5268\n",
            "                          macro avg       0.74      0.69      0.70      5268\n",
            "                       weighted avg       0.73      0.72      0.72      5268\n",
            "\n",
            "Precisão: 0.73\n",
            "Recall: 0.72\n",
            "F1-score: 0.72\n"
          ]
        }
      ]
    },
    {
      "cell_type": "code",
      "source": [
        "### salvando o modelo\n",
        "joblib.dump(model, 'modelo_random_forest_st.joblib')"
      ],
      "metadata": {
        "colab": {
          "base_uri": "https://localhost:8080/"
        },
        "id": "xrFKdh5wCH6S",
        "outputId": "ea83edc3-68e8-4040-c23f-5b0b87cdc8f8"
      },
      "execution_count": null,
      "outputs": [
        {
          "output_type": "execute_result",
          "data": {
            "text/plain": [
              "['modelo_random_forest_st.joblib']"
            ]
          },
          "metadata": {},
          "execution_count": 57
        }
      ]
    },
    {
      "cell_type": "markdown",
      "source": [
        "**Classificador utilizando o bert**"
      ],
      "metadata": {
        "id": "6niW8ElMMFOH"
      }
    },
    {
      "cell_type": "code",
      "source": [
        "### declarando funções\n",
        "stopwords = nltk.corpus.stopwords.words('portuguese')\n",
        "\n",
        "class CustomDataset(torch.utils.data.Dataset):\n",
        "    def __init__(self, encodings, labels):\n",
        "        self.encodings = encodings\n",
        "        self.labels = labels\n",
        "\n",
        "    def __getitem__(self, idx):\n",
        "        item = {key: torch.tensor(val[idx]) for key, val in self.encodings.items()}\n",
        "        item['labels'] = torch.tensor(self.labels[idx])\n",
        "        return item\n",
        "\n",
        "    def __len__(self):\n",
        "        return len(self.labels)\n",
        "\n",
        "# Função para calcular métricas personalizadas\n",
        "def compute_metrics(pred):\n",
        "    labels = pred.label_ids\n",
        "    preds = pred.predictions.argmax(-1)\n",
        "    precision, recall, f1, _ = precision_recall_fscore_support(labels, preds, average='weighted')\n",
        "    return {\n",
        "        'accuracy': (preds == labels).mean(),\n",
        "        'precision': precision,\n",
        "        'recall': recall,\n",
        "        'f1': f1,\n",
        "    }\n",
        "\n",
        "# função que normaliza o texto e remove stopwords\n",
        "def norm_tokenize(text):\n",
        "    text = text.lower()\n",
        "    text = remove_punctuation(text)\n",
        "    text = \"\".join([w for w in text if not w.isdigit()])\n",
        "    text = word_tokenize(text)\n",
        "    text = [x for x in text if x not in stopwords]\n",
        "    text = [y for y in text if len(y) > 2]\n",
        "    return \" \".join([t for t in text])\n",
        "\n",
        "def lemmatizer_text(text):\n",
        "  sent = []\n",
        "  doc = nlp(text)\n",
        "  for word in doc:\n",
        "      sent.append(word.lemma_)\n",
        "  return \" \".join(sent)\n",
        "\n",
        "# função que remove pontuação\n",
        "def remove_punctuation(text):\n",
        "    punctuations = string.punctuation\n",
        "    table = str.maketrans({key: \" \" for key in punctuations})\n",
        "    text = text.translate(table)\n",
        "    return text"
      ],
      "metadata": {
        "id": "q2iPqyutU8m1"
      },
      "execution_count": null,
      "outputs": []
    },
    {
      "cell_type": "code",
      "source": [
        "df['text_norm'] = df['descricao_reclamacao'].apply(norm_tokenize)"
      ],
      "metadata": {
        "id": "EjvjvIKUGZpX"
      },
      "execution_count": null,
      "outputs": []
    },
    {
      "cell_type": "code",
      "source": [
        "# Criar um label map\n",
        "label_map = {label: idx for idx, label in enumerate(df['categoria'].unique())}\n",
        "df['labels'] = df['categoria'].map(label_map)\n",
        "\n",
        "df.head()"
      ],
      "metadata": {
        "colab": {
          "base_uri": "https://localhost:8080/",
          "height": 380
        },
        "id": "JcQOSMboMIz-",
        "outputId": "4808178b-697b-4af5-ca5c-19f08886070a"
      },
      "execution_count": null,
      "outputs": [
        {
          "output_type": "execute_result",
          "data": {
            "text/plain": [
              "   id_reclamacao              data_abertura  \\\n",
              "0        3229299  2019-05-01T12:00:00-05:00   \n",
              "1        3199379  2019-04-02T12:00:00-05:00   \n",
              "2        3233499  2019-05-06T12:00:00-05:00   \n",
              "3        3180294  2019-03-14T12:00:00-05:00   \n",
              "4        3224980  2019-04-27T12:00:00-05:00   \n",
              "\n",
              "                             categoria  \\\n",
              "0              Hipotecas / Empréstimos   \n",
              "1  Cartão de crédito / Cartão pré-pago   \n",
              "2  Cartão de crédito / Cartão pré-pago   \n",
              "3  Cartão de crédito / Cartão pré-pago   \n",
              "4           Serviços de conta bancária   \n",
              "\n",
              "                                descricao_reclamacao  \\\n",
              "0  Bom dia, meu nome é xxxx xxxx e agradeço se vo...   \n",
              "1  Atualizei meu cartão xxxx xxxx em xx/xx/2018 e...   \n",
              "2  O cartão Chase foi relatado em xx/xx/2019. No ...   \n",
              "3  Em xx/xx/2018, enquanto tentava reservar um ti...   \n",
              "4  Meu neto me dê cheque por {$ 1600,00} Eu depos...   \n",
              "\n",
              "                                           text_norm  labels  \n",
              "0  bom dia nome xxxx xxxx agradeço puder ajudar a...       0  \n",
              "1  atualizei cartão xxxx xxxx informado agente fe...       1  \n",
              "2  cartão chase relatado entanto pedido fraudulen...       1  \n",
              "3  enquanto tentava reservar ticket xxxx xxxx dep...       1  \n",
              "4  neto cheque depositei conta chase fundo limpo ...       2  "
            ],
            "text/html": [
              "\n",
              "  <div id=\"df-18d1380d-52f8-46a4-87c9-28e32a7b64a2\" class=\"colab-df-container\">\n",
              "    <div>\n",
              "<style scoped>\n",
              "    .dataframe tbody tr th:only-of-type {\n",
              "        vertical-align: middle;\n",
              "    }\n",
              "\n",
              "    .dataframe tbody tr th {\n",
              "        vertical-align: top;\n",
              "    }\n",
              "\n",
              "    .dataframe thead th {\n",
              "        text-align: right;\n",
              "    }\n",
              "</style>\n",
              "<table border=\"1\" class=\"dataframe\">\n",
              "  <thead>\n",
              "    <tr style=\"text-align: right;\">\n",
              "      <th></th>\n",
              "      <th>id_reclamacao</th>\n",
              "      <th>data_abertura</th>\n",
              "      <th>categoria</th>\n",
              "      <th>descricao_reclamacao</th>\n",
              "      <th>text_norm</th>\n",
              "      <th>labels</th>\n",
              "    </tr>\n",
              "  </thead>\n",
              "  <tbody>\n",
              "    <tr>\n",
              "      <th>0</th>\n",
              "      <td>3229299</td>\n",
              "      <td>2019-05-01T12:00:00-05:00</td>\n",
              "      <td>Hipotecas / Empréstimos</td>\n",
              "      <td>Bom dia, meu nome é xxxx xxxx e agradeço se vo...</td>\n",
              "      <td>bom dia nome xxxx xxxx agradeço puder ajudar a...</td>\n",
              "      <td>0</td>\n",
              "    </tr>\n",
              "    <tr>\n",
              "      <th>1</th>\n",
              "      <td>3199379</td>\n",
              "      <td>2019-04-02T12:00:00-05:00</td>\n",
              "      <td>Cartão de crédito / Cartão pré-pago</td>\n",
              "      <td>Atualizei meu cartão xxxx xxxx em xx/xx/2018 e...</td>\n",
              "      <td>atualizei cartão xxxx xxxx informado agente fe...</td>\n",
              "      <td>1</td>\n",
              "    </tr>\n",
              "    <tr>\n",
              "      <th>2</th>\n",
              "      <td>3233499</td>\n",
              "      <td>2019-05-06T12:00:00-05:00</td>\n",
              "      <td>Cartão de crédito / Cartão pré-pago</td>\n",
              "      <td>O cartão Chase foi relatado em xx/xx/2019. No ...</td>\n",
              "      <td>cartão chase relatado entanto pedido fraudulen...</td>\n",
              "      <td>1</td>\n",
              "    </tr>\n",
              "    <tr>\n",
              "      <th>3</th>\n",
              "      <td>3180294</td>\n",
              "      <td>2019-03-14T12:00:00-05:00</td>\n",
              "      <td>Cartão de crédito / Cartão pré-pago</td>\n",
              "      <td>Em xx/xx/2018, enquanto tentava reservar um ti...</td>\n",
              "      <td>enquanto tentava reservar ticket xxxx xxxx dep...</td>\n",
              "      <td>1</td>\n",
              "    </tr>\n",
              "    <tr>\n",
              "      <th>4</th>\n",
              "      <td>3224980</td>\n",
              "      <td>2019-04-27T12:00:00-05:00</td>\n",
              "      <td>Serviços de conta bancária</td>\n",
              "      <td>Meu neto me dê cheque por {$ 1600,00} Eu depos...</td>\n",
              "      <td>neto cheque depositei conta chase fundo limpo ...</td>\n",
              "      <td>2</td>\n",
              "    </tr>\n",
              "  </tbody>\n",
              "</table>\n",
              "</div>\n",
              "    <div class=\"colab-df-buttons\">\n",
              "\n",
              "  <div class=\"colab-df-container\">\n",
              "    <button class=\"colab-df-convert\" onclick=\"convertToInteractive('df-18d1380d-52f8-46a4-87c9-28e32a7b64a2')\"\n",
              "            title=\"Convert this dataframe to an interactive table.\"\n",
              "            style=\"display:none;\">\n",
              "\n",
              "  <svg xmlns=\"http://www.w3.org/2000/svg\" height=\"24px\" viewBox=\"0 -960 960 960\">\n",
              "    <path d=\"M120-120v-720h720v720H120Zm60-500h600v-160H180v160Zm220 220h160v-160H400v160Zm0 220h160v-160H400v160ZM180-400h160v-160H180v160Zm440 0h160v-160H620v160ZM180-180h160v-160H180v160Zm440 0h160v-160H620v160Z\"/>\n",
              "  </svg>\n",
              "    </button>\n",
              "\n",
              "  <style>\n",
              "    .colab-df-container {\n",
              "      display:flex;\n",
              "      gap: 12px;\n",
              "    }\n",
              "\n",
              "    .colab-df-convert {\n",
              "      background-color: #E8F0FE;\n",
              "      border: none;\n",
              "      border-radius: 50%;\n",
              "      cursor: pointer;\n",
              "      display: none;\n",
              "      fill: #1967D2;\n",
              "      height: 32px;\n",
              "      padding: 0 0 0 0;\n",
              "      width: 32px;\n",
              "    }\n",
              "\n",
              "    .colab-df-convert:hover {\n",
              "      background-color: #E2EBFA;\n",
              "      box-shadow: 0px 1px 2px rgba(60, 64, 67, 0.3), 0px 1px 3px 1px rgba(60, 64, 67, 0.15);\n",
              "      fill: #174EA6;\n",
              "    }\n",
              "\n",
              "    .colab-df-buttons div {\n",
              "      margin-bottom: 4px;\n",
              "    }\n",
              "\n",
              "    [theme=dark] .colab-df-convert {\n",
              "      background-color: #3B4455;\n",
              "      fill: #D2E3FC;\n",
              "    }\n",
              "\n",
              "    [theme=dark] .colab-df-convert:hover {\n",
              "      background-color: #434B5C;\n",
              "      box-shadow: 0px 1px 3px 1px rgba(0, 0, 0, 0.15);\n",
              "      filter: drop-shadow(0px 1px 2px rgba(0, 0, 0, 0.3));\n",
              "      fill: #FFFFFF;\n",
              "    }\n",
              "  </style>\n",
              "\n",
              "    <script>\n",
              "      const buttonEl =\n",
              "        document.querySelector('#df-18d1380d-52f8-46a4-87c9-28e32a7b64a2 button.colab-df-convert');\n",
              "      buttonEl.style.display =\n",
              "        google.colab.kernel.accessAllowed ? 'block' : 'none';\n",
              "\n",
              "      async function convertToInteractive(key) {\n",
              "        const element = document.querySelector('#df-18d1380d-52f8-46a4-87c9-28e32a7b64a2');\n",
              "        const dataTable =\n",
              "          await google.colab.kernel.invokeFunction('convertToInteractive',\n",
              "                                                    [key], {});\n",
              "        if (!dataTable) return;\n",
              "\n",
              "        const docLinkHtml = 'Like what you see? Visit the ' +\n",
              "          '<a target=\"_blank\" href=https://colab.research.google.com/notebooks/data_table.ipynb>data table notebook</a>'\n",
              "          + ' to learn more about interactive tables.';\n",
              "        element.innerHTML = '';\n",
              "        dataTable['output_type'] = 'display_data';\n",
              "        await google.colab.output.renderOutput(dataTable, element);\n",
              "        const docLink = document.createElement('div');\n",
              "        docLink.innerHTML = docLinkHtml;\n",
              "        element.appendChild(docLink);\n",
              "      }\n",
              "    </script>\n",
              "  </div>\n",
              "\n",
              "\n",
              "<div id=\"df-69f01368-69ab-42a5-a7bd-ac29326eb986\">\n",
              "  <button class=\"colab-df-quickchart\" onclick=\"quickchart('df-69f01368-69ab-42a5-a7bd-ac29326eb986')\"\n",
              "            title=\"Suggest charts\"\n",
              "            style=\"display:none;\">\n",
              "\n",
              "<svg xmlns=\"http://www.w3.org/2000/svg\" height=\"24px\"viewBox=\"0 0 24 24\"\n",
              "     width=\"24px\">\n",
              "    <g>\n",
              "        <path d=\"M19 3H5c-1.1 0-2 .9-2 2v14c0 1.1.9 2 2 2h14c1.1 0 2-.9 2-2V5c0-1.1-.9-2-2-2zM9 17H7v-7h2v7zm4 0h-2V7h2v10zm4 0h-2v-4h2v4z\"/>\n",
              "    </g>\n",
              "</svg>\n",
              "  </button>\n",
              "\n",
              "<style>\n",
              "  .colab-df-quickchart {\n",
              "      --bg-color: #E8F0FE;\n",
              "      --fill-color: #1967D2;\n",
              "      --hover-bg-color: #E2EBFA;\n",
              "      --hover-fill-color: #174EA6;\n",
              "      --disabled-fill-color: #AAA;\n",
              "      --disabled-bg-color: #DDD;\n",
              "  }\n",
              "\n",
              "  [theme=dark] .colab-df-quickchart {\n",
              "      --bg-color: #3B4455;\n",
              "      --fill-color: #D2E3FC;\n",
              "      --hover-bg-color: #434B5C;\n",
              "      --hover-fill-color: #FFFFFF;\n",
              "      --disabled-bg-color: #3B4455;\n",
              "      --disabled-fill-color: #666;\n",
              "  }\n",
              "\n",
              "  .colab-df-quickchart {\n",
              "    background-color: var(--bg-color);\n",
              "    border: none;\n",
              "    border-radius: 50%;\n",
              "    cursor: pointer;\n",
              "    display: none;\n",
              "    fill: var(--fill-color);\n",
              "    height: 32px;\n",
              "    padding: 0;\n",
              "    width: 32px;\n",
              "  }\n",
              "\n",
              "  .colab-df-quickchart:hover {\n",
              "    background-color: var(--hover-bg-color);\n",
              "    box-shadow: 0 1px 2px rgba(60, 64, 67, 0.3), 0 1px 3px 1px rgba(60, 64, 67, 0.15);\n",
              "    fill: var(--button-hover-fill-color);\n",
              "  }\n",
              "\n",
              "  .colab-df-quickchart-complete:disabled,\n",
              "  .colab-df-quickchart-complete:disabled:hover {\n",
              "    background-color: var(--disabled-bg-color);\n",
              "    fill: var(--disabled-fill-color);\n",
              "    box-shadow: none;\n",
              "  }\n",
              "\n",
              "  .colab-df-spinner {\n",
              "    border: 2px solid var(--fill-color);\n",
              "    border-color: transparent;\n",
              "    border-bottom-color: var(--fill-color);\n",
              "    animation:\n",
              "      spin 1s steps(1) infinite;\n",
              "  }\n",
              "\n",
              "  @keyframes spin {\n",
              "    0% {\n",
              "      border-color: transparent;\n",
              "      border-bottom-color: var(--fill-color);\n",
              "      border-left-color: var(--fill-color);\n",
              "    }\n",
              "    20% {\n",
              "      border-color: transparent;\n",
              "      border-left-color: var(--fill-color);\n",
              "      border-top-color: var(--fill-color);\n",
              "    }\n",
              "    30% {\n",
              "      border-color: transparent;\n",
              "      border-left-color: var(--fill-color);\n",
              "      border-top-color: var(--fill-color);\n",
              "      border-right-color: var(--fill-color);\n",
              "    }\n",
              "    40% {\n",
              "      border-color: transparent;\n",
              "      border-right-color: var(--fill-color);\n",
              "      border-top-color: var(--fill-color);\n",
              "    }\n",
              "    60% {\n",
              "      border-color: transparent;\n",
              "      border-right-color: var(--fill-color);\n",
              "    }\n",
              "    80% {\n",
              "      border-color: transparent;\n",
              "      border-right-color: var(--fill-color);\n",
              "      border-bottom-color: var(--fill-color);\n",
              "    }\n",
              "    90% {\n",
              "      border-color: transparent;\n",
              "      border-bottom-color: var(--fill-color);\n",
              "    }\n",
              "  }\n",
              "</style>\n",
              "\n",
              "  <script>\n",
              "    async function quickchart(key) {\n",
              "      const quickchartButtonEl =\n",
              "        document.querySelector('#' + key + ' button');\n",
              "      quickchartButtonEl.disabled = true;  // To prevent multiple clicks.\n",
              "      quickchartButtonEl.classList.add('colab-df-spinner');\n",
              "      try {\n",
              "        const charts = await google.colab.kernel.invokeFunction(\n",
              "            'suggestCharts', [key], {});\n",
              "      } catch (error) {\n",
              "        console.error('Error during call to suggestCharts:', error);\n",
              "      }\n",
              "      quickchartButtonEl.classList.remove('colab-df-spinner');\n",
              "      quickchartButtonEl.classList.add('colab-df-quickchart-complete');\n",
              "    }\n",
              "    (() => {\n",
              "      let quickchartButtonEl =\n",
              "        document.querySelector('#df-69f01368-69ab-42a5-a7bd-ac29326eb986 button');\n",
              "      quickchartButtonEl.style.display =\n",
              "        google.colab.kernel.accessAllowed ? 'block' : 'none';\n",
              "    })();\n",
              "  </script>\n",
              "</div>\n",
              "\n",
              "    </div>\n",
              "  </div>\n"
            ],
            "application/vnd.google.colaboratory.intrinsic+json": {
              "type": "dataframe",
              "variable_name": "df",
              "summary": "{\n  \"name\": \"df\",\n  \"rows\": 21072,\n  \"fields\": [\n    {\n      \"column\": \"id_reclamacao\",\n      \"properties\": {\n        \"dtype\": \"number\",\n        \"std\": 770932,\n        \"min\": 1290253,\n        \"max\": 4213007,\n        \"num_unique_values\": 21072,\n        \"samples\": [\n          2505290,\n          3625355,\n          1405636\n        ],\n        \"semantic_type\": \"\",\n        \"description\": \"\"\n      }\n    },\n    {\n      \"column\": \"data_abertura\",\n      \"properties\": {\n        \"dtype\": \"object\",\n        \"num_unique_values\": 2182,\n        \"samples\": [\n          \"2015-08-31T12:00:00-05:00\",\n          \"2017-09-12T12:00:00-05:00\",\n          \"2020-01-21T12:00:00-05:00\"\n        ],\n        \"semantic_type\": \"\",\n        \"description\": \"\"\n      }\n    },\n    {\n      \"column\": \"categoria\",\n      \"properties\": {\n        \"dtype\": \"category\",\n        \"num_unique_values\": 5,\n        \"samples\": [\n          \"Cart\\u00e3o de cr\\u00e9dito / Cart\\u00e3o pr\\u00e9-pago\",\n          \"Roubo / Relat\\u00f3rio de disputa\",\n          \"Servi\\u00e7os de conta banc\\u00e1ria\"\n        ],\n        \"semantic_type\": \"\",\n        \"description\": \"\"\n      }\n    },\n    {\n      \"column\": \"descricao_reclamacao\",\n      \"properties\": {\n        \"dtype\": \"string\",\n        \"num_unique_values\": 20903,\n        \"samples\": [\n          \"Em xxxx e xx/xx/xxxx, algu\\u00e9m havia tirado meu cart\\u00e3o da minha carteira enquanto eu estava em um hospital e subia meu cart\\u00e3o. Essa pessoa, xxxx xxxx xxxx, me convenceu a dar a ela minha procura\\u00e7\\u00e3o m\\u00e9dica apenas mais tarde para descobrir que era de fato uma procura\\u00e7\\u00e3o dur\\u00e1vel. Ela aumenta {$ 10000,00} d\\u00f3lares, que inclu\\u00edram alguns avan\\u00e7os em dinheiro. Assim que tomei conhecimento disso, entrei em contato com o Chase Bank. Eles inicialmente creditaram tudo de volta para mim. Em seguida, arquivei um relat\\u00f3rio policial no Departamento de Pol\\u00edcia XXXX do Arizona, caso # XXXX. Eles come\\u00e7aram a falar com a Sra. XXXX, que alimentou uma s\\u00e9rie de mentiras. Ela ent\\u00e3o lhes deu c\\u00f3pias dos advogados. Ent\\u00e3o Chase voltou e colocou todas essas acusa\\u00e7\\u00f5es de volta no meu cart\\u00e3o e disse por causa dos POA, eu fui respons\\u00e1vel pelas acusa\\u00e7\\u00f5es. Nesse momento, entrei em contato com meu advogado xxxx xxxx de xxxx xxxx xxxx. Enviamos uma peti\\u00e7\\u00e3o para anular os poderes de advogado devido \\u00e0 falta de capacidade do diretor. Em xx/xx/xxxx, ap\\u00f3s mais de um ano de batalha, o juiz emitiu uma ordem anulada de lado os poderes porque o principal n\\u00e3o tinha capacidade. No par\\u00e1grafo d, a p\\u00e1gina 2 afirma que i xxxx xxxx n\\u00e3o autorizou xxxx xxxx xxxx como um agente na minha conta banc\\u00e1ria Chase e a autoriza\\u00e7\\u00e3o \\u00e9 nula. Em seguida, entrei em contato com Chase, enviei o documento do tribunal e esperei at\\u00e9 saber que eles o haviam recebido. Quando liguei para Chase, o representante no departamento de fraude discutiu comigo que o POA era v\\u00e1lido, portanto, eles n\\u00e3o podiam aceit\\u00e1 -lo. Eu at\\u00e9 expliquei que todos os meus outros bancos e meus propriet\\u00e1rios de casas o aceitaram. Eles recusaram. Por isso, voltamos aos tribunais e, em XX/XX/XXXX, o par\\u00e1grafo d P\\u00e1gina 2 foi alterado para ler \\\"xxxx xxxx n\\u00e3o autorizou xxxx xxxx xxxx como agente em suas contas banc\\u00e1rias Chase e a autoriza\\u00e7\\u00e3o \\u00e9 inv\\u00e1lida e nula de todas as tempos devido \\u00e0 falta de capacidade dos peticion\\u00e1rios. Enviei essas informa\\u00e7\\u00f5es a um XXXX XXXX XXXX no Chase, que me aconselhou que ele era o supervisor do departamento de fraude. Ent\\u00e3o esperei algumas semanas para permitir que eles fizessem algumas pesquisas. ligou de volta e foi dito mais uma vez que os poderes de advogado eram v\\u00e1lidos no momento em que foram assinados para que n\\u00e3o me reembolsem de volta o que paguei e que ainda sou respons\\u00e1vel pelo saldo restante. Na semana passada, sob o conselho de Conselheiro jur\\u00eddico, enviei um e -mail ao CEO do Chase Bank. N\\u00e3o estou pedindo muito, apenas para ser reembolsado o que \\u00e9 devido a mim. E para que os funcion\\u00e1rios sejam treinados para que, quando houver um POA e seja governado nulo e vazio porque a pessoa foi considerada incapacitada, isso significa que elas eram n OT na mente certa para assinar qualquer documenta\\u00e7\\u00e3o legal. Estou lutando com isso h\\u00e1 2 anos e quero que isso seja resolvido da maneira que deve ser feita. Como afirmado anteriormente, meus outros bancos e meus seguros de propriet\\u00e1rios homenagearam os documentos judiciais legais sem qualquer d\\u00favida ou hesita\\u00e7\\u00e3o. Chase \\u00e9 o \\u00fanico banco que est\\u00e1 se recusando repetidamente a fazer a coisa certa. Al\\u00e9m disso, na semana passada, veio \\u00e0 tona que a Sra. XXXX teve 20 acusa\\u00e7\\u00f5es criminais trazidas contra ela em xxxx por fraude e planejamento para obter dinheiro do estado do Arizona e \\u00e9 um pouco estranho descobrir que um funcion\\u00e1rio da Chase em uma filial local foi agendado Para testemunhar como testemunha de personagem por ela. Isso me parece que ela trabalha com algu\\u00e9m na Chase h\\u00e1 anos e sabia exatamente o que fazer para tirar vantagem de mim durante um tempo muito vulner\\u00e1vel na minha vida.\",\n          \"O n\\u00famero da conta do empr\\u00e9stimo do Chase Auto XXX tinha um saldo listado de {$ 930,00} a partir de xx/xx/xxxx em um empr\\u00e9stimo que amadureceu o Onxx/XX/XXXX, que deveria ter sido o \\u00faltimo pagamento. As cota\\u00e7\\u00f5es de pagamento declaradas projetaram pagamentos de {$ 1200,00} se o pagamento foi feito em xx/xx/xxxx, e uma recompensa separada de {$ 1200.00} se paga em xx/xx/xxxx <p/> o empr\\u00e9stimo foi criado na concession\\u00e1ria com a Um pagamento mensal {$ 320,00}, mas uma amortiza\\u00e7\\u00e3o calculada mostra o pagamento de {$ 320,00} por m\\u00eas. Foi feita uma solicita\\u00e7\\u00e3o para perseguir o Auto Finance em 6 ocasi\\u00f5es diferentes para obter uma c\\u00f3pia de um cronograma oficial de amortiza\\u00e7\\u00e3o para confirmar os c\\u00e1lculos da aloca\\u00e7\\u00e3o de pagamento e juros durante a vida \\u00fatil do empr\\u00e9stimo. Cada c\\u00f3pia recebida tinha {$ 0,00} em cada linha e coluna para o principal, juros e saldo.\\r\\n<P/>\\r\\nEntrei em contato com o Chase para resolver o equil\\u00edbrio contingente de um cronograma de amortiza\\u00e7\\u00e3o. Desde ent\\u00e3o, eles enviaram o saldo da conta a uma ag\\u00eancia de cobran\\u00e7a que tentou liquidar o saldo, mas n\\u00e3o querendo corrigir os 3 Lates no meu relat\\u00f3rio de cr\\u00e9dito. Eu acredito que \\u00e9 a responsabilidade de Chase validar a d\\u00edvida que eles dizem que devo. Fiz todos os 60 pagamentos no meu empr\\u00e9stimo e n\\u00e3o devo ter um saldo pendente de mais de {$ 900,00}. O hist\\u00f3rico de pagamentos mostrar\\u00e1 que, mesmo em pagamentos posteriores, paguei mais do que o m\\u00ednimo e os pagamentos que estavam dentro do prazo.\",\n          \"O Sr. XXXX em XXXX abriu uma conta no JP Morgan Stanly Chase Bank (Chase) com o objetivo de receber dep\\u00f3sito direto atrav\\u00e9s de um ex -empregador XXXX XXXX localizado em XXXX XXXX XXXX XXXX XXXX, Oklahoma xxxx. \\u00c9 indiscut\\u00edvel que, neste per\\u00edodo (Chase), tivesse uma institui\\u00e7\\u00e3o financeira localizada em XXXX e XXXX, onde \\u00e9 o MRXXXX XXXX abriu uma conta banc\\u00e1ria. No entanto, o Sr. XXXX em torno do final do XXXX visitou o Banco Chase Localizado no XXXX XXX XXXX, XXXX, XXXX XXXX para abrir uma conta banc\\u00e1ria e perguntar sobre produtos, ou seja, cart\\u00f5es de cr\\u00e9dito garantidos. No entanto, Chase se recusou a permitir que o Sr. XXXX abra uma conta atribu\\u00edda a atividades suspeitas da XXXX. Posteriormente, atribu\\u00eddo ao manuseio da informa\\u00e7\\u00e3o da conta de email xxxx xxxx xxxx, o Sr. XXXX, foi Spear Phish, levando \\u00e0 apropria\\u00e7\\u00e3o indevida e viola\\u00e7\\u00e3o dos direitos de privacidade. Al\\u00e9m disso, devido ao manuseio da informa\\u00e7\\u00e3o, o Sr. XXXX foi planejado, resultando em um instrumento forjado sendo descontado inconscientemente. Consequentemente, depois de perceber a provoca\\u00e7\\u00e3o que estava ocorrendo nos bastidores, o Sr. XXXX apresentou um congelamento de seguran\\u00e7a atrav\\u00e9s do XXXX XXXX, dada a a\\u00e7\\u00e3o adversa tomada contra o Sr. XXXX como resultado de fraude. Posteriormente, depois de colocar um congelamento de seguran\\u00e7a atribu\\u00eddo ao roubo de identidade, o Chase Bank enviou a comunica\\u00e7\\u00e3o que oferecem ferramentas de monitoramento de identidade gratuitas do Sr. XXXX, mesmo que nenhuma acusa\\u00e7\\u00e3o tenha sido alegado contra a institui\\u00e7\\u00e3o financeira. Al\\u00e9m disso, a institui\\u00e7\\u00e3o financeira mencionou os motivos associados a reclama\\u00e7\\u00f5es apresentadas contra o XXXX XXXX XXXX, que resultou em phishing Spear. Al\\u00e9m disso, acredita -se que o Chase Bank e o xxxx xxxx xxxx conspirem contra o Sr. XXXX para negar a ele a oportunidade de estabelecer o valor do cr\\u00e9dito. Al\\u00e9m disso, Chase se recusou a permitir que o Sr. XXXX o direito de utilizar seu servi\\u00e7o mesmo depois que o Sr. XXXX tentou trazer a conta em boa posi\\u00e7\\u00e3o. Chase, apesar da atividade suspeita arquivada para fornecer ao consumidor um motivo por escrito sob a (FCRA) sobre sua decis\\u00e3o de permitir que o Sr. XXXX utilize seu produto. Al\\u00e9m disso, a determina\\u00e7\\u00e3o da institui\\u00e7\\u00e3o financeira para negar o acesso ao servi\\u00e7o banc\\u00e1rio foi desaprovar o acesso ao Sr. XXXX a ferramentas de constru\\u00e7\\u00e3o de cr\\u00e9dito, dada a mudan\\u00e7a de pol\\u00edtica que enfatiza o acesso a ferramentas de cr\\u00e9dito agora \\u00e9 baseado no consumidor que possui uma conta banc\\u00e1ria. Como o consumidor n\\u00e3o pode acessar longos uma conta com a institui\\u00e7\\u00e3o financeira, certas ferramentas de cr\\u00e9dito n\\u00e3o podem mais ser acessadas. Como XXXX XXXX, uma vez ignorante da institui\\u00e7\\u00e3o financeira, \\u00e9 uma farsa que XXXX-XXXX pode utilizar esses bancos para armazenar seu dinheiro para a utiliza\\u00e7\\u00e3o de fundos nos bancos caprichosos, apenas para ter esses fundos dispon\\u00edveis para outros de uma classifica\\u00e7\\u00e3o diferente para Empregue \\u00e0 sua disposi\\u00e7\\u00e3o, enquanto outro indiv\\u00edduo sem instru\\u00e7\\u00e3o ou n\\u00e3o tem conhecimento das oportunidades que essas ferramentas criam. Al\\u00e9m disso, o verdadeiro predador e criminosos subterf\\u00fage o processo de certos indiv\\u00edduos clandestinamente em posse de informa\\u00e7\\u00f5es privadas. Acredita -se que o Chase Bank seja parcialmente respons\\u00e1vel pelo phishing Spear, que levou \\u00e0 circunst\\u00e2ncia infeliz do Sr. XXXX. No entanto, o Chase Bank possu\\u00eda o poder de registrar acusa\\u00e7\\u00f5es criminais por fraude deposit\\u00e1ria, mas apresentou a busca dessas op\\u00e7\\u00f5es, mas, em vez disso, afiliados de persegui\\u00e7\\u00e3o sendo mantidos em um padr\\u00e3o mais alto usado de identificar roubo para desqualificar o Sr. XXXX. \\u00c9 evidente como essas institui\\u00e7\\u00f5es foram estabelecidas em mais de quatrocentos anos de compensa\\u00e7\\u00e3o, portanto, se o banco estiver preocupado com qualquer coisa que ocorrer, o assunto deveria ter sido lidar com jurisdi\\u00e7\\u00e3o, em vez de ser sutilada. \\u00c9 evidente que essas institui\\u00e7\\u00f5es negam xxxx xxxx as mesmas igualidades que desfrutam. Se a institui\\u00e7\\u00e3o estiver mantendo registros, as repara\\u00e7\\u00f5es de 400 anos de trabalho for\\u00e7ado devem ser exigidas. \\u00c9 muito incr\\u00e9dulo que as pessoas que trabalham nessas institui\\u00e7\\u00f5es ou at\\u00e9 oficiais de alto n\\u00edvel se apropriem de informa\\u00e7\\u00f5es e processem a porta fechada para negar as pessoas de uma certa ra\\u00e7a uma oportunidade de se redimir. De fato, o pr\\u00f3prio fundamento deste pa\\u00eds foi constru\\u00eddo com um XXXX de miseric\\u00f3rdia, por\\u00e9m, pelo amor \\u00e0 vingan\\u00e7a do dinheiro, \\u00e9 exigido sem justificar. Em conclus\\u00e3o, a reputa\\u00e7\\u00e3o Mrxxxx XXXX foi diminu\\u00edda e negou as mesmas igualidades que outras. Acredita -se que essas a\\u00e7\\u00f5es foram tomadas por causa de ra\\u00e7a, cor e religi\\u00e3o [sic] sofreram les\\u00f5es graves por causa das a\\u00e7\\u00f5es de Chase. Obrigada\"\n        ],\n        \"semantic_type\": \"\",\n        \"description\": \"\"\n      }\n    },\n    {\n      \"column\": \"text_norm\",\n      \"properties\": {\n        \"dtype\": \"string\",\n        \"num_unique_values\": 20867,\n        \"samples\": [\n          \"acredito big bank morgan chase nenhum adiamento assinado ainda mostrou nenhum tipo adiamento papelada corresponde declara\\u00e7\\u00e3o paguei\",\n          \"resumo r\\u00e1pido fundos transfer\\u00eancia fio aprox presos conta banc\\u00e1ria intermedi\\u00e1ria correspondente chase bank xxxx xxxx xxxx xxxx xxxx xxxx receptor acesso fundos preciso fundos reembolsados \\u200b\\u200bpara possa envi\\u00e1 los conta benefici\\u00e1rio receptor base xxxx xxxx xxxx xxxx tanto chase bank conta intermedi\\u00e1ria quais fundos enviados xxxx xxxx xxxx xxxx conta fundos recebidos direcionaram repetidamente afirmando lidarem falado funcion\\u00e1rios diferentes ambos bancos desde ningu\\u00e9m conseguiu fornecer etapas concretas desse processo fornecer qualquer assist\\u00eancia concreta detalhes fundos transferidos via xxxx xxxx xxxx rastreando xxxx xxxx xxxx conta xxxx xxxx conta remetente fundos levados conta chase conta intermedi\\u00e1ria banco receptor onde fundos depositados conta benefici\\u00e1rio receptor xxxx xxxx xxxx localizada xxxx pode iniciar transfer\\u00eancia chase conta correspondente rejeit\\u00e1 devolvida mim neste ponto fundos completamente presos conta banc\\u00e1ria correspondente empresas envolvidas etapas tomadas xxxx xxxx fundos transferidos remetente conta intermedi\\u00e1ria receptor atrav\\u00e9s servi\\u00e7o fia\\u00e7\\u00e3o xxxx xxxx afirmaram conseguem reembolsar fundos depositados chase bank conta intermedi\\u00e1ria receptor tanto departamento transfer\\u00eancia arame quanto departamento contabilidade continuam direcionando xxxx xxxx dizem nada possam fazer final xxxx xxxx conta remetente tanto departamento transfer\\u00eancia arame quanto departamento contabilidade continuam direcionando perseguir dizem nada possam fazer final recusaram procurar nome envolver teleconfer\\u00eancia funcion\\u00e1rios feito antes mim xxxx xxxx xxxx conta benefici\\u00e1ria receptor afirmaram t\\u00eam acesso conta intermedi\\u00e1ria chase possam iniciar rejeitar transfer\\u00eancia\",\n          \"atualmente jpmcb auto finance relatando relat\\u00f3rios consumidores relat\\u00f3rios atrasados \\u200b\\u200bde dias m\\u00eas durante per\\u00edodo problemas pagamento conta autom\\u00f3veis banco pois enviaram pagamento eletronicamente programado enviado correio sabia pagamento recebido contatado jpmcb auto pagamento vencido sinceramente pensei pagamento feito percebi fundos nunca limparam conta fiz pagamento imediatamente entrei contato atendimento cliente jpmcb auto descobrir nunca contatado discutir solu\\u00e7\\u00e3o assunto disseram reportaria pagamento perdido cr\\u00e9dito fato relatou dias atrasado hist\\u00f3rico pagamentos estelares dessa ocorr\\u00eancia atualmente ritmo pagar ve\\u00edculo cedo pois feito constantemente pagamentos principais empr\\u00e9stimo \\u00faltimos anos conclus\\u00e3o marca negativa atrasada dias cr\\u00e9dito afetando hist\\u00f3rico geral pagamentos impedindo comprar hipoteca dom\\u00e9stica sinto fortemente realmente injusto nunca contactado informado pagamento perdido enganado acreditar afetaria relat\\u00f3rios cr\\u00e9dito consumidor\"\n        ],\n        \"semantic_type\": \"\",\n        \"description\": \"\"\n      }\n    },\n    {\n      \"column\": \"labels\",\n      \"properties\": {\n        \"dtype\": \"number\",\n        \"std\": 1,\n        \"min\": 0,\n        \"max\": 4,\n        \"num_unique_values\": 5,\n        \"samples\": [\n          1,\n          4,\n          2\n        ],\n        \"semantic_type\": \"\",\n        \"description\": \"\"\n      }\n    }\n  ]\n}"
            }
          },
          "metadata": {},
          "execution_count": 10
        }
      ]
    },
    {
      "cell_type": "code",
      "source": [
        "# divisão da amostra entre treino e teste\n",
        "df_train, df_test = train_test_split(\n",
        "      df,\n",
        "      test_size = 0.25,\n",
        "      random_state = 42\n",
        "  )"
      ],
      "metadata": {
        "id": "HyDgmzCxU6h3"
      },
      "execution_count": null,
      "outputs": []
    },
    {
      "cell_type": "code",
      "source": [
        "# Carregar o tokenizer e o modelo\n",
        "tokenizer = AutoTokenizer.from_pretrained('neuralmind/bert-base-portuguese-cased')\n",
        "model = AutoModelForSequenceClassification.from_pretrained('neuralmind/bert-base-portuguese-cased', num_labels=5)  # Defina o número de classes"
      ],
      "metadata": {
        "colab": {
          "base_uri": "https://localhost:8080/",
          "height": 104,
          "referenced_widgets": [
            "bd68449b423a40a5874ade07ecd91bdb",
            "2b2533a0de2f4ed7b6f1f30b5ccd6640",
            "05cfe054dff845ef928628a94dd0ca29",
            "48a1b0f921c145c083b2d6a1ec309d85",
            "dc1bbfea9e9648adb19fcc10a446cf68",
            "9b80b663f3f94fd0801292474fa73c60",
            "e4036d00f99d4f33a1293b235ef57e99",
            "35620615b63e4da7af34e3c48c56cfcc",
            "d2c43e21e8ad44bab78c5e75fe652732",
            "332b6285c9144d3da2ff7187c4082a58",
            "c23c4f4a64c14e29b8eaf09b4f0875b5"
          ]
        },
        "id": "XfgsuaXZQQKh",
        "outputId": "5011fc91-222d-4722-9375-d8b1e07a6ffb"
      },
      "execution_count": null,
      "outputs": [
        {
          "output_type": "display_data",
          "data": {
            "text/plain": [
              "pytorch_model.bin:   0%|          | 0.00/438M [00:00<?, ?B/s]"
            ],
            "application/vnd.jupyter.widget-view+json": {
              "version_major": 2,
              "version_minor": 0,
              "model_id": "bd68449b423a40a5874ade07ecd91bdb"
            }
          },
          "metadata": {}
        },
        {
          "output_type": "stream",
          "name": "stderr",
          "text": [
            "Some weights of BertForSequenceClassification were not initialized from the model checkpoint at neuralmind/bert-base-portuguese-cased and are newly initialized: ['classifier.bias', 'classifier.weight']\n",
            "You should probably TRAIN this model on a down-stream task to be able to use it for predictions and inference.\n"
          ]
        }
      ]
    },
    {
      "cell_type": "code",
      "source": [
        "train_encodings = tokenizer(list(df_train['text_norm']), truncation=True, padding=True, max_length=512, return_tensors='pt')\n",
        "eval_encodings = tokenizer(list(df_test['text_norm']), truncation=True, padding=True, max_length=512, return_tensors='pt')"
      ],
      "metadata": {
        "id": "ZxEK8k0NVDYr"
      },
      "execution_count": null,
      "outputs": []
    },
    {
      "cell_type": "code",
      "source": [
        "train_labels = torch.tensor(list(df_train['labels']))\n",
        "eval_labels = torch.tensor(list(df_test['labels']))"
      ],
      "metadata": {
        "id": "rbeINJWoVlNX"
      },
      "execution_count": null,
      "outputs": []
    },
    {
      "cell_type": "code",
      "source": [
        "train_dataset = CustomDataset(train_encodings, train_labels)\n",
        "eval_dataset = CustomDataset(eval_encodings, eval_labels)"
      ],
      "metadata": {
        "id": "-PDQHr3kWbX0"
      },
      "execution_count": null,
      "outputs": []
    },
    {
      "cell_type": "code",
      "source": [
        "# Forçar a coleta de lixo\n",
        "##gc.collect()\n",
        "\n",
        "# Liberar cache da GPU\n",
        "##torch.cuda.empty_cache()\n",
        "\n",
        "# Mover o modelo para a GPU, se disponível\n",
        "device = torch.device('cuda' if torch.cuda.is_available() else 'cpu')\n",
        "model.to(device)\n",
        "\n",
        "# Definir os argumentos de treinamento\n",
        "training_args = TrainingArguments(\n",
        "    per_device_train_batch_size=32,\n",
        "    per_device_eval_batch_size=16,\n",
        "    num_train_epochs=3,\n",
        "    logging_dir='./logs',\n",
        "    output_dir='./results',\n",
        "    overwrite_output_dir=True\n",
        ")\n",
        "\n",
        "# Criar um trainer para facilitar o treinamento\n",
        "trainer = Trainer(\n",
        "    model=model,\n",
        "    args=training_args,\n",
        "    train_dataset=train_dataset,  # Dataset de treinamento\n",
        "    eval_dataset=eval_dataset,     # Dataset de avaliação\n",
        "    compute_metrics=compute_metrics\n",
        ")"
      ],
      "metadata": {
        "id": "ubQJCaGuUMJP"
      },
      "execution_count": null,
      "outputs": []
    },
    {
      "cell_type": "code",
      "source": [
        "trainer.train()"
      ],
      "metadata": {
        "colab": {
          "base_uri": "https://localhost:8080/",
          "height": 418
        },
        "id": "a-8hrwK6Pwf3",
        "outputId": "b03be7bd-1293-499d-c0aa-9bdb3dae2b47"
      },
      "execution_count": null,
      "outputs": [
        {
          "output_type": "stream",
          "name": "stderr",
          "text": [
            "<ipython-input-8-1323c87cdcc2>:10: UserWarning: To copy construct from a tensor, it is recommended to use sourceTensor.clone().detach() or sourceTensor.clone().detach().requires_grad_(True), rather than torch.tensor(sourceTensor).\n",
            "  item = {key: torch.tensor(val[idx]) for key, val in self.encodings.items()}\n",
            "<ipython-input-8-1323c87cdcc2>:11: UserWarning: To copy construct from a tensor, it is recommended to use sourceTensor.clone().detach() or sourceTensor.clone().detach().requires_grad_(True), rather than torch.tensor(sourceTensor).\n",
            "  item['labels'] = torch.tensor(self.labels[idx])\n"
          ]
        },
        {
          "output_type": "display_data",
          "data": {
            "text/plain": [
              "<IPython.core.display.HTML object>"
            ],
            "text/html": [
              "\n",
              "    <div>\n",
              "      \n",
              "      <progress value='1482' max='1482' style='width:300px; height:20px; vertical-align: middle;'></progress>\n",
              "      [1482/1482 30:00, Epoch 3/3]\n",
              "    </div>\n",
              "    <table border=\"1\" class=\"dataframe\">\n",
              "  <thead>\n",
              " <tr style=\"text-align: left;\">\n",
              "      <th>Step</th>\n",
              "      <th>Training Loss</th>\n",
              "    </tr>\n",
              "  </thead>\n",
              "  <tbody>\n",
              "    <tr>\n",
              "      <td>500</td>\n",
              "      <td>0.434600</td>\n",
              "    </tr>\n",
              "    <tr>\n",
              "      <td>1000</td>\n",
              "      <td>0.214400</td>\n",
              "    </tr>\n",
              "  </tbody>\n",
              "</table><p>"
            ]
          },
          "metadata": {}
        },
        {
          "output_type": "stream",
          "name": "stderr",
          "text": [
            "<ipython-input-8-1323c87cdcc2>:10: UserWarning: To copy construct from a tensor, it is recommended to use sourceTensor.clone().detach() or sourceTensor.clone().detach().requires_grad_(True), rather than torch.tensor(sourceTensor).\n",
            "  item = {key: torch.tensor(val[idx]) for key, val in self.encodings.items()}\n",
            "<ipython-input-8-1323c87cdcc2>:11: UserWarning: To copy construct from a tensor, it is recommended to use sourceTensor.clone().detach() or sourceTensor.clone().detach().requires_grad_(True), rather than torch.tensor(sourceTensor).\n",
            "  item['labels'] = torch.tensor(self.labels[idx])\n",
            "<ipython-input-8-1323c87cdcc2>:10: UserWarning: To copy construct from a tensor, it is recommended to use sourceTensor.clone().detach() or sourceTensor.clone().detach().requires_grad_(True), rather than torch.tensor(sourceTensor).\n",
            "  item = {key: torch.tensor(val[idx]) for key, val in self.encodings.items()}\n",
            "<ipython-input-8-1323c87cdcc2>:11: UserWarning: To copy construct from a tensor, it is recommended to use sourceTensor.clone().detach() or sourceTensor.clone().detach().requires_grad_(True), rather than torch.tensor(sourceTensor).\n",
            "  item['labels'] = torch.tensor(self.labels[idx])\n"
          ]
        },
        {
          "output_type": "execute_result",
          "data": {
            "text/plain": [
              "TrainOutput(global_step=1482, training_loss=0.25526999397638195, metrics={'train_runtime': 1802.4824, 'train_samples_per_second': 26.304, 'train_steps_per_second': 0.822, 'total_flos': 1.2474957370503168e+16, 'train_loss': 0.25526999397638195, 'epoch': 3.0})"
            ]
          },
          "metadata": {},
          "execution_count": 19
        }
      ]
    },
    {
      "cell_type": "code",
      "source": [
        "trainer.evaluate()"
      ],
      "metadata": {
        "colab": {
          "base_uri": "https://localhost:8080/",
          "height": 283
        },
        "id": "U7sSXPr8P4Ra",
        "outputId": "2123cd97-9853-4b6d-bbcd-ce96843f8f8c"
      },
      "execution_count": null,
      "outputs": [
        {
          "output_type": "stream",
          "name": "stderr",
          "text": [
            "<ipython-input-8-1323c87cdcc2>:10: UserWarning: To copy construct from a tensor, it is recommended to use sourceTensor.clone().detach() or sourceTensor.clone().detach().requires_grad_(True), rather than torch.tensor(sourceTensor).\n",
            "  item = {key: torch.tensor(val[idx]) for key, val in self.encodings.items()}\n",
            "<ipython-input-8-1323c87cdcc2>:11: UserWarning: To copy construct from a tensor, it is recommended to use sourceTensor.clone().detach() or sourceTensor.clone().detach().requires_grad_(True), rather than torch.tensor(sourceTensor).\n",
            "  item['labels'] = torch.tensor(self.labels[idx])\n"
          ]
        },
        {
          "output_type": "display_data",
          "data": {
            "text/plain": [
              "<IPython.core.display.HTML object>"
            ],
            "text/html": [
              "\n",
              "    <div>\n",
              "      \n",
              "      <progress value='330' max='330' style='width:300px; height:20px; vertical-align: middle;'></progress>\n",
              "      [330/330 01:18]\n",
              "    </div>\n",
              "    "
            ]
          },
          "metadata": {}
        },
        {
          "output_type": "execute_result",
          "data": {
            "text/plain": [
              "{'eval_loss': 0.2760748565196991,\n",
              " 'eval_accuracy': 0.9107820804859529,\n",
              " 'eval_precision': 0.9113125260479832,\n",
              " 'eval_recall': 0.9107820804859529,\n",
              " 'eval_f1': 0.9108563151155257,\n",
              " 'eval_runtime': 78.2938,\n",
              " 'eval_samples_per_second': 67.285,\n",
              " 'eval_steps_per_second': 4.215,\n",
              " 'epoch': 3.0}"
            ]
          },
          "metadata": {},
          "execution_count": 20
        }
      ]
    },
    {
      "cell_type": "code",
      "source": [
        "eval_results = trainer.evaluate()\n",
        "\n",
        "\n",
        "# Exibir as métricas\n",
        "print(\"Evaluation results:\")\n",
        "for key, value in eval_results.items():\n",
        "    print(f\"  {key}: {value:.4f}\")"
      ],
      "metadata": {
        "colab": {
          "base_uri": "https://localhost:8080/",
          "height": 300
        },
        "id": "g_trzofu-uNH",
        "outputId": "eb5cd615-970d-4f63-bf62-5b7d4dc0fcc8"
      },
      "execution_count": null,
      "outputs": [
        {
          "output_type": "stream",
          "name": "stderr",
          "text": [
            "<ipython-input-8-1323c87cdcc2>:10: UserWarning: To copy construct from a tensor, it is recommended to use sourceTensor.clone().detach() or sourceTensor.clone().detach().requires_grad_(True), rather than torch.tensor(sourceTensor).\n",
            "  item = {key: torch.tensor(val[idx]) for key, val in self.encodings.items()}\n",
            "<ipython-input-8-1323c87cdcc2>:11: UserWarning: To copy construct from a tensor, it is recommended to use sourceTensor.clone().detach() or sourceTensor.clone().detach().requires_grad_(True), rather than torch.tensor(sourceTensor).\n",
            "  item['labels'] = torch.tensor(self.labels[idx])\n"
          ]
        },
        {
          "output_type": "display_data",
          "data": {
            "text/plain": [
              "<IPython.core.display.HTML object>"
            ],
            "text/html": [
              "\n",
              "    <div>\n",
              "      \n",
              "      <progress value='660' max='330' style='width:300px; height:20px; vertical-align: middle;'></progress>\n",
              "      [330/330 02:41]\n",
              "    </div>\n",
              "    "
            ]
          },
          "metadata": {}
        },
        {
          "output_type": "stream",
          "name": "stdout",
          "text": [
            "Evaluation results:\n",
            "  eval_loss: 0.2761\n",
            "  eval_accuracy: 0.9108\n",
            "  eval_precision: 0.9113\n",
            "  eval_recall: 0.9108\n",
            "  eval_f1: 0.9109\n",
            "  eval_runtime: 78.6689\n",
            "  eval_samples_per_second: 66.9640\n",
            "  eval_steps_per_second: 4.1950\n",
            "  epoch: 3.0000\n"
          ]
        }
      ]
    },
    {
      "cell_type": "code",
      "source": [
        "# Salvar o modelo treinado\n",
        "model_save_path = \"./saved_model\"\n",
        "model.save_pretrained(model_save_path)\n",
        "\n",
        "# Salvar o tokenizer\n",
        "tokenizer.save_pretrained(model_save_path)\n",
        "\n",
        "print(f\"Modelo e tokenizer salvos em {model_save_path}\")"
      ],
      "metadata": {
        "colab": {
          "base_uri": "https://localhost:8080/"
        },
        "id": "odAOOTFB-9Nk",
        "outputId": "11859b4f-a5f2-4c75-e630-a8ca24cbf8e0"
      },
      "execution_count": null,
      "outputs": [
        {
          "output_type": "stream",
          "name": "stdout",
          "text": [
            "Modelo e tokenizer salvos em ./saved_model\n"
          ]
        }
      ]
    },
    {
      "cell_type": "code",
      "source": [
        "!zip -r saved_model.zip saved_model\n"
      ],
      "metadata": {
        "colab": {
          "base_uri": "https://localhost:8080/"
        },
        "id": "qiQpX4p8BDHJ",
        "outputId": "e242f788-cc8d-4f3b-d190-8ba58861fce2"
      },
      "execution_count": null,
      "outputs": [
        {
          "output_type": "stream",
          "name": "stdout",
          "text": [
            "  adding: saved_model/ (stored 0%)\n",
            "  adding: saved_model/tokenizer.json (deflated 72%)\n",
            "  adding: saved_model/model.safetensors (deflated 7%)\n",
            "  adding: saved_model/special_tokens_map.json (deflated 42%)\n",
            "  adding: saved_model/tokenizer_config.json (deflated 75%)\n",
            "  adding: saved_model/config.json (deflated 56%)\n",
            "  adding: saved_model/vocab.txt (deflated 52%)\n"
          ]
        }
      ]
    },
    {
      "cell_type": "markdown",
      "metadata": {
        "id": "68SiMjcWqD_m"
      },
      "source": [
        "###**Validação do professor**"
      ]
    },
    {
      "cell_type": "markdown",
      "metadata": {
        "id": "T24EasckqG2I"
      },
      "source": [
        "Consolidar apenas os scripts do seu **modelo campeão**, desde o carregamento do dataframe, separação das amostras, tratamentos utilizados (funções, limpezas, etc.), criação dos objetos de vetorização dos textos e modelo treinado e outras implementações utilizadas no processo de desenvolvimento do modelo.\n",
        "\n",
        "O modelo precisar atingir um score na métrica F1 Score superior a 75%."
      ]
    },
    {
      "cell_type": "code",
      "source": [
        "!pip install transformers\n",
        "!pip install torch\n",
        "!pip install accelerate -U\n",
        "!pip install transformers[torch]"
      ],
      "metadata": {
        "id": "04eEmY2vi3g5"
      },
      "execution_count": null,
      "outputs": []
    },
    {
      "cell_type": "code",
      "metadata": {
        "id": "VFA-CYfawkEJ"
      },
      "source": [
        "# CARREGANDO O DATA FRAME\n",
        "import pandas as pd\n",
        "df = pd.read_csv('https://dados-ml-pln.s3.sa-east-1.amazonaws.com/tickets_reclamacoes_classificados.csv', delimiter=';')\n",
        "\n",
        "# Façam o download do arquivo e utilizem localmente durante os testes"
      ],
      "execution_count": null,
      "outputs": []
    },
    {
      "cell_type": "code",
      "metadata": {
        "id": "BuJtvcfXo3J4"
      },
      "source": [
        "from sklearn.feature_extraction.text import CountVectorizer\n",
        "from sklearn.tree import DecisionTreeClassifier\n",
        "from sklearn.feature_extraction.text import TfidfVectorizer\n",
        "from sklearn.model_selection import train_test_split\n",
        "from sklearn.metrics import accuracy_score, precision_score, recall_score, f1_score, confusion_matrix, classification_report\n",
        "from gensim.models import KeyedVectors\n",
        "from nltk.tokenize import word_tokenize\n",
        "from sklearn.ensemble import RandomForestClassifier\n",
        "from sklearn.linear_model import LogisticRegression\n",
        "from sentence_transformers import SentenceTransformer\n",
        "from sklearn.ensemble import GradientBoostingClassifier\n",
        "from transformers import BertTokenizer, BertForSequenceClassification\n",
        "from transformers import pipeline, Trainer, TrainingArguments\n",
        "from torch.utils.data import Dataset\n",
        "from sklearn.metrics import precision_recall_fscore_support\n",
        "from transformers import AutoTokenizer  # Or BertTokenizer\n",
        "from transformers import AutoModelForPreTraining  # Or BertForPreTraining for loading pretraining heads\n",
        "from transformers import AutoModel\n",
        "from transformers import AutoModelForSequenceClassification\n",
        "\n",
        "import torch\n",
        "import seaborn as sns\n",
        "import matplotlib.pyplot as plt\n",
        "import nltk\n",
        "import spacy\n",
        "import joblib\n",
        "import string\n",
        "import numpy as np\n",
        "import gc"
      ],
      "execution_count": null,
      "outputs": []
    },
    {
      "cell_type": "code",
      "source": [
        "### carregando stop words\n",
        "stopwords = nltk.corpus.stopwords.words('portuguese')"
      ],
      "metadata": {
        "id": "nYPIG4TCgOBE"
      },
      "execution_count": null,
      "outputs": []
    },
    {
      "cell_type": "code",
      "metadata": {
        "id": "6ULYNH6-o3Hf",
        "colab": {
          "base_uri": "https://localhost:8080/",
          "height": 487
        },
        "outputId": "7e72434c-06b7-48b8-c973-750894c140fa"
      },
      "source": [
        "### plotando gráfico com as categorias\n",
        "def melhorar_visualizacao():\n",
        "    plt.xticks(rotation=45, ha='right')\n",
        "    plt.tight_layout()\n",
        "    plt.show()\n",
        "\n",
        "sns.countplot(x='categoria', data=df)\n",
        "plt.ylabel('Contagem')\n",
        "plt.title('Contagem por Categoria')\n",
        "melhorar_visualizacao()\n",
        "plt.show()"
      ],
      "execution_count": null,
      "outputs": [
        {
          "output_type": "display_data",
          "data": {
            "text/plain": [
              "<Figure size 640x480 with 1 Axes>"
            ],
            "image/png": "[encoded data removed]"
          },
          "metadata": {}
        }
      ]
    },
    {
      "cell_type": "code",
      "metadata": {
        "id": "3ClM-JTJo3FK"
      },
      "source": [
        "### declarando funções\n",
        "\n",
        "\n",
        "class CustomDataset(torch.utils.data.Dataset):\n",
        "    def __init__(self, encodings, labels):\n",
        "        self.encodings = encodings\n",
        "        self.labels = labels\n",
        "\n",
        "    def __getitem__(self, idx):\n",
        "        item = {key: torch.tensor(val[idx]) for key, val in self.encodings.items()}\n",
        "        item['labels'] = torch.tensor(self.labels[idx])\n",
        "        return item\n",
        "\n",
        "    def __len__(self):\n",
        "        return len(self.labels)\n",
        "\n",
        "# Função para calcular métricas personalizadas\n",
        "def compute_metrics(pred):\n",
        "    labels = pred.label_ids\n",
        "    preds = pred.predictions.argmax(-1)\n",
        "    precision, recall, f1, _ = precision_recall_fscore_support(labels, preds, average='weighted')\n",
        "    return {\n",
        "        'accuracy': (preds == labels).mean(),\n",
        "        'precision': precision,\n",
        "        'recall': recall,\n",
        "        'f1': f1,\n",
        "    }\n",
        "\n",
        "# função que normaliza o texto e remove stopwords\n",
        "def norm_tokenize(text):\n",
        "    text = text.lower()\n",
        "    text = remove_punctuation(text)\n",
        "    text = \"\".join([w for w in text if not w.isdigit()])\n",
        "    text = word_tokenize(text)\n",
        "    text = [x for x in text if x not in stopwords]\n",
        "    text = [y for y in text if len(y) > 2]\n",
        "    return \" \".join([t for t in text])\n",
        "\n",
        "# função que remove pontuação\n",
        "def remove_punctuation(text):\n",
        "    punctuations = string.punctuation\n",
        "    table = str.maketrans({key: \" \" for key in punctuations})\n",
        "    text = text.translate(table)\n",
        "    return text"
      ],
      "execution_count": null,
      "outputs": []
    },
    {
      "cell_type": "code",
      "source": [
        "###normalizando o texto\n",
        "df['text_norm'] = df['descricao_reclamacao'].apply(norm_tokenize)"
      ],
      "metadata": {
        "id": "WLUr2CuAgU8c"
      },
      "execution_count": null,
      "outputs": []
    },
    {
      "cell_type": "code",
      "source": [
        "# Criar um label map\n",
        "label_map = {label: idx for idx, label in enumerate(df['categoria'].unique())}\n",
        "df['labels'] = df['categoria'].map(label_map)\n",
        "\n",
        "df.head()"
      ],
      "metadata": {
        "colab": {
          "base_uri": "https://localhost:8080/",
          "height": 380
        },
        "id": "gaNQ_maZgbqm",
        "outputId": "8c05dcdf-fcc8-474c-d9a6-65e70ca0ded2"
      },
      "execution_count": null,
      "outputs": [
        {
          "output_type": "execute_result",
          "data": {
            "text/plain": [
              "   id_reclamacao              data_abertura  \\\n",
              "0        3229299  2019-05-01T12:00:00-05:00   \n",
              "1        3199379  2019-04-02T12:00:00-05:00   \n",
              "2        3233499  2019-05-06T12:00:00-05:00   \n",
              "3        3180294  2019-03-14T12:00:00-05:00   \n",
              "4        3224980  2019-04-27T12:00:00-05:00   \n",
              "\n",
              "                             categoria  \\\n",
              "0              Hipotecas / Empréstimos   \n",
              "1  Cartão de crédito / Cartão pré-pago   \n",
              "2  Cartão de crédito / Cartão pré-pago   \n",
              "3  Cartão de crédito / Cartão pré-pago   \n",
              "4           Serviços de conta bancária   \n",
              "\n",
              "                                descricao_reclamacao  \\\n",
              "0  Bom dia, meu nome é xxxx xxxx e agradeço se vo...   \n",
              "1  Atualizei meu cartão xxxx xxxx em xx/xx/2018 e...   \n",
              "2  O cartão Chase foi relatado em xx/xx/2019. No ...   \n",
              "3  Em xx/xx/2018, enquanto tentava reservar um ti...   \n",
              "4  Meu neto me dê cheque por {$ 1600,00} Eu depos...   \n",
              "\n",
              "                                           text_norm  labels  \n",
              "0  bom dia nome xxxx xxxx agradeço puder ajudar a...       0  \n",
              "1  atualizei cartão xxxx xxxx informado agente fe...       1  \n",
              "2  cartão chase relatado entanto pedido fraudulen...       1  \n",
              "3  enquanto tentava reservar ticket xxxx xxxx dep...       1  \n",
              "4  neto cheque depositei conta chase fundo limpo ...       2  "
            ],
            "text/html": [
              "\n",
              "  <div id=\"df-9a5ef9a1-97f9-4c93-9c1f-b13c9bbe2909\" class=\"colab-df-container\">\n",
              "    <div>\n",
              "<style scoped>\n",
              "    .dataframe tbody tr th:only-of-type {\n",
              "        vertical-align: middle;\n",
              "    }\n",
              "\n",
              "    .dataframe tbody tr th {\n",
              "        vertical-align: top;\n",
              "    }\n",
              "\n",
              "    .dataframe thead th {\n",
              "        text-align: right;\n",
              "    }\n",
              "</style>\n",
              "<table border=\"1\" class=\"dataframe\">\n",
              "  <thead>\n",
              "    <tr style=\"text-align: right;\">\n",
              "      <th></th>\n",
              "      <th>id_reclamacao</th>\n",
              "      <th>data_abertura</th>\n",
              "      <th>categoria</th>\n",
              "      <th>descricao_reclamacao</th>\n",
              "      <th>text_norm</th>\n",
              "      <th>labels</th>\n",
              "    </tr>\n",
              "  </thead>\n",
              "  <tbody>\n",
              "    <tr>\n",
              "      <th>0</th>\n",
              "      <td>3229299</td>\n",
              "      <td>2019-05-01T12:00:00-05:00</td>\n",
              "      <td>Hipotecas / Empréstimos</td>\n",
              "      <td>Bom dia, meu nome é xxxx xxxx e agradeço se vo...</td>\n",
              "      <td>bom dia nome xxxx xxxx agradeço puder ajudar a...</td>\n",
              "      <td>0</td>\n",
              "    </tr>\n",
              "    <tr>\n",
              "      <th>1</th>\n",
              "      <td>3199379</td>\n",
              "      <td>2019-04-02T12:00:00-05:00</td>\n",
              "      <td>Cartão de crédito / Cartão pré-pago</td>\n",
              "      <td>Atualizei meu cartão xxxx xxxx em xx/xx/2018 e...</td>\n",
              "      <td>atualizei cartão xxxx xxxx informado agente fe...</td>\n",
              "      <td>1</td>\n",
              "    </tr>\n",
              "    <tr>\n",
              "      <th>2</th>\n",
              "      <td>3233499</td>\n",
              "      <td>2019-05-06T12:00:00-05:00</td>\n",
              "      <td>Cartão de crédito / Cartão pré-pago</td>\n",
              "      <td>O cartão Chase foi relatado em xx/xx/2019. No ...</td>\n",
              "      <td>cartão chase relatado entanto pedido fraudulen...</td>\n",
              "      <td>1</td>\n",
              "    </tr>\n",
              "    <tr>\n",
              "      <th>3</th>\n",
              "      <td>3180294</td>\n",
              "      <td>2019-03-14T12:00:00-05:00</td>\n",
              "      <td>Cartão de crédito / Cartão pré-pago</td>\n",
              "      <td>Em xx/xx/2018, enquanto tentava reservar um ti...</td>\n",
              "      <td>enquanto tentava reservar ticket xxxx xxxx dep...</td>\n",
              "      <td>1</td>\n",
              "    </tr>\n",
              "    <tr>\n",
              "      <th>4</th>\n",
              "      <td>3224980</td>\n",
              "      <td>2019-04-27T12:00:00-05:00</td>\n",
              "      <td>Serviços de conta bancária</td>\n",
              "      <td>Meu neto me dê cheque por {$ 1600,00} Eu depos...</td>\n",
              "      <td>neto cheque depositei conta chase fundo limpo ...</td>\n",
              "      <td>2</td>\n",
              "    </tr>\n",
              "  </tbody>\n",
              "</table>\n",
              "</div>\n",
              "    <div class=\"colab-df-buttons\">\n",
              "\n",
              "  <div class=\"colab-df-container\">\n",
              "    <button class=\"colab-df-convert\" onclick=\"convertToInteractive('df-9a5ef9a1-97f9-4c93-9c1f-b13c9bbe2909')\"\n",
              "            title=\"Convert this dataframe to an interactive table.\"\n",
              "            style=\"display:none;\">\n",
              "\n",
              "  <svg xmlns=\"http://www.w3.org/2000/svg\" height=\"24px\" viewBox=\"0 -960 960 960\">\n",
              "    <path d=\"M120-120v-720h720v720H120Zm60-500h600v-160H180v160Zm220 220h160v-160H400v160Zm0 220h160v-160H400v160ZM180-400h160v-160H180v160Zm440 0h160v-160H620v160ZM180-180h160v-160H180v160Zm440 0h160v-160H620v160Z\"/>\n",
              "  </svg>\n",
              "    </button>\n",
              "\n",
              "  <style>\n",
              "    .colab-df-container {\n",
              "      display:flex;\n",
              "      gap: 12px;\n",
              "    }\n",
              "\n",
              "    .colab-df-convert {\n",
              "      background-color: #E8F0FE;\n",
              "      border: none;\n",
              "      border-radius: 50%;\n",
              "      cursor: pointer;\n",
              "      display: none;\n",
              "      fill: #1967D2;\n",
              "      height: 32px;\n",
              "      padding: 0 0 0 0;\n",
              "      width: 32px;\n",
              "    }\n",
              "\n",
              "    .colab-df-convert:hover {\n",
              "      background-color: #E2EBFA;\n",
              "      box-shadow: 0px 1px 2px rgba(60, 64, 67, 0.3), 0px 1px 3px 1px rgba(60, 64, 67, 0.15);\n",
              "      fill: #174EA6;\n",
              "    }\n",
              "\n",
              "    .colab-df-buttons div {\n",
              "      margin-bottom: 4px;\n",
              "    }\n",
              "\n",
              "    [theme=dark] .colab-df-convert {\n",
              "      background-color: #3B4455;\n",
              "      fill: #D2E3FC;\n",
              "    }\n",
              "\n",
              "    [theme=dark] .colab-df-convert:hover {\n",
              "      background-color: #434B5C;\n",
              "      box-shadow: 0px 1px 3px 1px rgba(0, 0, 0, 0.15);\n",
              "      filter: drop-shadow(0px 1px 2px rgba(0, 0, 0, 0.3));\n",
              "      fill: #FFFFFF;\n",
              "    }\n",
              "  </style>\n",
              "\n",
              "    <script>\n",
              "      const buttonEl =\n",
              "        document.querySelector('#df-9a5ef9a1-97f9-4c93-9c1f-b13c9bbe2909 button.colab-df-convert');\n",
              "      buttonEl.style.display =\n",
              "        google.colab.kernel.accessAllowed ? 'block' : 'none';\n",
              "\n",
              "      async function convertToInteractive(key) {\n",
              "        const element = document.querySelector('#df-9a5ef9a1-97f9-4c93-9c1f-b13c9bbe2909');\n",
              "        const dataTable =\n",
              "          await google.colab.kernel.invokeFunction('convertToInteractive',\n",
              "                                                    [key], {});\n",
              "        if (!dataTable) return;\n",
              "\n",
              "        const docLinkHtml = 'Like what you see? Visit the ' +\n",
              "          '<a target=\"_blank\" href=https://colab.research.google.com/notebooks/data_table.ipynb>data table notebook</a>'\n",
              "          + ' to learn more about interactive tables.';\n",
              "        element.innerHTML = '';\n",
              "        dataTable['output_type'] = 'display_data';\n",
              "        await google.colab.output.renderOutput(dataTable, element);\n",
              "        const docLink = document.createElement('div');\n",
              "        docLink.innerHTML = docLinkHtml;\n",
              "        element.appendChild(docLink);\n",
              "      }\n",
              "    </script>\n",
              "  </div>\n",
              "\n",
              "\n",
              "<div id=\"df-afd83fbb-ac88-4ec4-b9d6-22ae524ecf10\">\n",
              "  <button class=\"colab-df-quickchart\" onclick=\"quickchart('df-afd83fbb-ac88-4ec4-b9d6-22ae524ecf10')\"\n",
              "            title=\"Suggest charts\"\n",
              "            style=\"display:none;\">\n",
              "\n",
              "<svg xmlns=\"http://www.w3.org/2000/svg\" height=\"24px\"viewBox=\"0 0 24 24\"\n",
              "     width=\"24px\">\n",
              "    <g>\n",
              "        <path d=\"M19 3H5c-1.1 0-2 .9-2 2v14c0 1.1.9 2 2 2h14c1.1 0 2-.9 2-2V5c0-1.1-.9-2-2-2zM9 17H7v-7h2v7zm4 0h-2V7h2v10zm4 0h-2v-4h2v4z\"/>\n",
              "    </g>\n",
              "</svg>\n",
              "  </button>\n",
              "\n",
              "<style>\n",
              "  .colab-df-quickchart {\n",
              "      --bg-color: #E8F0FE;\n",
              "      --fill-color: #1967D2;\n",
              "      --hover-bg-color: #E2EBFA;\n",
              "      --hover-fill-color: #174EA6;\n",
              "      --disabled-fill-color: #AAA;\n",
              "      --disabled-bg-color: #DDD;\n",
              "  }\n",
              "\n",
              "  [theme=dark] .colab-df-quickchart {\n",
              "      --bg-color: #3B4455;\n",
              "      --fill-color: #D2E3FC;\n",
              "      --hover-bg-color: #434B5C;\n",
              "      --hover-fill-color: #FFFFFF;\n",
              "      --disabled-bg-color: #3B4455;\n",
              "      --disabled-fill-color: #666;\n",
              "  }\n",
              "\n",
              "  .colab-df-quickchart {\n",
              "    background-color: var(--bg-color);\n",
              "    border: none;\n",
              "    border-radius: 50%;\n",
              "    cursor: pointer;\n",
              "    display: none;\n",
              "    fill: var(--fill-color);\n",
              "    height: 32px;\n",
              "    padding: 0;\n",
              "    width: 32px;\n",
              "  }\n",
              "\n",
              "  .colab-df-quickchart:hover {\n",
              "    background-color: var(--hover-bg-color);\n",
              "    box-shadow: 0 1px 2px rgba(60, 64, 67, 0.3), 0 1px 3px 1px rgba(60, 64, 67, 0.15);\n",
              "    fill: var(--button-hover-fill-color);\n",
              "  }\n",
              "\n",
              "  .colab-df-quickchart-complete:disabled,\n",
              "  .colab-df-quickchart-complete:disabled:hover {\n",
              "    background-color: var(--disabled-bg-color);\n",
              "    fill: var(--disabled-fill-color);\n",
              "    box-shadow: none;\n",
              "  }\n",
              "\n",
              "  .colab-df-spinner {\n",
              "    border: 2px solid var(--fill-color);\n",
              "    border-color: transparent;\n",
              "    border-bottom-color: var(--fill-color);\n",
              "    animation:\n",
              "      spin 1s steps(1) infinite;\n",
              "  }\n",
              "\n",
              "  @keyframes spin {\n",
              "    0% {\n",
              "      border-color: transparent;\n",
              "      border-bottom-color: var(--fill-color);\n",
              "      border-left-color: var(--fill-color);\n",
              "    }\n",
              "    20% {\n",
              "      border-color: transparent;\n",
              "      border-left-color: var(--fill-color);\n",
              "      border-top-color: var(--fill-color);\n",
              "    }\n",
              "    30% {\n",
              "      border-color: transparent;\n",
              "      border-left-color: var(--fill-color);\n",
              "      border-top-color: var(--fill-color);\n",
              "      border-right-color: var(--fill-color);\n",
              "    }\n",
              "    40% {\n",
              "      border-color: transparent;\n",
              "      border-right-color: var(--fill-color);\n",
              "      border-top-color: var(--fill-color);\n",
              "    }\n",
              "    60% {\n",
              "      border-color: transparent;\n",
              "      border-right-color: var(--fill-color);\n",
              "    }\n",
              "    80% {\n",
              "      border-color: transparent;\n",
              "      border-right-color: var(--fill-color);\n",
              "      border-bottom-color: var(--fill-color);\n",
              "    }\n",
              "    90% {\n",
              "      border-color: transparent;\n",
              "      border-bottom-color: var(--fill-color);\n",
              "    }\n",
              "  }\n",
              "</style>\n",
              "\n",
              "  <script>\n",
              "    async function quickchart(key) {\n",
              "      const quickchartButtonEl =\n",
              "        document.querySelector('#' + key + ' button');\n",
              "      quickchartButtonEl.disabled = true;  // To prevent multiple clicks.\n",
              "      quickchartButtonEl.classList.add('colab-df-spinner');\n",
              "      try {\n",
              "        const charts = await google.colab.kernel.invokeFunction(\n",
              "            'suggestCharts', [key], {});\n",
              "      } catch (error) {\n",
              "        console.error('Error during call to suggestCharts:', error);\n",
              "      }\n",
              "      quickchartButtonEl.classList.remove('colab-df-spinner');\n",
              "      quickchartButtonEl.classList.add('colab-df-quickchart-complete');\n",
              "    }\n",
              "    (() => {\n",
              "      let quickchartButtonEl =\n",
              "        document.querySelector('#df-afd83fbb-ac88-4ec4-b9d6-22ae524ecf10 button');\n",
              "      quickchartButtonEl.style.display =\n",
              "        google.colab.kernel.accessAllowed ? 'block' : 'none';\n",
              "    })();\n",
              "  </script>\n",
              "</div>\n",
              "\n",
              "    </div>\n",
              "  </div>\n"
            ],
            "application/vnd.google.colaboratory.intrinsic+json": {
              "type": "dataframe",
              "variable_name": "df",
              "summary": "{\n  \"name\": \"df\",\n  \"rows\": 21072,\n  \"fields\": [\n    {\n      \"column\": \"id_reclamacao\",\n      \"properties\": {\n        \"dtype\": \"number\",\n        \"std\": 770932,\n        \"min\": 1290253,\n        \"max\": 4213007,\n        \"num_unique_values\": 21072,\n        \"samples\": [\n          2505290,\n          3625355,\n          1405636\n        ],\n        \"semantic_type\": \"\",\n        \"description\": \"\"\n      }\n    },\n    {\n      \"column\": \"data_abertura\",\n      \"properties\": {\n        \"dtype\": \"object\",\n        \"num_unique_values\": 2182,\n        \"samples\": [\n          \"2015-08-31T12:00:00-05:00\",\n          \"2017-09-12T12:00:00-05:00\",\n          \"2020-01-21T12:00:00-05:00\"\n        ],\n        \"semantic_type\": \"\",\n        \"description\": \"\"\n      }\n    },\n    {\n      \"column\": \"categoria\",\n      \"properties\": {\n        \"dtype\": \"category\",\n        \"num_unique_values\": 5,\n        \"samples\": [\n          \"Cart\\u00e3o de cr\\u00e9dito / Cart\\u00e3o pr\\u00e9-pago\",\n          \"Roubo / Relat\\u00f3rio de disputa\",\n          \"Servi\\u00e7os de conta banc\\u00e1ria\"\n        ],\n        \"semantic_type\": \"\",\n        \"description\": \"\"\n      }\n    },\n    {\n      \"column\": \"descricao_reclamacao\",\n      \"properties\": {\n        \"dtype\": \"string\",\n        \"num_unique_values\": 20903,\n        \"samples\": [\n          \"Em xxxx e xx/xx/xxxx, algu\\u00e9m havia tirado meu cart\\u00e3o da minha carteira enquanto eu estava em um hospital e subia meu cart\\u00e3o. Essa pessoa, xxxx xxxx xxxx, me convenceu a dar a ela minha procura\\u00e7\\u00e3o m\\u00e9dica apenas mais tarde para descobrir que era de fato uma procura\\u00e7\\u00e3o dur\\u00e1vel. Ela aumenta {$ 10000,00} d\\u00f3lares, que inclu\\u00edram alguns avan\\u00e7os em dinheiro. Assim que tomei conhecimento disso, entrei em contato com o Chase Bank. Eles inicialmente creditaram tudo de volta para mim. Em seguida, arquivei um relat\\u00f3rio policial no Departamento de Pol\\u00edcia XXXX do Arizona, caso # XXXX. Eles come\\u00e7aram a falar com a Sra. XXXX, que alimentou uma s\\u00e9rie de mentiras. Ela ent\\u00e3o lhes deu c\\u00f3pias dos advogados. Ent\\u00e3o Chase voltou e colocou todas essas acusa\\u00e7\\u00f5es de volta no meu cart\\u00e3o e disse por causa dos POA, eu fui respons\\u00e1vel pelas acusa\\u00e7\\u00f5es. Nesse momento, entrei em contato com meu advogado xxxx xxxx de xxxx xxxx xxxx. Enviamos uma peti\\u00e7\\u00e3o para anular os poderes de advogado devido \\u00e0 falta de capacidade do diretor. Em xx/xx/xxxx, ap\\u00f3s mais de um ano de batalha, o juiz emitiu uma ordem anulada de lado os poderes porque o principal n\\u00e3o tinha capacidade. No par\\u00e1grafo d, a p\\u00e1gina 2 afirma que i xxxx xxxx n\\u00e3o autorizou xxxx xxxx xxxx como um agente na minha conta banc\\u00e1ria Chase e a autoriza\\u00e7\\u00e3o \\u00e9 nula. Em seguida, entrei em contato com Chase, enviei o documento do tribunal e esperei at\\u00e9 saber que eles o haviam recebido. Quando liguei para Chase, o representante no departamento de fraude discutiu comigo que o POA era v\\u00e1lido, portanto, eles n\\u00e3o podiam aceit\\u00e1 -lo. Eu at\\u00e9 expliquei que todos os meus outros bancos e meus propriet\\u00e1rios de casas o aceitaram. Eles recusaram. Por isso, voltamos aos tribunais e, em XX/XX/XXXX, o par\\u00e1grafo d P\\u00e1gina 2 foi alterado para ler \\\"xxxx xxxx n\\u00e3o autorizou xxxx xxxx xxxx como agente em suas contas banc\\u00e1rias Chase e a autoriza\\u00e7\\u00e3o \\u00e9 inv\\u00e1lida e nula de todas as tempos devido \\u00e0 falta de capacidade dos peticion\\u00e1rios. Enviei essas informa\\u00e7\\u00f5es a um XXXX XXXX XXXX no Chase, que me aconselhou que ele era o supervisor do departamento de fraude. Ent\\u00e3o esperei algumas semanas para permitir que eles fizessem algumas pesquisas. ligou de volta e foi dito mais uma vez que os poderes de advogado eram v\\u00e1lidos no momento em que foram assinados para que n\\u00e3o me reembolsem de volta o que paguei e que ainda sou respons\\u00e1vel pelo saldo restante. Na semana passada, sob o conselho de Conselheiro jur\\u00eddico, enviei um e -mail ao CEO do Chase Bank. N\\u00e3o estou pedindo muito, apenas para ser reembolsado o que \\u00e9 devido a mim. E para que os funcion\\u00e1rios sejam treinados para que, quando houver um POA e seja governado nulo e vazio porque a pessoa foi considerada incapacitada, isso significa que elas eram n OT na mente certa para assinar qualquer documenta\\u00e7\\u00e3o legal. Estou lutando com isso h\\u00e1 2 anos e quero que isso seja resolvido da maneira que deve ser feita. Como afirmado anteriormente, meus outros bancos e meus seguros de propriet\\u00e1rios homenagearam os documentos judiciais legais sem qualquer d\\u00favida ou hesita\\u00e7\\u00e3o. Chase \\u00e9 o \\u00fanico banco que est\\u00e1 se recusando repetidamente a fazer a coisa certa. Al\\u00e9m disso, na semana passada, veio \\u00e0 tona que a Sra. XXXX teve 20 acusa\\u00e7\\u00f5es criminais trazidas contra ela em xxxx por fraude e planejamento para obter dinheiro do estado do Arizona e \\u00e9 um pouco estranho descobrir que um funcion\\u00e1rio da Chase em uma filial local foi agendado Para testemunhar como testemunha de personagem por ela. Isso me parece que ela trabalha com algu\\u00e9m na Chase h\\u00e1 anos e sabia exatamente o que fazer para tirar vantagem de mim durante um tempo muito vulner\\u00e1vel na minha vida.\",\n          \"O n\\u00famero da conta do empr\\u00e9stimo do Chase Auto XXX tinha um saldo listado de {$ 930,00} a partir de xx/xx/xxxx em um empr\\u00e9stimo que amadureceu o Onxx/XX/XXXX, que deveria ter sido o \\u00faltimo pagamento. As cota\\u00e7\\u00f5es de pagamento declaradas projetaram pagamentos de {$ 1200,00} se o pagamento foi feito em xx/xx/xxxx, e uma recompensa separada de {$ 1200.00} se paga em xx/xx/xxxx <p/> o empr\\u00e9stimo foi criado na concession\\u00e1ria com a Um pagamento mensal {$ 320,00}, mas uma amortiza\\u00e7\\u00e3o calculada mostra o pagamento de {$ 320,00} por m\\u00eas. Foi feita uma solicita\\u00e7\\u00e3o para perseguir o Auto Finance em 6 ocasi\\u00f5es diferentes para obter uma c\\u00f3pia de um cronograma oficial de amortiza\\u00e7\\u00e3o para confirmar os c\\u00e1lculos da aloca\\u00e7\\u00e3o de pagamento e juros durante a vida \\u00fatil do empr\\u00e9stimo. Cada c\\u00f3pia recebida tinha {$ 0,00} em cada linha e coluna para o principal, juros e saldo.\\r\\n<P/>\\r\\nEntrei em contato com o Chase para resolver o equil\\u00edbrio contingente de um cronograma de amortiza\\u00e7\\u00e3o. Desde ent\\u00e3o, eles enviaram o saldo da conta a uma ag\\u00eancia de cobran\\u00e7a que tentou liquidar o saldo, mas n\\u00e3o querendo corrigir os 3 Lates no meu relat\\u00f3rio de cr\\u00e9dito. Eu acredito que \\u00e9 a responsabilidade de Chase validar a d\\u00edvida que eles dizem que devo. Fiz todos os 60 pagamentos no meu empr\\u00e9stimo e n\\u00e3o devo ter um saldo pendente de mais de {$ 900,00}. O hist\\u00f3rico de pagamentos mostrar\\u00e1 que, mesmo em pagamentos posteriores, paguei mais do que o m\\u00ednimo e os pagamentos que estavam dentro do prazo.\",\n          \"O Sr. XXXX em XXXX abriu uma conta no JP Morgan Stanly Chase Bank (Chase) com o objetivo de receber dep\\u00f3sito direto atrav\\u00e9s de um ex -empregador XXXX XXXX localizado em XXXX XXXX XXXX XXXX XXXX, Oklahoma xxxx. \\u00c9 indiscut\\u00edvel que, neste per\\u00edodo (Chase), tivesse uma institui\\u00e7\\u00e3o financeira localizada em XXXX e XXXX, onde \\u00e9 o MRXXXX XXXX abriu uma conta banc\\u00e1ria. No entanto, o Sr. XXXX em torno do final do XXXX visitou o Banco Chase Localizado no XXXX XXX XXXX, XXXX, XXXX XXXX para abrir uma conta banc\\u00e1ria e perguntar sobre produtos, ou seja, cart\\u00f5es de cr\\u00e9dito garantidos. No entanto, Chase se recusou a permitir que o Sr. XXXX abra uma conta atribu\\u00edda a atividades suspeitas da XXXX. Posteriormente, atribu\\u00eddo ao manuseio da informa\\u00e7\\u00e3o da conta de email xxxx xxxx xxxx, o Sr. XXXX, foi Spear Phish, levando \\u00e0 apropria\\u00e7\\u00e3o indevida e viola\\u00e7\\u00e3o dos direitos de privacidade. Al\\u00e9m disso, devido ao manuseio da informa\\u00e7\\u00e3o, o Sr. XXXX foi planejado, resultando em um instrumento forjado sendo descontado inconscientemente. Consequentemente, depois de perceber a provoca\\u00e7\\u00e3o que estava ocorrendo nos bastidores, o Sr. XXXX apresentou um congelamento de seguran\\u00e7a atrav\\u00e9s do XXXX XXXX, dada a a\\u00e7\\u00e3o adversa tomada contra o Sr. XXXX como resultado de fraude. Posteriormente, depois de colocar um congelamento de seguran\\u00e7a atribu\\u00eddo ao roubo de identidade, o Chase Bank enviou a comunica\\u00e7\\u00e3o que oferecem ferramentas de monitoramento de identidade gratuitas do Sr. XXXX, mesmo que nenhuma acusa\\u00e7\\u00e3o tenha sido alegado contra a institui\\u00e7\\u00e3o financeira. Al\\u00e9m disso, a institui\\u00e7\\u00e3o financeira mencionou os motivos associados a reclama\\u00e7\\u00f5es apresentadas contra o XXXX XXXX XXXX, que resultou em phishing Spear. Al\\u00e9m disso, acredita -se que o Chase Bank e o xxxx xxxx xxxx conspirem contra o Sr. XXXX para negar a ele a oportunidade de estabelecer o valor do cr\\u00e9dito. Al\\u00e9m disso, Chase se recusou a permitir que o Sr. XXXX o direito de utilizar seu servi\\u00e7o mesmo depois que o Sr. XXXX tentou trazer a conta em boa posi\\u00e7\\u00e3o. Chase, apesar da atividade suspeita arquivada para fornecer ao consumidor um motivo por escrito sob a (FCRA) sobre sua decis\\u00e3o de permitir que o Sr. XXXX utilize seu produto. Al\\u00e9m disso, a determina\\u00e7\\u00e3o da institui\\u00e7\\u00e3o financeira para negar o acesso ao servi\\u00e7o banc\\u00e1rio foi desaprovar o acesso ao Sr. XXXX a ferramentas de constru\\u00e7\\u00e3o de cr\\u00e9dito, dada a mudan\\u00e7a de pol\\u00edtica que enfatiza o acesso a ferramentas de cr\\u00e9dito agora \\u00e9 baseado no consumidor que possui uma conta banc\\u00e1ria. Como o consumidor n\\u00e3o pode acessar longos uma conta com a institui\\u00e7\\u00e3o financeira, certas ferramentas de cr\\u00e9dito n\\u00e3o podem mais ser acessadas. Como XXXX XXXX, uma vez ignorante da institui\\u00e7\\u00e3o financeira, \\u00e9 uma farsa que XXXX-XXXX pode utilizar esses bancos para armazenar seu dinheiro para a utiliza\\u00e7\\u00e3o de fundos nos bancos caprichosos, apenas para ter esses fundos dispon\\u00edveis para outros de uma classifica\\u00e7\\u00e3o diferente para Empregue \\u00e0 sua disposi\\u00e7\\u00e3o, enquanto outro indiv\\u00edduo sem instru\\u00e7\\u00e3o ou n\\u00e3o tem conhecimento das oportunidades que essas ferramentas criam. Al\\u00e9m disso, o verdadeiro predador e criminosos subterf\\u00fage o processo de certos indiv\\u00edduos clandestinamente em posse de informa\\u00e7\\u00f5es privadas. Acredita -se que o Chase Bank seja parcialmente respons\\u00e1vel pelo phishing Spear, que levou \\u00e0 circunst\\u00e2ncia infeliz do Sr. XXXX. No entanto, o Chase Bank possu\\u00eda o poder de registrar acusa\\u00e7\\u00f5es criminais por fraude deposit\\u00e1ria, mas apresentou a busca dessas op\\u00e7\\u00f5es, mas, em vez disso, afiliados de persegui\\u00e7\\u00e3o sendo mantidos em um padr\\u00e3o mais alto usado de identificar roubo para desqualificar o Sr. XXXX. \\u00c9 evidente como essas institui\\u00e7\\u00f5es foram estabelecidas em mais de quatrocentos anos de compensa\\u00e7\\u00e3o, portanto, se o banco estiver preocupado com qualquer coisa que ocorrer, o assunto deveria ter sido lidar com jurisdi\\u00e7\\u00e3o, em vez de ser sutilada. \\u00c9 evidente que essas institui\\u00e7\\u00f5es negam xxxx xxxx as mesmas igualidades que desfrutam. Se a institui\\u00e7\\u00e3o estiver mantendo registros, as repara\\u00e7\\u00f5es de 400 anos de trabalho for\\u00e7ado devem ser exigidas. \\u00c9 muito incr\\u00e9dulo que as pessoas que trabalham nessas institui\\u00e7\\u00f5es ou at\\u00e9 oficiais de alto n\\u00edvel se apropriem de informa\\u00e7\\u00f5es e processem a porta fechada para negar as pessoas de uma certa ra\\u00e7a uma oportunidade de se redimir. De fato, o pr\\u00f3prio fundamento deste pa\\u00eds foi constru\\u00eddo com um XXXX de miseric\\u00f3rdia, por\\u00e9m, pelo amor \\u00e0 vingan\\u00e7a do dinheiro, \\u00e9 exigido sem justificar. Em conclus\\u00e3o, a reputa\\u00e7\\u00e3o Mrxxxx XXXX foi diminu\\u00edda e negou as mesmas igualidades que outras. Acredita -se que essas a\\u00e7\\u00f5es foram tomadas por causa de ra\\u00e7a, cor e religi\\u00e3o [sic] sofreram les\\u00f5es graves por causa das a\\u00e7\\u00f5es de Chase. Obrigada\"\n        ],\n        \"semantic_type\": \"\",\n        \"description\": \"\"\n      }\n    },\n    {\n      \"column\": \"text_norm\",\n      \"properties\": {\n        \"dtype\": \"string\",\n        \"num_unique_values\": 20867,\n        \"samples\": [\n          \"acredito big bank morgan chase nenhum adiamento assinado ainda mostrou nenhum tipo adiamento papelada corresponde declara\\u00e7\\u00e3o paguei\",\n          \"resumo r\\u00e1pido fundos transfer\\u00eancia fio aprox presos conta banc\\u00e1ria intermedi\\u00e1ria correspondente chase bank xxxx xxxx xxxx xxxx xxxx xxxx receptor acesso fundos preciso fundos reembolsados \\u200b\\u200bpara possa envi\\u00e1 los conta benefici\\u00e1rio receptor base xxxx xxxx xxxx xxxx tanto chase bank conta intermedi\\u00e1ria quais fundos enviados xxxx xxxx xxxx xxxx conta fundos recebidos direcionaram repetidamente afirmando lidarem falado funcion\\u00e1rios diferentes ambos bancos desde ningu\\u00e9m conseguiu fornecer etapas concretas desse processo fornecer qualquer assist\\u00eancia concreta detalhes fundos transferidos via xxxx xxxx xxxx rastreando xxxx xxxx xxxx conta xxxx xxxx conta remetente fundos levados conta chase conta intermedi\\u00e1ria banco receptor onde fundos depositados conta benefici\\u00e1rio receptor xxxx xxxx xxxx localizada xxxx pode iniciar transfer\\u00eancia chase conta correspondente rejeit\\u00e1 devolvida mim neste ponto fundos completamente presos conta banc\\u00e1ria correspondente empresas envolvidas etapas tomadas xxxx xxxx fundos transferidos remetente conta intermedi\\u00e1ria receptor atrav\\u00e9s servi\\u00e7o fia\\u00e7\\u00e3o xxxx xxxx afirmaram conseguem reembolsar fundos depositados chase bank conta intermedi\\u00e1ria receptor tanto departamento transfer\\u00eancia arame quanto departamento contabilidade continuam direcionando xxxx xxxx dizem nada possam fazer final xxxx xxxx conta remetente tanto departamento transfer\\u00eancia arame quanto departamento contabilidade continuam direcionando perseguir dizem nada possam fazer final recusaram procurar nome envolver teleconfer\\u00eancia funcion\\u00e1rios feito antes mim xxxx xxxx xxxx conta benefici\\u00e1ria receptor afirmaram t\\u00eam acesso conta intermedi\\u00e1ria chase possam iniciar rejeitar transfer\\u00eancia\",\n          \"atualmente jpmcb auto finance relatando relat\\u00f3rios consumidores relat\\u00f3rios atrasados \\u200b\\u200bde dias m\\u00eas durante per\\u00edodo problemas pagamento conta autom\\u00f3veis banco pois enviaram pagamento eletronicamente programado enviado correio sabia pagamento recebido contatado jpmcb auto pagamento vencido sinceramente pensei pagamento feito percebi fundos nunca limparam conta fiz pagamento imediatamente entrei contato atendimento cliente jpmcb auto descobrir nunca contatado discutir solu\\u00e7\\u00e3o assunto disseram reportaria pagamento perdido cr\\u00e9dito fato relatou dias atrasado hist\\u00f3rico pagamentos estelares dessa ocorr\\u00eancia atualmente ritmo pagar ve\\u00edculo cedo pois feito constantemente pagamentos principais empr\\u00e9stimo \\u00faltimos anos conclus\\u00e3o marca negativa atrasada dias cr\\u00e9dito afetando hist\\u00f3rico geral pagamentos impedindo comprar hipoteca dom\\u00e9stica sinto fortemente realmente injusto nunca contactado informado pagamento perdido enganado acreditar afetaria relat\\u00f3rios cr\\u00e9dito consumidor\"\n        ],\n        \"semantic_type\": \"\",\n        \"description\": \"\"\n      }\n    },\n    {\n      \"column\": \"labels\",\n      \"properties\": {\n        \"dtype\": \"number\",\n        \"std\": 1,\n        \"min\": 0,\n        \"max\": 4,\n        \"num_unique_values\": 5,\n        \"samples\": [\n          1,\n          4,\n          2\n        ],\n        \"semantic_type\": \"\",\n        \"description\": \"\"\n      }\n    }\n  ]\n}"
            }
          },
          "metadata": {},
          "execution_count": 64
        }
      ]
    },
    {
      "cell_type": "code",
      "source": [
        "# divisão da amostra entre treino e teste\n",
        "df_train, df_test = train_test_split(\n",
        "      df,\n",
        "      test_size = 0.25,\n",
        "      random_state = 42\n",
        "  )"
      ],
      "metadata": {
        "id": "ni8ndty-ggfu"
      },
      "execution_count": null,
      "outputs": []
    },
    {
      "cell_type": "code",
      "source": [
        "# Carregar o tokenizer e o modelo\n",
        "tokenizer = AutoTokenizer.from_pretrained('neuralmind/bert-base-portuguese-cased')\n",
        "model = AutoModelForSequenceClassification.from_pretrained('neuralmind/bert-base-portuguese-cased', num_labels=5)  # Defina o número de classes"
      ],
      "metadata": {
        "colab": {
          "base_uri": "https://localhost:8080/"
        },
        "id": "S_rz1_pqgkz0",
        "outputId": "9055bd99-9242-4597-918d-ecfbd31756c8"
      },
      "execution_count": null,
      "outputs": [
        {
          "output_type": "stream",
          "name": "stderr",
          "text": [
            "Some weights of BertForSequenceClassification were not initialized from the model checkpoint at neuralmind/bert-base-portuguese-cased and are newly initialized: ['classifier.bias', 'classifier.weight']\n",
            "You should probably TRAIN this model on a down-stream task to be able to use it for predictions and inference.\n"
          ]
        }
      ]
    },
    {
      "cell_type": "code",
      "source": [
        "### gerando encodings de treino e teste\n",
        "train_encodings = tokenizer(list(df_train['text_norm']), truncation=True, padding=True, max_length=512, return_tensors='pt')\n",
        "eval_encodings = tokenizer(list(df_test['text_norm']), truncation=True, padding=True, max_length=512, return_tensors='pt')"
      ],
      "metadata": {
        "id": "NUQZKpiOgoox"
      },
      "execution_count": null,
      "outputs": []
    },
    {
      "cell_type": "code",
      "source": [
        "### criando tensores de labels de treino e teste\n",
        "train_labels = torch.tensor(list(df_train['labels']))\n",
        "eval_labels = torch.tensor(list(df_test['labels']))"
      ],
      "metadata": {
        "id": "P08bc6cIgvaD"
      },
      "execution_count": null,
      "outputs": []
    },
    {
      "cell_type": "code",
      "source": [
        "### gerando dataset de treino e teste\n",
        "train_dataset = CustomDataset(train_encodings, train_labels)\n",
        "eval_dataset = CustomDataset(eval_encodings, eval_labels)"
      ],
      "metadata": {
        "id": "egMZvpbJg4Sc"
      },
      "execution_count": null,
      "outputs": []
    },
    {
      "cell_type": "code",
      "source": [
        "# Mover o modelo para a GPU, se disponível\n",
        "device = torch.device('cuda' if torch.cuda.is_available() else 'cpu')\n",
        "model.to(device)\n",
        "\n",
        "# Definir os argumentos de treinamento\n",
        "training_args = TrainingArguments(\n",
        "    per_device_train_batch_size=32,\n",
        "    per_device_eval_batch_size=16,\n",
        "    num_train_epochs=3,\n",
        "    logging_dir='./logs',\n",
        "    output_dir='./results',\n",
        "    overwrite_output_dir=True\n",
        ")\n",
        "\n",
        "# Criar um trainer para facilitar o treinamento\n",
        "trainer = Trainer(\n",
        "    model=model,\n",
        "    args=training_args,\n",
        "    train_dataset=train_dataset,  # Dataset de treinamento\n",
        "    eval_dataset=eval_dataset,     # Dataset de avaliação\n",
        "    compute_metrics=compute_metrics\n",
        ")"
      ],
      "metadata": {
        "id": "6YqBx5evg-VL"
      },
      "execution_count": null,
      "outputs": []
    },
    {
      "cell_type": "code",
      "source": [
        "### treinar modelo\n",
        "trainer.train()"
      ],
      "metadata": {
        "id": "S7rqYyehhBhy"
      },
      "execution_count": null,
      "outputs": []
    },
    {
      "cell_type": "code",
      "source": [
        "### avaliar resultado\n",
        "eval_results = trainer.evaluate()\n",
        "\n",
        "\n",
        "# Exibir as métricas\n",
        "print(\"Evaluation results:\")\n",
        "for key, value in eval_results.items():\n",
        "    print(f\"  {key}: {value:.4f}\")"
      ],
      "metadata": {
        "id": "D9lwRRtnhFrE"
      },
      "execution_count": null,
      "outputs": []
    },
    {
      "cell_type": "code",
      "source": [
        "# Salvar o modelo treinado\n",
        "model_save_path = \"./saved_model\"\n",
        "model.save_pretrained(model_save_path)\n",
        "\n",
        "# Salvar o tokenizer\n",
        "tokenizer.save_pretrained(model_save_path)\n",
        "\n",
        "print(f\"Modelo e tokenizer salvos em {model_save_path}\")"
      ],
      "metadata": {
        "id": "1Em8kvMOhLDb"
      },
      "execution_count": null,
      "outputs": []
    }
  ]
}